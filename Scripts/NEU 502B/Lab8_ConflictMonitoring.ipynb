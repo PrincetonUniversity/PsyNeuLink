{
  "nbformat": 4,
  "nbformat_minor": 0,
  "metadata": {
    "colab": {
      "name": "Lab8_ConflictMonitoring.ipynb",
      "provenance": [],
      "collapsed_sections": []
    },
    "kernelspec": {
      "display_name": "Python 3",
      "language": "python",
      "name": "python3"
    },
    "language_info": {
      "codemirror_mode": {
        "name": "ipython",
        "version": 3
      },
      "file_extension": ".py",
      "mimetype": "text/x-python",
      "name": "python",
      "nbconvert_exporter": "python",
      "pygments_lexer": "ipython3",
      "version": "3.6.7"
    },
    "widgets": {
      "application/vnd.jupyter.widget-state+json": {
        "5c026164aed04562af7ec42677a3f412": {
          "model_module": "@jupyter-widgets/output",
          "model_name": "OutputModel",
          "state": {
            "_view_name": "OutputView",
            "msg_id": "",
            "_dom_classes": [],
            "_model_name": "OutputModel",
            "outputs": [
              {
                "output_type": "display_data",
                "metadata": {
                  "tags": []
                },
                "text/html": "<pre style=\"white-space:pre;overflow-x:auto;line-height:normal;font-family:Menlo,'DejaVu Sans Mono',consolas,'Courier New',monospace\"></pre>\n",
                "text/plain": "<rich.jupyter.JupyterRenderable at 0x7fe5324e0850>"
              }
            ],
            "_view_module": "@jupyter-widgets/output",
            "_model_module_version": "1.0.0",
            "_view_count": null,
            "_view_module_version": "1.0.0",
            "layout": "IPY_MODEL_cecb074935aa452ea6a9c64f0dbbc1d9",
            "_model_module": "@jupyter-widgets/output"
          }
        },
        "cecb074935aa452ea6a9c64f0dbbc1d9": {
          "model_module": "@jupyter-widgets/base",
          "model_name": "LayoutModel",
          "state": {
            "_view_name": "LayoutView",
            "grid_template_rows": null,
            "right": null,
            "justify_content": null,
            "_view_module": "@jupyter-widgets/base",
            "overflow": null,
            "_model_module_version": "1.2.0",
            "_view_count": null,
            "flex_flow": null,
            "width": null,
            "min_width": null,
            "border": null,
            "align_items": null,
            "bottom": null,
            "_model_module": "@jupyter-widgets/base",
            "top": null,
            "grid_column": null,
            "overflow_y": null,
            "overflow_x": null,
            "grid_auto_flow": null,
            "grid_area": null,
            "grid_template_columns": null,
            "flex": null,
            "_model_name": "LayoutModel",
            "justify_items": null,
            "grid_row": null,
            "max_height": null,
            "align_content": null,
            "visibility": null,
            "align_self": null,
            "height": null,
            "min_height": null,
            "padding": null,
            "grid_auto_rows": null,
            "grid_gap": null,
            "max_width": null,
            "order": null,
            "_view_module_version": "1.2.0",
            "grid_template_areas": null,
            "object_position": null,
            "object_fit": null,
            "grid_auto_columns": null,
            "margin": null,
            "display": null,
            "left": null
          }
        },
        "681cd117694a442e821b056b422ab6e0": {
          "model_module": "@jupyter-widgets/output",
          "model_name": "OutputModel",
          "state": {
            "_view_name": "OutputView",
            "msg_id": "",
            "_dom_classes": [],
            "_model_name": "OutputModel",
            "outputs": [
              {
                "output_type": "display_data",
                "metadata": {
                  "tags": []
                },
                "text/html": "<pre style=\"white-space:pre;overflow-x:auto;line-height:normal;font-family:Menlo,'DejaVu Sans Mono',consolas,'Courier New',monospace\"></pre>\n",
                "text/plain": "<rich.jupyter.JupyterRenderable at 0x7fe5323f9210>"
              }
            ],
            "_view_module": "@jupyter-widgets/output",
            "_model_module_version": "1.0.0",
            "_view_count": null,
            "_view_module_version": "1.0.0",
            "layout": "IPY_MODEL_482156be987e4c6f83cbbad847bb2336",
            "_model_module": "@jupyter-widgets/output"
          }
        },
        "482156be987e4c6f83cbbad847bb2336": {
          "model_module": "@jupyter-widgets/base",
          "model_name": "LayoutModel",
          "state": {
            "_view_name": "LayoutView",
            "grid_template_rows": null,
            "right": null,
            "justify_content": null,
            "_view_module": "@jupyter-widgets/base",
            "overflow": null,
            "_model_module_version": "1.2.0",
            "_view_count": null,
            "flex_flow": null,
            "width": null,
            "min_width": null,
            "border": null,
            "align_items": null,
            "bottom": null,
            "_model_module": "@jupyter-widgets/base",
            "top": null,
            "grid_column": null,
            "overflow_y": null,
            "overflow_x": null,
            "grid_auto_flow": null,
            "grid_area": null,
            "grid_template_columns": null,
            "flex": null,
            "_model_name": "LayoutModel",
            "justify_items": null,
            "grid_row": null,
            "max_height": null,
            "align_content": null,
            "visibility": null,
            "align_self": null,
            "height": null,
            "min_height": null,
            "padding": null,
            "grid_auto_rows": null,
            "grid_gap": null,
            "max_width": null,
            "order": null,
            "_view_module_version": "1.2.0",
            "grid_template_areas": null,
            "object_position": null,
            "object_fit": null,
            "grid_auto_columns": null,
            "margin": null,
            "display": null,
            "left": null
          }
        },
        "0d1fb4902fd54a75be120979f7903818": {
          "model_module": "@jupyter-widgets/output",
          "model_name": "OutputModel",
          "state": {
            "_view_name": "OutputView",
            "msg_id": "",
            "_dom_classes": [],
            "_model_name": "OutputModel",
            "outputs": [
              {
                "output_type": "display_data",
                "metadata": {
                  "tags": []
                },
                "text/html": "<pre style=\"white-space:pre;overflow-x:auto;line-height:normal;font-family:Menlo,'DejaVu Sans Mono',consolas,'Courier New',monospace\"></pre>\n",
                "text/plain": "<rich.jupyter.JupyterRenderable at 0x7fe5323f9b50>"
              }
            ],
            "_view_module": "@jupyter-widgets/output",
            "_model_module_version": "1.0.0",
            "_view_count": null,
            "_view_module_version": "1.0.0",
            "layout": "IPY_MODEL_6519ffb2af2f405eaa3c6112542b2de9",
            "_model_module": "@jupyter-widgets/output"
          }
        },
        "6519ffb2af2f405eaa3c6112542b2de9": {
          "model_module": "@jupyter-widgets/base",
          "model_name": "LayoutModel",
          "state": {
            "_view_name": "LayoutView",
            "grid_template_rows": null,
            "right": null,
            "justify_content": null,
            "_view_module": "@jupyter-widgets/base",
            "overflow": null,
            "_model_module_version": "1.2.0",
            "_view_count": null,
            "flex_flow": null,
            "width": null,
            "min_width": null,
            "border": null,
            "align_items": null,
            "bottom": null,
            "_model_module": "@jupyter-widgets/base",
            "top": null,
            "grid_column": null,
            "overflow_y": null,
            "overflow_x": null,
            "grid_auto_flow": null,
            "grid_area": null,
            "grid_template_columns": null,
            "flex": null,
            "_model_name": "LayoutModel",
            "justify_items": null,
            "grid_row": null,
            "max_height": null,
            "align_content": null,
            "visibility": null,
            "align_self": null,
            "height": null,
            "min_height": null,
            "padding": null,
            "grid_auto_rows": null,
            "grid_gap": null,
            "max_width": null,
            "order": null,
            "_view_module_version": "1.2.0",
            "grid_template_areas": null,
            "object_position": null,
            "object_fit": null,
            "grid_auto_columns": null,
            "margin": null,
            "display": null,
            "left": null
          }
        },
        "02b9d37e3081435bbb6afe80f97a2738": {
          "model_module": "@jupyter-widgets/output",
          "model_name": "OutputModel",
          "state": {
            "_view_name": "OutputView",
            "msg_id": "",
            "_dom_classes": [],
            "_model_name": "OutputModel",
            "outputs": [
              {
                "output_type": "display_data",
                "metadata": {
                  "tags": []
                },
                "text/html": "<pre style=\"white-space:pre;overflow-x:auto;line-height:normal;font-family:Menlo,'DejaVu Sans Mono',consolas,'Courier New',monospace\"></pre>\n",
                "text/plain": "<rich.jupyter.JupyterRenderable at 0x7fe53221f310>"
              }
            ],
            "_view_module": "@jupyter-widgets/output",
            "_model_module_version": "1.0.0",
            "_view_count": null,
            "_view_module_version": "1.0.0",
            "layout": "IPY_MODEL_b2db881fba9e40c9a56f5e8535c87551",
            "_model_module": "@jupyter-widgets/output"
          }
        },
        "b2db881fba9e40c9a56f5e8535c87551": {
          "model_module": "@jupyter-widgets/base",
          "model_name": "LayoutModel",
          "state": {
            "_view_name": "LayoutView",
            "grid_template_rows": null,
            "right": null,
            "justify_content": null,
            "_view_module": "@jupyter-widgets/base",
            "overflow": null,
            "_model_module_version": "1.2.0",
            "_view_count": null,
            "flex_flow": null,
            "width": null,
            "min_width": null,
            "border": null,
            "align_items": null,
            "bottom": null,
            "_model_module": "@jupyter-widgets/base",
            "top": null,
            "grid_column": null,
            "overflow_y": null,
            "overflow_x": null,
            "grid_auto_flow": null,
            "grid_area": null,
            "grid_template_columns": null,
            "flex": null,
            "_model_name": "LayoutModel",
            "justify_items": null,
            "grid_row": null,
            "max_height": null,
            "align_content": null,
            "visibility": null,
            "align_self": null,
            "height": null,
            "min_height": null,
            "padding": null,
            "grid_auto_rows": null,
            "grid_gap": null,
            "max_width": null,
            "order": null,
            "_view_module_version": "1.2.0",
            "grid_template_areas": null,
            "object_position": null,
            "object_fit": null,
            "grid_auto_columns": null,
            "margin": null,
            "display": null,
            "left": null
          }
        },
        "00d01b1cf32548d2b729516d37edb6b4": {
          "model_module": "@jupyter-widgets/output",
          "model_name": "OutputModel",
          "state": {
            "_view_name": "OutputView",
            "msg_id": "",
            "_dom_classes": [],
            "_model_name": "OutputModel",
            "outputs": [
              {
                "output_type": "display_data",
                "metadata": {
                  "tags": []
                },
                "text/html": "<pre style=\"white-space:pre;overflow-x:auto;line-height:normal;font-family:Menlo,'DejaVu Sans Mono',consolas,'Courier New',monospace\"></pre>\n",
                "text/plain": "<rich.jupyter.JupyterRenderable at 0x7fe53216b990>"
              }
            ],
            "_view_module": "@jupyter-widgets/output",
            "_model_module_version": "1.0.0",
            "_view_count": null,
            "_view_module_version": "1.0.0",
            "layout": "IPY_MODEL_6a39695e58534d7c80dde8bf2174c70a",
            "_model_module": "@jupyter-widgets/output"
          }
        },
        "6a39695e58534d7c80dde8bf2174c70a": {
          "model_module": "@jupyter-widgets/base",
          "model_name": "LayoutModel",
          "state": {
            "_view_name": "LayoutView",
            "grid_template_rows": null,
            "right": null,
            "justify_content": null,
            "_view_module": "@jupyter-widgets/base",
            "overflow": null,
            "_model_module_version": "1.2.0",
            "_view_count": null,
            "flex_flow": null,
            "width": null,
            "min_width": null,
            "border": null,
            "align_items": null,
            "bottom": null,
            "_model_module": "@jupyter-widgets/base",
            "top": null,
            "grid_column": null,
            "overflow_y": null,
            "overflow_x": null,
            "grid_auto_flow": null,
            "grid_area": null,
            "grid_template_columns": null,
            "flex": null,
            "_model_name": "LayoutModel",
            "justify_items": null,
            "grid_row": null,
            "max_height": null,
            "align_content": null,
            "visibility": null,
            "align_self": null,
            "height": null,
            "min_height": null,
            "padding": null,
            "grid_auto_rows": null,
            "grid_gap": null,
            "max_width": null,
            "order": null,
            "_view_module_version": "1.2.0",
            "grid_template_areas": null,
            "object_position": null,
            "object_fit": null,
            "grid_auto_columns": null,
            "margin": null,
            "display": null,
            "left": null
          }
        },
        "bd4c8ca26c5f45f098c24e8ae68ffb09": {
          "model_module": "@jupyter-widgets/output",
          "model_name": "OutputModel",
          "state": {
            "_view_name": "OutputView",
            "msg_id": "",
            "_dom_classes": [],
            "_model_name": "OutputModel",
            "outputs": [
              {
                "output_type": "display_data",
                "metadata": {
                  "tags": []
                },
                "text/html": "<pre style=\"white-space:pre;overflow-x:auto;line-height:normal;font-family:Menlo,'DejaVu Sans Mono',consolas,'Courier New',monospace\"></pre>\n",
                "text/plain": "<rich.jupyter.JupyterRenderable at 0x7fe532097410>"
              }
            ],
            "_view_module": "@jupyter-widgets/output",
            "_model_module_version": "1.0.0",
            "_view_count": null,
            "_view_module_version": "1.0.0",
            "layout": "IPY_MODEL_a0d5e38a953c470f9631f8bde7e2b819",
            "_model_module": "@jupyter-widgets/output"
          }
        },
        "a0d5e38a953c470f9631f8bde7e2b819": {
          "model_module": "@jupyter-widgets/base",
          "model_name": "LayoutModel",
          "state": {
            "_view_name": "LayoutView",
            "grid_template_rows": null,
            "right": null,
            "justify_content": null,
            "_view_module": "@jupyter-widgets/base",
            "overflow": null,
            "_model_module_version": "1.2.0",
            "_view_count": null,
            "flex_flow": null,
            "width": null,
            "min_width": null,
            "border": null,
            "align_items": null,
            "bottom": null,
            "_model_module": "@jupyter-widgets/base",
            "top": null,
            "grid_column": null,
            "overflow_y": null,
            "overflow_x": null,
            "grid_auto_flow": null,
            "grid_area": null,
            "grid_template_columns": null,
            "flex": null,
            "_model_name": "LayoutModel",
            "justify_items": null,
            "grid_row": null,
            "max_height": null,
            "align_content": null,
            "visibility": null,
            "align_self": null,
            "height": null,
            "min_height": null,
            "padding": null,
            "grid_auto_rows": null,
            "grid_gap": null,
            "max_width": null,
            "order": null,
            "_view_module_version": "1.2.0",
            "grid_template_areas": null,
            "object_position": null,
            "object_fit": null,
            "grid_auto_columns": null,
            "margin": null,
            "display": null,
            "left": null
          }
        },
        "4cf181314c6640bf81155c1c7eb1f771": {
          "model_module": "@jupyter-widgets/output",
          "model_name": "OutputModel",
          "state": {
            "_view_name": "OutputView",
            "msg_id": "",
            "_dom_classes": [],
            "_model_name": "OutputModel",
            "outputs": [
              {
                "output_type": "display_data",
                "metadata": {
                  "tags": []
                },
                "text/html": "<pre style=\"white-space:pre;overflow-x:auto;line-height:normal;font-family:Menlo,'DejaVu Sans Mono',consolas,'Courier New',monospace\"></pre>\n",
                "text/plain": "<rich.jupyter.JupyterRenderable at 0x7fe5273c31d0>"
              }
            ],
            "_view_module": "@jupyter-widgets/output",
            "_model_module_version": "1.0.0",
            "_view_count": null,
            "_view_module_version": "1.0.0",
            "layout": "IPY_MODEL_85b0d92da1994bd8a65ecb59122711c8",
            "_model_module": "@jupyter-widgets/output"
          }
        },
        "85b0d92da1994bd8a65ecb59122711c8": {
          "model_module": "@jupyter-widgets/base",
          "model_name": "LayoutModel",
          "state": {
            "_view_name": "LayoutView",
            "grid_template_rows": null,
            "right": null,
            "justify_content": null,
            "_view_module": "@jupyter-widgets/base",
            "overflow": null,
            "_model_module_version": "1.2.0",
            "_view_count": null,
            "flex_flow": null,
            "width": null,
            "min_width": null,
            "border": null,
            "align_items": null,
            "bottom": null,
            "_model_module": "@jupyter-widgets/base",
            "top": null,
            "grid_column": null,
            "overflow_y": null,
            "overflow_x": null,
            "grid_auto_flow": null,
            "grid_area": null,
            "grid_template_columns": null,
            "flex": null,
            "_model_name": "LayoutModel",
            "justify_items": null,
            "grid_row": null,
            "max_height": null,
            "align_content": null,
            "visibility": null,
            "align_self": null,
            "height": null,
            "min_height": null,
            "padding": null,
            "grid_auto_rows": null,
            "grid_gap": null,
            "max_width": null,
            "order": null,
            "_view_module_version": "1.2.0",
            "grid_template_areas": null,
            "object_position": null,
            "object_fit": null,
            "grid_auto_columns": null,
            "margin": null,
            "display": null,
            "left": null
          }
        },
        "c27919042ef54bcb8fce757c0bea17b0": {
          "model_module": "@jupyter-widgets/output",
          "model_name": "OutputModel",
          "state": {
            "_view_name": "OutputView",
            "msg_id": "",
            "_dom_classes": [],
            "_model_name": "OutputModel",
            "outputs": [
              {
                "output_type": "display_data",
                "metadata": {
                  "tags": []
                },
                "text/html": "<pre style=\"white-space:pre;overflow-x:auto;line-height:normal;font-family:Menlo,'DejaVu Sans Mono',consolas,'Courier New',monospace\"></pre>\n",
                "text/plain": "<rich.jupyter.JupyterRenderable at 0x7fe527349e50>"
              }
            ],
            "_view_module": "@jupyter-widgets/output",
            "_model_module_version": "1.0.0",
            "_view_count": null,
            "_view_module_version": "1.0.0",
            "layout": "IPY_MODEL_791508074bbd40d3a8c87339336e9c3c",
            "_model_module": "@jupyter-widgets/output"
          }
        },
        "791508074bbd40d3a8c87339336e9c3c": {
          "model_module": "@jupyter-widgets/base",
          "model_name": "LayoutModel",
          "state": {
            "_view_name": "LayoutView",
            "grid_template_rows": null,
            "right": null,
            "justify_content": null,
            "_view_module": "@jupyter-widgets/base",
            "overflow": null,
            "_model_module_version": "1.2.0",
            "_view_count": null,
            "flex_flow": null,
            "width": null,
            "min_width": null,
            "border": null,
            "align_items": null,
            "bottom": null,
            "_model_module": "@jupyter-widgets/base",
            "top": null,
            "grid_column": null,
            "overflow_y": null,
            "overflow_x": null,
            "grid_auto_flow": null,
            "grid_area": null,
            "grid_template_columns": null,
            "flex": null,
            "_model_name": "LayoutModel",
            "justify_items": null,
            "grid_row": null,
            "max_height": null,
            "align_content": null,
            "visibility": null,
            "align_self": null,
            "height": null,
            "min_height": null,
            "padding": null,
            "grid_auto_rows": null,
            "grid_gap": null,
            "max_width": null,
            "order": null,
            "_view_module_version": "1.2.0",
            "grid_template_areas": null,
            "object_position": null,
            "object_fit": null,
            "grid_auto_columns": null,
            "margin": null,
            "display": null,
            "left": null
          }
        },
        "7906ce8cdd4049a88762051becf9b24e": {
          "model_module": "@jupyter-widgets/output",
          "model_name": "OutputModel",
          "state": {
            "_view_name": "OutputView",
            "msg_id": "",
            "_dom_classes": [],
            "_model_name": "OutputModel",
            "outputs": [
              {
                "output_type": "display_data",
                "metadata": {
                  "tags": []
                },
                "text/html": "<pre style=\"white-space:pre;overflow-x:auto;line-height:normal;font-family:Menlo,'DejaVu Sans Mono',consolas,'Courier New',monospace\"></pre>\n",
                "text/plain": "<rich.jupyter.JupyterRenderable at 0x7fe527303ad0>"
              }
            ],
            "_view_module": "@jupyter-widgets/output",
            "_model_module_version": "1.0.0",
            "_view_count": null,
            "_view_module_version": "1.0.0",
            "layout": "IPY_MODEL_5fd5aaac1a02492db5d2ff9ad5f3207b",
            "_model_module": "@jupyter-widgets/output"
          }
        },
        "5fd5aaac1a02492db5d2ff9ad5f3207b": {
          "model_module": "@jupyter-widgets/base",
          "model_name": "LayoutModel",
          "state": {
            "_view_name": "LayoutView",
            "grid_template_rows": null,
            "right": null,
            "justify_content": null,
            "_view_module": "@jupyter-widgets/base",
            "overflow": null,
            "_model_module_version": "1.2.0",
            "_view_count": null,
            "flex_flow": null,
            "width": null,
            "min_width": null,
            "border": null,
            "align_items": null,
            "bottom": null,
            "_model_module": "@jupyter-widgets/base",
            "top": null,
            "grid_column": null,
            "overflow_y": null,
            "overflow_x": null,
            "grid_auto_flow": null,
            "grid_area": null,
            "grid_template_columns": null,
            "flex": null,
            "_model_name": "LayoutModel",
            "justify_items": null,
            "grid_row": null,
            "max_height": null,
            "align_content": null,
            "visibility": null,
            "align_self": null,
            "height": null,
            "min_height": null,
            "padding": null,
            "grid_auto_rows": null,
            "grid_gap": null,
            "max_width": null,
            "order": null,
            "_view_module_version": "1.2.0",
            "grid_template_areas": null,
            "object_position": null,
            "object_fit": null,
            "grid_auto_columns": null,
            "margin": null,
            "display": null,
            "left": null
          }
        },
        "4bf751f485b2459d8dbecb867dbdf4ac": {
          "model_module": "@jupyter-widgets/output",
          "model_name": "OutputModel",
          "state": {
            "_view_name": "OutputView",
            "msg_id": "",
            "_dom_classes": [],
            "_model_name": "OutputModel",
            "outputs": [
              {
                "output_type": "display_data",
                "metadata": {
                  "tags": []
                },
                "text/html": "<pre style=\"white-space:pre;overflow-x:auto;line-height:normal;font-family:Menlo,'DejaVu Sans Mono',consolas,'Courier New',monospace\"></pre>\n",
                "text/plain": "<rich.jupyter.JupyterRenderable at 0x7fe532ae23d0>"
              }
            ],
            "_view_module": "@jupyter-widgets/output",
            "_model_module_version": "1.0.0",
            "_view_count": null,
            "_view_module_version": "1.0.0",
            "layout": "IPY_MODEL_96111f6b631f4a2aa1b3d0b49092c562",
            "_model_module": "@jupyter-widgets/output"
          }
        },
        "96111f6b631f4a2aa1b3d0b49092c562": {
          "model_module": "@jupyter-widgets/base",
          "model_name": "LayoutModel",
          "state": {
            "_view_name": "LayoutView",
            "grid_template_rows": null,
            "right": null,
            "justify_content": null,
            "_view_module": "@jupyter-widgets/base",
            "overflow": null,
            "_model_module_version": "1.2.0",
            "_view_count": null,
            "flex_flow": null,
            "width": null,
            "min_width": null,
            "border": null,
            "align_items": null,
            "bottom": null,
            "_model_module": "@jupyter-widgets/base",
            "top": null,
            "grid_column": null,
            "overflow_y": null,
            "overflow_x": null,
            "grid_auto_flow": null,
            "grid_area": null,
            "grid_template_columns": null,
            "flex": null,
            "_model_name": "LayoutModel",
            "justify_items": null,
            "grid_row": null,
            "max_height": null,
            "align_content": null,
            "visibility": null,
            "align_self": null,
            "height": null,
            "min_height": null,
            "padding": null,
            "grid_auto_rows": null,
            "grid_gap": null,
            "max_width": null,
            "order": null,
            "_view_module_version": "1.2.0",
            "grid_template_areas": null,
            "object_position": null,
            "object_fit": null,
            "grid_auto_columns": null,
            "margin": null,
            "display": null,
            "left": null
          }
        },
        "9d4b0775575e4d7fb2ac25d43d7d91d7": {
          "model_module": "@jupyter-widgets/output",
          "model_name": "OutputModel",
          "state": {
            "_view_name": "OutputView",
            "msg_id": "",
            "_dom_classes": [],
            "_model_name": "OutputModel",
            "outputs": [
              {
                "output_type": "display_data",
                "metadata": {
                  "tags": []
                },
                "text/html": "<pre style=\"white-space:pre;overflow-x:auto;line-height:normal;font-family:Menlo,'DejaVu Sans Mono',consolas,'Courier New',monospace\"></pre>\n",
                "text/plain": "<rich.jupyter.JupyterRenderable at 0x7fe5288d6710>"
              }
            ],
            "_view_module": "@jupyter-widgets/output",
            "_model_module_version": "1.0.0",
            "_view_count": null,
            "_view_module_version": "1.0.0",
            "layout": "IPY_MODEL_28a77043de7b49949080316d740c469b",
            "_model_module": "@jupyter-widgets/output"
          }
        },
        "28a77043de7b49949080316d740c469b": {
          "model_module": "@jupyter-widgets/base",
          "model_name": "LayoutModel",
          "state": {
            "_view_name": "LayoutView",
            "grid_template_rows": null,
            "right": null,
            "justify_content": null,
            "_view_module": "@jupyter-widgets/base",
            "overflow": null,
            "_model_module_version": "1.2.0",
            "_view_count": null,
            "flex_flow": null,
            "width": null,
            "min_width": null,
            "border": null,
            "align_items": null,
            "bottom": null,
            "_model_module": "@jupyter-widgets/base",
            "top": null,
            "grid_column": null,
            "overflow_y": null,
            "overflow_x": null,
            "grid_auto_flow": null,
            "grid_area": null,
            "grid_template_columns": null,
            "flex": null,
            "_model_name": "LayoutModel",
            "justify_items": null,
            "grid_row": null,
            "max_height": null,
            "align_content": null,
            "visibility": null,
            "align_self": null,
            "height": null,
            "min_height": null,
            "padding": null,
            "grid_auto_rows": null,
            "grid_gap": null,
            "max_width": null,
            "order": null,
            "_view_module_version": "1.2.0",
            "grid_template_areas": null,
            "object_position": null,
            "object_fit": null,
            "grid_auto_columns": null,
            "margin": null,
            "display": null,
            "left": null
          }
        },
        "84229992ec5c461cb7794300b8f847fe": {
          "model_module": "@jupyter-widgets/output",
          "model_name": "OutputModel",
          "state": {
            "_view_name": "OutputView",
            "msg_id": "",
            "_dom_classes": [],
            "_model_name": "OutputModel",
            "outputs": [
              {
                "output_type": "display_data",
                "metadata": {
                  "tags": []
                },
                "text/html": "<pre style=\"white-space:pre;overflow-x:auto;line-height:normal;font-family:Menlo,'DejaVu Sans Mono',consolas,'Courier New',monospace\"></pre>\n",
                "text/plain": "<rich.jupyter.JupyterRenderable at 0x7fe5281a3e90>"
              }
            ],
            "_view_module": "@jupyter-widgets/output",
            "_model_module_version": "1.0.0",
            "_view_count": null,
            "_view_module_version": "1.0.0",
            "layout": "IPY_MODEL_f55a2b92748141479cf9ee8af6384702",
            "_model_module": "@jupyter-widgets/output"
          }
        },
        "f55a2b92748141479cf9ee8af6384702": {
          "model_module": "@jupyter-widgets/base",
          "model_name": "LayoutModel",
          "state": {
            "_view_name": "LayoutView",
            "grid_template_rows": null,
            "right": null,
            "justify_content": null,
            "_view_module": "@jupyter-widgets/base",
            "overflow": null,
            "_model_module_version": "1.2.0",
            "_view_count": null,
            "flex_flow": null,
            "width": null,
            "min_width": null,
            "border": null,
            "align_items": null,
            "bottom": null,
            "_model_module": "@jupyter-widgets/base",
            "top": null,
            "grid_column": null,
            "overflow_y": null,
            "overflow_x": null,
            "grid_auto_flow": null,
            "grid_area": null,
            "grid_template_columns": null,
            "flex": null,
            "_model_name": "LayoutModel",
            "justify_items": null,
            "grid_row": null,
            "max_height": null,
            "align_content": null,
            "visibility": null,
            "align_self": null,
            "height": null,
            "min_height": null,
            "padding": null,
            "grid_auto_rows": null,
            "grid_gap": null,
            "max_width": null,
            "order": null,
            "_view_module_version": "1.2.0",
            "grid_template_areas": null,
            "object_position": null,
            "object_fit": null,
            "grid_auto_columns": null,
            "margin": null,
            "display": null,
            "left": null
          }
        },
        "ae3621d95cd446328466f0da9f1de3b6": {
          "model_module": "@jupyter-widgets/output",
          "model_name": "OutputModel",
          "state": {
            "_view_name": "OutputView",
            "msg_id": "",
            "_dom_classes": [],
            "_model_name": "OutputModel",
            "outputs": [
              {
                "output_type": "display_data",
                "metadata": {
                  "tags": []
                },
                "text/html": "<pre style=\"white-space:pre;overflow-x:auto;line-height:normal;font-family:Menlo,'DejaVu Sans Mono',consolas,'Courier New',monospace\"></pre>\n",
                "text/plain": "<rich.jupyter.JupyterRenderable at 0x7fe5282919d0>"
              }
            ],
            "_view_module": "@jupyter-widgets/output",
            "_model_module_version": "1.0.0",
            "_view_count": null,
            "_view_module_version": "1.0.0",
            "layout": "IPY_MODEL_9fd4548e7cc548e6bdcf1fb9a9efb045",
            "_model_module": "@jupyter-widgets/output"
          }
        },
        "9fd4548e7cc548e6bdcf1fb9a9efb045": {
          "model_module": "@jupyter-widgets/base",
          "model_name": "LayoutModel",
          "state": {
            "_view_name": "LayoutView",
            "grid_template_rows": null,
            "right": null,
            "justify_content": null,
            "_view_module": "@jupyter-widgets/base",
            "overflow": null,
            "_model_module_version": "1.2.0",
            "_view_count": null,
            "flex_flow": null,
            "width": null,
            "min_width": null,
            "border": null,
            "align_items": null,
            "bottom": null,
            "_model_module": "@jupyter-widgets/base",
            "top": null,
            "grid_column": null,
            "overflow_y": null,
            "overflow_x": null,
            "grid_auto_flow": null,
            "grid_area": null,
            "grid_template_columns": null,
            "flex": null,
            "_model_name": "LayoutModel",
            "justify_items": null,
            "grid_row": null,
            "max_height": null,
            "align_content": null,
            "visibility": null,
            "align_self": null,
            "height": null,
            "min_height": null,
            "padding": null,
            "grid_auto_rows": null,
            "grid_gap": null,
            "max_width": null,
            "order": null,
            "_view_module_version": "1.2.0",
            "grid_template_areas": null,
            "object_position": null,
            "object_fit": null,
            "grid_auto_columns": null,
            "margin": null,
            "display": null,
            "left": null
          }
        },
        "712cffc287ab4864b7b99e70a80d0d21": {
          "model_module": "@jupyter-widgets/output",
          "model_name": "OutputModel",
          "state": {
            "_view_name": "OutputView",
            "msg_id": "",
            "_dom_classes": [],
            "_model_name": "OutputModel",
            "outputs": [
              {
                "output_type": "display_data",
                "metadata": {
                  "tags": []
                },
                "text/html": "<pre style=\"white-space:pre;overflow-x:auto;line-height:normal;font-family:Menlo,'DejaVu Sans Mono',consolas,'Courier New',monospace\"></pre>\n",
                "text/plain": "<rich.jupyter.JupyterRenderable at 0x7fe528159ad0>"
              }
            ],
            "_view_module": "@jupyter-widgets/output",
            "_model_module_version": "1.0.0",
            "_view_count": null,
            "_view_module_version": "1.0.0",
            "layout": "IPY_MODEL_5de5ebb1dd464754a6c01c8a6a6f0dbc",
            "_model_module": "@jupyter-widgets/output"
          }
        },
        "5de5ebb1dd464754a6c01c8a6a6f0dbc": {
          "model_module": "@jupyter-widgets/base",
          "model_name": "LayoutModel",
          "state": {
            "_view_name": "LayoutView",
            "grid_template_rows": null,
            "right": null,
            "justify_content": null,
            "_view_module": "@jupyter-widgets/base",
            "overflow": null,
            "_model_module_version": "1.2.0",
            "_view_count": null,
            "flex_flow": null,
            "width": null,
            "min_width": null,
            "border": null,
            "align_items": null,
            "bottom": null,
            "_model_module": "@jupyter-widgets/base",
            "top": null,
            "grid_column": null,
            "overflow_y": null,
            "overflow_x": null,
            "grid_auto_flow": null,
            "grid_area": null,
            "grid_template_columns": null,
            "flex": null,
            "_model_name": "LayoutModel",
            "justify_items": null,
            "grid_row": null,
            "max_height": null,
            "align_content": null,
            "visibility": null,
            "align_self": null,
            "height": null,
            "min_height": null,
            "padding": null,
            "grid_auto_rows": null,
            "grid_gap": null,
            "max_width": null,
            "order": null,
            "_view_module_version": "1.2.0",
            "grid_template_areas": null,
            "object_position": null,
            "object_fit": null,
            "grid_auto_columns": null,
            "margin": null,
            "display": null,
            "left": null
          }
        },
        "ff262a66e4594579a77c465d8f820f9d": {
          "model_module": "@jupyter-widgets/output",
          "model_name": "OutputModel",
          "state": {
            "_view_name": "OutputView",
            "msg_id": "",
            "_dom_classes": [],
            "_model_name": "OutputModel",
            "outputs": [
              {
                "output_type": "display_data",
                "metadata": {
                  "tags": []
                },
                "text/html": "<pre style=\"white-space:pre;overflow-x:auto;line-height:normal;font-family:Menlo,'DejaVu Sans Mono',consolas,'Courier New',monospace\"></pre>\n",
                "text/plain": "<rich.jupyter.JupyterRenderable at 0x7fe5271e0750>"
              }
            ],
            "_view_module": "@jupyter-widgets/output",
            "_model_module_version": "1.0.0",
            "_view_count": null,
            "_view_module_version": "1.0.0",
            "layout": "IPY_MODEL_f15bd970858e450395b2cd54b967eab5",
            "_model_module": "@jupyter-widgets/output"
          }
        },
        "f15bd970858e450395b2cd54b967eab5": {
          "model_module": "@jupyter-widgets/base",
          "model_name": "LayoutModel",
          "state": {
            "_view_name": "LayoutView",
            "grid_template_rows": null,
            "right": null,
            "justify_content": null,
            "_view_module": "@jupyter-widgets/base",
            "overflow": null,
            "_model_module_version": "1.2.0",
            "_view_count": null,
            "flex_flow": null,
            "width": null,
            "min_width": null,
            "border": null,
            "align_items": null,
            "bottom": null,
            "_model_module": "@jupyter-widgets/base",
            "top": null,
            "grid_column": null,
            "overflow_y": null,
            "overflow_x": null,
            "grid_auto_flow": null,
            "grid_area": null,
            "grid_template_columns": null,
            "flex": null,
            "_model_name": "LayoutModel",
            "justify_items": null,
            "grid_row": null,
            "max_height": null,
            "align_content": null,
            "visibility": null,
            "align_self": null,
            "height": null,
            "min_height": null,
            "padding": null,
            "grid_auto_rows": null,
            "grid_gap": null,
            "max_width": null,
            "order": null,
            "_view_module_version": "1.2.0",
            "grid_template_areas": null,
            "object_position": null,
            "object_fit": null,
            "grid_auto_columns": null,
            "margin": null,
            "display": null,
            "left": null
          }
        },
        "35d2c5bbc45b4391a08538986d3f36f9": {
          "model_module": "@jupyter-widgets/output",
          "model_name": "OutputModel",
          "state": {
            "_view_name": "OutputView",
            "msg_id": "",
            "_dom_classes": [],
            "_model_name": "OutputModel",
            "outputs": [
              {
                "output_type": "display_data",
                "metadata": {
                  "tags": []
                },
                "text/html": "<pre style=\"white-space:pre;overflow-x:auto;line-height:normal;font-family:Menlo,'DejaVu Sans Mono',consolas,'Courier New',monospace\"></pre>\n",
                "text/plain": "<rich.jupyter.JupyterRenderable at 0x7fe5271a26d0>"
              }
            ],
            "_view_module": "@jupyter-widgets/output",
            "_model_module_version": "1.0.0",
            "_view_count": null,
            "_view_module_version": "1.0.0",
            "layout": "IPY_MODEL_c931d453f34b4d8d92328e83c9c60463",
            "_model_module": "@jupyter-widgets/output"
          }
        },
        "c931d453f34b4d8d92328e83c9c60463": {
          "model_module": "@jupyter-widgets/base",
          "model_name": "LayoutModel",
          "state": {
            "_view_name": "LayoutView",
            "grid_template_rows": null,
            "right": null,
            "justify_content": null,
            "_view_module": "@jupyter-widgets/base",
            "overflow": null,
            "_model_module_version": "1.2.0",
            "_view_count": null,
            "flex_flow": null,
            "width": null,
            "min_width": null,
            "border": null,
            "align_items": null,
            "bottom": null,
            "_model_module": "@jupyter-widgets/base",
            "top": null,
            "grid_column": null,
            "overflow_y": null,
            "overflow_x": null,
            "grid_auto_flow": null,
            "grid_area": null,
            "grid_template_columns": null,
            "flex": null,
            "_model_name": "LayoutModel",
            "justify_items": null,
            "grid_row": null,
            "max_height": null,
            "align_content": null,
            "visibility": null,
            "align_self": null,
            "height": null,
            "min_height": null,
            "padding": null,
            "grid_auto_rows": null,
            "grid_gap": null,
            "max_width": null,
            "order": null,
            "_view_module_version": "1.2.0",
            "grid_template_areas": null,
            "object_position": null,
            "object_fit": null,
            "grid_auto_columns": null,
            "margin": null,
            "display": null,
            "left": null
          }
        },
        "29edf93ff9444a8c942336f11a9d985d": {
          "model_module": "@jupyter-widgets/output",
          "model_name": "OutputModel",
          "state": {
            "_view_name": "OutputView",
            "msg_id": "",
            "_dom_classes": [],
            "_model_name": "OutputModel",
            "outputs": [
              {
                "output_type": "display_data",
                "metadata": {
                  "tags": []
                },
                "text/html": "<pre style=\"white-space:pre;overflow-x:auto;line-height:normal;font-family:Menlo,'DejaVu Sans Mono',consolas,'Courier New',monospace\"></pre>\n",
                "text/plain": "<rich.jupyter.JupyterRenderable at 0x7fe527119210>"
              }
            ],
            "_view_module": "@jupyter-widgets/output",
            "_model_module_version": "1.0.0",
            "_view_count": null,
            "_view_module_version": "1.0.0",
            "layout": "IPY_MODEL_c8250e71484b42918e435ed92b3ba8d0",
            "_model_module": "@jupyter-widgets/output"
          }
        },
        "c8250e71484b42918e435ed92b3ba8d0": {
          "model_module": "@jupyter-widgets/base",
          "model_name": "LayoutModel",
          "state": {
            "_view_name": "LayoutView",
            "grid_template_rows": null,
            "right": null,
            "justify_content": null,
            "_view_module": "@jupyter-widgets/base",
            "overflow": null,
            "_model_module_version": "1.2.0",
            "_view_count": null,
            "flex_flow": null,
            "width": null,
            "min_width": null,
            "border": null,
            "align_items": null,
            "bottom": null,
            "_model_module": "@jupyter-widgets/base",
            "top": null,
            "grid_column": null,
            "overflow_y": null,
            "overflow_x": null,
            "grid_auto_flow": null,
            "grid_area": null,
            "grid_template_columns": null,
            "flex": null,
            "_model_name": "LayoutModel",
            "justify_items": null,
            "grid_row": null,
            "max_height": null,
            "align_content": null,
            "visibility": null,
            "align_self": null,
            "height": null,
            "min_height": null,
            "padding": null,
            "grid_auto_rows": null,
            "grid_gap": null,
            "max_width": null,
            "order": null,
            "_view_module_version": "1.2.0",
            "grid_template_areas": null,
            "object_position": null,
            "object_fit": null,
            "grid_auto_columns": null,
            "margin": null,
            "display": null,
            "left": null
          }
        },
        "4aafa0ccd43a4490b4fdf1a045317af2": {
          "model_module": "@jupyter-widgets/output",
          "model_name": "OutputModel",
          "state": {
            "_view_name": "OutputView",
            "msg_id": "",
            "_dom_classes": [],
            "_model_name": "OutputModel",
            "outputs": [
              {
                "output_type": "display_data",
                "metadata": {
                  "tags": []
                },
                "text/html": "<pre style=\"white-space:pre;overflow-x:auto;line-height:normal;font-family:Menlo,'DejaVu Sans Mono',consolas,'Courier New',monospace\"></pre>\n",
                "text/plain": "<rich.jupyter.JupyterRenderable at 0x7fe527109e10>"
              }
            ],
            "_view_module": "@jupyter-widgets/output",
            "_model_module_version": "1.0.0",
            "_view_count": null,
            "_view_module_version": "1.0.0",
            "layout": "IPY_MODEL_42c2de40e0134ca5b3816cf01e61bb1d",
            "_model_module": "@jupyter-widgets/output"
          }
        },
        "42c2de40e0134ca5b3816cf01e61bb1d": {
          "model_module": "@jupyter-widgets/base",
          "model_name": "LayoutModel",
          "state": {
            "_view_name": "LayoutView",
            "grid_template_rows": null,
            "right": null,
            "justify_content": null,
            "_view_module": "@jupyter-widgets/base",
            "overflow": null,
            "_model_module_version": "1.2.0",
            "_view_count": null,
            "flex_flow": null,
            "width": null,
            "min_width": null,
            "border": null,
            "align_items": null,
            "bottom": null,
            "_model_module": "@jupyter-widgets/base",
            "top": null,
            "grid_column": null,
            "overflow_y": null,
            "overflow_x": null,
            "grid_auto_flow": null,
            "grid_area": null,
            "grid_template_columns": null,
            "flex": null,
            "_model_name": "LayoutModel",
            "justify_items": null,
            "grid_row": null,
            "max_height": null,
            "align_content": null,
            "visibility": null,
            "align_self": null,
            "height": null,
            "min_height": null,
            "padding": null,
            "grid_auto_rows": null,
            "grid_gap": null,
            "max_width": null,
            "order": null,
            "_view_module_version": "1.2.0",
            "grid_template_areas": null,
            "object_position": null,
            "object_fit": null,
            "grid_auto_columns": null,
            "margin": null,
            "display": null,
            "left": null
          }
        },
        "ebbc19beccb44002a622a89bf05149c4": {
          "model_module": "@jupyter-widgets/output",
          "model_name": "OutputModel",
          "state": {
            "_view_name": "OutputView",
            "msg_id": "",
            "_dom_classes": [],
            "_model_name": "OutputModel",
            "outputs": [
              {
                "output_type": "display_data",
                "metadata": {
                  "tags": []
                },
                "text/html": "<pre style=\"white-space:pre;overflow-x:auto;line-height:normal;font-family:Menlo,'DejaVu Sans Mono',consolas,'Courier New',monospace\"></pre>\n",
                "text/plain": "<rich.jupyter.JupyterRenderable at 0x7fe526e99110>"
              }
            ],
            "_view_module": "@jupyter-widgets/output",
            "_model_module_version": "1.0.0",
            "_view_count": null,
            "_view_module_version": "1.0.0",
            "layout": "IPY_MODEL_86f499a5a30e4c0fbb6baa167791ea40",
            "_model_module": "@jupyter-widgets/output"
          }
        },
        "86f499a5a30e4c0fbb6baa167791ea40": {
          "model_module": "@jupyter-widgets/base",
          "model_name": "LayoutModel",
          "state": {
            "_view_name": "LayoutView",
            "grid_template_rows": null,
            "right": null,
            "justify_content": null,
            "_view_module": "@jupyter-widgets/base",
            "overflow": null,
            "_model_module_version": "1.2.0",
            "_view_count": null,
            "flex_flow": null,
            "width": null,
            "min_width": null,
            "border": null,
            "align_items": null,
            "bottom": null,
            "_model_module": "@jupyter-widgets/base",
            "top": null,
            "grid_column": null,
            "overflow_y": null,
            "overflow_x": null,
            "grid_auto_flow": null,
            "grid_area": null,
            "grid_template_columns": null,
            "flex": null,
            "_model_name": "LayoutModel",
            "justify_items": null,
            "grid_row": null,
            "max_height": null,
            "align_content": null,
            "visibility": null,
            "align_self": null,
            "height": null,
            "min_height": null,
            "padding": null,
            "grid_auto_rows": null,
            "grid_gap": null,
            "max_width": null,
            "order": null,
            "_view_module_version": "1.2.0",
            "grid_template_areas": null,
            "object_position": null,
            "object_fit": null,
            "grid_auto_columns": null,
            "margin": null,
            "display": null,
            "left": null
          }
        },
        "1b2eef9ca57e402b9bf59090bc08a970": {
          "model_module": "@jupyter-widgets/output",
          "model_name": "OutputModel",
          "state": {
            "_view_name": "OutputView",
            "msg_id": "",
            "_dom_classes": [],
            "_model_name": "OutputModel",
            "outputs": [
              {
                "output_type": "display_data",
                "metadata": {
                  "tags": []
                },
                "text/html": "<pre style=\"white-space:pre;overflow-x:auto;line-height:normal;font-family:Menlo,'DejaVu Sans Mono',consolas,'Courier New',monospace\"></pre>\n",
                "text/plain": "<rich.jupyter.JupyterRenderable at 0x7fe526e32250>"
              }
            ],
            "_view_module": "@jupyter-widgets/output",
            "_model_module_version": "1.0.0",
            "_view_count": null,
            "_view_module_version": "1.0.0",
            "layout": "IPY_MODEL_b96627d88be84a03a2d0f6e00d175596",
            "_model_module": "@jupyter-widgets/output"
          }
        },
        "b96627d88be84a03a2d0f6e00d175596": {
          "model_module": "@jupyter-widgets/base",
          "model_name": "LayoutModel",
          "state": {
            "_view_name": "LayoutView",
            "grid_template_rows": null,
            "right": null,
            "justify_content": null,
            "_view_module": "@jupyter-widgets/base",
            "overflow": null,
            "_model_module_version": "1.2.0",
            "_view_count": null,
            "flex_flow": null,
            "width": null,
            "min_width": null,
            "border": null,
            "align_items": null,
            "bottom": null,
            "_model_module": "@jupyter-widgets/base",
            "top": null,
            "grid_column": null,
            "overflow_y": null,
            "overflow_x": null,
            "grid_auto_flow": null,
            "grid_area": null,
            "grid_template_columns": null,
            "flex": null,
            "_model_name": "LayoutModel",
            "justify_items": null,
            "grid_row": null,
            "max_height": null,
            "align_content": null,
            "visibility": null,
            "align_self": null,
            "height": null,
            "min_height": null,
            "padding": null,
            "grid_auto_rows": null,
            "grid_gap": null,
            "max_width": null,
            "order": null,
            "_view_module_version": "1.2.0",
            "grid_template_areas": null,
            "object_position": null,
            "object_fit": null,
            "grid_auto_columns": null,
            "margin": null,
            "display": null,
            "left": null
          }
        },
        "ab8d3387b640426ba1be95eb8d155808": {
          "model_module": "@jupyter-widgets/output",
          "model_name": "OutputModel",
          "state": {
            "_view_name": "OutputView",
            "msg_id": "",
            "_dom_classes": [],
            "_model_name": "OutputModel",
            "outputs": [
              {
                "output_type": "display_data",
                "metadata": {
                  "tags": []
                },
                "text/html": "<pre style=\"white-space:pre;overflow-x:auto;line-height:normal;font-family:Menlo,'DejaVu Sans Mono',consolas,'Courier New',monospace\"></pre>\n",
                "text/plain": "<rich.jupyter.JupyterRenderable at 0x7fe526e9abd0>"
              }
            ],
            "_view_module": "@jupyter-widgets/output",
            "_model_module_version": "1.0.0",
            "_view_count": null,
            "_view_module_version": "1.0.0",
            "layout": "IPY_MODEL_9062820e0b124854acfce27a1a0fb644",
            "_model_module": "@jupyter-widgets/output"
          }
        },
        "9062820e0b124854acfce27a1a0fb644": {
          "model_module": "@jupyter-widgets/base",
          "model_name": "LayoutModel",
          "state": {
            "_view_name": "LayoutView",
            "grid_template_rows": null,
            "right": null,
            "justify_content": null,
            "_view_module": "@jupyter-widgets/base",
            "overflow": null,
            "_model_module_version": "1.2.0",
            "_view_count": null,
            "flex_flow": null,
            "width": null,
            "min_width": null,
            "border": null,
            "align_items": null,
            "bottom": null,
            "_model_module": "@jupyter-widgets/base",
            "top": null,
            "grid_column": null,
            "overflow_y": null,
            "overflow_x": null,
            "grid_auto_flow": null,
            "grid_area": null,
            "grid_template_columns": null,
            "flex": null,
            "_model_name": "LayoutModel",
            "justify_items": null,
            "grid_row": null,
            "max_height": null,
            "align_content": null,
            "visibility": null,
            "align_self": null,
            "height": null,
            "min_height": null,
            "padding": null,
            "grid_auto_rows": null,
            "grid_gap": null,
            "max_width": null,
            "order": null,
            "_view_module_version": "1.2.0",
            "grid_template_areas": null,
            "object_position": null,
            "object_fit": null,
            "grid_auto_columns": null,
            "margin": null,
            "display": null,
            "left": null
          }
        },
        "52b9d6baadef496e808bc2edddceb596": {
          "model_module": "@jupyter-widgets/output",
          "model_name": "OutputModel",
          "state": {
            "_view_name": "OutputView",
            "msg_id": "",
            "_dom_classes": [],
            "_model_name": "OutputModel",
            "outputs": [
              {
                "output_type": "display_data",
                "metadata": {
                  "tags": []
                },
                "text/html": "<pre style=\"white-space:pre;overflow-x:auto;line-height:normal;font-family:Menlo,'DejaVu Sans Mono',consolas,'Courier New',monospace\"></pre>\n",
                "text/plain": "<rich.jupyter.JupyterRenderable at 0x7fe526d92890>"
              }
            ],
            "_view_module": "@jupyter-widgets/output",
            "_model_module_version": "1.0.0",
            "_view_count": null,
            "_view_module_version": "1.0.0",
            "layout": "IPY_MODEL_42bef85c0fdd4e0c86074488d4fe0bca",
            "_model_module": "@jupyter-widgets/output"
          }
        },
        "42bef85c0fdd4e0c86074488d4fe0bca": {
          "model_module": "@jupyter-widgets/base",
          "model_name": "LayoutModel",
          "state": {
            "_view_name": "LayoutView",
            "grid_template_rows": null,
            "right": null,
            "justify_content": null,
            "_view_module": "@jupyter-widgets/base",
            "overflow": null,
            "_model_module_version": "1.2.0",
            "_view_count": null,
            "flex_flow": null,
            "width": null,
            "min_width": null,
            "border": null,
            "align_items": null,
            "bottom": null,
            "_model_module": "@jupyter-widgets/base",
            "top": null,
            "grid_column": null,
            "overflow_y": null,
            "overflow_x": null,
            "grid_auto_flow": null,
            "grid_area": null,
            "grid_template_columns": null,
            "flex": null,
            "_model_name": "LayoutModel",
            "justify_items": null,
            "grid_row": null,
            "max_height": null,
            "align_content": null,
            "visibility": null,
            "align_self": null,
            "height": null,
            "min_height": null,
            "padding": null,
            "grid_auto_rows": null,
            "grid_gap": null,
            "max_width": null,
            "order": null,
            "_view_module_version": "1.2.0",
            "grid_template_areas": null,
            "object_position": null,
            "object_fit": null,
            "grid_auto_columns": null,
            "margin": null,
            "display": null,
            "left": null
          }
        },
        "a0b65bf895874e32b877f2cf5aac29c7": {
          "model_module": "@jupyter-widgets/output",
          "model_name": "OutputModel",
          "state": {
            "_view_name": "OutputView",
            "msg_id": "",
            "_dom_classes": [],
            "_model_name": "OutputModel",
            "outputs": [
              {
                "output_type": "display_data",
                "metadata": {
                  "tags": []
                },
                "text/html": "<pre style=\"white-space:pre;overflow-x:auto;line-height:normal;font-family:Menlo,'DejaVu Sans Mono',consolas,'Courier New',monospace\"></pre>\n",
                "text/plain": "<rich.jupyter.JupyterRenderable at 0x7fe526c71610>"
              }
            ],
            "_view_module": "@jupyter-widgets/output",
            "_model_module_version": "1.0.0",
            "_view_count": null,
            "_view_module_version": "1.0.0",
            "layout": "IPY_MODEL_1fb81590211148e5b57a107be8d05511",
            "_model_module": "@jupyter-widgets/output"
          }
        },
        "1fb81590211148e5b57a107be8d05511": {
          "model_module": "@jupyter-widgets/base",
          "model_name": "LayoutModel",
          "state": {
            "_view_name": "LayoutView",
            "grid_template_rows": null,
            "right": null,
            "justify_content": null,
            "_view_module": "@jupyter-widgets/base",
            "overflow": null,
            "_model_module_version": "1.2.0",
            "_view_count": null,
            "flex_flow": null,
            "width": null,
            "min_width": null,
            "border": null,
            "align_items": null,
            "bottom": null,
            "_model_module": "@jupyter-widgets/base",
            "top": null,
            "grid_column": null,
            "overflow_y": null,
            "overflow_x": null,
            "grid_auto_flow": null,
            "grid_area": null,
            "grid_template_columns": null,
            "flex": null,
            "_model_name": "LayoutModel",
            "justify_items": null,
            "grid_row": null,
            "max_height": null,
            "align_content": null,
            "visibility": null,
            "align_self": null,
            "height": null,
            "min_height": null,
            "padding": null,
            "grid_auto_rows": null,
            "grid_gap": null,
            "max_width": null,
            "order": null,
            "_view_module_version": "1.2.0",
            "grid_template_areas": null,
            "object_position": null,
            "object_fit": null,
            "grid_auto_columns": null,
            "margin": null,
            "display": null,
            "left": null
          }
        },
        "f1a69defc0ad41ba805b86fe9c1f8d16": {
          "model_module": "@jupyter-widgets/output",
          "model_name": "OutputModel",
          "state": {
            "_view_name": "OutputView",
            "msg_id": "",
            "_dom_classes": [],
            "_model_name": "OutputModel",
            "outputs": [
              {
                "output_type": "display_data",
                "metadata": {
                  "tags": []
                },
                "text/html": "<pre style=\"white-space:pre;overflow-x:auto;line-height:normal;font-family:Menlo,'DejaVu Sans Mono',consolas,'Courier New',monospace\"></pre>\n",
                "text/plain": "<rich.jupyter.JupyterRenderable at 0x7fe526c12950>"
              }
            ],
            "_view_module": "@jupyter-widgets/output",
            "_model_module_version": "1.0.0",
            "_view_count": null,
            "_view_module_version": "1.0.0",
            "layout": "IPY_MODEL_74aad08003ca4e1991738280ac2ac735",
            "_model_module": "@jupyter-widgets/output"
          }
        },
        "74aad08003ca4e1991738280ac2ac735": {
          "model_module": "@jupyter-widgets/base",
          "model_name": "LayoutModel",
          "state": {
            "_view_name": "LayoutView",
            "grid_template_rows": null,
            "right": null,
            "justify_content": null,
            "_view_module": "@jupyter-widgets/base",
            "overflow": null,
            "_model_module_version": "1.2.0",
            "_view_count": null,
            "flex_flow": null,
            "width": null,
            "min_width": null,
            "border": null,
            "align_items": null,
            "bottom": null,
            "_model_module": "@jupyter-widgets/base",
            "top": null,
            "grid_column": null,
            "overflow_y": null,
            "overflow_x": null,
            "grid_auto_flow": null,
            "grid_area": null,
            "grid_template_columns": null,
            "flex": null,
            "_model_name": "LayoutModel",
            "justify_items": null,
            "grid_row": null,
            "max_height": null,
            "align_content": null,
            "visibility": null,
            "align_self": null,
            "height": null,
            "min_height": null,
            "padding": null,
            "grid_auto_rows": null,
            "grid_gap": null,
            "max_width": null,
            "order": null,
            "_view_module_version": "1.2.0",
            "grid_template_areas": null,
            "object_position": null,
            "object_fit": null,
            "grid_auto_columns": null,
            "margin": null,
            "display": null,
            "left": null
          }
        },
        "b83c056de83d4ff681b01ee1dc7ddd64": {
          "model_module": "@jupyter-widgets/output",
          "model_name": "OutputModel",
          "state": {
            "_view_name": "OutputView",
            "msg_id": "",
            "_dom_classes": [],
            "_model_name": "OutputModel",
            "outputs": [
              {
                "output_type": "display_data",
                "metadata": {
                  "tags": []
                },
                "text/html": "<pre style=\"white-space:pre;overflow-x:auto;line-height:normal;font-family:Menlo,'DejaVu Sans Mono',consolas,'Courier New',monospace\"></pre>\n",
                "text/plain": "<rich.jupyter.JupyterRenderable at 0x7fe526c01350>"
              }
            ],
            "_view_module": "@jupyter-widgets/output",
            "_model_module_version": "1.0.0",
            "_view_count": null,
            "_view_module_version": "1.0.0",
            "layout": "IPY_MODEL_d3746c00255e487683344ddb63e24a88",
            "_model_module": "@jupyter-widgets/output"
          }
        },
        "d3746c00255e487683344ddb63e24a88": {
          "model_module": "@jupyter-widgets/base",
          "model_name": "LayoutModel",
          "state": {
            "_view_name": "LayoutView",
            "grid_template_rows": null,
            "right": null,
            "justify_content": null,
            "_view_module": "@jupyter-widgets/base",
            "overflow": null,
            "_model_module_version": "1.2.0",
            "_view_count": null,
            "flex_flow": null,
            "width": null,
            "min_width": null,
            "border": null,
            "align_items": null,
            "bottom": null,
            "_model_module": "@jupyter-widgets/base",
            "top": null,
            "grid_column": null,
            "overflow_y": null,
            "overflow_x": null,
            "grid_auto_flow": null,
            "grid_area": null,
            "grid_template_columns": null,
            "flex": null,
            "_model_name": "LayoutModel",
            "justify_items": null,
            "grid_row": null,
            "max_height": null,
            "align_content": null,
            "visibility": null,
            "align_self": null,
            "height": null,
            "min_height": null,
            "padding": null,
            "grid_auto_rows": null,
            "grid_gap": null,
            "max_width": null,
            "order": null,
            "_view_module_version": "1.2.0",
            "grid_template_areas": null,
            "object_position": null,
            "object_fit": null,
            "grid_auto_columns": null,
            "margin": null,
            "display": null,
            "left": null
          }
        },
        "1f36052628c147bba9da7adad4604124": {
          "model_module": "@jupyter-widgets/output",
          "model_name": "OutputModel",
          "state": {
            "_view_name": "OutputView",
            "msg_id": "",
            "_dom_classes": [],
            "_model_name": "OutputModel",
            "outputs": [
              {
                "output_type": "display_data",
                "metadata": {
                  "tags": []
                },
                "text/html": "<pre style=\"white-space:pre;overflow-x:auto;line-height:normal;font-family:Menlo,'DejaVu Sans Mono',consolas,'Courier New',monospace\"></pre>\n",
                "text/plain": "<rich.jupyter.JupyterRenderable at 0x7fe526b81fd0>"
              }
            ],
            "_view_module": "@jupyter-widgets/output",
            "_model_module_version": "1.0.0",
            "_view_count": null,
            "_view_module_version": "1.0.0",
            "layout": "IPY_MODEL_c4c27bde90a94e56a00433f0db4a89b9",
            "_model_module": "@jupyter-widgets/output"
          }
        },
        "c4c27bde90a94e56a00433f0db4a89b9": {
          "model_module": "@jupyter-widgets/base",
          "model_name": "LayoutModel",
          "state": {
            "_view_name": "LayoutView",
            "grid_template_rows": null,
            "right": null,
            "justify_content": null,
            "_view_module": "@jupyter-widgets/base",
            "overflow": null,
            "_model_module_version": "1.2.0",
            "_view_count": null,
            "flex_flow": null,
            "width": null,
            "min_width": null,
            "border": null,
            "align_items": null,
            "bottom": null,
            "_model_module": "@jupyter-widgets/base",
            "top": null,
            "grid_column": null,
            "overflow_y": null,
            "overflow_x": null,
            "grid_auto_flow": null,
            "grid_area": null,
            "grid_template_columns": null,
            "flex": null,
            "_model_name": "LayoutModel",
            "justify_items": null,
            "grid_row": null,
            "max_height": null,
            "align_content": null,
            "visibility": null,
            "align_self": null,
            "height": null,
            "min_height": null,
            "padding": null,
            "grid_auto_rows": null,
            "grid_gap": null,
            "max_width": null,
            "order": null,
            "_view_module_version": "1.2.0",
            "grid_template_areas": null,
            "object_position": null,
            "object_fit": null,
            "grid_auto_columns": null,
            "margin": null,
            "display": null,
            "left": null
          }
        },
        "ecad4d3ac82646f19774a9c4856640c6": {
          "model_module": "@jupyter-widgets/output",
          "model_name": "OutputModel",
          "state": {
            "_view_name": "OutputView",
            "msg_id": "",
            "_dom_classes": [],
            "_model_name": "OutputModel",
            "outputs": [
              {
                "output_type": "display_data",
                "metadata": {
                  "tags": []
                },
                "text/html": "<pre style=\"white-space:pre;overflow-x:auto;line-height:normal;font-family:Menlo,'DejaVu Sans Mono',consolas,'Courier New',monospace\"></pre>\n",
                "text/plain": "<rich.jupyter.JupyterRenderable at 0x7fe526b1aa90>"
              }
            ],
            "_view_module": "@jupyter-widgets/output",
            "_model_module_version": "1.0.0",
            "_view_count": null,
            "_view_module_version": "1.0.0",
            "layout": "IPY_MODEL_4ba1cfe635bf48209cd2eb2d3fa8cf0f",
            "_model_module": "@jupyter-widgets/output"
          }
        },
        "4ba1cfe635bf48209cd2eb2d3fa8cf0f": {
          "model_module": "@jupyter-widgets/base",
          "model_name": "LayoutModel",
          "state": {
            "_view_name": "LayoutView",
            "grid_template_rows": null,
            "right": null,
            "justify_content": null,
            "_view_module": "@jupyter-widgets/base",
            "overflow": null,
            "_model_module_version": "1.2.0",
            "_view_count": null,
            "flex_flow": null,
            "width": null,
            "min_width": null,
            "border": null,
            "align_items": null,
            "bottom": null,
            "_model_module": "@jupyter-widgets/base",
            "top": null,
            "grid_column": null,
            "overflow_y": null,
            "overflow_x": null,
            "grid_auto_flow": null,
            "grid_area": null,
            "grid_template_columns": null,
            "flex": null,
            "_model_name": "LayoutModel",
            "justify_items": null,
            "grid_row": null,
            "max_height": null,
            "align_content": null,
            "visibility": null,
            "align_self": null,
            "height": null,
            "min_height": null,
            "padding": null,
            "grid_auto_rows": null,
            "grid_gap": null,
            "max_width": null,
            "order": null,
            "_view_module_version": "1.2.0",
            "grid_template_areas": null,
            "object_position": null,
            "object_fit": null,
            "grid_auto_columns": null,
            "margin": null,
            "display": null,
            "left": null
          }
        },
        "0314034305b343f799b4a8e1fe3fd8f6": {
          "model_module": "@jupyter-widgets/output",
          "model_name": "OutputModel",
          "state": {
            "_view_name": "OutputView",
            "msg_id": "",
            "_dom_classes": [],
            "_model_name": "OutputModel",
            "outputs": [
              {
                "output_type": "display_data",
                "metadata": {
                  "tags": []
                },
                "text/html": "<pre style=\"white-space:pre;overflow-x:auto;line-height:normal;font-family:Menlo,'DejaVu Sans Mono',consolas,'Courier New',monospace\"></pre>\n",
                "text/plain": "<rich.jupyter.JupyterRenderable at 0x7fe5269ad6d0>"
              }
            ],
            "_view_module": "@jupyter-widgets/output",
            "_model_module_version": "1.0.0",
            "_view_count": null,
            "_view_module_version": "1.0.0",
            "layout": "IPY_MODEL_b5d1abe5f34b483488306f7fdc04a5b3",
            "_model_module": "@jupyter-widgets/output"
          }
        },
        "b5d1abe5f34b483488306f7fdc04a5b3": {
          "model_module": "@jupyter-widgets/base",
          "model_name": "LayoutModel",
          "state": {
            "_view_name": "LayoutView",
            "grid_template_rows": null,
            "right": null,
            "justify_content": null,
            "_view_module": "@jupyter-widgets/base",
            "overflow": null,
            "_model_module_version": "1.2.0",
            "_view_count": null,
            "flex_flow": null,
            "width": null,
            "min_width": null,
            "border": null,
            "align_items": null,
            "bottom": null,
            "_model_module": "@jupyter-widgets/base",
            "top": null,
            "grid_column": null,
            "overflow_y": null,
            "overflow_x": null,
            "grid_auto_flow": null,
            "grid_area": null,
            "grid_template_columns": null,
            "flex": null,
            "_model_name": "LayoutModel",
            "justify_items": null,
            "grid_row": null,
            "max_height": null,
            "align_content": null,
            "visibility": null,
            "align_self": null,
            "height": null,
            "min_height": null,
            "padding": null,
            "grid_auto_rows": null,
            "grid_gap": null,
            "max_width": null,
            "order": null,
            "_view_module_version": "1.2.0",
            "grid_template_areas": null,
            "object_position": null,
            "object_fit": null,
            "grid_auto_columns": null,
            "margin": null,
            "display": null,
            "left": null
          }
        },
        "88a899a73efb4ed0bc0c84702c411a7f": {
          "model_module": "@jupyter-widgets/output",
          "model_name": "OutputModel",
          "state": {
            "_view_name": "OutputView",
            "msg_id": "",
            "_dom_classes": [],
            "_model_name": "OutputModel",
            "outputs": [
              {
                "output_type": "display_data",
                "metadata": {
                  "tags": []
                },
                "text/html": "<pre style=\"white-space:pre;overflow-x:auto;line-height:normal;font-family:Menlo,'DejaVu Sans Mono',consolas,'Courier New',monospace\"></pre>\n",
                "text/plain": "<rich.jupyter.JupyterRenderable at 0x7fe5269f4b50>"
              }
            ],
            "_view_module": "@jupyter-widgets/output",
            "_model_module_version": "1.0.0",
            "_view_count": null,
            "_view_module_version": "1.0.0",
            "layout": "IPY_MODEL_6359f587e65b426c852ba1c14a86a69c",
            "_model_module": "@jupyter-widgets/output"
          }
        },
        "6359f587e65b426c852ba1c14a86a69c": {
          "model_module": "@jupyter-widgets/base",
          "model_name": "LayoutModel",
          "state": {
            "_view_name": "LayoutView",
            "grid_template_rows": null,
            "right": null,
            "justify_content": null,
            "_view_module": "@jupyter-widgets/base",
            "overflow": null,
            "_model_module_version": "1.2.0",
            "_view_count": null,
            "flex_flow": null,
            "width": null,
            "min_width": null,
            "border": null,
            "align_items": null,
            "bottom": null,
            "_model_module": "@jupyter-widgets/base",
            "top": null,
            "grid_column": null,
            "overflow_y": null,
            "overflow_x": null,
            "grid_auto_flow": null,
            "grid_area": null,
            "grid_template_columns": null,
            "flex": null,
            "_model_name": "LayoutModel",
            "justify_items": null,
            "grid_row": null,
            "max_height": null,
            "align_content": null,
            "visibility": null,
            "align_self": null,
            "height": null,
            "min_height": null,
            "padding": null,
            "grid_auto_rows": null,
            "grid_gap": null,
            "max_width": null,
            "order": null,
            "_view_module_version": "1.2.0",
            "grid_template_areas": null,
            "object_position": null,
            "object_fit": null,
            "grid_auto_columns": null,
            "margin": null,
            "display": null,
            "left": null
          }
        },
        "f064bea75b6b4b3092622dfb277cc3ed": {
          "model_module": "@jupyter-widgets/output",
          "model_name": "OutputModel",
          "state": {
            "_view_name": "OutputView",
            "msg_id": "",
            "_dom_classes": [],
            "_model_name": "OutputModel",
            "outputs": [
              {
                "output_type": "display_data",
                "metadata": {
                  "tags": []
                },
                "text/html": "<pre style=\"white-space:pre;overflow-x:auto;line-height:normal;font-family:Menlo,'DejaVu Sans Mono',consolas,'Courier New',monospace\"></pre>\n",
                "text/plain": "<rich.jupyter.JupyterRenderable at 0x7fe526964d90>"
              }
            ],
            "_view_module": "@jupyter-widgets/output",
            "_model_module_version": "1.0.0",
            "_view_count": null,
            "_view_module_version": "1.0.0",
            "layout": "IPY_MODEL_2a90f80cbe65488f8251948b4fb0f0b3",
            "_model_module": "@jupyter-widgets/output"
          }
        },
        "2a90f80cbe65488f8251948b4fb0f0b3": {
          "model_module": "@jupyter-widgets/base",
          "model_name": "LayoutModel",
          "state": {
            "_view_name": "LayoutView",
            "grid_template_rows": null,
            "right": null,
            "justify_content": null,
            "_view_module": "@jupyter-widgets/base",
            "overflow": null,
            "_model_module_version": "1.2.0",
            "_view_count": null,
            "flex_flow": null,
            "width": null,
            "min_width": null,
            "border": null,
            "align_items": null,
            "bottom": null,
            "_model_module": "@jupyter-widgets/base",
            "top": null,
            "grid_column": null,
            "overflow_y": null,
            "overflow_x": null,
            "grid_auto_flow": null,
            "grid_area": null,
            "grid_template_columns": null,
            "flex": null,
            "_model_name": "LayoutModel",
            "justify_items": null,
            "grid_row": null,
            "max_height": null,
            "align_content": null,
            "visibility": null,
            "align_self": null,
            "height": null,
            "min_height": null,
            "padding": null,
            "grid_auto_rows": null,
            "grid_gap": null,
            "max_width": null,
            "order": null,
            "_view_module_version": "1.2.0",
            "grid_template_areas": null,
            "object_position": null,
            "object_fit": null,
            "grid_auto_columns": null,
            "margin": null,
            "display": null,
            "left": null
          }
        },
        "c083b5cfde7d4953b5a272cc79ab58dd": {
          "model_module": "@jupyter-widgets/output",
          "model_name": "OutputModel",
          "state": {
            "_view_name": "OutputView",
            "msg_id": "",
            "_dom_classes": [],
            "_model_name": "OutputModel",
            "outputs": [
              {
                "output_type": "display_data",
                "metadata": {
                  "tags": []
                },
                "text/html": "<pre style=\"white-space:pre;overflow-x:auto;line-height:normal;font-family:Menlo,'DejaVu Sans Mono',consolas,'Courier New',monospace\"></pre>\n",
                "text/plain": "<rich.jupyter.JupyterRenderable at 0x7fe526b7bb10>"
              }
            ],
            "_view_module": "@jupyter-widgets/output",
            "_model_module_version": "1.0.0",
            "_view_count": null,
            "_view_module_version": "1.0.0",
            "layout": "IPY_MODEL_55100a2f6b7e465ba9dc2f2638561b0b",
            "_model_module": "@jupyter-widgets/output"
          }
        },
        "55100a2f6b7e465ba9dc2f2638561b0b": {
          "model_module": "@jupyter-widgets/base",
          "model_name": "LayoutModel",
          "state": {
            "_view_name": "LayoutView",
            "grid_template_rows": null,
            "right": null,
            "justify_content": null,
            "_view_module": "@jupyter-widgets/base",
            "overflow": null,
            "_model_module_version": "1.2.0",
            "_view_count": null,
            "flex_flow": null,
            "width": null,
            "min_width": null,
            "border": null,
            "align_items": null,
            "bottom": null,
            "_model_module": "@jupyter-widgets/base",
            "top": null,
            "grid_column": null,
            "overflow_y": null,
            "overflow_x": null,
            "grid_auto_flow": null,
            "grid_area": null,
            "grid_template_columns": null,
            "flex": null,
            "_model_name": "LayoutModel",
            "justify_items": null,
            "grid_row": null,
            "max_height": null,
            "align_content": null,
            "visibility": null,
            "align_self": null,
            "height": null,
            "min_height": null,
            "padding": null,
            "grid_auto_rows": null,
            "grid_gap": null,
            "max_width": null,
            "order": null,
            "_view_module_version": "1.2.0",
            "grid_template_areas": null,
            "object_position": null,
            "object_fit": null,
            "grid_auto_columns": null,
            "margin": null,
            "display": null,
            "left": null
          }
        },
        "8a5baaafa13e4fd9917b0143502b713d": {
          "model_module": "@jupyter-widgets/output",
          "model_name": "OutputModel",
          "state": {
            "_view_name": "OutputView",
            "msg_id": "",
            "_dom_classes": [],
            "_model_name": "OutputModel",
            "outputs": [
              {
                "output_type": "display_data",
                "metadata": {
                  "tags": []
                },
                "text/html": "<pre style=\"white-space:pre;overflow-x:auto;line-height:normal;font-family:Menlo,'DejaVu Sans Mono',consolas,'Courier New',monospace\"></pre>\n",
                "text/plain": "<rich.jupyter.JupyterRenderable at 0x7fe5268e9550>"
              }
            ],
            "_view_module": "@jupyter-widgets/output",
            "_model_module_version": "1.0.0",
            "_view_count": null,
            "_view_module_version": "1.0.0",
            "layout": "IPY_MODEL_9181b7ea47c14924aa78991d2629025c",
            "_model_module": "@jupyter-widgets/output"
          }
        },
        "9181b7ea47c14924aa78991d2629025c": {
          "model_module": "@jupyter-widgets/base",
          "model_name": "LayoutModel",
          "state": {
            "_view_name": "LayoutView",
            "grid_template_rows": null,
            "right": null,
            "justify_content": null,
            "_view_module": "@jupyter-widgets/base",
            "overflow": null,
            "_model_module_version": "1.2.0",
            "_view_count": null,
            "flex_flow": null,
            "width": null,
            "min_width": null,
            "border": null,
            "align_items": null,
            "bottom": null,
            "_model_module": "@jupyter-widgets/base",
            "top": null,
            "grid_column": null,
            "overflow_y": null,
            "overflow_x": null,
            "grid_auto_flow": null,
            "grid_area": null,
            "grid_template_columns": null,
            "flex": null,
            "_model_name": "LayoutModel",
            "justify_items": null,
            "grid_row": null,
            "max_height": null,
            "align_content": null,
            "visibility": null,
            "align_self": null,
            "height": null,
            "min_height": null,
            "padding": null,
            "grid_auto_rows": null,
            "grid_gap": null,
            "max_width": null,
            "order": null,
            "_view_module_version": "1.2.0",
            "grid_template_areas": null,
            "object_position": null,
            "object_fit": null,
            "grid_auto_columns": null,
            "margin": null,
            "display": null,
            "left": null
          }
        },
        "e85332de4a064f6d8bffa88c29db4e12": {
          "model_module": "@jupyter-widgets/output",
          "model_name": "OutputModel",
          "state": {
            "_view_name": "OutputView",
            "msg_id": "",
            "_dom_classes": [],
            "_model_name": "OutputModel",
            "outputs": [
              {
                "output_type": "display_data",
                "metadata": {
                  "tags": []
                },
                "text/html": "<pre style=\"white-space:pre;overflow-x:auto;line-height:normal;font-family:Menlo,'DejaVu Sans Mono',consolas,'Courier New',monospace\"></pre>\n",
                "text/plain": "<rich.jupyter.JupyterRenderable at 0x7fe5267e3290>"
              }
            ],
            "_view_module": "@jupyter-widgets/output",
            "_model_module_version": "1.0.0",
            "_view_count": null,
            "_view_module_version": "1.0.0",
            "layout": "IPY_MODEL_dec7d36163344363bbd85e68ab10e05d",
            "_model_module": "@jupyter-widgets/output"
          }
        },
        "dec7d36163344363bbd85e68ab10e05d": {
          "model_module": "@jupyter-widgets/base",
          "model_name": "LayoutModel",
          "state": {
            "_view_name": "LayoutView",
            "grid_template_rows": null,
            "right": null,
            "justify_content": null,
            "_view_module": "@jupyter-widgets/base",
            "overflow": null,
            "_model_module_version": "1.2.0",
            "_view_count": null,
            "flex_flow": null,
            "width": null,
            "min_width": null,
            "border": null,
            "align_items": null,
            "bottom": null,
            "_model_module": "@jupyter-widgets/base",
            "top": null,
            "grid_column": null,
            "overflow_y": null,
            "overflow_x": null,
            "grid_auto_flow": null,
            "grid_area": null,
            "grid_template_columns": null,
            "flex": null,
            "_model_name": "LayoutModel",
            "justify_items": null,
            "grid_row": null,
            "max_height": null,
            "align_content": null,
            "visibility": null,
            "align_self": null,
            "height": null,
            "min_height": null,
            "padding": null,
            "grid_auto_rows": null,
            "grid_gap": null,
            "max_width": null,
            "order": null,
            "_view_module_version": "1.2.0",
            "grid_template_areas": null,
            "object_position": null,
            "object_fit": null,
            "grid_auto_columns": null,
            "margin": null,
            "display": null,
            "left": null
          }
        },
        "a924088c172d44fea2cfda7284646a86": {
          "model_module": "@jupyter-widgets/output",
          "model_name": "OutputModel",
          "state": {
            "_view_name": "OutputView",
            "msg_id": "",
            "_dom_classes": [],
            "_model_name": "OutputModel",
            "outputs": [
              {
                "output_type": "display_data",
                "metadata": {
                  "tags": []
                },
                "text/html": "<pre style=\"white-space:pre;overflow-x:auto;line-height:normal;font-family:Menlo,'DejaVu Sans Mono',consolas,'Courier New',monospace\"></pre>\n",
                "text/plain": "<rich.jupyter.JupyterRenderable at 0x7fe5267dbe10>"
              }
            ],
            "_view_module": "@jupyter-widgets/output",
            "_model_module_version": "1.0.0",
            "_view_count": null,
            "_view_module_version": "1.0.0",
            "layout": "IPY_MODEL_8a1947cc0956460584ad92f6a2b43808",
            "_model_module": "@jupyter-widgets/output"
          }
        },
        "8a1947cc0956460584ad92f6a2b43808": {
          "model_module": "@jupyter-widgets/base",
          "model_name": "LayoutModel",
          "state": {
            "_view_name": "LayoutView",
            "grid_template_rows": null,
            "right": null,
            "justify_content": null,
            "_view_module": "@jupyter-widgets/base",
            "overflow": null,
            "_model_module_version": "1.2.0",
            "_view_count": null,
            "flex_flow": null,
            "width": null,
            "min_width": null,
            "border": null,
            "align_items": null,
            "bottom": null,
            "_model_module": "@jupyter-widgets/base",
            "top": null,
            "grid_column": null,
            "overflow_y": null,
            "overflow_x": null,
            "grid_auto_flow": null,
            "grid_area": null,
            "grid_template_columns": null,
            "flex": null,
            "_model_name": "LayoutModel",
            "justify_items": null,
            "grid_row": null,
            "max_height": null,
            "align_content": null,
            "visibility": null,
            "align_self": null,
            "height": null,
            "min_height": null,
            "padding": null,
            "grid_auto_rows": null,
            "grid_gap": null,
            "max_width": null,
            "order": null,
            "_view_module_version": "1.2.0",
            "grid_template_areas": null,
            "object_position": null,
            "object_fit": null,
            "grid_auto_columns": null,
            "margin": null,
            "display": null,
            "left": null
          }
        },
        "08514e3d9e604562a5683b24d3f6abc5": {
          "model_module": "@jupyter-widgets/output",
          "model_name": "OutputModel",
          "state": {
            "_view_name": "OutputView",
            "msg_id": "",
            "_dom_classes": [],
            "_model_name": "OutputModel",
            "outputs": [
              {
                "output_type": "display_data",
                "metadata": {
                  "tags": []
                },
                "text/html": "<pre style=\"white-space:pre;overflow-x:auto;line-height:normal;font-family:Menlo,'DejaVu Sans Mono',consolas,'Courier New',monospace\"></pre>\n",
                "text/plain": "<rich.jupyter.JupyterRenderable at 0x7fe5267dbe10>"
              }
            ],
            "_view_module": "@jupyter-widgets/output",
            "_model_module_version": "1.0.0",
            "_view_count": null,
            "_view_module_version": "1.0.0",
            "layout": "IPY_MODEL_5b47bad1da5d4a8b98e1373dec7fd0fd",
            "_model_module": "@jupyter-widgets/output"
          }
        },
        "5b47bad1da5d4a8b98e1373dec7fd0fd": {
          "model_module": "@jupyter-widgets/base",
          "model_name": "LayoutModel",
          "state": {
            "_view_name": "LayoutView",
            "grid_template_rows": null,
            "right": null,
            "justify_content": null,
            "_view_module": "@jupyter-widgets/base",
            "overflow": null,
            "_model_module_version": "1.2.0",
            "_view_count": null,
            "flex_flow": null,
            "width": null,
            "min_width": null,
            "border": null,
            "align_items": null,
            "bottom": null,
            "_model_module": "@jupyter-widgets/base",
            "top": null,
            "grid_column": null,
            "overflow_y": null,
            "overflow_x": null,
            "grid_auto_flow": null,
            "grid_area": null,
            "grid_template_columns": null,
            "flex": null,
            "_model_name": "LayoutModel",
            "justify_items": null,
            "grid_row": null,
            "max_height": null,
            "align_content": null,
            "visibility": null,
            "align_self": null,
            "height": null,
            "min_height": null,
            "padding": null,
            "grid_auto_rows": null,
            "grid_gap": null,
            "max_width": null,
            "order": null,
            "_view_module_version": "1.2.0",
            "grid_template_areas": null,
            "object_position": null,
            "object_fit": null,
            "grid_auto_columns": null,
            "margin": null,
            "display": null,
            "left": null
          }
        },
        "d9b18776060c48faa5f7791b70bb192f": {
          "model_module": "@jupyter-widgets/output",
          "model_name": "OutputModel",
          "state": {
            "_view_name": "OutputView",
            "msg_id": "",
            "_dom_classes": [],
            "_model_name": "OutputModel",
            "outputs": [
              {
                "output_type": "display_data",
                "metadata": {
                  "tags": []
                },
                "text/html": "<pre style=\"white-space:pre;overflow-x:auto;line-height:normal;font-family:Menlo,'DejaVu Sans Mono',consolas,'Courier New',monospace\"></pre>\n",
                "text/plain": "<rich.jupyter.JupyterRenderable at 0x7fe5265fed10>"
              }
            ],
            "_view_module": "@jupyter-widgets/output",
            "_model_module_version": "1.0.0",
            "_view_count": null,
            "_view_module_version": "1.0.0",
            "layout": "IPY_MODEL_2d2c760f264a449dbd4745a8bfcb5538",
            "_model_module": "@jupyter-widgets/output"
          }
        },
        "2d2c760f264a449dbd4745a8bfcb5538": {
          "model_module": "@jupyter-widgets/base",
          "model_name": "LayoutModel",
          "state": {
            "_view_name": "LayoutView",
            "grid_template_rows": null,
            "right": null,
            "justify_content": null,
            "_view_module": "@jupyter-widgets/base",
            "overflow": null,
            "_model_module_version": "1.2.0",
            "_view_count": null,
            "flex_flow": null,
            "width": null,
            "min_width": null,
            "border": null,
            "align_items": null,
            "bottom": null,
            "_model_module": "@jupyter-widgets/base",
            "top": null,
            "grid_column": null,
            "overflow_y": null,
            "overflow_x": null,
            "grid_auto_flow": null,
            "grid_area": null,
            "grid_template_columns": null,
            "flex": null,
            "_model_name": "LayoutModel",
            "justify_items": null,
            "grid_row": null,
            "max_height": null,
            "align_content": null,
            "visibility": null,
            "align_self": null,
            "height": null,
            "min_height": null,
            "padding": null,
            "grid_auto_rows": null,
            "grid_gap": null,
            "max_width": null,
            "order": null,
            "_view_module_version": "1.2.0",
            "grid_template_areas": null,
            "object_position": null,
            "object_fit": null,
            "grid_auto_columns": null,
            "margin": null,
            "display": null,
            "left": null
          }
        },
        "b992ad9e16a345f7b08fda15cd3818ef": {
          "model_module": "@jupyter-widgets/output",
          "model_name": "OutputModel",
          "state": {
            "_view_name": "OutputView",
            "msg_id": "",
            "_dom_classes": [],
            "_model_name": "OutputModel",
            "outputs": [
              {
                "output_type": "display_data",
                "metadata": {
                  "tags": []
                },
                "text/html": "<pre style=\"white-space:pre;overflow-x:auto;line-height:normal;font-family:Menlo,'DejaVu Sans Mono',consolas,'Courier New',monospace\"></pre>\n",
                "text/plain": "<rich.jupyter.JupyterRenderable at 0x7fe526651250>"
              }
            ],
            "_view_module": "@jupyter-widgets/output",
            "_model_module_version": "1.0.0",
            "_view_count": null,
            "_view_module_version": "1.0.0",
            "layout": "IPY_MODEL_2ef14bcdd1734cb8bfe33e16b9607e74",
            "_model_module": "@jupyter-widgets/output"
          }
        },
        "2ef14bcdd1734cb8bfe33e16b9607e74": {
          "model_module": "@jupyter-widgets/base",
          "model_name": "LayoutModel",
          "state": {
            "_view_name": "LayoutView",
            "grid_template_rows": null,
            "right": null,
            "justify_content": null,
            "_view_module": "@jupyter-widgets/base",
            "overflow": null,
            "_model_module_version": "1.2.0",
            "_view_count": null,
            "flex_flow": null,
            "width": null,
            "min_width": null,
            "border": null,
            "align_items": null,
            "bottom": null,
            "_model_module": "@jupyter-widgets/base",
            "top": null,
            "grid_column": null,
            "overflow_y": null,
            "overflow_x": null,
            "grid_auto_flow": null,
            "grid_area": null,
            "grid_template_columns": null,
            "flex": null,
            "_model_name": "LayoutModel",
            "justify_items": null,
            "grid_row": null,
            "max_height": null,
            "align_content": null,
            "visibility": null,
            "align_self": null,
            "height": null,
            "min_height": null,
            "padding": null,
            "grid_auto_rows": null,
            "grid_gap": null,
            "max_width": null,
            "order": null,
            "_view_module_version": "1.2.0",
            "grid_template_areas": null,
            "object_position": null,
            "object_fit": null,
            "grid_auto_columns": null,
            "margin": null,
            "display": null,
            "left": null
          }
        },
        "bef40412dc354006a7486afaf6f1aaf0": {
          "model_module": "@jupyter-widgets/output",
          "model_name": "OutputModel",
          "state": {
            "_view_name": "OutputView",
            "msg_id": "",
            "_dom_classes": [],
            "_model_name": "OutputModel",
            "outputs": [
              {
                "output_type": "display_data",
                "metadata": {
                  "tags": []
                },
                "text/html": "<pre style=\"white-space:pre;overflow-x:auto;line-height:normal;font-family:Menlo,'DejaVu Sans Mono',consolas,'Courier New',monospace\"></pre>\n",
                "text/plain": "<rich.jupyter.JupyterRenderable at 0x7fe526576150>"
              }
            ],
            "_view_module": "@jupyter-widgets/output",
            "_model_module_version": "1.0.0",
            "_view_count": null,
            "_view_module_version": "1.0.0",
            "layout": "IPY_MODEL_bfd9106910c8447ebe2fc9caa80a9e23",
            "_model_module": "@jupyter-widgets/output"
          }
        },
        "bfd9106910c8447ebe2fc9caa80a9e23": {
          "model_module": "@jupyter-widgets/base",
          "model_name": "LayoutModel",
          "state": {
            "_view_name": "LayoutView",
            "grid_template_rows": null,
            "right": null,
            "justify_content": null,
            "_view_module": "@jupyter-widgets/base",
            "overflow": null,
            "_model_module_version": "1.2.0",
            "_view_count": null,
            "flex_flow": null,
            "width": null,
            "min_width": null,
            "border": null,
            "align_items": null,
            "bottom": null,
            "_model_module": "@jupyter-widgets/base",
            "top": null,
            "grid_column": null,
            "overflow_y": null,
            "overflow_x": null,
            "grid_auto_flow": null,
            "grid_area": null,
            "grid_template_columns": null,
            "flex": null,
            "_model_name": "LayoutModel",
            "justify_items": null,
            "grid_row": null,
            "max_height": null,
            "align_content": null,
            "visibility": null,
            "align_self": null,
            "height": null,
            "min_height": null,
            "padding": null,
            "grid_auto_rows": null,
            "grid_gap": null,
            "max_width": null,
            "order": null,
            "_view_module_version": "1.2.0",
            "grid_template_areas": null,
            "object_position": null,
            "object_fit": null,
            "grid_auto_columns": null,
            "margin": null,
            "display": null,
            "left": null
          }
        },
        "b2727166223841a0b3974c5c1339bfdb": {
          "model_module": "@jupyter-widgets/output",
          "model_name": "OutputModel",
          "state": {
            "_view_name": "OutputView",
            "msg_id": "",
            "_dom_classes": [],
            "_model_name": "OutputModel",
            "outputs": [
              {
                "output_type": "display_data",
                "metadata": {
                  "tags": []
                },
                "text/html": "<pre style=\"white-space:pre;overflow-x:auto;line-height:normal;font-family:Menlo,'DejaVu Sans Mono',consolas,'Courier New',monospace\"></pre>\n",
                "text/plain": "<rich.jupyter.JupyterRenderable at 0x7fe5264ef8d0>"
              }
            ],
            "_view_module": "@jupyter-widgets/output",
            "_model_module_version": "1.0.0",
            "_view_count": null,
            "_view_module_version": "1.0.0",
            "layout": "IPY_MODEL_cfc86497d8784cde980a41df66ee043f",
            "_model_module": "@jupyter-widgets/output"
          }
        },
        "cfc86497d8784cde980a41df66ee043f": {
          "model_module": "@jupyter-widgets/base",
          "model_name": "LayoutModel",
          "state": {
            "_view_name": "LayoutView",
            "grid_template_rows": null,
            "right": null,
            "justify_content": null,
            "_view_module": "@jupyter-widgets/base",
            "overflow": null,
            "_model_module_version": "1.2.0",
            "_view_count": null,
            "flex_flow": null,
            "width": null,
            "min_width": null,
            "border": null,
            "align_items": null,
            "bottom": null,
            "_model_module": "@jupyter-widgets/base",
            "top": null,
            "grid_column": null,
            "overflow_y": null,
            "overflow_x": null,
            "grid_auto_flow": null,
            "grid_area": null,
            "grid_template_columns": null,
            "flex": null,
            "_model_name": "LayoutModel",
            "justify_items": null,
            "grid_row": null,
            "max_height": null,
            "align_content": null,
            "visibility": null,
            "align_self": null,
            "height": null,
            "min_height": null,
            "padding": null,
            "grid_auto_rows": null,
            "grid_gap": null,
            "max_width": null,
            "order": null,
            "_view_module_version": "1.2.0",
            "grid_template_areas": null,
            "object_position": null,
            "object_fit": null,
            "grid_auto_columns": null,
            "margin": null,
            "display": null,
            "left": null
          }
        },
        "71acecb501c8410cbbf5df8ae7d17b0f": {
          "model_module": "@jupyter-widgets/output",
          "model_name": "OutputModel",
          "state": {
            "_view_name": "OutputView",
            "msg_id": "",
            "_dom_classes": [],
            "_model_name": "OutputModel",
            "outputs": [
              {
                "output_type": "display_data",
                "metadata": {
                  "tags": []
                },
                "text/html": "<pre style=\"white-space:pre;overflow-x:auto;line-height:normal;font-family:Menlo,'DejaVu Sans Mono',consolas,'Courier New',monospace\"></pre>\n",
                "text/plain": "<rich.jupyter.JupyterRenderable at 0x7fe5264325d0>"
              }
            ],
            "_view_module": "@jupyter-widgets/output",
            "_model_module_version": "1.0.0",
            "_view_count": null,
            "_view_module_version": "1.0.0",
            "layout": "IPY_MODEL_eaef8f232c53468883f65ebdd6778ec9",
            "_model_module": "@jupyter-widgets/output"
          }
        },
        "eaef8f232c53468883f65ebdd6778ec9": {
          "model_module": "@jupyter-widgets/base",
          "model_name": "LayoutModel",
          "state": {
            "_view_name": "LayoutView",
            "grid_template_rows": null,
            "right": null,
            "justify_content": null,
            "_view_module": "@jupyter-widgets/base",
            "overflow": null,
            "_model_module_version": "1.2.0",
            "_view_count": null,
            "flex_flow": null,
            "width": null,
            "min_width": null,
            "border": null,
            "align_items": null,
            "bottom": null,
            "_model_module": "@jupyter-widgets/base",
            "top": null,
            "grid_column": null,
            "overflow_y": null,
            "overflow_x": null,
            "grid_auto_flow": null,
            "grid_area": null,
            "grid_template_columns": null,
            "flex": null,
            "_model_name": "LayoutModel",
            "justify_items": null,
            "grid_row": null,
            "max_height": null,
            "align_content": null,
            "visibility": null,
            "align_self": null,
            "height": null,
            "min_height": null,
            "padding": null,
            "grid_auto_rows": null,
            "grid_gap": null,
            "max_width": null,
            "order": null,
            "_view_module_version": "1.2.0",
            "grid_template_areas": null,
            "object_position": null,
            "object_fit": null,
            "grid_auto_columns": null,
            "margin": null,
            "display": null,
            "left": null
          }
        },
        "01217ec3cb0a4097b57664f102c1be7a": {
          "model_module": "@jupyter-widgets/output",
          "model_name": "OutputModel",
          "state": {
            "_view_name": "OutputView",
            "msg_id": "",
            "_dom_classes": [],
            "_model_name": "OutputModel",
            "outputs": [
              {
                "output_type": "display_data",
                "metadata": {
                  "tags": []
                },
                "text/html": "<pre style=\"white-space:pre;overflow-x:auto;line-height:normal;font-family:Menlo,'DejaVu Sans Mono',consolas,'Courier New',monospace\"></pre>\n",
                "text/plain": "<rich.jupyter.JupyterRenderable at 0x7fe526447650>"
              }
            ],
            "_view_module": "@jupyter-widgets/output",
            "_model_module_version": "1.0.0",
            "_view_count": null,
            "_view_module_version": "1.0.0",
            "layout": "IPY_MODEL_56064325a0874580b570049f1ffebb56",
            "_model_module": "@jupyter-widgets/output"
          }
        },
        "56064325a0874580b570049f1ffebb56": {
          "model_module": "@jupyter-widgets/base",
          "model_name": "LayoutModel",
          "state": {
            "_view_name": "LayoutView",
            "grid_template_rows": null,
            "right": null,
            "justify_content": null,
            "_view_module": "@jupyter-widgets/base",
            "overflow": null,
            "_model_module_version": "1.2.0",
            "_view_count": null,
            "flex_flow": null,
            "width": null,
            "min_width": null,
            "border": null,
            "align_items": null,
            "bottom": null,
            "_model_module": "@jupyter-widgets/base",
            "top": null,
            "grid_column": null,
            "overflow_y": null,
            "overflow_x": null,
            "grid_auto_flow": null,
            "grid_area": null,
            "grid_template_columns": null,
            "flex": null,
            "_model_name": "LayoutModel",
            "justify_items": null,
            "grid_row": null,
            "max_height": null,
            "align_content": null,
            "visibility": null,
            "align_self": null,
            "height": null,
            "min_height": null,
            "padding": null,
            "grid_auto_rows": null,
            "grid_gap": null,
            "max_width": null,
            "order": null,
            "_view_module_version": "1.2.0",
            "grid_template_areas": null,
            "object_position": null,
            "object_fit": null,
            "grid_auto_columns": null,
            "margin": null,
            "display": null,
            "left": null
          }
        },
        "4cf08bf9e61c472dbf184dca7eca507c": {
          "model_module": "@jupyter-widgets/output",
          "model_name": "OutputModel",
          "state": {
            "_view_name": "OutputView",
            "msg_id": "",
            "_dom_classes": [],
            "_model_name": "OutputModel",
            "outputs": [
              {
                "output_type": "display_data",
                "metadata": {
                  "tags": []
                },
                "text/html": "<pre style=\"white-space:pre;overflow-x:auto;line-height:normal;font-family:Menlo,'DejaVu Sans Mono',consolas,'Courier New',monospace\"></pre>\n",
                "text/plain": "<rich.jupyter.JupyterRenderable at 0x7fe5263b6e90>"
              }
            ],
            "_view_module": "@jupyter-widgets/output",
            "_model_module_version": "1.0.0",
            "_view_count": null,
            "_view_module_version": "1.0.0",
            "layout": "IPY_MODEL_22894152b7a14164ad15b349da20fe07",
            "_model_module": "@jupyter-widgets/output"
          }
        },
        "22894152b7a14164ad15b349da20fe07": {
          "model_module": "@jupyter-widgets/base",
          "model_name": "LayoutModel",
          "state": {
            "_view_name": "LayoutView",
            "grid_template_rows": null,
            "right": null,
            "justify_content": null,
            "_view_module": "@jupyter-widgets/base",
            "overflow": null,
            "_model_module_version": "1.2.0",
            "_view_count": null,
            "flex_flow": null,
            "width": null,
            "min_width": null,
            "border": null,
            "align_items": null,
            "bottom": null,
            "_model_module": "@jupyter-widgets/base",
            "top": null,
            "grid_column": null,
            "overflow_y": null,
            "overflow_x": null,
            "grid_auto_flow": null,
            "grid_area": null,
            "grid_template_columns": null,
            "flex": null,
            "_model_name": "LayoutModel",
            "justify_items": null,
            "grid_row": null,
            "max_height": null,
            "align_content": null,
            "visibility": null,
            "align_self": null,
            "height": null,
            "min_height": null,
            "padding": null,
            "grid_auto_rows": null,
            "grid_gap": null,
            "max_width": null,
            "order": null,
            "_view_module_version": "1.2.0",
            "grid_template_areas": null,
            "object_position": null,
            "object_fit": null,
            "grid_auto_columns": null,
            "margin": null,
            "display": null,
            "left": null
          }
        }
      }
    }
  },
  "cells": [
    {
      "cell_type": "markdown",
      "metadata": {
        "id": "PpL1dmSACkjr"
      },
      "source": [
        "# Lab 7: Conflict Monitoring, Effort, & Control\n",
        "\n",
        "Humans are motivationally omnivorous -- from wanting to catch a fish to wanting to walk on the moon.  Accomplishing open-ended goals that can span days to lifetimes requires ... did you just get an email notification?  Go ahead, check your phone, this notebook is very patient... now you're back ... requires a cognitive architecture capable overcoming interuptions, sustaining effort, and controlling attention.  These abilities comprise the will of free will.  \n",
        "\n",
        "Around the start of the semester you freely decided to learn about computational modeling of psychological function, and for the most part have willfully followed through.  At times it has been effortless -- when you were captivated by fascinating discoveries, theories, and models.  At other times it has been effortful -- requiring you to suppress a wide variety of distractions and competing interests.  During those effortful moments, when you succeeded in maintaining or regaining focus on the lectures, readings, or lab work, what was happening in your mind? In this lab we will explore the cognitive processes that monitor for internal conflict and help overcome that conflict.  When effort is required to help control attention, mechanisms that monitor conflict can activate effort and control.  For a familiar starting point, we will build a conflict monitoring system on top of a Stroop model introduced in Lab 6."
      ]
    },
    {
      "cell_type": "code",
      "metadata": {
        "id": "zYvQz7h6Ckju",
        "colab": {
          "base_uri": "https://localhost:8080/"
        },
        "outputId": "7f178c87-2264-4bdb-d1fe-20fc0cc4e9f7"
      },
      "source": [
        "!pip install psyneulink\n",
        "!pip install stroop "
      ],
      "execution_count": null,
      "outputs": [
        {
          "output_type": "stream",
          "text": [
            "Collecting psyneulink\n",
            "\u001b[?25l  Downloading https://files.pythonhosted.org/packages/ba/6d/2ffdb8062f4a0e1b87c4ce6fae7343197414d3cbd758a50af962e84f7cdf/psyneulink-0.8.7.1-py3-none-any.whl (1.3MB)\n",
            "\u001b[K     |████████████████████████████████| 1.3MB 5.9MB/s \n",
            "\u001b[?25hCollecting rich<9.13,>=9.11\n",
            "\u001b[?25l  Downloading https://files.pythonhosted.org/packages/22/a2/ed4114c01585e9e3678b7ba75357f562ac132e35ba7b9b79bb68e91d6dc8/rich-9.12.4-py3-none-any.whl (197kB)\n",
            "\u001b[K     |████████████████████████████████| 204kB 22.2MB/s \n",
            "\u001b[?25hRequirement already satisfied: networkx<2.6 in /usr/local/lib/python3.7/dist-packages (from psyneulink) (2.5)\n",
            "Requirement already satisfied: graphviz<0.17.0 in /usr/local/lib/python3.7/dist-packages (from psyneulink) (0.10.1)\n",
            "Collecting toposort<1.7\n",
            "  Downloading https://files.pythonhosted.org/packages/f2/7d/55784e894ee0cde2474fb977ffd1651e74e840a9f92e1d847f7e3115d5ec/toposort-1.6-py2.py3-none-any.whl\n",
            "Requirement already satisfied: dill<=0.32 in /usr/local/lib/python3.7/dist-packages (from psyneulink) (0.3.3)\n",
            "Requirement already satisfied: llvmlite<0.37 in /usr/local/lib/python3.7/dist-packages (from psyneulink) (0.34.0)\n",
            "Requirement already satisfied: matplotlib<3.3.4 in /usr/local/lib/python3.7/dist-packages (from psyneulink) (3.2.2)\n",
            "Collecting torch<1.8.0; sys_platform != \"win32\" and platform_machine == \"x86_64\" and platform_python_implementation == \"CPython\"\n",
            "\u001b[?25l  Downloading https://files.pythonhosted.org/packages/90/5d/095ddddc91c8a769a68c791c019c5793f9c4456a688ddd235d6670924ecb/torch-1.7.1-cp37-cp37m-manylinux1_x86_64.whl (776.8MB)\n",
            "\u001b[K     |████████████████████████████████| 776.8MB 21kB/s \n",
            "\u001b[?25hCollecting elfi<0.7.8\n",
            "\u001b[?25l  Downloading https://files.pythonhosted.org/packages/0a/7e/c8c5080b7822580ab2466b4f98def58c392d2cb6c11975377008a852726a/elfi-0.7.7-py3-none-any.whl (122kB)\n",
            "\u001b[K     |████████████████████████████████| 122kB 46.4MB/s \n",
            "\u001b[?25hCollecting grpcio-tools<1.35.0\n",
            "\u001b[?25l  Downloading https://files.pythonhosted.org/packages/ef/b8/086bc32788e7127f6655c1ec3bd000902e4c9225b587b19b09c4d8ced384/grpcio_tools-1.34.1-cp37-cp37m-manylinux2014_x86_64.whl (2.5MB)\n",
            "\u001b[K     |████████████████████████████████| 2.5MB 36.4MB/s \n",
            "\u001b[?25hRequirement already satisfied: numpy<1.20.2 in /usr/local/lib/python3.7/dist-packages (from psyneulink) (1.19.5)\n",
            "Requirement already satisfied: autograd<=1.3 in /usr/local/lib/python3.7/dist-packages (from psyneulink) (1.3)\n",
            "Collecting leabra-psyneulink<=0.3.2\n",
            "  Downloading https://files.pythonhosted.org/packages/3f/62/6cedb15e61fc4a77fb23a37126666258ab9ca33653e4d8360f65cf0fb641/leabra_psyneulink-0.3.2-py3-none-any.whl\n",
            "Requirement already satisfied: grpcio<1.35.0 in /usr/local/lib/python3.7/dist-packages (from psyneulink) (1.32.0)\n",
            "Requirement already satisfied: pillow<8.1.0 in /usr/local/lib/python3.7/dist-packages (from psyneulink) (7.1.2)\n",
            "Collecting typecheck-decorator<=1.2\n",
            "  Downloading https://files.pythonhosted.org/packages/e0/4d/c925353ad7a3b69ad9957748bdc709aa535df0a303f2d0318e02ad8f39d2/typecheck-decorator-1.2.zip\n",
            "Collecting commonmark<0.10.0,>=0.9.0\n",
            "\u001b[?25l  Downloading https://files.pythonhosted.org/packages/b1/92/dfd892312d822f36c55366118b95d914e5f16de11044a27cf10a7d71bbbf/commonmark-0.9.1-py2.py3-none-any.whl (51kB)\n",
            "\u001b[K     |████████████████████████████████| 51kB 5.7MB/s \n",
            "\u001b[?25hRequirement already satisfied: pygments<3.0.0,>=2.6.0 in /usr/local/lib/python3.7/dist-packages (from rich<9.13,>=9.11->psyneulink) (2.6.1)\n",
            "Requirement already satisfied: typing-extensions<4.0.0,>=3.7.4 in /usr/local/lib/python3.7/dist-packages (from rich<9.13,>=9.11->psyneulink) (3.7.4.3)\n",
            "Collecting colorama<0.5.0,>=0.4.0\n",
            "  Downloading https://files.pythonhosted.org/packages/44/98/5b86278fbbf250d239ae0ecb724f8572af1c91f4a11edf4d36a206189440/colorama-0.4.4-py2.py3-none-any.whl\n",
            "Requirement already satisfied: decorator>=4.3.0 in /usr/local/lib/python3.7/dist-packages (from networkx<2.6->psyneulink) (4.4.2)\n",
            "Requirement already satisfied: kiwisolver>=1.0.1 in /usr/local/lib/python3.7/dist-packages (from matplotlib<3.3.4->psyneulink) (1.3.1)\n",
            "Requirement already satisfied: pyparsing!=2.0.4,!=2.1.2,!=2.1.6,>=2.0.1 in /usr/local/lib/python3.7/dist-packages (from matplotlib<3.3.4->psyneulink) (2.4.7)\n",
            "Requirement already satisfied: python-dateutil>=2.1 in /usr/local/lib/python3.7/dist-packages (from matplotlib<3.3.4->psyneulink) (2.8.1)\n",
            "Requirement already satisfied: cycler>=0.10 in /usr/local/lib/python3.7/dist-packages (from matplotlib<3.3.4->psyneulink) (0.10.0)\n",
            "Requirement already satisfied: scipy>=0.19 in /usr/local/lib/python3.7/dist-packages (from elfi<0.7.8->psyneulink) (1.4.1)\n",
            "Collecting GPy>=1.0.9\n",
            "\u001b[?25l  Downloading https://files.pythonhosted.org/packages/67/95/976598f98adbfa918a480cb2d643f93fb555ca5b6c5614f76b69678114c1/GPy-1.9.9.tar.gz (995kB)\n",
            "\u001b[K     |████████████████████████████████| 1.0MB 36.9MB/s \n",
            "\u001b[?25hRequirement already satisfied: dask[distributed]<3.0.0,>=1.0.0 in /usr/local/lib/python3.7/dist-packages (from elfi<0.7.8->psyneulink) (2.12.0)\n",
            "Requirement already satisfied: toolz>=0.8 in /usr/local/lib/python3.7/dist-packages (from elfi<0.7.8->psyneulink) (0.11.1)\n",
            "Collecting ipyparallel>=6\n",
            "\u001b[?25l  Downloading https://files.pythonhosted.org/packages/3b/e9/03a9189eb39276396309faf28bf833b4328befe4513bbf375b811a36a076/ipyparallel-6.3.0-py3-none-any.whl (199kB)\n",
            "\u001b[K     |████████████████████████████████| 204kB 44.8MB/s \n",
            "\u001b[?25hRequirement already satisfied: scikit-learn>=0.18.1 in /usr/local/lib/python3.7/dist-packages (from elfi<0.7.8->psyneulink) (0.22.2.post1)\n",
            "Requirement already satisfied: protobuf<4.0dev,>=3.5.0.post1 in /usr/local/lib/python3.7/dist-packages (from grpcio-tools<1.35.0->psyneulink) (3.12.4)\n",
            "Requirement already satisfied: setuptools in /usr/local/lib/python3.7/dist-packages (from grpcio-tools<1.35.0->psyneulink) (54.2.0)\n",
            "Requirement already satisfied: future>=0.15.2 in /usr/local/lib/python3.7/dist-packages (from autograd<=1.3->psyneulink) (0.16.0)\n",
            "Requirement already satisfied: jupyter in /usr/local/lib/python3.7/dist-packages (from leabra-psyneulink<=0.3.2->psyneulink) (1.0.0)\n",
            "Requirement already satisfied: ipywidgets>=7.0 in /usr/local/lib/python3.7/dist-packages (from leabra-psyneulink<=0.3.2->psyneulink) (7.6.3)\n",
            "Requirement already satisfied: bokeh>=0.12.6 in /usr/local/lib/python3.7/dist-packages (from leabra-psyneulink<=0.3.2->psyneulink) (2.3.0)\n",
            "Requirement already satisfied: six>=1.5.2 in /usr/local/lib/python3.7/dist-packages (from grpcio<1.35.0->psyneulink) (1.15.0)\n",
            "Collecting paramz>=0.9.0\n",
            "\u001b[?25l  Downloading https://files.pythonhosted.org/packages/d8/37/4abbeb78d30f20d3402887f46e6e9f3ef32034a9dea65d243654c82c8553/paramz-0.9.5.tar.gz (71kB)\n",
            "\u001b[K     |████████████████████████████████| 71kB 7.8MB/s \n",
            "\u001b[?25hCollecting distributed>=2.0; extra == \"distributed\"\n",
            "\u001b[?25l  Downloading https://files.pythonhosted.org/packages/0c/b0/3454dc44239c526f9c9e4cf04f62823776b71f927db74302986d56e7a9a1/distributed-2021.4.0-py3-none-any.whl (684kB)\n",
            "\u001b[K     |████████████████████████████████| 686kB 45.7MB/s \n",
            "\u001b[?25hRequirement already satisfied: ipython>=4 in /usr/local/lib/python3.7/dist-packages (from ipyparallel>=6->elfi<0.7.8->psyneulink) (5.5.0)\n",
            "Requirement already satisfied: tornado>=4 in /usr/local/lib/python3.7/dist-packages (from ipyparallel>=6->elfi<0.7.8->psyneulink) (5.1.1)\n",
            "Requirement already satisfied: jupyter-client in /usr/local/lib/python3.7/dist-packages (from ipyparallel>=6->elfi<0.7.8->psyneulink) (5.3.5)\n",
            "Requirement already satisfied: ipykernel>=4.4 in /usr/local/lib/python3.7/dist-packages (from ipyparallel>=6->elfi<0.7.8->psyneulink) (4.10.1)\n",
            "Requirement already satisfied: ipython-genutils in /usr/local/lib/python3.7/dist-packages (from ipyparallel>=6->elfi<0.7.8->psyneulink) (0.2.0)\n",
            "Requirement already satisfied: pyzmq>=13 in /usr/local/lib/python3.7/dist-packages (from ipyparallel>=6->elfi<0.7.8->psyneulink) (22.0.3)\n",
            "Requirement already satisfied: traitlets>=4.3 in /usr/local/lib/python3.7/dist-packages (from ipyparallel>=6->elfi<0.7.8->psyneulink) (5.0.5)\n",
            "Requirement already satisfied: joblib>=0.11 in /usr/local/lib/python3.7/dist-packages (from scikit-learn>=0.18.1->elfi<0.7.8->psyneulink) (1.0.1)\n",
            "Requirement already satisfied: notebook in /usr/local/lib/python3.7/dist-packages (from jupyter->leabra-psyneulink<=0.3.2->psyneulink) (5.3.1)\n",
            "Requirement already satisfied: jupyter-console in /usr/local/lib/python3.7/dist-packages (from jupyter->leabra-psyneulink<=0.3.2->psyneulink) (5.2.0)\n",
            "Requirement already satisfied: nbconvert in /usr/local/lib/python3.7/dist-packages (from jupyter->leabra-psyneulink<=0.3.2->psyneulink) (5.6.1)\n",
            "Requirement already satisfied: qtconsole in /usr/local/lib/python3.7/dist-packages (from jupyter->leabra-psyneulink<=0.3.2->psyneulink) (5.0.3)\n",
            "Requirement already satisfied: jupyterlab-widgets>=1.0.0; python_version >= \"3.6\" in /usr/local/lib/python3.7/dist-packages (from ipywidgets>=7.0->leabra-psyneulink<=0.3.2->psyneulink) (1.0.0)\n",
            "Requirement already satisfied: nbformat>=4.2.0 in /usr/local/lib/python3.7/dist-packages (from ipywidgets>=7.0->leabra-psyneulink<=0.3.2->psyneulink) (5.1.2)\n",
            "Requirement already satisfied: widgetsnbextension~=3.5.0 in /usr/local/lib/python3.7/dist-packages (from ipywidgets>=7.0->leabra-psyneulink<=0.3.2->psyneulink) (3.5.1)\n",
            "Requirement already satisfied: PyYAML>=3.10 in /usr/local/lib/python3.7/dist-packages (from bokeh>=0.12.6->leabra-psyneulink<=0.3.2->psyneulink) (3.13)\n",
            "Requirement already satisfied: Jinja2>=2.7 in /usr/local/lib/python3.7/dist-packages (from bokeh>=0.12.6->leabra-psyneulink<=0.3.2->psyneulink) (2.11.3)\n",
            "Requirement already satisfied: packaging>=16.8 in /usr/local/lib/python3.7/dist-packages (from bokeh>=0.12.6->leabra-psyneulink<=0.3.2->psyneulink) (20.9)\n",
            "Requirement already satisfied: sortedcontainers!=2.0.0,!=2.0.1 in /usr/local/lib/python3.7/dist-packages (from distributed>=2.0; extra == \"distributed\"->dask[distributed]<3.0.0,>=1.0.0->elfi<0.7.8->psyneulink) (2.3.0)\n",
            "Requirement already satisfied: psutil>=5.0 in /usr/local/lib/python3.7/dist-packages (from distributed>=2.0; extra == \"distributed\"->dask[distributed]<3.0.0,>=1.0.0->elfi<0.7.8->psyneulink) (5.4.8)\n",
            "Requirement already satisfied: tblib>=1.6.0 in /usr/local/lib/python3.7/dist-packages (from distributed>=2.0; extra == \"distributed\"->dask[distributed]<3.0.0,>=1.0.0->elfi<0.7.8->psyneulink) (1.7.0)\n",
            "Requirement already satisfied: click>=6.6 in /usr/local/lib/python3.7/dist-packages (from distributed>=2.0; extra == \"distributed\"->dask[distributed]<3.0.0,>=1.0.0->elfi<0.7.8->psyneulink) (7.1.2)\n",
            "Requirement already satisfied: zict>=0.1.3 in /usr/local/lib/python3.7/dist-packages (from distributed>=2.0; extra == \"distributed\"->dask[distributed]<3.0.0,>=1.0.0->elfi<0.7.8->psyneulink) (2.0.0)\n",
            "Collecting cloudpickle>=1.5.0\n",
            "  Downloading https://files.pythonhosted.org/packages/e7/e3/898487e5dbeb612054cf2e0c188463acb358167fef749c53c8bb8918cea1/cloudpickle-1.6.0-py3-none-any.whl\n",
            "Requirement already satisfied: msgpack>=0.6.0 in /usr/local/lib/python3.7/dist-packages (from distributed>=2.0; extra == \"distributed\"->dask[distributed]<3.0.0,>=1.0.0->elfi<0.7.8->psyneulink) (1.0.2)\n",
            "Requirement already satisfied: pexpect; sys_platform != \"win32\" in /usr/local/lib/python3.7/dist-packages (from ipython>=4->ipyparallel>=6->elfi<0.7.8->psyneulink) (4.8.0)\n",
            "Requirement already satisfied: pickleshare in /usr/local/lib/python3.7/dist-packages (from ipython>=4->ipyparallel>=6->elfi<0.7.8->psyneulink) (0.7.5)\n",
            "Requirement already satisfied: prompt-toolkit<2.0.0,>=1.0.4 in /usr/local/lib/python3.7/dist-packages (from ipython>=4->ipyparallel>=6->elfi<0.7.8->psyneulink) (1.0.18)\n",
            "Requirement already satisfied: simplegeneric>0.8 in /usr/local/lib/python3.7/dist-packages (from ipython>=4->ipyparallel>=6->elfi<0.7.8->psyneulink) (0.8.1)\n",
            "Requirement already satisfied: jupyter-core>=4.6.0 in /usr/local/lib/python3.7/dist-packages (from jupyter-client->ipyparallel>=6->elfi<0.7.8->psyneulink) (4.7.1)\n",
            "Requirement already satisfied: Send2Trash in /usr/local/lib/python3.7/dist-packages (from notebook->jupyter->leabra-psyneulink<=0.3.2->psyneulink) (1.5.0)\n",
            "Requirement already satisfied: terminado>=0.8.1 in /usr/local/lib/python3.7/dist-packages (from notebook->jupyter->leabra-psyneulink<=0.3.2->psyneulink) (0.9.3)\n",
            "Requirement already satisfied: entrypoints>=0.2.2 in /usr/local/lib/python3.7/dist-packages (from nbconvert->jupyter->leabra-psyneulink<=0.3.2->psyneulink) (0.3)\n",
            "Requirement already satisfied: bleach in /usr/local/lib/python3.7/dist-packages (from nbconvert->jupyter->leabra-psyneulink<=0.3.2->psyneulink) (3.3.0)\n",
            "Requirement already satisfied: pandocfilters>=1.4.1 in /usr/local/lib/python3.7/dist-packages (from nbconvert->jupyter->leabra-psyneulink<=0.3.2->psyneulink) (1.4.3)\n",
            "Requirement already satisfied: defusedxml in /usr/local/lib/python3.7/dist-packages (from nbconvert->jupyter->leabra-psyneulink<=0.3.2->psyneulink) (0.7.1)\n",
            "Requirement already satisfied: testpath in /usr/local/lib/python3.7/dist-packages (from nbconvert->jupyter->leabra-psyneulink<=0.3.2->psyneulink) (0.4.4)\n",
            "Requirement already satisfied: mistune<2,>=0.8.1 in /usr/local/lib/python3.7/dist-packages (from nbconvert->jupyter->leabra-psyneulink<=0.3.2->psyneulink) (0.8.4)\n",
            "Requirement already satisfied: qtpy in /usr/local/lib/python3.7/dist-packages (from qtconsole->jupyter->leabra-psyneulink<=0.3.2->psyneulink) (1.9.0)\n",
            "Requirement already satisfied: jsonschema!=2.5.0,>=2.4 in /usr/local/lib/python3.7/dist-packages (from nbformat>=4.2.0->ipywidgets>=7.0->leabra-psyneulink<=0.3.2->psyneulink) (2.6.0)\n",
            "Requirement already satisfied: MarkupSafe>=0.23 in /usr/local/lib/python3.7/dist-packages (from Jinja2>=2.7->bokeh>=0.12.6->leabra-psyneulink<=0.3.2->psyneulink) (1.1.1)\n",
            "Requirement already satisfied: heapdict in /usr/local/lib/python3.7/dist-packages (from zict>=0.1.3->distributed>=2.0; extra == \"distributed\"->dask[distributed]<3.0.0,>=1.0.0->elfi<0.7.8->psyneulink) (1.0.1)\n",
            "Requirement already satisfied: ptyprocess>=0.5 in /usr/local/lib/python3.7/dist-packages (from pexpect; sys_platform != \"win32\"->ipython>=4->ipyparallel>=6->elfi<0.7.8->psyneulink) (0.7.0)\n",
            "Requirement already satisfied: wcwidth in /usr/local/lib/python3.7/dist-packages (from prompt-toolkit<2.0.0,>=1.0.4->ipython>=4->ipyparallel>=6->elfi<0.7.8->psyneulink) (0.2.5)\n",
            "Requirement already satisfied: webencodings in /usr/local/lib/python3.7/dist-packages (from bleach->nbconvert->jupyter->leabra-psyneulink<=0.3.2->psyneulink) (0.5.1)\n",
            "Building wheels for collected packages: typecheck-decorator, GPy, paramz\n",
            "  Building wheel for typecheck-decorator (setup.py) ... \u001b[?25l\u001b[?25hdone\n",
            "  Created wheel for typecheck-decorator: filename=typecheck_decorator-1.2-cp37-none-any.whl size=16879 sha256=02552c86d87faf24a00e5a5f95d7762490ccd4807af15eaf1e93ffa6952d3d79\n",
            "  Stored in directory: /root/.cache/pip/wheels/ef/12/5a/fd05ccc14a1471b48e92c86ef837164eeeb26d80acdf2084f3\n",
            "  Building wheel for GPy (setup.py) ... \u001b[?25l\u001b[?25hdone\n",
            "  Created wheel for GPy: filename=GPy-1.9.9-cp37-cp37m-linux_x86_64.whl size=2626968 sha256=19e33a9c8942e5d74274d68c0a377707f2ab56a722b1d7076bb851de9af4e547\n",
            "  Stored in directory: /root/.cache/pip/wheels/5d/36/66/2b58860c84c9f2b51615da66bfd6feeddbc4e04d887ff96dfa\n",
            "  Building wheel for paramz (setup.py) ... \u001b[?25l\u001b[?25hdone\n",
            "  Created wheel for paramz: filename=paramz-0.9.5-cp37-none-any.whl size=102552 sha256=1d0468ef8f5a27e1d1f9b074c8b0d33589e30504d53a782edae455de59f37417\n",
            "  Stored in directory: /root/.cache/pip/wheels/c8/4a/0e/6e0dc85541825f991c431619e25b870d4b812c911214690cf8\n",
            "Successfully built typecheck-decorator GPy paramz\n",
            "\u001b[31mERROR: torchvision 0.9.1+cu101 has requirement torch==1.8.1, but you'll have torch 1.7.1 which is incompatible.\u001b[0m\n",
            "\u001b[31mERROR: torchtext 0.9.1 has requirement torch==1.8.1, but you'll have torch 1.7.1 which is incompatible.\u001b[0m\n",
            "\u001b[31mERROR: distributed 2021.4.0 has requirement dask>=2021.03.0, but you'll have dask 2.12.0 which is incompatible.\u001b[0m\n",
            "\u001b[31mERROR: grpcio-tools 1.34.1 has requirement grpcio>=1.34.1, but you'll have grpcio 1.32.0 which is incompatible.\u001b[0m\n",
            "Installing collected packages: commonmark, colorama, rich, toposort, torch, paramz, GPy, ipyparallel, elfi, grpcio-tools, leabra-psyneulink, typecheck-decorator, psyneulink, cloudpickle, distributed\n",
            "  Found existing installation: torch 1.8.1+cu101\n",
            "    Uninstalling torch-1.8.1+cu101:\n",
            "      Successfully uninstalled torch-1.8.1+cu101\n",
            "  Found existing installation: cloudpickle 1.3.0\n",
            "    Uninstalling cloudpickle-1.3.0:\n",
            "      Successfully uninstalled cloudpickle-1.3.0\n",
            "  Found existing installation: distributed 1.25.3\n",
            "    Uninstalling distributed-1.25.3:\n",
            "      Successfully uninstalled distributed-1.25.3\n",
            "Successfully installed GPy-1.9.9 cloudpickle-1.6.0 colorama-0.4.4 commonmark-0.9.1 distributed-2021.4.0 elfi-0.7.7 grpcio-tools-1.34.1 ipyparallel-6.3.0 leabra-psyneulink-0.3.2 paramz-0.9.5 psyneulink-0.8.7.1 rich-9.12.4 toposort-1.6 torch-1.7.1 typecheck-decorator-1.2\n",
            "Collecting stroop\n",
            "  Downloading https://files.pythonhosted.org/packages/c8/78/5d7b4311a8386caaa504caf42beb54811fe0f836ebc2815faa89ec3bf723/stroop-0.3.tar.gz\n",
            "Requirement already satisfied: numpy in /usr/local/lib/python3.7/dist-packages (from stroop) (1.19.5)\n",
            "Building wheels for collected packages: stroop\n",
            "  Building wheel for stroop (setup.py) ... \u001b[?25l\u001b[?25hdone\n",
            "  Created wheel for stroop: filename=stroop-0.3-cp37-none-any.whl size=3718 sha256=0baae8bb69e578e71c2d33b7133d400e4a3bac19d2caecf79b6339ec5c185c64\n",
            "  Stored in directory: /root/.cache/pip/wheels/0f/ba/90/d58e22dc791164785fc152fa56868dc133227bdb776036fac2\n",
            "Successfully built stroop\n",
            "Installing collected packages: stroop\n",
            "Successfully installed stroop-0.3\n"
          ],
          "name": "stdout"
        }
      ]
    },
    {
      "cell_type": "markdown",
      "metadata": {
        "id": "Q-DpKLWyCkj0"
      },
      "source": [
        "## <a id='table'>Table of contents </a> \n",
        "\n",
        "#### Models \n",
        "- [1. Setup, the stroop model and the task stimuli](#s1)\n",
        "- [2. Decision activity](#s2)\n",
        "- [3. Decision energy](#s3)\n",
        "- [4. Task demand](#s4)\n",
        "\n",
        "\n",
        "#### Lab exercises \n",
        "- [1. Setting Expectations](#l1)\n",
        "- [2. Visualize the activity time course for the hidden layers on a green trial](#l2)\n",
        "- [3. Energy, the initial state](#l3)\n",
        "- [4. Interpret the task demand results above](#l4)\n",
        "- [5. Putting it all together](#l5)\n",
        "- [6. BUILD](#l6)"
      ]
    },
    {
      "cell_type": "code",
      "metadata": {
        "colab": {
          "base_uri": "https://localhost:8080/",
          "height": 34
        },
        "id": "hHzoh1nUCkj1",
        "outputId": "b43d724c-b9de-4ad4-ba2a-f5f7e9c7afe1"
      },
      "source": [
        "import os\n",
        "import time\n",
        "import numpy as np\n",
        "import psyneulink as pnl \n",
        "\n",
        "import stroop\n",
        "from stroop.stimulus import get_stimulus_set, TASKS, COLORS, CONDITIONS\n",
        "\n",
        "import matplotlib.pyplot as plt\n",
        "from matplotlib.lines import Line2D\n",
        "import seaborn as sns\n",
        "\n",
        "sns.set(style='white', context='talk', palette=\"colorblind\")\n",
        "np.random.seed(0)\n",
        "\n",
        "%matplotlib inline \n",
        "%autosave 5"
      ],
      "execution_count": null,
      "outputs": [
        {
          "output_type": "display_data",
          "data": {
            "application/javascript": [
              "IPython.notebook.set_autosave_interval(5000)"
            ]
          },
          "metadata": {
            "tags": []
          }
        },
        {
          "output_type": "stream",
          "text": [
            "Autosaving every 5 seconds\n"
          ],
          "name": "stdout"
        }
      ]
    },
    {
      "cell_type": "code",
      "metadata": {
        "colab": {
          "base_uri": "https://localhost:8080/"
        },
        "id": "iCdXb4-3Ckj9",
        "outputId": "effb0c67-13d2-4c8d-9f74-bb7368e88ca7"
      },
      "source": [
        "# constants\n",
        "experiment_info = f\"\"\"\n",
        "stroop experiment info\n",
        "- all colors:\\t {COLORS}\n",
        "- all words:\\t {COLORS}\n",
        "- all tasks:\\t {TASKS}\n",
        "- all conditions:{CONDITIONS}\n",
        "\"\"\"\n",
        "print(experiment_info)\n",
        "\n",
        "# calculate experiment metadata\n",
        "n_conditions = len(CONDITIONS)\n",
        "n_tasks = len(TASKS)\n",
        "n_colors = len(COLORS)\n",
        "\n",
        "# OTHER CONSTANTS\n",
        "N_UNITS = 2"
      ],
      "execution_count": null,
      "outputs": [
        {
          "output_type": "stream",
          "text": [
            "\n",
            "stroop experiment info\n",
            "- all colors:\t ['red', 'green']\n",
            "- all words:\t ['red', 'green']\n",
            "- all tasks:\t ['color naming', 'word reading']\n",
            "- all conditions:['control', 'conflict', 'congruent']\n",
            "\n"
          ],
          "name": "stdout"
        }
      ]
    },
    {
      "cell_type": "markdown",
      "metadata": {
        "id": "ZMyl3JmgCkkC"
      },
      "source": [
        "## <a id='s1'>1. Setup</a> \n",
        "[back to top](#table)\n",
        "\n",
        "### 1.1 The stroop model \n",
        "Here's the stroop model again. For simplicity, we will turn off the noise when initializing the model, but feel free to play with different noise levels. "
      ]
    },
    {
      "cell_type": "code",
      "metadata": {
        "id": "LPRpGTdTCkkD"
      },
      "source": [
        "'''define the stroop model'''\n",
        "\n",
        "def get_stroop_model(unit_noise_std=.01, dec_noise_std=.1):\n",
        "    # model params\n",
        "    hidden_func = pnl.Logistic(gain=1.0, x_0=4.0)\n",
        "    integration_rate = .2\n",
        "    leak = 0\n",
        "    competition = 1\n",
        "    # input layer, color and word\n",
        "    inp_clr = pnl.TransferMechanism(\n",
        "        size=N_UNITS, function=pnl.Linear, name='COLOR INPUT'\n",
        "    )\n",
        "    inp_wrd = pnl.TransferMechanism(\n",
        "        size=N_UNITS, function=pnl.Linear, name='WORD INPUT'\n",
        "    )\n",
        "    # task layer, represent the task instruction; color naming / word reading\n",
        "    inp_task = pnl.TransferMechanism(\n",
        "        size=N_UNITS, function=pnl.Linear, name='TASK'\n",
        "    )\n",
        "    # hidden layer for color and word\n",
        "    hid_clr = pnl.TransferMechanism(\n",
        "        size=N_UNITS,\n",
        "        function=hidden_func,\n",
        "        integrator_mode=True,\n",
        "        integration_rate=integration_rate,\n",
        "        noise=pnl.NormalDist(standard_deviation=unit_noise_std).function,\n",
        "        name='COLORS HIDDEN'\n",
        "    )\n",
        "    hid_wrd = pnl.TransferMechanism(\n",
        "        size=N_UNITS,\n",
        "        function=hidden_func,\n",
        "        integrator_mode=True,\n",
        "        integration_rate=integration_rate,\n",
        "        noise=pnl.NormalDist(standard_deviation=unit_noise_std).function,\n",
        "        name='WORDS HIDDEN'\n",
        "    )\n",
        "    # output layer\n",
        "    output = pnl.TransferMechanism(\n",
        "        size=N_UNITS,\n",
        "        function=pnl.Logistic,\n",
        "        integrator_mode=True,\n",
        "        integration_rate=integration_rate,\n",
        "        noise=pnl.NormalDist(standard_deviation=unit_noise_std).function,\n",
        "        name='OUTPUT'\n",
        "    )\n",
        "    # decision layer, some accumulator\n",
        "    decision = pnl.LCAMechanism(\n",
        "        size=N_UNITS,\n",
        "        leak=leak, competition=competition,\n",
        "        noise=pnl.UniformToNormalDist(\n",
        "            standard_deviation=dec_noise_std).function,\n",
        "        name='DECISION'\n",
        "    )\n",
        "    # PROJECTIONS, weights copied from cohen et al (1990)\n",
        "    wts_clr_ih = pnl.MappingProjection(\n",
        "        matrix=[[2.2, -2.2], [-2.2, 2.2]], name='COLOR INPUT TO HIDDEN')\n",
        "    wts_wrd_ih = pnl.MappingProjection(\n",
        "        matrix=[[2.6, -2.6], [-2.6, 2.6]], name='WORD INPUT TO HIDDEN')\n",
        "    wts_clr_ho = pnl.MappingProjection(\n",
        "        matrix=[[1.3, -1.3], [-1.3, 1.3]], name='COLOR HIDDEN TO OUTPUT')\n",
        "    wts_wrd_ho = pnl.MappingProjection(\n",
        "        matrix=[[2.5, -2.5], [-2.5, 2.5]], name='WORD HIDDEN TO OUTPUT')\n",
        "    wts_tc = pnl.MappingProjection(\n",
        "        matrix=[[4.0, 4.0], [0, 0]], name='COLOR NAMING')\n",
        "    wts_tw = pnl.MappingProjection(\n",
        "        matrix=[[0, 0], [4.0, 4.0]], name='WORD READING')\n",
        "    # build the model\n",
        "    model = pnl.Composition(name='STROOP model')\n",
        "    model.add_node(inp_clr)\n",
        "    model.add_node(inp_wrd)\n",
        "    model.add_node(hid_clr)\n",
        "    model.add_node(hid_wrd)\n",
        "    model.add_node(inp_task)\n",
        "    model.add_node(output)\n",
        "    model.add_node(decision)\n",
        "    model.add_linear_processing_pathway([inp_clr, wts_clr_ih, hid_clr])\n",
        "    model.add_linear_processing_pathway([inp_wrd, wts_wrd_ih, hid_wrd])\n",
        "    model.add_linear_processing_pathway([hid_clr, wts_clr_ho, output])\n",
        "    model.add_linear_processing_pathway([hid_wrd, wts_wrd_ho, output])\n",
        "    model.add_linear_processing_pathway([inp_task, wts_tc, hid_clr])\n",
        "    model.add_linear_processing_pathway([inp_task, wts_tw, hid_wrd])\n",
        "    model.add_linear_processing_pathway([output, pnl.IDENTITY_MATRIX, decision])\n",
        "    # collect the node handles\n",
        "    nodes = [inp_clr, inp_wrd, inp_task, hid_clr, hid_wrd, output, decision]\n",
        "    metadata = [integration_rate, dec_noise_std, unit_noise_std]\n",
        "    return model, nodes, metadata"
      ],
      "execution_count": null,
      "outputs": []
    },
    {
      "cell_type": "code",
      "metadata": {
        "id": "txx7VgYCCkkG"
      },
      "source": [
        "\"\"\"\n",
        "get the stroop model \n",
        "\"\"\"\n",
        "# turn off noise\n",
        "unit_noise_std = 0\n",
        "dec_noise_std = 0\n",
        "\n",
        "# define the model \n",
        "model, nodes, model_params = get_stroop_model(unit_noise_std, dec_noise_std)\n",
        "\n",
        "# fetch the params \n",
        "[integration_rate, dec_noise_std, unit_noise_std] = model_params\n",
        "[inp_color, inp_word, inp_task, hid_color, hid_word, output, decision] = nodes"
      ],
      "execution_count": null,
      "outputs": []
    },
    {
      "cell_type": "code",
      "metadata": {
        "colab": {
          "base_uri": "https://localhost:8080/",
          "height": 485
        },
        "id": "sNHxidqNCkkJ",
        "outputId": "59a500ae-babc-49c0-cbc1-5a013c72fb2e"
      },
      "source": [
        "model.show_graph(output_fmt = 'jupyter')"
      ],
      "execution_count": null,
      "outputs": [
        {
          "output_type": "execute_result",
          "data": {
            "text/plain": [
              "<graphviz.dot.Digraph at 0x7fe5998405d0>"
            ],
            "image/svg+xml": "<?xml version=\"1.0\" encoding=\"UTF-8\" standalone=\"no\"?>\n<!DOCTYPE svg PUBLIC \"-//W3C//DTD SVG 1.1//EN\"\n \"http://www.w3.org/Graphics/SVG/1.1/DTD/svg11.dtd\">\n<!-- Generated by graphviz version 2.40.1 (20161225.0304)\n -->\n<!-- Title: STROOP model Pages: 1 -->\n<svg width=\"341pt\" height=\"347pt\"\n viewBox=\"0.00 0.00 341.42 347.34\" xmlns=\"http://www.w3.org/2000/svg\" xmlns:xlink=\"http://www.w3.org/1999/xlink\">\n<g id=\"graph0\" class=\"graph\" transform=\"scale(1 1) rotate(0) translate(4 343.3381)\">\n<title>STROOP model</title>\n<polygon fill=\"#ffffff\" stroke=\"transparent\" points=\"-4,4 -4,-343.3381 337.4239,-343.3381 337.4239,4 -4,4\"/>\n<text text-anchor=\"middle\" x=\"166.7119\" y=\"-7.8\" font-family=\"Times,serif\" font-size=\"14.00\" fill=\"#000000\">STROOP model</text>\n<!-- TASK -->\n<g id=\"node1\" class=\"node\">\n<title>TASK</title>\n<ellipse fill=\"none\" stroke=\"#00ff00\" stroke-width=\"3\" cx=\"168.9431\" cy=\"-41\" rx=\"29.5964\" ry=\"18\"/>\n<text text-anchor=\"middle\" x=\"168.9431\" y=\"-37.9\" font-family=\"arial\" font-size=\"12.00\" fill=\"#000000\">TASK</text>\n</g>\n<!-- COLORS HIDDEN -->\n<g id=\"node4\" class=\"node\">\n<title>COLORS HIDDEN</title>\n<ellipse fill=\"none\" stroke=\"#000000\" cx=\"87.9431\" cy=\"-113\" rx=\"72.7788\" ry=\"18\"/>\n<text text-anchor=\"middle\" x=\"87.9431\" y=\"-109.9\" font-family=\"arial\" font-size=\"12.00\" fill=\"#000000\">COLORS HIDDEN</text>\n</g>\n<!-- TASK&#45;&gt;COLORS HIDDEN -->\n<g id=\"edge2\" class=\"edge\">\n<title>TASK&#45;&gt;COLORS HIDDEN</title>\n<path fill=\"none\" stroke=\"#000000\" d=\"M152.1599,-55.9184C141.5164,-65.3793 127.4989,-77.8393 115.2765,-88.7036\"/>\n<polygon fill=\"#000000\" stroke=\"#000000\" points=\"112.7062,-86.3055 107.5574,-95.5651 117.3568,-91.5373 112.7062,-86.3055\"/>\n</g>\n<!-- WORDS HIDDEN -->\n<g id=\"node5\" class=\"node\">\n<title>WORDS HIDDEN</title>\n<ellipse fill=\"none\" stroke=\"#000000\" cx=\"247.9431\" cy=\"-113\" rx=\"69.6227\" ry=\"18\"/>\n<text text-anchor=\"middle\" x=\"247.9431\" y=\"-109.9\" font-family=\"arial\" font-size=\"12.00\" fill=\"#000000\">WORDS HIDDEN</text>\n</g>\n<!-- TASK&#45;&gt;WORDS HIDDEN -->\n<g id=\"edge3\" class=\"edge\">\n<title>TASK&#45;&gt;WORDS HIDDEN</title>\n<path fill=\"none\" stroke=\"#000000\" d=\"M185.697,-56.2693C196.0258,-65.6829 209.5023,-77.9653 221.2734,-88.6934\"/>\n<polygon fill=\"#000000\" stroke=\"#000000\" points=\"218.9637,-91.3239 228.7123,-95.4731 223.6789,-86.1502 218.9637,-91.3239\"/>\n</g>\n<!-- WORD INPUT -->\n<g id=\"node2\" class=\"node\">\n<title>WORD INPUT</title>\n<ellipse fill=\"none\" stroke=\"#00ff00\" stroke-width=\"3\" cx=\"274.9431\" cy=\"-41\" rx=\"58.4615\" ry=\"18\"/>\n<text text-anchor=\"middle\" x=\"274.9431\" y=\"-37.9\" font-family=\"arial\" font-size=\"12.00\" fill=\"#000000\">WORD INPUT</text>\n</g>\n<!-- WORD INPUT&#45;&gt;WORDS HIDDEN -->\n<g id=\"edge4\" class=\"edge\">\n<title>WORD INPUT&#45;&gt;WORDS HIDDEN</title>\n<path fill=\"none\" stroke=\"#000000\" d=\"M268.1299,-59.1686C265.1788,-67.0383 261.6573,-76.4288 258.3881,-85.1467\"/>\n<polygon fill=\"#000000\" stroke=\"#000000\" points=\"255.0822,-83.9945 254.8481,-94.5867 261.6365,-86.4524 255.0822,-83.9945\"/>\n</g>\n<!-- COLOR INPUT -->\n<g id=\"node3\" class=\"node\">\n<title>COLOR INPUT</title>\n<ellipse fill=\"none\" stroke=\"#00ff00\" stroke-width=\"3\" cx=\"60.9431\" cy=\"-41\" rx=\"60.8863\" ry=\"18\"/>\n<text text-anchor=\"middle\" x=\"60.9431\" y=\"-37.9\" font-family=\"arial\" font-size=\"12.00\" fill=\"#000000\">COLOR INPUT</text>\n</g>\n<!-- COLOR INPUT&#45;&gt;COLORS HIDDEN -->\n<g id=\"edge1\" class=\"edge\">\n<title>COLOR INPUT&#45;&gt;COLORS HIDDEN</title>\n<path fill=\"none\" stroke=\"#000000\" d=\"M67.7564,-59.1686C70.7075,-67.0383 74.2289,-76.4288 77.4981,-85.1467\"/>\n<polygon fill=\"#000000\" stroke=\"#000000\" points=\"74.2497,-86.4524 81.0381,-94.5867 80.804,-83.9945 74.2497,-86.4524\"/>\n</g>\n<!-- OUTPUT -->\n<g id=\"node6\" class=\"node\">\n<title>OUTPUT</title>\n<ellipse fill=\"none\" stroke=\"#000000\" cx=\"167.9431\" cy=\"-185\" rx=\"41.4901\" ry=\"18\"/>\n<text text-anchor=\"middle\" x=\"167.9431\" y=\"-181.9\" font-family=\"arial\" font-size=\"12.00\" fill=\"#000000\">OUTPUT</text>\n</g>\n<!-- COLORS HIDDEN&#45;&gt;OUTPUT -->\n<g id=\"edge5\" class=\"edge\">\n<title>COLORS HIDDEN&#45;&gt;OUTPUT</title>\n<path fill=\"none\" stroke=\"#000000\" d=\"M107.3089,-130.4292C117.8291,-139.8974 130.9716,-151.7256 142.3289,-161.9472\"/>\n<polygon fill=\"#000000\" stroke=\"#000000\" points=\"140.078,-164.6302 149.8524,-168.7183 144.7608,-159.4271 140.078,-164.6302\"/>\n</g>\n<!-- WORDS HIDDEN&#45;&gt;OUTPUT -->\n<g id=\"edge6\" class=\"edge\">\n<title>WORDS HIDDEN&#45;&gt;OUTPUT</title>\n<path fill=\"none\" stroke=\"#000000\" d=\"M228.5773,-130.4292C218.0571,-139.8974 204.9147,-151.7256 193.5573,-161.9472\"/>\n<polygon fill=\"#000000\" stroke=\"#000000\" points=\"191.1255,-159.4271 186.0339,-168.7183 195.8082,-164.6302 191.1255,-159.4271\"/>\n</g>\n<!-- DECISION -->\n<g id=\"node7\" class=\"node\">\n<title>DECISION</title>\n<ellipse fill=\"none\" stroke=\"#ff0000\" stroke-width=\"3\" cx=\"167.9431\" cy=\"-289.169\" rx=\"46.3251\" ry=\"46.3251\"/>\n<ellipse fill=\"none\" stroke=\"#ff0000\" stroke-width=\"3\" cx=\"167.9431\" cy=\"-289.169\" rx=\"50.3386\" ry=\"50.3386\"/>\n<text text-anchor=\"middle\" x=\"167.9431\" y=\"-286.069\" font-family=\"arial\" font-size=\"12.00\" fill=\"#000000\">DECISION</text>\n</g>\n<!-- OUTPUT&#45;&gt;DECISION -->\n<g id=\"edge8\" class=\"edge\">\n<title>OUTPUT&#45;&gt;DECISION</title>\n<path fill=\"none\" stroke=\"#000000\" d=\"M167.9431,-203.1449C167.9431,-210.4222 167.9431,-219.2652 167.9431,-228.4776\"/>\n<polygon fill=\"#000000\" stroke=\"#000000\" points=\"164.4432,-228.5625 167.9431,-238.5626 171.4432,-228.5626 164.4432,-228.5625\"/>\n</g>\n<!-- DECISION&#45;&gt;DECISION -->\n<g id=\"edge7\" class=\"edge\">\n<title>DECISION&#45;&gt;DECISION</title>\n<path fill=\"none\" stroke=\"#000000\" d=\"M214.4611,-269.8404C226.7811,-270.9449 236.1121,-277.3878 236.1121,-289.169 236.1121,-297.4527 231.499,-303.0972 224.4774,-306.1025\"/>\n<polygon fill=\"#000000\" stroke=\"#000000\" points=\"223.3729,-302.7678 214.4611,-308.4976 225.0009,-309.5759 223.3729,-302.7678\"/>\n</g>\n</g>\n</svg>\n"
          },
          "metadata": {
            "tags": []
          },
          "execution_count": 6
        }
      ]
    },
    {
      "cell_type": "markdown",
      "metadata": {
        "id": "oitmsDUgCkkO"
      },
      "source": [
        "### 1.2 The task stimuli \n",
        "\n",
        "Again, we have two tasks: \n",
        "- color naming \n",
        "- word reading \n",
        "\n",
        "... and three conditions:\n",
        "\n",
        "- control \n",
        "- conflict \n",
        "- congruent "
      ]
    },
    {
      "cell_type": "code",
      "metadata": {
        "colab": {
          "base_uri": "https://localhost:8080/"
        },
        "id": "7u84e09xCkkP",
        "outputId": "8868c790-f44a-46c9-a328-fca41824a0a4"
      },
      "source": [
        "\"\"\"define the inputs\n",
        "i.e. all CONDITIONS x TASKS for the experiment\n",
        "\"\"\"\n",
        "# the length of the stimulus sequence\n",
        "n_time_steps = 120\n",
        "input_set = get_stimulus_set(inp_color, inp_word, inp_task, n_time_steps)\n",
        "\n",
        "# show what's in the dictionary \n",
        "for task in TASKS: \n",
        "    print(f'{task}: {input_set[task].keys()}')"
      ],
      "execution_count": null,
      "outputs": [
        {
          "output_type": "stream",
          "text": [
            "color naming: dict_keys(['control', 'conflict', 'congruent'])\n",
            "word reading: dict_keys(['control', 'conflict', 'congruent'])\n"
          ],
          "name": "stdout"
        }
      ]
    },
    {
      "cell_type": "code",
      "metadata": {
        "colab": {
          "base_uri": "https://localhost:8080/"
        },
        "id": "v047bDBECkkT",
        "outputId": "74d08e29-ecf3-4cfc-be6c-79eeb72f3fa3"
      },
      "source": [
        "# show one stimuli sequence \n",
        "task = 'color naming'\n",
        "cond = 'conflict'\n",
        "print(input_set[task][cond][inp_color].T)"
      ],
      "execution_count": null,
      "outputs": [
        {
          "output_type": "stream",
          "text": [
            "[[1 1 1 1 1 1 1 1 1 1 1 1 1 1 1 1 1 1 1 1 1 1 1 1 1 1 1 1 1 1 1 1 1 1 1 1\n",
            "  1 1 1 1 1 1 1 1 1 1 1 1 1 1 1 1 1 1 1 1 1 1 1 1 1 1 1 1 1 1 1 1 1 1 1 1\n",
            "  1 1 1 1 1 1 1 1 1 1 1 1 1 1 1 1 1 1 1 1 1 1 1 1 1 1 1 1 1 1 1 1 1 1 1 1\n",
            "  1 1 1 1 1 1 1 1 1 1 1 1]\n",
            " [0 0 0 0 0 0 0 0 0 0 0 0 0 0 0 0 0 0 0 0 0 0 0 0 0 0 0 0 0 0 0 0 0 0 0 0\n",
            "  0 0 0 0 0 0 0 0 0 0 0 0 0 0 0 0 0 0 0 0 0 0 0 0 0 0 0 0 0 0 0 0 0 0 0 0\n",
            "  0 0 0 0 0 0 0 0 0 0 0 0 0 0 0 0 0 0 0 0 0 0 0 0 0 0 0 0 0 0 0 0 0 0 0 0\n",
            "  0 0 0 0 0 0 0 0 0 0 0 0]]\n"
          ],
          "name": "stdout"
        }
      ]
    },
    {
      "cell_type": "markdown",
      "metadata": {
        "id": "inF3tC1oCkkX"
      },
      "source": [
        "### 1.3 Run the model on all task - condition combinations"
      ]
    },
    {
      "cell_type": "code",
      "metadata": {
        "colab": {
          "base_uri": "https://localhost:8080/",
          "height": 121,
          "referenced_widgets": [
            "5c026164aed04562af7ec42677a3f412",
            "cecb074935aa452ea6a9c64f0dbbc1d9",
            "681cd117694a442e821b056b422ab6e0",
            "482156be987e4c6f83cbbad847bb2336",
            "0d1fb4902fd54a75be120979f7903818",
            "6519ffb2af2f405eaa3c6112542b2de9",
            "02b9d37e3081435bbb6afe80f97a2738",
            "b2db881fba9e40c9a56f5e8535c87551",
            "00d01b1cf32548d2b729516d37edb6b4",
            "6a39695e58534d7c80dde8bf2174c70a",
            "bd4c8ca26c5f45f098c24e8ae68ffb09",
            "a0d5e38a953c470f9631f8bde7e2b819"
          ]
        },
        "id": "ZBo_UVjgCkkb",
        "outputId": "ccdb2290-c954-4d7b-867d-d330684ba612"
      },
      "source": [
        "\"\"\"run the model\n",
        "test the model on all CONDITIONS x TASKS combinations\n",
        "\"\"\"\n",
        "# log the activities\n",
        "hid_color.set_log_conditions('value')\n",
        "hid_word.set_log_conditions('value')\n",
        "output.set_log_conditions('value')\n",
        "\n",
        "# run the model \n",
        "execution_id = 0\n",
        "for task in TASKS:\n",
        "    for cond in CONDITIONS:\n",
        "        print(f'Running {task} - {cond} ... ')\n",
        "        model.run(\n",
        "            context=execution_id,\n",
        "            inputs=input_set[task][cond],\n",
        "            num_trials=n_time_steps,\n",
        "        )\n",
        "        execution_id += 1"
      ],
      "execution_count": null,
      "outputs": [
        {
          "output_type": "stream",
          "text": [
            "Running color naming - control ... \n"
          ],
          "name": "stdout"
        },
        {
          "output_type": "display_data",
          "data": {
            "application/vnd.jupyter.widget-view+json": {
              "model_id": "5c026164aed04562af7ec42677a3f412",
              "version_minor": 0,
              "version_major": 2
            },
            "text/plain": [
              "Output()"
            ]
          },
          "metadata": {
            "tags": []
          }
        },
        {
          "output_type": "display_data",
          "data": {
            "text/html": [
              "<pre style=\"white-space:pre;overflow-x:auto;line-height:normal;font-family:Menlo,'DejaVu Sans Mono',consolas,'Courier New',monospace\">\n",
              "</pre>\n"
            ],
            "text/plain": [
              "<rich.jupyter.JupyterRenderable at 0x7fe5325148d0>"
            ]
          },
          "metadata": {
            "tags": []
          }
        },
        {
          "output_type": "stream",
          "text": [
            "Running color naming - conflict ... \n"
          ],
          "name": "stdout"
        },
        {
          "output_type": "display_data",
          "data": {
            "application/vnd.jupyter.widget-view+json": {
              "model_id": "681cd117694a442e821b056b422ab6e0",
              "version_minor": 0,
              "version_major": 2
            },
            "text/plain": [
              "Output()"
            ]
          },
          "metadata": {
            "tags": []
          }
        },
        {
          "output_type": "display_data",
          "data": {
            "text/html": [
              "<pre style=\"white-space:pre;overflow-x:auto;line-height:normal;font-family:Menlo,'DejaVu Sans Mono',consolas,'Courier New',monospace\">\n",
              "</pre>\n"
            ],
            "text/plain": [
              "<rich.jupyter.JupyterRenderable at 0x7fe53248fc10>"
            ]
          },
          "metadata": {
            "tags": []
          }
        },
        {
          "output_type": "stream",
          "text": [
            "Running color naming - congruent ... \n"
          ],
          "name": "stdout"
        },
        {
          "output_type": "display_data",
          "data": {
            "application/vnd.jupyter.widget-view+json": {
              "model_id": "0d1fb4902fd54a75be120979f7903818",
              "version_minor": 0,
              "version_major": 2
            },
            "text/plain": [
              "Output()"
            ]
          },
          "metadata": {
            "tags": []
          }
        },
        {
          "output_type": "display_data",
          "data": {
            "text/html": [
              "<pre style=\"white-space:pre;overflow-x:auto;line-height:normal;font-family:Menlo,'DejaVu Sans Mono',consolas,'Courier New',monospace\">\n",
              "</pre>\n"
            ],
            "text/plain": [
              "<rich.jupyter.JupyterRenderable at 0x7fe5323fee50>"
            ]
          },
          "metadata": {
            "tags": []
          }
        },
        {
          "output_type": "stream",
          "text": [
            "Running word reading - control ... \n"
          ],
          "name": "stdout"
        },
        {
          "output_type": "display_data",
          "data": {
            "application/vnd.jupyter.widget-view+json": {
              "model_id": "02b9d37e3081435bbb6afe80f97a2738",
              "version_minor": 0,
              "version_major": 2
            },
            "text/plain": [
              "Output()"
            ]
          },
          "metadata": {
            "tags": []
          }
        },
        {
          "output_type": "display_data",
          "data": {
            "text/html": [
              "<pre style=\"white-space:pre;overflow-x:auto;line-height:normal;font-family:Menlo,'DejaVu Sans Mono',consolas,'Courier New',monospace\">\n",
              "</pre>\n"
            ],
            "text/plain": [
              "<rich.jupyter.JupyterRenderable at 0x7fe5323fed50>"
            ]
          },
          "metadata": {
            "tags": []
          }
        },
        {
          "output_type": "stream",
          "text": [
            "Running word reading - conflict ... \n"
          ],
          "name": "stdout"
        },
        {
          "output_type": "display_data",
          "data": {
            "application/vnd.jupyter.widget-view+json": {
              "model_id": "00d01b1cf32548d2b729516d37edb6b4",
              "version_minor": 0,
              "version_major": 2
            },
            "text/plain": [
              "Output()"
            ]
          },
          "metadata": {
            "tags": []
          }
        },
        {
          "output_type": "display_data",
          "data": {
            "text/html": [
              "<pre style=\"white-space:pre;overflow-x:auto;line-height:normal;font-family:Menlo,'DejaVu Sans Mono',consolas,'Courier New',monospace\">\n",
              "</pre>\n"
            ],
            "text/plain": [
              "<rich.jupyter.JupyterRenderable at 0x7fe5321bf610>"
            ]
          },
          "metadata": {
            "tags": []
          }
        },
        {
          "output_type": "stream",
          "text": [
            "Running word reading - congruent ... \n"
          ],
          "name": "stdout"
        },
        {
          "output_type": "display_data",
          "data": {
            "application/vnd.jupyter.widget-view+json": {
              "model_id": "bd4c8ca26c5f45f098c24e8ae68ffb09",
              "version_minor": 0,
              "version_major": 2
            },
            "text/plain": [
              "Output()"
            ]
          },
          "metadata": {
            "tags": []
          }
        },
        {
          "output_type": "display_data",
          "data": {
            "text/html": [
              "<pre style=\"white-space:pre;overflow-x:auto;line-height:normal;font-family:Menlo,'DejaVu Sans Mono',consolas,'Courier New',monospace\">\n",
              "</pre>\n"
            ],
            "text/plain": [
              "<rich.jupyter.JupyterRenderable at 0x7fe53212e3d0>"
            ]
          },
          "metadata": {
            "tags": []
          }
        }
      ]
    },
    {
      "cell_type": "code",
      "metadata": {
        "id": "8IodU-45Ckkf"
      },
      "source": [
        "def get_log_values(execution_ids_):\n",
        "    \"\"\"\n",
        "    get logged activity, given a list/array of execution ids\n",
        "    \"\"\"\n",
        "    # word hidden layer\n",
        "    hw_acts = np.array([\n",
        "        np.squeeze(hid_word.log.nparray_dictionary()[ei]['value'])\n",
        "        for ei in execution_ids_\n",
        "    ])\n",
        "    # color hidden layer\n",
        "    hc_acts = np.array([\n",
        "        np.squeeze(hid_color.log.nparray_dictionary()[ei]['value'])\n",
        "        for ei in execution_ids_\n",
        "    ])\n",
        "    out_acts = np.array([\n",
        "        np.squeeze(hid_color.log.nparray_dictionary()[ei]['value'])\n",
        "        for ei in execution_ids_\n",
        "    ])\n",
        "    dec_acts = np.array([\n",
        "        np.squeeze(model.parameters.results.get(ei))\n",
        "        for ei in execution_ids_\n",
        "    ])\n",
        "    return hw_acts, hc_acts, out_acts, dec_acts"
      ],
      "execution_count": null,
      "outputs": []
    },
    {
      "cell_type": "markdown",
      "metadata": {
        "id": "Ot7xI6gjCkki"
      },
      "source": [
        "#### Collect the activity for all tasks x conditions "
      ]
    },
    {
      "cell_type": "code",
      "metadata": {
        "colab": {
          "base_uri": "https://localhost:8080/"
        },
        "id": "eJf2zqRDCkkk",
        "outputId": "c8b196aa-e65e-43c0-b8e2-7a4b2bdd1a86"
      },
      "source": [
        "# collect the activity\n",
        "ids = [ei for ei in range(execution_id)]\n",
        "hw_acts, hc_acts, out_acts, dec_acts = get_log_values(ids)\n",
        "\n",
        "print('activities: trial_id x n_time_steps x n_units')\n",
        "print(f'word hidden: \\t{np.shape(hw_acts)}')\n",
        "print(f'color hidden: \\t{np.shape(hc_acts)}')\n",
        "print(f'output: \\t{np.shape(out_acts)}')\n",
        "print(f'decision acts: \\t{np.shape(dec_acts)}')"
      ],
      "execution_count": null,
      "outputs": [
        {
          "output_type": "stream",
          "text": [
            "activities: trial_id x n_time_steps x n_units\n",
            "word hidden: \t(6, 120, 2)\n",
            "color hidden: \t(6, 120, 2)\n",
            "output: \t(6, 120, 2)\n",
            "decision acts: \t(6, 120, 2)\n"
          ],
          "name": "stdout"
        }
      ]
    },
    {
      "cell_type": "markdown",
      "metadata": {
        "id": "_SfjLWnKCkkz"
      },
      "source": [
        "## <a id='s2'>2. Visualize decision activity</a> \n",
        "[back to top](#table)\n",
        "\n",
        "In this section, we will visualize the activity of the two decision units. For simplicity, the stimuli were intentionally chosen so that the correct response is always red (e.g. in a word naming - conflict trial, the word is red). Therefore, the activity for the red decision unit is always higher than the green decision unit. However, the difference between these two units depends on both task and condition. \n",
        "\n",
        "#### <a id='l1'> Lab Exercise 1: Setting Expectations </a>\n",
        "Before looking at the results, predict which task-condition combination will evoke the biggest differences between the two decision units? Explain your reasoning.   Write your answer below."
      ]
    },
    {
      "cell_type": "code",
      "metadata": {
        "id": "gWLC0AEZusyS"
      },
      "source": [
        ""
      ],
      "execution_count": null,
      "outputs": []
    },
    {
      "cell_type": "code",
      "metadata": {
        "colab": {
          "base_uri": "https://localhost:8080/",
          "height": 303
        },
        "id": "eHRrEEvACkk8",
        "outputId": "11243a6d-426d-42e1-f1b4-fed2993edb9b"
      },
      "source": [
        "\"\"\"\n",
        "define the legend \n",
        "(this cell will output a figure legend, used subsequently, but no figure)\n",
        "\"\"\"\n",
        "# define the set of colors\n",
        "col_pal = sns.color_palette('colorblind', n_colors=3)\n",
        "# define the set of line style\n",
        "lsty_plt = ['-', '--']\n",
        "# line width\n",
        "lw_plt = 3\n",
        "\n",
        "lgd_elements = []\n",
        "# legend for all conditions \n",
        "for i, cond in enumerate(CONDITIONS):\n",
        "    lgd_elements.append(\n",
        "        Line2D([0], [0], color=col_pal[i], lw=lw_plt, label=cond))\n",
        "\n",
        "# legend for all tasks \n",
        "for i, task in enumerate(TASKS):\n",
        "    lgd_elements.append(\n",
        "        Line2D([0], [0], color='black', lw=lw_plt, label=task,\n",
        "               linestyle=lsty_plt[i])\n",
        "    )\n",
        "\n",
        "# show the legend    \n",
        "plt.legend(handles=lgd_elements, frameon=False)"
      ],
      "execution_count": null,
      "outputs": [
        {
          "output_type": "execute_result",
          "data": {
            "text/plain": [
              "<matplotlib.legend.Legend at 0x7fe5329f8b50>"
            ]
          },
          "metadata": {
            "tags": []
          },
          "execution_count": 17
        },
        {
          "output_type": "display_data",
          "data": {
            "image/png": "[encoded data removed]",
            "text/plain": [
              "<Figure size 432x288 with 1 Axes>"
            ]
          },
          "metadata": {
            "tags": [],
            "needs_background": "light"
          }
        }
      ]
    },
    {
      "cell_type": "markdown",
      "metadata": {
        "id": "cxfMUn93CklF"
      },
      "source": [
        "### Plotting Response Unit Activity by Condition\n",
        "\n",
        "The cell below creates a plot of decision unit activity over time for 3 different trial types.  For all trials, the ink color is red and the task is to respond to the ink color.  Control trials have no word.  Congruent trials display the word Red.  And Incongruent trials display the word Green.   In this figure, the top 3 lines show the Red Response Unit Activity, and these are higher because the stimulus is red ink and the task is to respond to the color of the ink.  The bottom 3 lines show the Green Response Unit Activity. \n",
        "\n",
        "For the incongruent color naming trial, the Red Response Unit is more active because the ink is red and the task is to respond to the ink color. However, the Green Response Unit (light blue line) is also somewhat active because the word is Green.  The relatively small (smaller than any other task-condition) difference between these two units suggests that the Decision Energy should be higher for this trial."
      ]
    },
    {
      "cell_type": "code",
      "metadata": {
        "colab": {
          "base_uri": "https://localhost:8080/",
          "height": 585
        },
        "id": "EXSVyD4mCklG",
        "outputId": "26670c76-26f9-4ae2-87de-21f265e74a4d"
      },
      "source": [
        "\"\"\"plot the activity\n",
        "\"\"\"\n",
        "\n",
        "f, axes = plt.subplots(2, 1, figsize=(8, 8))\n",
        "for j, task in enumerate(TASKS):\n",
        "    for i, cond in enumerate(CONDITIONS):\n",
        "        axes[0].plot(\n",
        "            dec_acts[i + j*n_conditions][:, 0],\n",
        "            color=col_pal[i], label=CONDITIONS[i], linestyle=lsty_plt[j],\n",
        "        )\n",
        "        axes[1].plot(\n",
        "            dec_acts[i + j*n_conditions][:, 1],\n",
        "            color=col_pal[i], linestyle=lsty_plt[j],\n",
        "        )\n",
        "        \n",
        "title_text = \"\"\"\n",
        "Decision activity, red trial\n",
        "\"\"\"\n",
        "axes[0].set_title(title_text)\n",
        "for i, ax in enumerate(axes):\n",
        "    ax.set_ylabel(f'Activity, {COLORS[i]} unit')\n",
        "axes[-1].set_xlabel('Time')\n",
        "# add legend\n",
        "axes[0].legend(\n",
        "    handles=lgd_elements, frameon=False, bbox_to_anchor=(.7, .75)\n",
        ")\n",
        "f.tight_layout()\n",
        "sns.despine()"
      ],
      "execution_count": null,
      "outputs": [
        {
          "output_type": "display_data",
          "data": {
            "image/png": "[encoded data removed]",
            "text/plain": [
              "<Figure size 576x576 with 2 Axes>"
            ]
          },
          "metadata": {
            "tags": [],
            "needs_background": "light"
          }
        }
      ]
    },
    {
      "cell_type": "markdown",
      "metadata": {
        "id": "NrlmeswkCklM"
      },
      "source": [
        "#### <a id='l2'>Lab Exercise 2. Visualize the activity time course for the hidden layers on a green trial</a> \n",
        "\n",
        "2a. Plot the activity for the **color** hidden layer unit, for all tasks (color naming, word reading) x conditions (congruent, control, conflict).  Interpret the results.\n",
        "\n",
        "2b. Plot the activity for the **word** hidden layer unit, for all tasks x conditions.  Interpret the results."
      ]
    },
    {
      "cell_type": "markdown",
      "metadata": {
        "id": "DqQj0AUjCklQ"
      },
      "source": [
        "## <a id='s3'>3. Visualize Decision Energy</a> \n",
        "[back to top](#table)\n",
        "\n",
        "\n",
        "<a href=\"https://en.wikipedia.org/wiki/Hopfield_network#Energy\">Energy</a> \n",
        "is essentially the product of the two activation values.  For example, if the activations are at 0.6 and 0.4, the energy would be 0.24; in comparison to 0.1 and 0.9 computing an energy of 0.09.  This function is sensitive both to the total level of activation, and the differences between the units' activations.       \n",
        "- This is also implemented in psyneulink as <a href=\"https://princetonuniversity.github.io/PsyNeuLink/Keywords.html?highlight=energy#psyneulink.core.globals.keywords.DistanceMetrics.ENERGY\">pnl.ENERGY</a>. \n",
        "\n",
        "### Plotting Decision Energy\n",
        "The following cell creates a plot of the decision energy for 3 types of trials: Control, Congruent, and Incongruent.  When the levels of activity for the two response units (Red & Green) are close, the decision energy is higher.  This makes sense because it is harder to decide when both responses are similarly active.  The decision is easiest (and energy is lowest) when the there is a big difference between the two response units.  "
      ]
    },
    {
      "cell_type": "code",
      "metadata": {
        "colab": {
          "base_uri": "https://localhost:8080/",
          "height": 412
        },
        "id": "b1AMaoklCklS",
        "outputId": "1ae4dae6-7a88-4caa-c3d9-3caf75c1d8e6"
      },
      "source": [
        "\"\"\"\n",
        "plot dec energy\n",
        "\"\"\"\n",
        "data_plt = dec_acts\n",
        "f, ax = plt.subplots(1, 1, figsize=(8, 4))\n",
        "col_pal = sns.color_palette('colorblind', n_colors=3)\n",
        "counter = 0\n",
        "for tid, task in enumerate(TASKS):\n",
        "    for cid, cond in enumerate(CONDITIONS):\n",
        "        ax.plot(\n",
        "            np.prod(data_plt[counter], axis=1),\n",
        "            color=col_pal[np.mod(counter, n_conditions)],\n",
        "            linestyle=lsty_plt[tid]\n",
        "        )\n",
        "        counter += 1\n",
        "        \n",
        "ax.set_title(f'Decision energy')\n",
        "ax.set_ylabel('Energy')\n",
        "ax.set_xlabel('Time')\n",
        "ax.legend(handles=lgd_elements, frameon=False, bbox_to_anchor=(.7, .95))\n",
        "f.tight_layout()\n",
        "sns.despine()"
      ],
      "execution_count": null,
      "outputs": [
        {
          "output_type": "display_data",
          "data": {
            "image/png": "[encoded data removed]",
            "text/plain": [
              "<Figure size 576x288 with 1 Axes>"
            ]
          },
          "metadata": {
            "tags": [],
            "needs_background": "light"
          }
        }
      ]
    },
    {
      "cell_type": "markdown",
      "metadata": {
        "id": "B0VvHolSCklX"
      },
      "source": [
        "#### <a id='l3'>Lab Exercise 3: Energy, the initial state</a> \n",
        "\n",
        "Unpack what is being plotted by finding the equation used (e.g. in PNL documentation) and the input values to this calculation at the first time step.  What is the initial value of decision energy? Comment on why this is an interesting quantity for this situation. (Hint: What happens to the energy if one of the activation values is 1? What about if they are both equal?)"
      ]
    },
    {
      "cell_type": "markdown",
      "metadata": {
        "id": "Mm5TMgycCklf"
      },
      "source": [
        "## <a id='s4'>4. Examine the effect of task demand</a> \n",
        "[back to top](#table)\n",
        "\n",
        "#### Decision Energy as a Signal for Effort & Control\n",
        "\n",
        "The simple model we have built so far shows one type of signal that could be monitored and used as input to a mechanism of effort and control.  For example, if Decision Energy is high, that could provide useful information that the task requires additional attention and/or effort.\n",
        "\n",
        "In order to better understand the effects of modulating attention and/or effort in our models, it is helpful to explore exactly how these factors influence performance.  \n"
      ]
    },
    {
      "cell_type": "code",
      "metadata": {
        "colab": {
          "base_uri": "https://localhost:8080/"
        },
        "id": "fuDt5QPECklg",
        "outputId": "3cdcfc4a-2753-4419-9343-2e09b070a08e"
      },
      "source": [
        "# re-initialize the model \n",
        "model, nodes, model_params = get_stroop_model(unit_noise_std, dec_noise_std)\n",
        "[inp_color, inp_word, inp_task, hid_color, hid_word, output, decision] = nodes\n",
        "\n",
        "# the length of the stimulus sequence\n",
        "n_time_steps = 120\n",
        "demand_levels = np.round(np.linspace(0, 1, 6), decimals=1)\n",
        "n_demand_levels = len(demand_levels)\n",
        "input_sets = [\n",
        "    get_stimulus_set(inp_color, inp_word, inp_task, n_time_steps, demand=d)\n",
        "    for d in demand_levels\n",
        "]\n",
        "\n",
        "print(f'demand levels: {demand_levels}')"
      ],
      "execution_count": null,
      "outputs": [
        {
          "output_type": "stream",
          "text": [
            "demand levels: [0.  0.2 0.4 0.6 0.8 1. ]\n"
          ],
          "name": "stdout"
        }
      ]
    },
    {
      "cell_type": "code",
      "metadata": {
        "colab": {
          "base_uri": "https://localhost:8080/",
          "height": 868,
          "referenced_widgets": [
            "4cf181314c6640bf81155c1c7eb1f771",
            "85b0d92da1994bd8a65ecb59122711c8",
            "c27919042ef54bcb8fce757c0bea17b0",
            "791508074bbd40d3a8c87339336e9c3c",
            "7906ce8cdd4049a88762051becf9b24e",
            "5fd5aaac1a02492db5d2ff9ad5f3207b",
            "4bf751f485b2459d8dbecb867dbdf4ac",
            "96111f6b631f4a2aa1b3d0b49092c562",
            "9d4b0775575e4d7fb2ac25d43d7d91d7",
            "28a77043de7b49949080316d740c469b",
            "84229992ec5c461cb7794300b8f847fe",
            "f55a2b92748141479cf9ee8af6384702",
            "ae3621d95cd446328466f0da9f1de3b6",
            "9fd4548e7cc548e6bdcf1fb9a9efb045",
            "712cffc287ab4864b7b99e70a80d0d21",
            "5de5ebb1dd464754a6c01c8a6a6f0dbc",
            "ff262a66e4594579a77c465d8f820f9d",
            "f15bd970858e450395b2cd54b967eab5",
            "35d2c5bbc45b4391a08538986d3f36f9",
            "c931d453f34b4d8d92328e83c9c60463",
            "29edf93ff9444a8c942336f11a9d985d",
            "c8250e71484b42918e435ed92b3ba8d0",
            "4aafa0ccd43a4490b4fdf1a045317af2",
            "42c2de40e0134ca5b3816cf01e61bb1d",
            "ebbc19beccb44002a622a89bf05149c4",
            "86f499a5a30e4c0fbb6baa167791ea40",
            "1b2eef9ca57e402b9bf59090bc08a970",
            "b96627d88be84a03a2d0f6e00d175596",
            "ab8d3387b640426ba1be95eb8d155808",
            "9062820e0b124854acfce27a1a0fb644",
            "52b9d6baadef496e808bc2edddceb596",
            "42bef85c0fdd4e0c86074488d4fe0bca",
            "a0b65bf895874e32b877f2cf5aac29c7",
            "1fb81590211148e5b57a107be8d05511",
            "f1a69defc0ad41ba805b86fe9c1f8d16",
            "74aad08003ca4e1991738280ac2ac735",
            "b83c056de83d4ff681b01ee1dc7ddd64",
            "d3746c00255e487683344ddb63e24a88",
            "1f36052628c147bba9da7adad4604124",
            "c4c27bde90a94e56a00433f0db4a89b9",
            "ecad4d3ac82646f19774a9c4856640c6",
            "4ba1cfe635bf48209cd2eb2d3fa8cf0f",
            "0314034305b343f799b4a8e1fe3fd8f6",
            "b5d1abe5f34b483488306f7fdc04a5b3",
            "88a899a73efb4ed0bc0c84702c411a7f",
            "6359f587e65b426c852ba1c14a86a69c",
            "f064bea75b6b4b3092622dfb277cc3ed",
            "2a90f80cbe65488f8251948b4fb0f0b3",
            "c083b5cfde7d4953b5a272cc79ab58dd",
            "55100a2f6b7e465ba9dc2f2638561b0b",
            "8a5baaafa13e4fd9917b0143502b713d",
            "9181b7ea47c14924aa78991d2629025c",
            "e85332de4a064f6d8bffa88c29db4e12",
            "dec7d36163344363bbd85e68ab10e05d",
            "a924088c172d44fea2cfda7284646a86",
            "8a1947cc0956460584ad92f6a2b43808",
            "08514e3d9e604562a5683b24d3f6abc5",
            "5b47bad1da5d4a8b98e1373dec7fd0fd",
            "d9b18776060c48faa5f7791b70bb192f",
            "2d2c760f264a449dbd4745a8bfcb5538",
            "b992ad9e16a345f7b08fda15cd3818ef",
            "2ef14bcdd1734cb8bfe33e16b9607e74",
            "bef40412dc354006a7486afaf6f1aaf0",
            "bfd9106910c8447ebe2fc9caa80a9e23",
            "b2727166223841a0b3974c5c1339bfdb",
            "cfc86497d8784cde980a41df66ee043f",
            "71acecb501c8410cbbf5df8ae7d17b0f",
            "eaef8f232c53468883f65ebdd6778ec9",
            "01217ec3cb0a4097b57664f102c1be7a",
            "56064325a0874580b570049f1ffebb56",
            "4cf08bf9e61c472dbf184dca7eca507c",
            "22894152b7a14164ad15b349da20fe07"
          ]
        },
        "id": "4f4FESWHCkll",
        "outputId": "d4e9432f-ea83-407e-81a2-c341e2f7a472"
      },
      "source": [
        "# run the model for all demand levels \n",
        "execution_id = 0\n",
        "for did, demand in enumerate(demand_levels):\n",
        "    for task in TASKS:\n",
        "        time_start = time.time() #records start time, to estimate our progress\n",
        "        print(f'\\nWith demand = {demand}, running {task}: ', end='')\n",
        "        for cond in CONDITIONS:\n",
        "            print(f'{cond} ', end='')\n",
        "            model.run(\n",
        "                context=execution_id,\n",
        "                inputs=input_sets[did][task][cond],\n",
        "                num_trials=n_time_steps,\n",
        "            )\n",
        "            execution_id += 1\n",
        "        print(f'| Time = %.2f'%(time.time()-time_start), end='')"
      ],
      "execution_count": null,
      "outputs": [
        {
          "output_type": "stream",
          "text": [
            "\n",
            "With demand = 0.0, running color naming: control "
          ],
          "name": "stdout"
        },
        {
          "output_type": "display_data",
          "data": {
            "application/vnd.jupyter.widget-view+json": {
              "model_id": "4cf181314c6640bf81155c1c7eb1f771",
              "version_minor": 0,
              "version_major": 2
            },
            "text/plain": [
              "Output()"
            ]
          },
          "metadata": {
            "tags": []
          }
        },
        {
          "output_type": "display_data",
          "data": {
            "text/html": [
              "<pre style=\"white-space:pre;overflow-x:auto;line-height:normal;font-family:Menlo,'DejaVu Sans Mono',consolas,'Courier New',monospace\">\n",
              "</pre>\n"
            ],
            "text/plain": [
              "<rich.jupyter.JupyterRenderable at 0x7fe527961110>"
            ]
          },
          "metadata": {
            "tags": []
          }
        },
        {
          "output_type": "stream",
          "text": [
            "conflict "
          ],
          "name": "stdout"
        },
        {
          "output_type": "display_data",
          "data": {
            "application/vnd.jupyter.widget-view+json": {
              "model_id": "c27919042ef54bcb8fce757c0bea17b0",
              "version_minor": 0,
              "version_major": 2
            },
            "text/plain": [
              "Output()"
            ]
          },
          "metadata": {
            "tags": []
          }
        },
        {
          "output_type": "display_data",
          "data": {
            "text/html": [
              "<pre style=\"white-space:pre;overflow-x:auto;line-height:normal;font-family:Menlo,'DejaVu Sans Mono',consolas,'Courier New',monospace\">\n",
              "</pre>\n"
            ],
            "text/plain": [
              "<rich.jupyter.JupyterRenderable at 0x7fe527341350>"
            ]
          },
          "metadata": {
            "tags": []
          }
        },
        {
          "output_type": "stream",
          "text": [
            "congruent "
          ],
          "name": "stdout"
        },
        {
          "output_type": "display_data",
          "data": {
            "application/vnd.jupyter.widget-view+json": {
              "model_id": "7906ce8cdd4049a88762051becf9b24e",
              "version_minor": 0,
              "version_major": 2
            },
            "text/plain": [
              "Output()"
            ]
          },
          "metadata": {
            "tags": []
          }
        },
        {
          "output_type": "display_data",
          "data": {
            "text/html": [
              "<pre style=\"white-space:pre;overflow-x:auto;line-height:normal;font-family:Menlo,'DejaVu Sans Mono',consolas,'Courier New',monospace\">\n",
              "</pre>\n"
            ],
            "text/plain": [
              "<rich.jupyter.JupyterRenderable at 0x7fe527303ad0>"
            ]
          },
          "metadata": {
            "tags": []
          }
        },
        {
          "output_type": "stream",
          "text": [
            "| Time = 14.81\n",
            "With demand = 0.0, running word reading: control "
          ],
          "name": "stdout"
        },
        {
          "output_type": "display_data",
          "data": {
            "application/vnd.jupyter.widget-view+json": {
              "model_id": "4bf751f485b2459d8dbecb867dbdf4ac",
              "version_minor": 0,
              "version_major": 2
            },
            "text/plain": [
              "Output()"
            ]
          },
          "metadata": {
            "tags": []
          }
        },
        {
          "output_type": "display_data",
          "data": {
            "text/html": [
              "<pre style=\"white-space:pre;overflow-x:auto;line-height:normal;font-family:Menlo,'DejaVu Sans Mono',consolas,'Courier New',monospace\">\n",
              "</pre>\n"
            ],
            "text/plain": [
              "<rich.jupyter.JupyterRenderable at 0x7fe5272d4990>"
            ]
          },
          "metadata": {
            "tags": []
          }
        },
        {
          "output_type": "stream",
          "text": [
            "conflict "
          ],
          "name": "stdout"
        },
        {
          "output_type": "display_data",
          "data": {
            "application/vnd.jupyter.widget-view+json": {
              "model_id": "9d4b0775575e4d7fb2ac25d43d7d91d7",
              "version_minor": 0,
              "version_major": 2
            },
            "text/plain": [
              "Output()"
            ]
          },
          "metadata": {
            "tags": []
          }
        },
        {
          "output_type": "display_data",
          "data": {
            "text/html": [
              "<pre style=\"white-space:pre;overflow-x:auto;line-height:normal;font-family:Menlo,'DejaVu Sans Mono',consolas,'Courier New',monospace\">\n",
              "</pre>\n"
            ],
            "text/plain": [
              "<rich.jupyter.JupyterRenderable at 0x7fe528949390>"
            ]
          },
          "metadata": {
            "tags": []
          }
        },
        {
          "output_type": "stream",
          "text": [
            "congruent "
          ],
          "name": "stdout"
        },
        {
          "output_type": "display_data",
          "data": {
            "application/vnd.jupyter.widget-view+json": {
              "model_id": "84229992ec5c461cb7794300b8f847fe",
              "version_minor": 0,
              "version_major": 2
            },
            "text/plain": [
              "Output()"
            ]
          },
          "metadata": {
            "tags": []
          }
        },
        {
          "output_type": "display_data",
          "data": {
            "text/html": [
              "<pre style=\"white-space:pre;overflow-x:auto;line-height:normal;font-family:Menlo,'DejaVu Sans Mono',consolas,'Courier New',monospace\">\n",
              "</pre>\n"
            ],
            "text/plain": [
              "<rich.jupyter.JupyterRenderable at 0x7fe52840d650>"
            ]
          },
          "metadata": {
            "tags": []
          }
        },
        {
          "output_type": "stream",
          "text": [
            "| Time = 15.70\n",
            "With demand = 0.2, running color naming: control "
          ],
          "name": "stdout"
        },
        {
          "output_type": "display_data",
          "data": {
            "application/vnd.jupyter.widget-view+json": {
              "model_id": "ae3621d95cd446328466f0da9f1de3b6",
              "version_minor": 0,
              "version_major": 2
            },
            "text/plain": [
              "Output()"
            ]
          },
          "metadata": {
            "tags": []
          }
        },
        {
          "output_type": "display_data",
          "data": {
            "text/html": [
              "<pre style=\"white-space:pre;overflow-x:auto;line-height:normal;font-family:Menlo,'DejaVu Sans Mono',consolas,'Courier New',monospace\">\n",
              "</pre>\n"
            ],
            "text/plain": [
              "<rich.jupyter.JupyterRenderable at 0x7fe52827a710>"
            ]
          },
          "metadata": {
            "tags": []
          }
        },
        {
          "output_type": "stream",
          "text": [
            "conflict "
          ],
          "name": "stdout"
        },
        {
          "output_type": "display_data",
          "data": {
            "application/vnd.jupyter.widget-view+json": {
              "model_id": "712cffc287ab4864b7b99e70a80d0d21",
              "version_minor": 0,
              "version_major": 2
            },
            "text/plain": [
              "Output()"
            ]
          },
          "metadata": {
            "tags": []
          }
        },
        {
          "output_type": "display_data",
          "data": {
            "text/html": [
              "<pre style=\"white-space:pre;overflow-x:auto;line-height:normal;font-family:Menlo,'DejaVu Sans Mono',consolas,'Courier New',monospace\">\n",
              "</pre>\n"
            ],
            "text/plain": [
              "<rich.jupyter.JupyterRenderable at 0x7fe528159a50>"
            ]
          },
          "metadata": {
            "tags": []
          }
        },
        {
          "output_type": "stream",
          "text": [
            "congruent "
          ],
          "name": "stdout"
        },
        {
          "output_type": "display_data",
          "data": {
            "application/vnd.jupyter.widget-view+json": {
              "model_id": "ff262a66e4594579a77c465d8f820f9d",
              "version_minor": 0,
              "version_major": 2
            },
            "text/plain": [
              "Output()"
            ]
          },
          "metadata": {
            "tags": []
          }
        },
        {
          "output_type": "display_data",
          "data": {
            "text/html": [
              "<pre style=\"white-space:pre;overflow-x:auto;line-height:normal;font-family:Menlo,'DejaVu Sans Mono',consolas,'Courier New',monospace\">\n",
              "</pre>\n"
            ],
            "text/plain": [
              "<rich.jupyter.JupyterRenderable at 0x7fe52810ff90>"
            ]
          },
          "metadata": {
            "tags": []
          }
        },
        {
          "output_type": "stream",
          "text": [
            "| Time = 15.68\n",
            "With demand = 0.2, running word reading: control "
          ],
          "name": "stdout"
        },
        {
          "output_type": "display_data",
          "data": {
            "application/vnd.jupyter.widget-view+json": {
              "model_id": "35d2c5bbc45b4391a08538986d3f36f9",
              "version_minor": 0,
              "version_major": 2
            },
            "text/plain": [
              "Output()"
            ]
          },
          "metadata": {
            "tags": []
          }
        },
        {
          "output_type": "display_data",
          "data": {
            "text/html": [
              "<pre style=\"white-space:pre;overflow-x:auto;line-height:normal;font-family:Menlo,'DejaVu Sans Mono',consolas,'Courier New',monospace\">\n",
              "</pre>\n"
            ],
            "text/plain": [
              "<rich.jupyter.JupyterRenderable at 0x7fe528296990>"
            ]
          },
          "metadata": {
            "tags": []
          }
        },
        {
          "output_type": "stream",
          "text": [
            "conflict "
          ],
          "name": "stdout"
        },
        {
          "output_type": "display_data",
          "data": {
            "application/vnd.jupyter.widget-view+json": {
              "model_id": "29edf93ff9444a8c942336f11a9d985d",
              "version_minor": 0,
              "version_major": 2
            },
            "text/plain": [
              "Output()"
            ]
          },
          "metadata": {
            "tags": []
          }
        },
        {
          "output_type": "display_data",
          "data": {
            "text/html": [
              "<pre style=\"white-space:pre;overflow-x:auto;line-height:normal;font-family:Menlo,'DejaVu Sans Mono',consolas,'Courier New',monospace\">\n",
              "</pre>\n"
            ],
            "text/plain": [
              "<rich.jupyter.JupyterRenderable at 0x7fe52718fe90>"
            ]
          },
          "metadata": {
            "tags": []
          }
        },
        {
          "output_type": "stream",
          "text": [
            "congruent "
          ],
          "name": "stdout"
        },
        {
          "output_type": "display_data",
          "data": {
            "application/vnd.jupyter.widget-view+json": {
              "model_id": "4aafa0ccd43a4490b4fdf1a045317af2",
              "version_minor": 0,
              "version_major": 2
            },
            "text/plain": [
              "Output()"
            ]
          },
          "metadata": {
            "tags": []
          }
        },
        {
          "output_type": "display_data",
          "data": {
            "text/html": [
              "<pre style=\"white-space:pre;overflow-x:auto;line-height:normal;font-family:Menlo,'DejaVu Sans Mono',consolas,'Courier New',monospace\">\n",
              "</pre>\n"
            ],
            "text/plain": [
              "<rich.jupyter.JupyterRenderable at 0x7fe52718f410>"
            ]
          },
          "metadata": {
            "tags": []
          }
        },
        {
          "output_type": "stream",
          "text": [
            "| Time = 15.83\n",
            "With demand = 0.4, running color naming: control "
          ],
          "name": "stdout"
        },
        {
          "output_type": "display_data",
          "data": {
            "application/vnd.jupyter.widget-view+json": {
              "model_id": "ebbc19beccb44002a622a89bf05149c4",
              "version_minor": 0,
              "version_major": 2
            },
            "text/plain": [
              "Output()"
            ]
          },
          "metadata": {
            "tags": []
          }
        },
        {
          "output_type": "display_data",
          "data": {
            "text/html": [
              "<pre style=\"white-space:pre;overflow-x:auto;line-height:normal;font-family:Menlo,'DejaVu Sans Mono',consolas,'Courier New',monospace\">\n",
              "</pre>\n"
            ],
            "text/plain": [
              "<rich.jupyter.JupyterRenderable at 0x7fe527159950>"
            ]
          },
          "metadata": {
            "tags": []
          }
        },
        {
          "output_type": "stream",
          "text": [
            "conflict "
          ],
          "name": "stdout"
        },
        {
          "output_type": "display_data",
          "data": {
            "application/vnd.jupyter.widget-view+json": {
              "model_id": "1b2eef9ca57e402b9bf59090bc08a970",
              "version_minor": 0,
              "version_major": 2
            },
            "text/plain": [
              "Output()"
            ]
          },
          "metadata": {
            "tags": []
          }
        },
        {
          "output_type": "display_data",
          "data": {
            "text/html": [
              "<pre style=\"white-space:pre;overflow-x:auto;line-height:normal;font-family:Menlo,'DejaVu Sans Mono',consolas,'Courier New',monospace\">\n",
              "</pre>\n"
            ],
            "text/plain": [
              "<rich.jupyter.JupyterRenderable at 0x7fe526e32090>"
            ]
          },
          "metadata": {
            "tags": []
          }
        },
        {
          "output_type": "stream",
          "text": [
            "congruent "
          ],
          "name": "stdout"
        },
        {
          "output_type": "display_data",
          "data": {
            "application/vnd.jupyter.widget-view+json": {
              "model_id": "ab8d3387b640426ba1be95eb8d155808",
              "version_minor": 0,
              "version_major": 2
            },
            "text/plain": [
              "Output()"
            ]
          },
          "metadata": {
            "tags": []
          }
        },
        {
          "output_type": "display_data",
          "data": {
            "text/html": [
              "<pre style=\"white-space:pre;overflow-x:auto;line-height:normal;font-family:Menlo,'DejaVu Sans Mono',consolas,'Courier New',monospace\">\n",
              "</pre>\n"
            ],
            "text/plain": [
              "<rich.jupyter.JupyterRenderable at 0x7fe526e11910>"
            ]
          },
          "metadata": {
            "tags": []
          }
        },
        {
          "output_type": "stream",
          "text": [
            "| Time = 16.30\n",
            "With demand = 0.4, running word reading: control "
          ],
          "name": "stdout"
        },
        {
          "output_type": "display_data",
          "data": {
            "application/vnd.jupyter.widget-view+json": {
              "model_id": "52b9d6baadef496e808bc2edddceb596",
              "version_minor": 0,
              "version_major": 2
            },
            "text/plain": [
              "Output()"
            ]
          },
          "metadata": {
            "tags": []
          }
        },
        {
          "output_type": "display_data",
          "data": {
            "text/html": [
              "<pre style=\"white-space:pre;overflow-x:auto;line-height:normal;font-family:Menlo,'DejaVu Sans Mono',consolas,'Courier New',monospace\">\n",
              "</pre>\n"
            ],
            "text/plain": [
              "<rich.jupyter.JupyterRenderable at 0x7fe526d92c90>"
            ]
          },
          "metadata": {
            "tags": []
          }
        },
        {
          "output_type": "stream",
          "text": [
            "conflict "
          ],
          "name": "stdout"
        },
        {
          "output_type": "display_data",
          "data": {
            "application/vnd.jupyter.widget-view+json": {
              "model_id": "a0b65bf895874e32b877f2cf5aac29c7",
              "version_minor": 0,
              "version_major": 2
            },
            "text/plain": [
              "Output()"
            ]
          },
          "metadata": {
            "tags": []
          }
        },
        {
          "output_type": "display_data",
          "data": {
            "text/html": [
              "<pre style=\"white-space:pre;overflow-x:auto;line-height:normal;font-family:Menlo,'DejaVu Sans Mono',consolas,'Courier New',monospace\">\n",
              "</pre>\n"
            ],
            "text/plain": [
              "<rich.jupyter.JupyterRenderable at 0x7fe526d0ac90>"
            ]
          },
          "metadata": {
            "tags": []
          }
        },
        {
          "output_type": "stream",
          "text": [
            "congruent "
          ],
          "name": "stdout"
        },
        {
          "output_type": "display_data",
          "data": {
            "application/vnd.jupyter.widget-view+json": {
              "model_id": "f1a69defc0ad41ba805b86fe9c1f8d16",
              "version_minor": 0,
              "version_major": 2
            },
            "text/plain": [
              "Output()"
            ]
          },
          "metadata": {
            "tags": []
          }
        },
        {
          "output_type": "display_data",
          "data": {
            "text/html": [
              "<pre style=\"white-space:pre;overflow-x:auto;line-height:normal;font-family:Menlo,'DejaVu Sans Mono',consolas,'Courier New',monospace\">\n",
              "</pre>\n"
            ],
            "text/plain": [
              "<rich.jupyter.JupyterRenderable at 0x7fe526c849d0>"
            ]
          },
          "metadata": {
            "tags": []
          }
        },
        {
          "output_type": "stream",
          "text": [
            "| Time = 16.16\n",
            "With demand = 0.6, running color naming: control "
          ],
          "name": "stdout"
        },
        {
          "output_type": "display_data",
          "data": {
            "application/vnd.jupyter.widget-view+json": {
              "model_id": "b83c056de83d4ff681b01ee1dc7ddd64",
              "version_minor": 0,
              "version_major": 2
            },
            "text/plain": [
              "Output()"
            ]
          },
          "metadata": {
            "tags": []
          }
        },
        {
          "output_type": "display_data",
          "data": {
            "text/html": [
              "<pre style=\"white-space:pre;overflow-x:auto;line-height:normal;font-family:Menlo,'DejaVu Sans Mono',consolas,'Courier New',monospace\">\n",
              "</pre>\n"
            ],
            "text/plain": [
              "<rich.jupyter.JupyterRenderable at 0x7fe526db4990>"
            ]
          },
          "metadata": {
            "tags": []
          }
        },
        {
          "output_type": "stream",
          "text": [
            "conflict "
          ],
          "name": "stdout"
        },
        {
          "output_type": "display_data",
          "data": {
            "application/vnd.jupyter.widget-view+json": {
              "model_id": "1f36052628c147bba9da7adad4604124",
              "version_minor": 0,
              "version_major": 2
            },
            "text/plain": [
              "Output()"
            ]
          },
          "metadata": {
            "tags": []
          }
        },
        {
          "output_type": "display_data",
          "data": {
            "text/html": [
              "<pre style=\"white-space:pre;overflow-x:auto;line-height:normal;font-family:Menlo,'DejaVu Sans Mono',consolas,'Courier New',monospace\">\n",
              "</pre>\n"
            ],
            "text/plain": [
              "<rich.jupyter.JupyterRenderable at 0x7fe526b7e490>"
            ]
          },
          "metadata": {
            "tags": []
          }
        },
        {
          "output_type": "stream",
          "text": [
            "congruent "
          ],
          "name": "stdout"
        },
        {
          "output_type": "display_data",
          "data": {
            "application/vnd.jupyter.widget-view+json": {
              "model_id": "ecad4d3ac82646f19774a9c4856640c6",
              "version_minor": 0,
              "version_major": 2
            },
            "text/plain": [
              "Output()"
            ]
          },
          "metadata": {
            "tags": []
          }
        },
        {
          "output_type": "display_data",
          "data": {
            "text/html": [
              "<pre style=\"white-space:pre;overflow-x:auto;line-height:normal;font-family:Menlo,'DejaVu Sans Mono',consolas,'Courier New',monospace\">\n",
              "</pre>\n"
            ],
            "text/plain": [
              "<rich.jupyter.JupyterRenderable at 0x7fe526b3ff50>"
            ]
          },
          "metadata": {
            "tags": []
          }
        },
        {
          "output_type": "stream",
          "text": [
            "| Time = 16.36\n",
            "With demand = 0.6, running word reading: control "
          ],
          "name": "stdout"
        },
        {
          "output_type": "display_data",
          "data": {
            "application/vnd.jupyter.widget-view+json": {
              "model_id": "0314034305b343f799b4a8e1fe3fd8f6",
              "version_minor": 0,
              "version_major": 2
            },
            "text/plain": [
              "Output()"
            ]
          },
          "metadata": {
            "tags": []
          }
        },
        {
          "output_type": "display_data",
          "data": {
            "text/html": [
              "<pre style=\"white-space:pre;overflow-x:auto;line-height:normal;font-family:Menlo,'DejaVu Sans Mono',consolas,'Courier New',monospace\">\n",
              "</pre>\n"
            ],
            "text/plain": [
              "<rich.jupyter.JupyterRenderable at 0x7fe526a75990>"
            ]
          },
          "metadata": {
            "tags": []
          }
        },
        {
          "output_type": "stream",
          "text": [
            "conflict "
          ],
          "name": "stdout"
        },
        {
          "output_type": "display_data",
          "data": {
            "application/vnd.jupyter.widget-view+json": {
              "model_id": "88a899a73efb4ed0bc0c84702c411a7f",
              "version_minor": 0,
              "version_major": 2
            },
            "text/plain": [
              "Output()"
            ]
          },
          "metadata": {
            "tags": []
          }
        },
        {
          "output_type": "display_data",
          "data": {
            "text/html": [
              "<pre style=\"white-space:pre;overflow-x:auto;line-height:normal;font-family:Menlo,'DejaVu Sans Mono',consolas,'Courier New',monospace\">\n",
              "</pre>\n"
            ],
            "text/plain": [
              "<rich.jupyter.JupyterRenderable at 0x7fe5269f1bd0>"
            ]
          },
          "metadata": {
            "tags": []
          }
        },
        {
          "output_type": "stream",
          "text": [
            "congruent "
          ],
          "name": "stdout"
        },
        {
          "output_type": "display_data",
          "data": {
            "application/vnd.jupyter.widget-view+json": {
              "model_id": "f064bea75b6b4b3092622dfb277cc3ed",
              "version_minor": 0,
              "version_major": 2
            },
            "text/plain": [
              "Output()"
            ]
          },
          "metadata": {
            "tags": []
          }
        },
        {
          "output_type": "display_data",
          "data": {
            "text/html": [
              "<pre style=\"white-space:pre;overflow-x:auto;line-height:normal;font-family:Menlo,'DejaVu Sans Mono',consolas,'Courier New',monospace\">\n",
              "</pre>\n"
            ],
            "text/plain": [
              "<rich.jupyter.JupyterRenderable at 0x7fe5269f4210>"
            ]
          },
          "metadata": {
            "tags": []
          }
        },
        {
          "output_type": "stream",
          "text": [
            "| Time = 16.44\n",
            "With demand = 0.8, running color naming: control "
          ],
          "name": "stdout"
        },
        {
          "output_type": "display_data",
          "data": {
            "application/vnd.jupyter.widget-view+json": {
              "model_id": "c083b5cfde7d4953b5a272cc79ab58dd",
              "version_minor": 0,
              "version_major": 2
            },
            "text/plain": [
              "Output()"
            ]
          },
          "metadata": {
            "tags": []
          }
        },
        {
          "output_type": "display_data",
          "data": {
            "text/html": [
              "<pre style=\"white-space:pre;overflow-x:auto;line-height:normal;font-family:Menlo,'DejaVu Sans Mono',consolas,'Courier New',monospace\">\n",
              "</pre>\n"
            ],
            "text/plain": [
              "<rich.jupyter.JupyterRenderable at 0x7fe5268e9cd0>"
            ]
          },
          "metadata": {
            "tags": []
          }
        },
        {
          "output_type": "stream",
          "text": [
            "conflict "
          ],
          "name": "stdout"
        },
        {
          "output_type": "display_data",
          "data": {
            "application/vnd.jupyter.widget-view+json": {
              "model_id": "8a5baaafa13e4fd9917b0143502b713d",
              "version_minor": 0,
              "version_major": 2
            },
            "text/plain": [
              "Output()"
            ]
          },
          "metadata": {
            "tags": []
          }
        },
        {
          "output_type": "display_data",
          "data": {
            "text/html": [
              "<pre style=\"white-space:pre;overflow-x:auto;line-height:normal;font-family:Menlo,'DejaVu Sans Mono',consolas,'Courier New',monospace\">\n",
              "</pre>\n"
            ],
            "text/plain": [
              "<rich.jupyter.JupyterRenderable at 0x7fe52688e290>"
            ]
          },
          "metadata": {
            "tags": []
          }
        },
        {
          "output_type": "stream",
          "text": [
            "congruent "
          ],
          "name": "stdout"
        },
        {
          "output_type": "display_data",
          "data": {
            "application/vnd.jupyter.widget-view+json": {
              "model_id": "e85332de4a064f6d8bffa88c29db4e12",
              "version_minor": 0,
              "version_major": 2
            },
            "text/plain": [
              "Output()"
            ]
          },
          "metadata": {
            "tags": []
          }
        },
        {
          "output_type": "display_data",
          "data": {
            "text/html": [
              "<pre style=\"white-space:pre;overflow-x:auto;line-height:normal;font-family:Menlo,'DejaVu Sans Mono',consolas,'Courier New',monospace\">\n",
              "</pre>\n"
            ],
            "text/plain": [
              "<rich.jupyter.JupyterRenderable at 0x7fe5267e2d10>"
            ]
          },
          "metadata": {
            "tags": []
          }
        },
        {
          "output_type": "stream",
          "text": [
            "| Time = 16.41\n",
            "With demand = 0.8, running word reading: control "
          ],
          "name": "stdout"
        },
        {
          "output_type": "display_data",
          "data": {
            "application/vnd.jupyter.widget-view+json": {
              "model_id": "a924088c172d44fea2cfda7284646a86",
              "version_minor": 0,
              "version_major": 2
            },
            "text/plain": [
              "Output()"
            ]
          },
          "metadata": {
            "tags": []
          }
        },
        {
          "output_type": "display_data",
          "data": {
            "text/html": [
              "<pre style=\"white-space:pre;overflow-x:auto;line-height:normal;font-family:Menlo,'DejaVu Sans Mono',consolas,'Courier New',monospace\">\n",
              "</pre>\n"
            ],
            "text/plain": [
              "<rich.jupyter.JupyterRenderable at 0x7fe5267db3d0>"
            ]
          },
          "metadata": {
            "tags": []
          }
        },
        {
          "output_type": "stream",
          "text": [
            "conflict "
          ],
          "name": "stdout"
        },
        {
          "output_type": "display_data",
          "data": {
            "application/vnd.jupyter.widget-view+json": {
              "model_id": "08514e3d9e604562a5683b24d3f6abc5",
              "version_minor": 0,
              "version_major": 2
            },
            "text/plain": [
              "Output()"
            ]
          },
          "metadata": {
            "tags": []
          }
        },
        {
          "output_type": "display_data",
          "data": {
            "text/html": [
              "<pre style=\"white-space:pre;overflow-x:auto;line-height:normal;font-family:Menlo,'DejaVu Sans Mono',consolas,'Courier New',monospace\">\n",
              "</pre>\n"
            ],
            "text/plain": [
              "<rich.jupyter.JupyterRenderable at 0x7fe5267dbe10>"
            ]
          },
          "metadata": {
            "tags": []
          }
        },
        {
          "output_type": "stream",
          "text": [
            "congruent "
          ],
          "name": "stdout"
        },
        {
          "output_type": "display_data",
          "data": {
            "application/vnd.jupyter.widget-view+json": {
              "model_id": "d9b18776060c48faa5f7791b70bb192f",
              "version_minor": 0,
              "version_major": 2
            },
            "text/plain": [
              "Output()"
            ]
          },
          "metadata": {
            "tags": []
          }
        },
        {
          "output_type": "display_data",
          "data": {
            "text/html": [
              "<pre style=\"white-space:pre;overflow-x:auto;line-height:normal;font-family:Menlo,'DejaVu Sans Mono',consolas,'Courier New',monospace\">\n",
              "</pre>\n"
            ],
            "text/plain": [
              "<rich.jupyter.JupyterRenderable at 0x7fe5266d3450>"
            ]
          },
          "metadata": {
            "tags": []
          }
        },
        {
          "output_type": "stream",
          "text": [
            "| Time = 16.51\n",
            "With demand = 1.0, running color naming: control "
          ],
          "name": "stdout"
        },
        {
          "output_type": "display_data",
          "data": {
            "application/vnd.jupyter.widget-view+json": {
              "model_id": "b992ad9e16a345f7b08fda15cd3818ef",
              "version_minor": 0,
              "version_major": 2
            },
            "text/plain": [
              "Output()"
            ]
          },
          "metadata": {
            "tags": []
          }
        },
        {
          "output_type": "display_data",
          "data": {
            "text/html": [
              "<pre style=\"white-space:pre;overflow-x:auto;line-height:normal;font-family:Menlo,'DejaVu Sans Mono',consolas,'Courier New',monospace\">\n",
              "</pre>\n"
            ],
            "text/plain": [
              "<rich.jupyter.JupyterRenderable at 0x7fe5265fee10>"
            ]
          },
          "metadata": {
            "tags": []
          }
        },
        {
          "output_type": "stream",
          "text": [
            "conflict "
          ],
          "name": "stdout"
        },
        {
          "output_type": "display_data",
          "data": {
            "application/vnd.jupyter.widget-view+json": {
              "model_id": "bef40412dc354006a7486afaf6f1aaf0",
              "version_minor": 0,
              "version_major": 2
            },
            "text/plain": [
              "Output()"
            ]
          },
          "metadata": {
            "tags": []
          }
        },
        {
          "output_type": "display_data",
          "data": {
            "text/html": [
              "<pre style=\"white-space:pre;overflow-x:auto;line-height:normal;font-family:Menlo,'DejaVu Sans Mono',consolas,'Courier New',monospace\">\n",
              "</pre>\n"
            ],
            "text/plain": [
              "<rich.jupyter.JupyterRenderable at 0x7fe5265d26d0>"
            ]
          },
          "metadata": {
            "tags": []
          }
        },
        {
          "output_type": "stream",
          "text": [
            "congruent "
          ],
          "name": "stdout"
        },
        {
          "output_type": "display_data",
          "data": {
            "application/vnd.jupyter.widget-view+json": {
              "model_id": "b2727166223841a0b3974c5c1339bfdb",
              "version_minor": 0,
              "version_major": 2
            },
            "text/plain": [
              "Output()"
            ]
          },
          "metadata": {
            "tags": []
          }
        },
        {
          "output_type": "display_data",
          "data": {
            "text/html": [
              "<pre style=\"white-space:pre;overflow-x:auto;line-height:normal;font-family:Menlo,'DejaVu Sans Mono',consolas,'Courier New',monospace\">\n",
              "</pre>\n"
            ],
            "text/plain": [
              "<rich.jupyter.JupyterRenderable at 0x7fe526544b50>"
            ]
          },
          "metadata": {
            "tags": []
          }
        },
        {
          "output_type": "stream",
          "text": [
            "| Time = 16.86\n",
            "With demand = 1.0, running word reading: control "
          ],
          "name": "stdout"
        },
        {
          "output_type": "display_data",
          "data": {
            "application/vnd.jupyter.widget-view+json": {
              "model_id": "71acecb501c8410cbbf5df8ae7d17b0f",
              "version_minor": 0,
              "version_major": 2
            },
            "text/plain": [
              "Output()"
            ]
          },
          "metadata": {
            "tags": []
          }
        },
        {
          "output_type": "display_data",
          "data": {
            "text/html": [
              "<pre style=\"white-space:pre;overflow-x:auto;line-height:normal;font-family:Menlo,'DejaVu Sans Mono',consolas,'Courier New',monospace\">\n",
              "</pre>\n"
            ],
            "text/plain": [
              "<rich.jupyter.JupyterRenderable at 0x7fe5264ef490>"
            ]
          },
          "metadata": {
            "tags": []
          }
        },
        {
          "output_type": "stream",
          "text": [
            "conflict "
          ],
          "name": "stdout"
        },
        {
          "output_type": "display_data",
          "data": {
            "application/vnd.jupyter.widget-view+json": {
              "model_id": "01217ec3cb0a4097b57664f102c1be7a",
              "version_minor": 0,
              "version_major": 2
            },
            "text/plain": [
              "Output()"
            ]
          },
          "metadata": {
            "tags": []
          }
        },
        {
          "output_type": "display_data",
          "data": {
            "text/html": [
              "<pre style=\"white-space:pre;overflow-x:auto;line-height:normal;font-family:Menlo,'DejaVu Sans Mono',consolas,'Courier New',monospace\">\n",
              "</pre>\n"
            ],
            "text/plain": [
              "<rich.jupyter.JupyterRenderable at 0x7fe52643a950>"
            ]
          },
          "metadata": {
            "tags": []
          }
        },
        {
          "output_type": "stream",
          "text": [
            "congruent "
          ],
          "name": "stdout"
        },
        {
          "output_type": "display_data",
          "data": {
            "application/vnd.jupyter.widget-view+json": {
              "model_id": "4cf08bf9e61c472dbf184dca7eca507c",
              "version_minor": 0,
              "version_major": 2
            },
            "text/plain": [
              "Output()"
            ]
          },
          "metadata": {
            "tags": []
          }
        },
        {
          "output_type": "display_data",
          "data": {
            "text/html": [
              "<pre style=\"white-space:pre;overflow-x:auto;line-height:normal;font-family:Menlo,'DejaVu Sans Mono',consolas,'Courier New',monospace\">\n",
              "</pre>\n"
            ],
            "text/plain": [
              "<rich.jupyter.JupyterRenderable at 0x7fe5263b67d0>"
            ]
          },
          "metadata": {
            "tags": []
          }
        },
        {
          "output_type": "stream",
          "text": [
            "| Time = 16.82"
          ],
          "name": "stdout"
        }
      ]
    },
    {
      "cell_type": "code",
      "metadata": {
        "id": "rqqh9lGQCklp"
      },
      "source": [
        "# collect the activity\n",
        "ids = [ei for ei in range(execution_id)]\n",
        "\n",
        "# get decision activities for all trials \n",
        "dec_acts = np.array([\n",
        "    np.squeeze(model.parameters.results.get(ei))\n",
        "    for ei in ids\n",
        "])"
      ],
      "execution_count": null,
      "outputs": []
    },
    {
      "cell_type": "code",
      "metadata": {
        "id": "r-TzDiZICklv"
      },
      "source": [
        "def compute_rt(act, threshold=.9):\n",
        "    \"\"\"compute reaction time\n",
        "    take the activity of the decision layer...\n",
        "    RT := the earliest time point when activity > threshold...\n",
        "    \"\"\"\n",
        "    n_time_steps_, N_UNITS_ = np.shape(act)\n",
        "    tps_pass_threshold = np.where(act[:, 0] > threshold)[0]\n",
        "    if len(tps_pass_threshold) > 0:\n",
        "        return tps_pass_threshold[0]\n",
        "    return n_time_steps_"
      ],
      "execution_count": null,
      "outputs": []
    },
    {
      "cell_type": "code",
      "metadata": {
        "id": "2m8IpNHCCklz"
      },
      "source": [
        "# re-organize RT data\n",
        "threshold = .9\n",
        "rts = np.zeros((n_demand_levels, n_tasks, n_conditions))\n",
        "counter = 0\n",
        "for did, demand in enumerate(demand_levels):\n",
        "    for tid, task in enumerate(TASKS):\n",
        "        for cid, cond in enumerate(CONDITIONS):\n",
        "            rts[did, tid, cid] = compute_rt(\n",
        "                dec_acts[counter], threshold=threshold\n",
        "            )\n",
        "            counter += 1"
      ],
      "execution_count": null,
      "outputs": []
    },
    {
      "cell_type": "markdown",
      "metadata": {
        "id": "pnnGTx3iCkl1"
      },
      "source": [
        "### Plotting Task Demand & RT\n",
        "\n",
        "The two figures created by the following cell qualitatively replicate Fig 13A (left) and Fig 13B (right) from <a href=\"https://www.ncbi.nlm.nih.gov/pubmed/2200075\">Cohen et al. (1990)</a>.  The Y axis displays response time, and the X axis progresses upward in task demand unit activity.  (*Note that the key is consistent with previous figures in this notebook, but not all the conditions in the key are plotted.*) \n",
        "\n",
        "In the left panel we can see that Word reading (dashed black line) is generally faster than ink Color Naming (solid black line). The other prominent pattern is that increased activity in the task demand units leads to faster (lower) reaction times. \n",
        "\n",
        "The right panel compares Word reading under conflict (green dashed) to control (blue dashed).  It also displays part of the Color Naming plot under conflict (green solid).  These figures are truncated at the top to zoom in on key comparisons, and the full data extend well above the top of the Y-axis.    \n",
        "\n",
        "These reaction times are in different units than human performance, but the overall trends make sense.  We can potentially use Task Demand as a way to model Attention/Effort. Increasing attention to the task improves performance yielding faster reaction times. "
      ]
    },
    {
      "cell_type": "code",
      "metadata": {
        "colab": {
          "base_uri": "https://localhost:8080/",
          "height": 369
        },
        "id": "zPgPbngzCkl2",
        "outputId": "62611d5d-f0b9-444d-b620-f30111405a63"
      },
      "source": [
        "# plot prep\n",
        "col_pal = sns.color_palette('colorblind', n_colors=3)\n",
        "xticklabels = ['%.1f' % (d) for d in demand_levels]\n",
        "\n",
        "f, axes = plt.subplots(1, 2, figsize=(13, 5))\n",
        "# left panel\n",
        "axes[0].plot(np.mean(rts[:, 0, :], axis=1), color='black', linestyle='-')\n",
        "axes[0].plot(np.mean(rts[:, 1, :], axis=1), color='black', linestyle='--')\n",
        "axes[0].set_title('RT as a function of task demand')\n",
        "# axes[0].legend(TASKS, frameon=False, bbox_to_anchor=(.4, 1))\n",
        "axes[0].legend(handles=lgd_elements, frameon=False, bbox_to_anchor=(.7, .95))\n",
        "# right panel\n",
        "clf_id = 1\n",
        "n_skips = 2\n",
        "axes[1].plot(np.arange(n_skips, n_demand_levels, 1),\n",
        "             rts[n_skips:, 0, clf_id], color=col_pal[clf_id],\n",
        "             label='conflicting word')\n",
        "axes[1].plot(rts[:, 1, clf_id], color=col_pal[clf_id],\n",
        "             linestyle='--', label='conflicting color')\n",
        "axes[1].plot(rts[:, 1, 0], color=col_pal[0], linestyle='--', label='control')\n",
        "axes[1].set_title('Compared the two conflict conditions')\n",
        "# axes[1].legend(frameon=False, bbox_to_anchor=(.55, 1))\n",
        "# common\n",
        "axes[0].set_ylabel('Reaction time (RT)')\n",
        "axes[1].set_ylim(axes[0].get_ylim())\n",
        "for ax in axes:\n",
        "    ax.set_xticks(range(n_demand_levels))\n",
        "    ax.set_xticklabels(xticklabels)\n",
        "    ax.set_xlabel('Demand')\n",
        "f.tight_layout()\n",
        "sns.despine()\n"
      ],
      "execution_count": null,
      "outputs": [
        {
          "output_type": "display_data",
          "data": {
            "image/png": "[encoded data removed]",
            "text/plain": [
              "<Figure size 936x360 with 2 Axes>"
            ]
          },
          "metadata": {
            "tags": [],
            "needs_background": "light"
          }
        }
      ]
    },
    {
      "cell_type": "markdown",
      "metadata": {
        "id": "qlfrby7FCkl5"
      },
      "source": [
        "#### <a id='l4'>Lab Exercise 4. Interpret the task demand results above </a>  \n",
        "- Compare the results above with human performance in <a href=\"https://www.ncbi.nlm.nih.gov/pubmed/2200075\">Cohen et al. (1990)</a> Figures 13A & 13B, and comment on a few interesting similarities and differences.  \n",
        "\n"
      ]
    },
    {
      "cell_type": "markdown",
      "metadata": {
        "id": "_lqlFgjTCkl9"
      },
      "source": [
        "#### <a id='h5'>Lab Exercise 5: Putting it all together</a> \n",
        "\n",
        "Note: Answers to this exercise can be qualitative and schematic -- you do not need to build the models (although you can if you like!), just describe how you would initially reason and plan to build them. \n",
        "\n",
        "5a.  How should task demand unit activity impact accuracy?\n",
        "\n",
        "5b.  Concisely describe key elements of a model mimicking human performance that exhibits the appropriate influence of task demand activity on accuracy.\n",
        "\n",
        "5c.  Describe steps that you could take, based on the models provided in this notebook, to build a model that monitors for conflict within trials and increases attention when conflict is present.  \n",
        "\n",
        "5d.  Describe steps that you could take to build a model that monitors for errors after trials and increases attention on the subsequent trial.  \n",
        "\n",
        "\n"
      ]
    },
    {
      "cell_type": "markdown",
      "metadata": {
        "id": "1bz8TiVACkmA"
      },
      "source": [
        "#### <a id='h5'> No BUILD this week, instead plan your projects! <a_id>"
      ]
    },
    {
      "cell_type": "code",
      "metadata": {
        "id": "UdpnHQNxrU5-"
      },
      "source": [
        ""
      ],
      "execution_count": null,
      "outputs": []
    },
    {
      "cell_type": "code",
      "metadata": {
        "id": "0FD3pqpHrU5_"
      },
      "source": [
        ""
      ],
      "execution_count": null,
      "outputs": []
    }
  ]
}