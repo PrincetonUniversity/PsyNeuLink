{
  "nbformat": 4,
  "nbformat_minor": 0,
  "metadata": {
    "colab": {
      "name": "Lab4_2021_MathPrimerAndPerceptrons_ANSWERKEY.ipynb",
      "provenance": [],
      "collapsed_sections": []
    },
    "kernelspec": {
      "display_name": "Python 3",
      "language": "python",
      "name": "python3"
    }
  },
  "cells": [
    {
      "cell_type": "markdown",
      "metadata": {
        "id": "clUWUN9gW1HE"
      },
      "source": [
        "# Lab4: Math Primer and Simple Neural Networks"
      ]
    },
    {
      "cell_type": "code",
      "metadata": {
        "colab": {
          "base_uri": "https://localhost:8080/"
        },
        "id": "SIK7uxh36kDD",
        "outputId": "e77bd93a-4fd2-4b90-f1cf-245ed26d1a39"
      },
      "source": [
        "!pip install psyneulink"
      ],
      "execution_count": null,
      "outputs": [
        {
          "output_type": "stream",
          "text": [
            "Collecting psyneulink\n",
            "\u001b[?25l  Downloading https://files.pythonhosted.org/packages/d6/33/c28549c59b62c58761f6db13aaaf066cf9be49150c3df21fd6cc8b53fb51/psyneulink-0.8.6.0-py3-none-any.whl (1.3MB)\n",
            "\u001b[K     |████████████████████████████████| 1.3MB 5.6MB/s \n",
            "\u001b[?25hRequirement already satisfied: dill<=0.32 in /usr/local/lib/python3.7/dist-packages (from psyneulink) (0.3.3)\n",
            "Requirement already satisfied: autograd<=1.3 in /usr/local/lib/python3.7/dist-packages (from psyneulink) (1.3)\n",
            "Requirement already satisfied: grpcio<1.35.0 in /usr/local/lib/python3.7/dist-packages (from psyneulink) (1.32.0)\n",
            "Collecting grpcio-tools<1.35.0\n",
            "\u001b[?25l  Downloading https://files.pythonhosted.org/packages/ef/b8/086bc32788e7127f6655c1ec3bd000902e4c9225b587b19b09c4d8ced384/grpcio_tools-1.34.1-cp37-cp37m-manylinux2014_x86_64.whl (2.5MB)\n",
            "\u001b[K     |████████████████████████████████| 2.5MB 32.8MB/s \n",
            "\u001b[?25hRequirement already satisfied: networkx<2.6 in /usr/local/lib/python3.7/dist-packages (from psyneulink) (2.5)\n",
            "Requirement already satisfied: graphviz<0.17.0 in /usr/local/lib/python3.7/dist-packages (from psyneulink) (0.10.1)\n",
            "Requirement already satisfied: torch<1.8.0; sys_platform != \"win32\" and platform_machine == \"x86_64\" and platform_python_implementation == \"CPython\" in /usr/local/lib/python3.7/dist-packages (from psyneulink) (1.7.1+cu101)\n",
            "Requirement already satisfied: pillow<8.1.0 in /usr/local/lib/python3.7/dist-packages (from psyneulink) (7.0.0)\n",
            "Collecting elfi<0.7.8\n",
            "\u001b[?25l  Downloading https://files.pythonhosted.org/packages/0a/7e/c8c5080b7822580ab2466b4f98def58c392d2cb6c11975377008a852726a/elfi-0.7.7-py3-none-any.whl (122kB)\n",
            "\u001b[K     |████████████████████████████████| 122kB 38.1MB/s \n",
            "\u001b[?25hCollecting toposort<1.7\n",
            "  Downloading https://files.pythonhosted.org/packages/f2/7d/55784e894ee0cde2474fb977ffd1651e74e840a9f92e1d847f7e3115d5ec/toposort-1.6-py2.py3-none-any.whl\n",
            "Requirement already satisfied: llvmlite<0.36 in /usr/local/lib/python3.7/dist-packages (from psyneulink) (0.34.0)\n",
            "Collecting rich<=9.11.0\n",
            "\u001b[?25l  Downloading https://files.pythonhosted.org/packages/d2/4f/65821fe66b3e01d6f367def724c91cc643f1b8aed7cce7f185a93ca2514b/rich-9.11.0-py3-none-any.whl (195kB)\n",
            "\u001b[K     |████████████████████████████████| 204kB 43.4MB/s \n",
            "\u001b[?25hRequirement already satisfied: numpy<1.20.2 in /usr/local/lib/python3.7/dist-packages (from psyneulink) (1.19.5)\n",
            "Collecting typecheck-decorator<=1.2\n",
            "  Downloading https://files.pythonhosted.org/packages/e0/4d/c925353ad7a3b69ad9957748bdc709aa535df0a303f2d0318e02ad8f39d2/typecheck-decorator-1.2.zip\n",
            "Collecting leabra-psyneulink<=0.3.2\n",
            "  Downloading https://files.pythonhosted.org/packages/3f/62/6cedb15e61fc4a77fb23a37126666258ab9ca33653e4d8360f65cf0fb641/leabra_psyneulink-0.3.2-py3-none-any.whl\n",
            "Requirement already satisfied: matplotlib<3.3.4 in /usr/local/lib/python3.7/dist-packages (from psyneulink) (3.2.2)\n",
            "Requirement already satisfied: future>=0.15.2 in /usr/local/lib/python3.7/dist-packages (from autograd<=1.3->psyneulink) (0.16.0)\n",
            "Requirement already satisfied: six>=1.5.2 in /usr/local/lib/python3.7/dist-packages (from grpcio<1.35.0->psyneulink) (1.15.0)\n",
            "Requirement already satisfied: setuptools in /usr/local/lib/python3.7/dist-packages (from grpcio-tools<1.35.0->psyneulink) (54.0.0)\n",
            "Requirement already satisfied: protobuf<4.0dev,>=3.5.0.post1 in /usr/local/lib/python3.7/dist-packages (from grpcio-tools<1.35.0->psyneulink) (3.12.4)\n",
            "Requirement already satisfied: decorator>=4.3.0 in /usr/local/lib/python3.7/dist-packages (from networkx<2.6->psyneulink) (4.4.2)\n",
            "Requirement already satisfied: typing-extensions in /usr/local/lib/python3.7/dist-packages (from torch<1.8.0; sys_platform != \"win32\" and platform_machine == \"x86_64\" and platform_python_implementation == \"CPython\"->psyneulink) (3.7.4.3)\n",
            "Requirement already satisfied: scipy>=0.19 in /usr/local/lib/python3.7/dist-packages (from elfi<0.7.8->psyneulink) (1.4.1)\n",
            "Requirement already satisfied: toolz>=0.8 in /usr/local/lib/python3.7/dist-packages (from elfi<0.7.8->psyneulink) (0.11.1)\n",
            "Requirement already satisfied: dask[distributed]<3.0.0,>=1.0.0 in /usr/local/lib/python3.7/dist-packages (from elfi<0.7.8->psyneulink) (2.12.0)\n",
            "Collecting ipyparallel>=6\n",
            "\u001b[?25l  Downloading https://files.pythonhosted.org/packages/3b/e9/03a9189eb39276396309faf28bf833b4328befe4513bbf375b811a36a076/ipyparallel-6.3.0-py3-none-any.whl (199kB)\n",
            "\u001b[K     |████████████████████████████████| 204kB 45.3MB/s \n",
            "\u001b[?25hCollecting GPy>=1.0.9\n",
            "\u001b[?25l  Downloading https://files.pythonhosted.org/packages/67/95/976598f98adbfa918a480cb2d643f93fb555ca5b6c5614f76b69678114c1/GPy-1.9.9.tar.gz (995kB)\n",
            "\u001b[K     |████████████████████████████████| 1.0MB 22.8MB/s \n",
            "\u001b[?25hRequirement already satisfied: scikit-learn>=0.18.1 in /usr/local/lib/python3.7/dist-packages (from elfi<0.7.8->psyneulink) (0.22.2.post1)\n",
            "Collecting colorama<0.5.0,>=0.4.0\n",
            "  Downloading https://files.pythonhosted.org/packages/44/98/5b86278fbbf250d239ae0ecb724f8572af1c91f4a11edf4d36a206189440/colorama-0.4.4-py2.py3-none-any.whl\n",
            "Collecting commonmark<0.10.0,>=0.9.0\n",
            "\u001b[?25l  Downloading https://files.pythonhosted.org/packages/b1/92/dfd892312d822f36c55366118b95d914e5f16de11044a27cf10a7d71bbbf/commonmark-0.9.1-py2.py3-none-any.whl (51kB)\n",
            "\u001b[K     |████████████████████████████████| 51kB 4.9MB/s \n",
            "\u001b[?25hRequirement already satisfied: pygments<3.0.0,>=2.6.0 in /usr/local/lib/python3.7/dist-packages (from rich<=9.11.0->psyneulink) (2.6.1)\n",
            "Requirement already satisfied: ipywidgets>=7.0 in /usr/local/lib/python3.7/dist-packages (from leabra-psyneulink<=0.3.2->psyneulink) (7.6.3)\n",
            "Requirement already satisfied: bokeh>=0.12.6 in /usr/local/lib/python3.7/dist-packages (from leabra-psyneulink<=0.3.2->psyneulink) (2.1.1)\n",
            "Requirement already satisfied: jupyter in /usr/local/lib/python3.7/dist-packages (from leabra-psyneulink<=0.3.2->psyneulink) (1.0.0)\n",
            "Requirement already satisfied: kiwisolver>=1.0.1 in /usr/local/lib/python3.7/dist-packages (from matplotlib<3.3.4->psyneulink) (1.3.1)\n",
            "Requirement already satisfied: pyparsing!=2.0.4,!=2.1.2,!=2.1.6,>=2.0.1 in /usr/local/lib/python3.7/dist-packages (from matplotlib<3.3.4->psyneulink) (2.4.7)\n",
            "Requirement already satisfied: python-dateutil>=2.1 in /usr/local/lib/python3.7/dist-packages (from matplotlib<3.3.4->psyneulink) (2.8.1)\n",
            "Requirement already satisfied: cycler>=0.10 in /usr/local/lib/python3.7/dist-packages (from matplotlib<3.3.4->psyneulink) (0.10.0)\n",
            "Collecting distributed>=2.0; extra == \"distributed\"\n",
            "\u001b[?25l  Downloading https://files.pythonhosted.org/packages/96/b7/f58dd1e30f940a8b38de10f5d92b2fce08f38dcba3eb1ddb017260588ed4/distributed-2021.3.0-py3-none-any.whl (675kB)\n",
            "\u001b[K     |████████████████████████████████| 675kB 40.5MB/s \n",
            "\u001b[?25hRequirement already satisfied: pyzmq>=13 in /usr/local/lib/python3.7/dist-packages (from ipyparallel>=6->elfi<0.7.8->psyneulink) (22.0.3)\n",
            "Requirement already satisfied: ipython>=4 in /usr/local/lib/python3.7/dist-packages (from ipyparallel>=6->elfi<0.7.8->psyneulink) (5.5.0)\n",
            "Requirement already satisfied: tornado>=4 in /usr/local/lib/python3.7/dist-packages (from ipyparallel>=6->elfi<0.7.8->psyneulink) (5.1.1)\n",
            "Requirement already satisfied: traitlets>=4.3 in /usr/local/lib/python3.7/dist-packages (from ipyparallel>=6->elfi<0.7.8->psyneulink) (5.0.5)\n",
            "Requirement already satisfied: ipykernel>=4.4 in /usr/local/lib/python3.7/dist-packages (from ipyparallel>=6->elfi<0.7.8->psyneulink) (4.10.1)\n",
            "Requirement already satisfied: ipython-genutils in /usr/local/lib/python3.7/dist-packages (from ipyparallel>=6->elfi<0.7.8->psyneulink) (0.2.0)\n",
            "Requirement already satisfied: jupyter-client in /usr/local/lib/python3.7/dist-packages (from ipyparallel>=6->elfi<0.7.8->psyneulink) (5.3.5)\n",
            "Collecting paramz>=0.9.0\n",
            "\u001b[?25l  Downloading https://files.pythonhosted.org/packages/d8/37/4abbeb78d30f20d3402887f46e6e9f3ef32034a9dea65d243654c82c8553/paramz-0.9.5.tar.gz (71kB)\n",
            "\u001b[K     |████████████████████████████████| 71kB 6.3MB/s \n",
            "\u001b[?25hRequirement already satisfied: joblib>=0.11 in /usr/local/lib/python3.7/dist-packages (from scikit-learn>=0.18.1->elfi<0.7.8->psyneulink) (1.0.1)\n",
            "Requirement already satisfied: nbformat>=4.2.0 in /usr/local/lib/python3.7/dist-packages (from ipywidgets>=7.0->leabra-psyneulink<=0.3.2->psyneulink) (5.1.2)\n",
            "Requirement already satisfied: jupyterlab-widgets>=1.0.0; python_version >= \"3.6\" in /usr/local/lib/python3.7/dist-packages (from ipywidgets>=7.0->leabra-psyneulink<=0.3.2->psyneulink) (1.0.0)\n",
            "Requirement already satisfied: widgetsnbextension~=3.5.0 in /usr/local/lib/python3.7/dist-packages (from ipywidgets>=7.0->leabra-psyneulink<=0.3.2->psyneulink) (3.5.1)\n",
            "Requirement already satisfied: PyYAML>=3.10 in /usr/local/lib/python3.7/dist-packages (from bokeh>=0.12.6->leabra-psyneulink<=0.3.2->psyneulink) (3.13)\n",
            "Requirement already satisfied: Jinja2>=2.7 in /usr/local/lib/python3.7/dist-packages (from bokeh>=0.12.6->leabra-psyneulink<=0.3.2->psyneulink) (2.11.3)\n",
            "Requirement already satisfied: packaging>=16.8 in /usr/local/lib/python3.7/dist-packages (from bokeh>=0.12.6->leabra-psyneulink<=0.3.2->psyneulink) (20.9)\n",
            "Requirement already satisfied: jupyter-console in /usr/local/lib/python3.7/dist-packages (from jupyter->leabra-psyneulink<=0.3.2->psyneulink) (5.2.0)\n",
            "Requirement already satisfied: nbconvert in /usr/local/lib/python3.7/dist-packages (from jupyter->leabra-psyneulink<=0.3.2->psyneulink) (5.6.1)\n",
            "Requirement already satisfied: qtconsole in /usr/local/lib/python3.7/dist-packages (from jupyter->leabra-psyneulink<=0.3.2->psyneulink) (5.0.2)\n",
            "Requirement already satisfied: notebook in /usr/local/lib/python3.7/dist-packages (from jupyter->leabra-psyneulink<=0.3.2->psyneulink) (5.3.1)\n",
            "Requirement already satisfied: sortedcontainers!=2.0.0,!=2.0.1 in /usr/local/lib/python3.7/dist-packages (from distributed>=2.0; extra == \"distributed\"->dask[distributed]<3.0.0,>=1.0.0->elfi<0.7.8->psyneulink) (2.3.0)\n",
            "Requirement already satisfied: psutil>=5.0 in /usr/local/lib/python3.7/dist-packages (from distributed>=2.0; extra == \"distributed\"->dask[distributed]<3.0.0,>=1.0.0->elfi<0.7.8->psyneulink) (5.4.8)\n",
            "Requirement already satisfied: tblib>=1.6.0 in /usr/local/lib/python3.7/dist-packages (from distributed>=2.0; extra == \"distributed\"->dask[distributed]<3.0.0,>=1.0.0->elfi<0.7.8->psyneulink) (1.7.0)\n",
            "Requirement already satisfied: zict>=0.1.3 in /usr/local/lib/python3.7/dist-packages (from distributed>=2.0; extra == \"distributed\"->dask[distributed]<3.0.0,>=1.0.0->elfi<0.7.8->psyneulink) (2.0.0)\n",
            "Collecting cloudpickle>=1.5.0\n",
            "  Downloading https://files.pythonhosted.org/packages/e7/e3/898487e5dbeb612054cf2e0c188463acb358167fef749c53c8bb8918cea1/cloudpickle-1.6.0-py3-none-any.whl\n",
            "Requirement already satisfied: msgpack>=0.6.0 in /usr/local/lib/python3.7/dist-packages (from distributed>=2.0; extra == \"distributed\"->dask[distributed]<3.0.0,>=1.0.0->elfi<0.7.8->psyneulink) (1.0.2)\n",
            "Requirement already satisfied: click>=6.6 in /usr/local/lib/python3.7/dist-packages (from distributed>=2.0; extra == \"distributed\"->dask[distributed]<3.0.0,>=1.0.0->elfi<0.7.8->psyneulink) (7.1.2)\n",
            "Requirement already satisfied: prompt-toolkit<2.0.0,>=1.0.4 in /usr/local/lib/python3.7/dist-packages (from ipython>=4->ipyparallel>=6->elfi<0.7.8->psyneulink) (1.0.18)\n",
            "Requirement already satisfied: pickleshare in /usr/local/lib/python3.7/dist-packages (from ipython>=4->ipyparallel>=6->elfi<0.7.8->psyneulink) (0.7.5)\n",
            "Requirement already satisfied: pexpect; sys_platform != \"win32\" in /usr/local/lib/python3.7/dist-packages (from ipython>=4->ipyparallel>=6->elfi<0.7.8->psyneulink) (4.8.0)\n",
            "Requirement already satisfied: simplegeneric>0.8 in /usr/local/lib/python3.7/dist-packages (from ipython>=4->ipyparallel>=6->elfi<0.7.8->psyneulink) (0.8.1)\n",
            "Requirement already satisfied: jupyter-core>=4.6.0 in /usr/local/lib/python3.7/dist-packages (from jupyter-client->ipyparallel>=6->elfi<0.7.8->psyneulink) (4.7.1)\n",
            "Requirement already satisfied: jsonschema!=2.5.0,>=2.4 in /usr/local/lib/python3.7/dist-packages (from nbformat>=4.2.0->ipywidgets>=7.0->leabra-psyneulink<=0.3.2->psyneulink) (2.6.0)\n",
            "Requirement already satisfied: MarkupSafe>=0.23 in /usr/local/lib/python3.7/dist-packages (from Jinja2>=2.7->bokeh>=0.12.6->leabra-psyneulink<=0.3.2->psyneulink) (1.1.1)\n",
            "Requirement already satisfied: mistune<2,>=0.8.1 in /usr/local/lib/python3.7/dist-packages (from nbconvert->jupyter->leabra-psyneulink<=0.3.2->psyneulink) (0.8.4)\n",
            "Requirement already satisfied: bleach in /usr/local/lib/python3.7/dist-packages (from nbconvert->jupyter->leabra-psyneulink<=0.3.2->psyneulink) (3.3.0)\n",
            "Requirement already satisfied: testpath in /usr/local/lib/python3.7/dist-packages (from nbconvert->jupyter->leabra-psyneulink<=0.3.2->psyneulink) (0.4.4)\n",
            "Requirement already satisfied: pandocfilters>=1.4.1 in /usr/local/lib/python3.7/dist-packages (from nbconvert->jupyter->leabra-psyneulink<=0.3.2->psyneulink) (1.4.3)\n",
            "Requirement already satisfied: entrypoints>=0.2.2 in /usr/local/lib/python3.7/dist-packages (from nbconvert->jupyter->leabra-psyneulink<=0.3.2->psyneulink) (0.3)\n",
            "Requirement already satisfied: defusedxml in /usr/local/lib/python3.7/dist-packages (from nbconvert->jupyter->leabra-psyneulink<=0.3.2->psyneulink) (0.6.0)\n",
            "Requirement already satisfied: qtpy in /usr/local/lib/python3.7/dist-packages (from qtconsole->jupyter->leabra-psyneulink<=0.3.2->psyneulink) (1.9.0)\n",
            "Requirement already satisfied: terminado>=0.8.1 in /usr/local/lib/python3.7/dist-packages (from notebook->jupyter->leabra-psyneulink<=0.3.2->psyneulink) (0.9.2)\n",
            "Requirement already satisfied: Send2Trash in /usr/local/lib/python3.7/dist-packages (from notebook->jupyter->leabra-psyneulink<=0.3.2->psyneulink) (1.5.0)\n",
            "Requirement already satisfied: heapdict in /usr/local/lib/python3.7/dist-packages (from zict>=0.1.3->distributed>=2.0; extra == \"distributed\"->dask[distributed]<3.0.0,>=1.0.0->elfi<0.7.8->psyneulink) (1.0.1)\n",
            "Requirement already satisfied: wcwidth in /usr/local/lib/python3.7/dist-packages (from prompt-toolkit<2.0.0,>=1.0.4->ipython>=4->ipyparallel>=6->elfi<0.7.8->psyneulink) (0.2.5)\n",
            "Requirement already satisfied: ptyprocess>=0.5 in /usr/local/lib/python3.7/dist-packages (from pexpect; sys_platform != \"win32\"->ipython>=4->ipyparallel>=6->elfi<0.7.8->psyneulink) (0.7.0)\n",
            "Requirement already satisfied: webencodings in /usr/local/lib/python3.7/dist-packages (from bleach->nbconvert->jupyter->leabra-psyneulink<=0.3.2->psyneulink) (0.5.1)\n",
            "Building wheels for collected packages: typecheck-decorator, GPy, paramz\n",
            "  Building wheel for typecheck-decorator (setup.py) ... \u001b[?25l\u001b[?25hdone\n",
            "  Created wheel for typecheck-decorator: filename=typecheck_decorator-1.2-cp37-none-any.whl size=16879 sha256=53dad64351b5683ad27146a5ece667a0caa63fd96c91feacd568a44184150ff1\n",
            "  Stored in directory: /root/.cache/pip/wheels/ef/12/5a/fd05ccc14a1471b48e92c86ef837164eeeb26d80acdf2084f3\n",
            "  Building wheel for GPy (setup.py) ... \u001b[?25l\u001b[?25hdone\n",
            "  Created wheel for GPy: filename=GPy-1.9.9-cp37-cp37m-linux_x86_64.whl size=2626950 sha256=eb19434d55ba49ac416d2502e1e68d12e4979d13f69d327141dd502593a74ad5\n",
            "  Stored in directory: /root/.cache/pip/wheels/5d/36/66/2b58860c84c9f2b51615da66bfd6feeddbc4e04d887ff96dfa\n",
            "  Building wheel for paramz (setup.py) ... \u001b[?25l\u001b[?25hdone\n",
            "  Created wheel for paramz: filename=paramz-0.9.5-cp37-none-any.whl size=102552 sha256=1ddb581288c6479772e117fb46f4e685b655aaebb44ad3941837472c9848ecdf\n",
            "  Stored in directory: /root/.cache/pip/wheels/c8/4a/0e/6e0dc85541825f991c431619e25b870d4b812c911214690cf8\n",
            "Successfully built typecheck-decorator GPy paramz\n",
            "\u001b[31mERROR: distributed 2021.3.0 has requirement dask>=2021.03.0, but you'll have dask 2.12.0 which is incompatible.\u001b[0m\n",
            "\u001b[31mERROR: grpcio-tools 1.34.1 has requirement grpcio>=1.34.1, but you'll have grpcio 1.32.0 which is incompatible.\u001b[0m\n",
            "Installing collected packages: grpcio-tools, ipyparallel, paramz, GPy, elfi, toposort, colorama, commonmark, rich, typecheck-decorator, leabra-psyneulink, psyneulink, cloudpickle, distributed\n",
            "  Found existing installation: cloudpickle 1.3.0\n",
            "    Uninstalling cloudpickle-1.3.0:\n",
            "      Successfully uninstalled cloudpickle-1.3.0\n",
            "  Found existing installation: distributed 1.25.3\n",
            "    Uninstalling distributed-1.25.3:\n",
            "      Successfully uninstalled distributed-1.25.3\n",
            "Successfully installed GPy-1.9.9 cloudpickle-1.6.0 colorama-0.4.4 commonmark-0.9.1 distributed-2021.3.0 elfi-0.7.7 grpcio-tools-1.34.1 ipyparallel-6.3.0 leabra-psyneulink-0.3.2 paramz-0.9.5 psyneulink-0.8.6.0 rich-9.11.0 toposort-1.6 typecheck-decorator-1.2\n"
          ],
          "name": "stdout"
        }
      ]
    },
    {
      "cell_type": "code",
      "metadata": {
        "colab": {
          "base_uri": "https://localhost:8080/",
          "height": 124
        },
        "id": "3FotNWlQ6nsi",
        "outputId": "1be9be56-1c5f-4d52-bdaa-73fb03f0a2d4"
      },
      "source": [
        "\n",
        "import numpy as np\n",
        "from numpy import linalg as la\n",
        "import matplotlib.pyplot as plt\n",
        "import matplotlib.axes as ax\n",
        "%matplotlib inline\n",
        "from mpl_toolkits import mplot3d\n",
        "import psyneulink as pnl\n",
        "\n",
        "# This couple of lines sets our color palette\n",
        "import seaborn as sb\n",
        "sb.palplot(sb.color_palette(\"RdBu_r\", 7))\n",
        "sb.set_palette(\"RdBu_r\",7)\n",
        "sb.set_style(\"whitegrid\")\n",
        "\n",
        "print(\"Imports Successful\")\n",
        "print(\"This will be our color palette\")"
      ],
      "execution_count": null,
      "outputs": [
        {
          "output_type": "stream",
          "text": [
            "Imports Successful\n",
            "This will be our color palette\n"
          ],
          "name": "stdout"
        },
        {
          "output_type": "display_data",
          "data": {
            "image/png": "[encoded data removed]",
            "text/plain": [
              "<Figure size 504x72 with 1 Axes>"
            ]
          },
          "metadata": {
            "tags": [],
            "needs_background": "light"
          }
        }
      ]
    },
    {
      "cell_type": "markdown",
      "metadata": {
        "id": "CDXT97uR46xV"
      },
      "source": [
        "# Part 1: Mathematics Primer for PsyNeuLink\n",
        "\n",
        "Computational modeling in psychology and cognitive neuroscience uses a variety of math.  This primer reviews some useful concepts and equations, including vectors, matrices, derivatives, and logistic functions.  \n",
        "\n",
        "Here are some additional resources overlapping and going beyond what is covered here:  \n",
        "\n",
        "[Linear Algeabra](https://www.deeplearningbook.org/contents/linear_algebra.html)\n",
        "\n",
        "[Deep Learning Cheatsheet](https://stanford.edu/~shervine/teaching/cs-229/cheatsheet-deep-learning)"
      ]
    },
    {
      "cell_type": "markdown",
      "metadata": {
        "id": "yn2wUFhqW1HF"
      },
      "source": [
        "Neural networks are inspired by real neurons, simplified to model two key properties: firing and connectivity.  Artificial neurons can be active or inactive and connected to other artificial neurons by weights.  Each neuron receives a set of inputs and applies an operation (typically non-linear) to produce a single output.  That output is then sent via weighted connections to other neurons.  Neurons are usually grouped into layers.  Layers transform inputs using weights and biases, which can be pre-set or learned through multiple iterations and used to extract qualitatively meaningful features of the raw data.  \n",
        "  \n",
        "In order to understand how artificial neurons and neural networks work, we need to understand the math that they use."
      ]
    },
    {
      "cell_type": "markdown",
      "metadata": {
        "id": "dWmamCGa5VbP"
      },
      "source": [
        "\n",
        "\n",
        "\n",
        "\n",
        "# Scalars, Vectors, & Matrices\n",
        "\n",
        "A **scalar** is a number used to quantify magnitude (e.g. temperature), while a **vector** is a number used to quantify magnitude and direction (e.g. wind).  \n",
        "\n",
        "Vectors are typically formatted as a list of numbers with each number corresponding to one direction.  Familiar Cartesian coordinates have 2 dimensions, X & Y, and a vector in Cartesian coordinates is 1x2, a one dimensional list with two numbers.   For example, south-north is the Y axis and west-east is the X axis.  The vector 3, 4 indicates wind moving both 3 mph north and 4 mph west, but the combination of these components is a vector of wind moving 5 mph northwest (thanks to the pythagorean theorem, a^2 + b^2 = c^2).  The magnitude is the distance from the origin 0,0, in this case 5.  The vector itself is one dimensional and can be depicted as an arrow starting at 0,0 and extending to 3,4 in these Cartesian coordinates.    \n",
        "<br>\n",
        "(***Note:*** A number with magnitude AND 2 or more directions is called a **tensor**.  One way to think of a basic tensor is pinching and pulling a rubber sheet toward you: there is a magnitude of force pulling back toward the initial position (you could use this to launch a pebble like a slingshot) and there is also a magnidue of tension in the rubber sheet itself that will contract back when you let go.  Tensors are used to describe gravity in general relativity.   \n",
        "<br>\n",
        "Vectors are typically formatted as one-dimensional data structures or lists, 1xN, with N as the length of the list.  A **matrix** is a two dimensional, NxN, data structures. \n",
        "\n",
        "\n",
        "# Vector & Matrix Operations\n",
        "\n",
        "In this section, we will briefly discuss matrix and vector operations. If you are already familiar with them, feel free to skip or skim as you see fit. \n",
        "  \n",
        "Like scalars, vectors and matrices of numbers can be added and multiplied. However, these operations differ from their scalar counterparts, and are heavily dependent on dimensionality.  Matrix and vector dimensions are given as (r x c) where r is the number of rows, and c is the number of columns.  Individual vectors are 1 dimensional and notated as a single row (1 x c) or as a single column (r x 1).  \n",
        "\n",
        "For example:  \n",
        "  \n",
        "\\begin{equation}\n",
        "a =\n",
        "\\left[\n",
        "\\begin{matrix}\n",
        "a_{1} & a_{2} & a_{3}\n",
        "\\end{matrix}\n",
        "\\right]\n",
        ";  b =\n",
        "\\left[\n",
        "\\begin{matrix}\n",
        "b_{1} \\\\ b_{2} \\\\ b_{3}\n",
        "\\end{matrix}\n",
        "\\right]\n",
        "; C =\n",
        "\\left[\n",
        "\\begin{matrix}\n",
        "C_{11} & C_{12} & C_{13} \\\\ C_{21} & C_{22} & C_{23} \\\\ C_{31} & C_{32} & C_{33}\n",
        "\\end{matrix}\n",
        "\\right]\n",
        "\\end{equation}\n",
        "  \n",
        "  \n",
        "Vector $a$ Is a [1x3] vector, called a row vector. Vector $b$ is a [3x1] vector, called a column vector. C is a 3x3 matrix. The components of a matrix C are denoted Cij , where i is the row index and j is the column index, so ij gives the position of the component in the matrix.     \n",
        "  \n",
        "When performing operations on vectors, it is easiest to represent a vector as a column vector, and a corresponding row vector as its “transpose”. \n",
        "  \n",
        "\\begin{equation}\n",
        "a=\n",
        "\\left[\n",
        "\\begin{matrix}\n",
        "a_{1} \\\\ a_{2} \\\\ a_{3}\n",
        "\\end{matrix}\n",
        "\\right]\n",
        "; a^T=\n",
        "\\left[\n",
        "\\begin{matrix}\n",
        "a_{1} & a_{2} & a_{3}\n",
        "\\end{matrix}\n",
        "\\right]\n",
        "\\end{equation}  \n",
        "  \n",
        "Matrices of the same dimension can be added component-wise, and the result is a new matrix of the same dimension.  \n",
        "  \n",
        "\\begin{equation}\n",
        "\\left[\n",
        "\\begin{matrix}\n",
        "a_{1} \\\\ a_{2} \\\\ a_{3}\n",
        "\\end{matrix}\n",
        "\\right]\n",
        "+\n",
        "\\left[\n",
        "\\begin{matrix}\n",
        "b_{1} \\\\ b_{2} \\\\ b_{3}\n",
        "\\end{matrix}\n",
        "\\right]\n",
        "=\n",
        "\\left[\n",
        "\\begin{matrix}\n",
        "a_{1} + b_{1}\\\\ a_{2} + b_{2} \\\\ a_{3} + b_{3}\n",
        "\\end{matrix}\n",
        "\\right]\n",
        "\\end{equation}  \n",
        "  \n",
        "Matrix subtraction works precisely the same way. A matrix can also be multiplied by a scalar by multiplying every component of a matrix by that scalar.  \n",
        "  \n",
        "\\begin{equation}\n",
        "\\alpha \\left[\n",
        "\\begin{matrix}\n",
        "a_{1} \\\\ a_{2} \\\\ a_{3}\n",
        "\\end{matrix}\n",
        "\\right]\n",
        "=\n",
        "\\left[\n",
        "\\begin{matrix}\n",
        "\\alpha a_{1} \\\\ \\alpha a_{2} \\\\ \\alpha a_{3}\n",
        "\\end{matrix}\n",
        "\\right]\n",
        "\\end{equation}\n",
        "  \n",
        "However, there are multiple types of vector muliplication. Today, we will only treat one type of vector multiplication: the “dot product”, or “inner product”.  \n",
        "  \n",
        "A dot product is the sum of component-wise multiplication of vectors. To perform it, we first multiply each component of the first vector by its corresponding component of the second vector, then we sum the resulting products. The result of a dot product is a scalar.  \n",
        "  \n",
        "\\begin{equation}\n",
        "c =\n",
        "\\sum\\limits_{i} a_{i} b_{i}\n",
        "\\end{equation}  \n",
        "    \n",
        "In vector notation, the dot product can be written as follows  \n",
        "  \n",
        "\\begin{equation}\n",
        "b \\cdot a = b^T a = \n",
        "\\left[\n",
        "\\begin{matrix}\n",
        "b_{1} & b_{2} & b_{3}\n",
        "\\end{matrix}\n",
        "\\right]\n",
        "\\left[\n",
        "\\begin{matrix}\n",
        "a_{1} \\\\ a_{2} \\\\ a_{3}\n",
        "\\end{matrix}\n",
        "\\right]\n",
        "=a_{1}b_{1} + a_{2}b_{2} + a_{3}b_{3}  \n",
        "=c\n",
        "\\end{equation}  \n",
        "  \n",
        "Note that the product only works if its “inner dimensions”, the number of columns of b and the number of rows of a, are the same.\n",
        "\n",
        "---\n",
        "## Exercise 1: \n",
        "**What happens if we try to compute a dot product from vectors whose inner dimensions are different?  (Write some code in Python that tries to compute the dot product from vectors with different inner dimensions.  Report and interpret the error.)**  ---\n",
        "\n"
      ]
    },
    {
      "cell_type": "markdown",
      "metadata": {
        "id": "Fyw0x8Uq_Yyj"
      },
      "source": [
        "## **Solution**"
      ]
    },
    {
      "cell_type": "code",
      "metadata": {
        "id": "2P6f8qcg5ofH",
        "colab": {
          "base_uri": "https://localhost:8080/",
          "height": 199
        },
        "outputId": "a51154da-9b49-4ef1-d19a-6d5cda30ed90"
      },
      "source": [
        "x=np.ones(2)\n",
        "y=np.ones(3)\n",
        "dot_prod=np.sum(x*y) #will throw an error"
      ],
      "execution_count": null,
      "outputs": [
        {
          "output_type": "error",
          "ename": "ValueError",
          "evalue": "ignored",
          "traceback": [
            "\u001b[0;31m---------------------------------------------------------------------------\u001b[0m",
            "\u001b[0;31mValueError\u001b[0m                                Traceback (most recent call last)",
            "\u001b[0;32m<ipython-input-5-b55131703fcc>\u001b[0m in \u001b[0;36m<module>\u001b[0;34m()\u001b[0m\n\u001b[1;32m      1\u001b[0m \u001b[0mx\u001b[0m\u001b[0;34m=\u001b[0m\u001b[0mnp\u001b[0m\u001b[0;34m.\u001b[0m\u001b[0mones\u001b[0m\u001b[0;34m(\u001b[0m\u001b[0;36m2\u001b[0m\u001b[0;34m)\u001b[0m\u001b[0;34m\u001b[0m\u001b[0;34m\u001b[0m\u001b[0m\n\u001b[1;32m      2\u001b[0m \u001b[0my\u001b[0m\u001b[0;34m=\u001b[0m\u001b[0mnp\u001b[0m\u001b[0;34m.\u001b[0m\u001b[0mones\u001b[0m\u001b[0;34m(\u001b[0m\u001b[0;36m3\u001b[0m\u001b[0;34m)\u001b[0m\u001b[0;34m\u001b[0m\u001b[0;34m\u001b[0m\u001b[0m\n\u001b[0;32m----> 3\u001b[0;31m \u001b[0mdot_prod\u001b[0m\u001b[0;34m=\u001b[0m\u001b[0mnp\u001b[0m\u001b[0;34m.\u001b[0m\u001b[0msum\u001b[0m\u001b[0;34m(\u001b[0m\u001b[0mx\u001b[0m\u001b[0;34m*\u001b[0m\u001b[0my\u001b[0m\u001b[0;34m)\u001b[0m \u001b[0;31m#will throw an error\u001b[0m\u001b[0;34m\u001b[0m\u001b[0;34m\u001b[0m\u001b[0m\n\u001b[0m",
            "\u001b[0;31mValueError\u001b[0m: operands could not be broadcast together with shapes (2,) (3,) "
          ]
        }
      ]
    },
    {
      "cell_type": "markdown",
      "metadata": {
        "id": "7CH1s-vU_hhg"
      },
      "source": [
        "The error says that \"operands could not be be broadcast together with shapes (3,) (4,)\". A bit more  explicitly, this means that we are trying to compute the sum $\\sum_i x_i y_i=x_1y_1+x_2y_2+x_3y_3$. But this sum doesn't make sense because there are only two entries in the vector $x$, meaning that $x_3$ does not exist. \n",
        "\n",
        "## **End Solution**"
      ]
    },
    {
      "cell_type": "markdown",
      "metadata": {
        "id": "SrLEtdPZ5d-f"
      },
      "source": [
        "The second notation (showing the row and column) is especially useful when considering matrix multiplication. In the sciences, it is convenient to think of matrices as collections of numbers. However, it is important to note that in mathematics, matrices are data constructs, which can be comprised of numbers or symbols, and their primary operations are governed by their dimension.  \n",
        "  \n",
        "If we wish to multiply a single vector (x) by a set of vectors {A}, rather than doing so individually, we can form the vectors in A into a matrix (which we will also call A), by storing their transposes in the rows of A. Then, we can sequentially compute the dot product of each vector in A with x, and store their results in a new vector, y, which will have the same dimensions as x.  \n",
        "  \n",
        "For example, let there be a set of two vectors \n",
        "\\begin{equation}\n",
        "\\overrightarrow{a_{1}}=\n",
        "\\left[\n",
        "\\begin{matrix}\n",
        "a_{11} \\\\ a_{21} \\\\ a_{31}\n",
        "\\end{matrix}\n",
        "\\right]\n",
        "\\end{equation}\n",
        "\n",
        "and its transpose \n",
        "\\begin{equation}\n",
        "\\overrightarrow{a_{1}}^T=\n",
        "\\left[\n",
        "\\begin{matrix}\n",
        "a_{11} & a_{12} & a_{13}\n",
        "\\end{matrix}\n",
        "\\right]\n",
        "\\end{equation}\n",
        "\n",
        ".\n",
        "\n",
        "$ \\overrightarrow{a_{2}} $ is similar to $ \\overrightarrow{a_{1}}$ .  \n",
        "  \n",
        "Now, let A be\n",
        "\n",
        "\\begin{equation}\n",
        "A = \n",
        "\\left[\n",
        "\\begin{matrix}\n",
        "\\overrightarrow{a_{1}}^T \\\\ \\overrightarrow{a_{2}}^T\n",
        "\\end{matrix}\n",
        "\\right]\n",
        "=\n",
        "\\left[\n",
        "\\begin{matrix}\n",
        "a_{11} & a_{12} & a_{13} \\\\ a_{21} & a_{22} & a_{23}\n",
        "\\end{matrix}\n",
        "\\right]\n",
        "\\end{equation}  \n",
        "  \n",
        "Then the product Ax is  \n",
        "  \n",
        "\\begin{equation}\n",
        "Ax = \n",
        "\\left[\n",
        "\\begin{matrix}\n",
        "a_{11} & a_{12} & a_{13} \\\\ a_{21} & a_{22} & a_{23}\n",
        "\\end{matrix}\n",
        "\\right]\n",
        "\\left[\n",
        "\\begin{matrix}\n",
        "x_{1}\\\\x_{2}\\\\x_{3}\n",
        "\\end{matrix}\n",
        "\\right]\n",
        "=\n",
        "\\left[\n",
        "\\begin{matrix}\n",
        "\\overrightarrow{a_{1}} \\cdot x \\\\ \\overrightarrow{a_{2}} \\cdot x \\\\ \n",
        "\\end{matrix}\n",
        "\\right]\n",
        "=\n",
        "\\left[\n",
        "\\begin{matrix}\n",
        "y_{1} \\\\ y_{2} \n",
        "\\end{matrix}\n",
        "\\right]\n",
        "=\n",
        "y\n",
        "\\end{equation}  \n",
        "\n",
        "## Note that the lab notebook had a typo in the above equation, which has been corrected in this notebook.\n",
        "\n",
        "    \n",
        "Matrix multiplication is what we use if we want to multiply a set of vectors ${B}$ by the vectors in $A$, we can perform a similar operation as before. We store the vectors in ${B}$ in the columns of a matrix (also called $B$). Then, we compute the dot product of each vector in the columns of $B$ with each vector in the rows of $A$. We store the results, as we did before, in a new set of column vectors, a matrix $C$. $C$ will have the “outer dimensions” of $A$ and $B$ (the same number of rows as $A$ and the same number of columns as $B$).  \n",
        "  \n",
        "For example, let there be two vectors b such that $ \\overrightarrow{b_{1}} =\n",
        "\\left[\n",
        "\\begin{matrix}\n",
        "b_{11} \\\\ b_{21} \\\\ b_{31}\n",
        "\\end{matrix}\n",
        "\\right] $ and $ \\overrightarrow{b_{2}} $ be similar. Then B is given by  \n",
        "  \n",
        "\\begin{equation}\n",
        "B =\n",
        "\\left[\n",
        "\\begin{matrix}\n",
        "b_{11} & b_{12} \\\\ b_{21} & b_{22}  \\\\ b_{31} & b_{32}\n",
        "\\end{matrix}\n",
        "\\right]\n",
        "\\end{equation}  \n",
        "  \n",
        "\\begin{equation}\n",
        "AB =\n",
        "\\left[\n",
        "\\begin{matrix}\n",
        "a_{11} & a_{12} & a_{13} \\\\ a_{21} & a_{22} & a_{23}\n",
        "\\end{matrix}\n",
        "\\right]\n",
        "\\left[\n",
        "\\begin{matrix}\n",
        "b_{11} & b_{12} \\\\ b_{21} & b_{22}  \\\\ b_{31} & b_{32}\n",
        "\\end{matrix}\n",
        "\\right]\n",
        "=\n",
        "\\left[\n",
        "\\begin{matrix}\n",
        "\\overrightarrow{a_{1}} \\cdot \\overrightarrow{b_{1}} & \\overrightarrow{a_{1}} \\cdot \\overrightarrow{b_{2}} \\\\ \\overrightarrow{a_{2}} \\cdot \\overrightarrow{b_{1}} & \\overrightarrow{a_{2}} \\cdot \\overrightarrow{b_{2}}\n",
        "\\end{matrix}\n",
        "\\right]\n",
        "=\n",
        "\\left[\n",
        "\\begin{matrix}\n",
        "c_{11} & c_{12} \\\\ c_{21} & c_{22}\n",
        "\\end{matrix}\n",
        "\\right]\n",
        "=\n",
        "C\n",
        "\\end{equation}  \n",
        "  \n",
        "The components of C are therefore given by $ c_{ij} = a_{i} \\cdot b_{j} $  \n",
        "  \n",
        "In this case, the product BA also exists. However, it is very important to understand that matrix multiplication does not commute: $ AB \\neq BA.$\n",
        "\n",
        "---\n",
        "\n",
        "## Exercise 2:\n",
        "**Let D be a 4x2 matrix and E be a 2x7 matrix, what are the dimensions of DE? What are the dimensions of ED?**\n",
        "\n",
        "---\n"
      ]
    },
    {
      "cell_type": "markdown",
      "metadata": {
        "id": "gbO7MB8j_Vsa"
      },
      "source": [
        "## **Solution**\n",
        "\n",
        "In general, multiplying a $p\\times k$ matrix by a $k\\times q$ matrix yields a $p\\times q$ matrix. Thus the dimension of $DE$ is $4\\times 7$. On the other hand, the matrix $ED$ is not well-defined because $7\\neq 4$. If we tried to compute this matrix product, we would need to take the dot product of each row of $E$ with each column of $D$. However, each row of $E$ has length $7$ while each column of $D$ has length 4, so we run into the same issue we saw in Exercise 1. We can verify this using the code below:"
      ]
    },
    {
      "cell_type": "code",
      "metadata": {
        "id": "WRtHpRH35bJA",
        "colab": {
          "base_uri": "https://localhost:8080/",
          "height": 234
        },
        "outputId": "961e9210-5e3d-49b1-ade8-3063a6df4ffe"
      },
      "source": [
        "D=np.ones((4,2))\n",
        "E=np.ones((2,7))\n",
        "DE_shape=(D@E).shape\n",
        "print('shape of DE=')\n",
        "print(DE_shape)\n",
        "ED_shape=(E@D).shape #will throw an error\n"
      ],
      "execution_count": null,
      "outputs": [
        {
          "output_type": "stream",
          "text": [
            "shape of DE=\n",
            "(4, 7)\n"
          ],
          "name": "stdout"
        },
        {
          "output_type": "error",
          "ename": "ValueError",
          "evalue": "ignored",
          "traceback": [
            "\u001b[0;31m---------------------------------------------------------------------------\u001b[0m",
            "\u001b[0;31mValueError\u001b[0m                                Traceback (most recent call last)",
            "\u001b[0;32m<ipython-input-6-955510d52055>\u001b[0m in \u001b[0;36m<module>\u001b[0;34m()\u001b[0m\n\u001b[1;32m      4\u001b[0m \u001b[0mprint\u001b[0m\u001b[0;34m(\u001b[0m\u001b[0;34m'shape of DE='\u001b[0m\u001b[0;34m)\u001b[0m\u001b[0;34m\u001b[0m\u001b[0;34m\u001b[0m\u001b[0m\n\u001b[1;32m      5\u001b[0m \u001b[0mprint\u001b[0m\u001b[0;34m(\u001b[0m\u001b[0mDE_shape\u001b[0m\u001b[0;34m)\u001b[0m\u001b[0;34m\u001b[0m\u001b[0;34m\u001b[0m\u001b[0m\n\u001b[0;32m----> 6\u001b[0;31m \u001b[0mED_shape\u001b[0m\u001b[0;34m=\u001b[0m\u001b[0;34m(\u001b[0m\u001b[0mE\u001b[0m\u001b[0;34m@\u001b[0m\u001b[0mD\u001b[0m\u001b[0;34m)\u001b[0m\u001b[0;34m.\u001b[0m\u001b[0mshape\u001b[0m \u001b[0;31m#will throw an error\u001b[0m\u001b[0;34m\u001b[0m\u001b[0;34m\u001b[0m\u001b[0m\n\u001b[0m",
            "\u001b[0;31mValueError\u001b[0m: matmul: Input operand 1 has a mismatch in its core dimension 0, with gufunc signature (n?,k),(k,m?)->(n?,m?) (size 4 is different from 7)"
          ]
        }
      ]
    },
    {
      "cell_type": "markdown",
      "metadata": {
        "id": "KXwRAVXjCEmU"
      },
      "source": [
        "## **End solution**"
      ]
    },
    {
      "cell_type": "markdown",
      "metadata": {
        "id": "M1-DvNcd5yfE"
      },
      "source": [
        "## Logistic Function\n",
        "\n",
        "The logistic function is useful because it is bounded between 0 and 1, and determined by a few basic parameters: gain, bias, & offset.   Plotting a basic logistic function looks like this:  "
      ]
    },
    {
      "cell_type": "code",
      "metadata": {
        "colab": {
          "base_uri": "https://localhost:8080/",
          "height": 265
        },
        "id": "SHsf_4Fl5zjG",
        "outputId": "49b028ac-858b-4215-ccf7-68950f4cdc4a"
      },
      "source": [
        "logistic_transfer_demo = pnl.TransferMechanism(function=pnl.Logistic(gain=1, bias=0, offset=0))\n",
        "logistic_transfer_demo.plot()"
      ],
      "execution_count": null,
      "outputs": [
        {
          "output_type": "display_data",
          "data": {
            "image/png": "[encoded data removed]",
            "text/plain": [
              "<Figure size 432x288 with 1 Axes>"
            ]
          },
          "metadata": {
            "tags": []
          }
        }
      ]
    },
    {
      "cell_type": "markdown",
      "metadata": {
        "id": "QD8xllgN52hT"
      },
      "source": [
        "In the cell below you can plug a single number into this function and get an output value.  Your input corresponds to a point on the x axis, and the output is the corresponding y value (height of the point on the curve above the x you specified).  "
      ]
    },
    {
      "cell_type": "code",
      "metadata": {
        "colab": {
          "base_uri": "https://localhost:8080/"
        },
        "id": "GpO7HVPW59ns",
        "outputId": "335d24e5-6a48-4838-8c54-209c814d5319"
      },
      "source": [
        "logistic_transfer_demo.execute([-2])"
      ],
      "execution_count": null,
      "outputs": [
        {
          "output_type": "execute_result",
          "data": {
            "text/plain": [
              "array([[0.11920292]])"
            ]
          },
          "metadata": {
            "tags": []
          },
          "execution_count": 4
        }
      ]
    },
    {
      "cell_type": "markdown",
      "metadata": {
        "id": "Hq2Ylh4z6APi"
      },
      "source": [
        "### Logistic Step Function\n",
        "Gain determines how steep the central portion of the S curve is, with higher values being steeper.  Bias shifts the curve left or right.  You can turn the logistic function effectively into a step function that works as a threshhold by increasing gain.  The step in the step function (where it crosses through 0.5 on the Y axis) is located on the X axis at (offset/gain) + bias. "
      ]
    },
    {
      "cell_type": "code",
      "metadata": {
        "colab": {
          "base_uri": "https://localhost:8080/",
          "height": 265
        },
        "id": "sxyZVkzX6EsQ",
        "outputId": "168937be-d4ab-49e1-ea10-3845b2ebb286"
      },
      "source": [
        "logistic_transfer_step = pnl.TransferMechanism(function=pnl.Logistic(gain=5,offset=10, bias=0))\n",
        "logistic_transfer_step.plot()"
      ],
      "execution_count": null,
      "outputs": [
        {
          "output_type": "display_data",
          "data": {
            "image/png": "[encoded data removed]",
            "text/plain": [
              "<Figure size 432x288 with 1 Axes>"
            ]
          },
          "metadata": {
            "tags": []
          }
        }
      ]
    },
    {
      "cell_type": "markdown",
      "metadata": {
        "id": "DkCV4lFX6H4T"
      },
      "source": [
        "Negative values of gain mirror reverse the S curve accross the vertical axis, centered at the x value of (offset/gain)+bias.  Below notice that offset/gain is -2 (10/-5), and at an X value of -2 the Y value is 0.5.  "
      ]
    },
    {
      "cell_type": "code",
      "metadata": {
        "colab": {
          "base_uri": "https://localhost:8080/",
          "height": 265
        },
        "id": "ni_eNmHn6JQ5",
        "outputId": "4b8bc731-8816-438f-d79e-59359468befe"
      },
      "source": [
        "logistic_transfer_mirror = pnl.TransferMechanism(function=pnl.Logistic(gain=-5, bias=0, offset=0))\n",
        "logistic_transfer_mirror.plot()"
      ],
      "execution_count": null,
      "outputs": [
        {
          "output_type": "display_data",
          "data": {
            "image/png": "[encoded data removed]",
            "text/plain": [
              "<Figure size 432x288 with 1 Axes>"
            ]
          },
          "metadata": {
            "tags": []
          }
        }
      ]
    },
    {
      "cell_type": "markdown",
      "metadata": {
        "id": "KnnBBlGz6SYk"
      },
      "source": [
        "### Gain, Offset, & Bias\n",
        "\n",
        "Imagine you have a neuron that has to decide whether to fire or not based upon its own parameters and some input.  Let's say this artificial neuron is a greater-than-0-detector for its input -- if the input is greater than 0 it fires, otherwise it will not fire.  Now if the neuron receives input [4] it will fire.  If it receives [-3] it will not fire.  In this simplified scenario, gain is a parameter that multiplies input by some value (e.g. multiply everyting by 2, or by 0.15, or whatever you choose), and bias is a parameter that changes the threshold (e.g. bias -2 shifts the threshold down from 0 to -2, turning the neuron into a greater than -2 detector, while bias +2 shifts the threshold up to 2).  \n",
        "\n",
        "The actual logistic function is a bit more complicated than this example: within the logistic function bias and gain are parameters in the denominator's exponent -- you don't need to know the exact equation, but one reason a logistic function is useful is that its output is bounded between 0 and 1.  \n",
        "\n",
        "Try changing the values of bias, offset, and gain in the two cells above, and see how it impacts the graph (execute the cell two above and then the cell one above to see the effect after you change these parameters).  The default values are gain = 1, offset = 0, and bias = 0.  \n",
        "\n",
        "You should notice two propoerties of the logistic function: 1) the steepness of the S-shaped curve [gain], and 2) where the midpoint y-value of 0.5 aligns with the x axis [bias].  **Increasing gain above 1 will make the curve steeper.  Decreasing gain to a fraction between 0 and 1 will make the curve shallower.  Increasing or decreasing bias will shift the curve right or left.  If you want to shift the curve proportional to gain, offset can do this, shifting the curve left or right by (offset/gain).** "
      ]
    },
    {
      "cell_type": "markdown",
      "metadata": {
        "id": "ZnTbIfUx6qoq"
      },
      "source": [
        "# Part 2: Perceptron and XOR "
      ]
    },
    {
      "cell_type": "markdown",
      "metadata": {
        "id": "nKSjdrgfW1HK"
      },
      "source": [
        "##  <a id='m0'> History of Artificial Neural Networks</a> \n",
        "\n",
        "To first approximation, activity of a neuron in the brain is determined by the integration of excitatory and inhibitory impulses received by its dendrites and passed to the cell body. If excitatory signals outweigh inhibitory signals sufficiently to pass a threshold, the neuron will fire, sending out an action potential via its axon.  \n",
        "  \n",
        "\n",
        "Artificial neurons were conceived to behave in a similar manner to real ones. Early artifical neurons were dubbed perceptrons; they received multiple binary inputs, multiplied each one by an appropriate “weight”, added them together (this should sound familiar), and produced a single binary output that depends on whether the sum passes a certain threshold.  In short, they applied a step function to the transformed input.  This is referred to as an LBF (linear basis function) activation function.  \n",
        "  \n",
        "<img src='https://drive.google.com/uc?id=1OpA3Nq2y_QqwcIxJqwCoiMQFVztYrhon'>  \n",
        "  \n",
        "If we define the threshold $ \\equiv-b $, then we can rewrite our conditional output  \n",
        "  \n",
        "\\begin{equation}\n",
        " output=\n",
        "\\begin{cases}\n",
        " 0 & if \\: w \\cdot x + b \\leq 0\n",
        "\\\\\n",
        "1  & if \\: w \\cdot x + b >  0\n",
        "\\end{cases}\n",
        "\\end{equation}  \n",
        "  \n",
        "The term $b$ is called a bias, and perceptrons are a special kind of linear classifier called a binary classifier. It is known as a binary classifier because it is assigning one of two labels (the binary output) to the inputs it receives, according to their dot product with the weights (a linear operation). The line defined by $ w \\cdot x+b=0 $ is the line that separates the classes from each other. Our “red square, blue circle” class example from earlier in the lab is an example of binarily classifiable data.  \n",
        "  \n",
        "<img src=\"https://drive.google.com/uc?id=12ChAFalPgyPvzZ9srt8LSz1bd5hcsouE\">  \n",
        "  \n",
        "In a multilayer feedforward network, artificial neurons are clustered into layers, where the output of one layer forms the input of the next. The first layer is known as the input layer, the last is the output layer, and the operational layers, where the dot products are computed, are called “hidden layers”. \n"
      ]
    },
    {
      "cell_type": "markdown",
      "metadata": {
        "id": "6fRXzsoIW1HU"
      },
      "source": [
        "Binary classification is simple but powerful. We will show this by using them to construct a set of logic gates, beginning with AND. An AND gate is a logic gate that answers the question, “are A and B both true?”. The value 1 corresponds to True, and the value 0 corresponds to False."
      ]
    },
    {
      "cell_type": "code",
      "metadata": {
        "colab": {
          "base_uri": "https://localhost:8080/",
          "height": 258
        },
        "id": "8Wz4KzOTW1HV",
        "outputId": "712ba33f-0462-4096-dbb2-ef4b2ffd22b2"
      },
      "source": [
        "#This generates a training set of all possible 2-piece combinations of the boolean values True (1) and False (0).\n",
        "#These combinations will be our \"examples\" that we train our perceptrons on. They are stored in the columns of X.\n",
        "\n",
        "Bool=np.array([[1,1],[1,0],[0,1],[0,0]])\n",
        "Bool=Bool.T\n",
        "n_combos=np.shape(Bool)[1]\n",
        "ub=np.amax(np.amax(abs(Bool)))\n",
        "lb=-ub\n",
        "\n",
        "#These are the \"labels\", the correct return values for our perceptron. When we train our network, we want it to learn\n",
        "#what values of [w] and [b] to apply to the examples to that the function returns the correct label for every\n",
        "#example.\n",
        "AND_labels=np.array([1,0,0,0])\n",
        "AND_labels.shape=((1,n_combos))\n",
        "\n",
        "\n",
        "plt.figure()\n",
        "plt.title('Boolean Matrix')\n",
        "plt.xticks(np.arange(0,n_combos))\n",
        "plt.yticks(np.arange(0,2))\n",
        "plt.imshow(Bool,cmap='RdBu_r',vmin=lb,vmax=ub)\n",
        "plt.colorbar()\n",
        "plt.show()\n"
      ],
      "execution_count": null,
      "outputs": [
        {
          "output_type": "display_data",
          "data": {
            "image/png": "[encoded data removed]",
            "text/plain": [
              "<Figure size 432x288 with 2 Axes>"
            ]
          },
          "metadata": {
            "tags": []
          }
        }
      ]
    },
    {
      "cell_type": "markdown",
      "metadata": {
        "id": "zlRpO-4CW1Hb"
      },
      "source": [
        "For a simple gate like this, we can easily choose our weights and bias manually to correctly classify each example. However, However, we dould rather the perceptron learn the weights itself. We can train it using supervised learning by showing it examples of the data with the appropriate labels (a truth table). Random weights will generate a random answer, so the perceptron must change its weights when its output does not match the labels we gave it.  \n",
        "  \n",
        "For perceptrons, we use error-based learning, where the weights are adjusted in the correct direction, based on the size and direction of the error. This is given by the Perceptron Learning Rule, and is written mathematically as:  \n",
        "  \n",
        "\\begin{equation}\n",
        "w_{ij} \\rightarrow w_{ij}+ \\eta (desired \\ label - predicted \\ label) in_{i}\n",
        "\\end{equation}  \n",
        "  \n",
        "The positive parameter $ \\eta $ encodes the learning rate."
      ]
    },
    {
      "cell_type": "markdown",
      "metadata": {
        "id": "A0oL81XWW1Hb"
      },
      "source": [
        "##  <a id='m1'>Learning the AND Gate</a> \n",
        "\n",
        "\n",
        "Use the perceptron learning rule and the provided skeleton codeto create an AND gate.  Choose your learning rate to be 0.02.  Because our training set is very small, we may need to feed it to the perceptron multiple times. Construct your program to continually run the perceptron until its accuracy is perfect. "
      ]
    },
    {
      "cell_type": "code",
      "metadata": {
        "colab": {
          "base_uri": "https://localhost:8080/",
          "height": 295
        },
        "id": "QKPCOAloW1Hc",
        "outputId": "0237c5ab-db7b-4530-a9e8-325870790f66"
      },
      "source": [
        "#Begin by initializing the weights to random values, using np.random .\n",
        "w=np.random.rand(1,2)*10\n",
        "b=-1\n",
        "eta=np.array([.3,.3])\n",
        "accuracy=0\n",
        "loop_count=0\n",
        "acc_vec=[]\n",
        "\n",
        "while accuracy != 100:\n",
        "    accuracy=0\n",
        "    for i in range (np.shape(Bool)[1]):\n",
        "        if w@Bool[:,i]+b<=0:\n",
        "            predicted_label= 0\n",
        "        else:\n",
        "            predicted_label= 1\n",
        "        if predicted_label==AND_labels[:,i]:\n",
        "            accuracy=accuracy+1\n",
        "        else:\n",
        "            diff=(AND_labels[:,i]-predicted_label)\n",
        "            w=w+eta*diff*(Bool[:,i].T)\n",
        "    accuracy=int((accuracy/n_combos)*100)\n",
        "    acc_vec=np.append(acc_vec,accuracy)\n",
        "    loop_count=loop_count+1\n",
        "lc=loop_count\n",
        "\n",
        "plt.figure()\n",
        "plt.plot(acc_vec)\n",
        "plt.title('Accuracy V. Loop Number')\n",
        "plt.xlabel('Loop Number')\n",
        "plt.ylabel('Accuracy')\n",
        "plt.xticks(np.arange(0,int(lc)))\n",
        "plt.yticks([0,25,50,75,100])\n",
        "plt.show()\n"
      ],
      "execution_count": null,
      "outputs": [
        {
          "output_type": "display_data",
          "data": {
            "image/png": "[encoded data removed]",
            "text/plain": [
              "<Figure size 432x288 with 1 Axes>"
            ]
          },
          "metadata": {
            "tags": []
          }
        }
      ]
    },
    {
      "cell_type": "markdown",
      "metadata": {
        "id": "3xZmuK5_29S-"
      },
      "source": [
        "---\n",
        "##  <a id='e3'>Exercise 3:  Learning the OR Gate</a> \n",
        "**An OR gate should classify [0,0] as False, and [0,1], [1,0], and [1,1] as True.  Modify the code above in a new cell that implements a perceptron that learns the OR gate classificiation.**  \n",
        "\n",
        "---\n",
        "\n",
        "## **Solution**\n",
        "\n",
        "Note that your learning curve may look slightly different, due to randomness in the initial weights. "
      ]
    },
    {
      "cell_type": "code",
      "metadata": {
        "id": "PWbE3c-nFhKx",
        "colab": {
          "base_uri": "https://localhost:8080/",
          "height": 295
        },
        "outputId": "6b60a5ba-a713-412f-aef4-15a8ed5ea9c9"
      },
      "source": [
        "#define the OR labels\n",
        "#the [None,:] adds an extra dummy axis of size 1 so the shape is (1,4) rather than 4\n",
        "OR_labels=np.array([1,1,1,0])[None,:]\n",
        "\n",
        "#this code is the same as in the above cell, except we have changed the prediction target\n",
        "#from AND_labels to OR_labels\n",
        "w=np.random.rand(1,2)*10\n",
        "b=-1\n",
        "eta=np.array([.3,.3])\n",
        "accuracy=0\n",
        "loop_count=0\n",
        "acc_vec=[]\n",
        "\n",
        "while accuracy != 100:\n",
        "    accuracy=0\n",
        "    for i in range (np.shape(Bool)[1]):\n",
        "        if w@Bool[:,i]+b<=0:\n",
        "            predicted_label= 0\n",
        "        else:\n",
        "            predicted_label= 1\n",
        "        if predicted_label==OR_labels[:,i]:\n",
        "            accuracy=accuracy+1\n",
        "        else:\n",
        "            diff=(OR_labels[:,i]-predicted_label)\n",
        "            w=w+eta*diff*(Bool[:,i].T)\n",
        "    accuracy=int((accuracy/n_combos)*100)\n",
        "    acc_vec=np.append(acc_vec,accuracy)\n",
        "    loop_count=loop_count+1\n",
        "lc=loop_count\n",
        "\n",
        "plt.figure()\n",
        "plt.plot(acc_vec)\n",
        "plt.title('Accuracy V. Loop Number')\n",
        "plt.xlabel('Loop Number')\n",
        "plt.ylabel('Accuracy')\n",
        "plt.xticks(np.arange(0,int(lc)))\n",
        "plt.yticks([0,25,50,75,100])\n",
        "plt.show()\n",
        "\n",
        "\n"
      ],
      "execution_count": null,
      "outputs": [
        {
          "output_type": "display_data",
          "data": {
            "image/png": "[encoded data removed]",
            "text/plain": [
              "<Figure size 432x288 with 1 Axes>"
            ]
          },
          "metadata": {
            "tags": []
          }
        }
      ]
    },
    {
      "cell_type": "markdown",
      "metadata": {
        "id": "HMXtAiwGEoXm"
      },
      "source": [
        "## **End Solution**"
      ]
    },
    {
      "cell_type": "markdown",
      "metadata": {
        "id": "4THR26pgW1He"
      },
      "source": [
        "This method works well for a single layer of perceptrons. Now, consider multiple layers of perceptrons, each operating linearly, but producing a step function output. When they produce an incorrect result, how do we know which layer is responsible for the mistake and what step size would be useful to correct it?\n",
        "  \n",
        "Because of their binary output, linearly updating weights of perceptrons in a multilayer network produces unpredictable and problematic results. A natural solution is to replace the step function with a function that more gradually interpolates between 0 and 1. A good choice here is the logistic function, which we have encountered in the previous section. It is possible to generalize the Perceptron Learning Rule to this case using calculus; the details are presented in the Appendix at the end of this notebook. We suggest that you skim the Appendix now, and then read it more carefully after you have finished this lab. Once you understand this derivation, you will be in good shape for when we discuss the Backpropagation algorithm in the next lab."
      ]
    },
    {
      "cell_type": "markdown",
      "metadata": {
        "id": "oQy5gfexW1Ho"
      },
      "source": [
        "##  <a id='m2'> PNL Two Layer Network</a> \n",
        "\n",
        "It is reasonably straightforward to create a two layer sigmoid net in numpy. However, doing so in PNL is almost trivial. We will build one for our logic gates now. \n",
        "\n",
        "Explore the effectiveness of this 2 layer network by running it at different learning rates, for different numbers of trials, and on different label sets. \n",
        "\n",
        "Which sets does it learn effectively? Which sets doesn't it?\n"
      ]
    },
    {
      "cell_type": "code",
      "metadata": {
        "colab": {
          "base_uri": "https://localhost:8080/",
          "height": 680
        },
        "id": "br92nlfkW1Ho",
        "outputId": "9d07bddc-fcb8-480d-b662-e42b5782b70c"
      },
      "source": [
        "trials=10000\n",
        "#to give the network extra flexibility, we include an extra dimension in the input whose value is always equal to 1\n",
        "#another way to get this same flexibility would be to allow our linear layers to have non-zero bias values \n",
        "Bool_bias=[[1,1,1],[1,0,1],[0,1,1],[0,0,1]]\n",
        "bool_length=np.shape(Bool_bias)[1]\n",
        "\n",
        "#Note that our new set of inputs, Bool_bias, has a third term appended to each input. This is a bias.\n",
        "#PNL is capable of training biases, but when using the method we will be incorporating for the\n",
        "#following exercises, the biases implemented by PNL will not be trained.\n",
        "#To resolve that issue, we simply implement them here.\n",
        "\n",
        "AND_labels_pnl=[[1],[0],[0],[0]]\n",
        "OR_labels_pnl= [[1],[1],[1],[0]]\n",
        "XOR_labels_pnl=[[0],[1],[1],[0]]\n",
        "rat=int(trials/n_combos)\n",
        "\n",
        "#Specify which label set you would like to use.\n",
        "labels=AND_labels_pnl\n",
        "\n",
        "#Creating a 2 layer net in PNL:\n",
        "#First, we create the input layer. This layer is simply a Transfer Mechanism that brings the examples into the network\n",
        "#We do not have to specify a function (it defaults to linear, slope = 1, intercept = 0), \n",
        "#but we do need to specify the size, which will be the size of our input array.\n",
        "\n",
        "in_layer=pnl.TransferMechanism(size=bool_length,function=pnl.Linear)\n",
        "\n",
        "#Next, we specify our output layer. This is where we do our sigmoid transformation by simply applying the Logistic function.\n",
        "#The size we specify for this layer is the number of output nodes we want. In this case, we want the network to return a scalar\n",
        "#for each example (either a 1 or a zero), so our size is 1\n",
        "\n",
        "out_layer=pnl.TransferMechanism(size=1,function=pnl.Logistic)\n",
        "\n",
        "#Finally we create a projection mapping from input to output. We will initialize with random weights.\n",
        "\n",
        "weights = pnl.MappingProjection(name='in_to_out',\n",
        "                            matrix=np.random.rand(bool_length,1),\n",
        "                            sender=in_layer,\n",
        "                            receiver=out_layer)\n",
        "\n",
        "\n",
        "#Now, we will put them together into an Autodiff Composition. These compositions are a faster option\n",
        "# for backpropagation learning that integrate PNL and pytorch.\n",
        "\n",
        "logic2L = pnl.AutodiffComposition(\n",
        "    learning_rate=10\n",
        "  )\n",
        "\n",
        "#We will now add our layers and projection map into our composition\n",
        "logic2L.add_node(in_layer)\n",
        "logic2L.add_node(out_layer)\n",
        "\n",
        "out_layer.log.set_log_conditions(pnl.VALUE)\n",
        "\n",
        "logic2L.add_projection(sender=in_layer, projection=weights, receiver=out_layer)\n",
        "\n",
        "\n",
        "# To learn our desired gates, we train the autodiff composition by giving it an input dictionary and running it\n",
        "input_dict = {\"inputs\":{in_layer: Bool_bias},\"targets\":{out_layer: labels},\"epochs\":50}\n",
        "result = logic2L.learn(inputs=input_dict)\n",
        "\n",
        "# Here, we acquire a log of the losses over time so we can see how our network learned\n",
        "#This portion acquires and plots the losses\n",
        "exec_id = logic2L.default_execution_id\n",
        "losses = logic2L.parameters.losses.get(exec_id)\n",
        "\n",
        "print(\"The last loss was \", losses[-1])\n",
        "\n",
        "plt.plot(losses)\n",
        "plt.title('Losses of 2 layer net in PNL as a function of trials')\n",
        "plt.xlabel('Epoch Number')\n",
        "plt.ylabel('Loss')\n",
        "plt.show()\n",
        "\n",
        "#This portion acquires and plots the labels\n",
        "\n",
        "#the logged values of the output layer that were recorded during the training\n",
        "data=out_layer.log.nparray()[1][1][-1][1:]\n",
        "\n",
        "#psyneulink stores the logged values as a list of length 200 (50 epochs x 4 inputs per epoch)\n",
        "#we will reshape this list into an array of shape 50 x 4, so that each column represents one of the training patterns\n",
        "#and each row represents one training epoch\n",
        "num_outs=n_combos\n",
        "length=np.shape(data)[0]\n",
        "rat=int(length/num_outs)\n",
        "\n",
        "data=np.reshape(data,(rat,num_outs))\n",
        "data=np.matrix(data)\n",
        "labs_1=np.array(data[:,0])\n",
        "labs_2=np.array(data[:,1])\n",
        "labs_3=np.array(data[:,2])\n",
        "labs_4=np.array(data[:,3])\n",
        "\n",
        "plt.plot(labs_1,label='first pattern',color='red')\n",
        "plt.plot(labs_2,label='second pattern',color='blue')\n",
        "plt.plot(labs_3,label='third pattern',color='green')\n",
        "plt.plot(labs_4,label='fourth pattern',color='black')\n",
        "plt.legend()\n",
        "\n",
        "plt.title('labels 1 through 4 versus epoch number')\n",
        "plt.xlabel('Epoch Number')\n",
        "plt.ylabel('Label Value')\n",
        "plt.show()\n",
        "\n"
      ],
      "execution_count": null,
      "outputs": [
        {
          "output_type": "stream",
          "text": [
            "/usr/local/lib/python3.7/dist-packages/psyneulink/core/globals/utilities.py:396: VisibleDeprecationWarning: Creating an ndarray from ragged nested sequences (which is a list-or-tuple of lists-or-tuples-or ndarrays with different lengths or shapes) is deprecated. If you meant to do this, you must specify 'dtype=object' when creating the ndarray\n",
            "  if reference is not None and (candidate == reference):\n",
            "/usr/local/lib/python3.7/dist-packages/psyneulink/core/globals/utilities.py:396: VisibleDeprecationWarning: Creating an ndarray from ragged nested sequences (which is a list-or-tuple of lists-or-tuples-or ndarrays with different lengths or shapes) is deprecated. If you meant to do this, you must specify 'dtype=object' when creating the ndarray\n",
            "  if reference is not None and (candidate == reference):\n"
          ],
          "name": "stderr"
        },
        {
          "output_type": "stream",
          "text": [
            "The last loss was  8.830322991578511e-10\n"
          ],
          "name": "stdout"
        },
        {
          "output_type": "display_data",
          "data": {
            "image/png": "[encoded data removed]",
            "text/plain": [
              "<Figure size 432x288 with 1 Axes>"
            ]
          },
          "metadata": {
            "tags": []
          }
        },
        {
          "output_type": "display_data",
          "data": {
            "image/png": "[encoded data removed]",
            "text/plain": [
              "<Figure size 432x288 with 1 Axes>"
            ]
          },
          "metadata": {
            "tags": []
          }
        }
      ]
    },
    {
      "cell_type": "markdown",
      "metadata": {
        "id": "TikTliayW1Hr"
      },
      "source": [
        "To understand why our 2 layer net can't effectively learn the XOR labels, it may be helpful to consider the follwing graph: \n",
        "\n"
      ]
    },
    {
      "cell_type": "code",
      "metadata": {
        "colab": {
          "base_uri": "https://localhost:8080/",
          "height": 248
        },
        "id": "T6wsdjZaW1Hr",
        "outputId": "d0d23caa-8ea8-4c2d-f7f8-a481515a397c"
      },
      "source": [
        "#convert to numpy arrays, as required for plotting functions\n",
        "Bool_bias_np=np.array(Bool_bias)\n",
        "#we will plot each point as red if the XOR relation is satisfied, and blue if not \n",
        "XOR_colors=['blue','red','red','blue']\n",
        "ax=plt.axes(projection='3d')\n",
        "\n",
        "ax.scatter(Bool_bias_np[:,0],Bool_bias_np[:,1],Bool_bias_np[:,2],color=XOR_colors)\n",
        "plt.title('XOR projected into 3-d')\n",
        "plt.show()"
      ],
      "execution_count": null,
      "outputs": [
        {
          "output_type": "display_data",
          "data": {
            "image/png": "[encoded data removed]",
            "text/plain": [
              "<Figure size 432x288 with 1 Axes>"
            ]
          },
          "metadata": {
            "tags": []
          }
        }
      ]
    },
    {
      "cell_type": "markdown",
      "metadata": {
        "id": "XQhXg4owb_Ao"
      },
      "source": [
        "##  <a id='e3'>Exercise 4: Limitations of the Perceptron Learning Rule</a> \n",
        "\n",
        "\n",
        "**Looking at the graph above, why do you think that the network had trouble learning the XOR relation, but not the AND or the OR?**\n",
        "\n",
        "## **Solution**\n",
        "\n",
        "The important difference between the XOR compared to AND and OR is that XOR is not *linearly separable*, while the other two are. This means that in the graph above, that it is not possible to draw a straight line such that \n",
        "\n",
        "1.   Both red points are on the same side of the line\n",
        "2.   Both blue points are on the same side of the line\n",
        "3.   The red points are on the opposite side than the blue points. \n",
        "\n",
        "This is a bit easier to illustrate in 2 dimensions: \n",
        "\n",
        "\n",
        "\n",
        "\n",
        "\n"
      ]
    },
    {
      "cell_type": "code",
      "metadata": {
        "id": "yfkOs2YnRkEm",
        "colab": {
          "base_uri": "https://localhost:8080/",
          "height": 282
        },
        "outputId": "34a01780-df40-4621-8b86-8ddfe7720613"
      },
      "source": [
        "#the third dimension is equal to 1 for all four points, so it makes no difference to ignore it\n",
        "plt.scatter(Bool_bias_np[:,0],Bool_bias_np[:,1],c=XOR_colors)\n",
        "\n",
        "#randomly generate and plot a line \n",
        "y_intercept=np.random.uniform(low=-2,high=2)\n",
        "x_intercept=np.random.uniform(low=-2,high=2)\n",
        "\n",
        "slope=-y_intercept/x_intercept\n",
        "plt.plot([0,1],[y_intercept,y_intercept+slope])\n"
      ],
      "execution_count": null,
      "outputs": [
        {
          "output_type": "execute_result",
          "data": {
            "text/plain": [
              "[<matplotlib.lines.Line2D at 0x7f2d5648ca90>]"
            ]
          },
          "metadata": {
            "tags": []
          },
          "execution_count": 49
        },
        {
          "output_type": "display_data",
          "data": {
            "image/png": "[encoded data removed]",
            "text/plain": [
              "<Figure size 432x288 with 1 Axes>"
            ]
          },
          "metadata": {
            "tags": []
          }
        }
      ]
    },
    {
      "cell_type": "markdown",
      "metadata": {
        "id": "Dgo7-06tJi9e"
      },
      "source": [
        "Each time you run the cell, it will randomly generate a line. You can convince yourself that no matter which line is chosen, at least one of the three conditions above will be violated. \n",
        "\n",
        "By contrast, it is possible to satisfy all three conditions for AND and OR. Here is an illustration of a line that does the job for AND (constructing a similar line for OR is quite similar): \n",
        "\n"
      ]
    },
    {
      "cell_type": "code",
      "metadata": {
        "colab": {
          "base_uri": "https://localhost:8080/",
          "height": 282
        },
        "id": "-N808xpvKCiy",
        "outputId": "fb4bbfb1-171c-421e-9f5e-5a7b560c458b"
      },
      "source": [
        "AND_colors=['red','blue','blue','blue']\n",
        "\n",
        "\n",
        "plt.scatter(Bool_bias_np[:,0],Bool_bias_np[:,1],c=AND_colors)\n",
        "\n",
        "y_intercept=1.5\n",
        "x_intercept=1.5\n",
        "\n",
        "slope=-y_intercept/x_intercept\n",
        "plt.plot([0,1],[y_intercept,y_intercept+slope])\n"
      ],
      "execution_count": null,
      "outputs": [
        {
          "output_type": "execute_result",
          "data": {
            "text/plain": [
              "[<matplotlib.lines.Line2D at 0x7f2d56446f90>]"
            ]
          },
          "metadata": {
            "tags": []
          },
          "execution_count": 51
        },
        {
          "output_type": "display_data",
          "data": {
            "image/png": "[encoded data removed]",
            "text/plain": [
              "<Figure size 432x288 with 1 Axes>"
            ]
          },
          "metadata": {
            "tags": []
          }
        }
      ]
    },
    {
      "cell_type": "markdown",
      "metadata": {
        "id": "tu2gk9J_KfRe"
      },
      "source": [
        "Now, why is linear separability important here? On the one hand, our network is defined so that when it is given an input $x$, it produces an output of $1$ if \n",
        "$$w\\cdot x+b>0$$\n",
        " and an output of 0 otherwise. It will be able to learn effectively provided that there exist some $w$ and $b$ such that $w\\cdot x+b>0$ whenever $x$ is red and $<0$ whenever $x$ is blue (since we want the output to be positive whenever $x$ is red and negative when blue).\n",
        " \n",
        " \n",
        "  On the other hand, consider a line with a y-intercept of $y_0$ and a slope of $m$. Then a point $(a,b)$ lies above this line if \n",
        "$$b>ma+y_0$$\n",
        "\n",
        " and lies below the line otherwise. We can rearrange this condition to read \n",
        " $$(-m,1)\\cdot (a,b) -y_0>0$$\n",
        " which is the same as the first equation,  provided we take $w=(-m,1)$, $b=-y_0$, and $x=(a,b)$. This means that our original condition $w\\cdot x+b>0$ is equivalent to checking whether $x$ is above or below some line (with the parameters of the line being determined by $w$ and $b$, and vice versa). So in order for our network to learn effectively, it must be the case that all of the red points are above some line, and all of the blue points are below that same line, i.e. the points must be linearly separable. Since XOR does not satisfy this condition, our network cannot learn the labeling in this case.\n",
        "\n",
        " ## **End Solution**"
      ]
    },
    {
      "cell_type": "markdown",
      "metadata": {
        "id": "M6OOxihHIKKW"
      },
      "source": [
        "This example was important from a historical perspective. In the 1960s, Marvin Minsky and Seymour Papert showed that it was impossible for a simple neural network such as this one to learn the XOR relation. This caused people to lose interest in neural networks for a long time. However the interest was revived in the 1980s with the development of the Backpropagation algorithm, which showed how to generalize the Perceptron Learning Rule to networks with any number of layers. The ability to train networks with more than two layers allowed them to effectively learn XOR, as well as many other much more complex relations. "
      ]
    },
    {
      "cell_type": "markdown",
      "metadata": {
        "id": "gOT3AiKnB9uS"
      },
      "source": [
        "# BUILD"
      ]
    },
    {
      "cell_type": "code",
      "metadata": {
        "id": "Ss9RhbTgB_lo"
      },
      "source": [
        ""
      ],
      "execution_count": null,
      "outputs": []
    },
    {
      "cell_type": "markdown",
      "metadata": {
        "id": "AVT4YAauGVBB"
      },
      "source": [
        "# Appendix: Derivation of Learning Rule for two-layer network with sigmoidal activation"
      ]
    },
    {
      "cell_type": "markdown",
      "metadata": {
        "id": "n-ZHvUacGVdt"
      },
      "source": [
        "Sigmoid neurons take inputs and produce outputs similar to perceptrons, however, the inputs and outputs are not binary. Additionally, rather than applying a simple dot product to the inputs such that\n",
        "\\begin{equation}\n",
        "z(w,x) = w \\cdot x + b\n",
        "\\end{equation}\n",
        "\n",
        "these new types of neurons apply the sigmoid function, of the form\n",
        "\n",
        "\\begin{equation}\n",
        "\\sigma(z(w,x))=\\frac{1}{1+e^{-z(w,x)}}\n",
        "\\end{equation}\n",
        "\n",
        ". \n",
        "This function is actually the same as a Logistic function with a bias value of 0 and a gain value of 1. It has an upper bound at 1 and a lower bound at zero. This can be seen by examining the limits: $\\lim_{z(w,x)\\to\\infty} \\sigma(z(w,x))$ and $\\lim_{z(w,x)\\to -\\infty} \\sigma(z(w,x))$. Although its equation looks complex, a sigmoid function can quickly become intuitive when you try modifying the parameters, as we did in Lab 1 with the Logistic function. The graph below illustrates gives the graph of $\\sigma(x)$.\n"
      ]
    },
    {
      "cell_type": "markdown",
      "metadata": {
        "id": "_eiLMMf3PdcN"
      },
      "source": [
        "<img src=\"https://drive.google.com/uc?id=11pGLSRaXt-eeBp37P0iTc3AmAsdb4Q1_\"> \n"
      ]
    },
    {
      "cell_type": "markdown",
      "metadata": {
        "id": "wMLRc8bjGmpJ"
      },
      "source": [
        "In a multilayer network, the output of multiple sigmoid functions in the first non-input layer forms the input to the next layer. However, because of its bounded structure, a sigmoid function only outputs 1 or 0 at the limits (when rounding error kicks in). Typically its output will be somewhere in between. Therefore, there will always be some error between the desired output of a logical function (1 or 0) and the output of a sigmoid. The error of a single output is given by  \n",
        "  \n",
        "\\begin{equation}\n",
        "E=desired \\ output - \\sigma(z(w,x))\n",
        "\\end{equation}  \n",
        "  \n",
        "A common measure of error is called the mean squared error, and is given by  \n",
        "  \n",
        "\\begin{equation}\n",
        "E =\n",
        "\\frac{1}{n} \\ \\sum_{i=1}^{n} (desired \\ output_{i} - \\sigma(z(w,x))_{i})^2\n",
        "\\end{equation}  \n",
        "  \n",
        "Although we cannot drive this value to zero (when our desired output is binary), we can minimize it. Because it is a sum of squares, we can minimize it by minimizing each term. Because each term is a convex function of the weights, it is minimized when its derivative as a function of the weights is zero. We can train our neural net to do this using the delta rule, which is very similar to the perceptron learning rule. \n",
        "\n",
        "\\begin{equation}\n",
        "w^{t+1} = \\underbrace{w^t}_\\text{current weight} + \\underbrace{\\Delta w^t}_\\text{weight change}\n",
        "\\end{equation}\n",
        "\n",
        "where \n",
        "\n",
        "\\begin{equation}\n",
        "\\Delta w^t = - \\alpha \\underbrace{\\frac{\\partial E^t}{\\partial w^t}}_\\text{change in error terms as a function of the weights}\n",
        "\\end{equation}\n",
        "\n",
        ".\n",
        "  \n",
        "As you can see, when the derivative of the error is zero, the weights stop changing. The error is, at this point, minimized.  \n",
        "  \n",
        "In order to calculate the derviative of the error, we simply employ the chain rule. We will aslo be using a modified form of the error. Instead of scaling each term by $\\frac{1}{n}$, we will scale by $\\frac{1}{2}$ \n",
        "\n",
        "So, each error term is given by \n",
        "  \n",
        "\\begin{equation}\n",
        "E_{i} =\n",
        "\\frac{1}{2} (desired \\ output_{i} - \\sigma(h(x))_{i})^2\n",
        "\\end{equation}  \n",
        "  \n",
        "and its derivative is given by  \n",
        "  \n",
        "\\begin{equation}\n",
        "\\frac{\\partial E_{i}}{\\partial w} = \\underbrace{\\frac{\\partial E_{i}}{\\partial \\sigma(h(w,x))}}_\\text{derivative 1} \\quad\n",
        "\\underbrace{\\frac{\\partial \\sigma(h(w,x))}{\\partial h(w,x)}}_\\text{derivative 2} \\quad\n",
        "\\underbrace{\\frac{\\partial h(w,x)}{\\partial w}}_\\text{derivative 3}\n",
        "\\end{equation}\n",
        "  \n",
        "Now, because $h(w,x)$ is a vector equation, its derivative is also a vector. This produces our vector of weight changes, each term of which is determined by derivative 3  \n",
        "  \n",
        "\\begin{equation}\n",
        "\\quad\n",
        "\\underbrace{\\frac{\\partial h(w,x)}{\\partial w_{i}}}_\\text{derivative 3}\n",
        "\\end{equation}  \n",
        ".\n",
        "\n",
        "This comes out surprisingly tidily:  \n",
        "  \n",
        "\\begin{equation}\n",
        "{\\frac{\\partial E^t}{\\partial w_{i}^t}}=(desired \\ output - \\sigma) (\\sigma (1 - \\sigma))x_{i}\n",
        "\\end{equation}  \n",
        "  \n",
        "Now \n",
        "\\begin{equation}\n",
        "\\Delta w^t_{i} = - \\alpha (desired \\ output - \\sigma) (\\sigma (1 - \\sigma))x_{i}\n",
        "\\end{equation}\n",
        "  \n",
        "Biases are updated in much the same fashion, using\n",
        "  \n",
        "\\begin{equation}\n",
        "\\Delta b^t_{i} = - \\alpha (desired \\ output - \\sigma) (\\sigma (1 - \\sigma))1\n",
        "\\end{equation}"
      ]
    }
  ]
}