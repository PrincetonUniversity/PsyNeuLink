{
  "nbformat": 4,
  "nbformat_minor": 0,
  "metadata": {
    "colab": {
      "name": "Lab7_Decision_Making.ipynb",
      "provenance": [],
      "collapsed_sections": []
    },
    "kernelspec": {
      "display_name": "Python 3",
      "language": "python",
      "name": "python3"
    },
    "widgets": {
      "application/vnd.jupyter.widget-state+json": {
        "1e683d85b741461196cc6e07dc705098": {
          "model_module": "@jupyter-widgets/output",
          "model_name": "OutputModel",
          "state": {
            "_view_name": "OutputView",
            "msg_id": "",
            "_dom_classes": [],
            "_model_name": "OutputModel",
            "outputs": [
              {
                "output_type": "display_data",
                "metadata": {
                  "tags": []
                },
                "text/html": "<pre style=\"white-space:pre;overflow-x:auto;line-height:normal;font-family:Menlo,'DejaVu Sans Mono',consolas,'Courier New',monospace\"></pre>\n",
                "text/plain": "<rich.jupyter.JupyterRenderable at 0x7fb9b39d6450>"
              }
            ],
            "_view_module": "@jupyter-widgets/output",
            "_model_module_version": "1.0.0",
            "_view_count": null,
            "_view_module_version": "1.0.0",
            "layout": "IPY_MODEL_3e48d10ca6d449b9bc876d2bff76c97d",
            "_model_module": "@jupyter-widgets/output"
          }
        },
        "3e48d10ca6d449b9bc876d2bff76c97d": {
          "model_module": "@jupyter-widgets/base",
          "model_name": "LayoutModel",
          "state": {
            "_view_name": "LayoutView",
            "grid_template_rows": null,
            "right": null,
            "justify_content": null,
            "_view_module": "@jupyter-widgets/base",
            "overflow": null,
            "_model_module_version": "1.2.0",
            "_view_count": null,
            "flex_flow": null,
            "width": null,
            "min_width": null,
            "border": null,
            "align_items": null,
            "bottom": null,
            "_model_module": "@jupyter-widgets/base",
            "top": null,
            "grid_column": null,
            "overflow_y": null,
            "overflow_x": null,
            "grid_auto_flow": null,
            "grid_area": null,
            "grid_template_columns": null,
            "flex": null,
            "_model_name": "LayoutModel",
            "justify_items": null,
            "grid_row": null,
            "max_height": null,
            "align_content": null,
            "visibility": null,
            "align_self": null,
            "height": null,
            "min_height": null,
            "padding": null,
            "grid_auto_rows": null,
            "grid_gap": null,
            "max_width": null,
            "order": null,
            "_view_module_version": "1.2.0",
            "grid_template_areas": null,
            "object_position": null,
            "object_fit": null,
            "grid_auto_columns": null,
            "margin": null,
            "display": null,
            "left": null
          }
        },
        "d6cd6257ab514f12a44e1bddf9538f79": {
          "model_module": "@jupyter-widgets/output",
          "model_name": "OutputModel",
          "state": {
            "_view_name": "OutputView",
            "msg_id": "",
            "_dom_classes": [],
            "_model_name": "OutputModel",
            "outputs": [
              {
                "output_type": "display_data",
                "metadata": {
                  "tags": []
                },
                "text/html": "<pre style=\"white-space:pre;overflow-x:auto;line-height:normal;font-family:Menlo,'DejaVu Sans Mono',consolas,'Courier New',monospace\"></pre>\n",
                "text/plain": "<rich.jupyter.JupyterRenderable at 0x7f2f878e7590>"
              }
            ],
            "_view_module": "@jupyter-widgets/output",
            "_model_module_version": "1.0.0",
            "_view_count": null,
            "_view_module_version": "1.0.0",
            "layout": "IPY_MODEL_c0d92839f6584f4ca4171f4c61f29b20",
            "_model_module": "@jupyter-widgets/output"
          }
        },
        "c0d92839f6584f4ca4171f4c61f29b20": {
          "model_module": "@jupyter-widgets/base",
          "model_name": "LayoutModel",
          "state": {
            "_view_name": "LayoutView",
            "grid_template_rows": null,
            "right": null,
            "justify_content": null,
            "_view_module": "@jupyter-widgets/base",
            "overflow": null,
            "_model_module_version": "1.2.0",
            "_view_count": null,
            "flex_flow": null,
            "width": null,
            "min_width": null,
            "border": null,
            "align_items": null,
            "bottom": null,
            "_model_module": "@jupyter-widgets/base",
            "top": null,
            "grid_column": null,
            "overflow_y": null,
            "overflow_x": null,
            "grid_auto_flow": null,
            "grid_area": null,
            "grid_template_columns": null,
            "flex": null,
            "_model_name": "LayoutModel",
            "justify_items": null,
            "grid_row": null,
            "max_height": null,
            "align_content": null,
            "visibility": null,
            "align_self": null,
            "height": null,
            "min_height": null,
            "padding": null,
            "grid_auto_rows": null,
            "grid_gap": null,
            "max_width": null,
            "order": null,
            "_view_module_version": "1.2.0",
            "grid_template_areas": null,
            "object_position": null,
            "object_fit": null,
            "grid_auto_columns": null,
            "margin": null,
            "display": null,
            "left": null
          }
        },
        "f4b6cdb60b6e4f1b84640487768ebbd8": {
          "model_module": "@jupyter-widgets/output",
          "model_name": "OutputModel",
          "state": {
            "_view_name": "OutputView",
            "msg_id": "",
            "_dom_classes": [],
            "_model_name": "OutputModel",
            "outputs": [
              {
                "output_type": "display_data",
                "metadata": {
                  "tags": []
                },
                "text/html": "<pre style=\"white-space:pre;overflow-x:auto;line-height:normal;font-family:Menlo,'DejaVu Sans Mono',consolas,'Courier New',monospace\"></pre>\n",
                "text/plain": "<rich.jupyter.JupyterRenderable at 0x7f2f85e6b4d0>"
              }
            ],
            "_view_module": "@jupyter-widgets/output",
            "_model_module_version": "1.0.0",
            "_view_count": null,
            "_view_module_version": "1.0.0",
            "layout": "IPY_MODEL_7fb32ceb11934f32bdcdfdeb8a89693b",
            "_model_module": "@jupyter-widgets/output"
          }
        },
        "7fb32ceb11934f32bdcdfdeb8a89693b": {
          "model_module": "@jupyter-widgets/base",
          "model_name": "LayoutModel",
          "state": {
            "_view_name": "LayoutView",
            "grid_template_rows": null,
            "right": null,
            "justify_content": null,
            "_view_module": "@jupyter-widgets/base",
            "overflow": null,
            "_model_module_version": "1.2.0",
            "_view_count": null,
            "flex_flow": null,
            "width": null,
            "min_width": null,
            "border": null,
            "align_items": null,
            "bottom": null,
            "_model_module": "@jupyter-widgets/base",
            "top": null,
            "grid_column": null,
            "overflow_y": null,
            "overflow_x": null,
            "grid_auto_flow": null,
            "grid_area": null,
            "grid_template_columns": null,
            "flex": null,
            "_model_name": "LayoutModel",
            "justify_items": null,
            "grid_row": null,
            "max_height": null,
            "align_content": null,
            "visibility": null,
            "align_self": null,
            "height": null,
            "min_height": null,
            "padding": null,
            "grid_auto_rows": null,
            "grid_gap": null,
            "max_width": null,
            "order": null,
            "_view_module_version": "1.2.0",
            "grid_template_areas": null,
            "object_position": null,
            "object_fit": null,
            "grid_auto_columns": null,
            "margin": null,
            "display": null,
            "left": null
          }
        },
        "45c1dee78471452ca5beb06b2b26923f": {
          "model_module": "@jupyter-widgets/output",
          "model_name": "OutputModel",
          "state": {
            "_view_name": "OutputView",
            "msg_id": "",
            "_dom_classes": [],
            "_model_name": "OutputModel",
            "outputs": [
              {
                "output_type": "display_data",
                "metadata": {
                  "tags": []
                },
                "text/html": "<pre style=\"white-space:pre;overflow-x:auto;line-height:normal;font-family:Menlo,'DejaVu Sans Mono',consolas,'Courier New',monospace\"></pre>\n",
                "text/plain": "<rich.jupyter.JupyterRenderable at 0x7f2f81b18390>"
              }
            ],
            "_view_module": "@jupyter-widgets/output",
            "_model_module_version": "1.0.0",
            "_view_count": null,
            "_view_module_version": "1.0.0",
            "layout": "IPY_MODEL_99a307169e7d443ca9722991df7d0d5e",
            "_model_module": "@jupyter-widgets/output"
          }
        },
        "99a307169e7d443ca9722991df7d0d5e": {
          "model_module": "@jupyter-widgets/base",
          "model_name": "LayoutModel",
          "state": {
            "_view_name": "LayoutView",
            "grid_template_rows": null,
            "right": null,
            "justify_content": null,
            "_view_module": "@jupyter-widgets/base",
            "overflow": null,
            "_model_module_version": "1.2.0",
            "_view_count": null,
            "flex_flow": null,
            "width": null,
            "min_width": null,
            "border": null,
            "align_items": null,
            "bottom": null,
            "_model_module": "@jupyter-widgets/base",
            "top": null,
            "grid_column": null,
            "overflow_y": null,
            "overflow_x": null,
            "grid_auto_flow": null,
            "grid_area": null,
            "grid_template_columns": null,
            "flex": null,
            "_model_name": "LayoutModel",
            "justify_items": null,
            "grid_row": null,
            "max_height": null,
            "align_content": null,
            "visibility": null,
            "align_self": null,
            "height": null,
            "min_height": null,
            "padding": null,
            "grid_auto_rows": null,
            "grid_gap": null,
            "max_width": null,
            "order": null,
            "_view_module_version": "1.2.0",
            "grid_template_areas": null,
            "object_position": null,
            "object_fit": null,
            "grid_auto_columns": null,
            "margin": null,
            "display": null,
            "left": null
          }
        },
        "eb4c2d5a73db4af1ab50dc3bef875213": {
          "model_module": "@jupyter-widgets/output",
          "model_name": "OutputModel",
          "state": {
            "_view_name": "OutputView",
            "msg_id": "",
            "_dom_classes": [],
            "_model_name": "OutputModel",
            "outputs": [
              {
                "output_type": "display_data",
                "metadata": {
                  "tags": []
                },
                "text/html": "<pre style=\"white-space:pre;overflow-x:auto;line-height:normal;font-family:Menlo,'DejaVu Sans Mono',consolas,'Courier New',monospace\"></pre>\n",
                "text/plain": "<rich.jupyter.JupyterRenderable at 0x7f2f80a41c50>"
              }
            ],
            "_view_module": "@jupyter-widgets/output",
            "_model_module_version": "1.0.0",
            "_view_count": null,
            "_view_module_version": "1.0.0",
            "layout": "IPY_MODEL_8c0597384c464a2b8a2b9b5759fa4b24",
            "_model_module": "@jupyter-widgets/output"
          }
        },
        "8c0597384c464a2b8a2b9b5759fa4b24": {
          "model_module": "@jupyter-widgets/base",
          "model_name": "LayoutModel",
          "state": {
            "_view_name": "LayoutView",
            "grid_template_rows": null,
            "right": null,
            "justify_content": null,
            "_view_module": "@jupyter-widgets/base",
            "overflow": null,
            "_model_module_version": "1.2.0",
            "_view_count": null,
            "flex_flow": null,
            "width": null,
            "min_width": null,
            "border": null,
            "align_items": null,
            "bottom": null,
            "_model_module": "@jupyter-widgets/base",
            "top": null,
            "grid_column": null,
            "overflow_y": null,
            "overflow_x": null,
            "grid_auto_flow": null,
            "grid_area": null,
            "grid_template_columns": null,
            "flex": null,
            "_model_name": "LayoutModel",
            "justify_items": null,
            "grid_row": null,
            "max_height": null,
            "align_content": null,
            "visibility": null,
            "align_self": null,
            "height": null,
            "min_height": null,
            "padding": null,
            "grid_auto_rows": null,
            "grid_gap": null,
            "max_width": null,
            "order": null,
            "_view_module_version": "1.2.0",
            "grid_template_areas": null,
            "object_position": null,
            "object_fit": null,
            "grid_auto_columns": null,
            "margin": null,
            "display": null,
            "left": null
          }
        },
        "6e08c037743645959f888c7030c7c675": {
          "model_module": "@jupyter-widgets/output",
          "model_name": "OutputModel",
          "state": {
            "_view_name": "OutputView",
            "msg_id": "",
            "_dom_classes": [],
            "_model_name": "OutputModel",
            "outputs": [
              {
                "output_type": "display_data",
                "metadata": {
                  "tags": []
                },
                "text/html": "<pre style=\"white-space:pre;overflow-x:auto;line-height:normal;font-family:Menlo,'DejaVu Sans Mono',consolas,'Courier New',monospace\"></pre>\n",
                "text/plain": "<rich.jupyter.JupyterRenderable at 0x7f2f807a6fd0>"
              }
            ],
            "_view_module": "@jupyter-widgets/output",
            "_model_module_version": "1.0.0",
            "_view_count": null,
            "_view_module_version": "1.0.0",
            "layout": "IPY_MODEL_c29607c491f6425ebf463fd8c2444582",
            "_model_module": "@jupyter-widgets/output"
          }
        },
        "c29607c491f6425ebf463fd8c2444582": {
          "model_module": "@jupyter-widgets/base",
          "model_name": "LayoutModel",
          "state": {
            "_view_name": "LayoutView",
            "grid_template_rows": null,
            "right": null,
            "justify_content": null,
            "_view_module": "@jupyter-widgets/base",
            "overflow": null,
            "_model_module_version": "1.2.0",
            "_view_count": null,
            "flex_flow": null,
            "width": null,
            "min_width": null,
            "border": null,
            "align_items": null,
            "bottom": null,
            "_model_module": "@jupyter-widgets/base",
            "top": null,
            "grid_column": null,
            "overflow_y": null,
            "overflow_x": null,
            "grid_auto_flow": null,
            "grid_area": null,
            "grid_template_columns": null,
            "flex": null,
            "_model_name": "LayoutModel",
            "justify_items": null,
            "grid_row": null,
            "max_height": null,
            "align_content": null,
            "visibility": null,
            "align_self": null,
            "height": null,
            "min_height": null,
            "padding": null,
            "grid_auto_rows": null,
            "grid_gap": null,
            "max_width": null,
            "order": null,
            "_view_module_version": "1.2.0",
            "grid_template_areas": null,
            "object_position": null,
            "object_fit": null,
            "grid_auto_columns": null,
            "margin": null,
            "display": null,
            "left": null
          }
        },
        "c324748440ad477e9381b9ba4d567beb": {
          "model_module": "@jupyter-widgets/output",
          "model_name": "OutputModel",
          "state": {
            "_view_name": "OutputView",
            "msg_id": "",
            "_dom_classes": [],
            "_model_name": "OutputModel",
            "outputs": [
              {
                "output_type": "display_data",
                "metadata": {
                  "tags": []
                },
                "text/html": "<pre style=\"white-space:pre;overflow-x:auto;line-height:normal;font-family:Menlo,'DejaVu Sans Mono',consolas,'Courier New',monospace\"></pre>\n",
                "text/plain": "<rich.jupyter.JupyterRenderable at 0x7f2f804de350>"
              }
            ],
            "_view_module": "@jupyter-widgets/output",
            "_model_module_version": "1.0.0",
            "_view_count": null,
            "_view_module_version": "1.0.0",
            "layout": "IPY_MODEL_acc702dd793749d48a12c1faa0bd9deb",
            "_model_module": "@jupyter-widgets/output"
          }
        },
        "acc702dd793749d48a12c1faa0bd9deb": {
          "model_module": "@jupyter-widgets/base",
          "model_name": "LayoutModel",
          "state": {
            "_view_name": "LayoutView",
            "grid_template_rows": null,
            "right": null,
            "justify_content": null,
            "_view_module": "@jupyter-widgets/base",
            "overflow": null,
            "_model_module_version": "1.2.0",
            "_view_count": null,
            "flex_flow": null,
            "width": null,
            "min_width": null,
            "border": null,
            "align_items": null,
            "bottom": null,
            "_model_module": "@jupyter-widgets/base",
            "top": null,
            "grid_column": null,
            "overflow_y": null,
            "overflow_x": null,
            "grid_auto_flow": null,
            "grid_area": null,
            "grid_template_columns": null,
            "flex": null,
            "_model_name": "LayoutModel",
            "justify_items": null,
            "grid_row": null,
            "max_height": null,
            "align_content": null,
            "visibility": null,
            "align_self": null,
            "height": null,
            "min_height": null,
            "padding": null,
            "grid_auto_rows": null,
            "grid_gap": null,
            "max_width": null,
            "order": null,
            "_view_module_version": "1.2.0",
            "grid_template_areas": null,
            "object_position": null,
            "object_fit": null,
            "grid_auto_columns": null,
            "margin": null,
            "display": null,
            "left": null
          }
        },
        "fd7bdb4319234caf83ee6ddcd6d65075": {
          "model_module": "@jupyter-widgets/output",
          "model_name": "OutputModel",
          "state": {
            "_view_name": "OutputView",
            "msg_id": "",
            "_dom_classes": [],
            "_model_name": "OutputModel",
            "outputs": [
              {
                "output_type": "display_data",
                "metadata": {
                  "tags": []
                },
                "text/html": "<pre style=\"white-space:pre;overflow-x:auto;line-height:normal;font-family:Menlo,'DejaVu Sans Mono',consolas,'Courier New',monospace\"></pre>\n",
                "text/plain": "<rich.jupyter.JupyterRenderable at 0x7f2f802f4f10>"
              }
            ],
            "_view_module": "@jupyter-widgets/output",
            "_model_module_version": "1.0.0",
            "_view_count": null,
            "_view_module_version": "1.0.0",
            "layout": "IPY_MODEL_719b9239d08f44ef91ee51786020f277",
            "_model_module": "@jupyter-widgets/output"
          }
        },
        "719b9239d08f44ef91ee51786020f277": {
          "model_module": "@jupyter-widgets/base",
          "model_name": "LayoutModel",
          "state": {
            "_view_name": "LayoutView",
            "grid_template_rows": null,
            "right": null,
            "justify_content": null,
            "_view_module": "@jupyter-widgets/base",
            "overflow": null,
            "_model_module_version": "1.2.0",
            "_view_count": null,
            "flex_flow": null,
            "width": null,
            "min_width": null,
            "border": null,
            "align_items": null,
            "bottom": null,
            "_model_module": "@jupyter-widgets/base",
            "top": null,
            "grid_column": null,
            "overflow_y": null,
            "overflow_x": null,
            "grid_auto_flow": null,
            "grid_area": null,
            "grid_template_columns": null,
            "flex": null,
            "_model_name": "LayoutModel",
            "justify_items": null,
            "grid_row": null,
            "max_height": null,
            "align_content": null,
            "visibility": null,
            "align_self": null,
            "height": null,
            "min_height": null,
            "padding": null,
            "grid_auto_rows": null,
            "grid_gap": null,
            "max_width": null,
            "order": null,
            "_view_module_version": "1.2.0",
            "grid_template_areas": null,
            "object_position": null,
            "object_fit": null,
            "grid_auto_columns": null,
            "margin": null,
            "display": null,
            "left": null
          }
        },
        "e81f0e268aa74563a4e832a7a574166c": {
          "model_module": "@jupyter-widgets/output",
          "model_name": "OutputModel",
          "state": {
            "_view_name": "OutputView",
            "msg_id": "",
            "_dom_classes": [],
            "_model_name": "OutputModel",
            "outputs": [
              {
                "output_type": "display_data",
                "metadata": {
                  "tags": []
                },
                "text/html": "<pre style=\"white-space:pre;overflow-x:auto;line-height:normal;font-family:Menlo,'DejaVu Sans Mono',consolas,'Courier New',monospace\"></pre>\n",
                "text/plain": "<rich.jupyter.JupyterRenderable at 0x7f2f7ffdc6d0>"
              }
            ],
            "_view_module": "@jupyter-widgets/output",
            "_model_module_version": "1.0.0",
            "_view_count": null,
            "_view_module_version": "1.0.0",
            "layout": "IPY_MODEL_1e4a01e38bfc46e9800c818d4b3c1edf",
            "_model_module": "@jupyter-widgets/output"
          }
        },
        "1e4a01e38bfc46e9800c818d4b3c1edf": {
          "model_module": "@jupyter-widgets/base",
          "model_name": "LayoutModel",
          "state": {
            "_view_name": "LayoutView",
            "grid_template_rows": null,
            "right": null,
            "justify_content": null,
            "_view_module": "@jupyter-widgets/base",
            "overflow": null,
            "_model_module_version": "1.2.0",
            "_view_count": null,
            "flex_flow": null,
            "width": null,
            "min_width": null,
            "border": null,
            "align_items": null,
            "bottom": null,
            "_model_module": "@jupyter-widgets/base",
            "top": null,
            "grid_column": null,
            "overflow_y": null,
            "overflow_x": null,
            "grid_auto_flow": null,
            "grid_area": null,
            "grid_template_columns": null,
            "flex": null,
            "_model_name": "LayoutModel",
            "justify_items": null,
            "grid_row": null,
            "max_height": null,
            "align_content": null,
            "visibility": null,
            "align_self": null,
            "height": null,
            "min_height": null,
            "padding": null,
            "grid_auto_rows": null,
            "grid_gap": null,
            "max_width": null,
            "order": null,
            "_view_module_version": "1.2.0",
            "grid_template_areas": null,
            "object_position": null,
            "object_fit": null,
            "grid_auto_columns": null,
            "margin": null,
            "display": null,
            "left": null
          }
        },
        "b2330eeddb0940d89b2b58e116d9cce2": {
          "model_module": "@jupyter-widgets/output",
          "model_name": "OutputModel",
          "state": {
            "_view_name": "OutputView",
            "msg_id": "",
            "_dom_classes": [],
            "_model_name": "OutputModel",
            "outputs": [
              {
                "output_type": "display_data",
                "metadata": {
                  "tags": []
                },
                "text/html": "<pre style=\"white-space:pre;overflow-x:auto;line-height:normal;font-family:Menlo,'DejaVu Sans Mono',consolas,'Courier New',monospace\"></pre>\n",
                "text/plain": "<rich.jupyter.JupyterRenderable at 0x7f2f81585c50>"
              }
            ],
            "_view_module": "@jupyter-widgets/output",
            "_model_module_version": "1.0.0",
            "_view_count": null,
            "_view_module_version": "1.0.0",
            "layout": "IPY_MODEL_67c97308301a49d89e43464f888a5b22",
            "_model_module": "@jupyter-widgets/output"
          }
        },
        "67c97308301a49d89e43464f888a5b22": {
          "model_module": "@jupyter-widgets/base",
          "model_name": "LayoutModel",
          "state": {
            "_view_name": "LayoutView",
            "grid_template_rows": null,
            "right": null,
            "justify_content": null,
            "_view_module": "@jupyter-widgets/base",
            "overflow": null,
            "_model_module_version": "1.2.0",
            "_view_count": null,
            "flex_flow": null,
            "width": null,
            "min_width": null,
            "border": null,
            "align_items": null,
            "bottom": null,
            "_model_module": "@jupyter-widgets/base",
            "top": null,
            "grid_column": null,
            "overflow_y": null,
            "overflow_x": null,
            "grid_auto_flow": null,
            "grid_area": null,
            "grid_template_columns": null,
            "flex": null,
            "_model_name": "LayoutModel",
            "justify_items": null,
            "grid_row": null,
            "max_height": null,
            "align_content": null,
            "visibility": null,
            "align_self": null,
            "height": null,
            "min_height": null,
            "padding": null,
            "grid_auto_rows": null,
            "grid_gap": null,
            "max_width": null,
            "order": null,
            "_view_module_version": "1.2.0",
            "grid_template_areas": null,
            "object_position": null,
            "object_fit": null,
            "grid_auto_columns": null,
            "margin": null,
            "display": null,
            "left": null
          }
        },
        "955f2dfb6ba04cc294af53f85ad4a0b9": {
          "model_module": "@jupyter-widgets/output",
          "model_name": "OutputModel",
          "state": {
            "_view_name": "OutputView",
            "msg_id": "",
            "_dom_classes": [],
            "_model_name": "OutputModel",
            "outputs": [
              {
                "output_type": "display_data",
                "metadata": {
                  "tags": []
                },
                "text/html": "<pre style=\"white-space:pre;overflow-x:auto;line-height:normal;font-family:Menlo,'DejaVu Sans Mono',consolas,'Courier New',monospace\"></pre>\n",
                "text/plain": "<rich.jupyter.JupyterRenderable at 0x7f2f8677a510>"
              }
            ],
            "_view_module": "@jupyter-widgets/output",
            "_model_module_version": "1.0.0",
            "_view_count": null,
            "_view_module_version": "1.0.0",
            "layout": "IPY_MODEL_aa4c52b09dec4641acc8edab8437f6a3",
            "_model_module": "@jupyter-widgets/output"
          }
        },
        "aa4c52b09dec4641acc8edab8437f6a3": {
          "model_module": "@jupyter-widgets/base",
          "model_name": "LayoutModel",
          "state": {
            "_view_name": "LayoutView",
            "grid_template_rows": null,
            "right": null,
            "justify_content": null,
            "_view_module": "@jupyter-widgets/base",
            "overflow": null,
            "_model_module_version": "1.2.0",
            "_view_count": null,
            "flex_flow": null,
            "width": null,
            "min_width": null,
            "border": null,
            "align_items": null,
            "bottom": null,
            "_model_module": "@jupyter-widgets/base",
            "top": null,
            "grid_column": null,
            "overflow_y": null,
            "overflow_x": null,
            "grid_auto_flow": null,
            "grid_area": null,
            "grid_template_columns": null,
            "flex": null,
            "_model_name": "LayoutModel",
            "justify_items": null,
            "grid_row": null,
            "max_height": null,
            "align_content": null,
            "visibility": null,
            "align_self": null,
            "height": null,
            "min_height": null,
            "padding": null,
            "grid_auto_rows": null,
            "grid_gap": null,
            "max_width": null,
            "order": null,
            "_view_module_version": "1.2.0",
            "grid_template_areas": null,
            "object_position": null,
            "object_fit": null,
            "grid_auto_columns": null,
            "margin": null,
            "display": null,
            "left": null
          }
        },
        "2fb0933511c24b419f5f4a17528a6122": {
          "model_module": "@jupyter-widgets/output",
          "model_name": "OutputModel",
          "state": {
            "_view_name": "OutputView",
            "msg_id": "",
            "_dom_classes": [],
            "_model_name": "OutputModel",
            "outputs": [
              {
                "output_type": "display_data",
                "metadata": {
                  "tags": []
                },
                "text/html": "<pre style=\"white-space:pre;overflow-x:auto;line-height:normal;font-family:Menlo,'DejaVu Sans Mono',consolas,'Courier New',monospace\"></pre>\n",
                "text/plain": "<rich.jupyter.JupyterRenderable at 0x7f2f7f7df0d0>"
              }
            ],
            "_view_module": "@jupyter-widgets/output",
            "_model_module_version": "1.0.0",
            "_view_count": null,
            "_view_module_version": "1.0.0",
            "layout": "IPY_MODEL_87e2d45deb8d4aa2b47d084f8b09769a",
            "_model_module": "@jupyter-widgets/output"
          }
        },
        "87e2d45deb8d4aa2b47d084f8b09769a": {
          "model_module": "@jupyter-widgets/base",
          "model_name": "LayoutModel",
          "state": {
            "_view_name": "LayoutView",
            "grid_template_rows": null,
            "right": null,
            "justify_content": null,
            "_view_module": "@jupyter-widgets/base",
            "overflow": null,
            "_model_module_version": "1.2.0",
            "_view_count": null,
            "flex_flow": null,
            "width": null,
            "min_width": null,
            "border": null,
            "align_items": null,
            "bottom": null,
            "_model_module": "@jupyter-widgets/base",
            "top": null,
            "grid_column": null,
            "overflow_y": null,
            "overflow_x": null,
            "grid_auto_flow": null,
            "grid_area": null,
            "grid_template_columns": null,
            "flex": null,
            "_model_name": "LayoutModel",
            "justify_items": null,
            "grid_row": null,
            "max_height": null,
            "align_content": null,
            "visibility": null,
            "align_self": null,
            "height": null,
            "min_height": null,
            "padding": null,
            "grid_auto_rows": null,
            "grid_gap": null,
            "max_width": null,
            "order": null,
            "_view_module_version": "1.2.0",
            "grid_template_areas": null,
            "object_position": null,
            "object_fit": null,
            "grid_auto_columns": null,
            "margin": null,
            "display": null,
            "left": null
          }
        },
        "1bef19378e1b42aa99d1df9212eeb34e": {
          "model_module": "@jupyter-widgets/output",
          "model_name": "OutputModel",
          "state": {
            "_view_name": "OutputView",
            "msg_id": "",
            "_dom_classes": [],
            "_model_name": "OutputModel",
            "outputs": [
              {
                "output_type": "display_data",
                "metadata": {
                  "tags": []
                },
                "text/html": "<pre style=\"white-space:pre;overflow-x:auto;line-height:normal;font-family:Menlo,'DejaVu Sans Mono',consolas,'Courier New',monospace\"></pre>\n",
                "text/plain": "<rich.jupyter.JupyterRenderable at 0x7f2f7f503250>"
              }
            ],
            "_view_module": "@jupyter-widgets/output",
            "_model_module_version": "1.0.0",
            "_view_count": null,
            "_view_module_version": "1.0.0",
            "layout": "IPY_MODEL_cee6e1bf5b0f443ca687729b26a68e1c",
            "_model_module": "@jupyter-widgets/output"
          }
        },
        "cee6e1bf5b0f443ca687729b26a68e1c": {
          "model_module": "@jupyter-widgets/base",
          "model_name": "LayoutModel",
          "state": {
            "_view_name": "LayoutView",
            "grid_template_rows": null,
            "right": null,
            "justify_content": null,
            "_view_module": "@jupyter-widgets/base",
            "overflow": null,
            "_model_module_version": "1.2.0",
            "_view_count": null,
            "flex_flow": null,
            "width": null,
            "min_width": null,
            "border": null,
            "align_items": null,
            "bottom": null,
            "_model_module": "@jupyter-widgets/base",
            "top": null,
            "grid_column": null,
            "overflow_y": null,
            "overflow_x": null,
            "grid_auto_flow": null,
            "grid_area": null,
            "grid_template_columns": null,
            "flex": null,
            "_model_name": "LayoutModel",
            "justify_items": null,
            "grid_row": null,
            "max_height": null,
            "align_content": null,
            "visibility": null,
            "align_self": null,
            "height": null,
            "min_height": null,
            "padding": null,
            "grid_auto_rows": null,
            "grid_gap": null,
            "max_width": null,
            "order": null,
            "_view_module_version": "1.2.0",
            "grid_template_areas": null,
            "object_position": null,
            "object_fit": null,
            "grid_auto_columns": null,
            "margin": null,
            "display": null,
            "left": null
          }
        }
      }
    }
  },
  "cells": [
    {
      "cell_type": "markdown",
      "metadata": {
        "id": "FdG9H6Sj1LXC"
      },
      "source": [
        "### In this lab we will cover the following \n",
        "### concepts: \n",
        "Random Walks \\\\\n",
        "Drift Diffusion Models \\\\\n",
        "\n",
        "​\n",
        "### tools: \n",
        "DDM in Psyneulink \\\\\n",
        "​"
      ]
    },
    {
      "cell_type": "markdown",
      "metadata": {
        "id": "xQ1D7UzedI8p"
      },
      "source": [
        "# 7: Decisions & Drift Diffusion Models\n",
        "\n",
        "There is an old saying that a donkey placed equidistant between two piles of hay will starve to death from [indecision](https://en.wikipedia.org/wiki/Buridan%27s_ass).  You could make a computational model of this behavior using a tree stump.  If only the donkey's decision making process involved some noise it would have survived!  Real decisions are often difficult to make, but unfold dynamically and are much more interesting to model than a scenario of being perpetually stumped.    \n",
        "\n",
        "How many decisions do you make each day?  Depending on the day and how you decide what counts as a decision it could range from hundreds to thousands.  How many decisions does a squirrel make each day?  Perhaps more than you -- squirrels are in near constant motion -- foraging, avoiding being eaten by birds of prey, and generally consumed by the four Fs of survival (Food, Fight, Flight, sex).  Animals, including people, make decisions throughout waking life, weighing evidence relevant on multiple dimensions and timescales.  Although humans can use reason and are capable of considering vastly many more dimensions and longer timescales, it makes sense to start by modeling simple decisions.  And many of our simple decisions might be made using the same neural mechanisms that evolved in our near and distant ancestors.  You could investigate common origins of decision making using genetics, comparative neuroanatomy, and behavioral experiments.  Unifying the investigation requires a computational model that formalized the decision making parameters and processes, and for a variety of reasons selecting a drift diffusion model is an excellent decision.                            \n",
        "\n",
        "### Why are drift diffusion models so useful?     \n",
        "\n",
        "Decisions typically involve two or more options, one of which is correct or better than the others.  Decision making performance can be quantified in terms of accuracy (how often the correct or best option chosen) as well as speed (how long it takes to decide).  Accuracy and speed are typically at odds -- deciding faster means making more errors (a \"speed/accuracy tradeoff\" explored in this lab).  We can evaluate decision making in terms of speed, accuracy, and reward.\n",
        "\n",
        "Drift diffusion models use mathematics originally developed in physics.  You start with a particle of gas in a confined space that jitters from Brownian motion (noise), then add a direction of motion to the air surrounding the particle (drift rate), and explore the time course of how the particle moves and when it is statistically likely to move a particular distance (cross a threshold).  The same parameters can be mapped onto key elements of decision making, replacing the particle with an undecided state, e.g. equidistant between two decision options (thresholds), the motion of air instead becomes the accumulation of evidence moving toward either of the options, and crossing a threshold is making a decision.  These simple parameters allow us to explore decision making speed and accuracy in considerable detail.  For example, we can define the optimal balance between speed and accuracy to maximize reward.  With optimality operationalized it is then possible to evaluate behavioral performance in terms of distance from optimal (the closer to optimal the better, of course).       \n",
        "\n",
        "The required readings for this week are especially informative and relevant. Here's the link to Bogacz et al.: https://sites.engineering.ucsb.edu/~moehlis/moehlis_papers/psych.pdf\n",
        "\n",
        "As Bogacz et al. (2006) explain, \n",
        "\n",
        "\"It has been known since Hernstein’s (1961, 1997) work that animals do not achieve optimality under all conditions, and in behavioral economics, humans often fail to choose optimally (e.g., Kahneman & Tversky, 1984; Loewenstein & Thaler, 1989). For example, in selecting among two items of comparable value and a cash payment worth less than either, participants often opt for cash, possibly to avoid a harder decision between two more valuable but similar items (Shafir & Tversky, 1995). **Such findings raise important questions: Is human decision making always suboptimal?** If it is not, under what conditions is it optimal? When it is suboptimal, does this reflect inherent deficiencies in decision-making mechanisms or other sources of systematic bias? Answers to such questions may provide insights into underlying neural mechanisms. However, to consider them, one must first describe optimal performance, against which actual behavior can be compared.\"\n"
      ]
    },
    {
      "cell_type": "markdown",
      "metadata": {
        "id": "NOUpHcvNpGXS"
      },
      "source": [
        "---\n",
        "\n",
        "### <a id='e1'>Exercise 1: Human Performance</a> \n",
        "\n",
        "Write down one example of when humans consistently behave subpotimally and one example of when they behave optimally.\n",
        "\n",
        "---\n",
        "\n",
        "** Answer Here **"
      ]
    },
    {
      "cell_type": "markdown",
      "metadata": {
        "id": "gu5a-DhidI8q"
      },
      "source": [
        "### The Two Alternative Forced Choice (2AFC / TAFC) Task\n",
        "\n",
        "The simplest form of decision making involves only two options (A OR B, deliberately excluding options of neither or both).  We refer to this scenario as the Two Alternative Forced Choice (2AFC / TAFC) Task.  Some survival-relevant examples of 2AFC are explore vs. exploit, and fight vs. flight.  A common lab 2AFC task involves lots of dots moving on a screen.  Some are moving leftward and some are moving rightward.  The participant's task on each trial is to determine which direction has more motion, LEFT or RIGHT.  The experimenter can manipulate the amount of evidence available: 51% left / 49% right is difficult, while 99% left / 1% right is very easy.  It is a good experiment for fine tuning task difficulty and measuring performance.  Experimenters can also vary the reward rate for correct trials (and/or penalty rate for incorrect trials) and the time delay between trials.  All of these experimental parameters can be accounted for in a drift diffusion model.      \n",
        "\n",
        "Drift diffusion models allow you to simulate behavioral performance on a 2AFC task -- adjusting the parameters can produce data that are more-or-less indistinguishable from human performance on a variety of 2AFC tasks.  Below is a simple diagram of how the DDM works. A human has to respond to a stimulus by making one decision (such as \"left\") or another decision (such as \"right\"). In this example, the human sees the stimulus, and then takes some time to process that visual information.  Basic visual processing at the start of a trial and motor response processing at the end of a trial (as opposed to decision-relevant processing) is grouped together and called \"non-decision time\" (all depicted at the start of the trial in the diagram below). Once the stimulus is perceived, the agent accumulates evidence about the stimulus until it is sufficiently confident to choose decision 1 or decision 2.  This is a noisy process that unfolds over time (think about the 51% leftward / 49% rightward motion example above), so there is some variability in how long it takes the agent to accumulate sufficient evidence to make decisions.\n",
        "\n",
        "\n",
        "\n",
        "### To err on the side of caution or respond quickly?\n",
        "\n",
        "How do you know how quickly to respond? Bogacz et al. (2006) state,\n",
        "\n",
        "\"The DDM is optimal in the sense that it is the fastest decision maker for a given level of accuracy. This assumes a fixed decision threshold, yet the model does not specify what this should be. Absent noise, thresholds have no effect on accuracy. However, with noisy data, accuracy increases as thresholds and decision times (DTs) rise because there is more time to average out uncorrelated noise. This produces a speed–accuracy trade-off: Lower thresholds produce faster but less accurate responding, whereas higher thresholds produce more accurate but slower responses. This speed–accuracy trade-off is critical for interpreting the results of most psychological experiments (Pachella, 1974; Wickelgren, 1977). For example, a manipulation intended to influence task difficulty, and thereby accuracy, could instead simply induce a change in response threshold, thereby changing RTs.\"\n",
        "\n"
      ]
    },
    {
      "cell_type": "markdown",
      "metadata": {
        "id": "Rtr2RcS3p-cT"
      },
      "source": [
        "---\n",
        "### <a id='e2'>Exercise 2: Terminology</a> \n",
        "\n",
        "In your own words, define the following terms:\n",
        "1. Decision threshold\n",
        "2. The speed/accuracy tradeoff\n",
        "\n",
        "---\n",
        "\n",
        "** Answer Here **"
      ]
    },
    {
      "cell_type": "markdown",
      "metadata": {
        "id": "huCElz37dI8s"
      },
      "source": [
        "As Bogacz et al. (2006) explain, \n",
        "    \n",
        "\"..the TAFC and DDM have played important roles in human history: \"In applying the DDM to the TAFC, we assume that the difference in the (noisy) information favoring each alternative is integrated over each trial and that a decision is reached when the resulting accumulated value crosses a critical threshold. Discrete analogues of the DDM were first applied to decision making in World War II, via the sequential probability ratio test (SPRT), the theory being developed independently by Barnard (1946) and Wald (1947; cf. Lehmann, 1959). (For histories, see DeGroot, 1988; Good, 1979; Wallis, 1980.) It was subsequently shown that the DDM and its discrete analogue, a directed random walk, describe accuracy and reaction times (RTs) in humans performing TAFC tasks (Laming, 1968; Ratcliff, 1978; Stone, 1960). In particular, DDM first passages account for a robust feature of human performance: RT distributions are heavily skewed toward longer times.\"\n",
        "\n",
        "### Random Walk\n",
        "A random walk starts at some point and at each time step moves some amount chosen at random -- usually the randomness is drawn from a bounded distribution centered around 0.  This process is cumulative, and it is possible to move far away from the starting point but if the random distribution is centered around 0 then moving far away typically takes many steps.  The following cell creates a random walk for you to explore.  Run the cell 5 times to see the different trajectories that get generated.  What is the furthest from 0 that any one of your random walks went?  What happens if you change the prob = [0.5, 0.5] to a different ratio, e.g. [0.1, 0.9]? \n",
        "\n",
        "\n",
        "### Random Walk in the context of DDM\n",
        "Within a DDM the noise parameter is a random walk -- and a higher value of noise means taking bigger steps.  When we add a drift rate that adds a non-random motion component, so the drift rate moves the walk in a particular direction.  You can think of drift rate as accumulating signal, with noise added on top as a random component.   "
      ]
    },
    {
      "cell_type": "code",
      "metadata": {
        "id": "BVvp7JhyP1Sd",
        "colab": {
          "base_uri": "https://localhost:8080/"
        },
        "outputId": "f7bf866a-c749-4eaa-b543-2233b9306ccb"
      },
      "source": [
        "!pip install psyneulink\n"
      ],
      "execution_count": 1,
      "outputs": [
        {
          "output_type": "stream",
          "text": [
            "Collecting psyneulink\n",
            "\u001b[?25l  Downloading https://files.pythonhosted.org/packages/ba/6d/2ffdb8062f4a0e1b87c4ce6fae7343197414d3cbd758a50af962e84f7cdf/psyneulink-0.8.7.1-py3-none-any.whl (1.3MB)\n",
            "\u001b[K     |████████████████████████████████| 1.3MB 8.7MB/s \n",
            "\u001b[?25hRequirement already satisfied: llvmlite<0.37 in /usr/local/lib/python3.7/dist-packages (from psyneulink) (0.34.0)\n",
            "Requirement already satisfied: networkx<2.6 in /usr/local/lib/python3.7/dist-packages (from psyneulink) (2.5)\n",
            "Requirement already satisfied: matplotlib<3.3.4 in /usr/local/lib/python3.7/dist-packages (from psyneulink) (3.2.2)\n",
            "Collecting torch<1.8.0; sys_platform != \"win32\" and platform_machine == \"x86_64\" and platform_python_implementation == \"CPython\"\n",
            "\u001b[?25l  Downloading https://files.pythonhosted.org/packages/90/5d/095ddddc91c8a769a68c791c019c5793f9c4456a688ddd235d6670924ecb/torch-1.7.1-cp37-cp37m-manylinux1_x86_64.whl (776.8MB)\n",
            "\u001b[K     |████████████████████████████████| 776.8MB 23kB/s \n",
            "\u001b[?25hRequirement already satisfied: dill<=0.32 in /usr/local/lib/python3.7/dist-packages (from psyneulink) (0.3.3)\n",
            "Collecting grpcio-tools<1.35.0\n",
            "\u001b[?25l  Downloading https://files.pythonhosted.org/packages/ef/b8/086bc32788e7127f6655c1ec3bd000902e4c9225b587b19b09c4d8ced384/grpcio_tools-1.34.1-cp37-cp37m-manylinux2014_x86_64.whl (2.5MB)\n",
            "\u001b[K     |████████████████████████████████| 2.5MB 41.1MB/s \n",
            "\u001b[?25hRequirement already satisfied: pillow<8.1.0 in /usr/local/lib/python3.7/dist-packages (from psyneulink) (7.1.2)\n",
            "Collecting typecheck-decorator<=1.2\n",
            "  Downloading https://files.pythonhosted.org/packages/e0/4d/c925353ad7a3b69ad9957748bdc709aa535df0a303f2d0318e02ad8f39d2/typecheck-decorator-1.2.zip\n",
            "Requirement already satisfied: numpy<1.20.2 in /usr/local/lib/python3.7/dist-packages (from psyneulink) (1.19.5)\n",
            "Requirement already satisfied: autograd<=1.3 in /usr/local/lib/python3.7/dist-packages (from psyneulink) (1.3)\n",
            "Collecting rich<9.13,>=9.11\n",
            "\u001b[?25l  Downloading https://files.pythonhosted.org/packages/22/a2/ed4114c01585e9e3678b7ba75357f562ac132e35ba7b9b79bb68e91d6dc8/rich-9.12.4-py3-none-any.whl (197kB)\n",
            "\u001b[K     |████████████████████████████████| 204kB 53.2MB/s \n",
            "\u001b[?25hRequirement already satisfied: graphviz<0.17.0 in /usr/local/lib/python3.7/dist-packages (from psyneulink) (0.10.1)\n",
            "Collecting elfi<0.7.8\n",
            "\u001b[?25l  Downloading https://files.pythonhosted.org/packages/0a/7e/c8c5080b7822580ab2466b4f98def58c392d2cb6c11975377008a852726a/elfi-0.7.7-py3-none-any.whl (122kB)\n",
            "\u001b[K     |████████████████████████████████| 122kB 54.0MB/s \n",
            "\u001b[?25hCollecting leabra-psyneulink<=0.3.2\n",
            "  Downloading https://files.pythonhosted.org/packages/3f/62/6cedb15e61fc4a77fb23a37126666258ab9ca33653e4d8360f65cf0fb641/leabra_psyneulink-0.3.2-py3-none-any.whl\n",
            "Collecting toposort<1.7\n",
            "  Downloading https://files.pythonhosted.org/packages/f2/7d/55784e894ee0cde2474fb977ffd1651e74e840a9f92e1d847f7e3115d5ec/toposort-1.6-py2.py3-none-any.whl\n",
            "Requirement already satisfied: grpcio<1.35.0 in /usr/local/lib/python3.7/dist-packages (from psyneulink) (1.32.0)\n",
            "Requirement already satisfied: decorator>=4.3.0 in /usr/local/lib/python3.7/dist-packages (from networkx<2.6->psyneulink) (4.4.2)\n",
            "Requirement already satisfied: cycler>=0.10 in /usr/local/lib/python3.7/dist-packages (from matplotlib<3.3.4->psyneulink) (0.10.0)\n",
            "Requirement already satisfied: pyparsing!=2.0.4,!=2.1.2,!=2.1.6,>=2.0.1 in /usr/local/lib/python3.7/dist-packages (from matplotlib<3.3.4->psyneulink) (2.4.7)\n",
            "Requirement already satisfied: python-dateutil>=2.1 in /usr/local/lib/python3.7/dist-packages (from matplotlib<3.3.4->psyneulink) (2.8.1)\n",
            "Requirement already satisfied: kiwisolver>=1.0.1 in /usr/local/lib/python3.7/dist-packages (from matplotlib<3.3.4->psyneulink) (1.3.1)\n",
            "Requirement already satisfied: typing-extensions in /usr/local/lib/python3.7/dist-packages (from torch<1.8.0; sys_platform != \"win32\" and platform_machine == \"x86_64\" and platform_python_implementation == \"CPython\"->psyneulink) (3.7.4.3)\n",
            "Requirement already satisfied: protobuf<4.0dev,>=3.5.0.post1 in /usr/local/lib/python3.7/dist-packages (from grpcio-tools<1.35.0->psyneulink) (3.12.4)\n",
            "Requirement already satisfied: setuptools in /usr/local/lib/python3.7/dist-packages (from grpcio-tools<1.35.0->psyneulink) (54.2.0)\n",
            "Requirement already satisfied: future>=0.15.2 in /usr/local/lib/python3.7/dist-packages (from autograd<=1.3->psyneulink) (0.16.0)\n",
            "Collecting commonmark<0.10.0,>=0.9.0\n",
            "\u001b[?25l  Downloading https://files.pythonhosted.org/packages/b1/92/dfd892312d822f36c55366118b95d914e5f16de11044a27cf10a7d71bbbf/commonmark-0.9.1-py2.py3-none-any.whl (51kB)\n",
            "\u001b[K     |████████████████████████████████| 51kB 6.5MB/s \n",
            "\u001b[?25hRequirement already satisfied: pygments<3.0.0,>=2.6.0 in /usr/local/lib/python3.7/dist-packages (from rich<9.13,>=9.11->psyneulink) (2.6.1)\n",
            "Collecting colorama<0.5.0,>=0.4.0\n",
            "  Downloading https://files.pythonhosted.org/packages/44/98/5b86278fbbf250d239ae0ecb724f8572af1c91f4a11edf4d36a206189440/colorama-0.4.4-py2.py3-none-any.whl\n",
            "Requirement already satisfied: scikit-learn>=0.18.1 in /usr/local/lib/python3.7/dist-packages (from elfi<0.7.8->psyneulink) (0.22.2.post1)\n",
            "Collecting GPy>=1.0.9\n",
            "\u001b[?25l  Downloading https://files.pythonhosted.org/packages/67/95/976598f98adbfa918a480cb2d643f93fb555ca5b6c5614f76b69678114c1/GPy-1.9.9.tar.gz (995kB)\n",
            "\u001b[K     |████████████████████████████████| 1.0MB 43.1MB/s \n",
            "\u001b[?25hRequirement already satisfied: toolz>=0.8 in /usr/local/lib/python3.7/dist-packages (from elfi<0.7.8->psyneulink) (0.11.1)\n",
            "Collecting ipyparallel>=6\n",
            "\u001b[?25l  Downloading https://files.pythonhosted.org/packages/3b/e9/03a9189eb39276396309faf28bf833b4328befe4513bbf375b811a36a076/ipyparallel-6.3.0-py3-none-any.whl (199kB)\n",
            "\u001b[K     |████████████████████████████████| 204kB 44.2MB/s \n",
            "\u001b[?25hRequirement already satisfied: scipy>=0.19 in /usr/local/lib/python3.7/dist-packages (from elfi<0.7.8->psyneulink) (1.4.1)\n",
            "Requirement already satisfied: dask[distributed]<3.0.0,>=1.0.0 in /usr/local/lib/python3.7/dist-packages (from elfi<0.7.8->psyneulink) (2.12.0)\n",
            "Requirement already satisfied: ipywidgets>=7.0 in /usr/local/lib/python3.7/dist-packages (from leabra-psyneulink<=0.3.2->psyneulink) (7.6.3)\n",
            "Requirement already satisfied: bokeh>=0.12.6 in /usr/local/lib/python3.7/dist-packages (from leabra-psyneulink<=0.3.2->psyneulink) (2.3.0)\n",
            "Requirement already satisfied: jupyter in /usr/local/lib/python3.7/dist-packages (from leabra-psyneulink<=0.3.2->psyneulink) (1.0.0)\n",
            "Requirement already satisfied: six>=1.5.2 in /usr/local/lib/python3.7/dist-packages (from grpcio<1.35.0->psyneulink) (1.15.0)\n",
            "Requirement already satisfied: joblib>=0.11 in /usr/local/lib/python3.7/dist-packages (from scikit-learn>=0.18.1->elfi<0.7.8->psyneulink) (1.0.1)\n",
            "Collecting paramz>=0.9.0\n",
            "\u001b[?25l  Downloading https://files.pythonhosted.org/packages/d8/37/4abbeb78d30f20d3402887f46e6e9f3ef32034a9dea65d243654c82c8553/paramz-0.9.5.tar.gz (71kB)\n",
            "\u001b[K     |████████████████████████████████| 71kB 7.7MB/s \n",
            "\u001b[?25hRequirement already satisfied: tornado>=4 in /usr/local/lib/python3.7/dist-packages (from ipyparallel>=6->elfi<0.7.8->psyneulink) (5.1.1)\n",
            "Requirement already satisfied: pyzmq>=13 in /usr/local/lib/python3.7/dist-packages (from ipyparallel>=6->elfi<0.7.8->psyneulink) (22.0.3)\n",
            "Requirement already satisfied: ipython>=4 in /usr/local/lib/python3.7/dist-packages (from ipyparallel>=6->elfi<0.7.8->psyneulink) (5.5.0)\n",
            "Requirement already satisfied: traitlets>=4.3 in /usr/local/lib/python3.7/dist-packages (from ipyparallel>=6->elfi<0.7.8->psyneulink) (5.0.5)\n",
            "Requirement already satisfied: ipykernel>=4.4 in /usr/local/lib/python3.7/dist-packages (from ipyparallel>=6->elfi<0.7.8->psyneulink) (4.10.1)\n",
            "Requirement already satisfied: ipython-genutils in /usr/local/lib/python3.7/dist-packages (from ipyparallel>=6->elfi<0.7.8->psyneulink) (0.2.0)\n",
            "Requirement already satisfied: jupyter-client in /usr/local/lib/python3.7/dist-packages (from ipyparallel>=6->elfi<0.7.8->psyneulink) (5.3.5)\n",
            "Collecting distributed>=2.0; extra == \"distributed\"\n",
            "\u001b[?25l  Downloading https://files.pythonhosted.org/packages/0c/b0/3454dc44239c526f9c9e4cf04f62823776b71f927db74302986d56e7a9a1/distributed-2021.4.0-py3-none-any.whl (684kB)\n",
            "\u001b[K     |████████████████████████████████| 686kB 38.0MB/s \n",
            "\u001b[?25hRequirement already satisfied: widgetsnbextension~=3.5.0 in /usr/local/lib/python3.7/dist-packages (from ipywidgets>=7.0->leabra-psyneulink<=0.3.2->psyneulink) (3.5.1)\n",
            "Requirement already satisfied: nbformat>=4.2.0 in /usr/local/lib/python3.7/dist-packages (from ipywidgets>=7.0->leabra-psyneulink<=0.3.2->psyneulink) (5.1.2)\n",
            "Requirement already satisfied: jupyterlab-widgets>=1.0.0; python_version >= \"3.6\" in /usr/local/lib/python3.7/dist-packages (from ipywidgets>=7.0->leabra-psyneulink<=0.3.2->psyneulink) (1.0.0)\n",
            "Requirement already satisfied: PyYAML>=3.10 in /usr/local/lib/python3.7/dist-packages (from bokeh>=0.12.6->leabra-psyneulink<=0.3.2->psyneulink) (3.13)\n",
            "Requirement already satisfied: Jinja2>=2.7 in /usr/local/lib/python3.7/dist-packages (from bokeh>=0.12.6->leabra-psyneulink<=0.3.2->psyneulink) (2.11.3)\n",
            "Requirement already satisfied: packaging>=16.8 in /usr/local/lib/python3.7/dist-packages (from bokeh>=0.12.6->leabra-psyneulink<=0.3.2->psyneulink) (20.9)\n",
            "Requirement already satisfied: qtconsole in /usr/local/lib/python3.7/dist-packages (from jupyter->leabra-psyneulink<=0.3.2->psyneulink) (5.0.3)\n",
            "Requirement already satisfied: notebook in /usr/local/lib/python3.7/dist-packages (from jupyter->leabra-psyneulink<=0.3.2->psyneulink) (5.3.1)\n",
            "Requirement already satisfied: jupyter-console in /usr/local/lib/python3.7/dist-packages (from jupyter->leabra-psyneulink<=0.3.2->psyneulink) (5.2.0)\n",
            "Requirement already satisfied: nbconvert in /usr/local/lib/python3.7/dist-packages (from jupyter->leabra-psyneulink<=0.3.2->psyneulink) (5.6.1)\n",
            "Requirement already satisfied: prompt-toolkit<2.0.0,>=1.0.4 in /usr/local/lib/python3.7/dist-packages (from ipython>=4->ipyparallel>=6->elfi<0.7.8->psyneulink) (1.0.18)\n",
            "Requirement already satisfied: simplegeneric>0.8 in /usr/local/lib/python3.7/dist-packages (from ipython>=4->ipyparallel>=6->elfi<0.7.8->psyneulink) (0.8.1)\n",
            "Requirement already satisfied: pexpect; sys_platform != \"win32\" in /usr/local/lib/python3.7/dist-packages (from ipython>=4->ipyparallel>=6->elfi<0.7.8->psyneulink) (4.8.0)\n",
            "Requirement already satisfied: pickleshare in /usr/local/lib/python3.7/dist-packages (from ipython>=4->ipyparallel>=6->elfi<0.7.8->psyneulink) (0.7.5)\n",
            "Requirement already satisfied: jupyter-core>=4.6.0 in /usr/local/lib/python3.7/dist-packages (from jupyter-client->ipyparallel>=6->elfi<0.7.8->psyneulink) (4.7.1)\n",
            "Requirement already satisfied: msgpack>=0.6.0 in /usr/local/lib/python3.7/dist-packages (from distributed>=2.0; extra == \"distributed\"->dask[distributed]<3.0.0,>=1.0.0->elfi<0.7.8->psyneulink) (1.0.2)\n",
            "Requirement already satisfied: tblib>=1.6.0 in /usr/local/lib/python3.7/dist-packages (from distributed>=2.0; extra == \"distributed\"->dask[distributed]<3.0.0,>=1.0.0->elfi<0.7.8->psyneulink) (1.7.0)\n",
            "Requirement already satisfied: click>=6.6 in /usr/local/lib/python3.7/dist-packages (from distributed>=2.0; extra == \"distributed\"->dask[distributed]<3.0.0,>=1.0.0->elfi<0.7.8->psyneulink) (7.1.2)\n",
            "Collecting cloudpickle>=1.5.0\n",
            "  Downloading https://files.pythonhosted.org/packages/e7/e3/898487e5dbeb612054cf2e0c188463acb358167fef749c53c8bb8918cea1/cloudpickle-1.6.0-py3-none-any.whl\n",
            "Requirement already satisfied: psutil>=5.0 in /usr/local/lib/python3.7/dist-packages (from distributed>=2.0; extra == \"distributed\"->dask[distributed]<3.0.0,>=1.0.0->elfi<0.7.8->psyneulink) (5.4.8)\n",
            "Requirement already satisfied: sortedcontainers!=2.0.0,!=2.0.1 in /usr/local/lib/python3.7/dist-packages (from distributed>=2.0; extra == \"distributed\"->dask[distributed]<3.0.0,>=1.0.0->elfi<0.7.8->psyneulink) (2.3.0)\n",
            "Requirement already satisfied: zict>=0.1.3 in /usr/local/lib/python3.7/dist-packages (from distributed>=2.0; extra == \"distributed\"->dask[distributed]<3.0.0,>=1.0.0->elfi<0.7.8->psyneulink) (2.0.0)\n",
            "Requirement already satisfied: jsonschema!=2.5.0,>=2.4 in /usr/local/lib/python3.7/dist-packages (from nbformat>=4.2.0->ipywidgets>=7.0->leabra-psyneulink<=0.3.2->psyneulink) (2.6.0)\n",
            "Requirement already satisfied: MarkupSafe>=0.23 in /usr/local/lib/python3.7/dist-packages (from Jinja2>=2.7->bokeh>=0.12.6->leabra-psyneulink<=0.3.2->psyneulink) (1.1.1)\n",
            "Requirement already satisfied: qtpy in /usr/local/lib/python3.7/dist-packages (from qtconsole->jupyter->leabra-psyneulink<=0.3.2->psyneulink) (1.9.0)\n",
            "Requirement already satisfied: terminado>=0.8.1 in /usr/local/lib/python3.7/dist-packages (from notebook->jupyter->leabra-psyneulink<=0.3.2->psyneulink) (0.9.3)\n",
            "Requirement already satisfied: Send2Trash in /usr/local/lib/python3.7/dist-packages (from notebook->jupyter->leabra-psyneulink<=0.3.2->psyneulink) (1.5.0)\n",
            "Requirement already satisfied: defusedxml in /usr/local/lib/python3.7/dist-packages (from nbconvert->jupyter->leabra-psyneulink<=0.3.2->psyneulink) (0.7.1)\n",
            "Requirement already satisfied: mistune<2,>=0.8.1 in /usr/local/lib/python3.7/dist-packages (from nbconvert->jupyter->leabra-psyneulink<=0.3.2->psyneulink) (0.8.4)\n",
            "Requirement already satisfied: testpath in /usr/local/lib/python3.7/dist-packages (from nbconvert->jupyter->leabra-psyneulink<=0.3.2->psyneulink) (0.4.4)\n",
            "Requirement already satisfied: bleach in /usr/local/lib/python3.7/dist-packages (from nbconvert->jupyter->leabra-psyneulink<=0.3.2->psyneulink) (3.3.0)\n",
            "Requirement already satisfied: pandocfilters>=1.4.1 in /usr/local/lib/python3.7/dist-packages (from nbconvert->jupyter->leabra-psyneulink<=0.3.2->psyneulink) (1.4.3)\n",
            "Requirement already satisfied: entrypoints>=0.2.2 in /usr/local/lib/python3.7/dist-packages (from nbconvert->jupyter->leabra-psyneulink<=0.3.2->psyneulink) (0.3)\n",
            "Requirement already satisfied: wcwidth in /usr/local/lib/python3.7/dist-packages (from prompt-toolkit<2.0.0,>=1.0.4->ipython>=4->ipyparallel>=6->elfi<0.7.8->psyneulink) (0.2.5)\n",
            "Requirement already satisfied: ptyprocess>=0.5 in /usr/local/lib/python3.7/dist-packages (from pexpect; sys_platform != \"win32\"->ipython>=4->ipyparallel>=6->elfi<0.7.8->psyneulink) (0.7.0)\n",
            "Requirement already satisfied: heapdict in /usr/local/lib/python3.7/dist-packages (from zict>=0.1.3->distributed>=2.0; extra == \"distributed\"->dask[distributed]<3.0.0,>=1.0.0->elfi<0.7.8->psyneulink) (1.0.1)\n",
            "Requirement already satisfied: webencodings in /usr/local/lib/python3.7/dist-packages (from bleach->nbconvert->jupyter->leabra-psyneulink<=0.3.2->psyneulink) (0.5.1)\n",
            "Building wheels for collected packages: typecheck-decorator, GPy, paramz\n",
            "  Building wheel for typecheck-decorator (setup.py) ... \u001b[?25l\u001b[?25hdone\n",
            "  Created wheel for typecheck-decorator: filename=typecheck_decorator-1.2-cp37-none-any.whl size=16879 sha256=cd3430fdc00f32639a7a989de2a6c09beb7b5dd6912c47eeb6e892381f1b84c9\n",
            "  Stored in directory: /root/.cache/pip/wheels/ef/12/5a/fd05ccc14a1471b48e92c86ef837164eeeb26d80acdf2084f3\n",
            "  Building wheel for GPy (setup.py) ... \u001b[?25l\u001b[?25hdone\n",
            "  Created wheel for GPy: filename=GPy-1.9.9-cp37-cp37m-linux_x86_64.whl size=2626992 sha256=84a873d04461cacc613e3a582f460c05e8a774958e612bee606df355a58183ac\n",
            "  Stored in directory: /root/.cache/pip/wheels/5d/36/66/2b58860c84c9f2b51615da66bfd6feeddbc4e04d887ff96dfa\n",
            "  Building wheel for paramz (setup.py) ... \u001b[?25l\u001b[?25hdone\n",
            "  Created wheel for paramz: filename=paramz-0.9.5-cp37-none-any.whl size=102552 sha256=1ae370038e0895ffb45d84e8cf45c760b08bc03686eec7a2da0303d4c6f1e207\n",
            "  Stored in directory: /root/.cache/pip/wheels/c8/4a/0e/6e0dc85541825f991c431619e25b870d4b812c911214690cf8\n",
            "Successfully built typecheck-decorator GPy paramz\n",
            "\u001b[31mERROR: torchvision 0.9.1+cu101 has requirement torch==1.8.1, but you'll have torch 1.7.1 which is incompatible.\u001b[0m\n",
            "\u001b[31mERROR: torchtext 0.9.1 has requirement torch==1.8.1, but you'll have torch 1.7.1 which is incompatible.\u001b[0m\n",
            "\u001b[31mERROR: distributed 2021.4.0 has requirement dask>=2021.03.0, but you'll have dask 2.12.0 which is incompatible.\u001b[0m\n",
            "\u001b[31mERROR: grpcio-tools 1.34.1 has requirement grpcio>=1.34.1, but you'll have grpcio 1.32.0 which is incompatible.\u001b[0m\n",
            "Installing collected packages: torch, grpcio-tools, typecheck-decorator, commonmark, colorama, rich, paramz, GPy, ipyparallel, elfi, leabra-psyneulink, toposort, psyneulink, cloudpickle, distributed\n",
            "  Found existing installation: torch 1.8.1+cu101\n",
            "    Uninstalling torch-1.8.1+cu101:\n",
            "      Successfully uninstalled torch-1.8.1+cu101\n",
            "  Found existing installation: cloudpickle 1.3.0\n",
            "    Uninstalling cloudpickle-1.3.0:\n",
            "      Successfully uninstalled cloudpickle-1.3.0\n",
            "  Found existing installation: distributed 1.25.3\n",
            "    Uninstalling distributed-1.25.3:\n",
            "      Successfully uninstalled distributed-1.25.3\n",
            "Successfully installed GPy-1.9.9 cloudpickle-1.6.0 colorama-0.4.4 commonmark-0.9.1 distributed-2021.4.0 elfi-0.7.7 grpcio-tools-1.34.1 ipyparallel-6.3.0 leabra-psyneulink-0.3.2 paramz-0.9.5 psyneulink-0.8.7.1 rich-9.12.4 toposort-1.6 torch-1.7.1 typecheck-decorator-1.2\n"
          ],
          "name": "stdout"
        }
      ]
    },
    {
      "cell_type": "code",
      "metadata": {
        "id": "q-EbA53a1oSb",
        "colab": {
          "base_uri": "https://localhost:8080/",
          "height": 123
        },
        "outputId": "2e728597-e6a4-42b6-b7ec-d24bc3b2cf11"
      },
      "source": [
        "import matplotlib.pyplot as plt\n",
        "import psyneulink as pnl\n",
        "import numpy as np\n",
        "import pandas as pd\n",
        "import random as random\n",
        "from matplotlib import pyplot\n",
        "\n",
        "# This couple of lines sets our color palette\n",
        "import seaborn as sb\n",
        "sb.palplot(sb.color_palette(\"RdBu_r\", 7))\n",
        "sb.set_palette(\"RdBu_r\",7)\n",
        "sb.set_style(\"whitegrid\")\n",
        "\n",
        "print(\"Imports Successful\")\n",
        "print(\"This will be our color palette\")"
      ],
      "execution_count": 2,
      "outputs": [
        {
          "output_type": "stream",
          "text": [
            "Imports Successful\n",
            "This will be our color palette\n"
          ],
          "name": "stdout"
        },
        {
          "output_type": "display_data",
          "data": {
            "image/png": "[encoded data removed]",
            "text/plain": [
              "<Figure size 504x72 with 1 Axes>"
            ]
          },
          "metadata": {
            "tags": [],
            "needs_background": "light"
          }
        }
      ]
    },
    {
      "cell_type": "code",
      "metadata": {
        "id": "ZGkKV-adPfJJ",
        "colab": {
          "base_uri": "https://localhost:8080/",
          "height": 295
        },
        "outputId": "eeb33dc2-dd42-4645-a562-a1e172a8bff8"
      },
      "source": [
        "# Equal probability to move up or down\n",
        "prob = [0.5, 0.5]  \n",
        " \n",
        "# statically defining the starting position\n",
        "start = 0\n",
        "positions = [start]\n",
        "\n",
        " \n",
        "# creating the random points\n",
        "rr = np.random.random(100)\n",
        "downp = rr < prob[0]\n",
        "upp = rr > prob[1]\n",
        " \n",
        "# bounds the walk at +/-100 (not relevant w/ 100 steps, but could set other bounds to explore more) \n",
        "for idownp, iupp in zip(downp, upp):\n",
        "    down = idownp and positions[-1] > -100\n",
        "    up = iupp and positions[-1] < 100\n",
        "    positions.append(positions[-1] - down + up)\n",
        " \n",
        "\n",
        "# plotting down the graph of the random walk in 1D\n",
        "plt.plot(positions)\n",
        "plt.xlabel('time')\n",
        "plt.ylabel('position')\n",
        "plt.title('random walk starting at 0 and going for 100 timesteps')\n",
        "plt.show()\n"
      ],
      "execution_count": 3,
      "outputs": [
        {
          "output_type": "display_data",
          "data": {
            "image/png": "[encoded data removed]",
            "text/plain": [
              "<Figure size 432x288 with 1 Axes>"
            ]
          },
          "metadata": {
            "tags": []
          }
        }
      ]
    },
    {
      "cell_type": "markdown",
      "metadata": {
        "id": "h8P7XGCtdI8x"
      },
      "source": [
        "## Let's build a drift diffusion integrator.\n",
        "\n",
        "PsyNeuLink allows you to build drift diffusion models (DDMs) using pnl.DriftDiffusionIntegrator.\n",
        "\n"
      ]
    },
    {
      "cell_type": "markdown",
      "metadata": {
        "id": "DiHtTtQydI8z"
      },
      "source": [
        "## Input to pnl.DriftDiffusionIntegrator\n",
        "\n",
        "The input to a DDM reflects the stimulus, which can be neutral or provide evidence in favor of a decision -- evidence that accumulates over successive time steps.  \n",
        "\n",
        "Imagine an experiment in which subjects have to respond with one of two buttons. They click the \"R\" button if they see more red dots, they click the \"G\" button if they see more green dots. \n",
        "\n",
        "Your integrator will get evidence from the visual system about whether the dots on the screen are red or green. Since DDMs model two choice decisions, we can model red evidence as evidence towards the \"R\" boundary. Let's assume the R boundary is above the starting point (aka positive bound) and the G boundary is below the starting point (aka negative bound).\n",
        "\n",
        "When we set up the model this way, the valence of the stimulus determines which direction the integrator drifts in; negative evidence drifts towards the G boundary, positive evidence drifts towards the R boundary. \n",
        "\n",
        "To make this very concrete, five trials of all red stimuli could potentially be represented as:\n",
        "np.array([1, 1, 1, 1, 1]).\n",
        "\n",
        "And five trials of all green stimuli could be represented as:\n",
        "np.array([-1, -1, -1, -1, -1]).\n",
        "\n",
        "Now imagine that the five trials sample randomly from a distribution of colors that is 60% red and 40% green.  What arrays could represent this situation?  (There are several possibilities.  Why might you choose to represent the stimuli as [1, 0, 1, 0, 1] or [.6, .6, .6, .6, .6] or [.2, .2, .2, .2, .2]?)\n"
      ]
    },
    {
      "cell_type": "markdown",
      "metadata": {
        "id": "EbzYLiscdI8z"
      },
      "source": [
        "### <a id='e5'>Exercise 3: DDM Parameters</a> \n",
        "\n",
        "Think about these questions as you go through the exercises. If you don't know the answer to any of the questions, see if the following exercises help you understand the answers better.\n",
        "\n",
        "1. Tasks vary in difficulty.  Under what task conditions would it be most realistic for your DDM to have a high drift rate?  What about a low drift rate?  \n",
        "2. Assuming that you are modeling lots of individual trials, which kind of integrator would most likely produce the single fastest response time:  Holding all else constant, one with high noise or low noise?  Why?\n",
        "3. How does raising your threshold affect your accuracy? Under which task conditions would it be adaptive to raise your threshold?"
      ]
    },
    {
      "cell_type": "markdown",
      "metadata": {
        "id": "-BSLfPcFdI80"
      },
      "source": [
        "## Let's make two different integrators!\n",
        "\n",
        "The first integrator will drift toward a positive boundary; the second will drift toward a negative boundary. "
      ]
    },
    {
      "cell_type": "code",
      "metadata": {
        "id": "QQKOhskA2FR5",
        "colab": {
          "base_uri": "https://localhost:8080/",
          "height": 295,
          "referenced_widgets": [
            "1e683d85b741461196cc6e07dc705098",
            "3e48d10ca6d449b9bc876d2bff76c97d"
          ]
        },
        "outputId": "27abade8-59d6-4ffa-e762-cccecfb510bf"
      },
      "source": [
        "num_trials = 30;\n",
        "\n",
        "# Instate the DDM mechanism\n",
        "pos_integrator = pnl.DDM(function = pnl.DriftDiffusionIntegrator(\n",
        "                              noise=0.5,\n",
        "                              initializer=0,\n",
        "                              starting_point=0,\n",
        "                              rate=3.0\n",
        "                            )\n",
        "                         )\n",
        "\n",
        "\n",
        "# Tell the DDM to store its outputs at each trial\n",
        "pos_integrator.log.set_log_conditions(items=[pnl.DECISION_VARIABLE, pnl.RESPONSE_TIME])\n",
        "\n",
        "# Put the DDM into a composition\n",
        "DDM_positive = pnl.Composition(name = 'DDM_positive')\n",
        "DDM_positive.add_node(node = pos_integrator)\n",
        "\n",
        "# Run it\n",
        "DDM_positive.run(inputs={pos_integrator: np.random.normal(1,.5,(1,1,1))},\n",
        "num_trials=num_trials,\n",
        "context='execid')\n",
        "\n",
        "# # Extract the logged data\n",
        "log = pos_integrator.log.nparray_dictionary()['execid']\n",
        "decision_pos = log[pnl.DECISION_VARIABLE]\n",
        "time_pos = log[pnl.RESPONSE_TIME]\n",
        "\n",
        "# Plot!\n",
        "plt.plot(decision_pos[:,0],'.--')\n",
        "plt.title('Decision Progress Versus Time')\n",
        "plt.ylabel('Decision Variable')\n",
        "plt.xlabel('Time')\n",
        "plt.xticks(np.arange(0,num_trials+1,int(num_trials/5)))\n",
        "plt.show()"
      ],
      "execution_count": 22,
      "outputs": [
        {
          "output_type": "display_data",
          "data": {
            "application/vnd.jupyter.widget-view+json": {
              "model_id": "1e683d85b741461196cc6e07dc705098",
              "version_minor": 0,
              "version_major": 2
            },
            "text/plain": [
              "Output()"
            ]
          },
          "metadata": {
            "tags": []
          }
        },
        {
          "output_type": "display_data",
          "data": {
            "text/html": [
              "<pre style=\"white-space:pre;overflow-x:auto;line-height:normal;font-family:Menlo,'DejaVu Sans Mono',consolas,'Courier New',monospace\">\n",
              "</pre>\n"
            ],
            "text/plain": [
              "<rich.jupyter.JupyterRenderable at 0x7fb9b3764410>"
            ]
          },
          "metadata": {
            "tags": []
          }
        },
        {
          "output_type": "display_data",
          "data": {
            "image/png": "[encoded data removed]",
            "text/plain": [
              "<Figure size 432x288 with 1 Axes>"
            ]
          },
          "metadata": {
            "tags": []
          }
        }
      ]
    },
    {
      "cell_type": "code",
      "metadata": {
        "id": "VxcClW6dSQPn",
        "colab": {
          "base_uri": "https://localhost:8080/",
          "height": 295,
          "referenced_widgets": [
            "d6cd6257ab514f12a44e1bddf9538f79",
            "c0d92839f6584f4ca4171f4c61f29b20"
          ]
        },
        "outputId": "7cffc8f8-e711-4735-a727-2f3d02cc66a5"
      },
      "source": [
        "num_trials = 30;\n",
        "\n",
        "# Instate the DDM mechanism\n",
        "neg_integrator = pnl.DDM(function = pnl.DriftDiffusionIntegrator(\n",
        "                              noise=0.5,\n",
        "                              initializer=0,\n",
        "                              starting_point=0,\n",
        "                              rate=3.0\n",
        "                            )\n",
        "                         )\n",
        "\n",
        "# Tell the DDM to store its outputs at each trial\n",
        "neg_integrator.log.set_log_conditions(items=[pnl.DECISION_VARIABLE, pnl.RESPONSE_TIME])\n",
        "\n",
        "# Put the DDM into a composition\n",
        "DDM_neg = pnl.Composition(name = 'DDM_negative')\n",
        "DDM_neg.add_node(node = neg_integrator)\n",
        "\n",
        "# Run it\n",
        "DDM_neg.run(inputs={neg_integrator: -np.random.normal(1,.5,(1,1,1))},\n",
        "num_trials=num_trials,\n",
        "context='execid')\n",
        "\n",
        "# Extract the logged data\n",
        "log = neg_integrator.log.nparray_dictionary()['execid']\n",
        "decision_neg = log[pnl.DECISION_VARIABLE]\n",
        "time_neg = log[pnl.RESPONSE_TIME]\n",
        "\n",
        "# Plot!\n",
        "plt.plot(decision_neg[:,0],'.--')\n",
        "plt.title('Decision Progress Versus Time')\n",
        "plt.ylabel('Decision Variable')\n",
        "plt.xlabel('Time')\n",
        "plt.xticks(np.arange(0,num_trials+1,int(num_trials/5)))\n",
        "plt.show()"
      ],
      "execution_count": 4,
      "outputs": [
        {
          "output_type": "display_data",
          "data": {
            "application/vnd.jupyter.widget-view+json": {
              "model_id": "d6cd6257ab514f12a44e1bddf9538f79",
              "version_minor": 0,
              "version_major": 2
            },
            "text/plain": [
              "Output()"
            ]
          },
          "metadata": {
            "tags": []
          }
        },
        {
          "output_type": "display_data",
          "data": {
            "text/html": [
              "<pre style=\"white-space:pre;overflow-x:auto;line-height:normal;font-family:Menlo,'DejaVu Sans Mono',consolas,'Courier New',monospace\">\n",
              "</pre>\n"
            ],
            "text/plain": [
              "<rich.jupyter.JupyterRenderable at 0x7f2f87a421d0>"
            ]
          },
          "metadata": {
            "tags": []
          }
        },
        {
          "output_type": "display_data",
          "data": {
            "image/png": "[encoded data removed]",
            "text/plain": [
              "<Figure size 432x288 with 1 Axes>"
            ]
          },
          "metadata": {
            "tags": []
          }
        }
      ]
    },
    {
      "cell_type": "markdown",
      "metadata": {
        "id": "sQoXJi7SdI8-"
      },
      "source": [
        "### <a id='e6'>Exercise 4: Understanding PNL DDMs</a> \n",
        "\n",
        "1. The integrator attribute .output_values returns two values. What do they mean? \n",
        "2. Explain the difference in outputs for the two accumulators.\n",
        "3. How many time steps does it take for the positive integrator to meet a threshold of .5? What about a threshold of 10?\n",
        "4. How could you make the positive integrator reach threshold faster? What would you do to each of the following: \n",
        "    4a. Threshold?\n",
        "    4b. Drift rate?\n",
        "    4c. Starting point?\n",
        "    4d. Noise?"
      ]
    },
    {
      "cell_type": "markdown",
      "metadata": {
        "id": "tWtDAZMXdI8_"
      },
      "source": [
        "### <a id='e7'>Exercise 5: Integrate Until Threshold</a> \n",
        "\n",
        "The following cell shows you how to run an accumulator until it reaches threshold using PsyNeuLink.\n",
        "\n",
        "Rewrite this code so that it will take the pos_integrator and run until it hits threshold. Have your function return the time point at which your function hits threshold and the position of the decision at each time point. Plot the trajectory of the decision."
      ]
    },
    {
      "cell_type": "code",
      "metadata": {
        "id": "Kk3tjb6FwWKQ",
        "colab": {
          "base_uri": "https://localhost:8080/",
          "height": 17,
          "referenced_widgets": [
            "f4b6cdb60b6e4f1b84640487768ebbd8",
            "7fb32ceb11934f32bdcdfdeb8a89693b"
          ]
        },
        "outputId": "9cbfb512-2dd3-424d-ff5a-978b236f9437"
      },
      "source": [
        "D = pnl.DDM(function = pnl.DriftDiffusionIntegrator(threshold=[20.0]))\n",
        "positive_moving_stimulus = np.array([[[1]], [[1.5]], [[2]], [[1]], [[1.5]]])\n",
        "\n",
        "D.log.set_log_conditions(items=[pnl.DECISION_VARIABLE, pnl.RESPONSE_TIME])\n",
        "\n",
        "C = pnl.Composition(name = 'DDM')\n",
        "C.add_node(node = D)\n",
        "\n",
        "C.termination_processing = {pnl.TimeScale.TRIAL: pnl.WhenFinished(D)}\n",
        "C.run(inputs={D:positive_moving_stimulus}, context='execid') \n",
        "\n",
        "log = D.log.nparray_dictionary()['execid']\n",
        "decisions = log[pnl.DECISION_VARIABLE]\n",
        "times = log[pnl.RESPONSE_TIME]"
      ],
      "execution_count": 16,
      "outputs": [
        {
          "output_type": "display_data",
          "data": {
            "application/vnd.jupyter.widget-view+json": {
              "model_id": "f4b6cdb60b6e4f1b84640487768ebbd8",
              "version_minor": 0,
              "version_major": 2
            },
            "text/plain": [
              "Output()"
            ]
          },
          "metadata": {
            "tags": []
          }
        },
        {
          "output_type": "display_data",
          "data": {
            "text/html": [
              "<pre style=\"white-space:pre;overflow-x:auto;line-height:normal;font-family:Menlo,'DejaVu Sans Mono',consolas,'Courier New',monospace\">\n",
              "</pre>\n"
            ],
            "text/plain": [
              "<rich.jupyter.JupyterRenderable at 0x7f2f85e09890>"
            ]
          },
          "metadata": {
            "tags": []
          }
        }
      ]
    },
    {
      "cell_type": "markdown",
      "metadata": {
        "id": "h6UWCKxQdI9D"
      },
      "source": [
        "### <a id='e8'>Exercise 6: Analytic Solutions to the DDM</a> \n",
        "\n",
        "Review Bogacz et al (2006) to learn about analytic solutions to the DDM. \n",
        "\n",
        "1. Construct a Bogacz integrator using the same parameters of the pos_integrator. (Hint: this should look something like: pnl.DDM(name=\"example_ddm\",function=pnl.DriftDiffusionAnalytical(drift_rate=?,starting_point=?, threshold=?, noise=?, t0=?))\n",
        "2. Run your Bogacz integrator with 5 different kinds of input, once each; use these 5 values as the input: [[.5], [1], [1.5], [2], [2.5]].  Acquire the statistics for the distributions of RTs for these values using an output states dictionary and the additional output states available to the Bogacz DDM.\n",
        "3. Now run the pos_integrator using integrate to threshold termination conditions.   \n",
        "4. Explain the pattern of RTs you observe."
      ]
    },
    {
      "cell_type": "code",
      "metadata": {
        "id": "ECTOoje7kPME",
        "colab": {
          "base_uri": "https://localhost:8080/",
          "height": 68,
          "referenced_widgets": [
            "45c1dee78471452ca5beb06b2b26923f",
            "99a307169e7d443ca9722991df7d0d5e"
          ]
        },
        "outputId": "850ad1de-ba09-41a2-bbea-90e45f6ac0fb"
      },
      "source": [
        "# This block of code handles parts 1 and 2\n",
        "\n",
        "D = pnl.DDM(function = pnl.DriftDiffusionAnalytical(threshold=[20.0],\n",
        "                                                   drift_rate = 3.0,\n",
        "                                                   noise = 0.5),\n",
        "           output_ports = [pnl.RESPONSE_TIME,pnl.PROBABILITY_UPPER_THRESHOLD,pnl.PROBABILITY_LOWER_THRESHOLD,pnl.RT_CORRECT_MEAN\t])\n",
        "positive_stimulus = np.array([[[1.7]]])\n",
        "#[[1.5]], [[2]], [[1]], [[1.5]]])\n",
        "\n",
        "D.log.set_log_conditions(items=[pnl.RESPONSE_TIME])  \n",
        "\n",
        "C = pnl.Composition(name = 'DDM')\n",
        "C.add_node(node = D)\n",
        "outs = C.run(inputs={D:positive_stimulus},\n",
        "              num_trials = 1, \n",
        "             context='execid') \n",
        "\n",
        "log = D.log.nparray_dictionary()['execid']\n",
        "times = log[pnl.RESPONSE_TIME]\n"
      ],
      "execution_count": 24,
      "outputs": [
        {
          "output_type": "display_data",
          "data": {
            "application/vnd.jupyter.widget-view+json": {
              "model_id": "45c1dee78471452ca5beb06b2b26923f",
              "version_minor": 0,
              "version_major": 2
            },
            "text/plain": [
              "Output()"
            ]
          },
          "metadata": {
            "tags": []
          }
        },
        {
          "output_type": "display_data",
          "data": {
            "text/html": [
              "<pre style=\"white-space:pre;overflow-x:auto;line-height:normal;font-family:Menlo,'DejaVu Sans Mono',consolas,'Courier New',monospace\">\n",
              "</pre>\n"
            ],
            "text/plain": [
              "<rich.jupyter.JupyterRenderable at 0x7f2f818095d0>"
            ]
          },
          "metadata": {
            "tags": []
          }
        },
        {
          "output_type": "stream",
          "text": [
            "[array([0.23769289]), array([1.]), array([0.]), array([1.16116878])]\n",
            "[array([0.23769289]), array([1.]), array([0.]), array([1.16116878])]\n",
            "[[0.23769289]]\n"
          ],
          "name": "stdout"
        }
      ]
    },
    {
      "cell_type": "code",
      "metadata": {
        "id": "XsyRW3QtvUSY",
        "colab": {
          "base_uri": "https://localhost:8080/",
          "height": 224,
          "referenced_widgets": [
            "eb4c2d5a73db4af1ab50dc3bef875213",
            "8c0597384c464a2b8a2b9b5759fa4b24",
            "6e08c037743645959f888c7030c7c675",
            "c29607c491f6425ebf463fd8c2444582",
            "c324748440ad477e9381b9ba4d567beb",
            "acc702dd793749d48a12c1faa0bd9deb",
            "fd7bdb4319234caf83ee6ddcd6d65075",
            "719b9239d08f44ef91ee51786020f277",
            "e81f0e268aa74563a4e832a7a574166c",
            "1e4a01e38bfc46e9800c818d4b3c1edf",
            "b2330eeddb0940d89b2b58e116d9cce2",
            "67c97308301a49d89e43464f888a5b22",
            "955f2dfb6ba04cc294af53f85ad4a0b9",
            "aa4c52b09dec4641acc8edab8437f6a3",
            "2fb0933511c24b419f5f4a17528a6122",
            "87e2d45deb8d4aa2b47d084f8b09769a",
            "1bef19378e1b42aa99d1df9212eeb34e",
            "cee6e1bf5b0f443ca687729b26a68e1c"
          ]
        },
        "outputId": "3714be64-fbe2-4f8b-8504-c8d4462d3788"
      },
      "source": [
        "# This block of code handles parts 3 onward. Notice that we put the ENTIRE \n",
        "# declaration of the composition into a loop. If we don't do this, we will get \n",
        "# the same results every time. In other words, our results will be non-random.\n",
        "n_t = 10\n",
        "for i in range(1,n_t):\n",
        "  \n",
        "  D = pnl.DDM(function = pnl.DriftDiffusionIntegrator(threshold=[20.0],\n",
        "                                                   rate = 0.0,\n",
        "                                                   noise = 1.0))\n",
        "\n",
        "  positive_stimulus = np.array([[[.7]]])\n",
        "\n",
        "\n",
        "  C = pnl.Composition(name = 'DDM')\n",
        "  C.add_node(node = D)\n",
        "\n",
        "  C.termination_processing = {pnl.TimeScale.TRIAL: pnl.WhenFinished(D)}\n",
        "\n",
        "\n",
        "  outs = C.run(inputs={D:positive_stimulus}\n",
        "                       ,context='execid') \n",
        "  print(outs)\n"
      ],
      "execution_count": 26,
      "outputs": [
        {
          "output_type": "display_data",
          "data": {
            "application/vnd.jupyter.widget-view+json": {
              "model_id": "eb4c2d5a73db4af1ab50dc3bef875213",
              "version_minor": 0,
              "version_major": 2
            },
            "text/plain": [
              "Output()"
            ]
          },
          "metadata": {
            "tags": []
          }
        },
        {
          "output_type": "display_data",
          "data": {
            "text/html": [
              "<pre style=\"white-space:pre;overflow-x:auto;line-height:normal;font-family:Menlo,'DejaVu Sans Mono',consolas,'Courier New',monospace\">\n",
              "</pre>\n"
            ],
            "text/plain": [
              "<rich.jupyter.JupyterRenderable at 0x7f2f80a21550>"
            ]
          },
          "metadata": {
            "tags": []
          }
        },
        {
          "output_type": "stream",
          "text": [
            "[array([-20.]), array([186.])]\n"
          ],
          "name": "stdout"
        },
        {
          "output_type": "display_data",
          "data": {
            "application/vnd.jupyter.widget-view+json": {
              "model_id": "6e08c037743645959f888c7030c7c675",
              "version_minor": 0,
              "version_major": 2
            },
            "text/plain": [
              "Output()"
            ]
          },
          "metadata": {
            "tags": []
          }
        },
        {
          "output_type": "display_data",
          "data": {
            "text/html": [
              "<pre style=\"white-space:pre;overflow-x:auto;line-height:normal;font-family:Menlo,'DejaVu Sans Mono',consolas,'Courier New',monospace\">\n",
              "</pre>\n"
            ],
            "text/plain": [
              "<rich.jupyter.JupyterRenderable at 0x7f2f807a6910>"
            ]
          },
          "metadata": {
            "tags": []
          }
        },
        {
          "output_type": "stream",
          "text": [
            "[array([-20.]), array([291.])]\n"
          ],
          "name": "stdout"
        },
        {
          "output_type": "display_data",
          "data": {
            "application/vnd.jupyter.widget-view+json": {
              "model_id": "c324748440ad477e9381b9ba4d567beb",
              "version_minor": 0,
              "version_major": 2
            },
            "text/plain": [
              "Output()"
            ]
          },
          "metadata": {
            "tags": []
          }
        },
        {
          "output_type": "display_data",
          "data": {
            "text/html": [
              "<pre style=\"white-space:pre;overflow-x:auto;line-height:normal;font-family:Menlo,'DejaVu Sans Mono',consolas,'Courier New',monospace\">\n",
              "</pre>\n"
            ],
            "text/plain": [
              "<rich.jupyter.JupyterRenderable at 0x7f2f80511850>"
            ]
          },
          "metadata": {
            "tags": []
          }
        },
        {
          "output_type": "stream",
          "text": [
            "[array([20.]), array([208.])]\n"
          ],
          "name": "stdout"
        },
        {
          "output_type": "display_data",
          "data": {
            "application/vnd.jupyter.widget-view+json": {
              "model_id": "fd7bdb4319234caf83ee6ddcd6d65075",
              "version_minor": 0,
              "version_major": 2
            },
            "text/plain": [
              "Output()"
            ]
          },
          "metadata": {
            "tags": []
          }
        },
        {
          "output_type": "display_data",
          "data": {
            "text/html": [
              "<pre style=\"white-space:pre;overflow-x:auto;line-height:normal;font-family:Menlo,'DejaVu Sans Mono',consolas,'Courier New',monospace\">\n",
              "</pre>\n"
            ],
            "text/plain": [
              "<rich.jupyter.JupyterRenderable at 0x7f2f80288290>"
            ]
          },
          "metadata": {
            "tags": []
          }
        },
        {
          "output_type": "stream",
          "text": [
            "[array([20.]), array([155.])]\n"
          ],
          "name": "stdout"
        },
        {
          "output_type": "display_data",
          "data": {
            "application/vnd.jupyter.widget-view+json": {
              "model_id": "e81f0e268aa74563a4e832a7a574166c",
              "version_minor": 0,
              "version_major": 2
            },
            "text/plain": [
              "Output()"
            ]
          },
          "metadata": {
            "tags": []
          }
        },
        {
          "output_type": "display_data",
          "data": {
            "text/html": [
              "<pre style=\"white-space:pre;overflow-x:auto;line-height:normal;font-family:Menlo,'DejaVu Sans Mono',consolas,'Courier New',monospace\">\n",
              "</pre>\n"
            ],
            "text/plain": [
              "<rich.jupyter.JupyterRenderable at 0x7f2f7ffb1b10>"
            ]
          },
          "metadata": {
            "tags": []
          }
        },
        {
          "output_type": "stream",
          "text": [
            "[array([-20.]), array([159.])]\n"
          ],
          "name": "stdout"
        },
        {
          "output_type": "display_data",
          "data": {
            "application/vnd.jupyter.widget-view+json": {
              "model_id": "b2330eeddb0940d89b2b58e116d9cce2",
              "version_minor": 0,
              "version_major": 2
            },
            "text/plain": [
              "Output()"
            ]
          },
          "metadata": {
            "tags": []
          }
        },
        {
          "output_type": "display_data",
          "data": {
            "text/html": [
              "<pre style=\"white-space:pre;overflow-x:auto;line-height:normal;font-family:Menlo,'DejaVu Sans Mono',consolas,'Courier New',monospace\">\n",
              "</pre>\n"
            ],
            "text/plain": [
              "<rich.jupyter.JupyterRenderable at 0x7f2f81585c50>"
            ]
          },
          "metadata": {
            "tags": []
          }
        },
        {
          "output_type": "stream",
          "text": [
            "[array([20.]), array([286.])]\n"
          ],
          "name": "stdout"
        },
        {
          "output_type": "display_data",
          "data": {
            "application/vnd.jupyter.widget-view+json": {
              "model_id": "955f2dfb6ba04cc294af53f85ad4a0b9",
              "version_minor": 0,
              "version_major": 2
            },
            "text/plain": [
              "Output()"
            ]
          },
          "metadata": {
            "tags": []
          }
        },
        {
          "output_type": "display_data",
          "data": {
            "text/html": [
              "<pre style=\"white-space:pre;overflow-x:auto;line-height:normal;font-family:Menlo,'DejaVu Sans Mono',consolas,'Courier New',monospace\">\n",
              "</pre>\n"
            ],
            "text/plain": [
              "<rich.jupyter.JupyterRenderable at 0x7f2f7fab3290>"
            ]
          },
          "metadata": {
            "tags": []
          }
        },
        {
          "output_type": "stream",
          "text": [
            "/usr/local/lib/python3.7/dist-packages/psyneulink/core/components/mechanisms/mechanism.py:2524: UserWarning: Maximum number of executions (1000) reached for DDM-26.\n",
            "  warnings.warn(f\"Maximum number of executions ({max_executions}) reached for {self.name}.\")\n"
          ],
          "name": "stderr"
        },
        {
          "output_type": "stream",
          "text": [
            "[array([20.]), array([1380.])]\n"
          ],
          "name": "stdout"
        },
        {
          "output_type": "display_data",
          "data": {
            "application/vnd.jupyter.widget-view+json": {
              "model_id": "2fb0933511c24b419f5f4a17528a6122",
              "version_minor": 0,
              "version_major": 2
            },
            "text/plain": [
              "Output()"
            ]
          },
          "metadata": {
            "tags": []
          }
        },
        {
          "output_type": "display_data",
          "data": {
            "text/html": [
              "<pre style=\"white-space:pre;overflow-x:auto;line-height:normal;font-family:Menlo,'DejaVu Sans Mono',consolas,'Courier New',monospace\">\n",
              "</pre>\n"
            ],
            "text/plain": [
              "<rich.jupyter.JupyterRenderable at 0x7f2f7f7a7d50>"
            ]
          },
          "metadata": {
            "tags": []
          }
        },
        {
          "output_type": "stream",
          "text": [
            "[array([20.]), array([354.])]\n"
          ],
          "name": "stdout"
        },
        {
          "output_type": "display_data",
          "data": {
            "application/vnd.jupyter.widget-view+json": {
              "model_id": "1bef19378e1b42aa99d1df9212eeb34e",
              "version_minor": 0,
              "version_major": 2
            },
            "text/plain": [
              "Output()"
            ]
          },
          "metadata": {
            "tags": []
          }
        },
        {
          "output_type": "display_data",
          "data": {
            "text/html": [
              "<pre style=\"white-space:pre;overflow-x:auto;line-height:normal;font-family:Menlo,'DejaVu Sans Mono',consolas,'Courier New',monospace\">\n",
              "</pre>\n"
            ],
            "text/plain": [
              "<rich.jupyter.JupyterRenderable at 0x7f2f7f4dbe10>"
            ]
          },
          "metadata": {
            "tags": []
          }
        },
        {
          "output_type": "stream",
          "text": [
            "[array([-20.]), array([325.])]\n"
          ],
          "name": "stdout"
        }
      ]
    },
    {
      "cell_type": "markdown",
      "metadata": {
        "id": "VvaVJz_hdI9I"
      },
      "source": [
        "### <a id='l0'>Exercise 7: Applying the DDM to Data</a> \n",
        "\n",
        "\n",
        "How do the parameters of the DDM map on to reaction times in lab experiments and real life decision-making?\n",
        "\n",
        "We have some hypothetical experimental data from different experimental conditions for you to analyze. In this task, subjects had to respond to the color or direction of moving stimuli. A cue would preceed each trial to indicate whether the trial was a color trial or direction trial.\n",
        "\n",
        "Conditions:\n",
        "\n",
        "A.\n",
        "\n",
        "1. In condition A1, subjects get no penalties for wrong answers.\n",
        "2. In condition A2, subjects get a penalty for responding incorrectly.\n",
        "\n",
        "B. \n",
        "\n",
        "3. In condition B1, subjects saw stimuli with high coherence, so all the stimuli were one color, or they were all moving in the same direction.\n",
        "4. In condition B2, subjects saw stimuli with low coherence, so the stimuli were composed of multiple colors, or they saw stimuli moving in multiple directions.\n",
        "\n",
        "\n",
        "Q1. Build a single path integrator (not analytic) that corresponds to one of the response options for A1.  Then build the analogue for A2, differing by only one parameter.   Do the same for B1 and B2 (the parameter distinguishing B1 and B2 should be different than for A1 and A2).  (When you are done you will have 4 integrators.) \n",
        "\n",
        "Q2. Run 100 iterations of each integrator until it meets threshold, and plot the resulting RT distributions. \n",
        "\n",
        "Q3. How do your RT distributions compare to the actual data (plotted for you below)?"
      ]
    },
    {
      "cell_type": "code",
      "metadata": {
        "id": "ZNJ_Bnu3clN_",
        "colab": {
          "base_uri": "https://localhost:8080/"
        },
        "outputId": "b5db5341-e6f1-4ef9-f6df-9016da42620f"
      },
      "source": [
        "\n",
        "# This line will copy some data off github\n",
        "! git clone https://github.com/LenaRosendahl/lab7"
      ],
      "execution_count": 34,
      "outputs": [
        {
          "output_type": "stream",
          "text": [
            "Cloning into 'lab7'...\n",
            "remote: Enumerating objects: 7, done.\u001b[K\n",
            "remote: Total 7 (delta 0), reused 0 (delta 0), pack-reused 7\u001b[K\n",
            "Unpacking objects: 100% (7/7), done.\n"
          ],
          "name": "stdout"
        }
      ]
    },
    {
      "cell_type": "code",
      "metadata": {
        "id": "emaOyOTsd9wM",
        "colab": {
          "base_uri": "https://localhost:8080/"
        },
        "outputId": "4b64d900-eff3-4c90-fc4b-403aa1d4b766"
      },
      "source": [
        "# These few lines will put you in the correct directory to access said data\n",
        "!pwd\n",
        "! ls\n",
        "% cd /content/lab7\n",
        "! pwd\n",
        "!ls\n"
      ],
      "execution_count": 35,
      "outputs": [
        {
          "output_type": "stream",
          "text": [
            "/content\n",
            "lab7  sample_data\n",
            "/content/lab7\n",
            "/content/lab7\n",
            "Coherence.pkl  Lab6_Decision_Making.ipynb  Penalties.pkl\n"
          ],
          "name": "stdout"
        }
      ]
    },
    {
      "cell_type": "code",
      "metadata": {
        "id": "mW92oZ4wdI9J",
        "colab": {
          "base_uri": "https://localhost:8080/",
          "height": 545
        },
        "outputId": "5ca3ab1c-cc72-4585-a90e-0200203c4b79"
      },
      "source": [
        "A = pd.read_pickle('Penalties.pkl')\n",
        "B = pd.read_pickle('Coherence.pkl')\n",
        "\n",
        "Ax = A.rt[A.condition == 'ZeroPenalty']\n",
        "Ay = A.rt[A.condition == 'HighPenalty']\n",
        "bins = np.linspace(0, 5, 20) # (start, stop, number of bins)\n",
        "plt.hist([Ax, Ay], bins, alpha=0.5, label=['ZeroPenalty', 'HighPenalty'])\n",
        "plt.title('RT Frequency by Penalty')\n",
        "plt.legend(loc='upper right')\n",
        "plt.show()\n",
        "\n",
        "Bx = B.rt[B.condition == 'HighCoherence']\n",
        "By = B.rt[B.condition == 'LowCoherence']\n",
        "bins = np.linspace(0, 5, 20)\n",
        "plt.hist([Bx, By], bins, alpha=0.5, label=['HighCoherence', 'LowCoherence'])\n",
        "plt.title('RT Frequency by Coherence')\n",
        "plt.legend(loc='upper right')\n",
        "plt.show()\n",
        "\n"
      ],
      "execution_count": 36,
      "outputs": [
        {
          "output_type": "display_data",
          "data": {
            "image/png": "[encoded data removed]",
            "text/plain": [
              "<Figure size 432x288 with 1 Axes>"
            ]
          },
          "metadata": {
            "tags": []
          }
        },
        {
          "output_type": "display_data",
          "data": {
            "image/png": "[encoded data removed]",
            "text/plain": [
              "<Figure size 432x288 with 1 Axes>"
            ]
          },
          "metadata": {
            "tags": []
          }
        }
      ]
    },
    {
      "cell_type": "code",
      "metadata": {
        "id": "y8P-ZfQbwAWW"
      },
      "source": [
        ""
      ],
      "execution_count": null,
      "outputs": []
    }
  ]
}