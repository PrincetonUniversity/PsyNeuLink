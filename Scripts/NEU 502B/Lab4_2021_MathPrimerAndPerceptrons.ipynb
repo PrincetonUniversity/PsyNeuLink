{
  "nbformat": 4,
  "nbformat_minor": 0,
  "metadata": {
    "colab": {
      "name": "330Lab4.ipynb",
      "provenance": [],
      "collapsed_sections": []
    },
    "kernelspec": {
      "display_name": "Python 3",
      "language": "python",
      "name": "python3"
    }
  },
  "cells": [
    {
      "cell_type": "markdown",
      "metadata": {
        "id": "clUWUN9gW1HE"
      },
      "source": [
        "# Lab4: Math Primer and Simple Neural Networks"
      ]
    },
    {
      "cell_type": "code",
      "metadata": {
        "colab": {
          "base_uri": "https://localhost:8080/"
        },
        "id": "SIK7uxh36kDD",
        "outputId": "c728fe0e-3f83-4148-fadd-4de6db377570"
      },
      "source": [
        "!pip install psyneulink"
      ],
      "execution_count": 1,
      "outputs": [
        {
          "output_type": "stream",
          "text": [
            "Requirement already satisfied: psyneulink in /usr/local/lib/python3.7/dist-packages (0.8.6.0)\n",
            "Requirement already satisfied: networkx<2.6 in /usr/local/lib/python3.7/dist-packages (from psyneulink) (2.5)\n",
            "Requirement already satisfied: autograd<=1.3 in /usr/local/lib/python3.7/dist-packages (from psyneulink) (1.3)\n",
            "Requirement already satisfied: toposort<1.7 in /usr/local/lib/python3.7/dist-packages (from psyneulink) (1.6)\n",
            "Requirement already satisfied: leabra-psyneulink<=0.3.2 in /usr/local/lib/python3.7/dist-packages (from psyneulink) (0.3.2)\n",
            "Requirement already satisfied: pillow<8.1.0 in /usr/local/lib/python3.7/dist-packages (from psyneulink) (7.0.0)\n",
            "Requirement already satisfied: elfi<0.7.8 in /usr/local/lib/python3.7/dist-packages (from psyneulink) (0.7.7)\n",
            "Requirement already satisfied: torch<1.8.0; sys_platform != \"win32\" and platform_machine == \"x86_64\" and platform_python_implementation == \"CPython\" in /usr/local/lib/python3.7/dist-packages (from psyneulink) (1.7.1+cu101)\n",
            "Requirement already satisfied: grpcio-tools<1.35.0 in /usr/local/lib/python3.7/dist-packages (from psyneulink) (1.34.1)\n",
            "Requirement already satisfied: dill<=0.32 in /usr/local/lib/python3.7/dist-packages (from psyneulink) (0.3.3)\n",
            "Requirement already satisfied: grpcio<1.35.0 in /usr/local/lib/python3.7/dist-packages (from psyneulink) (1.32.0)\n",
            "Requirement already satisfied: numpy<1.20.2 in /usr/local/lib/python3.7/dist-packages (from psyneulink) (1.19.5)\n",
            "Requirement already satisfied: rich<=9.11.0 in /usr/local/lib/python3.7/dist-packages (from psyneulink) (9.11.0)\n",
            "Requirement already satisfied: matplotlib<3.3.4 in /usr/local/lib/python3.7/dist-packages (from psyneulink) (3.2.2)\n",
            "Requirement already satisfied: llvmlite<0.36 in /usr/local/lib/python3.7/dist-packages (from psyneulink) (0.34.0)\n",
            "Requirement already satisfied: graphviz<0.17.0 in /usr/local/lib/python3.7/dist-packages (from psyneulink) (0.10.1)\n",
            "Requirement already satisfied: typecheck-decorator<=1.2 in /usr/local/lib/python3.7/dist-packages (from psyneulink) (1.2)\n",
            "Requirement already satisfied: decorator>=4.3.0 in /usr/local/lib/python3.7/dist-packages (from networkx<2.6->psyneulink) (4.4.2)\n",
            "Requirement already satisfied: future>=0.15.2 in /usr/local/lib/python3.7/dist-packages (from autograd<=1.3->psyneulink) (0.16.0)\n",
            "Requirement already satisfied: scipy in /usr/local/lib/python3.7/dist-packages (from leabra-psyneulink<=0.3.2->psyneulink) (1.4.1)\n",
            "Requirement already satisfied: jupyter in /usr/local/lib/python3.7/dist-packages (from leabra-psyneulink<=0.3.2->psyneulink) (1.0.0)\n",
            "Requirement already satisfied: bokeh>=0.12.6 in /usr/local/lib/python3.7/dist-packages (from leabra-psyneulink<=0.3.2->psyneulink) (2.1.1)\n",
            "Requirement already satisfied: ipywidgets>=7.0 in /usr/local/lib/python3.7/dist-packages (from leabra-psyneulink<=0.3.2->psyneulink) (7.6.3)\n",
            "Requirement already satisfied: GPy>=1.0.9 in /usr/local/lib/python3.7/dist-packages (from elfi<0.7.8->psyneulink) (1.9.9)\n",
            "Requirement already satisfied: scikit-learn>=0.18.1 in /usr/local/lib/python3.7/dist-packages (from elfi<0.7.8->psyneulink) (0.22.2.post1)\n",
            "Requirement already satisfied: ipyparallel>=6 in /usr/local/lib/python3.7/dist-packages (from elfi<0.7.8->psyneulink) (6.3.0)\n",
            "Requirement already satisfied: dask[distributed]<3.0.0,>=1.0.0 in /usr/local/lib/python3.7/dist-packages (from elfi<0.7.8->psyneulink) (2.12.0)\n",
            "Requirement already satisfied: toolz>=0.8 in /usr/local/lib/python3.7/dist-packages (from elfi<0.7.8->psyneulink) (0.11.1)\n",
            "Requirement already satisfied: typing-extensions in /usr/local/lib/python3.7/dist-packages (from torch<1.8.0; sys_platform != \"win32\" and platform_machine == \"x86_64\" and platform_python_implementation == \"CPython\"->psyneulink) (3.7.4.3)\n",
            "Requirement already satisfied: protobuf<4.0dev,>=3.5.0.post1 in /usr/local/lib/python3.7/dist-packages (from grpcio-tools<1.35.0->psyneulink) (3.12.4)\n",
            "Requirement already satisfied: setuptools in /usr/local/lib/python3.7/dist-packages (from grpcio-tools<1.35.0->psyneulink) (53.0.0)\n",
            "Requirement already satisfied: six>=1.5.2 in /usr/local/lib/python3.7/dist-packages (from grpcio<1.35.0->psyneulink) (1.15.0)\n",
            "Requirement already satisfied: commonmark<0.10.0,>=0.9.0 in /usr/local/lib/python3.7/dist-packages (from rich<=9.11.0->psyneulink) (0.9.1)\n",
            "Requirement already satisfied: pygments<3.0.0,>=2.6.0 in /usr/local/lib/python3.7/dist-packages (from rich<=9.11.0->psyneulink) (2.6.1)\n",
            "Requirement already satisfied: colorama<0.5.0,>=0.4.0 in /usr/local/lib/python3.7/dist-packages (from rich<=9.11.0->psyneulink) (0.4.4)\n",
            "Requirement already satisfied: pyparsing!=2.0.4,!=2.1.2,!=2.1.6,>=2.0.1 in /usr/local/lib/python3.7/dist-packages (from matplotlib<3.3.4->psyneulink) (2.4.7)\n",
            "Requirement already satisfied: cycler>=0.10 in /usr/local/lib/python3.7/dist-packages (from matplotlib<3.3.4->psyneulink) (0.10.0)\n",
            "Requirement already satisfied: kiwisolver>=1.0.1 in /usr/local/lib/python3.7/dist-packages (from matplotlib<3.3.4->psyneulink) (1.3.1)\n",
            "Requirement already satisfied: python-dateutil>=2.1 in /usr/local/lib/python3.7/dist-packages (from matplotlib<3.3.4->psyneulink) (2.8.1)\n",
            "Requirement already satisfied: jupyter-console in /usr/local/lib/python3.7/dist-packages (from jupyter->leabra-psyneulink<=0.3.2->psyneulink) (5.2.0)\n",
            "Requirement already satisfied: nbconvert in /usr/local/lib/python3.7/dist-packages (from jupyter->leabra-psyneulink<=0.3.2->psyneulink) (5.6.1)\n",
            "Requirement already satisfied: ipykernel in /usr/local/lib/python3.7/dist-packages (from jupyter->leabra-psyneulink<=0.3.2->psyneulink) (4.10.1)\n",
            "Requirement already satisfied: notebook in /usr/local/lib/python3.7/dist-packages (from jupyter->leabra-psyneulink<=0.3.2->psyneulink) (5.3.1)\n",
            "Requirement already satisfied: qtconsole in /usr/local/lib/python3.7/dist-packages (from jupyter->leabra-psyneulink<=0.3.2->psyneulink) (5.0.2)\n",
            "Requirement already satisfied: tornado>=5.1 in /usr/local/lib/python3.7/dist-packages (from bokeh>=0.12.6->leabra-psyneulink<=0.3.2->psyneulink) (5.1.1)\n",
            "Requirement already satisfied: PyYAML>=3.10 in /usr/local/lib/python3.7/dist-packages (from bokeh>=0.12.6->leabra-psyneulink<=0.3.2->psyneulink) (3.13)\n",
            "Requirement already satisfied: packaging>=16.8 in /usr/local/lib/python3.7/dist-packages (from bokeh>=0.12.6->leabra-psyneulink<=0.3.2->psyneulink) (20.9)\n",
            "Requirement already satisfied: Jinja2>=2.7 in /usr/local/lib/python3.7/dist-packages (from bokeh>=0.12.6->leabra-psyneulink<=0.3.2->psyneulink) (2.11.3)\n",
            "Requirement already satisfied: nbformat>=4.2.0 in /usr/local/lib/python3.7/dist-packages (from ipywidgets>=7.0->leabra-psyneulink<=0.3.2->psyneulink) (5.1.2)\n",
            "Requirement already satisfied: ipython>=4.0.0; python_version >= \"3.3\" in /usr/local/lib/python3.7/dist-packages (from ipywidgets>=7.0->leabra-psyneulink<=0.3.2->psyneulink) (5.5.0)\n",
            "Requirement already satisfied: jupyterlab-widgets>=1.0.0; python_version >= \"3.6\" in /usr/local/lib/python3.7/dist-packages (from ipywidgets>=7.0->leabra-psyneulink<=0.3.2->psyneulink) (1.0.0)\n",
            "Requirement already satisfied: widgetsnbextension~=3.5.0 in /usr/local/lib/python3.7/dist-packages (from ipywidgets>=7.0->leabra-psyneulink<=0.3.2->psyneulink) (3.5.1)\n",
            "Requirement already satisfied: traitlets>=4.3.1 in /usr/local/lib/python3.7/dist-packages (from ipywidgets>=7.0->leabra-psyneulink<=0.3.2->psyneulink) (5.0.5)\n",
            "Requirement already satisfied: paramz>=0.9.0 in /usr/local/lib/python3.7/dist-packages (from GPy>=1.0.9->elfi<0.7.8->psyneulink) (0.9.5)\n",
            "Requirement already satisfied: joblib>=0.11 in /usr/local/lib/python3.7/dist-packages (from scikit-learn>=0.18.1->elfi<0.7.8->psyneulink) (1.0.1)\n",
            "Requirement already satisfied: jupyter-client in /usr/local/lib/python3.7/dist-packages (from ipyparallel>=6->elfi<0.7.8->psyneulink) (5.3.5)\n",
            "Requirement already satisfied: pyzmq>=13 in /usr/local/lib/python3.7/dist-packages (from ipyparallel>=6->elfi<0.7.8->psyneulink) (22.0.3)\n",
            "Requirement already satisfied: ipython-genutils in /usr/local/lib/python3.7/dist-packages (from ipyparallel>=6->elfi<0.7.8->psyneulink) (0.2.0)\n",
            "Requirement already satisfied: distributed>=2.0; extra == \"distributed\" in /usr/local/lib/python3.7/dist-packages (from dask[distributed]<3.0.0,>=1.0.0->elfi<0.7.8->psyneulink) (2021.2.0)\n",
            "Requirement already satisfied: prompt-toolkit<2.0.0,>=1.0.0 in /usr/local/lib/python3.7/dist-packages (from jupyter-console->jupyter->leabra-psyneulink<=0.3.2->psyneulink) (1.0.18)\n",
            "Requirement already satisfied: defusedxml in /usr/local/lib/python3.7/dist-packages (from nbconvert->jupyter->leabra-psyneulink<=0.3.2->psyneulink) (0.6.0)\n",
            "Requirement already satisfied: bleach in /usr/local/lib/python3.7/dist-packages (from nbconvert->jupyter->leabra-psyneulink<=0.3.2->psyneulink) (3.3.0)\n",
            "Requirement already satisfied: mistune<2,>=0.8.1 in /usr/local/lib/python3.7/dist-packages (from nbconvert->jupyter->leabra-psyneulink<=0.3.2->psyneulink) (0.8.4)\n",
            "Requirement already satisfied: jupyter-core in /usr/local/lib/python3.7/dist-packages (from nbconvert->jupyter->leabra-psyneulink<=0.3.2->psyneulink) (4.7.1)\n",
            "Requirement already satisfied: entrypoints>=0.2.2 in /usr/local/lib/python3.7/dist-packages (from nbconvert->jupyter->leabra-psyneulink<=0.3.2->psyneulink) (0.3)\n",
            "Requirement already satisfied: pandocfilters>=1.4.1 in /usr/local/lib/python3.7/dist-packages (from nbconvert->jupyter->leabra-psyneulink<=0.3.2->psyneulink) (1.4.3)\n",
            "Requirement already satisfied: testpath in /usr/local/lib/python3.7/dist-packages (from nbconvert->jupyter->leabra-psyneulink<=0.3.2->psyneulink) (0.4.4)\n",
            "Requirement already satisfied: terminado>=0.8.1 in /usr/local/lib/python3.7/dist-packages (from notebook->jupyter->leabra-psyneulink<=0.3.2->psyneulink) (0.9.2)\n",
            "Requirement already satisfied: Send2Trash in /usr/local/lib/python3.7/dist-packages (from notebook->jupyter->leabra-psyneulink<=0.3.2->psyneulink) (1.5.0)\n",
            "Requirement already satisfied: qtpy in /usr/local/lib/python3.7/dist-packages (from qtconsole->jupyter->leabra-psyneulink<=0.3.2->psyneulink) (1.9.0)\n",
            "Requirement already satisfied: MarkupSafe>=0.23 in /usr/local/lib/python3.7/dist-packages (from Jinja2>=2.7->bokeh>=0.12.6->leabra-psyneulink<=0.3.2->psyneulink) (1.1.1)\n",
            "Requirement already satisfied: jsonschema!=2.5.0,>=2.4 in /usr/local/lib/python3.7/dist-packages (from nbformat>=4.2.0->ipywidgets>=7.0->leabra-psyneulink<=0.3.2->psyneulink) (2.6.0)\n",
            "Requirement already satisfied: simplegeneric>0.8 in /usr/local/lib/python3.7/dist-packages (from ipython>=4.0.0; python_version >= \"3.3\"->ipywidgets>=7.0->leabra-psyneulink<=0.3.2->psyneulink) (0.8.1)\n",
            "Requirement already satisfied: pexpect; sys_platform != \"win32\" in /usr/local/lib/python3.7/dist-packages (from ipython>=4.0.0; python_version >= \"3.3\"->ipywidgets>=7.0->leabra-psyneulink<=0.3.2->psyneulink) (4.8.0)\n",
            "Requirement already satisfied: pickleshare in /usr/local/lib/python3.7/dist-packages (from ipython>=4.0.0; python_version >= \"3.3\"->ipywidgets>=7.0->leabra-psyneulink<=0.3.2->psyneulink) (0.7.5)\n",
            "Requirement already satisfied: psutil>=5.0 in /usr/local/lib/python3.7/dist-packages (from distributed>=2.0; extra == \"distributed\"->dask[distributed]<3.0.0,>=1.0.0->elfi<0.7.8->psyneulink) (5.4.8)\n",
            "Requirement already satisfied: msgpack>=0.6.0 in /usr/local/lib/python3.7/dist-packages (from distributed>=2.0; extra == \"distributed\"->dask[distributed]<3.0.0,>=1.0.0->elfi<0.7.8->psyneulink) (1.0.2)\n",
            "Requirement already satisfied: tblib>=1.6.0 in /usr/local/lib/python3.7/dist-packages (from distributed>=2.0; extra == \"distributed\"->dask[distributed]<3.0.0,>=1.0.0->elfi<0.7.8->psyneulink) (1.7.0)\n",
            "Requirement already satisfied: sortedcontainers!=2.0.0,!=2.0.1 in /usr/local/lib/python3.7/dist-packages (from distributed>=2.0; extra == \"distributed\"->dask[distributed]<3.0.0,>=1.0.0->elfi<0.7.8->psyneulink) (2.3.0)\n",
            "Requirement already satisfied: cloudpickle>=1.5.0 in /usr/local/lib/python3.7/dist-packages (from distributed>=2.0; extra == \"distributed\"->dask[distributed]<3.0.0,>=1.0.0->elfi<0.7.8->psyneulink) (1.6.0)\n",
            "Requirement already satisfied: zict>=0.1.3 in /usr/local/lib/python3.7/dist-packages (from distributed>=2.0; extra == \"distributed\"->dask[distributed]<3.0.0,>=1.0.0->elfi<0.7.8->psyneulink) (2.0.0)\n",
            "Requirement already satisfied: click>=6.6 in /usr/local/lib/python3.7/dist-packages (from distributed>=2.0; extra == \"distributed\"->dask[distributed]<3.0.0,>=1.0.0->elfi<0.7.8->psyneulink) (7.1.2)\n",
            "Requirement already satisfied: wcwidth in /usr/local/lib/python3.7/dist-packages (from prompt-toolkit<2.0.0,>=1.0.0->jupyter-console->jupyter->leabra-psyneulink<=0.3.2->psyneulink) (0.2.5)\n",
            "Requirement already satisfied: webencodings in /usr/local/lib/python3.7/dist-packages (from bleach->nbconvert->jupyter->leabra-psyneulink<=0.3.2->psyneulink) (0.5.1)\n",
            "Requirement already satisfied: ptyprocess; os_name != \"nt\" in /usr/local/lib/python3.7/dist-packages (from terminado>=0.8.1->notebook->jupyter->leabra-psyneulink<=0.3.2->psyneulink) (0.7.0)\n",
            "Requirement already satisfied: heapdict in /usr/local/lib/python3.7/dist-packages (from zict>=0.1.3->distributed>=2.0; extra == \"distributed\"->dask[distributed]<3.0.0,>=1.0.0->elfi<0.7.8->psyneulink) (1.0.1)\n"
          ],
          "name": "stdout"
        }
      ]
    },
    {
      "cell_type": "code",
      "metadata": {
        "colab": {
          "base_uri": "https://localhost:8080/",
          "height": 124
        },
        "id": "3FotNWlQ6nsi",
        "outputId": "764509f7-5df5-4561-8908-73819af47a66"
      },
      "source": [
        "\n",
        "import numpy as np\n",
        "from numpy import linalg as la\n",
        "import matplotlib.pyplot as plt\n",
        "import matplotlib.axes as ax\n",
        "%matplotlib inline\n",
        "from mpl_toolkits import mplot3d\n",
        "import psyneulink as pnl\n",
        "\n",
        "# This couple of lines sets our color palette\n",
        "import seaborn as sb\n",
        "sb.palplot(sb.color_palette(\"RdBu_r\", 7))\n",
        "sb.set_palette(\"RdBu_r\",7)\n",
        "sb.set_style(\"whitegrid\")\n",
        "\n",
        "print(\"Imports Successful\")\n",
        "print(\"This will be our color palette\")"
      ],
      "execution_count": 2,
      "outputs": [
        {
          "output_type": "stream",
          "text": [
            "Imports Successful\n",
            "This will be our color palette\n"
          ],
          "name": "stdout"
        },
        {
          "output_type": "display_data",
          "data": {
            "image/png": "[encoded data removed]",
            "text/plain": [
              "<Figure size 504x72 with 1 Axes>"
            ]
          },
          "metadata": {
            "tags": [],
            "needs_background": "light"
          }
        }
      ]
    },
    {
      "cell_type": "markdown",
      "metadata": {
        "id": "CDXT97uR46xV"
      },
      "source": [
        "# Part 1: Mathematics Primer for PsyNeuLink\n",
        "\n",
        "Computational modeling in psychology and cognitive neuroscience uses a variety of math.  This primer reviews some useful concepts and equations, including vectors, matrices, derivatives, and logistic functions.  \n",
        "\n",
        "Here are some additional resources overlapping and going beyond what is covered here:  \n",
        "\n",
        "[Linear Algeabra](https://www.deeplearningbook.org/contents/linear_algebra.html)\n",
        "\n",
        "[Deep Learning Cheatsheet](https://stanford.edu/~shervine/teaching/cs-229/cheatsheet-deep-learning)"
      ]
    },
    {
      "cell_type": "markdown",
      "metadata": {
        "id": "yn2wUFhqW1HF"
      },
      "source": [
        "Neural networks are inspired by real neurons, simplified to model two key properties: firing and connectivity.  Artificial neurons can be active or inactive and connected to other artificial neurons by weights.  Each neuron receives a set of inputs and applies an operation (typically non-linear) to produce a single output.  That output is then sent via weighted connections to other neurons.  Neurons are usually grouped into layers.  Layers transform inputs using weights and biases, which can be pre-set or learned through multiple iterations and used to extract qualitatively meaningful features of the raw data.  \n",
        "  \n",
        "In order to understand how artificial neurons and neural networks work, we need to understand the math that they use."
      ]
    },
    {
      "cell_type": "markdown",
      "metadata": {
        "id": "dWmamCGa5VbP"
      },
      "source": [
        "\n",
        "\n",
        "\n",
        "\n",
        "# Scalars, Vectors, & Matrices\n",
        "\n",
        "A **scalar** is a number used to quantify magnitude (e.g. temperature), while a **vector** is a number used to quantify magnitude and direction (e.g. wind).  \n",
        "\n",
        "Vectors are typically formatted as a list of numbers with each number corresponding to one direction.  Familiar Cartesian coordinates have 2 dimensions, X & Y, and a vector in Cartesian coordinates is 1x2, a one dimensional list with two numbers.   For example, south-north is the Y axis and west-east is the X axis.  The vector 3, 4 indicates wind moving both 3 mph north and 4 mph west, but the combination of these components is a vector of wind moving 5 mph northwest (thanks to the pythagorean theorem, a^2 + b^2 = c^2).  The magnitude is the distance from the origin 0,0, in this case 5.  The vector itself is one dimensional and can be depicted as an arrow starting at 0,0 and extending to 3,4 in these Cartesian coordinates.    \n",
        "<br>\n",
        "(***Note:*** A number with magnitude AND 2 or more directions is called a **tensor**.  One way to think of a basic tensor is pinching and pulling a rubber sheet toward you: there is a magnitude of force pulling back toward the initial position (you could use this to launch a pebble like a slingshot) and there is also a magnidue of tension in the rubber sheet itself that will contract back when you let go.  Tensors are used to describe gravity in general relativity.   \n",
        "<br>\n",
        "Vectors are typically formatted as one-dimensional data structures or lists, 1xN, with N as the length of the list.  A **matrix** is a two dimensional, NxN, data structures. \n",
        "\n",
        "\n",
        "# Vector & Matrix Operations\n",
        "\n",
        "In this section, we will briefly discuss matrix and vector operations. If you are already familiar with them, feel free to skip or skim as you see fit. \n",
        "  \n",
        "Like scalars, vectors and matrices of numbers can be added and multiplied. However, these operations differ from their scalar counterparts, and are heavily dependent on dimensionality.  Matrix and vector dimensions are given as (r x c) where r is the number of rows, and c is the number of columns.  Individual vectors are 1 dimensional and notated as a single row (1 x c) or as a single column (r x 1).  \n",
        "\n",
        "For example:  \n",
        "  \n",
        "\\begin{equation}\n",
        "a =\n",
        "\\left[\n",
        "\\begin{matrix}\n",
        "a_{1} & a_{2} & a_{3}\n",
        "\\end{matrix}\n",
        "\\right]\n",
        ";  b =\n",
        "\\left[\n",
        "\\begin{matrix}\n",
        "b_{1} \\\\ b_{2} \\\\ b_{3}\n",
        "\\end{matrix}\n",
        "\\right]\n",
        "; C =\n",
        "\\left[\n",
        "\\begin{matrix}\n",
        "C_{11} & C_{12} & C_{13} \\\\ C_{21} & C_{22} & C_{23} \\\\ C_{31} & C_{32} & C_{33}\n",
        "\\end{matrix}\n",
        "\\right]\n",
        "\\end{equation}\n",
        "  \n",
        "  \n",
        "Vector $a$ Is a [1x3] vector, called a row vector. Vector $b$ is a [3x1] vector, called a column vector. C is a 3x3 matrix. The components of a matrix C are denoted Cij , where i is the row index and j is the column index, so ij gives the position of the component in the matrix.     \n",
        "  \n",
        "When performing operations on vectors, it is easiest to represent a vector as a column vector, and a corresponding row vector as its “transpose”. \n",
        "  \n",
        "\\begin{equation}\n",
        "a=\n",
        "\\left[\n",
        "\\begin{matrix}\n",
        "a_{1} \\\\ a_{2} \\\\ a_{3}\n",
        "\\end{matrix}\n",
        "\\right]\n",
        "; a^T=\n",
        "\\left[\n",
        "\\begin{matrix}\n",
        "a_{1} & a_{2} & a_{3}\n",
        "\\end{matrix}\n",
        "\\right]\n",
        "\\end{equation}  \n",
        "  \n",
        "Matrices of the same dimension can be added component-wise, and the result is a new matrix of the same dimension.  \n",
        "  \n",
        "\\begin{equation}\n",
        "\\left[\n",
        "\\begin{matrix}\n",
        "a_{1} \\\\ a_{2} \\\\ a_{3}\n",
        "\\end{matrix}\n",
        "\\right]\n",
        "+\n",
        "\\left[\n",
        "\\begin{matrix}\n",
        "b_{1} \\\\ b_{2} \\\\ b_{3}\n",
        "\\end{matrix}\n",
        "\\right]\n",
        "=\n",
        "\\left[\n",
        "\\begin{matrix}\n",
        "a_{1} + b_{1}\\\\ a_{2} + b_{2} \\\\ a_{3} + b_{3}\n",
        "\\end{matrix}\n",
        "\\right]\n",
        "\\end{equation}  \n",
        "  \n",
        "Matrix subtraction works precisely the same way. A matrix can also be multiplied by a scalar by multiplying every component of a matrix by that scalar.  \n",
        "  \n",
        "\\begin{equation}\n",
        "\\alpha \\left[\n",
        "\\begin{matrix}\n",
        "a_{1} \\\\ a_{2} \\\\ a_{3}\n",
        "\\end{matrix}\n",
        "\\right]\n",
        "=\n",
        "\\left[\n",
        "\\begin{matrix}\n",
        "\\alpha a_{1} \\\\ \\alpha a_{2} \\\\ \\alpha a_{3}\n",
        "\\end{matrix}\n",
        "\\right]\n",
        "\\end{equation}\n",
        "  \n",
        "However, there are multiple types of vector muliplication. Today, we will only treat one type of vector multiplication: the “dot product”, or “inner product”.  \n",
        "  \n",
        "A dot product is the sum of component-wise multiplication of vectors. To perform it, we first multiply each component of the first vector by its corresponding component of the second vector, then we sum the resulting products. The result of a dot product is a scalar.  \n",
        "  \n",
        "\\begin{equation}\n",
        "c =\n",
        "\\sum\\limits_{i} a_{i} b_{i}\n",
        "\\end{equation}  \n",
        "    \n",
        "In vector notation, the dot product can be written as follows  \n",
        "  \n",
        "\\begin{equation}\n",
        "b \\cdot a = b^T a = \n",
        "\\left[\n",
        "\\begin{matrix}\n",
        "b_{1} & b_{2} & b_{3}\n",
        "\\end{matrix}\n",
        "\\right]\n",
        "\\left[\n",
        "\\begin{matrix}\n",
        "a_{1} \\\\ a_{2} \\\\ a_{3}\n",
        "\\end{matrix}\n",
        "\\right]\n",
        "=a_{1}b_{1} + a_{2}b_{2} + a_{3}b_{3}  \n",
        "=c\n",
        "\\end{equation}  \n",
        "  \n",
        "Note that the product only works if its “inner dimensions”, the number of columns of b and the number of rows of a, are the same.\n",
        "\n",
        "---\n",
        "## Exercise 1: \n",
        "**What happens if we try to compute a dot product from vectors whose inner dimensions are different?  (Write some code in Python that tries to compute the dot product from vectors with different inner dimensions.  Report and interpret the error.)**  ---\n",
        "\n"
      ]
    },
    {
      "cell_type": "code",
      "metadata": {
        "id": "2P6f8qcg5ofH"
      },
      "source": [
        ""
      ],
      "execution_count": 2,
      "outputs": []
    },
    {
      "cell_type": "markdown",
      "metadata": {
        "id": "SrLEtdPZ5d-f"
      },
      "source": [
        "The second notation (showing the row and column) is especially useful when considering matrix multiplication. In the sciences, it is convenient to think of matrices as collections of numbers. However, it is important to note that in mathematics, matrices are data constructs, which can be comprised of numbers or symbols, and their primary operations are governed by their dimension.  \n",
        "  \n",
        "If we wish to multiply a single vector (x) by a set of vectors {A}, rather than doing so individually, we can form the vectors in A into a matrix (which we will also call A), by storing their transposes in the rows of A. Then, we can sequentially compute the dot product of each vector in A with x, and store their results in a new vector, y, which will have the same dimensions as x.  \n",
        "  \n",
        "For example, let there be a set of two vectors \n",
        "\\begin{equation}\n",
        "\\overrightarrow{a_{1}}=\n",
        "\\left[\n",
        "\\begin{matrix}\n",
        "a_{11} \\\\ a_{21} \\\\ a_{31}\n",
        "\\end{matrix}\n",
        "\\right]\n",
        "\\end{equation}\n",
        "\n",
        "and its transpose \n",
        "\\begin{equation}\n",
        "\\overrightarrow{a_{1}}^T=\n",
        "\\left[\n",
        "\\begin{matrix}\n",
        "a_{11} & a_{12} & a_{13}\n",
        "\\end{matrix}\n",
        "\\right]\n",
        "\\end{equation}\n",
        "\n",
        ".\n",
        "\n",
        "$ \\overrightarrow{a_{2}} $ is similar to $ \\overrightarrow{a_{1}}$ .  \n",
        "  \n",
        "Now, let A be\n",
        "\n",
        "\\begin{equation}\n",
        "A = \n",
        "\\left[\n",
        "\\begin{matrix}\n",
        "\\overrightarrow{a_{1}}^T \\\\ \\overrightarrow{a_{2}}^T\n",
        "\\end{matrix}\n",
        "\\right]\n",
        "=\n",
        "\\left[\n",
        "\\begin{matrix}\n",
        "a_{11} & a_{12} & a_{13} \\\\ a_{21} & a_{22} & a_{23}\n",
        "\\end{matrix}\n",
        "\\right]\n",
        "\\end{equation}  \n",
        "  \n",
        "Then the product Ax is  \n",
        "  \n",
        "\\begin{equation}\n",
        "Ax = \n",
        "\\left[\n",
        "\\begin{matrix}\n",
        "a_{11} & a_{12} & a_{13} \\\\ a_{21} & a_{22} & a_{23}\n",
        "\\end{matrix}\n",
        "\\right]\n",
        "\\left[\n",
        "\\begin{matrix}\n",
        "x_{1}\\\\x_{2}\\\\x_{3}\n",
        "\\end{matrix}\n",
        "\\right]\n",
        "=\n",
        "\\left[\n",
        "\\begin{matrix}\n",
        "\\overrightarrow{a_{1}} \\cdot x \\\\ \\overrightarrow{a_{2}} \\cdot x \\\\ \\overrightarrow{a_{3}} \\cdot x\n",
        "\\end{matrix}\n",
        "\\right]\n",
        "=\n",
        "\\left[\n",
        "\\begin{matrix}\n",
        "y_{1} \\\\ y_{2} \\\\ y_{3}\n",
        "\\end{matrix}\n",
        "\\right]\n",
        "=\n",
        "y\n",
        "\\end{equation}  \n",
        "    \n",
        "Matrix multiplication is what we use if we want to multiply a set of vectors ${B}$ by the vectors in $A$, we can perform a similar operation as before. We store the vectors in ${B}$ in the columns of a matrix (also called $B$). Then, we compute the dot product of each vector in the columns of $B$ with each vector in the rows of $A$. We store the results, as we did before, in a new set of column vectors, a matrix $C$. $C$ will have the “outer dimensions” of $A$ and $B$ (the same number of rows as $A$ and the same number of columns as $B$).  \n",
        "  \n",
        "For example, let there be two vectors b such that $ \\overrightarrow{b_{1}} =\n",
        "\\left[\n",
        "\\begin{matrix}\n",
        "b_{11} \\\\ b_{21} \\\\ b_{31}\n",
        "\\end{matrix}\n",
        "\\right] $ and $ \\overrightarrow{b_{2}} $ be similar. Then B is given by  \n",
        "  \n",
        "\\begin{equation}\n",
        "B =\n",
        "\\left[\n",
        "\\begin{matrix}\n",
        "b_{11} & b_{12} \\\\ b_{21} & b_{22}  \\\\ b_{31} & b_{32}\n",
        "\\end{matrix}\n",
        "\\right]\n",
        "\\end{equation}  \n",
        "  \n",
        "\\begin{equation}\n",
        "AB =\n",
        "\\left[\n",
        "\\begin{matrix}\n",
        "a_{11} & a_{12} & a_{13} \\\\ a_{21} & a_{22} & a_{23}\n",
        "\\end{matrix}\n",
        "\\right]\n",
        "\\left[\n",
        "\\begin{matrix}\n",
        "b_{11} & b_{12} \\\\ b_{21} & b_{22}  \\\\ b_{31} & b_{32}\n",
        "\\end{matrix}\n",
        "\\right]\n",
        "=\n",
        "\\left[\n",
        "\\begin{matrix}\n",
        "\\overrightarrow{a_{1}} \\cdot \\overrightarrow{b_{1}} & \\overrightarrow{a_{1}} \\cdot \\overrightarrow{b_{2}} \\\\ \\overrightarrow{a_{2}} \\cdot \\overrightarrow{b_{1}} & \\overrightarrow{a_{2}} \\cdot \\overrightarrow{b_{2}}\n",
        "\\end{matrix}\n",
        "\\right]\n",
        "=\n",
        "\\left[\n",
        "\\begin{matrix}\n",
        "c_{11} & c_{12} \\\\ c_{21} & c_{22}\n",
        "\\end{matrix}\n",
        "\\right]\n",
        "=\n",
        "C\n",
        "\\end{equation}  \n",
        "  \n",
        "The components of C are therefore given by $ c_{ij} = a_{i} \\cdot b_{j} $  \n",
        "  \n",
        "In this case, the product BA also exists. However, it is very important to understand that matrix multiplication does not commute: $ AB \\neq BA.$\n",
        "\n",
        "---\n",
        "\n",
        "## Exercise 2:\n",
        "**Let D be a 4x2 matrix and E be a 2x7 matrix, what are the dimensions of DE? What are the dimensions of ED?**\n",
        "\n",
        "---\n"
      ]
    },
    {
      "cell_type": "code",
      "metadata": {
        "id": "WRtHpRH35bJA"
      },
      "source": [
        ""
      ],
      "execution_count": 2,
      "outputs": []
    },
    {
      "cell_type": "markdown",
      "metadata": {
        "id": "M1-DvNcd5yfE"
      },
      "source": [
        "## Logistic Function\n",
        "\n",
        "The logistic function is useful because it is bounded between 0 and 1, and determined by a few basic parameters: gain, bias, & offset.   Plotting a basic logistic function looks like this:  "
      ]
    },
    {
      "cell_type": "code",
      "metadata": {
        "colab": {
          "base_uri": "https://localhost:8080/",
          "height": 265
        },
        "id": "SHsf_4Fl5zjG",
        "outputId": "49b028ac-858b-4215-ccf7-68950f4cdc4a"
      },
      "source": [
        "logistic_transfer_demo = pnl.TransferMechanism(function=pnl.Logistic(gain=1, bias=0, offset=0))\n",
        "logistic_transfer_demo.plot()"
      ],
      "execution_count": 3,
      "outputs": [
        {
          "output_type": "display_data",
          "data": {
            "image/png": "[encoded data removed]",
            "text/plain": [
              "<Figure size 432x288 with 1 Axes>"
            ]
          },
          "metadata": {
            "tags": []
          }
        }
      ]
    },
    {
      "cell_type": "markdown",
      "metadata": {
        "id": "QD8xllgN52hT"
      },
      "source": [
        "In the cell below you can plug a single number into this function and get an output value.  Your input corresponds to a point on the x axis, and the output is the corresponding y value (height of the point on the curve above the x you specified).  "
      ]
    },
    {
      "cell_type": "code",
      "metadata": {
        "colab": {
          "base_uri": "https://localhost:8080/"
        },
        "id": "GpO7HVPW59ns",
        "outputId": "335d24e5-6a48-4838-8c54-209c814d5319"
      },
      "source": [
        "logistic_transfer_demo.execute([-2])"
      ],
      "execution_count": 4,
      "outputs": [
        {
          "output_type": "execute_result",
          "data": {
            "text/plain": [
              "array([[0.11920292]])"
            ]
          },
          "metadata": {
            "tags": []
          },
          "execution_count": 4
        }
      ]
    },
    {
      "cell_type": "markdown",
      "metadata": {
        "id": "Hq2Ylh4z6APi"
      },
      "source": [
        "### Logistic Step Function\n",
        "Gain determines how steep the central portion of the S curve is, with higher values being steeper.  Bias shifts the curve left or right.  You can turn the logistic function effectively into a step function that works as a threshhold by increasing gain.  The step in the step function (where it crosses through 0.5 on the Y axis) is located on the X axis at (offset/gain) + bias. "
      ]
    },
    {
      "cell_type": "code",
      "metadata": {
        "colab": {
          "base_uri": "https://localhost:8080/",
          "height": 265
        },
        "id": "sxyZVkzX6EsQ",
        "outputId": "168937be-d4ab-49e1-ea10-3845b2ebb286"
      },
      "source": [
        "logistic_transfer_step = pnl.TransferMechanism(function=pnl.Logistic(gain=5,offset=10, bias=0))\n",
        "logistic_transfer_step.plot()"
      ],
      "execution_count": 5,
      "outputs": [
        {
          "output_type": "display_data",
          "data": {
            "image/png": "[encoded data removed]",
            "text/plain": [
              "<Figure size 432x288 with 1 Axes>"
            ]
          },
          "metadata": {
            "tags": []
          }
        }
      ]
    },
    {
      "cell_type": "markdown",
      "metadata": {
        "id": "DkCV4lFX6H4T"
      },
      "source": [
        "Negative values of gain mirror reverse the S curve accross the vertical axis, centered at the x value of (offset/gain)+bias.  Below notice that offset/gain is -2 (10/-5), and at an X value of -2 the Y value is 0.5.  "
      ]
    },
    {
      "cell_type": "code",
      "metadata": {
        "colab": {
          "base_uri": "https://localhost:8080/",
          "height": 265
        },
        "id": "ni_eNmHn6JQ5",
        "outputId": "4b8bc731-8816-438f-d79e-59359468befe"
      },
      "source": [
        "logistic_transfer_mirror = pnl.TransferMechanism(function=pnl.Logistic(gain=-5, bias=0, offset=0))\n",
        "logistic_transfer_mirror.plot()"
      ],
      "execution_count": 6,
      "outputs": [
        {
          "output_type": "display_data",
          "data": {
            "image/png": "[encoded data removed]",
            "text/plain": [
              "<Figure size 432x288 with 1 Axes>"
            ]
          },
          "metadata": {
            "tags": []
          }
        }
      ]
    },
    {
      "cell_type": "markdown",
      "metadata": {
        "id": "KnnBBlGz6SYk"
      },
      "source": [
        "### Gain, Offset, & Bias\n",
        "\n",
        "Imagine you have a neuron that has to decide whether to fire or not based upon its own parameters and some input.  Let's say this artificial neuron is a greater-than-0-detector for its input -- if the input is greater than 0 it fires, otherwise it will not fire.  Now if the neuron receives input [4] it will fire.  If it receives [-3] it will not fire.  In this simplified scenario, gain is a parameter that multiplies input by some value (e.g. multiply everyting by 2, or by 0.15, or whatever you choose), and bias is a parameter that changes the threshold (e.g. bias -2 shifts the threshold down from 0 to -2, turning the neuron into a greater than -2 detector, while bias +2 shifts the threshold up to 2).  \n",
        "\n",
        "The actual logistic function is a bit more complicated than this example: within the logistic function bias and gain are parameters in the denominator's exponent -- you don't need to know the exact equation, but one reason a logistic function is useful is that its output is bounded between 0 and 1.  \n",
        "\n",
        "Try changing the values of bias, offset, and gain in the two cells above, and see how it impacts the graph (execute the cell two above and then the cell one above to see the effect after you change these parameters).  The default values are gain = 1, offset = 0, and bias = 0.  \n",
        "\n",
        "You should notice two propoerties of the logistic function: 1) the steepness of the S-shaped curve [gain], and 2) where the midpoint y-value of 0.5 aligns with the x axis [bias].  **Increasing gain above 1 will make the curve steeper.  Decreasing gain to a fraction between 0 and 1 will make the curve shallower.  Increasing or decreasing bias will shift the curve right or left.  If you want to shift the curve proportional to gain, offset can do this, shifting the curve left or right by (offset/gain).** "
      ]
    },
    {
      "cell_type": "markdown",
      "metadata": {
        "id": "ZnTbIfUx6qoq"
      },
      "source": [
        "# Part 2: Perceptron and XOR "
      ]
    },
    {
      "cell_type": "markdown",
      "metadata": {
        "id": "nKSjdrgfW1HK"
      },
      "source": [
        "##  <a id='m0'> History of Artificial Neural Networks</a> \n",
        "\n",
        "To first approximation, activity of a neuron in the brain is determined by the integration of excitatory and inhibitory impulses received by its dendrites and passed to the cell body. If excitatory signals outweigh inhibitory signals sufficiently to pass a threshold, the neuron will fire, sending out an action potential via its axon.  \n",
        "  \n",
        "\n",
        "Artificial neurons were conceived to behave in a similar manner to real ones. Early artifical neurons were dubbed perceptrons; they received multiple binary inputs, multiplied each one by an appropriate “weight”, added them together (this should sound familiar), and produced a single binary output that depends on whether the sum passes a certain threshold.  In short, they applied a step function to the transformed input.  This is referred to as an LBF (linear basis function) activation function.  \n",
        "  \n",
        "<img src='https://drive.google.com/uc?id=1OpA3Nq2y_QqwcIxJqwCoiMQFVztYrhon'>  \n",
        "  \n",
        "If we define the threshold $ \\equiv-b $, then we can rewrite our conditional output  \n",
        "  \n",
        "\\begin{equation}\n",
        " output=\n",
        "\\begin{cases}\n",
        " 0 & if \\: w \\cdot x + b \\leq 0\n",
        "\\\\\n",
        "1  & if \\: w \\cdot x + b >  0\n",
        "\\end{cases}\n",
        "\\end{equation}  \n",
        "  \n",
        "The term $b$ is called a bias, and perceptrons are a special kind of linear classifier called a binary classifier. It is known as a binary classifier because it is assigning one of two labels (the binary output) to the inputs it receives, according to their dot product with the weights (a linear operation). The line defined by $ w \\cdot x+b=0 $ is the line that separates the classes from each other. Our “red square, blue circle” class example from earlier in the lab is an example of binarily classifiable data.  \n",
        "  \n",
        "<img src=\"https://drive.google.com/uc?id=12ChAFalPgyPvzZ9srt8LSz1bd5hcsouE\">  \n",
        "  \n",
        "In a multilayer feedforward network, artificial neurons are clustered into layers, where the output of one layer forms the input of the next. The first layer is known as the input layer, the last is the output layer, and the operational layers, where the dot products are computed, are called “hidden layers”. \n"
      ]
    },
    {
      "cell_type": "markdown",
      "metadata": {
        "id": "6fRXzsoIW1HU"
      },
      "source": [
        "Binary classification is simple but powerful. We will show this by using them to construct a set of logic gates, beginning with AND. An AND gate is a logic gate that answers the question, “are A and B both true?”. The value 1 corresponds to True, and the value 0 corresponds to False."
      ]
    },
    {
      "cell_type": "code",
      "metadata": {
        "colab": {
          "base_uri": "https://localhost:8080/",
          "height": 258
        },
        "id": "8Wz4KzOTW1HV",
        "outputId": "5adb1dc0-3e69-46cc-8e08-51b3871962eb"
      },
      "source": [
        "#This generates a training set of all possible 2-piece combinations of the boolean values True (1) and False (0).\n",
        "#These combinations will be our \"examples\" that we train our perceptrons on. They are stored in the columns of X.\n",
        "\n",
        "Bool=np.array([[1,1],[1,0],[0,1],[0,0]])\n",
        "Bool=Bool.T\n",
        "n_combos=np.shape(Bool)[1]\n",
        "ub=np.amax(np.amax(abs(Bool)))\n",
        "lb=-ub\n",
        "\n",
        "#These are the \"labels\", the correct return values for our perceptron. When we train our network, we want it to learn\n",
        "#what values of [w] and [b] to apply to the examples to that the function returns the correct label for every\n",
        "#example.\n",
        "AND_labels=np.array([1,0,0,0])\n",
        "AND_labels.shape=((1,n_combos))\n",
        "\n",
        "\n",
        "plt.figure()\n",
        "plt.title('Boolean Matrix')\n",
        "plt.xticks(np.arange(0,n_combos))\n",
        "plt.yticks(np.arange(0,2))\n",
        "plt.imshow(Bool,cmap='RdBu_r',vmin=lb,vmax=ub)\n",
        "plt.colorbar()\n",
        "plt.show()\n"
      ],
      "execution_count": 7,
      "outputs": [
        {
          "output_type": "display_data",
          "data": {
            "image/png": "[encoded data removed]",
            "text/plain": [
              "<Figure size 432x288 with 2 Axes>"
            ]
          },
          "metadata": {
            "tags": []
          }
        }
      ]
    },
    {
      "cell_type": "markdown",
      "metadata": {
        "id": "zlRpO-4CW1Hb"
      },
      "source": [
        "For a simple gate like this, we can easily choose our weights and bias manually to correctly classify each example. However, However, we dould rather the perceptron learn the weights itself. We can train it using supervised learning by showing it examples of the data with the appropriate labels (a truth table). Random weights will generate a random answer, so the perceptron must change its weights when its output does not match the labels we gave it.  \n",
        "  \n",
        "For perceptrons, we use error-based learning, where the weights are adjusted in the correct direction, based on the size and direction of the error. This is given by the Perceptron Learning Rule, and is written mathematically as:  \n",
        "  \n",
        "\\begin{equation}\n",
        "w_{ij} \\rightarrow w_{ij}+ \\eta (desired \\ label - predicted \\ label) in_{i}\n",
        "\\end{equation}  \n",
        "  \n",
        "The positive parameter $ \\eta $ encodes the learning rate."
      ]
    },
    {
      "cell_type": "markdown",
      "metadata": {
        "id": "A0oL81XWW1Hb"
      },
      "source": [
        "##  <a id='m1'>Learning the AND Gate</a> \n",
        "\n",
        "\n",
        "Use the perceptron learning rule and the provided skeleton codeto create an AND gate.  Choose your learning rate to be 0.02.  Because our training set is very small, we may need to feed it to the perceptron multiple times. Construct your program to continually run the perceptron until its accuracy is perfect. "
      ]
    },
    {
      "cell_type": "code",
      "metadata": {
        "colab": {
          "base_uri": "https://localhost:8080/",
          "height": 295
        },
        "id": "QKPCOAloW1Hc",
        "outputId": "248ff9ab-a7b8-454d-a493-0da8b1e30ae8"
      },
      "source": [
        "#Begin by initializing the weights to random values, using np.random .\n",
        "w=np.random.rand(1,2)*10\n",
        "b=-1\n",
        "eta=np.array([.3,.3])\n",
        "accuracy=0\n",
        "loop_count=0\n",
        "acc_vec=[]\n",
        "\n",
        "while accuracy != 100:\n",
        "    accuracy=0\n",
        "    for i in range (np.shape(Bool)[1]):\n",
        "        if w@Bool[:,i]+b<=0:\n",
        "            predicted_label= 0\n",
        "        else:\n",
        "            predicted_label= 1\n",
        "        if predicted_label==AND_labels[:,i]:\n",
        "            accuracy=accuracy+1\n",
        "        else:\n",
        "            diff=(AND_labels[:,i]-predicted_label)\n",
        "            w=w+eta*diff*(Bool[:,i].T)\n",
        "    accuracy=int((accuracy/n_combos)*100)\n",
        "    acc_vec=np.append(acc_vec,accuracy)\n",
        "    loop_count=loop_count+1\n",
        "lc=loop_count\n",
        "\n",
        "plt.figure()\n",
        "plt.plot(acc_vec)\n",
        "plt.title('Accuracy V. Loop Number')\n",
        "plt.xlabel('Loop Number')\n",
        "plt.ylabel('Accuracy')\n",
        "plt.xticks(np.arange(0,int(lc)))\n",
        "plt.yticks([0,25,50,75,100])\n",
        "plt.show()\n"
      ],
      "execution_count": 8,
      "outputs": [
        {
          "output_type": "display_data",
          "data": {
            "image/png": "[encoded data removed]",
            "text/plain": [
              "<Figure size 432x288 with 1 Axes>"
            ]
          },
          "metadata": {
            "tags": []
          }
        }
      ]
    },
    {
      "cell_type": "markdown",
      "metadata": {
        "id": "3xZmuK5_29S-"
      },
      "source": [
        "---\n",
        "##  <a id='e3'>Exercise 3:  Learning the OR Gate</a> \n",
        "**An OR gate should classify [0,0] as False, and [0,1], [1,0], and [1,1] as True.  Modify the code above in a new cell that implements a perceptron that learns the OR gate classificiation.**  \n",
        "\n",
        "---"
      ]
    },
    {
      "cell_type": "code",
      "metadata": {
        "id": "PWbE3c-nFhKx"
      },
      "source": [
        ""
      ],
      "execution_count": 8,
      "outputs": []
    },
    {
      "cell_type": "markdown",
      "metadata": {
        "id": "4THR26pgW1He"
      },
      "source": [
        "This method works well for a single layer of perceptrons. Now, consider multiple layers of perceptrons, each operating linearly, but producing a step function output. When they produce an incorrect result, how do we know which layer is responsible for the mistake and what step size would be useful to correct it?\n",
        "  \n",
        "Because of their binary output, linearly updating weights of perceptrons in a multilayer network produces unpredictable and problematic results. A natural solution is to replace the step function with a function that more gradually interpolates between 0 and 1. A good choice here is the logistic function, which we have encountered in the previous section. It is possible to generalize the Perceptron Learning Rule to this case using calculus; the details are presented in the Appendix at the end of this notebook. We suggest that you skim the Appendix now, and then read it more carefully after you have finished this lab. Once you understand this derivation, you will be in good shape for when we discuss the Backpropagation algorithm in the next lab."
      ]
    },
    {
      "cell_type": "markdown",
      "metadata": {
        "id": "oQy5gfexW1Ho"
      },
      "source": [
        "##  <a id='m2'> PNL Two Layer Network</a> \n",
        "\n",
        "It is reasonably straightforward to create a two layer sigmoid net in numpy. However, doing so in PNL is almost trivial. We will build one for our logic gates now. \n",
        "\n",
        "Explore the effectiveness of this 2 layer network by running it at different learning rates, for different numbers of trials, and on different label sets. \n",
        "\n",
        "Which sets does it learn effectively? Which sets doesn't it?\n"
      ]
    },
    {
      "cell_type": "code",
      "metadata": {
        "colab": {
          "base_uri": "https://localhost:8080/",
          "height": 680
        },
        "id": "br92nlfkW1Ho",
        "outputId": "b1c482bd-ed4b-4c54-9524-9fbd05d33591"
      },
      "source": [
        "trials=10000\n",
        "#to give the network extra flexibility, we include an extra dimension in the input whose value is always equal to 1\n",
        "#another way to get this same flexibility would be to allow our linear layers to have non-zero bias values \n",
        "Bool_bias=[[1,1,1],[1,0,1],[0,1,1],[0,0,1]]\n",
        "bool_length=np.shape(Bool_bias)[1]\n",
        "\n",
        "#Note that our new set of inputs, Bool_bias, has a third term appended to each input. This is a bias.\n",
        "#PNL is capable of training biases, but when using the method we will be incorporating for the\n",
        "#following exercises, the biases implemented by PNL will not be trained.\n",
        "#To resolve that issue, we simply implement them here.\n",
        "\n",
        "AND_labels_pnl=[[1],[0],[0],[0]]\n",
        "OR_labels_pnl= [[1],[1],[1],[0]]\n",
        "XOR_labels_pnl=[[0],[1],[1],[0]]\n",
        "rat=int(trials/n_combos)\n",
        "\n",
        "#Specify which label set you would like to use.\n",
        "labels=AND_labels_pnl\n",
        "\n",
        "#Creating a 2 layer net in PNL:\n",
        "#First, we create the input layer. This layer is simply a Transfer Mechanism that brings the examples into the network\n",
        "#We do not have to specify a function (it defaults to linear, slope = 1, intercept = 0), \n",
        "#but we do need to specify the size, which will be the size of our input array.\n",
        "\n",
        "in_layer=pnl.TransferMechanism(size=bool_length,function=pnl.Linear)\n",
        "\n",
        "#Next, we specify our output layer. This is where we do our sigmoid transformation by simply applying the Logistic function.\n",
        "#The size we specify for this layer is the number of output nodes we want. In this case, we want the network to return a scalar\n",
        "#for each example (either a 1 or a zero), so our size is 1\n",
        "\n",
        "out_layer=pnl.TransferMechanism(size=1,function=pnl.Logistic)\n",
        "\n",
        "#Finally we create a projection mapping from input to output. We will initialize with random weights.\n",
        "\n",
        "weights = pnl.MappingProjection(name='in_to_out',\n",
        "                            matrix=np.random.rand(bool_length,1),\n",
        "                            sender=in_layer,\n",
        "                            receiver=out_layer)\n",
        "\n",
        "\n",
        "#Now, we will put them together into an Autodiff Composition. These compositions are a faster option\n",
        "# for backpropagation learning that integrate PNL and pytorch.\n",
        "\n",
        "logic2L = pnl.AutodiffComposition(\n",
        "    learning_rate=10\n",
        "  )\n",
        "\n",
        "#We will now add our layers and projection map into our composition\n",
        "logic2L.add_node(in_layer)\n",
        "logic2L.add_node(out_layer)\n",
        "\n",
        "out_layer.log.set_log_conditions(pnl.VALUE)\n",
        "\n",
        "logic2L.add_projection(sender=in_layer, projection=weights, receiver=out_layer)\n",
        "\n",
        "\n",
        "# To learn our desired gates, we train the autodiff composition by giving it an input dictionary and running it\n",
        "input_dict = {\"inputs\":{in_layer: Bool_bias},\"targets\":{out_layer: labels},\"epochs\":50}\n",
        "result = logic2L.learn(inputs=input_dict)\n",
        "\n",
        "# Here, we acquire a log of the losses over time so we can see how our network learned\n",
        "#This portion acquires and plots the losses\n",
        "exec_id = logic2L.default_execution_id\n",
        "losses = logic2L.parameters.losses.get(exec_id)\n",
        "\n",
        "print(\"The last loss was \", losses[-1])\n",
        "\n",
        "plt.plot(losses)\n",
        "plt.title('Losses of 2 layer net in PNL as a function of trials')\n",
        "plt.xlabel('Epoch Number')\n",
        "plt.ylabel('Loss')\n",
        "plt.show()\n",
        "\n",
        "#This portion acquires and plots the labels\n",
        "\n",
        "#the logged values of the output layer that were recorded during the training\n",
        "data=out_layer.log.nparray()[1][1][-1][1:]\n",
        "\n",
        "#psyneulink stores the logged values as a list of length 200 (50 epochs x 4 inputs per epoch)\n",
        "#we will reshape this list into an array of shape 50 x 4, so that each column represents one of the training patterns\n",
        "#and each row represents one training epoch\n",
        "num_outs=n_combos\n",
        "length=np.shape(data)[0]\n",
        "rat=int(length/num_outs)\n",
        "\n",
        "data=np.reshape(data,(rat,num_outs))\n",
        "data=np.matrix(data)\n",
        "labs_1=np.array(data[:,0])\n",
        "labs_2=np.array(data[:,1])\n",
        "labs_3=np.array(data[:,2])\n",
        "labs_4=np.array(data[:,3])\n",
        "\n",
        "plt.plot(labs_1,label='first pattern',color='red')\n",
        "plt.plot(labs_2,label='second pattern',color='blue')\n",
        "plt.plot(labs_3,label='third pattern',color='green')\n",
        "plt.plot(labs_4,label='fourth pattern',color='black')\n",
        "plt.legend()\n",
        "\n",
        "plt.title('labels 1 through 4 versus epoch number')\n",
        "plt.xlabel('Epoch Number')\n",
        "plt.ylabel('Label Value')\n",
        "plt.show()\n",
        "\n"
      ],
      "execution_count": 9,
      "outputs": [
        {
          "output_type": "stream",
          "text": [
            "/usr/local/lib/python3.7/dist-packages/psyneulink/core/globals/utilities.py:396: VisibleDeprecationWarning: Creating an ndarray from ragged nested sequences (which is a list-or-tuple of lists-or-tuples-or ndarrays with different lengths or shapes) is deprecated. If you meant to do this, you must specify 'dtype=object' when creating the ndarray\n",
            "  if reference is not None and (candidate == reference):\n",
            "/usr/local/lib/python3.7/dist-packages/psyneulink/core/globals/utilities.py:396: VisibleDeprecationWarning: Creating an ndarray from ragged nested sequences (which is a list-or-tuple of lists-or-tuples-or ndarrays with different lengths or shapes) is deprecated. If you meant to do this, you must specify 'dtype=object' when creating the ndarray\n",
            "  if reference is not None and (candidate == reference):\n"
          ],
          "name": "stderr"
        },
        {
          "output_type": "stream",
          "text": [
            "The last loss was  6.212119381773399e-10\n"
          ],
          "name": "stdout"
        },
        {
          "output_type": "display_data",
          "data": {
            "image/png": "[encoded data removed]",
            "text/plain": [
              "<Figure size 432x288 with 1 Axes>"
            ]
          },
          "metadata": {
            "tags": []
          }
        },
        {
          "output_type": "display_data",
          "data": {
            "image/png": "[encoded data removed]",
            "text/plain": [
              "<Figure size 432x288 with 1 Axes>"
            ]
          },
          "metadata": {
            "tags": []
          }
        }
      ]
    },
    {
      "cell_type": "markdown",
      "metadata": {
        "id": "TikTliayW1Hr"
      },
      "source": [
        "To understand why our 2 layer net can't effectively learn the XOR labels, it may be helpful to consider the follwing graph: \n",
        "\n"
      ]
    },
    {
      "cell_type": "code",
      "metadata": {
        "colab": {
          "base_uri": "https://localhost:8080/",
          "height": 248
        },
        "id": "T6wsdjZaW1Hr",
        "outputId": "a95bf7ad-9682-45d3-92c7-254e94983d44"
      },
      "source": [
        "#convert to numpy arrays, as required for plotting functions\n",
        "Bool_bias_np=np.array(Bool_bias)\n",
        "#we will plot each point as red if the XOR relation is satisfied, and blue if not \n",
        "XOR_colors=['blue','red','red','blue']\n",
        "ax=plt.axes(projection='3d')\n",
        "\n",
        "ax.scatter(Bool_bias_np[:,0],Bool_bias_np[:,1],Bool_bias_np[:,2],color=XOR_colors)\n",
        "plt.title('XOR projected into 3-d')\n",
        "plt.show()"
      ],
      "execution_count": 10,
      "outputs": [
        {
          "output_type": "display_data",
          "data": {
            "image/png": "[encoded data removed]",
            "text/plain": [
              "<Figure size 432x288 with 1 Axes>"
            ]
          },
          "metadata": {
            "tags": []
          }
        }
      ]
    },
    {
      "cell_type": "markdown",
      "metadata": {
        "id": "XQhXg4owb_Ao"
      },
      "source": [
        "##  <a id='e3'>Exercise 4: Limitations of the Perceptron Learning Rule</a> \n",
        "\n",
        "\n",
        "**Looking at the graph above, why do you think that the network had trouble learning the XOR relation, but not the AND or the OR?**\n"
      ]
    },
    {
      "cell_type": "code",
      "metadata": {
        "id": "yfkOs2YnRkEm"
      },
      "source": [
        ""
      ],
      "execution_count": 10,
      "outputs": []
    },
    {
      "cell_type": "markdown",
      "metadata": {
        "id": "M6OOxihHIKKW"
      },
      "source": [
        "This example was important from a historical perspective. In the 1960s, Marvin Minsky and Seymour Papert showed that it was impossible for a simple neural network such as this one to learn the XOR relation. This caused people to lose interest in neural networks for a long time. However the interest was revived in the 1980s with the development of the Backpropagation algorithm, which showed how to generalize the Perceptron Learning Rule to networks with any number of layers. The ability to train networks with more than two layers allowed them to effectively learn XOR, as well as many other much more complex relations. "
      ]
    },
    {
      "cell_type": "markdown",
      "metadata": {
        "id": "gOT3AiKnB9uS"
      },
      "source": [
        "# BUILD"
      ]
    },
    {
      "cell_type": "code",
      "metadata": {
        "id": "Ss9RhbTgB_lo"
      },
      "source": [
        ""
      ],
      "execution_count": 10,
      "outputs": []
    },
    {
      "cell_type": "markdown",
      "metadata": {
        "id": "AVT4YAauGVBB"
      },
      "source": [
        "# Appendix: Derivation of Learning Rule for two-layer network with sigmoidal activation"
      ]
    },
    {
      "cell_type": "markdown",
      "metadata": {
        "id": "n-ZHvUacGVdt"
      },
      "source": [
        "Sigmoid neurons take inputs and produce outputs similar to perceptrons, however, the inputs and outputs are not binary. Additionally, rather than applying a simple dot product to the inputs such that\n",
        "\\begin{equation}\n",
        "z(w,x) = w \\cdot x + b\n",
        "\\end{equation}\n",
        "\n",
        "these new types of neurons apply the sigmoid function, of the form\n",
        "\n",
        "\\begin{equation}\n",
        "\\sigma(z(w,x))=\\frac{1}{1+e^{-z(w,x)}}\n",
        "\\end{equation}\n",
        "\n",
        ". \n",
        "This function is actually the same as a Logistic function with a bias value of 0 and a gain value of 1. It has an upper bound at 1 and a lower bound at zero. This can be seen by examining the limits: $\\lim_{z(w,x)\\to\\infty} \\sigma(z(w,x))$ and $\\lim_{z(w,x)\\to -\\infty} \\sigma(z(w,x))$. Although its equation looks complex, a sigmoid function can quickly become intuitive when you try modifying the parameters, as we did in Lab 1 with the Logistic function. The graph below illustrates gives the graph of $\\sigma(x)$.\n"
      ]
    },
    {
      "cell_type": "markdown",
      "metadata": {
        "id": "_eiLMMf3PdcN"
      },
      "source": [
        "<img src=\"https://drive.google.com/uc?id=11pGLSRaXt-eeBp37P0iTc3AmAsdb4Q1_\"> \n"
      ]
    },
    {
      "cell_type": "markdown",
      "metadata": {
        "id": "wMLRc8bjGmpJ"
      },
      "source": [
        "In a multilayer network, the output of multiple sigmoid functions in the first non-input layer forms the input to the next layer. However, because of its bounded structure, a sigmoid function only outputs 1 or 0 at the limits (when rounding error kicks in). Typically its output will be somewhere in between. Therefore, there will always be some error between the desired output of a logical function (1 or 0) and the output of a sigmoid. The error of a single output is given by  \n",
        "  \n",
        "\\begin{equation}\n",
        "E=desired \\ output - \\sigma(z(w,x))\n",
        "\\end{equation}  \n",
        "  \n",
        "A common measure of error is called the mean squared error, and is given by  \n",
        "  \n",
        "\\begin{equation}\n",
        "E =\n",
        "\\frac{1}{n} \\ \\sum_{i=1}^{n} (desired \\ output_{i} - \\sigma(z(w,x))_{i})^2\n",
        "\\end{equation}  \n",
        "  \n",
        "Although we cannot drive this value to zero (when our desired output is binary), we can minimize it. Because it is a sum of squares, we can minimize it by minimizing each term. Because each term is a convex function of the weights, it is minimized when its derivative as a function of the weights is zero. We can train our neural net to do this using the delta rule, which is very similar to the perceptron learning rule. \n",
        "\n",
        "\\begin{equation}\n",
        "w^{t+1} = \\underbrace{w^t}_\\text{current weight} + \\underbrace{\\Delta w^t}_\\text{weight change}\n",
        "\\end{equation}\n",
        "\n",
        "where \n",
        "\n",
        "\\begin{equation}\n",
        "\\Delta w^t = - \\alpha \\underbrace{\\frac{\\partial E^t}{\\partial w^t}}_\\text{change in error terms as a function of the weights}\n",
        "\\end{equation}\n",
        "\n",
        ".\n",
        "  \n",
        "As you can see, when the derivative of the error is zero, the weights stop changing. The error is, at this point, minimized.  \n",
        "  \n",
        "In order to calculate the derviative of the error, we simply employ the chain rule. We will aslo be using a modified form of the error. Instead of scaling each term by $\\frac{1}{n}$, we will scale by $\\frac{1}{2}$ \n",
        "\n",
        "So, each error term is given by \n",
        "  \n",
        "\\begin{equation}\n",
        "E_{i} =\n",
        "\\frac{1}{2} (desired \\ output_{i} - \\sigma(h(x))_{i})^2\n",
        "\\end{equation}  \n",
        "  \n",
        "and its derivative is given by  \n",
        "  \n",
        "\\begin{equation}\n",
        "\\frac{\\partial E_{i}}{\\partial w} = \\underbrace{\\frac{\\partial E_{i}}{\\partial \\sigma(h(w,x))}}_\\text{derivative 1} \\quad\n",
        "\\underbrace{\\frac{\\partial \\sigma(h(w,x))}{\\partial h(w,x)}}_\\text{derivative 2} \\quad\n",
        "\\underbrace{\\frac{\\partial h(w,x)}{\\partial w}}_\\text{derivative 3}\n",
        "\\end{equation}\n",
        "  \n",
        "Now, because $h(w,x)$ is a vector equation, its derivative is also a vector. This produces our vector of weight changes, each term of which is determined by derivative 3  \n",
        "  \n",
        "\\begin{equation}\n",
        "\\quad\n",
        "\\underbrace{\\frac{\\partial h(w,x)}{\\partial w_{i}}}_\\text{derivative 3}\n",
        "\\end{equation}  \n",
        ".\n",
        "\n",
        "This comes out surprisingly tidily:  \n",
        "  \n",
        "\\begin{equation}\n",
        "{\\frac{\\partial E^t}{\\partial w_{i}^t}}=(desired \\ output - \\sigma) (\\sigma (1 - \\sigma))x_{i}\n",
        "\\end{equation}  \n",
        "  \n",
        "Now \n",
        "\\begin{equation}\n",
        "\\Delta w^t_{i} = - \\alpha (desired \\ output - \\sigma) (\\sigma (1 - \\sigma))x_{i}\n",
        "\\end{equation}\n",
        "  \n",
        "Biases are updated in much the same fashion, using\n",
        "  \n",
        "\\begin{equation}\n",
        "\\Delta b^t_{i} = - \\alpha (desired \\ output - \\sigma) (\\sigma (1 - \\sigma))1\n",
        "\\end{equation}"
      ]
    }
  ]
}