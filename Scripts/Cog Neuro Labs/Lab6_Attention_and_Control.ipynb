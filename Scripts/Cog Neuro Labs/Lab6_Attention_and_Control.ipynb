{
  "nbformat": 4,
  "nbformat_minor": 0,
  "metadata": {
    "kernelspec": {
      "display_name": "Python 3",
      "language": "python",
      "name": "python3"
    },
    "language_info": {
      "codemirror_mode": {
        "name": "ipython",
        "version": 3
      },
      "file_extension": ".py",
      "mimetype": "text/x-python",
      "name": "python",
      "nbconvert_exporter": "python",
      "pygments_lexer": "ipython3",
      "version": "3.6.7"
    },
    "varInspector": {
      "cols": {
        "lenName": 16,
        "lenType": 16,
        "lenVar": 40
      },
      "kernels_config": {
        "python": {
          "delete_cmd_postfix": "",
          "delete_cmd_prefix": "del ",
          "library": "var_list.py",
          "varRefreshCmd": "print(var_dic_list())"
        },
        "r": {
          "delete_cmd_postfix": ") ",
          "delete_cmd_prefix": "rm(",
          "library": "var_list.r",
          "varRefreshCmd": "cat(var_dic_list()) "
        }
      },
      "types_to_exclude": [
        "module",
        "function",
        "builtin_function_or_method",
        "instance",
        "_Feature"
      ],
      "window_display": false
    },
    "colab": {
      "name": "Lab6_Attention_and_Control.ipynb",
      "provenance": [],
      "collapsed_sections": []
    },
    "widgets": {
      "application/vnd.jupyter.widget-state+json": {
        "19dd8605595b488492655630333118bc": {
          "model_module": "@jupyter-widgets/output",
          "model_name": "OutputModel",
          "state": {
            "_view_name": "OutputView",
            "msg_id": "",
            "_dom_classes": [],
            "_model_name": "OutputModel",
            "outputs": [
              {
                "output_type": "display_data",
                "metadata": {
                  "tags": []
                },
                "text/html": "<pre style=\"white-space:pre;overflow-x:auto;line-height:normal;font-family:Menlo,'DejaVu Sans Mono',consolas,'Courier New',monospace\"></pre>\n",
                "text/plain": "<rich.jupyter.JupyterRenderable at 0x7fb2c2c9f790>"
              }
            ],
            "_view_module": "@jupyter-widgets/output",
            "_model_module_version": "1.0.0",
            "_view_count": null,
            "_view_module_version": "1.0.0",
            "layout": "IPY_MODEL_a8284c87e5cc403bbdcd6e43ecdbcdd6",
            "_model_module": "@jupyter-widgets/output"
          }
        },
        "a8284c87e5cc403bbdcd6e43ecdbcdd6": {
          "model_module": "@jupyter-widgets/base",
          "model_name": "LayoutModel",
          "state": {
            "_view_name": "LayoutView",
            "grid_template_rows": null,
            "right": null,
            "justify_content": null,
            "_view_module": "@jupyter-widgets/base",
            "overflow": null,
            "_model_module_version": "1.2.0",
            "_view_count": null,
            "flex_flow": null,
            "width": null,
            "min_width": null,
            "border": null,
            "align_items": null,
            "bottom": null,
            "_model_module": "@jupyter-widgets/base",
            "top": null,
            "grid_column": null,
            "overflow_y": null,
            "overflow_x": null,
            "grid_auto_flow": null,
            "grid_area": null,
            "grid_template_columns": null,
            "flex": null,
            "_model_name": "LayoutModel",
            "justify_items": null,
            "grid_row": null,
            "max_height": null,
            "align_content": null,
            "visibility": null,
            "align_self": null,
            "height": null,
            "min_height": null,
            "padding": null,
            "grid_auto_rows": null,
            "grid_gap": null,
            "max_width": null,
            "order": null,
            "_view_module_version": "1.2.0",
            "grid_template_areas": null,
            "object_position": null,
            "object_fit": null,
            "grid_auto_columns": null,
            "margin": null,
            "display": null,
            "left": null
          }
        },
        "1546d84b1ade488db5c0125ca00f822e": {
          "model_module": "@jupyter-widgets/output",
          "model_name": "OutputModel",
          "state": {
            "_view_name": "OutputView",
            "msg_id": "",
            "_dom_classes": [],
            "_model_name": "OutputModel",
            "outputs": [
              {
                "output_type": "display_data",
                "metadata": {
                  "tags": []
                },
                "text/html": "<pre style=\"white-space:pre;overflow-x:auto;line-height:normal;font-family:Menlo,'DejaVu Sans Mono',consolas,'Courier New',monospace\"></pre>\n",
                "text/plain": "<rich.jupyter.JupyterRenderable at 0x7fb2c2be9c50>"
              }
            ],
            "_view_module": "@jupyter-widgets/output",
            "_model_module_version": "1.0.0",
            "_view_count": null,
            "_view_module_version": "1.0.0",
            "layout": "IPY_MODEL_24ab690c5db245b19e513f2cd6703392",
            "_model_module": "@jupyter-widgets/output"
          }
        },
        "24ab690c5db245b19e513f2cd6703392": {
          "model_module": "@jupyter-widgets/base",
          "model_name": "LayoutModel",
          "state": {
            "_view_name": "LayoutView",
            "grid_template_rows": null,
            "right": null,
            "justify_content": null,
            "_view_module": "@jupyter-widgets/base",
            "overflow": null,
            "_model_module_version": "1.2.0",
            "_view_count": null,
            "flex_flow": null,
            "width": null,
            "min_width": null,
            "border": null,
            "align_items": null,
            "bottom": null,
            "_model_module": "@jupyter-widgets/base",
            "top": null,
            "grid_column": null,
            "overflow_y": null,
            "overflow_x": null,
            "grid_auto_flow": null,
            "grid_area": null,
            "grid_template_columns": null,
            "flex": null,
            "_model_name": "LayoutModel",
            "justify_items": null,
            "grid_row": null,
            "max_height": null,
            "align_content": null,
            "visibility": null,
            "align_self": null,
            "height": null,
            "min_height": null,
            "padding": null,
            "grid_auto_rows": null,
            "grid_gap": null,
            "max_width": null,
            "order": null,
            "_view_module_version": "1.2.0",
            "grid_template_areas": null,
            "object_position": null,
            "object_fit": null,
            "grid_auto_columns": null,
            "margin": null,
            "display": null,
            "left": null
          }
        },
        "2b57b2c0a03e43afa40f43d19473d09f": {
          "model_module": "@jupyter-widgets/output",
          "model_name": "OutputModel",
          "state": {
            "_view_name": "OutputView",
            "msg_id": "",
            "_dom_classes": [],
            "_model_name": "OutputModel",
            "outputs": [
              {
                "output_type": "display_data",
                "metadata": {
                  "tags": []
                },
                "text/html": "<pre style=\"white-space:pre;overflow-x:auto;line-height:normal;font-family:Menlo,'DejaVu Sans Mono',consolas,'Courier New',monospace\"></pre>\n",
                "text/plain": "<rich.jupyter.JupyterRenderable at 0x7fb2c2b87d90>"
              }
            ],
            "_view_module": "@jupyter-widgets/output",
            "_model_module_version": "1.0.0",
            "_view_count": null,
            "_view_module_version": "1.0.0",
            "layout": "IPY_MODEL_90ae7180848c47bca145259beed892c6",
            "_model_module": "@jupyter-widgets/output"
          }
        },
        "90ae7180848c47bca145259beed892c6": {
          "model_module": "@jupyter-widgets/base",
          "model_name": "LayoutModel",
          "state": {
            "_view_name": "LayoutView",
            "grid_template_rows": null,
            "right": null,
            "justify_content": null,
            "_view_module": "@jupyter-widgets/base",
            "overflow": null,
            "_model_module_version": "1.2.0",
            "_view_count": null,
            "flex_flow": null,
            "width": null,
            "min_width": null,
            "border": null,
            "align_items": null,
            "bottom": null,
            "_model_module": "@jupyter-widgets/base",
            "top": null,
            "grid_column": null,
            "overflow_y": null,
            "overflow_x": null,
            "grid_auto_flow": null,
            "grid_area": null,
            "grid_template_columns": null,
            "flex": null,
            "_model_name": "LayoutModel",
            "justify_items": null,
            "grid_row": null,
            "max_height": null,
            "align_content": null,
            "visibility": null,
            "align_self": null,
            "height": null,
            "min_height": null,
            "padding": null,
            "grid_auto_rows": null,
            "grid_gap": null,
            "max_width": null,
            "order": null,
            "_view_module_version": "1.2.0",
            "grid_template_areas": null,
            "object_position": null,
            "object_fit": null,
            "grid_auto_columns": null,
            "margin": null,
            "display": null,
            "left": null
          }
        },
        "a1ec10e444254d159a6eef64a617c7c6": {
          "model_module": "@jupyter-widgets/output",
          "model_name": "OutputModel",
          "state": {
            "_view_name": "OutputView",
            "msg_id": "",
            "_dom_classes": [],
            "_model_name": "OutputModel",
            "outputs": [
              {
                "output_type": "display_data",
                "metadata": {
                  "tags": []
                },
                "text/html": "<pre style=\"white-space:pre;overflow-x:auto;line-height:normal;font-family:Menlo,'DejaVu Sans Mono',consolas,'Courier New',monospace\"></pre>\n",
                "text/plain": "<rich.jupyter.JupyterRenderable at 0x7fb2b9d883d0>"
              }
            ],
            "_view_module": "@jupyter-widgets/output",
            "_model_module_version": "1.0.0",
            "_view_count": null,
            "_view_module_version": "1.0.0",
            "layout": "IPY_MODEL_abcc3046aa2747d7821e8b4f758c0992",
            "_model_module": "@jupyter-widgets/output"
          }
        },
        "abcc3046aa2747d7821e8b4f758c0992": {
          "model_module": "@jupyter-widgets/base",
          "model_name": "LayoutModel",
          "state": {
            "_view_name": "LayoutView",
            "grid_template_rows": null,
            "right": null,
            "justify_content": null,
            "_view_module": "@jupyter-widgets/base",
            "overflow": null,
            "_model_module_version": "1.2.0",
            "_view_count": null,
            "flex_flow": null,
            "width": null,
            "min_width": null,
            "border": null,
            "align_items": null,
            "bottom": null,
            "_model_module": "@jupyter-widgets/base",
            "top": null,
            "grid_column": null,
            "overflow_y": null,
            "overflow_x": null,
            "grid_auto_flow": null,
            "grid_area": null,
            "grid_template_columns": null,
            "flex": null,
            "_model_name": "LayoutModel",
            "justify_items": null,
            "grid_row": null,
            "max_height": null,
            "align_content": null,
            "visibility": null,
            "align_self": null,
            "height": null,
            "min_height": null,
            "padding": null,
            "grid_auto_rows": null,
            "grid_gap": null,
            "max_width": null,
            "order": null,
            "_view_module_version": "1.2.0",
            "grid_template_areas": null,
            "object_position": null,
            "object_fit": null,
            "grid_auto_columns": null,
            "margin": null,
            "display": null,
            "left": null
          }
        },
        "00e44b660efa4142b9b58fa0b28da5c6": {
          "model_module": "@jupyter-widgets/output",
          "model_name": "OutputModel",
          "state": {
            "_view_name": "OutputView",
            "msg_id": "",
            "_dom_classes": [],
            "_model_name": "OutputModel",
            "outputs": [
              {
                "output_type": "display_data",
                "metadata": {
                  "tags": []
                },
                "text/html": "<pre style=\"white-space:pre;overflow-x:auto;line-height:normal;font-family:Menlo,'DejaVu Sans Mono',consolas,'Courier New',monospace\"></pre>\n",
                "text/plain": "<rich.jupyter.JupyterRenderable at 0x7fb2ba290650>"
              }
            ],
            "_view_module": "@jupyter-widgets/output",
            "_model_module_version": "1.0.0",
            "_view_count": null,
            "_view_module_version": "1.0.0",
            "layout": "IPY_MODEL_6bead26c25a144af966212a8fe6c14ab",
            "_model_module": "@jupyter-widgets/output"
          }
        },
        "6bead26c25a144af966212a8fe6c14ab": {
          "model_module": "@jupyter-widgets/base",
          "model_name": "LayoutModel",
          "state": {
            "_view_name": "LayoutView",
            "grid_template_rows": null,
            "right": null,
            "justify_content": null,
            "_view_module": "@jupyter-widgets/base",
            "overflow": null,
            "_model_module_version": "1.2.0",
            "_view_count": null,
            "flex_flow": null,
            "width": null,
            "min_width": null,
            "border": null,
            "align_items": null,
            "bottom": null,
            "_model_module": "@jupyter-widgets/base",
            "top": null,
            "grid_column": null,
            "overflow_y": null,
            "overflow_x": null,
            "grid_auto_flow": null,
            "grid_area": null,
            "grid_template_columns": null,
            "flex": null,
            "_model_name": "LayoutModel",
            "justify_items": null,
            "grid_row": null,
            "max_height": null,
            "align_content": null,
            "visibility": null,
            "align_self": null,
            "height": null,
            "min_height": null,
            "padding": null,
            "grid_auto_rows": null,
            "grid_gap": null,
            "max_width": null,
            "order": null,
            "_view_module_version": "1.2.0",
            "grid_template_areas": null,
            "object_position": null,
            "object_fit": null,
            "grid_auto_columns": null,
            "margin": null,
            "display": null,
            "left": null
          }
        },
        "a4efe339d5ae4c7991dfed455e5405aa": {
          "model_module": "@jupyter-widgets/output",
          "model_name": "OutputModel",
          "state": {
            "_view_name": "OutputView",
            "msg_id": "",
            "_dom_classes": [],
            "_model_name": "OutputModel",
            "outputs": [
              {
                "output_type": "display_data",
                "metadata": {
                  "tags": []
                },
                "text/html": "<pre style=\"white-space:pre;overflow-x:auto;line-height:normal;font-family:Menlo,'DejaVu Sans Mono',consolas,'Courier New',monospace\"></pre>\n",
                "text/plain": "<rich.jupyter.JupyterRenderable at 0x7fb2b9d07750>"
              }
            ],
            "_view_module": "@jupyter-widgets/output",
            "_model_module_version": "1.0.0",
            "_view_count": null,
            "_view_module_version": "1.0.0",
            "layout": "IPY_MODEL_3fe6fc85634247b38171ff4c7606ec4d",
            "_model_module": "@jupyter-widgets/output"
          }
        },
        "3fe6fc85634247b38171ff4c7606ec4d": {
          "model_module": "@jupyter-widgets/base",
          "model_name": "LayoutModel",
          "state": {
            "_view_name": "LayoutView",
            "grid_template_rows": null,
            "right": null,
            "justify_content": null,
            "_view_module": "@jupyter-widgets/base",
            "overflow": null,
            "_model_module_version": "1.2.0",
            "_view_count": null,
            "flex_flow": null,
            "width": null,
            "min_width": null,
            "border": null,
            "align_items": null,
            "bottom": null,
            "_model_module": "@jupyter-widgets/base",
            "top": null,
            "grid_column": null,
            "overflow_y": null,
            "overflow_x": null,
            "grid_auto_flow": null,
            "grid_area": null,
            "grid_template_columns": null,
            "flex": null,
            "_model_name": "LayoutModel",
            "justify_items": null,
            "grid_row": null,
            "max_height": null,
            "align_content": null,
            "visibility": null,
            "align_self": null,
            "height": null,
            "min_height": null,
            "padding": null,
            "grid_auto_rows": null,
            "grid_gap": null,
            "max_width": null,
            "order": null,
            "_view_module_version": "1.2.0",
            "grid_template_areas": null,
            "object_position": null,
            "object_fit": null,
            "grid_auto_columns": null,
            "margin": null,
            "display": null,
            "left": null
          }
        },
        "b0f64b2946724036a0361a5c2a9ba4e8": {
          "model_module": "@jupyter-widgets/output",
          "model_name": "OutputModel",
          "state": {
            "_view_name": "OutputView",
            "msg_id": "",
            "_dom_classes": [],
            "_model_name": "OutputModel",
            "outputs": [
              {
                "output_type": "display_data",
                "metadata": {
                  "tags": []
                },
                "text/html": "<pre style=\"white-space:pre;overflow-x:auto;line-height:normal;font-family:Menlo,'DejaVu Sans Mono',consolas,'Courier New',monospace\"></pre>\n",
                "text/plain": "<rich.jupyter.JupyterRenderable at 0x7fb2b9021290>"
              }
            ],
            "_view_module": "@jupyter-widgets/output",
            "_model_module_version": "1.0.0",
            "_view_count": null,
            "_view_module_version": "1.0.0",
            "layout": "IPY_MODEL_853bb01773984e2dbe0106315ec35fff",
            "_model_module": "@jupyter-widgets/output"
          }
        },
        "853bb01773984e2dbe0106315ec35fff": {
          "model_module": "@jupyter-widgets/base",
          "model_name": "LayoutModel",
          "state": {
            "_view_name": "LayoutView",
            "grid_template_rows": null,
            "right": null,
            "justify_content": null,
            "_view_module": "@jupyter-widgets/base",
            "overflow": null,
            "_model_module_version": "1.2.0",
            "_view_count": null,
            "flex_flow": null,
            "width": null,
            "min_width": null,
            "border": null,
            "align_items": null,
            "bottom": null,
            "_model_module": "@jupyter-widgets/base",
            "top": null,
            "grid_column": null,
            "overflow_y": null,
            "overflow_x": null,
            "grid_auto_flow": null,
            "grid_area": null,
            "grid_template_columns": null,
            "flex": null,
            "_model_name": "LayoutModel",
            "justify_items": null,
            "grid_row": null,
            "max_height": null,
            "align_content": null,
            "visibility": null,
            "align_self": null,
            "height": null,
            "min_height": null,
            "padding": null,
            "grid_auto_rows": null,
            "grid_gap": null,
            "max_width": null,
            "order": null,
            "_view_module_version": "1.2.0",
            "grid_template_areas": null,
            "object_position": null,
            "object_fit": null,
            "grid_auto_columns": null,
            "margin": null,
            "display": null,
            "left": null
          }
        },
        "d02f76881d0947c693f6f164b8bb14db": {
          "model_module": "@jupyter-widgets/output",
          "model_name": "OutputModel",
          "state": {
            "_view_name": "OutputView",
            "msg_id": "",
            "_dom_classes": [],
            "_model_name": "OutputModel",
            "outputs": [
              {
                "output_type": "display_data",
                "metadata": {
                  "tags": []
                },
                "text/html": "<pre style=\"white-space:pre;overflow-x:auto;line-height:normal;font-family:Menlo,'DejaVu Sans Mono',consolas,'Courier New',monospace\"></pre>\n",
                "text/plain": "<rich.jupyter.JupyterRenderable at 0x7fb2b7ff4450>"
              }
            ],
            "_view_module": "@jupyter-widgets/output",
            "_model_module_version": "1.0.0",
            "_view_count": null,
            "_view_module_version": "1.0.0",
            "layout": "IPY_MODEL_a7f3f989785e4882b6c7fb8f749753be",
            "_model_module": "@jupyter-widgets/output"
          }
        },
        "a7f3f989785e4882b6c7fb8f749753be": {
          "model_module": "@jupyter-widgets/base",
          "model_name": "LayoutModel",
          "state": {
            "_view_name": "LayoutView",
            "grid_template_rows": null,
            "right": null,
            "justify_content": null,
            "_view_module": "@jupyter-widgets/base",
            "overflow": null,
            "_model_module_version": "1.2.0",
            "_view_count": null,
            "flex_flow": null,
            "width": null,
            "min_width": null,
            "border": null,
            "align_items": null,
            "bottom": null,
            "_model_module": "@jupyter-widgets/base",
            "top": null,
            "grid_column": null,
            "overflow_y": null,
            "overflow_x": null,
            "grid_auto_flow": null,
            "grid_area": null,
            "grid_template_columns": null,
            "flex": null,
            "_model_name": "LayoutModel",
            "justify_items": null,
            "grid_row": null,
            "max_height": null,
            "align_content": null,
            "visibility": null,
            "align_self": null,
            "height": null,
            "min_height": null,
            "padding": null,
            "grid_auto_rows": null,
            "grid_gap": null,
            "max_width": null,
            "order": null,
            "_view_module_version": "1.2.0",
            "grid_template_areas": null,
            "object_position": null,
            "object_fit": null,
            "grid_auto_columns": null,
            "margin": null,
            "display": null,
            "left": null
          }
        },
        "7b8ad043cea2421ba91348af6e860f9d": {
          "model_module": "@jupyter-widgets/output",
          "model_name": "OutputModel",
          "state": {
            "_view_name": "OutputView",
            "msg_id": "",
            "_dom_classes": [],
            "_model_name": "OutputModel",
            "outputs": [
              {
                "output_type": "display_data",
                "metadata": {
                  "tags": []
                },
                "text/html": "<pre style=\"white-space:pre;overflow-x:auto;line-height:normal;font-family:Menlo,'DejaVu Sans Mono',consolas,'Courier New',monospace\"></pre>\n",
                "text/plain": "<rich.jupyter.JupyterRenderable at 0x7fb2b948c890>"
              }
            ],
            "_view_module": "@jupyter-widgets/output",
            "_model_module_version": "1.0.0",
            "_view_count": null,
            "_view_module_version": "1.0.0",
            "layout": "IPY_MODEL_cafd8614edec4e52b7adcfdba6f835eb",
            "_model_module": "@jupyter-widgets/output"
          }
        },
        "cafd8614edec4e52b7adcfdba6f835eb": {
          "model_module": "@jupyter-widgets/base",
          "model_name": "LayoutModel",
          "state": {
            "_view_name": "LayoutView",
            "grid_template_rows": null,
            "right": null,
            "justify_content": null,
            "_view_module": "@jupyter-widgets/base",
            "overflow": null,
            "_model_module_version": "1.2.0",
            "_view_count": null,
            "flex_flow": null,
            "width": null,
            "min_width": null,
            "border": null,
            "align_items": null,
            "bottom": null,
            "_model_module": "@jupyter-widgets/base",
            "top": null,
            "grid_column": null,
            "overflow_y": null,
            "overflow_x": null,
            "grid_auto_flow": null,
            "grid_area": null,
            "grid_template_columns": null,
            "flex": null,
            "_model_name": "LayoutModel",
            "justify_items": null,
            "grid_row": null,
            "max_height": null,
            "align_content": null,
            "visibility": null,
            "align_self": null,
            "height": null,
            "min_height": null,
            "padding": null,
            "grid_auto_rows": null,
            "grid_gap": null,
            "max_width": null,
            "order": null,
            "_view_module_version": "1.2.0",
            "grid_template_areas": null,
            "object_position": null,
            "object_fit": null,
            "grid_auto_columns": null,
            "margin": null,
            "display": null,
            "left": null
          }
        },
        "acff519a16d94426a939ac3bf4172f98": {
          "model_module": "@jupyter-widgets/output",
          "model_name": "OutputModel",
          "state": {
            "_view_name": "OutputView",
            "msg_id": "",
            "_dom_classes": [],
            "_model_name": "OutputModel",
            "outputs": [
              {
                "output_type": "display_data",
                "metadata": {
                  "tags": []
                },
                "text/html": "<pre style=\"white-space:pre;overflow-x:auto;line-height:normal;font-family:Menlo,'DejaVu Sans Mono',consolas,'Courier New',monospace\"></pre>\n",
                "text/plain": "<rich.jupyter.JupyterRenderable at 0x7fb2b8f43ad0>"
              }
            ],
            "_view_module": "@jupyter-widgets/output",
            "_model_module_version": "1.0.0",
            "_view_count": null,
            "_view_module_version": "1.0.0",
            "layout": "IPY_MODEL_933153384d914c2daaa7c43d3f8673d1",
            "_model_module": "@jupyter-widgets/output"
          }
        },
        "933153384d914c2daaa7c43d3f8673d1": {
          "model_module": "@jupyter-widgets/base",
          "model_name": "LayoutModel",
          "state": {
            "_view_name": "LayoutView",
            "grid_template_rows": null,
            "right": null,
            "justify_content": null,
            "_view_module": "@jupyter-widgets/base",
            "overflow": null,
            "_model_module_version": "1.2.0",
            "_view_count": null,
            "flex_flow": null,
            "width": null,
            "min_width": null,
            "border": null,
            "align_items": null,
            "bottom": null,
            "_model_module": "@jupyter-widgets/base",
            "top": null,
            "grid_column": null,
            "overflow_y": null,
            "overflow_x": null,
            "grid_auto_flow": null,
            "grid_area": null,
            "grid_template_columns": null,
            "flex": null,
            "_model_name": "LayoutModel",
            "justify_items": null,
            "grid_row": null,
            "max_height": null,
            "align_content": null,
            "visibility": null,
            "align_self": null,
            "height": null,
            "min_height": null,
            "padding": null,
            "grid_auto_rows": null,
            "grid_gap": null,
            "max_width": null,
            "order": null,
            "_view_module_version": "1.2.0",
            "grid_template_areas": null,
            "object_position": null,
            "object_fit": null,
            "grid_auto_columns": null,
            "margin": null,
            "display": null,
            "left": null
          }
        },
        "2c12838e39ce463e81f0eca282e939bb": {
          "model_module": "@jupyter-widgets/output",
          "model_name": "OutputModel",
          "state": {
            "_view_name": "OutputView",
            "msg_id": "",
            "_dom_classes": [],
            "_model_name": "OutputModel",
            "outputs": [
              {
                "output_type": "display_data",
                "metadata": {
                  "tags": []
                },
                "text/html": "<pre style=\"white-space:pre;overflow-x:auto;line-height:normal;font-family:Menlo,'DejaVu Sans Mono',consolas,'Courier New',monospace\"></pre>\n",
                "text/plain": "<rich.jupyter.JupyterRenderable at 0x7fb2b8ff0c10>"
              }
            ],
            "_view_module": "@jupyter-widgets/output",
            "_model_module_version": "1.0.0",
            "_view_count": null,
            "_view_module_version": "1.0.0",
            "layout": "IPY_MODEL_16fe447390cb40898d9c760adf3e57d4",
            "_model_module": "@jupyter-widgets/output"
          }
        },
        "16fe447390cb40898d9c760adf3e57d4": {
          "model_module": "@jupyter-widgets/base",
          "model_name": "LayoutModel",
          "state": {
            "_view_name": "LayoutView",
            "grid_template_rows": null,
            "right": null,
            "justify_content": null,
            "_view_module": "@jupyter-widgets/base",
            "overflow": null,
            "_model_module_version": "1.2.0",
            "_view_count": null,
            "flex_flow": null,
            "width": null,
            "min_width": null,
            "border": null,
            "align_items": null,
            "bottom": null,
            "_model_module": "@jupyter-widgets/base",
            "top": null,
            "grid_column": null,
            "overflow_y": null,
            "overflow_x": null,
            "grid_auto_flow": null,
            "grid_area": null,
            "grid_template_columns": null,
            "flex": null,
            "_model_name": "LayoutModel",
            "justify_items": null,
            "grid_row": null,
            "max_height": null,
            "align_content": null,
            "visibility": null,
            "align_self": null,
            "height": null,
            "min_height": null,
            "padding": null,
            "grid_auto_rows": null,
            "grid_gap": null,
            "max_width": null,
            "order": null,
            "_view_module_version": "1.2.0",
            "grid_template_areas": null,
            "object_position": null,
            "object_fit": null,
            "grid_auto_columns": null,
            "margin": null,
            "display": null,
            "left": null
          }
        },
        "70e1d2e0c24d4baf9a61f5ae8e32c3eb": {
          "model_module": "@jupyter-widgets/output",
          "model_name": "OutputModel",
          "state": {
            "_view_name": "OutputView",
            "msg_id": "",
            "_dom_classes": [],
            "_model_name": "OutputModel",
            "outputs": [
              {
                "output_type": "display_data",
                "metadata": {
                  "tags": []
                },
                "text/html": "<pre style=\"white-space:pre;overflow-x:auto;line-height:normal;font-family:Menlo,'DejaVu Sans Mono',consolas,'Courier New',monospace\"></pre>\n",
                "text/plain": "<rich.jupyter.JupyterRenderable at 0x7fb2b90e7fd0>"
              }
            ],
            "_view_module": "@jupyter-widgets/output",
            "_model_module_version": "1.0.0",
            "_view_count": null,
            "_view_module_version": "1.0.0",
            "layout": "IPY_MODEL_d43304303e1e442ca1bfb3c7116f39be",
            "_model_module": "@jupyter-widgets/output"
          }
        },
        "d43304303e1e442ca1bfb3c7116f39be": {
          "model_module": "@jupyter-widgets/base",
          "model_name": "LayoutModel",
          "state": {
            "_view_name": "LayoutView",
            "grid_template_rows": null,
            "right": null,
            "justify_content": null,
            "_view_module": "@jupyter-widgets/base",
            "overflow": null,
            "_model_module_version": "1.2.0",
            "_view_count": null,
            "flex_flow": null,
            "width": null,
            "min_width": null,
            "border": null,
            "align_items": null,
            "bottom": null,
            "_model_module": "@jupyter-widgets/base",
            "top": null,
            "grid_column": null,
            "overflow_y": null,
            "overflow_x": null,
            "grid_auto_flow": null,
            "grid_area": null,
            "grid_template_columns": null,
            "flex": null,
            "_model_name": "LayoutModel",
            "justify_items": null,
            "grid_row": null,
            "max_height": null,
            "align_content": null,
            "visibility": null,
            "align_self": null,
            "height": null,
            "min_height": null,
            "padding": null,
            "grid_auto_rows": null,
            "grid_gap": null,
            "max_width": null,
            "order": null,
            "_view_module_version": "1.2.0",
            "grid_template_areas": null,
            "object_position": null,
            "object_fit": null,
            "grid_auto_columns": null,
            "margin": null,
            "display": null,
            "left": null
          }
        },
        "c1aa3c7f1acf42998b9139dea9977d07": {
          "model_module": "@jupyter-widgets/output",
          "model_name": "OutputModel",
          "state": {
            "_view_name": "OutputView",
            "msg_id": "",
            "_dom_classes": [],
            "_model_name": "OutputModel",
            "outputs": [
              {
                "output_type": "display_data",
                "metadata": {
                  "tags": []
                },
                "text/html": "<pre style=\"white-space:pre;overflow-x:auto;line-height:normal;font-family:Menlo,'DejaVu Sans Mono',consolas,'Courier New',monospace\"></pre>\n",
                "text/plain": "<rich.jupyter.JupyterRenderable at 0x7fb2b9c86990>"
              }
            ],
            "_view_module": "@jupyter-widgets/output",
            "_model_module_version": "1.0.0",
            "_view_count": null,
            "_view_module_version": "1.0.0",
            "layout": "IPY_MODEL_60d44671d79d47ebbc1e401fd01baad2",
            "_model_module": "@jupyter-widgets/output"
          }
        },
        "60d44671d79d47ebbc1e401fd01baad2": {
          "model_module": "@jupyter-widgets/base",
          "model_name": "LayoutModel",
          "state": {
            "_view_name": "LayoutView",
            "grid_template_rows": null,
            "right": null,
            "justify_content": null,
            "_view_module": "@jupyter-widgets/base",
            "overflow": null,
            "_model_module_version": "1.2.0",
            "_view_count": null,
            "flex_flow": null,
            "width": null,
            "min_width": null,
            "border": null,
            "align_items": null,
            "bottom": null,
            "_model_module": "@jupyter-widgets/base",
            "top": null,
            "grid_column": null,
            "overflow_y": null,
            "overflow_x": null,
            "grid_auto_flow": null,
            "grid_area": null,
            "grid_template_columns": null,
            "flex": null,
            "_model_name": "LayoutModel",
            "justify_items": null,
            "grid_row": null,
            "max_height": null,
            "align_content": null,
            "visibility": null,
            "align_self": null,
            "height": null,
            "min_height": null,
            "padding": null,
            "grid_auto_rows": null,
            "grid_gap": null,
            "max_width": null,
            "order": null,
            "_view_module_version": "1.2.0",
            "grid_template_areas": null,
            "object_position": null,
            "object_fit": null,
            "grid_auto_columns": null,
            "margin": null,
            "display": null,
            "left": null
          }
        },
        "8051b207fd0e41549f3c267f017ae0ea": {
          "model_module": "@jupyter-widgets/output",
          "model_name": "OutputModel",
          "state": {
            "_view_name": "OutputView",
            "msg_id": "",
            "_dom_classes": [],
            "_model_name": "OutputModel",
            "outputs": [
              {
                "output_type": "display_data",
                "metadata": {
                  "tags": []
                },
                "text/html": "<pre style=\"white-space:pre;overflow-x:auto;line-height:normal;font-family:Menlo,'DejaVu Sans Mono',consolas,'Courier New',monospace\"></pre>\n",
                "text/plain": "<rich.jupyter.JupyterRenderable at 0x7fb2b92e3410>"
              }
            ],
            "_view_module": "@jupyter-widgets/output",
            "_model_module_version": "1.0.0",
            "_view_count": null,
            "_view_module_version": "1.0.0",
            "layout": "IPY_MODEL_6720d40a905b489392ec121892045ab9",
            "_model_module": "@jupyter-widgets/output"
          }
        },
        "6720d40a905b489392ec121892045ab9": {
          "model_module": "@jupyter-widgets/base",
          "model_name": "LayoutModel",
          "state": {
            "_view_name": "LayoutView",
            "grid_template_rows": null,
            "right": null,
            "justify_content": null,
            "_view_module": "@jupyter-widgets/base",
            "overflow": null,
            "_model_module_version": "1.2.0",
            "_view_count": null,
            "flex_flow": null,
            "width": null,
            "min_width": null,
            "border": null,
            "align_items": null,
            "bottom": null,
            "_model_module": "@jupyter-widgets/base",
            "top": null,
            "grid_column": null,
            "overflow_y": null,
            "overflow_x": null,
            "grid_auto_flow": null,
            "grid_area": null,
            "grid_template_columns": null,
            "flex": null,
            "_model_name": "LayoutModel",
            "justify_items": null,
            "grid_row": null,
            "max_height": null,
            "align_content": null,
            "visibility": null,
            "align_self": null,
            "height": null,
            "min_height": null,
            "padding": null,
            "grid_auto_rows": null,
            "grid_gap": null,
            "max_width": null,
            "order": null,
            "_view_module_version": "1.2.0",
            "grid_template_areas": null,
            "object_position": null,
            "object_fit": null,
            "grid_auto_columns": null,
            "margin": null,
            "display": null,
            "left": null
          }
        },
        "977e34266aeb46caba88aa9b06708bf5": {
          "model_module": "@jupyter-widgets/output",
          "model_name": "OutputModel",
          "state": {
            "_view_name": "OutputView",
            "msg_id": "",
            "_dom_classes": [],
            "_model_name": "OutputModel",
            "outputs": [
              {
                "output_type": "display_data",
                "metadata": {
                  "tags": []
                },
                "text/html": "<pre style=\"white-space:pre;overflow-x:auto;line-height:normal;font-family:Menlo,'DejaVu Sans Mono',consolas,'Courier New',monospace\"></pre>\n",
                "text/plain": "<rich.jupyter.JupyterRenderable at 0x7fb2b6b25790>"
              }
            ],
            "_view_module": "@jupyter-widgets/output",
            "_model_module_version": "1.0.0",
            "_view_count": null,
            "_view_module_version": "1.0.0",
            "layout": "IPY_MODEL_fdab81225fba4fa398a3b8c78b779257",
            "_model_module": "@jupyter-widgets/output"
          }
        },
        "fdab81225fba4fa398a3b8c78b779257": {
          "model_module": "@jupyter-widgets/base",
          "model_name": "LayoutModel",
          "state": {
            "_view_name": "LayoutView",
            "grid_template_rows": null,
            "right": null,
            "justify_content": null,
            "_view_module": "@jupyter-widgets/base",
            "overflow": null,
            "_model_module_version": "1.2.0",
            "_view_count": null,
            "flex_flow": null,
            "width": null,
            "min_width": null,
            "border": null,
            "align_items": null,
            "bottom": null,
            "_model_module": "@jupyter-widgets/base",
            "top": null,
            "grid_column": null,
            "overflow_y": null,
            "overflow_x": null,
            "grid_auto_flow": null,
            "grid_area": null,
            "grid_template_columns": null,
            "flex": null,
            "_model_name": "LayoutModel",
            "justify_items": null,
            "grid_row": null,
            "max_height": null,
            "align_content": null,
            "visibility": null,
            "align_self": null,
            "height": null,
            "min_height": null,
            "padding": null,
            "grid_auto_rows": null,
            "grid_gap": null,
            "max_width": null,
            "order": null,
            "_view_module_version": "1.2.0",
            "grid_template_areas": null,
            "object_position": null,
            "object_fit": null,
            "grid_auto_columns": null,
            "margin": null,
            "display": null,
            "left": null
          }
        },
        "f4f9b1e8c8a54e628ea49c91fafc7fa2": {
          "model_module": "@jupyter-widgets/output",
          "model_name": "OutputModel",
          "state": {
            "_view_name": "OutputView",
            "msg_id": "",
            "_dom_classes": [],
            "_model_name": "OutputModel",
            "outputs": [
              {
                "output_type": "display_data",
                "metadata": {
                  "tags": []
                },
                "text/html": "<pre style=\"white-space:pre;overflow-x:auto;line-height:normal;font-family:Menlo,'DejaVu Sans Mono',consolas,'Courier New',monospace\"></pre>\n",
                "text/plain": "<rich.jupyter.JupyterRenderable at 0x7fb2b6aec890>"
              }
            ],
            "_view_module": "@jupyter-widgets/output",
            "_model_module_version": "1.0.0",
            "_view_count": null,
            "_view_module_version": "1.0.0",
            "layout": "IPY_MODEL_b304b2664a8b4af391459fc922a9ff01",
            "_model_module": "@jupyter-widgets/output"
          }
        },
        "b304b2664a8b4af391459fc922a9ff01": {
          "model_module": "@jupyter-widgets/base",
          "model_name": "LayoutModel",
          "state": {
            "_view_name": "LayoutView",
            "grid_template_rows": null,
            "right": null,
            "justify_content": null,
            "_view_module": "@jupyter-widgets/base",
            "overflow": null,
            "_model_module_version": "1.2.0",
            "_view_count": null,
            "flex_flow": null,
            "width": null,
            "min_width": null,
            "border": null,
            "align_items": null,
            "bottom": null,
            "_model_module": "@jupyter-widgets/base",
            "top": null,
            "grid_column": null,
            "overflow_y": null,
            "overflow_x": null,
            "grid_auto_flow": null,
            "grid_area": null,
            "grid_template_columns": null,
            "flex": null,
            "_model_name": "LayoutModel",
            "justify_items": null,
            "grid_row": null,
            "max_height": null,
            "align_content": null,
            "visibility": null,
            "align_self": null,
            "height": null,
            "min_height": null,
            "padding": null,
            "grid_auto_rows": null,
            "grid_gap": null,
            "max_width": null,
            "order": null,
            "_view_module_version": "1.2.0",
            "grid_template_areas": null,
            "object_position": null,
            "object_fit": null,
            "grid_auto_columns": null,
            "margin": null,
            "display": null,
            "left": null
          }
        },
        "35b19cf43a3743ba8b61fb3f27c76805": {
          "model_module": "@jupyter-widgets/output",
          "model_name": "OutputModel",
          "state": {
            "_view_name": "OutputView",
            "msg_id": "",
            "_dom_classes": [],
            "_model_name": "OutputModel",
            "outputs": [
              {
                "output_type": "display_data",
                "metadata": {
                  "tags": []
                },
                "text/html": "<pre style=\"white-space:pre;overflow-x:auto;line-height:normal;font-family:Menlo,'DejaVu Sans Mono',consolas,'Courier New',monospace\"></pre>\n",
                "text/plain": "<rich.jupyter.JupyterRenderable at 0x7fb2b6ae1e10>"
              }
            ],
            "_view_module": "@jupyter-widgets/output",
            "_model_module_version": "1.0.0",
            "_view_count": null,
            "_view_module_version": "1.0.0",
            "layout": "IPY_MODEL_068bce84bb3944b288a1889076979ef5",
            "_model_module": "@jupyter-widgets/output"
          }
        },
        "068bce84bb3944b288a1889076979ef5": {
          "model_module": "@jupyter-widgets/base",
          "model_name": "LayoutModel",
          "state": {
            "_view_name": "LayoutView",
            "grid_template_rows": null,
            "right": null,
            "justify_content": null,
            "_view_module": "@jupyter-widgets/base",
            "overflow": null,
            "_model_module_version": "1.2.0",
            "_view_count": null,
            "flex_flow": null,
            "width": null,
            "min_width": null,
            "border": null,
            "align_items": null,
            "bottom": null,
            "_model_module": "@jupyter-widgets/base",
            "top": null,
            "grid_column": null,
            "overflow_y": null,
            "overflow_x": null,
            "grid_auto_flow": null,
            "grid_area": null,
            "grid_template_columns": null,
            "flex": null,
            "_model_name": "LayoutModel",
            "justify_items": null,
            "grid_row": null,
            "max_height": null,
            "align_content": null,
            "visibility": null,
            "align_self": null,
            "height": null,
            "min_height": null,
            "padding": null,
            "grid_auto_rows": null,
            "grid_gap": null,
            "max_width": null,
            "order": null,
            "_view_module_version": "1.2.0",
            "grid_template_areas": null,
            "object_position": null,
            "object_fit": null,
            "grid_auto_columns": null,
            "margin": null,
            "display": null,
            "left": null
          }
        },
        "759206fa3ae2466095a7122445ec53fe": {
          "model_module": "@jupyter-widgets/output",
          "model_name": "OutputModel",
          "state": {
            "_view_name": "OutputView",
            "msg_id": "",
            "_dom_classes": [],
            "_model_name": "OutputModel",
            "outputs": [
              {
                "output_type": "display_data",
                "metadata": {
                  "tags": []
                },
                "text/html": "<pre style=\"white-space:pre;overflow-x:auto;line-height:normal;font-family:Menlo,'DejaVu Sans Mono',consolas,'Courier New',monospace\"></pre>\n",
                "text/plain": "<rich.jupyter.JupyterRenderable at 0x7fb2b6ae12d0>"
              }
            ],
            "_view_module": "@jupyter-widgets/output",
            "_model_module_version": "1.0.0",
            "_view_count": null,
            "_view_module_version": "1.0.0",
            "layout": "IPY_MODEL_5a4230c4a7b14604abedf39186d53d1e",
            "_model_module": "@jupyter-widgets/output"
          }
        },
        "5a4230c4a7b14604abedf39186d53d1e": {
          "model_module": "@jupyter-widgets/base",
          "model_name": "LayoutModel",
          "state": {
            "_view_name": "LayoutView",
            "grid_template_rows": null,
            "right": null,
            "justify_content": null,
            "_view_module": "@jupyter-widgets/base",
            "overflow": null,
            "_model_module_version": "1.2.0",
            "_view_count": null,
            "flex_flow": null,
            "width": null,
            "min_width": null,
            "border": null,
            "align_items": null,
            "bottom": null,
            "_model_module": "@jupyter-widgets/base",
            "top": null,
            "grid_column": null,
            "overflow_y": null,
            "overflow_x": null,
            "grid_auto_flow": null,
            "grid_area": null,
            "grid_template_columns": null,
            "flex": null,
            "_model_name": "LayoutModel",
            "justify_items": null,
            "grid_row": null,
            "max_height": null,
            "align_content": null,
            "visibility": null,
            "align_self": null,
            "height": null,
            "min_height": null,
            "padding": null,
            "grid_auto_rows": null,
            "grid_gap": null,
            "max_width": null,
            "order": null,
            "_view_module_version": "1.2.0",
            "grid_template_areas": null,
            "object_position": null,
            "object_fit": null,
            "grid_auto_columns": null,
            "margin": null,
            "display": null,
            "left": null
          }
        },
        "bc82eb657910416bbdcd3bdf33587a3e": {
          "model_module": "@jupyter-widgets/output",
          "model_name": "OutputModel",
          "state": {
            "_view_name": "OutputView",
            "msg_id": "",
            "_dom_classes": [],
            "_model_name": "OutputModel",
            "outputs": [
              {
                "output_type": "display_data",
                "metadata": {
                  "tags": []
                },
                "text/html": "<pre style=\"white-space:pre;overflow-x:auto;line-height:normal;font-family:Menlo,'DejaVu Sans Mono',consolas,'Courier New',monospace\"></pre>\n",
                "text/plain": "<rich.jupyter.JupyterRenderable at 0x7fb2b691b3d0>"
              }
            ],
            "_view_module": "@jupyter-widgets/output",
            "_model_module_version": "1.0.0",
            "_view_count": null,
            "_view_module_version": "1.0.0",
            "layout": "IPY_MODEL_feb640bb7aed4392bf8c0934c5d02aeb",
            "_model_module": "@jupyter-widgets/output"
          }
        },
        "feb640bb7aed4392bf8c0934c5d02aeb": {
          "model_module": "@jupyter-widgets/base",
          "model_name": "LayoutModel",
          "state": {
            "_view_name": "LayoutView",
            "grid_template_rows": null,
            "right": null,
            "justify_content": null,
            "_view_module": "@jupyter-widgets/base",
            "overflow": null,
            "_model_module_version": "1.2.0",
            "_view_count": null,
            "flex_flow": null,
            "width": null,
            "min_width": null,
            "border": null,
            "align_items": null,
            "bottom": null,
            "_model_module": "@jupyter-widgets/base",
            "top": null,
            "grid_column": null,
            "overflow_y": null,
            "overflow_x": null,
            "grid_auto_flow": null,
            "grid_area": null,
            "grid_template_columns": null,
            "flex": null,
            "_model_name": "LayoutModel",
            "justify_items": null,
            "grid_row": null,
            "max_height": null,
            "align_content": null,
            "visibility": null,
            "align_self": null,
            "height": null,
            "min_height": null,
            "padding": null,
            "grid_auto_rows": null,
            "grid_gap": null,
            "max_width": null,
            "order": null,
            "_view_module_version": "1.2.0",
            "grid_template_areas": null,
            "object_position": null,
            "object_fit": null,
            "grid_auto_columns": null,
            "margin": null,
            "display": null,
            "left": null
          }
        },
        "ecf83276de35434a8aa383435433fffa": {
          "model_module": "@jupyter-widgets/output",
          "model_name": "OutputModel",
          "state": {
            "_view_name": "OutputView",
            "msg_id": "",
            "_dom_classes": [],
            "_model_name": "OutputModel",
            "outputs": [
              {
                "output_type": "display_data",
                "metadata": {
                  "tags": []
                },
                "text/html": "<pre style=\"white-space:pre;overflow-x:auto;line-height:normal;font-family:Menlo,'DejaVu Sans Mono',consolas,'Courier New',monospace\"></pre>\n",
                "text/plain": "<rich.jupyter.JupyterRenderable at 0x7fb2b6906810>"
              }
            ],
            "_view_module": "@jupyter-widgets/output",
            "_model_module_version": "1.0.0",
            "_view_count": null,
            "_view_module_version": "1.0.0",
            "layout": "IPY_MODEL_43d160f0c9ae44a0b949a8038f849730",
            "_model_module": "@jupyter-widgets/output"
          }
        },
        "43d160f0c9ae44a0b949a8038f849730": {
          "model_module": "@jupyter-widgets/base",
          "model_name": "LayoutModel",
          "state": {
            "_view_name": "LayoutView",
            "grid_template_rows": null,
            "right": null,
            "justify_content": null,
            "_view_module": "@jupyter-widgets/base",
            "overflow": null,
            "_model_module_version": "1.2.0",
            "_view_count": null,
            "flex_flow": null,
            "width": null,
            "min_width": null,
            "border": null,
            "align_items": null,
            "bottom": null,
            "_model_module": "@jupyter-widgets/base",
            "top": null,
            "grid_column": null,
            "overflow_y": null,
            "overflow_x": null,
            "grid_auto_flow": null,
            "grid_area": null,
            "grid_template_columns": null,
            "flex": null,
            "_model_name": "LayoutModel",
            "justify_items": null,
            "grid_row": null,
            "max_height": null,
            "align_content": null,
            "visibility": null,
            "align_self": null,
            "height": null,
            "min_height": null,
            "padding": null,
            "grid_auto_rows": null,
            "grid_gap": null,
            "max_width": null,
            "order": null,
            "_view_module_version": "1.2.0",
            "grid_template_areas": null,
            "object_position": null,
            "object_fit": null,
            "grid_auto_columns": null,
            "margin": null,
            "display": null,
            "left": null
          }
        },
        "3f3b697c44b4485e85ffde75fe135d3d": {
          "model_module": "@jupyter-widgets/output",
          "model_name": "OutputModel",
          "state": {
            "_view_name": "OutputView",
            "msg_id": "",
            "_dom_classes": [],
            "_model_name": "OutputModel",
            "outputs": [
              {
                "output_type": "display_data",
                "metadata": {
                  "tags": []
                },
                "text/html": "<pre style=\"white-space:pre;overflow-x:auto;line-height:normal;font-family:Menlo,'DejaVu Sans Mono',consolas,'Courier New',monospace\"></pre>\n",
                "text/plain": "<rich.jupyter.JupyterRenderable at 0x7fb2b680be10>"
              }
            ],
            "_view_module": "@jupyter-widgets/output",
            "_model_module_version": "1.0.0",
            "_view_count": null,
            "_view_module_version": "1.0.0",
            "layout": "IPY_MODEL_beab6fe11ca44fd98036013a3f6553a1",
            "_model_module": "@jupyter-widgets/output"
          }
        },
        "beab6fe11ca44fd98036013a3f6553a1": {
          "model_module": "@jupyter-widgets/base",
          "model_name": "LayoutModel",
          "state": {
            "_view_name": "LayoutView",
            "grid_template_rows": null,
            "right": null,
            "justify_content": null,
            "_view_module": "@jupyter-widgets/base",
            "overflow": null,
            "_model_module_version": "1.2.0",
            "_view_count": null,
            "flex_flow": null,
            "width": null,
            "min_width": null,
            "border": null,
            "align_items": null,
            "bottom": null,
            "_model_module": "@jupyter-widgets/base",
            "top": null,
            "grid_column": null,
            "overflow_y": null,
            "overflow_x": null,
            "grid_auto_flow": null,
            "grid_area": null,
            "grid_template_columns": null,
            "flex": null,
            "_model_name": "LayoutModel",
            "justify_items": null,
            "grid_row": null,
            "max_height": null,
            "align_content": null,
            "visibility": null,
            "align_self": null,
            "height": null,
            "min_height": null,
            "padding": null,
            "grid_auto_rows": null,
            "grid_gap": null,
            "max_width": null,
            "order": null,
            "_view_module_version": "1.2.0",
            "grid_template_areas": null,
            "object_position": null,
            "object_fit": null,
            "grid_auto_columns": null,
            "margin": null,
            "display": null,
            "left": null
          }
        },
        "906c1eb6bb4942519880c8d477b31d71": {
          "model_module": "@jupyter-widgets/output",
          "model_name": "OutputModel",
          "state": {
            "_view_name": "OutputView",
            "msg_id": "",
            "_dom_classes": [],
            "_model_name": "OutputModel",
            "outputs": [
              {
                "output_type": "display_data",
                "metadata": {
                  "tags": []
                },
                "text/html": "<pre style=\"white-space:pre;overflow-x:auto;line-height:normal;font-family:Menlo,'DejaVu Sans Mono',consolas,'Courier New',monospace\"></pre>\n",
                "text/plain": "<rich.jupyter.JupyterRenderable at 0x7fb2b67e0e10>"
              }
            ],
            "_view_module": "@jupyter-widgets/output",
            "_model_module_version": "1.0.0",
            "_view_count": null,
            "_view_module_version": "1.0.0",
            "layout": "IPY_MODEL_8bb3ac2519c44454afb73c9094f11c0d",
            "_model_module": "@jupyter-widgets/output"
          }
        },
        "8bb3ac2519c44454afb73c9094f11c0d": {
          "model_module": "@jupyter-widgets/base",
          "model_name": "LayoutModel",
          "state": {
            "_view_name": "LayoutView",
            "grid_template_rows": null,
            "right": null,
            "justify_content": null,
            "_view_module": "@jupyter-widgets/base",
            "overflow": null,
            "_model_module_version": "1.2.0",
            "_view_count": null,
            "flex_flow": null,
            "width": null,
            "min_width": null,
            "border": null,
            "align_items": null,
            "bottom": null,
            "_model_module": "@jupyter-widgets/base",
            "top": null,
            "grid_column": null,
            "overflow_y": null,
            "overflow_x": null,
            "grid_auto_flow": null,
            "grid_area": null,
            "grid_template_columns": null,
            "flex": null,
            "_model_name": "LayoutModel",
            "justify_items": null,
            "grid_row": null,
            "max_height": null,
            "align_content": null,
            "visibility": null,
            "align_self": null,
            "height": null,
            "min_height": null,
            "padding": null,
            "grid_auto_rows": null,
            "grid_gap": null,
            "max_width": null,
            "order": null,
            "_view_module_version": "1.2.0",
            "grid_template_areas": null,
            "object_position": null,
            "object_fit": null,
            "grid_auto_columns": null,
            "margin": null,
            "display": null,
            "left": null
          }
        },
        "8d1c5069ebb14bfc9df613b8a3249425": {
          "model_module": "@jupyter-widgets/output",
          "model_name": "OutputModel",
          "state": {
            "_view_name": "OutputView",
            "msg_id": "",
            "_dom_classes": [],
            "_model_name": "OutputModel",
            "outputs": [
              {
                "output_type": "display_data",
                "metadata": {
                  "tags": []
                },
                "text/html": "<pre style=\"white-space:pre;overflow-x:auto;line-height:normal;font-family:Menlo,'DejaVu Sans Mono',consolas,'Courier New',monospace\"></pre>\n",
                "text/plain": "<rich.jupyter.JupyterRenderable at 0x7fb2b676be90>"
              }
            ],
            "_view_module": "@jupyter-widgets/output",
            "_model_module_version": "1.0.0",
            "_view_count": null,
            "_view_module_version": "1.0.0",
            "layout": "IPY_MODEL_5339e94dbbfc4a93af03c655d964a554",
            "_model_module": "@jupyter-widgets/output"
          }
        },
        "5339e94dbbfc4a93af03c655d964a554": {
          "model_module": "@jupyter-widgets/base",
          "model_name": "LayoutModel",
          "state": {
            "_view_name": "LayoutView",
            "grid_template_rows": null,
            "right": null,
            "justify_content": null,
            "_view_module": "@jupyter-widgets/base",
            "overflow": null,
            "_model_module_version": "1.2.0",
            "_view_count": null,
            "flex_flow": null,
            "width": null,
            "min_width": null,
            "border": null,
            "align_items": null,
            "bottom": null,
            "_model_module": "@jupyter-widgets/base",
            "top": null,
            "grid_column": null,
            "overflow_y": null,
            "overflow_x": null,
            "grid_auto_flow": null,
            "grid_area": null,
            "grid_template_columns": null,
            "flex": null,
            "_model_name": "LayoutModel",
            "justify_items": null,
            "grid_row": null,
            "max_height": null,
            "align_content": null,
            "visibility": null,
            "align_self": null,
            "height": null,
            "min_height": null,
            "padding": null,
            "grid_auto_rows": null,
            "grid_gap": null,
            "max_width": null,
            "order": null,
            "_view_module_version": "1.2.0",
            "grid_template_areas": null,
            "object_position": null,
            "object_fit": null,
            "grid_auto_columns": null,
            "margin": null,
            "display": null,
            "left": null
          }
        },
        "042abe45c9ad4c8b9ab7a0a01e6e4fd9": {
          "model_module": "@jupyter-widgets/output",
          "model_name": "OutputModel",
          "state": {
            "_view_name": "OutputView",
            "msg_id": "",
            "_dom_classes": [],
            "_model_name": "OutputModel",
            "outputs": [
              {
                "output_type": "display_data",
                "metadata": {
                  "tags": []
                },
                "text/html": "<pre style=\"white-space:pre;overflow-x:auto;line-height:normal;font-family:Menlo,'DejaVu Sans Mono',consolas,'Courier New',monospace\"></pre>\n",
                "text/plain": "<rich.jupyter.JupyterRenderable at 0x7fb2b66c4d90>"
              }
            ],
            "_view_module": "@jupyter-widgets/output",
            "_model_module_version": "1.0.0",
            "_view_count": null,
            "_view_module_version": "1.0.0",
            "layout": "IPY_MODEL_a58e92c4c7524b8fb64708b2c1d436b8",
            "_model_module": "@jupyter-widgets/output"
          }
        },
        "a58e92c4c7524b8fb64708b2c1d436b8": {
          "model_module": "@jupyter-widgets/base",
          "model_name": "LayoutModel",
          "state": {
            "_view_name": "LayoutView",
            "grid_template_rows": null,
            "right": null,
            "justify_content": null,
            "_view_module": "@jupyter-widgets/base",
            "overflow": null,
            "_model_module_version": "1.2.0",
            "_view_count": null,
            "flex_flow": null,
            "width": null,
            "min_width": null,
            "border": null,
            "align_items": null,
            "bottom": null,
            "_model_module": "@jupyter-widgets/base",
            "top": null,
            "grid_column": null,
            "overflow_y": null,
            "overflow_x": null,
            "grid_auto_flow": null,
            "grid_area": null,
            "grid_template_columns": null,
            "flex": null,
            "_model_name": "LayoutModel",
            "justify_items": null,
            "grid_row": null,
            "max_height": null,
            "align_content": null,
            "visibility": null,
            "align_self": null,
            "height": null,
            "min_height": null,
            "padding": null,
            "grid_auto_rows": null,
            "grid_gap": null,
            "max_width": null,
            "order": null,
            "_view_module_version": "1.2.0",
            "grid_template_areas": null,
            "object_position": null,
            "object_fit": null,
            "grid_auto_columns": null,
            "margin": null,
            "display": null,
            "left": null
          }
        },
        "b5f1c2f7a2a04633bdf5d8f6aec85958": {
          "model_module": "@jupyter-widgets/output",
          "model_name": "OutputModel",
          "state": {
            "_view_name": "OutputView",
            "msg_id": "",
            "_dom_classes": [],
            "_model_name": "OutputModel",
            "outputs": [
              {
                "output_type": "display_data",
                "metadata": {
                  "tags": []
                },
                "text/html": "<pre style=\"white-space:pre;overflow-x:auto;line-height:normal;font-family:Menlo,'DejaVu Sans Mono',consolas,'Courier New',monospace\"></pre>\n",
                "text/plain": "<rich.jupyter.JupyterRenderable at 0x7fb2b65c16d0>"
              }
            ],
            "_view_module": "@jupyter-widgets/output",
            "_model_module_version": "1.0.0",
            "_view_count": null,
            "_view_module_version": "1.0.0",
            "layout": "IPY_MODEL_eb5c44280bee4728b132426217a3afad",
            "_model_module": "@jupyter-widgets/output"
          }
        },
        "eb5c44280bee4728b132426217a3afad": {
          "model_module": "@jupyter-widgets/base",
          "model_name": "LayoutModel",
          "state": {
            "_view_name": "LayoutView",
            "grid_template_rows": null,
            "right": null,
            "justify_content": null,
            "_view_module": "@jupyter-widgets/base",
            "overflow": null,
            "_model_module_version": "1.2.0",
            "_view_count": null,
            "flex_flow": null,
            "width": null,
            "min_width": null,
            "border": null,
            "align_items": null,
            "bottom": null,
            "_model_module": "@jupyter-widgets/base",
            "top": null,
            "grid_column": null,
            "overflow_y": null,
            "overflow_x": null,
            "grid_auto_flow": null,
            "grid_area": null,
            "grid_template_columns": null,
            "flex": null,
            "_model_name": "LayoutModel",
            "justify_items": null,
            "grid_row": null,
            "max_height": null,
            "align_content": null,
            "visibility": null,
            "align_self": null,
            "height": null,
            "min_height": null,
            "padding": null,
            "grid_auto_rows": null,
            "grid_gap": null,
            "max_width": null,
            "order": null,
            "_view_module_version": "1.2.0",
            "grid_template_areas": null,
            "object_position": null,
            "object_fit": null,
            "grid_auto_columns": null,
            "margin": null,
            "display": null,
            "left": null
          }
        },
        "006c8a78d98341d39ddaa27437a9111f": {
          "model_module": "@jupyter-widgets/output",
          "model_name": "OutputModel",
          "state": {
            "_view_name": "OutputView",
            "msg_id": "",
            "_dom_classes": [],
            "_model_name": "OutputModel",
            "outputs": [
              {
                "output_type": "display_data",
                "metadata": {
                  "tags": []
                },
                "text/html": "<pre style=\"white-space:pre;overflow-x:auto;line-height:normal;font-family:Menlo,'DejaVu Sans Mono',consolas,'Courier New',monospace\"></pre>\n",
                "text/plain": "<rich.jupyter.JupyterRenderable at 0x7fb2b65a51d0>"
              }
            ],
            "_view_module": "@jupyter-widgets/output",
            "_model_module_version": "1.0.0",
            "_view_count": null,
            "_view_module_version": "1.0.0",
            "layout": "IPY_MODEL_1613857a9e51437a84b1b4f8e00e4aa1",
            "_model_module": "@jupyter-widgets/output"
          }
        },
        "1613857a9e51437a84b1b4f8e00e4aa1": {
          "model_module": "@jupyter-widgets/base",
          "model_name": "LayoutModel",
          "state": {
            "_view_name": "LayoutView",
            "grid_template_rows": null,
            "right": null,
            "justify_content": null,
            "_view_module": "@jupyter-widgets/base",
            "overflow": null,
            "_model_module_version": "1.2.0",
            "_view_count": null,
            "flex_flow": null,
            "width": null,
            "min_width": null,
            "border": null,
            "align_items": null,
            "bottom": null,
            "_model_module": "@jupyter-widgets/base",
            "top": null,
            "grid_column": null,
            "overflow_y": null,
            "overflow_x": null,
            "grid_auto_flow": null,
            "grid_area": null,
            "grid_template_columns": null,
            "flex": null,
            "_model_name": "LayoutModel",
            "justify_items": null,
            "grid_row": null,
            "max_height": null,
            "align_content": null,
            "visibility": null,
            "align_self": null,
            "height": null,
            "min_height": null,
            "padding": null,
            "grid_auto_rows": null,
            "grid_gap": null,
            "max_width": null,
            "order": null,
            "_view_module_version": "1.2.0",
            "grid_template_areas": null,
            "object_position": null,
            "object_fit": null,
            "grid_auto_columns": null,
            "margin": null,
            "display": null,
            "left": null
          }
        },
        "04edf3969ebd4fb8919f0ec5b10748cf": {
          "model_module": "@jupyter-widgets/output",
          "model_name": "OutputModel",
          "state": {
            "_view_name": "OutputView",
            "msg_id": "",
            "_dom_classes": [],
            "_model_name": "OutputModel",
            "outputs": [
              {
                "output_type": "display_data",
                "metadata": {
                  "tags": []
                },
                "text/html": "<pre style=\"white-space:pre;overflow-x:auto;line-height:normal;font-family:Menlo,'DejaVu Sans Mono',consolas,'Courier New',monospace\"></pre>\n",
                "text/plain": "<rich.jupyter.JupyterRenderable at 0x7fb2b6432390>"
              }
            ],
            "_view_module": "@jupyter-widgets/output",
            "_model_module_version": "1.0.0",
            "_view_count": null,
            "_view_module_version": "1.0.0",
            "layout": "IPY_MODEL_6978d73cdd1c4a3d845337da3778cf53",
            "_model_module": "@jupyter-widgets/output"
          }
        },
        "6978d73cdd1c4a3d845337da3778cf53": {
          "model_module": "@jupyter-widgets/base",
          "model_name": "LayoutModel",
          "state": {
            "_view_name": "LayoutView",
            "grid_template_rows": null,
            "right": null,
            "justify_content": null,
            "_view_module": "@jupyter-widgets/base",
            "overflow": null,
            "_model_module_version": "1.2.0",
            "_view_count": null,
            "flex_flow": null,
            "width": null,
            "min_width": null,
            "border": null,
            "align_items": null,
            "bottom": null,
            "_model_module": "@jupyter-widgets/base",
            "top": null,
            "grid_column": null,
            "overflow_y": null,
            "overflow_x": null,
            "grid_auto_flow": null,
            "grid_area": null,
            "grid_template_columns": null,
            "flex": null,
            "_model_name": "LayoutModel",
            "justify_items": null,
            "grid_row": null,
            "max_height": null,
            "align_content": null,
            "visibility": null,
            "align_self": null,
            "height": null,
            "min_height": null,
            "padding": null,
            "grid_auto_rows": null,
            "grid_gap": null,
            "max_width": null,
            "order": null,
            "_view_module_version": "1.2.0",
            "grid_template_areas": null,
            "object_position": null,
            "object_fit": null,
            "grid_auto_columns": null,
            "margin": null,
            "display": null,
            "left": null
          }
        },
        "00b2e24498574d0584e3f63d0a2d00fd": {
          "model_module": "@jupyter-widgets/output",
          "model_name": "OutputModel",
          "state": {
            "_view_name": "OutputView",
            "msg_id": "",
            "_dom_classes": [],
            "_model_name": "OutputModel",
            "outputs": [
              {
                "output_type": "display_data",
                "metadata": {
                  "tags": []
                },
                "text/html": "<pre style=\"white-space:pre;overflow-x:auto;line-height:normal;font-family:Menlo,'DejaVu Sans Mono',consolas,'Courier New',monospace\"></pre>\n",
                "text/plain": "<rich.jupyter.JupyterRenderable at 0x7fb2b640bfd0>"
              }
            ],
            "_view_module": "@jupyter-widgets/output",
            "_model_module_version": "1.0.0",
            "_view_count": null,
            "_view_module_version": "1.0.0",
            "layout": "IPY_MODEL_ae0fdb3e8b16429db249b6d03e6274e0",
            "_model_module": "@jupyter-widgets/output"
          }
        },
        "ae0fdb3e8b16429db249b6d03e6274e0": {
          "model_module": "@jupyter-widgets/base",
          "model_name": "LayoutModel",
          "state": {
            "_view_name": "LayoutView",
            "grid_template_rows": null,
            "right": null,
            "justify_content": null,
            "_view_module": "@jupyter-widgets/base",
            "overflow": null,
            "_model_module_version": "1.2.0",
            "_view_count": null,
            "flex_flow": null,
            "width": null,
            "min_width": null,
            "border": null,
            "align_items": null,
            "bottom": null,
            "_model_module": "@jupyter-widgets/base",
            "top": null,
            "grid_column": null,
            "overflow_y": null,
            "overflow_x": null,
            "grid_auto_flow": null,
            "grid_area": null,
            "grid_template_columns": null,
            "flex": null,
            "_model_name": "LayoutModel",
            "justify_items": null,
            "grid_row": null,
            "max_height": null,
            "align_content": null,
            "visibility": null,
            "align_self": null,
            "height": null,
            "min_height": null,
            "padding": null,
            "grid_auto_rows": null,
            "grid_gap": null,
            "max_width": null,
            "order": null,
            "_view_module_version": "1.2.0",
            "grid_template_areas": null,
            "object_position": null,
            "object_fit": null,
            "grid_auto_columns": null,
            "margin": null,
            "display": null,
            "left": null
          }
        },
        "3356174716904a8fbaecd9b2df7bb157": {
          "model_module": "@jupyter-widgets/output",
          "model_name": "OutputModel",
          "state": {
            "_view_name": "OutputView",
            "msg_id": "",
            "_dom_classes": [],
            "_model_name": "OutputModel",
            "outputs": [
              {
                "output_type": "display_data",
                "metadata": {
                  "tags": []
                },
                "text/html": "<pre style=\"white-space:pre;overflow-x:auto;line-height:normal;font-family:Menlo,'DejaVu Sans Mono',consolas,'Courier New',monospace\"></pre>\n",
                "text/plain": "<rich.jupyter.JupyterRenderable at 0x7fb2b63fb150>"
              }
            ],
            "_view_module": "@jupyter-widgets/output",
            "_model_module_version": "1.0.0",
            "_view_count": null,
            "_view_module_version": "1.0.0",
            "layout": "IPY_MODEL_a484af8b0ea1484b95b035ecaa56b919",
            "_model_module": "@jupyter-widgets/output"
          }
        },
        "a484af8b0ea1484b95b035ecaa56b919": {
          "model_module": "@jupyter-widgets/base",
          "model_name": "LayoutModel",
          "state": {
            "_view_name": "LayoutView",
            "grid_template_rows": null,
            "right": null,
            "justify_content": null,
            "_view_module": "@jupyter-widgets/base",
            "overflow": null,
            "_model_module_version": "1.2.0",
            "_view_count": null,
            "flex_flow": null,
            "width": null,
            "min_width": null,
            "border": null,
            "align_items": null,
            "bottom": null,
            "_model_module": "@jupyter-widgets/base",
            "top": null,
            "grid_column": null,
            "overflow_y": null,
            "overflow_x": null,
            "grid_auto_flow": null,
            "grid_area": null,
            "grid_template_columns": null,
            "flex": null,
            "_model_name": "LayoutModel",
            "justify_items": null,
            "grid_row": null,
            "max_height": null,
            "align_content": null,
            "visibility": null,
            "align_self": null,
            "height": null,
            "min_height": null,
            "padding": null,
            "grid_auto_rows": null,
            "grid_gap": null,
            "max_width": null,
            "order": null,
            "_view_module_version": "1.2.0",
            "grid_template_areas": null,
            "object_position": null,
            "object_fit": null,
            "grid_auto_columns": null,
            "margin": null,
            "display": null,
            "left": null
          }
        },
        "451666f3f3914350aa522bf28b411a68": {
          "model_module": "@jupyter-widgets/output",
          "model_name": "OutputModel",
          "state": {
            "_view_name": "OutputView",
            "msg_id": "",
            "_dom_classes": [],
            "_model_name": "OutputModel",
            "outputs": [
              {
                "output_type": "display_data",
                "metadata": {
                  "tags": []
                },
                "text/html": "<pre style=\"white-space:pre;overflow-x:auto;line-height:normal;font-family:Menlo,'DejaVu Sans Mono',consolas,'Courier New',monospace\"></pre>\n",
                "text/plain": "<rich.jupyter.JupyterRenderable at 0x7fb2b6313c90>"
              }
            ],
            "_view_module": "@jupyter-widgets/output",
            "_model_module_version": "1.0.0",
            "_view_count": null,
            "_view_module_version": "1.0.0",
            "layout": "IPY_MODEL_9205112d168a4e0b8f1c235764911a06",
            "_model_module": "@jupyter-widgets/output"
          }
        },
        "9205112d168a4e0b8f1c235764911a06": {
          "model_module": "@jupyter-widgets/base",
          "model_name": "LayoutModel",
          "state": {
            "_view_name": "LayoutView",
            "grid_template_rows": null,
            "right": null,
            "justify_content": null,
            "_view_module": "@jupyter-widgets/base",
            "overflow": null,
            "_model_module_version": "1.2.0",
            "_view_count": null,
            "flex_flow": null,
            "width": null,
            "min_width": null,
            "border": null,
            "align_items": null,
            "bottom": null,
            "_model_module": "@jupyter-widgets/base",
            "top": null,
            "grid_column": null,
            "overflow_y": null,
            "overflow_x": null,
            "grid_auto_flow": null,
            "grid_area": null,
            "grid_template_columns": null,
            "flex": null,
            "_model_name": "LayoutModel",
            "justify_items": null,
            "grid_row": null,
            "max_height": null,
            "align_content": null,
            "visibility": null,
            "align_self": null,
            "height": null,
            "min_height": null,
            "padding": null,
            "grid_auto_rows": null,
            "grid_gap": null,
            "max_width": null,
            "order": null,
            "_view_module_version": "1.2.0",
            "grid_template_areas": null,
            "object_position": null,
            "object_fit": null,
            "grid_auto_columns": null,
            "margin": null,
            "display": null,
            "left": null
          }
        },
        "e6b14a5605db4d4f8f1cc85d533ce3fa": {
          "model_module": "@jupyter-widgets/output",
          "model_name": "OutputModel",
          "state": {
            "_view_name": "OutputView",
            "msg_id": "",
            "_dom_classes": [],
            "_model_name": "OutputModel",
            "outputs": [
              {
                "output_type": "display_data",
                "metadata": {
                  "tags": []
                },
                "text/html": "<pre style=\"white-space:pre;overflow-x:auto;line-height:normal;font-family:Menlo,'DejaVu Sans Mono',consolas,'Courier New',monospace\"></pre>\n",
                "text/plain": "<rich.jupyter.JupyterRenderable at 0x7fb2b6283550>"
              }
            ],
            "_view_module": "@jupyter-widgets/output",
            "_model_module_version": "1.0.0",
            "_view_count": null,
            "_view_module_version": "1.0.0",
            "layout": "IPY_MODEL_4550144e448a4e1da14d5606552c7d41",
            "_model_module": "@jupyter-widgets/output"
          }
        },
        "4550144e448a4e1da14d5606552c7d41": {
          "model_module": "@jupyter-widgets/base",
          "model_name": "LayoutModel",
          "state": {
            "_view_name": "LayoutView",
            "grid_template_rows": null,
            "right": null,
            "justify_content": null,
            "_view_module": "@jupyter-widgets/base",
            "overflow": null,
            "_model_module_version": "1.2.0",
            "_view_count": null,
            "flex_flow": null,
            "width": null,
            "min_width": null,
            "border": null,
            "align_items": null,
            "bottom": null,
            "_model_module": "@jupyter-widgets/base",
            "top": null,
            "grid_column": null,
            "overflow_y": null,
            "overflow_x": null,
            "grid_auto_flow": null,
            "grid_area": null,
            "grid_template_columns": null,
            "flex": null,
            "_model_name": "LayoutModel",
            "justify_items": null,
            "grid_row": null,
            "max_height": null,
            "align_content": null,
            "visibility": null,
            "align_self": null,
            "height": null,
            "min_height": null,
            "padding": null,
            "grid_auto_rows": null,
            "grid_gap": null,
            "max_width": null,
            "order": null,
            "_view_module_version": "1.2.0",
            "grid_template_areas": null,
            "object_position": null,
            "object_fit": null,
            "grid_auto_columns": null,
            "margin": null,
            "display": null,
            "left": null
          }
        },
        "45ff58b3c45142f7b5615a229285b16c": {
          "model_module": "@jupyter-widgets/output",
          "model_name": "OutputModel",
          "state": {
            "_view_name": "OutputView",
            "msg_id": "",
            "_dom_classes": [],
            "_model_name": "OutputModel",
            "outputs": [
              {
                "output_type": "display_data",
                "metadata": {
                  "tags": []
                },
                "text/html": "<pre style=\"white-space:pre;overflow-x:auto;line-height:normal;font-family:Menlo,'DejaVu Sans Mono',consolas,'Courier New',monospace\"></pre>\n",
                "text/plain": "<rich.jupyter.JupyterRenderable at 0x7fb2b6283550>"
              }
            ],
            "_view_module": "@jupyter-widgets/output",
            "_model_module_version": "1.0.0",
            "_view_count": null,
            "_view_module_version": "1.0.0",
            "layout": "IPY_MODEL_5c08602e27104303a23e038ba72d980a",
            "_model_module": "@jupyter-widgets/output"
          }
        },
        "5c08602e27104303a23e038ba72d980a": {
          "model_module": "@jupyter-widgets/base",
          "model_name": "LayoutModel",
          "state": {
            "_view_name": "LayoutView",
            "grid_template_rows": null,
            "right": null,
            "justify_content": null,
            "_view_module": "@jupyter-widgets/base",
            "overflow": null,
            "_model_module_version": "1.2.0",
            "_view_count": null,
            "flex_flow": null,
            "width": null,
            "min_width": null,
            "border": null,
            "align_items": null,
            "bottom": null,
            "_model_module": "@jupyter-widgets/base",
            "top": null,
            "grid_column": null,
            "overflow_y": null,
            "overflow_x": null,
            "grid_auto_flow": null,
            "grid_area": null,
            "grid_template_columns": null,
            "flex": null,
            "_model_name": "LayoutModel",
            "justify_items": null,
            "grid_row": null,
            "max_height": null,
            "align_content": null,
            "visibility": null,
            "align_self": null,
            "height": null,
            "min_height": null,
            "padding": null,
            "grid_auto_rows": null,
            "grid_gap": null,
            "max_width": null,
            "order": null,
            "_view_module_version": "1.2.0",
            "grid_template_areas": null,
            "object_position": null,
            "object_fit": null,
            "grid_auto_columns": null,
            "margin": null,
            "display": null,
            "left": null
          }
        },
        "888f8761e1264a549c773fc4ec697e0e": {
          "model_module": "@jupyter-widgets/output",
          "model_name": "OutputModel",
          "state": {
            "_view_name": "OutputView",
            "msg_id": "",
            "_dom_classes": [],
            "_model_name": "OutputModel",
            "outputs": [
              {
                "output_type": "display_data",
                "metadata": {
                  "tags": []
                },
                "text/html": "<pre style=\"white-space:pre;overflow-x:auto;line-height:normal;font-family:Menlo,'DejaVu Sans Mono',consolas,'Courier New',monospace\"></pre>\n",
                "text/plain": "<rich.jupyter.JupyterRenderable at 0x7fb2b61735d0>"
              }
            ],
            "_view_module": "@jupyter-widgets/output",
            "_model_module_version": "1.0.0",
            "_view_count": null,
            "_view_module_version": "1.0.0",
            "layout": "IPY_MODEL_6ec05dcc67d94a8383f2e53bb57a25f6",
            "_model_module": "@jupyter-widgets/output"
          }
        },
        "6ec05dcc67d94a8383f2e53bb57a25f6": {
          "model_module": "@jupyter-widgets/base",
          "model_name": "LayoutModel",
          "state": {
            "_view_name": "LayoutView",
            "grid_template_rows": null,
            "right": null,
            "justify_content": null,
            "_view_module": "@jupyter-widgets/base",
            "overflow": null,
            "_model_module_version": "1.2.0",
            "_view_count": null,
            "flex_flow": null,
            "width": null,
            "min_width": null,
            "border": null,
            "align_items": null,
            "bottom": null,
            "_model_module": "@jupyter-widgets/base",
            "top": null,
            "grid_column": null,
            "overflow_y": null,
            "overflow_x": null,
            "grid_auto_flow": null,
            "grid_area": null,
            "grid_template_columns": null,
            "flex": null,
            "_model_name": "LayoutModel",
            "justify_items": null,
            "grid_row": null,
            "max_height": null,
            "align_content": null,
            "visibility": null,
            "align_self": null,
            "height": null,
            "min_height": null,
            "padding": null,
            "grid_auto_rows": null,
            "grid_gap": null,
            "max_width": null,
            "order": null,
            "_view_module_version": "1.2.0",
            "grid_template_areas": null,
            "object_position": null,
            "object_fit": null,
            "grid_auto_columns": null,
            "margin": null,
            "display": null,
            "left": null
          }
        },
        "f1647fafa23f40e0a5fb8ded432a00e3": {
          "model_module": "@jupyter-widgets/output",
          "model_name": "OutputModel",
          "state": {
            "_view_name": "OutputView",
            "msg_id": "",
            "_dom_classes": [],
            "_model_name": "OutputModel",
            "outputs": [
              {
                "output_type": "display_data",
                "metadata": {
                  "tags": []
                },
                "text/html": "<pre style=\"white-space:pre;overflow-x:auto;line-height:normal;font-family:Menlo,'DejaVu Sans Mono',consolas,'Courier New',monospace\"></pre>\n",
                "text/plain": "<rich.jupyter.JupyterRenderable at 0x7fb2b6135990>"
              }
            ],
            "_view_module": "@jupyter-widgets/output",
            "_model_module_version": "1.0.0",
            "_view_count": null,
            "_view_module_version": "1.0.0",
            "layout": "IPY_MODEL_090c9e5cc03b4ab8b956fc09cd5919f5",
            "_model_module": "@jupyter-widgets/output"
          }
        },
        "090c9e5cc03b4ab8b956fc09cd5919f5": {
          "model_module": "@jupyter-widgets/base",
          "model_name": "LayoutModel",
          "state": {
            "_view_name": "LayoutView",
            "grid_template_rows": null,
            "right": null,
            "justify_content": null,
            "_view_module": "@jupyter-widgets/base",
            "overflow": null,
            "_model_module_version": "1.2.0",
            "_view_count": null,
            "flex_flow": null,
            "width": null,
            "min_width": null,
            "border": null,
            "align_items": null,
            "bottom": null,
            "_model_module": "@jupyter-widgets/base",
            "top": null,
            "grid_column": null,
            "overflow_y": null,
            "overflow_x": null,
            "grid_auto_flow": null,
            "grid_area": null,
            "grid_template_columns": null,
            "flex": null,
            "_model_name": "LayoutModel",
            "justify_items": null,
            "grid_row": null,
            "max_height": null,
            "align_content": null,
            "visibility": null,
            "align_self": null,
            "height": null,
            "min_height": null,
            "padding": null,
            "grid_auto_rows": null,
            "grid_gap": null,
            "max_width": null,
            "order": null,
            "_view_module_version": "1.2.0",
            "grid_template_areas": null,
            "object_position": null,
            "object_fit": null,
            "grid_auto_columns": null,
            "margin": null,
            "display": null,
            "left": null
          }
        },
        "9dacbaf6295d4060b835c768cfa622eb": {
          "model_module": "@jupyter-widgets/output",
          "model_name": "OutputModel",
          "state": {
            "_view_name": "OutputView",
            "msg_id": "",
            "_dom_classes": [],
            "_model_name": "OutputModel",
            "outputs": [
              {
                "output_type": "display_data",
                "metadata": {
                  "tags": []
                },
                "text/html": "<pre style=\"white-space:pre;overflow-x:auto;line-height:normal;font-family:Menlo,'DejaVu Sans Mono',consolas,'Courier New',monospace\"></pre>\n",
                "text/plain": "<rich.jupyter.JupyterRenderable at 0x7fb2b603fdd0>"
              }
            ],
            "_view_module": "@jupyter-widgets/output",
            "_model_module_version": "1.0.0",
            "_view_count": null,
            "_view_module_version": "1.0.0",
            "layout": "IPY_MODEL_4baa75de1c634239ba51505c48cdb0a2",
            "_model_module": "@jupyter-widgets/output"
          }
        },
        "4baa75de1c634239ba51505c48cdb0a2": {
          "model_module": "@jupyter-widgets/base",
          "model_name": "LayoutModel",
          "state": {
            "_view_name": "LayoutView",
            "grid_template_rows": null,
            "right": null,
            "justify_content": null,
            "_view_module": "@jupyter-widgets/base",
            "overflow": null,
            "_model_module_version": "1.2.0",
            "_view_count": null,
            "flex_flow": null,
            "width": null,
            "min_width": null,
            "border": null,
            "align_items": null,
            "bottom": null,
            "_model_module": "@jupyter-widgets/base",
            "top": null,
            "grid_column": null,
            "overflow_y": null,
            "overflow_x": null,
            "grid_auto_flow": null,
            "grid_area": null,
            "grid_template_columns": null,
            "flex": null,
            "_model_name": "LayoutModel",
            "justify_items": null,
            "grid_row": null,
            "max_height": null,
            "align_content": null,
            "visibility": null,
            "align_self": null,
            "height": null,
            "min_height": null,
            "padding": null,
            "grid_auto_rows": null,
            "grid_gap": null,
            "max_width": null,
            "order": null,
            "_view_module_version": "1.2.0",
            "grid_template_areas": null,
            "object_position": null,
            "object_fit": null,
            "grid_auto_columns": null,
            "margin": null,
            "display": null,
            "left": null
          }
        },
        "f48d7b8fd2dd4cb79b3b62724acb8a47": {
          "model_module": "@jupyter-widgets/output",
          "model_name": "OutputModel",
          "state": {
            "_view_name": "OutputView",
            "msg_id": "",
            "_dom_classes": [],
            "_model_name": "OutputModel",
            "outputs": [
              {
                "output_type": "display_data",
                "metadata": {
                  "tags": []
                },
                "text/html": "<pre style=\"white-space:pre;overflow-x:auto;line-height:normal;font-family:Menlo,'DejaVu Sans Mono',consolas,'Courier New',monospace\"></pre>\n",
                "text/plain": "<rich.jupyter.JupyterRenderable at 0x7fb2b5fd4f10>"
              }
            ],
            "_view_module": "@jupyter-widgets/output",
            "_model_module_version": "1.0.0",
            "_view_count": null,
            "_view_module_version": "1.0.0",
            "layout": "IPY_MODEL_8be71ec83a364256afc0c141441d3dec",
            "_model_module": "@jupyter-widgets/output"
          }
        },
        "8be71ec83a364256afc0c141441d3dec": {
          "model_module": "@jupyter-widgets/base",
          "model_name": "LayoutModel",
          "state": {
            "_view_name": "LayoutView",
            "grid_template_rows": null,
            "right": null,
            "justify_content": null,
            "_view_module": "@jupyter-widgets/base",
            "overflow": null,
            "_model_module_version": "1.2.0",
            "_view_count": null,
            "flex_flow": null,
            "width": null,
            "min_width": null,
            "border": null,
            "align_items": null,
            "bottom": null,
            "_model_module": "@jupyter-widgets/base",
            "top": null,
            "grid_column": null,
            "overflow_y": null,
            "overflow_x": null,
            "grid_auto_flow": null,
            "grid_area": null,
            "grid_template_columns": null,
            "flex": null,
            "_model_name": "LayoutModel",
            "justify_items": null,
            "grid_row": null,
            "max_height": null,
            "align_content": null,
            "visibility": null,
            "align_self": null,
            "height": null,
            "min_height": null,
            "padding": null,
            "grid_auto_rows": null,
            "grid_gap": null,
            "max_width": null,
            "order": null,
            "_view_module_version": "1.2.0",
            "grid_template_areas": null,
            "object_position": null,
            "object_fit": null,
            "grid_auto_columns": null,
            "margin": null,
            "display": null,
            "left": null
          }
        },
        "5a5d8330bc0d432c9a4c3db2ae22dd2e": {
          "model_module": "@jupyter-widgets/output",
          "model_name": "OutputModel",
          "state": {
            "_view_name": "OutputView",
            "msg_id": "",
            "_dom_classes": [],
            "_model_name": "OutputModel",
            "outputs": [
              {
                "output_type": "display_data",
                "metadata": {
                  "tags": []
                },
                "text/html": "<pre style=\"white-space:pre;overflow-x:auto;line-height:normal;font-family:Menlo,'DejaVu Sans Mono',consolas,'Courier New',monospace\"></pre>\n",
                "text/plain": "<rich.jupyter.JupyterRenderable at 0x7fb2b60c0a90>"
              }
            ],
            "_view_module": "@jupyter-widgets/output",
            "_model_module_version": "1.0.0",
            "_view_count": null,
            "_view_module_version": "1.0.0",
            "layout": "IPY_MODEL_3b629586f73b42f98495dc1c3126f11a",
            "_model_module": "@jupyter-widgets/output"
          }
        },
        "3b629586f73b42f98495dc1c3126f11a": {
          "model_module": "@jupyter-widgets/base",
          "model_name": "LayoutModel",
          "state": {
            "_view_name": "LayoutView",
            "grid_template_rows": null,
            "right": null,
            "justify_content": null,
            "_view_module": "@jupyter-widgets/base",
            "overflow": null,
            "_model_module_version": "1.2.0",
            "_view_count": null,
            "flex_flow": null,
            "width": null,
            "min_width": null,
            "border": null,
            "align_items": null,
            "bottom": null,
            "_model_module": "@jupyter-widgets/base",
            "top": null,
            "grid_column": null,
            "overflow_y": null,
            "overflow_x": null,
            "grid_auto_flow": null,
            "grid_area": null,
            "grid_template_columns": null,
            "flex": null,
            "_model_name": "LayoutModel",
            "justify_items": null,
            "grid_row": null,
            "max_height": null,
            "align_content": null,
            "visibility": null,
            "align_self": null,
            "height": null,
            "min_height": null,
            "padding": null,
            "grid_auto_rows": null,
            "grid_gap": null,
            "max_width": null,
            "order": null,
            "_view_module_version": "1.2.0",
            "grid_template_areas": null,
            "object_position": null,
            "object_fit": null,
            "grid_auto_columns": null,
            "margin": null,
            "display": null,
            "left": null
          }
        },
        "e67927db165c4883af207703fe437548": {
          "model_module": "@jupyter-widgets/output",
          "model_name": "OutputModel",
          "state": {
            "_view_name": "OutputView",
            "msg_id": "",
            "_dom_classes": [],
            "_model_name": "OutputModel",
            "outputs": [
              {
                "output_type": "display_data",
                "metadata": {
                  "tags": []
                },
                "text/html": "<pre style=\"white-space:pre;overflow-x:auto;line-height:normal;font-family:Menlo,'DejaVu Sans Mono',consolas,'Courier New',monospace\"></pre>\n",
                "text/plain": "<rich.jupyter.JupyterRenderable at 0x7fb2b5fd30d0>"
              }
            ],
            "_view_module": "@jupyter-widgets/output",
            "_model_module_version": "1.0.0",
            "_view_count": null,
            "_view_module_version": "1.0.0",
            "layout": "IPY_MODEL_9ac0697798fd4beb9426ed25564441ab",
            "_model_module": "@jupyter-widgets/output"
          }
        },
        "9ac0697798fd4beb9426ed25564441ab": {
          "model_module": "@jupyter-widgets/base",
          "model_name": "LayoutModel",
          "state": {
            "_view_name": "LayoutView",
            "grid_template_rows": null,
            "right": null,
            "justify_content": null,
            "_view_module": "@jupyter-widgets/base",
            "overflow": null,
            "_model_module_version": "1.2.0",
            "_view_count": null,
            "flex_flow": null,
            "width": null,
            "min_width": null,
            "border": null,
            "align_items": null,
            "bottom": null,
            "_model_module": "@jupyter-widgets/base",
            "top": null,
            "grid_column": null,
            "overflow_y": null,
            "overflow_x": null,
            "grid_auto_flow": null,
            "grid_area": null,
            "grid_template_columns": null,
            "flex": null,
            "_model_name": "LayoutModel",
            "justify_items": null,
            "grid_row": null,
            "max_height": null,
            "align_content": null,
            "visibility": null,
            "align_self": null,
            "height": null,
            "min_height": null,
            "padding": null,
            "grid_auto_rows": null,
            "grid_gap": null,
            "max_width": null,
            "order": null,
            "_view_module_version": "1.2.0",
            "grid_template_areas": null,
            "object_position": null,
            "object_fit": null,
            "grid_auto_columns": null,
            "margin": null,
            "display": null,
            "left": null
          }
        },
        "47bc2fbad1a74d77a8215b9d65f81a44": {
          "model_module": "@jupyter-widgets/output",
          "model_name": "OutputModel",
          "state": {
            "_view_name": "OutputView",
            "msg_id": "",
            "_dom_classes": [],
            "_model_name": "OutputModel",
            "outputs": [
              {
                "output_type": "display_data",
                "metadata": {
                  "tags": []
                },
                "text/html": "<pre style=\"white-space:pre;overflow-x:auto;line-height:normal;font-family:Menlo,'DejaVu Sans Mono',consolas,'Courier New',monospace\"></pre>\n",
                "text/plain": "<rich.jupyter.JupyterRenderable at 0x7fb2b5e37a90>"
              }
            ],
            "_view_module": "@jupyter-widgets/output",
            "_model_module_version": "1.0.0",
            "_view_count": null,
            "_view_module_version": "1.0.0",
            "layout": "IPY_MODEL_3dbccb5dd87441ddb94798b63d76e2ab",
            "_model_module": "@jupyter-widgets/output"
          }
        },
        "3dbccb5dd87441ddb94798b63d76e2ab": {
          "model_module": "@jupyter-widgets/base",
          "model_name": "LayoutModel",
          "state": {
            "_view_name": "LayoutView",
            "grid_template_rows": null,
            "right": null,
            "justify_content": null,
            "_view_module": "@jupyter-widgets/base",
            "overflow": null,
            "_model_module_version": "1.2.0",
            "_view_count": null,
            "flex_flow": null,
            "width": null,
            "min_width": null,
            "border": null,
            "align_items": null,
            "bottom": null,
            "_model_module": "@jupyter-widgets/base",
            "top": null,
            "grid_column": null,
            "overflow_y": null,
            "overflow_x": null,
            "grid_auto_flow": null,
            "grid_area": null,
            "grid_template_columns": null,
            "flex": null,
            "_model_name": "LayoutModel",
            "justify_items": null,
            "grid_row": null,
            "max_height": null,
            "align_content": null,
            "visibility": null,
            "align_self": null,
            "height": null,
            "min_height": null,
            "padding": null,
            "grid_auto_rows": null,
            "grid_gap": null,
            "max_width": null,
            "order": null,
            "_view_module_version": "1.2.0",
            "grid_template_areas": null,
            "object_position": null,
            "object_fit": null,
            "grid_auto_columns": null,
            "margin": null,
            "display": null,
            "left": null
          }
        },
        "09e83953642b42538df074aeab4c371f": {
          "model_module": "@jupyter-widgets/output",
          "model_name": "OutputModel",
          "state": {
            "_view_name": "OutputView",
            "msg_id": "",
            "_dom_classes": [],
            "_model_name": "OutputModel",
            "outputs": [
              {
                "output_type": "display_data",
                "metadata": {
                  "tags": []
                },
                "text/html": "<pre style=\"white-space:pre;overflow-x:auto;line-height:normal;font-family:Menlo,'DejaVu Sans Mono',consolas,'Courier New',monospace\"></pre>\n",
                "text/plain": "<rich.jupyter.JupyterRenderable at 0x7fb2b5df2a50>"
              }
            ],
            "_view_module": "@jupyter-widgets/output",
            "_model_module_version": "1.0.0",
            "_view_count": null,
            "_view_module_version": "1.0.0",
            "layout": "IPY_MODEL_7cf89069cd434fa7966f083151858a68",
            "_model_module": "@jupyter-widgets/output"
          }
        },
        "7cf89069cd434fa7966f083151858a68": {
          "model_module": "@jupyter-widgets/base",
          "model_name": "LayoutModel",
          "state": {
            "_view_name": "LayoutView",
            "grid_template_rows": null,
            "right": null,
            "justify_content": null,
            "_view_module": "@jupyter-widgets/base",
            "overflow": null,
            "_model_module_version": "1.2.0",
            "_view_count": null,
            "flex_flow": null,
            "width": null,
            "min_width": null,
            "border": null,
            "align_items": null,
            "bottom": null,
            "_model_module": "@jupyter-widgets/base",
            "top": null,
            "grid_column": null,
            "overflow_y": null,
            "overflow_x": null,
            "grid_auto_flow": null,
            "grid_area": null,
            "grid_template_columns": null,
            "flex": null,
            "_model_name": "LayoutModel",
            "justify_items": null,
            "grid_row": null,
            "max_height": null,
            "align_content": null,
            "visibility": null,
            "align_self": null,
            "height": null,
            "min_height": null,
            "padding": null,
            "grid_auto_rows": null,
            "grid_gap": null,
            "max_width": null,
            "order": null,
            "_view_module_version": "1.2.0",
            "grid_template_areas": null,
            "object_position": null,
            "object_fit": null,
            "grid_auto_columns": null,
            "margin": null,
            "display": null,
            "left": null
          }
        },
        "0e495934070d4b4ca8647e1f2bf0be19": {
          "model_module": "@jupyter-widgets/output",
          "model_name": "OutputModel",
          "state": {
            "_view_name": "OutputView",
            "msg_id": "",
            "_dom_classes": [],
            "_model_name": "OutputModel",
            "outputs": [
              {
                "output_type": "display_data",
                "metadata": {
                  "tags": []
                },
                "text/html": "<pre style=\"white-space:pre;overflow-x:auto;line-height:normal;font-family:Menlo,'DejaVu Sans Mono',consolas,'Courier New',monospace\"></pre>\n",
                "text/plain": "<rich.jupyter.JupyterRenderable at 0x7fb2b5fd3310>"
              }
            ],
            "_view_module": "@jupyter-widgets/output",
            "_model_module_version": "1.0.0",
            "_view_count": null,
            "_view_module_version": "1.0.0",
            "layout": "IPY_MODEL_df6a57840e6b4847847f338c32f3b68a",
            "_model_module": "@jupyter-widgets/output"
          }
        },
        "df6a57840e6b4847847f338c32f3b68a": {
          "model_module": "@jupyter-widgets/base",
          "model_name": "LayoutModel",
          "state": {
            "_view_name": "LayoutView",
            "grid_template_rows": null,
            "right": null,
            "justify_content": null,
            "_view_module": "@jupyter-widgets/base",
            "overflow": null,
            "_model_module_version": "1.2.0",
            "_view_count": null,
            "flex_flow": null,
            "width": null,
            "min_width": null,
            "border": null,
            "align_items": null,
            "bottom": null,
            "_model_module": "@jupyter-widgets/base",
            "top": null,
            "grid_column": null,
            "overflow_y": null,
            "overflow_x": null,
            "grid_auto_flow": null,
            "grid_area": null,
            "grid_template_columns": null,
            "flex": null,
            "_model_name": "LayoutModel",
            "justify_items": null,
            "grid_row": null,
            "max_height": null,
            "align_content": null,
            "visibility": null,
            "align_self": null,
            "height": null,
            "min_height": null,
            "padding": null,
            "grid_auto_rows": null,
            "grid_gap": null,
            "max_width": null,
            "order": null,
            "_view_module_version": "1.2.0",
            "grid_template_areas": null,
            "object_position": null,
            "object_fit": null,
            "grid_auto_columns": null,
            "margin": null,
            "display": null,
            "left": null
          }
        },
        "95174aea541e431a8f623de7eaab7b3a": {
          "model_module": "@jupyter-widgets/output",
          "model_name": "OutputModel",
          "state": {
            "_view_name": "OutputView",
            "msg_id": "",
            "_dom_classes": [],
            "_model_name": "OutputModel",
            "outputs": [
              {
                "output_type": "display_data",
                "metadata": {
                  "tags": []
                },
                "text/html": "<pre style=\"white-space:pre;overflow-x:auto;line-height:normal;font-family:Menlo,'DejaVu Sans Mono',consolas,'Courier New',monospace\"></pre>\n",
                "text/plain": "<rich.jupyter.JupyterRenderable at 0x7fb2b9c86110>"
              }
            ],
            "_view_module": "@jupyter-widgets/output",
            "_model_module_version": "1.0.0",
            "_view_count": null,
            "_view_module_version": "1.0.0",
            "layout": "IPY_MODEL_fffba7f8f35642a8b037f41f68701cad",
            "_model_module": "@jupyter-widgets/output"
          }
        },
        "fffba7f8f35642a8b037f41f68701cad": {
          "model_module": "@jupyter-widgets/base",
          "model_name": "LayoutModel",
          "state": {
            "_view_name": "LayoutView",
            "grid_template_rows": null,
            "right": null,
            "justify_content": null,
            "_view_module": "@jupyter-widgets/base",
            "overflow": null,
            "_model_module_version": "1.2.0",
            "_view_count": null,
            "flex_flow": null,
            "width": null,
            "min_width": null,
            "border": null,
            "align_items": null,
            "bottom": null,
            "_model_module": "@jupyter-widgets/base",
            "top": null,
            "grid_column": null,
            "overflow_y": null,
            "overflow_x": null,
            "grid_auto_flow": null,
            "grid_area": null,
            "grid_template_columns": null,
            "flex": null,
            "_model_name": "LayoutModel",
            "justify_items": null,
            "grid_row": null,
            "max_height": null,
            "align_content": null,
            "visibility": null,
            "align_self": null,
            "height": null,
            "min_height": null,
            "padding": null,
            "grid_auto_rows": null,
            "grid_gap": null,
            "max_width": null,
            "order": null,
            "_view_module_version": "1.2.0",
            "grid_template_areas": null,
            "object_position": null,
            "object_fit": null,
            "grid_auto_columns": null,
            "margin": null,
            "display": null,
            "left": null
          }
        },
        "b022be18e0cc4ff89adb058824e66d03": {
          "model_module": "@jupyter-widgets/output",
          "model_name": "OutputModel",
          "state": {
            "_view_name": "OutputView",
            "msg_id": "",
            "_dom_classes": [],
            "_model_name": "OutputModel",
            "outputs": [
              {
                "output_type": "display_data",
                "metadata": {
                  "tags": []
                },
                "text/html": "<pre style=\"white-space:pre;overflow-x:auto;line-height:normal;font-family:Menlo,'DejaVu Sans Mono',consolas,'Courier New',monospace\"></pre>\n",
                "text/plain": "<rich.jupyter.JupyterRenderable at 0x7fb2b6d875d0>"
              }
            ],
            "_view_module": "@jupyter-widgets/output",
            "_model_module_version": "1.0.0",
            "_view_count": null,
            "_view_module_version": "1.0.0",
            "layout": "IPY_MODEL_752aeaf0ba274e569fd7684df1c0cff1",
            "_model_module": "@jupyter-widgets/output"
          }
        },
        "752aeaf0ba274e569fd7684df1c0cff1": {
          "model_module": "@jupyter-widgets/base",
          "model_name": "LayoutModel",
          "state": {
            "_view_name": "LayoutView",
            "grid_template_rows": null,
            "right": null,
            "justify_content": null,
            "_view_module": "@jupyter-widgets/base",
            "overflow": null,
            "_model_module_version": "1.2.0",
            "_view_count": null,
            "flex_flow": null,
            "width": null,
            "min_width": null,
            "border": null,
            "align_items": null,
            "bottom": null,
            "_model_module": "@jupyter-widgets/base",
            "top": null,
            "grid_column": null,
            "overflow_y": null,
            "overflow_x": null,
            "grid_auto_flow": null,
            "grid_area": null,
            "grid_template_columns": null,
            "flex": null,
            "_model_name": "LayoutModel",
            "justify_items": null,
            "grid_row": null,
            "max_height": null,
            "align_content": null,
            "visibility": null,
            "align_self": null,
            "height": null,
            "min_height": null,
            "padding": null,
            "grid_auto_rows": null,
            "grid_gap": null,
            "max_width": null,
            "order": null,
            "_view_module_version": "1.2.0",
            "grid_template_areas": null,
            "object_position": null,
            "object_fit": null,
            "grid_auto_columns": null,
            "margin": null,
            "display": null,
            "left": null
          }
        },
        "df3c63692aa24e6bbe942029890b0a27": {
          "model_module": "@jupyter-widgets/output",
          "model_name": "OutputModel",
          "state": {
            "_view_name": "OutputView",
            "msg_id": "",
            "_dom_classes": [],
            "_model_name": "OutputModel",
            "outputs": [
              {
                "output_type": "display_data",
                "metadata": {
                  "tags": []
                },
                "text/html": "<pre style=\"white-space:pre;overflow-x:auto;line-height:normal;font-family:Menlo,'DejaVu Sans Mono',consolas,'Courier New',monospace\"></pre>\n",
                "text/plain": "<rich.jupyter.JupyterRenderable at 0x7fb2b7088110>"
              }
            ],
            "_view_module": "@jupyter-widgets/output",
            "_model_module_version": "1.0.0",
            "_view_count": null,
            "_view_module_version": "1.0.0",
            "layout": "IPY_MODEL_e357814cafb341f2ac6bae1c1f34bd4d",
            "_model_module": "@jupyter-widgets/output"
          }
        },
        "e357814cafb341f2ac6bae1c1f34bd4d": {
          "model_module": "@jupyter-widgets/base",
          "model_name": "LayoutModel",
          "state": {
            "_view_name": "LayoutView",
            "grid_template_rows": null,
            "right": null,
            "justify_content": null,
            "_view_module": "@jupyter-widgets/base",
            "overflow": null,
            "_model_module_version": "1.2.0",
            "_view_count": null,
            "flex_flow": null,
            "width": null,
            "min_width": null,
            "border": null,
            "align_items": null,
            "bottom": null,
            "_model_module": "@jupyter-widgets/base",
            "top": null,
            "grid_column": null,
            "overflow_y": null,
            "overflow_x": null,
            "grid_auto_flow": null,
            "grid_area": null,
            "grid_template_columns": null,
            "flex": null,
            "_model_name": "LayoutModel",
            "justify_items": null,
            "grid_row": null,
            "max_height": null,
            "align_content": null,
            "visibility": null,
            "align_self": null,
            "height": null,
            "min_height": null,
            "padding": null,
            "grid_auto_rows": null,
            "grid_gap": null,
            "max_width": null,
            "order": null,
            "_view_module_version": "1.2.0",
            "grid_template_areas": null,
            "object_position": null,
            "object_fit": null,
            "grid_auto_columns": null,
            "margin": null,
            "display": null,
            "left": null
          }
        },
        "1f1ba126a7f84f0ba27103348cc9cc1e": {
          "model_module": "@jupyter-widgets/output",
          "model_name": "OutputModel",
          "state": {
            "_view_name": "OutputView",
            "msg_id": "",
            "_dom_classes": [],
            "_model_name": "OutputModel",
            "outputs": [
              {
                "output_type": "display_data",
                "metadata": {
                  "tags": []
                },
                "text/html": "<pre style=\"white-space:pre;overflow-x:auto;line-height:normal;font-family:Menlo,'DejaVu Sans Mono',consolas,'Courier New',monospace\"></pre>\n",
                "text/plain": "<rich.jupyter.JupyterRenderable at 0x7fb2b6ea2b10>"
              }
            ],
            "_view_module": "@jupyter-widgets/output",
            "_model_module_version": "1.0.0",
            "_view_count": null,
            "_view_module_version": "1.0.0",
            "layout": "IPY_MODEL_a8ed3625cceb4c4e86df01eba5801296",
            "_model_module": "@jupyter-widgets/output"
          }
        },
        "a8ed3625cceb4c4e86df01eba5801296": {
          "model_module": "@jupyter-widgets/base",
          "model_name": "LayoutModel",
          "state": {
            "_view_name": "LayoutView",
            "grid_template_rows": null,
            "right": null,
            "justify_content": null,
            "_view_module": "@jupyter-widgets/base",
            "overflow": null,
            "_model_module_version": "1.2.0",
            "_view_count": null,
            "flex_flow": null,
            "width": null,
            "min_width": null,
            "border": null,
            "align_items": null,
            "bottom": null,
            "_model_module": "@jupyter-widgets/base",
            "top": null,
            "grid_column": null,
            "overflow_y": null,
            "overflow_x": null,
            "grid_auto_flow": null,
            "grid_area": null,
            "grid_template_columns": null,
            "flex": null,
            "_model_name": "LayoutModel",
            "justify_items": null,
            "grid_row": null,
            "max_height": null,
            "align_content": null,
            "visibility": null,
            "align_self": null,
            "height": null,
            "min_height": null,
            "padding": null,
            "grid_auto_rows": null,
            "grid_gap": null,
            "max_width": null,
            "order": null,
            "_view_module_version": "1.2.0",
            "grid_template_areas": null,
            "object_position": null,
            "object_fit": null,
            "grid_auto_columns": null,
            "margin": null,
            "display": null,
            "left": null
          }
        },
        "aed97c782fe14ffda5c9b0f60e3c628d": {
          "model_module": "@jupyter-widgets/output",
          "model_name": "OutputModel",
          "state": {
            "_view_name": "OutputView",
            "msg_id": "",
            "_dom_classes": [],
            "_model_name": "OutputModel",
            "outputs": [
              {
                "output_type": "display_data",
                "metadata": {
                  "tags": []
                },
                "text/html": "<pre style=\"white-space:pre;overflow-x:auto;line-height:normal;font-family:Menlo,'DejaVu Sans Mono',consolas,'Courier New',monospace\"></pre>\n",
                "text/plain": "<rich.jupyter.JupyterRenderable at 0x7fb2b7388810>"
              }
            ],
            "_view_module": "@jupyter-widgets/output",
            "_model_module_version": "1.0.0",
            "_view_count": null,
            "_view_module_version": "1.0.0",
            "layout": "IPY_MODEL_93bb60f546d44c35b09c610b3979af53",
            "_model_module": "@jupyter-widgets/output"
          }
        },
        "93bb60f546d44c35b09c610b3979af53": {
          "model_module": "@jupyter-widgets/base",
          "model_name": "LayoutModel",
          "state": {
            "_view_name": "LayoutView",
            "grid_template_rows": null,
            "right": null,
            "justify_content": null,
            "_view_module": "@jupyter-widgets/base",
            "overflow": null,
            "_model_module_version": "1.2.0",
            "_view_count": null,
            "flex_flow": null,
            "width": null,
            "min_width": null,
            "border": null,
            "align_items": null,
            "bottom": null,
            "_model_module": "@jupyter-widgets/base",
            "top": null,
            "grid_column": null,
            "overflow_y": null,
            "overflow_x": null,
            "grid_auto_flow": null,
            "grid_area": null,
            "grid_template_columns": null,
            "flex": null,
            "_model_name": "LayoutModel",
            "justify_items": null,
            "grid_row": null,
            "max_height": null,
            "align_content": null,
            "visibility": null,
            "align_self": null,
            "height": null,
            "min_height": null,
            "padding": null,
            "grid_auto_rows": null,
            "grid_gap": null,
            "max_width": null,
            "order": null,
            "_view_module_version": "1.2.0",
            "grid_template_areas": null,
            "object_position": null,
            "object_fit": null,
            "grid_auto_columns": null,
            "margin": null,
            "display": null,
            "left": null
          }
        },
        "54afc7206a5246b08d13883dffae41cd": {
          "model_module": "@jupyter-widgets/output",
          "model_name": "OutputModel",
          "state": {
            "_view_name": "OutputView",
            "msg_id": "",
            "_dom_classes": [],
            "_model_name": "OutputModel",
            "outputs": [
              {
                "output_type": "display_data",
                "metadata": {
                  "tags": []
                },
                "text/html": "<pre style=\"white-space:pre;overflow-x:auto;line-height:normal;font-family:Menlo,'DejaVu Sans Mono',consolas,'Courier New',monospace\"></pre>\n",
                "text/plain": "<rich.jupyter.JupyterRenderable at 0x7fb2b6e706d0>"
              }
            ],
            "_view_module": "@jupyter-widgets/output",
            "_model_module_version": "1.0.0",
            "_view_count": null,
            "_view_module_version": "1.0.0",
            "layout": "IPY_MODEL_5929e94218ee4d25896dfdb9bcfe3fed",
            "_model_module": "@jupyter-widgets/output"
          }
        },
        "5929e94218ee4d25896dfdb9bcfe3fed": {
          "model_module": "@jupyter-widgets/base",
          "model_name": "LayoutModel",
          "state": {
            "_view_name": "LayoutView",
            "grid_template_rows": null,
            "right": null,
            "justify_content": null,
            "_view_module": "@jupyter-widgets/base",
            "overflow": null,
            "_model_module_version": "1.2.0",
            "_view_count": null,
            "flex_flow": null,
            "width": null,
            "min_width": null,
            "border": null,
            "align_items": null,
            "bottom": null,
            "_model_module": "@jupyter-widgets/base",
            "top": null,
            "grid_column": null,
            "overflow_y": null,
            "overflow_x": null,
            "grid_auto_flow": null,
            "grid_area": null,
            "grid_template_columns": null,
            "flex": null,
            "_model_name": "LayoutModel",
            "justify_items": null,
            "grid_row": null,
            "max_height": null,
            "align_content": null,
            "visibility": null,
            "align_self": null,
            "height": null,
            "min_height": null,
            "padding": null,
            "grid_auto_rows": null,
            "grid_gap": null,
            "max_width": null,
            "order": null,
            "_view_module_version": "1.2.0",
            "grid_template_areas": null,
            "object_position": null,
            "object_fit": null,
            "grid_auto_columns": null,
            "margin": null,
            "display": null,
            "left": null
          }
        },
        "32c3d06116cb4941a81e541ef3d36770": {
          "model_module": "@jupyter-widgets/output",
          "model_name": "OutputModel",
          "state": {
            "_view_name": "OutputView",
            "msg_id": "",
            "_dom_classes": [],
            "_model_name": "OutputModel",
            "outputs": [
              {
                "output_type": "display_data",
                "metadata": {
                  "tags": []
                },
                "text/html": "<pre style=\"white-space:pre;overflow-x:auto;line-height:normal;font-family:Menlo,'DejaVu Sans Mono',consolas,'Courier New',monospace\"></pre>\n",
                "text/plain": "<rich.jupyter.JupyterRenderable at 0x7fb2b6f94410>"
              }
            ],
            "_view_module": "@jupyter-widgets/output",
            "_model_module_version": "1.0.0",
            "_view_count": null,
            "_view_module_version": "1.0.0",
            "layout": "IPY_MODEL_05182173864b4e8b8ed4c39e5b0c5130",
            "_model_module": "@jupyter-widgets/output"
          }
        },
        "05182173864b4e8b8ed4c39e5b0c5130": {
          "model_module": "@jupyter-widgets/base",
          "model_name": "LayoutModel",
          "state": {
            "_view_name": "LayoutView",
            "grid_template_rows": null,
            "right": null,
            "justify_content": null,
            "_view_module": "@jupyter-widgets/base",
            "overflow": null,
            "_model_module_version": "1.2.0",
            "_view_count": null,
            "flex_flow": null,
            "width": null,
            "min_width": null,
            "border": null,
            "align_items": null,
            "bottom": null,
            "_model_module": "@jupyter-widgets/base",
            "top": null,
            "grid_column": null,
            "overflow_y": null,
            "overflow_x": null,
            "grid_auto_flow": null,
            "grid_area": null,
            "grid_template_columns": null,
            "flex": null,
            "_model_name": "LayoutModel",
            "justify_items": null,
            "grid_row": null,
            "max_height": null,
            "align_content": null,
            "visibility": null,
            "align_self": null,
            "height": null,
            "min_height": null,
            "padding": null,
            "grid_auto_rows": null,
            "grid_gap": null,
            "max_width": null,
            "order": null,
            "_view_module_version": "1.2.0",
            "grid_template_areas": null,
            "object_position": null,
            "object_fit": null,
            "grid_auto_columns": null,
            "margin": null,
            "display": null,
            "left": null
          }
        },
        "556d790c2ca84462a8aa6b84c6c529c4": {
          "model_module": "@jupyter-widgets/output",
          "model_name": "OutputModel",
          "state": {
            "_view_name": "OutputView",
            "msg_id": "",
            "_dom_classes": [],
            "_model_name": "OutputModel",
            "outputs": [
              {
                "output_type": "display_data",
                "metadata": {
                  "tags": []
                },
                "text/html": "<pre style=\"white-space:pre;overflow-x:auto;line-height:normal;font-family:Menlo,'DejaVu Sans Mono',consolas,'Courier New',monospace\"></pre>\n",
                "text/plain": "<rich.jupyter.JupyterRenderable at 0x7fb2b6faef10>"
              }
            ],
            "_view_module": "@jupyter-widgets/output",
            "_model_module_version": "1.0.0",
            "_view_count": null,
            "_view_module_version": "1.0.0",
            "layout": "IPY_MODEL_e3eb034d97f64b79986bd6eb45ad467d",
            "_model_module": "@jupyter-widgets/output"
          }
        },
        "e3eb034d97f64b79986bd6eb45ad467d": {
          "model_module": "@jupyter-widgets/base",
          "model_name": "LayoutModel",
          "state": {
            "_view_name": "LayoutView",
            "grid_template_rows": null,
            "right": null,
            "justify_content": null,
            "_view_module": "@jupyter-widgets/base",
            "overflow": null,
            "_model_module_version": "1.2.0",
            "_view_count": null,
            "flex_flow": null,
            "width": null,
            "min_width": null,
            "border": null,
            "align_items": null,
            "bottom": null,
            "_model_module": "@jupyter-widgets/base",
            "top": null,
            "grid_column": null,
            "overflow_y": null,
            "overflow_x": null,
            "grid_auto_flow": null,
            "grid_area": null,
            "grid_template_columns": null,
            "flex": null,
            "_model_name": "LayoutModel",
            "justify_items": null,
            "grid_row": null,
            "max_height": null,
            "align_content": null,
            "visibility": null,
            "align_self": null,
            "height": null,
            "min_height": null,
            "padding": null,
            "grid_auto_rows": null,
            "grid_gap": null,
            "max_width": null,
            "order": null,
            "_view_module_version": "1.2.0",
            "grid_template_areas": null,
            "object_position": null,
            "object_fit": null,
            "grid_auto_columns": null,
            "margin": null,
            "display": null,
            "left": null
          }
        },
        "93cd7fb61c40498bac51a27c7e38ab08": {
          "model_module": "@jupyter-widgets/output",
          "model_name": "OutputModel",
          "state": {
            "_view_name": "OutputView",
            "msg_id": "",
            "_dom_classes": [],
            "_model_name": "OutputModel",
            "outputs": [
              {
                "output_type": "display_data",
                "metadata": {
                  "tags": []
                },
                "text/html": "<pre style=\"white-space:pre;overflow-x:auto;line-height:normal;font-family:Menlo,'DejaVu Sans Mono',consolas,'Courier New',monospace\"></pre>\n",
                "text/plain": "<rich.jupyter.JupyterRenderable at 0x7fb2b6d75210>"
              }
            ],
            "_view_module": "@jupyter-widgets/output",
            "_model_module_version": "1.0.0",
            "_view_count": null,
            "_view_module_version": "1.0.0",
            "layout": "IPY_MODEL_bdd50e0202a445dc8c231d5d50555b38",
            "_model_module": "@jupyter-widgets/output"
          }
        },
        "bdd50e0202a445dc8c231d5d50555b38": {
          "model_module": "@jupyter-widgets/base",
          "model_name": "LayoutModel",
          "state": {
            "_view_name": "LayoutView",
            "grid_template_rows": null,
            "right": null,
            "justify_content": null,
            "_view_module": "@jupyter-widgets/base",
            "overflow": null,
            "_model_module_version": "1.2.0",
            "_view_count": null,
            "flex_flow": null,
            "width": null,
            "min_width": null,
            "border": null,
            "align_items": null,
            "bottom": null,
            "_model_module": "@jupyter-widgets/base",
            "top": null,
            "grid_column": null,
            "overflow_y": null,
            "overflow_x": null,
            "grid_auto_flow": null,
            "grid_area": null,
            "grid_template_columns": null,
            "flex": null,
            "_model_name": "LayoutModel",
            "justify_items": null,
            "grid_row": null,
            "max_height": null,
            "align_content": null,
            "visibility": null,
            "align_self": null,
            "height": null,
            "min_height": null,
            "padding": null,
            "grid_auto_rows": null,
            "grid_gap": null,
            "max_width": null,
            "order": null,
            "_view_module_version": "1.2.0",
            "grid_template_areas": null,
            "object_position": null,
            "object_fit": null,
            "grid_auto_columns": null,
            "margin": null,
            "display": null,
            "left": null
          }
        },
        "d3f7e30c6a7c4cb1944c96e5d7b2b718": {
          "model_module": "@jupyter-widgets/output",
          "model_name": "OutputModel",
          "state": {
            "_view_name": "OutputView",
            "msg_id": "",
            "_dom_classes": [],
            "_model_name": "OutputModel",
            "outputs": [
              {
                "output_type": "display_data",
                "metadata": {
                  "tags": []
                },
                "text/html": "<pre style=\"white-space:pre;overflow-x:auto;line-height:normal;font-family:Menlo,'DejaVu Sans Mono',consolas,'Courier New',monospace\"></pre>\n",
                "text/plain": "<rich.jupyter.JupyterRenderable at 0x7fb2b6febad0>"
              }
            ],
            "_view_module": "@jupyter-widgets/output",
            "_model_module_version": "1.0.0",
            "_view_count": null,
            "_view_module_version": "1.0.0",
            "layout": "IPY_MODEL_bdcc428181b14af59495c2c0043aebb7",
            "_model_module": "@jupyter-widgets/output"
          }
        },
        "bdcc428181b14af59495c2c0043aebb7": {
          "model_module": "@jupyter-widgets/base",
          "model_name": "LayoutModel",
          "state": {
            "_view_name": "LayoutView",
            "grid_template_rows": null,
            "right": null,
            "justify_content": null,
            "_view_module": "@jupyter-widgets/base",
            "overflow": null,
            "_model_module_version": "1.2.0",
            "_view_count": null,
            "flex_flow": null,
            "width": null,
            "min_width": null,
            "border": null,
            "align_items": null,
            "bottom": null,
            "_model_module": "@jupyter-widgets/base",
            "top": null,
            "grid_column": null,
            "overflow_y": null,
            "overflow_x": null,
            "grid_auto_flow": null,
            "grid_area": null,
            "grid_template_columns": null,
            "flex": null,
            "_model_name": "LayoutModel",
            "justify_items": null,
            "grid_row": null,
            "max_height": null,
            "align_content": null,
            "visibility": null,
            "align_self": null,
            "height": null,
            "min_height": null,
            "padding": null,
            "grid_auto_rows": null,
            "grid_gap": null,
            "max_width": null,
            "order": null,
            "_view_module_version": "1.2.0",
            "grid_template_areas": null,
            "object_position": null,
            "object_fit": null,
            "grid_auto_columns": null,
            "margin": null,
            "display": null,
            "left": null
          }
        },
        "7699d93e1e554c4086cf54200188a202": {
          "model_module": "@jupyter-widgets/output",
          "model_name": "OutputModel",
          "state": {
            "_view_name": "OutputView",
            "msg_id": "",
            "_dom_classes": [],
            "_model_name": "OutputModel",
            "outputs": [
              {
                "output_type": "display_data",
                "metadata": {
                  "tags": []
                },
                "text/html": "<pre style=\"white-space:pre;overflow-x:auto;line-height:normal;font-family:Menlo,'DejaVu Sans Mono',consolas,'Courier New',monospace\"></pre>\n",
                "text/plain": "<rich.jupyter.JupyterRenderable at 0x7fb2b6f7b8d0>"
              }
            ],
            "_view_module": "@jupyter-widgets/output",
            "_model_module_version": "1.0.0",
            "_view_count": null,
            "_view_module_version": "1.0.0",
            "layout": "IPY_MODEL_375f73d659c2435086695e232606f0de",
            "_model_module": "@jupyter-widgets/output"
          }
        },
        "375f73d659c2435086695e232606f0de": {
          "model_module": "@jupyter-widgets/base",
          "model_name": "LayoutModel",
          "state": {
            "_view_name": "LayoutView",
            "grid_template_rows": null,
            "right": null,
            "justify_content": null,
            "_view_module": "@jupyter-widgets/base",
            "overflow": null,
            "_model_module_version": "1.2.0",
            "_view_count": null,
            "flex_flow": null,
            "width": null,
            "min_width": null,
            "border": null,
            "align_items": null,
            "bottom": null,
            "_model_module": "@jupyter-widgets/base",
            "top": null,
            "grid_column": null,
            "overflow_y": null,
            "overflow_x": null,
            "grid_auto_flow": null,
            "grid_area": null,
            "grid_template_columns": null,
            "flex": null,
            "_model_name": "LayoutModel",
            "justify_items": null,
            "grid_row": null,
            "max_height": null,
            "align_content": null,
            "visibility": null,
            "align_self": null,
            "height": null,
            "min_height": null,
            "padding": null,
            "grid_auto_rows": null,
            "grid_gap": null,
            "max_width": null,
            "order": null,
            "_view_module_version": "1.2.0",
            "grid_template_areas": null,
            "object_position": null,
            "object_fit": null,
            "grid_auto_columns": null,
            "margin": null,
            "display": null,
            "left": null
          }
        },
        "037c0a55037d40c3887c0567f8370e2b": {
          "model_module": "@jupyter-widgets/output",
          "model_name": "OutputModel",
          "state": {
            "_view_name": "OutputView",
            "msg_id": "",
            "_dom_classes": [],
            "_model_name": "OutputModel",
            "outputs": [
              {
                "output_type": "display_data",
                "metadata": {
                  "tags": []
                },
                "text/html": "<pre style=\"white-space:pre;overflow-x:auto;line-height:normal;font-family:Menlo,'DejaVu Sans Mono',consolas,'Courier New',monospace\"></pre>\n",
                "text/plain": "<rich.jupyter.JupyterRenderable at 0x7fb2b735e350>"
              }
            ],
            "_view_module": "@jupyter-widgets/output",
            "_model_module_version": "1.0.0",
            "_view_count": null,
            "_view_module_version": "1.0.0",
            "layout": "IPY_MODEL_3ba61a72d21a411a8802b9dc9de10c78",
            "_model_module": "@jupyter-widgets/output"
          }
        },
        "3ba61a72d21a411a8802b9dc9de10c78": {
          "model_module": "@jupyter-widgets/base",
          "model_name": "LayoutModel",
          "state": {
            "_view_name": "LayoutView",
            "grid_template_rows": null,
            "right": null,
            "justify_content": null,
            "_view_module": "@jupyter-widgets/base",
            "overflow": null,
            "_model_module_version": "1.2.0",
            "_view_count": null,
            "flex_flow": null,
            "width": null,
            "min_width": null,
            "border": null,
            "align_items": null,
            "bottom": null,
            "_model_module": "@jupyter-widgets/base",
            "top": null,
            "grid_column": null,
            "overflow_y": null,
            "overflow_x": null,
            "grid_auto_flow": null,
            "grid_area": null,
            "grid_template_columns": null,
            "flex": null,
            "_model_name": "LayoutModel",
            "justify_items": null,
            "grid_row": null,
            "max_height": null,
            "align_content": null,
            "visibility": null,
            "align_self": null,
            "height": null,
            "min_height": null,
            "padding": null,
            "grid_auto_rows": null,
            "grid_gap": null,
            "max_width": null,
            "order": null,
            "_view_module_version": "1.2.0",
            "grid_template_areas": null,
            "object_position": null,
            "object_fit": null,
            "grid_auto_columns": null,
            "margin": null,
            "display": null,
            "left": null
          }
        },
        "de43f4919482461ebe4aafd30d2a7ddc": {
          "model_module": "@jupyter-widgets/output",
          "model_name": "OutputModel",
          "state": {
            "_view_name": "OutputView",
            "msg_id": "",
            "_dom_classes": [],
            "_model_name": "OutputModel",
            "outputs": [
              {
                "output_type": "display_data",
                "metadata": {
                  "tags": []
                },
                "text/html": "<pre style=\"white-space:pre;overflow-x:auto;line-height:normal;font-family:Menlo,'DejaVu Sans Mono',consolas,'Courier New',monospace\"></pre>\n",
                "text/plain": "<rich.jupyter.JupyterRenderable at 0x7fb2b6f3d490>"
              }
            ],
            "_view_module": "@jupyter-widgets/output",
            "_model_module_version": "1.0.0",
            "_view_count": null,
            "_view_module_version": "1.0.0",
            "layout": "IPY_MODEL_a7f96cf1bd014c1bb577a5e23936f6ff",
            "_model_module": "@jupyter-widgets/output"
          }
        },
        "a7f96cf1bd014c1bb577a5e23936f6ff": {
          "model_module": "@jupyter-widgets/base",
          "model_name": "LayoutModel",
          "state": {
            "_view_name": "LayoutView",
            "grid_template_rows": null,
            "right": null,
            "justify_content": null,
            "_view_module": "@jupyter-widgets/base",
            "overflow": null,
            "_model_module_version": "1.2.0",
            "_view_count": null,
            "flex_flow": null,
            "width": null,
            "min_width": null,
            "border": null,
            "align_items": null,
            "bottom": null,
            "_model_module": "@jupyter-widgets/base",
            "top": null,
            "grid_column": null,
            "overflow_y": null,
            "overflow_x": null,
            "grid_auto_flow": null,
            "grid_area": null,
            "grid_template_columns": null,
            "flex": null,
            "_model_name": "LayoutModel",
            "justify_items": null,
            "grid_row": null,
            "max_height": null,
            "align_content": null,
            "visibility": null,
            "align_self": null,
            "height": null,
            "min_height": null,
            "padding": null,
            "grid_auto_rows": null,
            "grid_gap": null,
            "max_width": null,
            "order": null,
            "_view_module_version": "1.2.0",
            "grid_template_areas": null,
            "object_position": null,
            "object_fit": null,
            "grid_auto_columns": null,
            "margin": null,
            "display": null,
            "left": null
          }
        },
        "eaa66900e9ce4ab8a699696a024f7bc3": {
          "model_module": "@jupyter-widgets/output",
          "model_name": "OutputModel",
          "state": {
            "_view_name": "OutputView",
            "msg_id": "",
            "_dom_classes": [],
            "_model_name": "OutputModel",
            "outputs": [
              {
                "output_type": "display_data",
                "metadata": {
                  "tags": []
                },
                "text/html": "<pre style=\"white-space:pre;overflow-x:auto;line-height:normal;font-family:Menlo,'DejaVu Sans Mono',consolas,'Courier New',monospace\"></pre>\n",
                "text/plain": "<rich.jupyter.JupyterRenderable at 0x7fb2b73a3750>"
              }
            ],
            "_view_module": "@jupyter-widgets/output",
            "_model_module_version": "1.0.0",
            "_view_count": null,
            "_view_module_version": "1.0.0",
            "layout": "IPY_MODEL_fdb5aadbc9fd42b18f23eb9e7026b3bd",
            "_model_module": "@jupyter-widgets/output"
          }
        },
        "fdb5aadbc9fd42b18f23eb9e7026b3bd": {
          "model_module": "@jupyter-widgets/base",
          "model_name": "LayoutModel",
          "state": {
            "_view_name": "LayoutView",
            "grid_template_rows": null,
            "right": null,
            "justify_content": null,
            "_view_module": "@jupyter-widgets/base",
            "overflow": null,
            "_model_module_version": "1.2.0",
            "_view_count": null,
            "flex_flow": null,
            "width": null,
            "min_width": null,
            "border": null,
            "align_items": null,
            "bottom": null,
            "_model_module": "@jupyter-widgets/base",
            "top": null,
            "grid_column": null,
            "overflow_y": null,
            "overflow_x": null,
            "grid_auto_flow": null,
            "grid_area": null,
            "grid_template_columns": null,
            "flex": null,
            "_model_name": "LayoutModel",
            "justify_items": null,
            "grid_row": null,
            "max_height": null,
            "align_content": null,
            "visibility": null,
            "align_self": null,
            "height": null,
            "min_height": null,
            "padding": null,
            "grid_auto_rows": null,
            "grid_gap": null,
            "max_width": null,
            "order": null,
            "_view_module_version": "1.2.0",
            "grid_template_areas": null,
            "object_position": null,
            "object_fit": null,
            "grid_auto_columns": null,
            "margin": null,
            "display": null,
            "left": null
          }
        },
        "b4c91620fcf542f1a25c35a23715ac56": {
          "model_module": "@jupyter-widgets/output",
          "model_name": "OutputModel",
          "state": {
            "_view_name": "OutputView",
            "msg_id": "",
            "_dom_classes": [],
            "_model_name": "OutputModel",
            "outputs": [
              {
                "output_type": "display_data",
                "metadata": {
                  "tags": []
                },
                "text/html": "<pre style=\"white-space:pre;overflow-x:auto;line-height:normal;font-family:Menlo,'DejaVu Sans Mono',consolas,'Courier New',monospace\"></pre>\n",
                "text/plain": "<rich.jupyter.JupyterRenderable at 0x7fb2b58c2190>"
              }
            ],
            "_view_module": "@jupyter-widgets/output",
            "_model_module_version": "1.0.0",
            "_view_count": null,
            "_view_module_version": "1.0.0",
            "layout": "IPY_MODEL_cae2d0b051c74d56a651850b84c14276",
            "_model_module": "@jupyter-widgets/output"
          }
        },
        "cae2d0b051c74d56a651850b84c14276": {
          "model_module": "@jupyter-widgets/base",
          "model_name": "LayoutModel",
          "state": {
            "_view_name": "LayoutView",
            "grid_template_rows": null,
            "right": null,
            "justify_content": null,
            "_view_module": "@jupyter-widgets/base",
            "overflow": null,
            "_model_module_version": "1.2.0",
            "_view_count": null,
            "flex_flow": null,
            "width": null,
            "min_width": null,
            "border": null,
            "align_items": null,
            "bottom": null,
            "_model_module": "@jupyter-widgets/base",
            "top": null,
            "grid_column": null,
            "overflow_y": null,
            "overflow_x": null,
            "grid_auto_flow": null,
            "grid_area": null,
            "grid_template_columns": null,
            "flex": null,
            "_model_name": "LayoutModel",
            "justify_items": null,
            "grid_row": null,
            "max_height": null,
            "align_content": null,
            "visibility": null,
            "align_self": null,
            "height": null,
            "min_height": null,
            "padding": null,
            "grid_auto_rows": null,
            "grid_gap": null,
            "max_width": null,
            "order": null,
            "_view_module_version": "1.2.0",
            "grid_template_areas": null,
            "object_position": null,
            "object_fit": null,
            "grid_auto_columns": null,
            "margin": null,
            "display": null,
            "left": null
          }
        },
        "3190c3601592490b86a6a3b544091fc7": {
          "model_module": "@jupyter-widgets/output",
          "model_name": "OutputModel",
          "state": {
            "_view_name": "OutputView",
            "msg_id": "",
            "_dom_classes": [],
            "_model_name": "OutputModel",
            "outputs": [
              {
                "output_type": "display_data",
                "metadata": {
                  "tags": []
                },
                "text/html": "<pre style=\"white-space:pre;overflow-x:auto;line-height:normal;font-family:Menlo,'DejaVu Sans Mono',consolas,'Courier New',monospace\"></pre>\n",
                "text/plain": "<rich.jupyter.JupyterRenderable at 0x7fb2b5838690>"
              }
            ],
            "_view_module": "@jupyter-widgets/output",
            "_model_module_version": "1.0.0",
            "_view_count": null,
            "_view_module_version": "1.0.0",
            "layout": "IPY_MODEL_b0630a92dbb94fd49ff40cfe160838c4",
            "_model_module": "@jupyter-widgets/output"
          }
        },
        "b0630a92dbb94fd49ff40cfe160838c4": {
          "model_module": "@jupyter-widgets/base",
          "model_name": "LayoutModel",
          "state": {
            "_view_name": "LayoutView",
            "grid_template_rows": null,
            "right": null,
            "justify_content": null,
            "_view_module": "@jupyter-widgets/base",
            "overflow": null,
            "_model_module_version": "1.2.0",
            "_view_count": null,
            "flex_flow": null,
            "width": null,
            "min_width": null,
            "border": null,
            "align_items": null,
            "bottom": null,
            "_model_module": "@jupyter-widgets/base",
            "top": null,
            "grid_column": null,
            "overflow_y": null,
            "overflow_x": null,
            "grid_auto_flow": null,
            "grid_area": null,
            "grid_template_columns": null,
            "flex": null,
            "_model_name": "LayoutModel",
            "justify_items": null,
            "grid_row": null,
            "max_height": null,
            "align_content": null,
            "visibility": null,
            "align_self": null,
            "height": null,
            "min_height": null,
            "padding": null,
            "grid_auto_rows": null,
            "grid_gap": null,
            "max_width": null,
            "order": null,
            "_view_module_version": "1.2.0",
            "grid_template_areas": null,
            "object_position": null,
            "object_fit": null,
            "grid_auto_columns": null,
            "margin": null,
            "display": null,
            "left": null
          }
        },
        "19765b7bcd664ce9aff299cace167e8a": {
          "model_module": "@jupyter-widgets/output",
          "model_name": "OutputModel",
          "state": {
            "_view_name": "OutputView",
            "msg_id": "",
            "_dom_classes": [],
            "_model_name": "OutputModel",
            "outputs": [
              {
                "output_type": "display_data",
                "metadata": {
                  "tags": []
                },
                "text/html": "<pre style=\"white-space:pre;overflow-x:auto;line-height:normal;font-family:Menlo,'DejaVu Sans Mono',consolas,'Courier New',monospace\"></pre>\n",
                "text/plain": "<rich.jupyter.JupyterRenderable at 0x7fb2b5850c10>"
              }
            ],
            "_view_module": "@jupyter-widgets/output",
            "_model_module_version": "1.0.0",
            "_view_count": null,
            "_view_module_version": "1.0.0",
            "layout": "IPY_MODEL_ad14991328fe4d8696e9d00af30cc68f",
            "_model_module": "@jupyter-widgets/output"
          }
        },
        "ad14991328fe4d8696e9d00af30cc68f": {
          "model_module": "@jupyter-widgets/base",
          "model_name": "LayoutModel",
          "state": {
            "_view_name": "LayoutView",
            "grid_template_rows": null,
            "right": null,
            "justify_content": null,
            "_view_module": "@jupyter-widgets/base",
            "overflow": null,
            "_model_module_version": "1.2.0",
            "_view_count": null,
            "flex_flow": null,
            "width": null,
            "min_width": null,
            "border": null,
            "align_items": null,
            "bottom": null,
            "_model_module": "@jupyter-widgets/base",
            "top": null,
            "grid_column": null,
            "overflow_y": null,
            "overflow_x": null,
            "grid_auto_flow": null,
            "grid_area": null,
            "grid_template_columns": null,
            "flex": null,
            "_model_name": "LayoutModel",
            "justify_items": null,
            "grid_row": null,
            "max_height": null,
            "align_content": null,
            "visibility": null,
            "align_self": null,
            "height": null,
            "min_height": null,
            "padding": null,
            "grid_auto_rows": null,
            "grid_gap": null,
            "max_width": null,
            "order": null,
            "_view_module_version": "1.2.0",
            "grid_template_areas": null,
            "object_position": null,
            "object_fit": null,
            "grid_auto_columns": null,
            "margin": null,
            "display": null,
            "left": null
          }
        },
        "5f0d921c7ec04d3fb9d4a324578f84e2": {
          "model_module": "@jupyter-widgets/output",
          "model_name": "OutputModel",
          "state": {
            "_view_name": "OutputView",
            "msg_id": "",
            "_dom_classes": [],
            "_model_name": "OutputModel",
            "outputs": [
              {
                "output_type": "display_data",
                "metadata": {
                  "tags": []
                },
                "text/html": "<pre style=\"white-space:pre;overflow-x:auto;line-height:normal;font-family:Menlo,'DejaVu Sans Mono',consolas,'Courier New',monospace\"></pre>\n",
                "text/plain": "<rich.jupyter.JupyterRenderable at 0x7fb2b57dea90>"
              }
            ],
            "_view_module": "@jupyter-widgets/output",
            "_model_module_version": "1.0.0",
            "_view_count": null,
            "_view_module_version": "1.0.0",
            "layout": "IPY_MODEL_38fdaf41283e4ccf9f2a072411112c6e",
            "_model_module": "@jupyter-widgets/output"
          }
        },
        "38fdaf41283e4ccf9f2a072411112c6e": {
          "model_module": "@jupyter-widgets/base",
          "model_name": "LayoutModel",
          "state": {
            "_view_name": "LayoutView",
            "grid_template_rows": null,
            "right": null,
            "justify_content": null,
            "_view_module": "@jupyter-widgets/base",
            "overflow": null,
            "_model_module_version": "1.2.0",
            "_view_count": null,
            "flex_flow": null,
            "width": null,
            "min_width": null,
            "border": null,
            "align_items": null,
            "bottom": null,
            "_model_module": "@jupyter-widgets/base",
            "top": null,
            "grid_column": null,
            "overflow_y": null,
            "overflow_x": null,
            "grid_auto_flow": null,
            "grid_area": null,
            "grid_template_columns": null,
            "flex": null,
            "_model_name": "LayoutModel",
            "justify_items": null,
            "grid_row": null,
            "max_height": null,
            "align_content": null,
            "visibility": null,
            "align_self": null,
            "height": null,
            "min_height": null,
            "padding": null,
            "grid_auto_rows": null,
            "grid_gap": null,
            "max_width": null,
            "order": null,
            "_view_module_version": "1.2.0",
            "grid_template_areas": null,
            "object_position": null,
            "object_fit": null,
            "grid_auto_columns": null,
            "margin": null,
            "display": null,
            "left": null
          }
        },
        "9adadae1df2e4be8bcb067b8546520ae": {
          "model_module": "@jupyter-widgets/output",
          "model_name": "OutputModel",
          "state": {
            "_view_name": "OutputView",
            "msg_id": "",
            "_dom_classes": [],
            "_model_name": "OutputModel",
            "outputs": [
              {
                "output_type": "display_data",
                "metadata": {
                  "tags": []
                },
                "text/html": "<pre style=\"white-space:pre;overflow-x:auto;line-height:normal;font-family:Menlo,'DejaVu Sans Mono',consolas,'Courier New',monospace\"></pre>\n",
                "text/plain": "<rich.jupyter.JupyterRenderable at 0x7fb2b571afd0>"
              }
            ],
            "_view_module": "@jupyter-widgets/output",
            "_model_module_version": "1.0.0",
            "_view_count": null,
            "_view_module_version": "1.0.0",
            "layout": "IPY_MODEL_1dad6d8b3c7b48b8932f548a777857e7",
            "_model_module": "@jupyter-widgets/output"
          }
        },
        "1dad6d8b3c7b48b8932f548a777857e7": {
          "model_module": "@jupyter-widgets/base",
          "model_name": "LayoutModel",
          "state": {
            "_view_name": "LayoutView",
            "grid_template_rows": null,
            "right": null,
            "justify_content": null,
            "_view_module": "@jupyter-widgets/base",
            "overflow": null,
            "_model_module_version": "1.2.0",
            "_view_count": null,
            "flex_flow": null,
            "width": null,
            "min_width": null,
            "border": null,
            "align_items": null,
            "bottom": null,
            "_model_module": "@jupyter-widgets/base",
            "top": null,
            "grid_column": null,
            "overflow_y": null,
            "overflow_x": null,
            "grid_auto_flow": null,
            "grid_area": null,
            "grid_template_columns": null,
            "flex": null,
            "_model_name": "LayoutModel",
            "justify_items": null,
            "grid_row": null,
            "max_height": null,
            "align_content": null,
            "visibility": null,
            "align_self": null,
            "height": null,
            "min_height": null,
            "padding": null,
            "grid_auto_rows": null,
            "grid_gap": null,
            "max_width": null,
            "order": null,
            "_view_module_version": "1.2.0",
            "grid_template_areas": null,
            "object_position": null,
            "object_fit": null,
            "grid_auto_columns": null,
            "margin": null,
            "display": null,
            "left": null
          }
        },
        "df56d8efe3f9439f939b5e9913eba431": {
          "model_module": "@jupyter-widgets/output",
          "model_name": "OutputModel",
          "state": {
            "_view_name": "OutputView",
            "msg_id": "",
            "_dom_classes": [],
            "_model_name": "OutputModel",
            "outputs": [
              {
                "output_type": "display_data",
                "metadata": {
                  "tags": []
                },
                "text/html": "<pre style=\"white-space:pre;overflow-x:auto;line-height:normal;font-family:Menlo,'DejaVu Sans Mono',consolas,'Courier New',monospace\"></pre>\n",
                "text/plain": "<rich.jupyter.JupyterRenderable at 0x7fb2b5674f50>"
              }
            ],
            "_view_module": "@jupyter-widgets/output",
            "_model_module_version": "1.0.0",
            "_view_count": null,
            "_view_module_version": "1.0.0",
            "layout": "IPY_MODEL_e485057f65ab4183810a0e7a6bccdea8",
            "_model_module": "@jupyter-widgets/output"
          }
        },
        "e485057f65ab4183810a0e7a6bccdea8": {
          "model_module": "@jupyter-widgets/base",
          "model_name": "LayoutModel",
          "state": {
            "_view_name": "LayoutView",
            "grid_template_rows": null,
            "right": null,
            "justify_content": null,
            "_view_module": "@jupyter-widgets/base",
            "overflow": null,
            "_model_module_version": "1.2.0",
            "_view_count": null,
            "flex_flow": null,
            "width": null,
            "min_width": null,
            "border": null,
            "align_items": null,
            "bottom": null,
            "_model_module": "@jupyter-widgets/base",
            "top": null,
            "grid_column": null,
            "overflow_y": null,
            "overflow_x": null,
            "grid_auto_flow": null,
            "grid_area": null,
            "grid_template_columns": null,
            "flex": null,
            "_model_name": "LayoutModel",
            "justify_items": null,
            "grid_row": null,
            "max_height": null,
            "align_content": null,
            "visibility": null,
            "align_self": null,
            "height": null,
            "min_height": null,
            "padding": null,
            "grid_auto_rows": null,
            "grid_gap": null,
            "max_width": null,
            "order": null,
            "_view_module_version": "1.2.0",
            "grid_template_areas": null,
            "object_position": null,
            "object_fit": null,
            "grid_auto_columns": null,
            "margin": null,
            "display": null,
            "left": null
          }
        },
        "0ea5a2213b124806b5314f06c73720a1": {
          "model_module": "@jupyter-widgets/output",
          "model_name": "OutputModel",
          "state": {
            "_view_name": "OutputView",
            "msg_id": "",
            "_dom_classes": [],
            "_model_name": "OutputModel",
            "outputs": [
              {
                "output_type": "display_data",
                "metadata": {
                  "tags": []
                },
                "text/html": "<pre style=\"white-space:pre;overflow-x:auto;line-height:normal;font-family:Menlo,'DejaVu Sans Mono',consolas,'Courier New',monospace\"></pre>\n",
                "text/plain": "<rich.jupyter.JupyterRenderable at 0x7fb2b5600b10>"
              }
            ],
            "_view_module": "@jupyter-widgets/output",
            "_model_module_version": "1.0.0",
            "_view_count": null,
            "_view_module_version": "1.0.0",
            "layout": "IPY_MODEL_2bc5e2507ea4480ab2853d1df907478c",
            "_model_module": "@jupyter-widgets/output"
          }
        },
        "2bc5e2507ea4480ab2853d1df907478c": {
          "model_module": "@jupyter-widgets/base",
          "model_name": "LayoutModel",
          "state": {
            "_view_name": "LayoutView",
            "grid_template_rows": null,
            "right": null,
            "justify_content": null,
            "_view_module": "@jupyter-widgets/base",
            "overflow": null,
            "_model_module_version": "1.2.0",
            "_view_count": null,
            "flex_flow": null,
            "width": null,
            "min_width": null,
            "border": null,
            "align_items": null,
            "bottom": null,
            "_model_module": "@jupyter-widgets/base",
            "top": null,
            "grid_column": null,
            "overflow_y": null,
            "overflow_x": null,
            "grid_auto_flow": null,
            "grid_area": null,
            "grid_template_columns": null,
            "flex": null,
            "_model_name": "LayoutModel",
            "justify_items": null,
            "grid_row": null,
            "max_height": null,
            "align_content": null,
            "visibility": null,
            "align_self": null,
            "height": null,
            "min_height": null,
            "padding": null,
            "grid_auto_rows": null,
            "grid_gap": null,
            "max_width": null,
            "order": null,
            "_view_module_version": "1.2.0",
            "grid_template_areas": null,
            "object_position": null,
            "object_fit": null,
            "grid_auto_columns": null,
            "margin": null,
            "display": null,
            "left": null
          }
        },
        "a5d401b58dc449bbb7ee2614de00db10": {
          "model_module": "@jupyter-widgets/output",
          "model_name": "OutputModel",
          "state": {
            "_view_name": "OutputView",
            "msg_id": "",
            "_dom_classes": [],
            "_model_name": "OutputModel",
            "outputs": [
              {
                "output_type": "display_data",
                "metadata": {
                  "tags": []
                },
                "text/html": "<pre style=\"white-space:pre;overflow-x:auto;line-height:normal;font-family:Menlo,'DejaVu Sans Mono',consolas,'Courier New',monospace\"></pre>\n",
                "text/plain": "<rich.jupyter.JupyterRenderable at 0x7fb2b5553250>"
              }
            ],
            "_view_module": "@jupyter-widgets/output",
            "_model_module_version": "1.0.0",
            "_view_count": null,
            "_view_module_version": "1.0.0",
            "layout": "IPY_MODEL_e8b57afbd5a141e689279506dbf024b8",
            "_model_module": "@jupyter-widgets/output"
          }
        },
        "e8b57afbd5a141e689279506dbf024b8": {
          "model_module": "@jupyter-widgets/base",
          "model_name": "LayoutModel",
          "state": {
            "_view_name": "LayoutView",
            "grid_template_rows": null,
            "right": null,
            "justify_content": null,
            "_view_module": "@jupyter-widgets/base",
            "overflow": null,
            "_model_module_version": "1.2.0",
            "_view_count": null,
            "flex_flow": null,
            "width": null,
            "min_width": null,
            "border": null,
            "align_items": null,
            "bottom": null,
            "_model_module": "@jupyter-widgets/base",
            "top": null,
            "grid_column": null,
            "overflow_y": null,
            "overflow_x": null,
            "grid_auto_flow": null,
            "grid_area": null,
            "grid_template_columns": null,
            "flex": null,
            "_model_name": "LayoutModel",
            "justify_items": null,
            "grid_row": null,
            "max_height": null,
            "align_content": null,
            "visibility": null,
            "align_self": null,
            "height": null,
            "min_height": null,
            "padding": null,
            "grid_auto_rows": null,
            "grid_gap": null,
            "max_width": null,
            "order": null,
            "_view_module_version": "1.2.0",
            "grid_template_areas": null,
            "object_position": null,
            "object_fit": null,
            "grid_auto_columns": null,
            "margin": null,
            "display": null,
            "left": null
          }
        },
        "f13e7addbb13447ea6ccf7a81d4d7eeb": {
          "model_module": "@jupyter-widgets/output",
          "model_name": "OutputModel",
          "state": {
            "_view_name": "OutputView",
            "msg_id": "",
            "_dom_classes": [],
            "_model_name": "OutputModel",
            "outputs": [
              {
                "output_type": "display_data",
                "metadata": {
                  "tags": []
                },
                "text/html": "<pre style=\"white-space:pre;overflow-x:auto;line-height:normal;font-family:Menlo,'DejaVu Sans Mono',consolas,'Courier New',monospace\"></pre>\n",
                "text/plain": "<rich.jupyter.JupyterRenderable at 0x7fb2b54dc250>"
              }
            ],
            "_view_module": "@jupyter-widgets/output",
            "_model_module_version": "1.0.0",
            "_view_count": null,
            "_view_module_version": "1.0.0",
            "layout": "IPY_MODEL_1c3ee544a2de4ba7b389ac10e778cbc6",
            "_model_module": "@jupyter-widgets/output"
          }
        },
        "1c3ee544a2de4ba7b389ac10e778cbc6": {
          "model_module": "@jupyter-widgets/base",
          "model_name": "LayoutModel",
          "state": {
            "_view_name": "LayoutView",
            "grid_template_rows": null,
            "right": null,
            "justify_content": null,
            "_view_module": "@jupyter-widgets/base",
            "overflow": null,
            "_model_module_version": "1.2.0",
            "_view_count": null,
            "flex_flow": null,
            "width": null,
            "min_width": null,
            "border": null,
            "align_items": null,
            "bottom": null,
            "_model_module": "@jupyter-widgets/base",
            "top": null,
            "grid_column": null,
            "overflow_y": null,
            "overflow_x": null,
            "grid_auto_flow": null,
            "grid_area": null,
            "grid_template_columns": null,
            "flex": null,
            "_model_name": "LayoutModel",
            "justify_items": null,
            "grid_row": null,
            "max_height": null,
            "align_content": null,
            "visibility": null,
            "align_self": null,
            "height": null,
            "min_height": null,
            "padding": null,
            "grid_auto_rows": null,
            "grid_gap": null,
            "max_width": null,
            "order": null,
            "_view_module_version": "1.2.0",
            "grid_template_areas": null,
            "object_position": null,
            "object_fit": null,
            "grid_auto_columns": null,
            "margin": null,
            "display": null,
            "left": null
          }
        },
        "eb1da27465974214926a6d4fbfb4a514": {
          "model_module": "@jupyter-widgets/output",
          "model_name": "OutputModel",
          "state": {
            "_view_name": "OutputView",
            "msg_id": "",
            "_dom_classes": [],
            "_model_name": "OutputModel",
            "outputs": [
              {
                "output_type": "display_data",
                "metadata": {
                  "tags": []
                },
                "text/html": "<pre style=\"white-space:pre;overflow-x:auto;line-height:normal;font-family:Menlo,'DejaVu Sans Mono',consolas,'Courier New',monospace\"></pre>\n",
                "text/plain": "<rich.jupyter.JupyterRenderable at 0x7fb2b541ab50>"
              }
            ],
            "_view_module": "@jupyter-widgets/output",
            "_model_module_version": "1.0.0",
            "_view_count": null,
            "_view_module_version": "1.0.0",
            "layout": "IPY_MODEL_63f5e88989964e649a7cb208a3aeefda",
            "_model_module": "@jupyter-widgets/output"
          }
        },
        "63f5e88989964e649a7cb208a3aeefda": {
          "model_module": "@jupyter-widgets/base",
          "model_name": "LayoutModel",
          "state": {
            "_view_name": "LayoutView",
            "grid_template_rows": null,
            "right": null,
            "justify_content": null,
            "_view_module": "@jupyter-widgets/base",
            "overflow": null,
            "_model_module_version": "1.2.0",
            "_view_count": null,
            "flex_flow": null,
            "width": null,
            "min_width": null,
            "border": null,
            "align_items": null,
            "bottom": null,
            "_model_module": "@jupyter-widgets/base",
            "top": null,
            "grid_column": null,
            "overflow_y": null,
            "overflow_x": null,
            "grid_auto_flow": null,
            "grid_area": null,
            "grid_template_columns": null,
            "flex": null,
            "_model_name": "LayoutModel",
            "justify_items": null,
            "grid_row": null,
            "max_height": null,
            "align_content": null,
            "visibility": null,
            "align_self": null,
            "height": null,
            "min_height": null,
            "padding": null,
            "grid_auto_rows": null,
            "grid_gap": null,
            "max_width": null,
            "order": null,
            "_view_module_version": "1.2.0",
            "grid_template_areas": null,
            "object_position": null,
            "object_fit": null,
            "grid_auto_columns": null,
            "margin": null,
            "display": null,
            "left": null
          }
        },
        "4bdacfb4e1694c439dd9a478cb05d576": {
          "model_module": "@jupyter-widgets/output",
          "model_name": "OutputModel",
          "state": {
            "_view_name": "OutputView",
            "msg_id": "",
            "_dom_classes": [],
            "_model_name": "OutputModel",
            "outputs": [
              {
                "output_type": "display_data",
                "metadata": {
                  "tags": []
                },
                "text/html": "<pre style=\"white-space:pre;overflow-x:auto;line-height:normal;font-family:Menlo,'DejaVu Sans Mono',consolas,'Courier New',monospace\"></pre>\n",
                "text/plain": "<rich.jupyter.JupyterRenderable at 0x7fb2b52f2690>"
              }
            ],
            "_view_module": "@jupyter-widgets/output",
            "_model_module_version": "1.0.0",
            "_view_count": null,
            "_view_module_version": "1.0.0",
            "layout": "IPY_MODEL_6ff97de63cd2455093dfbfe4b9e7e470",
            "_model_module": "@jupyter-widgets/output"
          }
        },
        "6ff97de63cd2455093dfbfe4b9e7e470": {
          "model_module": "@jupyter-widgets/base",
          "model_name": "LayoutModel",
          "state": {
            "_view_name": "LayoutView",
            "grid_template_rows": null,
            "right": null,
            "justify_content": null,
            "_view_module": "@jupyter-widgets/base",
            "overflow": null,
            "_model_module_version": "1.2.0",
            "_view_count": null,
            "flex_flow": null,
            "width": null,
            "min_width": null,
            "border": null,
            "align_items": null,
            "bottom": null,
            "_model_module": "@jupyter-widgets/base",
            "top": null,
            "grid_column": null,
            "overflow_y": null,
            "overflow_x": null,
            "grid_auto_flow": null,
            "grid_area": null,
            "grid_template_columns": null,
            "flex": null,
            "_model_name": "LayoutModel",
            "justify_items": null,
            "grid_row": null,
            "max_height": null,
            "align_content": null,
            "visibility": null,
            "align_self": null,
            "height": null,
            "min_height": null,
            "padding": null,
            "grid_auto_rows": null,
            "grid_gap": null,
            "max_width": null,
            "order": null,
            "_view_module_version": "1.2.0",
            "grid_template_areas": null,
            "object_position": null,
            "object_fit": null,
            "grid_auto_columns": null,
            "margin": null,
            "display": null,
            "left": null
          }
        },
        "263f9dd79b054c6ca294ba83d9e1dc63": {
          "model_module": "@jupyter-widgets/output",
          "model_name": "OutputModel",
          "state": {
            "_view_name": "OutputView",
            "msg_id": "",
            "_dom_classes": [],
            "_model_name": "OutputModel",
            "outputs": [
              {
                "output_type": "display_data",
                "metadata": {
                  "tags": []
                },
                "text/html": "<pre style=\"white-space:pre;overflow-x:auto;line-height:normal;font-family:Menlo,'DejaVu Sans Mono',consolas,'Courier New',monospace\"></pre>\n",
                "text/plain": "<rich.jupyter.JupyterRenderable at 0x7fb2b5337d90>"
              }
            ],
            "_view_module": "@jupyter-widgets/output",
            "_model_module_version": "1.0.0",
            "_view_count": null,
            "_view_module_version": "1.0.0",
            "layout": "IPY_MODEL_74371fe4e34c4efb93b12ba6aabeebdb",
            "_model_module": "@jupyter-widgets/output"
          }
        },
        "74371fe4e34c4efb93b12ba6aabeebdb": {
          "model_module": "@jupyter-widgets/base",
          "model_name": "LayoutModel",
          "state": {
            "_view_name": "LayoutView",
            "grid_template_rows": null,
            "right": null,
            "justify_content": null,
            "_view_module": "@jupyter-widgets/base",
            "overflow": null,
            "_model_module_version": "1.2.0",
            "_view_count": null,
            "flex_flow": null,
            "width": null,
            "min_width": null,
            "border": null,
            "align_items": null,
            "bottom": null,
            "_model_module": "@jupyter-widgets/base",
            "top": null,
            "grid_column": null,
            "overflow_y": null,
            "overflow_x": null,
            "grid_auto_flow": null,
            "grid_area": null,
            "grid_template_columns": null,
            "flex": null,
            "_model_name": "LayoutModel",
            "justify_items": null,
            "grid_row": null,
            "max_height": null,
            "align_content": null,
            "visibility": null,
            "align_self": null,
            "height": null,
            "min_height": null,
            "padding": null,
            "grid_auto_rows": null,
            "grid_gap": null,
            "max_width": null,
            "order": null,
            "_view_module_version": "1.2.0",
            "grid_template_areas": null,
            "object_position": null,
            "object_fit": null,
            "grid_auto_columns": null,
            "margin": null,
            "display": null,
            "left": null
          }
        }
      }
    }
  },
  "cells": [
    {
      "cell_type": "markdown",
      "metadata": {
        "id": "8PFNf1WfwX6A"
      },
      "source": [
        "# Lab 5: Cognitive Control: The Stroop Effect & Response Conflict\n",
        "\n",
        "Pat your head and rub your belly at the same time.  Unless you have practiced this odd exercise you will get conflict between the motor commands and quickly end up rubbing your head while also rubbing your belly, OR patting your belly while also patting your head.  As a more difficult exercise, while sitting, lift your right foot and repeatedly rotate it clockwise while simultaneously tracing a counterclockwise circle in the air with your right hand.  Contrast the difficulty of this task with a contralateral attempt, using your left foot and right hand (or right hand and left foot).  Discuss with your labmates and instructor.   Action is an obvious bottleneck -- if you see a threat and try to both \"flight\" and \"fight\" at the very same time, the results will look funny and be ineffective.  Some of our cognitive capacity limitations could be byproducts of the need to select singular coherent plans of action.  In this lab we will begin thinking about how multiple psychological processes combine and interact, and how to model what happens when signals and processing conflict.  A classic example is the Stroop task.           \n",
        "\n",
        "## Participate in Stroop Task\n",
        "\n",
        "Go to [TeLLab](http://lab.tellab.org/ \"TeLLab\"), sign in or sign up (free, no spam, <1 minute).  At the top, click \"Experiments\", then choose Stroop Test.  The first blue box says \"Word Color Stroop, TeLLab Team\" and you should click the chain-link icon at the bottom left, and then participate in the experiment (<4 minutes). \n",
        "\n",
        "After participating, discuss with your labmates and lab instructor.  What about the task is similar to patting your head and rubbing your belly, and what is different?  The task you participated in is a very poor experimental design with inadequate controls and no counterbalancing (but you still experience the effect of conflict, which is the main purpose) -- discuss how you would improve this experiment design.  "
      ]
    },
    {
      "cell_type": "markdown",
      "metadata": {
        "id": "ZVAYmxKawX6F"
      },
      "source": [
        "## Attention, Automaticity, & Control \n",
        "\n",
        "Each of your eyes has about 120 million light-sensitive receptors on the retina, receiving input around 10 times per second.  Between your two eyes and all your other sensory receptors (smell, taste, touch, sound), you are receiving many billions of units of stimulation every second.  Not all of this information makes it into your brain -- for example, before information exits your eye it has already been processed and compressed down to the firing output of 10 million retinal ganglion cells.  Still this is a torrent of information, and you can only be consciously aware and act upon a tiny fraction of all the incoming signals.  Attention is a collection of processing mechanisms that work together to filter, prioritize, and select a relevant subset of the incoming information.   \n",
        "\n",
        "Psychologists and neuroscientists have extensively documented the capacity limits of human cognition, but we do not yet fully understand all the sources of capacity limits.  Change detection tasks (\"spot the difference\" between two images) and multiple object tracking tasks (keep track of moving targets among visually identical moving distractors) demonstrate severely limited awareness (e.g. around 1 object identity, and 3-4 object locations).  Building models can help us understand these limits.     \n",
        "\n",
        "Cognitive processes that do not require the limited resources of attention can operate automatically.  Training over time can sometimes transfer an effortful and attention-demanding task to become automatic.  For literate and educated people, reading is one of the most highly trained activities that we perform, and it becomes automatic.  The Stroop task pits the automaticity of reading against the somewhat less trained task of naming colors.   \n"
      ]
    },
    {
      "cell_type": "markdown",
      "metadata": {
        "id": "UWeFUsnQwX6G"
      },
      "source": [
        "## <a id='table'>Table of content</a> \n",
        "\n",
        "\n",
        "#### Models \n",
        "- [1. A simplified stroop model - linear stroop](#stroop1)\n",
        "- [2. Another simplified stroop model - stroop network without recurrent connection](#stroop2)\n",
        "- [3. The full stroop model](#stroop3)\n",
        "\n",
        "\n",
        "#### Lab exercise\n",
        "- [0. The limitation of the linear stroop model](#l0)\n",
        "- [1. The limitation of the linear stroop model](#l1)\n",
        "- [2. Word reading, stroop model without recurrent connection](#l2)\n",
        "- [3. Model the flanker task](#l3)\n",
        "- [4. BUILD](#l4)\n"
      ]
    },
    {
      "cell_type": "code",
      "metadata": {
        "id": "njJvWxiCwX6G"
      },
      "source": [
        ""
      ],
      "execution_count": null,
      "outputs": []
    },
    {
      "cell_type": "markdown",
      "metadata": {
        "id": "UDklWG1-wX6H"
      },
      "source": [
        "### <a id='l0'>Lab exercise 0: understand the stroop task</a> \n",
        "\n",
        "List 3 ways that you could improve upon the Stroop task that you participated in on TeLLab, and explain how these design changes are improvements. "
      ]
    },
    {
      "cell_type": "code",
      "metadata": {
        "colab": {
          "base_uri": "https://localhost:8080/"
        },
        "id": "XAT4aIDlwX6H",
        "outputId": "8364d448-e3b4-44e1-9503-1053089dca7a"
      },
      "source": [
        "# \"\"\"for google colab\"\"\"\n",
        "!pip install psyneulink \n",
        "!pip install stroop "
      ],
      "execution_count": null,
      "outputs": [
        {
          "output_type": "stream",
          "text": [
            "Requirement already satisfied: psyneulink in /usr/local/lib/python3.7/dist-packages (0.8.7.1)\n",
            "Requirement already satisfied: torch<1.8.0; sys_platform != \"win32\" and platform_machine == \"x86_64\" and platform_python_implementation == \"CPython\" in /usr/local/lib/python3.7/dist-packages (from psyneulink) (1.7.1)\n",
            "Requirement already satisfied: grpcio<1.35.0 in /usr/local/lib/python3.7/dist-packages (from psyneulink) (1.32.0)\n",
            "Requirement already satisfied: matplotlib<3.3.4 in /usr/local/lib/python3.7/dist-packages (from psyneulink) (3.2.2)\n",
            "Requirement already satisfied: numpy<1.20.2 in /usr/local/lib/python3.7/dist-packages (from psyneulink) (1.19.5)\n",
            "Requirement already satisfied: llvmlite<0.37 in /usr/local/lib/python3.7/dist-packages (from psyneulink) (0.34.0)\n",
            "Requirement already satisfied: pillow<8.1.0 in /usr/local/lib/python3.7/dist-packages (from psyneulink) (7.0.0)\n",
            "Requirement already satisfied: toposort<1.7 in /usr/local/lib/python3.7/dist-packages (from psyneulink) (1.6)\n",
            "Requirement already satisfied: dill<=0.32 in /usr/local/lib/python3.7/dist-packages (from psyneulink) (0.3.3)\n",
            "Requirement already satisfied: leabra-psyneulink<=0.3.2 in /usr/local/lib/python3.7/dist-packages (from psyneulink) (0.3.2)\n",
            "Requirement already satisfied: typecheck-decorator<=1.2 in /usr/local/lib/python3.7/dist-packages (from psyneulink) (1.2)\n",
            "Requirement already satisfied: autograd<=1.3 in /usr/local/lib/python3.7/dist-packages (from psyneulink) (1.3)\n",
            "Requirement already satisfied: elfi<0.7.8 in /usr/local/lib/python3.7/dist-packages (from psyneulink) (0.7.7)\n",
            "Requirement already satisfied: rich<9.13,>=9.11 in /usr/local/lib/python3.7/dist-packages (from psyneulink) (9.12.4)\n",
            "Requirement already satisfied: networkx<2.6 in /usr/local/lib/python3.7/dist-packages (from psyneulink) (2.5)\n",
            "Requirement already satisfied: grpcio-tools<1.35.0 in /usr/local/lib/python3.7/dist-packages (from psyneulink) (1.34.1)\n",
            "Requirement already satisfied: graphviz<0.17.0 in /usr/local/lib/python3.7/dist-packages (from psyneulink) (0.10.1)\n",
            "Requirement already satisfied: typing-extensions in /usr/local/lib/python3.7/dist-packages (from torch<1.8.0; sys_platform != \"win32\" and platform_machine == \"x86_64\" and platform_python_implementation == \"CPython\"->psyneulink) (3.7.4.3)\n",
            "Requirement already satisfied: six>=1.5.2 in /usr/local/lib/python3.7/dist-packages (from grpcio<1.35.0->psyneulink) (1.15.0)\n",
            "Requirement already satisfied: cycler>=0.10 in /usr/local/lib/python3.7/dist-packages (from matplotlib<3.3.4->psyneulink) (0.10.0)\n",
            "Requirement already satisfied: python-dateutil>=2.1 in /usr/local/lib/python3.7/dist-packages (from matplotlib<3.3.4->psyneulink) (2.8.1)\n",
            "Requirement already satisfied: pyparsing!=2.0.4,!=2.1.2,!=2.1.6,>=2.0.1 in /usr/local/lib/python3.7/dist-packages (from matplotlib<3.3.4->psyneulink) (2.4.7)\n",
            "Requirement already satisfied: kiwisolver>=1.0.1 in /usr/local/lib/python3.7/dist-packages (from matplotlib<3.3.4->psyneulink) (1.3.1)\n",
            "Requirement already satisfied: ipywidgets>=7.0 in /usr/local/lib/python3.7/dist-packages (from leabra-psyneulink<=0.3.2->psyneulink) (7.6.3)\n",
            "Requirement already satisfied: bokeh>=0.12.6 in /usr/local/lib/python3.7/dist-packages (from leabra-psyneulink<=0.3.2->psyneulink) (2.1.1)\n",
            "Requirement already satisfied: scipy in /usr/local/lib/python3.7/dist-packages (from leabra-psyneulink<=0.3.2->psyneulink) (1.4.1)\n",
            "Requirement already satisfied: jupyter in /usr/local/lib/python3.7/dist-packages (from leabra-psyneulink<=0.3.2->psyneulink) (1.0.0)\n",
            "Requirement already satisfied: future>=0.15.2 in /usr/local/lib/python3.7/dist-packages (from autograd<=1.3->psyneulink) (0.16.0)\n",
            "Requirement already satisfied: toolz>=0.8 in /usr/local/lib/python3.7/dist-packages (from elfi<0.7.8->psyneulink) (0.11.1)\n",
            "Requirement already satisfied: ipyparallel>=6 in /usr/local/lib/python3.7/dist-packages (from elfi<0.7.8->psyneulink) (6.3.0)\n",
            "Requirement already satisfied: GPy>=1.0.9 in /usr/local/lib/python3.7/dist-packages (from elfi<0.7.8->psyneulink) (1.9.9)\n",
            "Requirement already satisfied: dask[distributed]<3.0.0,>=1.0.0 in /usr/local/lib/python3.7/dist-packages (from elfi<0.7.8->psyneulink) (2.12.0)\n",
            "Requirement already satisfied: scikit-learn>=0.18.1 in /usr/local/lib/python3.7/dist-packages (from elfi<0.7.8->psyneulink) (0.22.2.post1)\n",
            "Requirement already satisfied: commonmark<0.10.0,>=0.9.0 in /usr/local/lib/python3.7/dist-packages (from rich<9.13,>=9.11->psyneulink) (0.9.1)\n",
            "Requirement already satisfied: colorama<0.5.0,>=0.4.0 in /usr/local/lib/python3.7/dist-packages (from rich<9.13,>=9.11->psyneulink) (0.4.4)\n",
            "Requirement already satisfied: pygments<3.0.0,>=2.6.0 in /usr/local/lib/python3.7/dist-packages (from rich<9.13,>=9.11->psyneulink) (2.6.1)\n",
            "Requirement already satisfied: decorator>=4.3.0 in /usr/local/lib/python3.7/dist-packages (from networkx<2.6->psyneulink) (4.4.2)\n",
            "Requirement already satisfied: protobuf<4.0dev,>=3.5.0.post1 in /usr/local/lib/python3.7/dist-packages (from grpcio-tools<1.35.0->psyneulink) (3.12.4)\n",
            "Requirement already satisfied: setuptools in /usr/local/lib/python3.7/dist-packages (from grpcio-tools<1.35.0->psyneulink) (54.1.2)\n",
            "Requirement already satisfied: ipython>=4.0.0; python_version >= \"3.3\" in /usr/local/lib/python3.7/dist-packages (from ipywidgets>=7.0->leabra-psyneulink<=0.3.2->psyneulink) (5.5.0)\n",
            "Requirement already satisfied: jupyterlab-widgets>=1.0.0; python_version >= \"3.6\" in /usr/local/lib/python3.7/dist-packages (from ipywidgets>=7.0->leabra-psyneulink<=0.3.2->psyneulink) (1.0.0)\n",
            "Requirement already satisfied: nbformat>=4.2.0 in /usr/local/lib/python3.7/dist-packages (from ipywidgets>=7.0->leabra-psyneulink<=0.3.2->psyneulink) (5.1.2)\n",
            "Requirement already satisfied: traitlets>=4.3.1 in /usr/local/lib/python3.7/dist-packages (from ipywidgets>=7.0->leabra-psyneulink<=0.3.2->psyneulink) (5.0.5)\n",
            "Requirement already satisfied: ipykernel>=4.5.1 in /usr/local/lib/python3.7/dist-packages (from ipywidgets>=7.0->leabra-psyneulink<=0.3.2->psyneulink) (4.10.1)\n",
            "Requirement already satisfied: widgetsnbextension~=3.5.0 in /usr/local/lib/python3.7/dist-packages (from ipywidgets>=7.0->leabra-psyneulink<=0.3.2->psyneulink) (3.5.1)\n",
            "Requirement already satisfied: Jinja2>=2.7 in /usr/local/lib/python3.7/dist-packages (from bokeh>=0.12.6->leabra-psyneulink<=0.3.2->psyneulink) (2.11.3)\n",
            "Requirement already satisfied: tornado>=5.1 in /usr/local/lib/python3.7/dist-packages (from bokeh>=0.12.6->leabra-psyneulink<=0.3.2->psyneulink) (5.1.1)\n",
            "Requirement already satisfied: PyYAML>=3.10 in /usr/local/lib/python3.7/dist-packages (from bokeh>=0.12.6->leabra-psyneulink<=0.3.2->psyneulink) (3.13)\n",
            "Requirement already satisfied: packaging>=16.8 in /usr/local/lib/python3.7/dist-packages (from bokeh>=0.12.6->leabra-psyneulink<=0.3.2->psyneulink) (20.9)\n",
            "Requirement already satisfied: nbconvert in /usr/local/lib/python3.7/dist-packages (from jupyter->leabra-psyneulink<=0.3.2->psyneulink) (5.6.1)\n",
            "Requirement already satisfied: qtconsole in /usr/local/lib/python3.7/dist-packages (from jupyter->leabra-psyneulink<=0.3.2->psyneulink) (5.0.3)\n",
            "Requirement already satisfied: notebook in /usr/local/lib/python3.7/dist-packages (from jupyter->leabra-psyneulink<=0.3.2->psyneulink) (5.3.1)\n",
            "Requirement already satisfied: jupyter-console in /usr/local/lib/python3.7/dist-packages (from jupyter->leabra-psyneulink<=0.3.2->psyneulink) (5.2.0)\n",
            "Requirement already satisfied: jupyter-client in /usr/local/lib/python3.7/dist-packages (from ipyparallel>=6->elfi<0.7.8->psyneulink) (5.3.5)\n",
            "Requirement already satisfied: pyzmq>=13 in /usr/local/lib/python3.7/dist-packages (from ipyparallel>=6->elfi<0.7.8->psyneulink) (22.0.3)\n",
            "Requirement already satisfied: ipython-genutils in /usr/local/lib/python3.7/dist-packages (from ipyparallel>=6->elfi<0.7.8->psyneulink) (0.2.0)\n",
            "Requirement already satisfied: paramz>=0.9.0 in /usr/local/lib/python3.7/dist-packages (from GPy>=1.0.9->elfi<0.7.8->psyneulink) (0.9.5)\n",
            "Requirement already satisfied: distributed>=2.0; extra == \"distributed\" in /usr/local/lib/python3.7/dist-packages (from dask[distributed]<3.0.0,>=1.0.0->elfi<0.7.8->psyneulink) (2021.3.1)\n",
            "Requirement already satisfied: joblib>=0.11 in /usr/local/lib/python3.7/dist-packages (from scikit-learn>=0.18.1->elfi<0.7.8->psyneulink) (1.0.1)\n",
            "Requirement already satisfied: pexpect; sys_platform != \"win32\" in /usr/local/lib/python3.7/dist-packages (from ipython>=4.0.0; python_version >= \"3.3\"->ipywidgets>=7.0->leabra-psyneulink<=0.3.2->psyneulink) (4.8.0)\n",
            "Requirement already satisfied: prompt-toolkit<2.0.0,>=1.0.4 in /usr/local/lib/python3.7/dist-packages (from ipython>=4.0.0; python_version >= \"3.3\"->ipywidgets>=7.0->leabra-psyneulink<=0.3.2->psyneulink) (1.0.18)\n",
            "Requirement already satisfied: simplegeneric>0.8 in /usr/local/lib/python3.7/dist-packages (from ipython>=4.0.0; python_version >= \"3.3\"->ipywidgets>=7.0->leabra-psyneulink<=0.3.2->psyneulink) (0.8.1)\n",
            "Requirement already satisfied: pickleshare in /usr/local/lib/python3.7/dist-packages (from ipython>=4.0.0; python_version >= \"3.3\"->ipywidgets>=7.0->leabra-psyneulink<=0.3.2->psyneulink) (0.7.5)\n",
            "Requirement already satisfied: jsonschema!=2.5.0,>=2.4 in /usr/local/lib/python3.7/dist-packages (from nbformat>=4.2.0->ipywidgets>=7.0->leabra-psyneulink<=0.3.2->psyneulink) (2.6.0)\n",
            "Requirement already satisfied: jupyter-core in /usr/local/lib/python3.7/dist-packages (from nbformat>=4.2.0->ipywidgets>=7.0->leabra-psyneulink<=0.3.2->psyneulink) (4.7.1)\n",
            "Requirement already satisfied: MarkupSafe>=0.23 in /usr/local/lib/python3.7/dist-packages (from Jinja2>=2.7->bokeh>=0.12.6->leabra-psyneulink<=0.3.2->psyneulink) (1.1.1)\n",
            "Requirement already satisfied: entrypoints>=0.2.2 in /usr/local/lib/python3.7/dist-packages (from nbconvert->jupyter->leabra-psyneulink<=0.3.2->psyneulink) (0.3)\n",
            "Requirement already satisfied: defusedxml in /usr/local/lib/python3.7/dist-packages (from nbconvert->jupyter->leabra-psyneulink<=0.3.2->psyneulink) (0.7.1)\n",
            "Requirement already satisfied: testpath in /usr/local/lib/python3.7/dist-packages (from nbconvert->jupyter->leabra-psyneulink<=0.3.2->psyneulink) (0.4.4)\n",
            "Requirement already satisfied: bleach in /usr/local/lib/python3.7/dist-packages (from nbconvert->jupyter->leabra-psyneulink<=0.3.2->psyneulink) (3.3.0)\n",
            "Requirement already satisfied: pandocfilters>=1.4.1 in /usr/local/lib/python3.7/dist-packages (from nbconvert->jupyter->leabra-psyneulink<=0.3.2->psyneulink) (1.4.3)\n",
            "Requirement already satisfied: mistune<2,>=0.8.1 in /usr/local/lib/python3.7/dist-packages (from nbconvert->jupyter->leabra-psyneulink<=0.3.2->psyneulink) (0.8.4)\n",
            "Requirement already satisfied: qtpy in /usr/local/lib/python3.7/dist-packages (from qtconsole->jupyter->leabra-psyneulink<=0.3.2->psyneulink) (1.9.0)\n",
            "Requirement already satisfied: Send2Trash in /usr/local/lib/python3.7/dist-packages (from notebook->jupyter->leabra-psyneulink<=0.3.2->psyneulink) (1.5.0)\n",
            "Requirement already satisfied: terminado>=0.8.1 in /usr/local/lib/python3.7/dist-packages (from notebook->jupyter->leabra-psyneulink<=0.3.2->psyneulink) (0.9.2)\n",
            "Requirement already satisfied: msgpack>=0.6.0 in /usr/local/lib/python3.7/dist-packages (from distributed>=2.0; extra == \"distributed\"->dask[distributed]<3.0.0,>=1.0.0->elfi<0.7.8->psyneulink) (1.0.2)\n",
            "Requirement already satisfied: click>=6.6 in /usr/local/lib/python3.7/dist-packages (from distributed>=2.0; extra == \"distributed\"->dask[distributed]<3.0.0,>=1.0.0->elfi<0.7.8->psyneulink) (7.1.2)\n",
            "Requirement already satisfied: tblib>=1.6.0 in /usr/local/lib/python3.7/dist-packages (from distributed>=2.0; extra == \"distributed\"->dask[distributed]<3.0.0,>=1.0.0->elfi<0.7.8->psyneulink) (1.7.0)\n",
            "Requirement already satisfied: cloudpickle>=1.5.0 in /usr/local/lib/python3.7/dist-packages (from distributed>=2.0; extra == \"distributed\"->dask[distributed]<3.0.0,>=1.0.0->elfi<0.7.8->psyneulink) (1.6.0)\n",
            "Requirement already satisfied: sortedcontainers!=2.0.0,!=2.0.1 in /usr/local/lib/python3.7/dist-packages (from distributed>=2.0; extra == \"distributed\"->dask[distributed]<3.0.0,>=1.0.0->elfi<0.7.8->psyneulink) (2.3.0)\n",
            "Requirement already satisfied: zict>=0.1.3 in /usr/local/lib/python3.7/dist-packages (from distributed>=2.0; extra == \"distributed\"->dask[distributed]<3.0.0,>=1.0.0->elfi<0.7.8->psyneulink) (2.0.0)\n",
            "Requirement already satisfied: psutil>=5.0 in /usr/local/lib/python3.7/dist-packages (from distributed>=2.0; extra == \"distributed\"->dask[distributed]<3.0.0,>=1.0.0->elfi<0.7.8->psyneulink) (5.4.8)\n",
            "Requirement already satisfied: ptyprocess>=0.5 in /usr/local/lib/python3.7/dist-packages (from pexpect; sys_platform != \"win32\"->ipython>=4.0.0; python_version >= \"3.3\"->ipywidgets>=7.0->leabra-psyneulink<=0.3.2->psyneulink) (0.7.0)\n",
            "Requirement already satisfied: wcwidth in /usr/local/lib/python3.7/dist-packages (from prompt-toolkit<2.0.0,>=1.0.4->ipython>=4.0.0; python_version >= \"3.3\"->ipywidgets>=7.0->leabra-psyneulink<=0.3.2->psyneulink) (0.2.5)\n",
            "Requirement already satisfied: webencodings in /usr/local/lib/python3.7/dist-packages (from bleach->nbconvert->jupyter->leabra-psyneulink<=0.3.2->psyneulink) (0.5.1)\n",
            "Requirement already satisfied: heapdict in /usr/local/lib/python3.7/dist-packages (from zict>=0.1.3->distributed>=2.0; extra == \"distributed\"->dask[distributed]<3.0.0,>=1.0.0->elfi<0.7.8->psyneulink) (1.0.1)\n",
            "Requirement already satisfied: stroop in /usr/local/lib/python3.7/dist-packages (0.3)\n",
            "Requirement already satisfied: numpy in /usr/local/lib/python3.7/dist-packages (from stroop) (1.19.5)\n"
          ],
          "name": "stdout"
        }
      ]
    },
    {
      "cell_type": "code",
      "metadata": {
        "colab": {
          "base_uri": "https://localhost:8080/",
          "height": 34
        },
        "id": "l0Ou5aAnwX6H",
        "outputId": "a0cdc020-fa5c-42c6-e8cb-449b0f0adf89"
      },
      "source": [
        "import numpy as np \n",
        "import psyneulink as pnl \n",
        "import matplotlib.pyplot as plt \n",
        "import seaborn as sns \n",
        "\n",
        "# because google colab doesn't have the latest version of seaborn ... \n",
        "# to make sure the colors are picked intuitively... \n",
        "# ... this should be 3 if you are on google colab, 4 if you have newer version of seaborn\n",
        "cb_n_colors = 3\n",
        "\n",
        "%matplotlib inline\n",
        "%autosave 5\n",
        "\n",
        "sns.set(style='white', context='talk', palette='colorblind')\n",
        "np.random.seed(0)"
      ],
      "execution_count": null,
      "outputs": [
        {
          "output_type": "display_data",
          "data": {
            "application/javascript": [
              "IPython.notebook.set_autosave_interval(5000)"
            ]
          },
          "metadata": {
            "tags": []
          }
        },
        {
          "output_type": "stream",
          "text": [
            "Autosaving every 5 seconds\n"
          ],
          "name": "stdout"
        }
      ]
    },
    {
      "cell_type": "markdown",
      "metadata": {
        "id": "Y2QhPtb5wX6I"
      },
      "source": [
        "## <a id='stroop1'>1. A simplified stroop model - linear stroop</a> \n",
        "[Back to top](#table)\n",
        "\n",
        "In this section, we will study a simple linear network, without hidden units. There are two input layers correspond to color inputs and word inputs, and they map to an output layer. \n",
        "\n",
        "Each layer has two units, representing red and green. For example, [1, 0] for the color input layer means the stimulus has red color. [0, 1] for the word input means the word is green (but the color of the word is controled by the color input). And the activity for the output layer can be viewed as the response. For example, [.8, .1] can be thought as having stronger \"red response\" (than \"green response\"). "
      ]
    },
    {
      "cell_type": "markdown",
      "metadata": {
        "id": "ixywU9E1wX6J"
      },
      "source": [
        "**Thought question**: how might this simple network capture the phenomenon that word reading is faster than color naming? \n"
      ]
    },
    {
      "cell_type": "code",
      "metadata": {
        "colab": {
          "base_uri": "https://localhost:8080/"
        },
        "id": "pe9zX4h_wX6J",
        "outputId": "6447d9f9-1aca-49d8-bed4-b3b89408b1fd"
      },
      "source": [
        "# set the strength of the two processing pathways \n",
        "strength_color_processing = 1 \n",
        "strength_word_processing  = 1.5\n",
        "\n",
        "# input layers  \n",
        "color_inp = pnl.TransferMechanism(\n",
        "    default_variable=[0, 0], \n",
        "    function=pnl.Linear(slope=strength_color_processing), \n",
        "    name=\"Color\"\n",
        ")\n",
        "word_inp = pnl.TransferMechanism(\n",
        "    default_variable=[0, 0], \n",
        "    function=pnl.Linear(slope=strength_word_processing), \n",
        "    name=\"Word\"\n",
        ")\n",
        "# output layer \n",
        "response = pnl.TransferMechanism(\n",
        "    default_variable=[0, 0], \n",
        "    function=pnl.Linear(slope=1), \n",
        "    name=\"Response\"\n",
        ")\n",
        "\n",
        "# Place mechanisms and projections in composition\n",
        "linear_stroop = pnl.Composition()\n",
        "linear_stroop.add_linear_processing_pathway(pathway = [color_inp, response])\n",
        "linear_stroop.add_linear_processing_pathway(pathway = [word_inp, response])"
      ],
      "execution_count": null,
      "outputs": [
        {
          "output_type": "execute_result",
          "data": {
            "text/plain": [
              "<psyneulink.core.compositions.pathway.Pathway at 0x7fb2c2dad290>"
            ]
          },
          "metadata": {
            "tags": []
          },
          "execution_count": 3
        }
      ]
    },
    {
      "cell_type": "code",
      "metadata": {
        "colab": {
          "base_uri": "https://localhost:8080/",
          "height": 206
        },
        "id": "q2CiQpQgwX6J",
        "outputId": "72fddd95-1004-4f8e-93d4-d4f02c26b0f2"
      },
      "source": [
        "linear_stroop.show_graph(output_fmt = 'jupyter')"
      ],
      "execution_count": null,
      "outputs": [
        {
          "output_type": "execute_result",
          "data": {
            "text/plain": [
              "<graphviz.dot.Digraph at 0x7fb2c30eccd0>"
            ],
            "image/svg+xml": "<?xml version=\"1.0\" encoding=\"UTF-8\" standalone=\"no\"?>\n<!DOCTYPE svg PUBLIC \"-//W3C//DTD SVG 1.1//EN\"\n \"http://www.w3.org/Graphics/SVG/1.1/DTD/svg11.dtd\">\n<!-- Generated by graphviz version 2.40.1 (20161225.0304)\n -->\n<!-- Title: Composition&#45;0 Pages: 1 -->\n<svg width=\"138pt\" height=\"139pt\"\n viewBox=\"0.00 0.00 138.02 139.00\" xmlns=\"http://www.w3.org/2000/svg\" xmlns:xlink=\"http://www.w3.org/1999/xlink\">\n<g id=\"graph0\" class=\"graph\" transform=\"scale(1 1) rotate(0) translate(4 135)\">\n<title>Composition&#45;0</title>\n<polygon fill=\"#ffffff\" stroke=\"transparent\" points=\"-4,4 -4,-135 134.0184,-135 134.0184,4 -4,4\"/>\n<text text-anchor=\"middle\" x=\"65.0092\" y=\"-7.8\" font-family=\"Times,serif\" font-size=\"14.00\" fill=\"#000000\">Composition&#45;0</text>\n<!-- Word -->\n<g id=\"node1\" class=\"node\">\n<title>Word</title>\n<ellipse fill=\"none\" stroke=\"#00ff00\" stroke-width=\"3\" cx=\"27.7014\" cy=\"-41\" rx=\"27.9043\" ry=\"18\"/>\n<text text-anchor=\"middle\" x=\"27.7014\" y=\"-37.9\" font-family=\"arial\" font-size=\"12.00\" fill=\"#000000\">Word</text>\n</g>\n<!-- Response -->\n<g id=\"node3\" class=\"node\">\n<title>Response</title>\n<ellipse fill=\"none\" stroke=\"#ff0000\" stroke-width=\"3\" cx=\"64.7014\" cy=\"-113\" rx=\"43.9143\" ry=\"18\"/>\n<text text-anchor=\"middle\" x=\"64.7014\" y=\"-109.9\" font-family=\"arial\" font-size=\"12.00\" fill=\"#000000\">Response</text>\n</g>\n<!-- Word&#45;&gt;Response -->\n<g id=\"edge2\" class=\"edge\">\n<title>Word&#45;&gt;Response</title>\n<path fill=\"none\" stroke=\"#000000\" d=\"M36.6581,-58.4292C40.9569,-66.7945 46.2025,-77.002 50.9889,-86.3161\"/>\n<polygon fill=\"#000000\" stroke=\"#000000\" points=\"47.8864,-87.9366 55.5702,-95.2311 54.1125,-84.737 47.8864,-87.9366\"/>\n</g>\n<!-- Color -->\n<g id=\"node2\" class=\"node\">\n<title>Color</title>\n<ellipse fill=\"none\" stroke=\"#00ff00\" stroke-width=\"3\" cx=\"101.7014\" cy=\"-41\" rx=\"28.1352\" ry=\"18\"/>\n<text text-anchor=\"middle\" x=\"101.7014\" y=\"-37.9\" font-family=\"arial\" font-size=\"12.00\" fill=\"#000000\">Color</text>\n</g>\n<!-- Color&#45;&gt;Response -->\n<g id=\"edge1\" class=\"edge\">\n<title>Color&#45;&gt;Response</title>\n<path fill=\"none\" stroke=\"#000000\" d=\"M92.7447,-58.4292C88.4459,-66.7945 83.2004,-77.002 78.414,-86.3161\"/>\n<polygon fill=\"#000000\" stroke=\"#000000\" points=\"75.2904,-84.737 73.8326,-95.2311 81.5164,-87.9366 75.2904,-84.737\"/>\n</g>\n</g>\n</svg>\n"
          },
          "metadata": {
            "tags": []
          },
          "execution_count": 4
        }
      ]
    },
    {
      "cell_type": "code",
      "metadata": {
        "id": "Xr7DZKDbwX6K"
      },
      "source": [
        "# define all stimuli \n",
        "all_conditions = ['control', 'conflict', 'congruent']\n",
        "n_conditions = len(all_conditions)\n",
        "red = [1, 0]\n",
        "green = [0, 1]\n",
        "null = [0, 0]\n",
        "\n",
        "input_control = {color_inp: red,  word_inp: null}\n",
        "input_conflict = {color_inp: red,  word_inp: green}\n",
        "input_congruent = {color_inp: red,  word_inp: red}\n",
        "\n",
        "all_stimuli = [input_control, input_conflict, input_congruent]"
      ],
      "execution_count": null,
      "outputs": []
    },
    {
      "cell_type": "code",
      "metadata": {
        "colab": {
          "base_uri": "https://localhost:8080/",
          "height": 68,
          "referenced_widgets": [
            "19dd8605595b488492655630333118bc",
            "a8284c87e5cc403bbdcd6e43ecdbcdd6",
            "1546d84b1ade488db5c0125ca00f822e",
            "24ab690c5db245b19e513f2cd6703392",
            "2b57b2c0a03e43afa40f43d19473d09f",
            "90ae7180848c47bca145259beed892c6"
          ]
        },
        "id": "DqOFEF83wX6K",
        "outputId": "34e31f32-f84d-4e2b-e6c0-49d3836d94a4"
      },
      "source": [
        "# run the model for all conditions\n",
        "responses = []\n",
        "for i, stimuli in enumerate(all_stimuli): \n",
        "    response = linear_stroop.run(stimuli)\n",
        "    responses.append(response)\n",
        "    print(f'Condition: {all_conditions[i]} \\t Response = {response}')\n",
        "responses = np.squeeze(responses)"
      ],
      "execution_count": null,
      "outputs": [
        {
          "output_type": "display_data",
          "data": {
            "application/vnd.jupyter.widget-view+json": {
              "model_id": "19dd8605595b488492655630333118bc",
              "version_minor": 0,
              "version_major": 2
            },
            "text/plain": [
              "Output()"
            ]
          },
          "metadata": {
            "tags": []
          }
        },
        {
          "output_type": "display_data",
          "data": {
            "text/html": [
              "<pre style=\"white-space:pre;overflow-x:auto;line-height:normal;font-family:Menlo,'DejaVu Sans Mono',consolas,'Courier New',monospace\">\n",
              "</pre>\n"
            ],
            "text/plain": [
              "<rich.jupyter.JupyterRenderable at 0x7fb2c2be9d10>"
            ]
          },
          "metadata": {
            "tags": []
          }
        },
        {
          "output_type": "stream",
          "text": [
            "Condition: control \t Response = [array([1., 0.])]\n"
          ],
          "name": "stdout"
        },
        {
          "output_type": "display_data",
          "data": {
            "application/vnd.jupyter.widget-view+json": {
              "model_id": "1546d84b1ade488db5c0125ca00f822e",
              "version_minor": 0,
              "version_major": 2
            },
            "text/plain": [
              "Output()"
            ]
          },
          "metadata": {
            "tags": []
          }
        },
        {
          "output_type": "display_data",
          "data": {
            "text/html": [
              "<pre style=\"white-space:pre;overflow-x:auto;line-height:normal;font-family:Menlo,'DejaVu Sans Mono',consolas,'Courier New',monospace\">\n",
              "</pre>\n"
            ],
            "text/plain": [
              "<rich.jupyter.JupyterRenderable at 0x7fb2c2ef0f90>"
            ]
          },
          "metadata": {
            "tags": []
          }
        },
        {
          "output_type": "stream",
          "text": [
            "Condition: conflict \t Response = [array([1. , 1.5])]\n"
          ],
          "name": "stdout"
        },
        {
          "output_type": "display_data",
          "data": {
            "application/vnd.jupyter.widget-view+json": {
              "model_id": "2b57b2c0a03e43afa40f43d19473d09f",
              "version_minor": 0,
              "version_major": 2
            },
            "text/plain": [
              "Output()"
            ]
          },
          "metadata": {
            "tags": []
          }
        },
        {
          "output_type": "display_data",
          "data": {
            "text/html": [
              "<pre style=\"white-space:pre;overflow-x:auto;line-height:normal;font-family:Menlo,'DejaVu Sans Mono',consolas,'Courier New',monospace\">\n",
              "</pre>\n"
            ],
            "text/plain": [
              "<rich.jupyter.JupyterRenderable at 0x7fb2c2b87910>"
            ]
          },
          "metadata": {
            "tags": []
          }
        },
        {
          "output_type": "stream",
          "text": [
            "Condition: congruent \t Response = [array([2.5, 0. ])]\n"
          ],
          "name": "stdout"
        }
      ]
    },
    {
      "cell_type": "code",
      "metadata": {
        "colab": {
          "base_uri": "https://localhost:8080/",
          "height": 352
        },
        "id": "AW0a_R6DwX6K",
        "outputId": "d8db941b-e3e7-45e8-cc44-d3acc2d46d09"
      },
      "source": [
        "# prep data for plotting\n",
        "colpal = sns.color_palette('colorblind', n_colors=cb_n_colors)[-2:]\n",
        "index = np.arange(n_conditions)\n",
        "bar_width = 0.3\n",
        "\n",
        "# plot\n",
        "f, ax = plt.subplots(1,1,figsize=(8,5))\n",
        "ax.bar(\n",
        "    index, responses[:,0], \n",
        "    bar_width, color=colpal[1], label='Red'\n",
        ") \n",
        "ax.bar(\n",
        "    index + bar_width, responses[:,1], \n",
        "    bar_width, color=colpal[0], label='Green'\n",
        ")\n",
        "\n",
        "ax.set_xlabel('Condition')\n",
        "ax.set_ylabel('Activation')\n",
        "ax.set_title('Response layer pattern')\n",
        "ax.set_xticks(index + bar_width/2)\n",
        "ax.set_xticklabels(all_conditions)\n",
        "ax.legend(bbox_to_anchor=(1,1),frameon=False)\n",
        " \n",
        "plt.tight_layout()\n",
        "sns.despine()"
      ],
      "execution_count": null,
      "outputs": [
        {
          "output_type": "display_data",
          "data": {
            "image/png": "[encoded data removed]",
            "text/plain": [
              "<Figure size 576x360 with 1 Axes>"
            ]
          },
          "metadata": {
            "tags": []
          }
        }
      ]
    },
    {
      "cell_type": "code",
      "metadata": {
        "colab": {
          "base_uri": "https://localhost:8080/",
          "height": 279
        },
        "id": "KBT6xgc9wX6L",
        "outputId": "a919f301-566c-4fe3-8c8b-848bcba8f2b4"
      },
      "source": [
        "f, ax = plt.subplots(1,1,figsize=(7,4))\n",
        "red_green_diff = responses[:,0]-responses[:,1]\n",
        "ax.plot(red_green_diff)\n",
        "ax.axhline(0, color='grey',linestyle='--')\n",
        "ax.set_ylabel('Red - Green')\n",
        "ax.set_xticks(range(n_conditions))\n",
        "ax.set_xticklabels(all_conditions)\n",
        "sns.despine()"
      ],
      "execution_count": null,
      "outputs": [
        {
          "output_type": "display_data",
          "data": {
            "image/png": "[encoded data removed]",
            "text/plain": [
              "<Figure size 504x288 with 1 Axes>"
            ]
          },
          "metadata": {
            "tags": []
          }
        }
      ]
    },
    {
      "cell_type": "markdown",
      "metadata": {
        "id": "uGbwSVpEwX6L"
      },
      "source": [
        "### <a id='l1'>Lab exercise 1: Limitation of this model</a> \n",
        "\n",
        "[Back to top](#table)\n",
        "\n",
        "Question: This network is a drastic simplification of the full stroop model. What are some effects that cannot be captured by this simple network? "
      ]
    },
    {
      "cell_type": "code",
      "metadata": {
        "id": "dRJ_yfKswX6M"
      },
      "source": [
        ""
      ],
      "execution_count": null,
      "outputs": []
    },
    {
      "cell_type": "markdown",
      "metadata": {
        "id": "JNK_p_K0wX6M"
      },
      "source": [
        "## <a id='stroop2'>2. A stroop model without recurrent connection </a>\n",
        "[Back to top](#table)\n",
        "\n",
        "\n",
        "#### The model:\n",
        "This is a simplification of Cohen et al. (1990) but sophisticated enough to capture some of the main findings. The values of the weights are obtained from Cohen et al. (1990). I recommend looking on the `model.show_graph()` results first, then try to understand the code that defines the model.\n",
        "\n",
        "\n",
        "\n",
        "Differences from the 1st linear model: \n",
        "1. This network has explicit representation of the current task, by having a task input layer. [1, 0] represents the color naming task, the [0 ,1] represents the word reading task. \n",
        "2. This network has hidden representation for color and word responses. \n",
        "\n",
        "Difference from the full model: \n",
        "1. This network doesn't have the \n",
        "<a href=\"https://en.wikipedia.org/wiki/Two-alternative_forced_choice#Drift-diffusion_model\">drift diffusion model</a>\n",
        "on top of the output layer to perform more explicit evidence accumulation process. "
      ]
    },
    {
      "cell_type": "code",
      "metadata": {
        "id": "QcKlyDAPwX6M"
      },
      "source": [
        "def get_stroop_model():\n",
        "    N_UNITS = 2\n",
        "    # input layer, color and word\n",
        "    inp_clr = pnl.TransferMechanism(\n",
        "        size=N_UNITS, function=pnl.Linear, name='Color input'\n",
        "    )\n",
        "    inp_wrd = pnl.TransferMechanism(\n",
        "        size=N_UNITS, function=pnl.Linear, name='Word input'\n",
        "    )\n",
        "    # task layer, represent the task instruction; color naming / word reading\n",
        "    inp_task = pnl.TransferMechanism(\n",
        "        size=N_UNITS, function=pnl.Linear, name='Task input'\n",
        "    )\n",
        "    # hidden layer for color and word\n",
        "    hidden_func = pnl.Logistic(gain=1.0, x_0=4.0)\n",
        "    hid_clr = pnl.TransferMechanism(\n",
        "        size=N_UNITS, function=hidden_func, name='Color hidden'\n",
        "    )\n",
        "    hid_wrd = pnl.TransferMechanism(\n",
        "        size=N_UNITS, function=hidden_func, name='Word hidden'\n",
        "    )\n",
        "    # output layer\n",
        "    output = pnl.TransferMechanism(\n",
        "        size=N_UNITS, function=pnl.Logistic, name='Output'\n",
        "    )\n",
        "    # PROJECTIONS, weights copied from cohen et al (1990)\n",
        "    wts_clr_ih = pnl.MappingProjection(\n",
        "        matrix=[[2.2, -2.2], [-2.2, 2.2]], name='Color input to hidden')\n",
        "    wts_wrd_ih = pnl.MappingProjection(\n",
        "        matrix=[[2.6, -2.6], [-2.6, 2.6]], name='Word input to hidden')\n",
        "    wts_clr_ho = pnl.MappingProjection(\n",
        "        matrix=[[1.3, -1.3], [-1.3, 1.3]], name='Color hidden to Output')\n",
        "    wts_wrd_ho = pnl.MappingProjection(\n",
        "        matrix=[[2.5, -2.5], [-2.5, 2.5]], name='Word hidden to Output')\n",
        "    wts_tc = pnl.MappingProjection(\n",
        "        matrix=[[4.0, 4.0], [0, 0]], name='Color naming')\n",
        "    wts_tw = pnl.MappingProjection(\n",
        "        matrix=[[0, 0], [4.0, 4.0]], name='Word reading')\n",
        "    # build the model\n",
        "    model = pnl.Composition(name='STROOP model')\n",
        "    model.add_node(inp_clr)\n",
        "    model.add_node(inp_wrd)\n",
        "    model.add_node(hid_clr)\n",
        "    model.add_node(hid_wrd)\n",
        "    model.add_node(inp_task)\n",
        "    model.add_node(output)\n",
        "    # pathways \n",
        "    model.add_linear_processing_pathway([inp_clr, wts_clr_ih, hid_clr])\n",
        "    model.add_linear_processing_pathway([inp_wrd, wts_wrd_ih, hid_wrd])\n",
        "    model.add_linear_processing_pathway([hid_clr, wts_clr_ho, output])\n",
        "    model.add_linear_processing_pathway([hid_wrd, wts_wrd_ho, output])\n",
        "    model.add_linear_processing_pathway([inp_task, wts_tc, hid_clr])\n",
        "    model.add_linear_processing_pathway([inp_task, wts_tw, hid_wrd])\n",
        "    # collect the node handles\n",
        "    nodes = [inp_clr, inp_wrd, inp_task, hid_clr, hid_wrd, output]\n",
        "    return model, nodes"
      ],
      "execution_count": null,
      "outputs": []
    },
    {
      "cell_type": "code",
      "metadata": {
        "colab": {
          "base_uri": "https://localhost:8080/",
          "height": 302
        },
        "id": "89Nft1FVwX6M",
        "outputId": "2b312d2c-f923-433d-9080-f97117cfb35a"
      },
      "source": [
        "# get the feed forward stroop model\n",
        "ff_stroop, nodes = get_stroop_model()\n",
        "[color_inp, word_inp, task_inp, _, _, _] = nodes\n",
        "ff_stroop.show_graph(output_fmt = 'jupyter')"
      ],
      "execution_count": null,
      "outputs": [
        {
          "output_type": "execute_result",
          "data": {
            "text/plain": [
              "<graphviz.dot.Digraph at 0x7fb2b9edf4d0>"
            ],
            "image/svg+xml": "<?xml version=\"1.0\" encoding=\"UTF-8\" standalone=\"no\"?>\n<!DOCTYPE svg PUBLIC \"-//W3C//DTD SVG 1.1//EN\"\n \"http://www.w3.org/Graphics/SVG/1.1/DTD/svg11.dtd\">\n<!-- Generated by graphviz version 2.40.1 (20161225.0304)\n -->\n<!-- Title: STROOP model Pages: 1 -->\n<svg width=\"315pt\" height=\"211pt\"\n viewBox=\"0.00 0.00 314.72 211.00\" xmlns=\"http://www.w3.org/2000/svg\" xmlns:xlink=\"http://www.w3.org/1999/xlink\">\n<g id=\"graph0\" class=\"graph\" transform=\"scale(1 1) rotate(0) translate(4 207)\">\n<title>STROOP model</title>\n<polygon fill=\"#ffffff\" stroke=\"transparent\" points=\"-4,4 -4,-207 310.7225,-207 310.7225,4 -4,4\"/>\n<text text-anchor=\"middle\" x=\"153.3612\" y=\"-7.8\" font-family=\"Times,serif\" font-size=\"14.00\" fill=\"#000000\">STROOP model</text>\n<!-- Task input -->\n<g id=\"node1\" class=\"node\">\n<title>Task input</title>\n<ellipse fill=\"none\" stroke=\"#00ff00\" stroke-width=\"3\" cx=\"154.169\" cy=\"-41\" rx=\"43.9143\" ry=\"18\"/>\n<text text-anchor=\"middle\" x=\"154.169\" y=\"-37.9\" font-family=\"arial\" font-size=\"12.00\" fill=\"#000000\">Task input</text>\n</g>\n<!-- Color hidden -->\n<g id=\"node4\" class=\"node\">\n<title>Color hidden</title>\n<ellipse fill=\"none\" stroke=\"#000000\" cx=\"92.169\" cy=\"-113\" rx=\"52.881\" ry=\"18\"/>\n<text text-anchor=\"middle\" x=\"92.169\" y=\"-109.9\" font-family=\"arial\" font-size=\"12.00\" fill=\"#000000\">Color hidden</text>\n</g>\n<!-- Task input&#45;&gt;Color hidden -->\n<g id=\"edge2\" class=\"edge\">\n<title>Task input&#45;&gt;Color hidden</title>\n<path fill=\"none\" stroke=\"#000000\" d=\"M139.4759,-58.063C131.7904,-66.9881 122.2355,-78.0841 113.7289,-87.9627\"/>\n<polygon fill=\"#000000\" stroke=\"#000000\" points=\"111.0605,-85.6978 107.1874,-95.5593 116.3648,-90.2655 111.0605,-85.6978\"/>\n</g>\n<!-- Word hidden -->\n<g id=\"node5\" class=\"node\">\n<title>Word hidden</title>\n<ellipse fill=\"none\" stroke=\"#000000\" cx=\"215.169\" cy=\"-113\" rx=\"52.1504\" ry=\"18\"/>\n<text text-anchor=\"middle\" x=\"215.169\" y=\"-109.9\" font-family=\"arial\" font-size=\"12.00\" fill=\"#000000\">Word hidden</text>\n</g>\n<!-- Task input&#45;&gt;Word hidden -->\n<g id=\"edge3\" class=\"edge\">\n<title>Task input&#45;&gt;Word hidden</title>\n<path fill=\"none\" stroke=\"#000000\" d=\"M168.6252,-58.063C176.1119,-66.8997 185.4015,-77.8646 193.7079,-87.6689\"/>\n<polygon fill=\"#000000\" stroke=\"#000000\" points=\"191.2582,-90.1919 200.3929,-95.5593 196.5991,-85.667 191.2582,-90.1919\"/>\n</g>\n<!-- Word input -->\n<g id=\"node2\" class=\"node\">\n<title>Word input</title>\n<ellipse fill=\"none\" stroke=\"#00ff00\" stroke-width=\"3\" cx=\"261.169\" cy=\"-41\" rx=\"45.6069\" ry=\"18\"/>\n<text text-anchor=\"middle\" x=\"261.169\" y=\"-37.9\" font-family=\"arial\" font-size=\"12.00\" fill=\"#000000\">Word input</text>\n</g>\n<!-- Word input&#45;&gt;Word hidden -->\n<g id=\"edge4\" class=\"edge\">\n<title>Word input&#45;&gt;Word hidden</title>\n<path fill=\"none\" stroke=\"#000000\" d=\"M249.7982,-58.7978C244.3949,-67.2552 237.8294,-77.5315 231.8741,-86.853\"/>\n<polygon fill=\"#000000\" stroke=\"#000000\" points=\"228.8435,-85.0956 226.409,-95.407 234.7424,-88.8644 228.8435,-85.0956\"/>\n</g>\n<!-- Color input -->\n<g id=\"node3\" class=\"node\">\n<title>Color input</title>\n<ellipse fill=\"none\" stroke=\"#00ff00\" stroke-width=\"3\" cx=\"46.169\" cy=\"-41\" rx=\"46.3387\" ry=\"18\"/>\n<text text-anchor=\"middle\" x=\"46.169\" y=\"-37.9\" font-family=\"arial\" font-size=\"12.00\" fill=\"#000000\">Color input</text>\n</g>\n<!-- Color input&#45;&gt;Color hidden -->\n<g id=\"edge1\" class=\"edge\">\n<title>Color input&#45;&gt;Color hidden</title>\n<path fill=\"none\" stroke=\"#000000\" d=\"M57.5398,-58.7978C62.9432,-67.2552 69.5086,-77.5315 75.464,-86.853\"/>\n<polygon fill=\"#000000\" stroke=\"#000000\" points=\"72.5957,-88.8644 80.929,-95.407 78.4945,-85.0956 72.5957,-88.8644\"/>\n</g>\n<!-- Output -->\n<g id=\"node6\" class=\"node\">\n<title>Output</title>\n<ellipse fill=\"none\" stroke=\"#ff0000\" stroke-width=\"3\" cx=\"153.169\" cy=\"-185\" rx=\"32.0211\" ry=\"18\"/>\n<text text-anchor=\"middle\" x=\"153.169\" y=\"-181.9\" font-family=\"arial\" font-size=\"12.00\" fill=\"#000000\">Output</text>\n</g>\n<!-- Color hidden&#45;&gt;Output -->\n<g id=\"edge5\" class=\"edge\">\n<title>Color hidden&#45;&gt;Output</title>\n<path fill=\"none\" stroke=\"#000000\" d=\"M106.9354,-130.4292C114.7257,-139.6242 124.4017,-151.0452 132.8855,-161.0587\"/>\n<polygon fill=\"#000000\" stroke=\"#000000\" points=\"130.2402,-163.3509 139.3748,-168.7183 135.5811,-158.826 130.2402,-163.3509\"/>\n</g>\n<!-- Word hidden&#45;&gt;Output -->\n<g id=\"edge6\" class=\"edge\">\n<title>Word hidden&#45;&gt;Output</title>\n<path fill=\"none\" stroke=\"#000000\" d=\"M200.1606,-130.4292C192.2426,-139.6242 182.4079,-151.0452 173.7851,-161.0587\"/>\n<polygon fill=\"#000000\" stroke=\"#000000\" points=\"171.0624,-158.8568 167.1894,-168.7183 176.3668,-163.4244 171.0624,-158.8568\"/>\n</g>\n</g>\n</svg>\n"
          },
          "metadata": {
            "tags": []
          },
          "execution_count": 10
        }
      ]
    },
    {
      "cell_type": "code",
      "metadata": {
        "id": "ggoPktkAwX6N"
      },
      "source": [
        "# define all stimuli \n",
        "all_conditions = ['control', 'conflict', 'congruent']\n",
        "n_conditions = len(all_conditions)\n",
        "\n",
        "red = [1, 0]\n",
        "green = [0, 1]\n",
        "null = [0, 0]\n",
        "color_naming = [1, 0]\n",
        "word_reading = [0, 1]\n",
        "\n",
        "input_control = {color_inp: red,  word_inp: null, task_inp: color_naming}\n",
        "input_conflict = {color_inp: red,  word_inp: green, task_inp: color_naming}\n",
        "input_congruent = {color_inp: red,  word_inp: red, task_inp: color_naming}\n",
        "all_stimuli = [input_control, input_conflict, input_congruent]"
      ],
      "execution_count": null,
      "outputs": []
    },
    {
      "cell_type": "code",
      "metadata": {
        "colab": {
          "base_uri": "https://localhost:8080/",
          "height": 68,
          "referenced_widgets": [
            "a1ec10e444254d159a6eef64a617c7c6",
            "abcc3046aa2747d7821e8b4f758c0992",
            "00e44b660efa4142b9b58fa0b28da5c6",
            "6bead26c25a144af966212a8fe6c14ab",
            "a4efe339d5ae4c7991dfed455e5405aa",
            "3fe6fc85634247b38171ff4c7606ec4d"
          ]
        },
        "id": "B9B6F4TTwX6N",
        "outputId": "4a0ed355-9715-46a2-82c5-da3ae31cbe16"
      },
      "source": [
        "# run the model for all conditions\n",
        "responses = []\n",
        "for i, stimuli in enumerate(all_stimuli): \n",
        "    response = ff_stroop.run(stimuli)\n",
        "    responses.append(response)\n",
        "    print(f'Condition: {all_conditions[i]} \\t Response = {response}')\n",
        "responses = np.squeeze(responses)"
      ],
      "execution_count": null,
      "outputs": [
        {
          "output_type": "display_data",
          "data": {
            "application/vnd.jupyter.widget-view+json": {
              "model_id": "a1ec10e444254d159a6eef64a617c7c6",
              "version_minor": 0,
              "version_major": 2
            },
            "text/plain": [
              "Output()"
            ]
          },
          "metadata": {
            "tags": []
          }
        },
        {
          "output_type": "display_data",
          "data": {
            "text/html": [
              "<pre style=\"white-space:pre;overflow-x:auto;line-height:normal;font-family:Menlo,'DejaVu Sans Mono',consolas,'Courier New',monospace\">\n",
              "</pre>\n"
            ],
            "text/plain": [
              "<rich.jupyter.JupyterRenderable at 0x7fb2ba25ddd0>"
            ]
          },
          "metadata": {
            "tags": []
          }
        },
        {
          "output_type": "stream",
          "text": [
            "Condition: control \t Response = [array([0.73897516, 0.26102484])]\n"
          ],
          "name": "stdout"
        },
        {
          "output_type": "display_data",
          "data": {
            "application/vnd.jupyter.widget-view+json": {
              "model_id": "00e44b660efa4142b9b58fa0b28da5c6",
              "version_minor": 0,
              "version_major": 2
            },
            "text/plain": [
              "Output()"
            ]
          },
          "metadata": {
            "tags": []
          }
        },
        {
          "output_type": "display_data",
          "data": {
            "text/html": [
              "<pre style=\"white-space:pre;overflow-x:auto;line-height:normal;font-family:Menlo,'DejaVu Sans Mono',consolas,'Courier New',monospace\">\n",
              "</pre>\n"
            ],
            "text/plain": [
              "<rich.jupyter.JupyterRenderable at 0x7fb2b9e6ffd0>"
            ]
          },
          "metadata": {
            "tags": []
          }
        },
        {
          "output_type": "stream",
          "text": [
            "Condition: conflict \t Response = [array([0.63402068, 0.36597932])]\n"
          ],
          "name": "stdout"
        },
        {
          "output_type": "display_data",
          "data": {
            "application/vnd.jupyter.widget-view+json": {
              "model_id": "a4efe339d5ae4c7991dfed455e5405aa",
              "version_minor": 0,
              "version_major": 2
            },
            "text/plain": [
              "Output()"
            ]
          },
          "metadata": {
            "tags": []
          }
        },
        {
          "output_type": "display_data",
          "data": {
            "text/html": [
              "<pre style=\"white-space:pre;overflow-x:auto;line-height:normal;font-family:Menlo,'DejaVu Sans Mono',consolas,'Courier New',monospace\">\n",
              "</pre>\n"
            ],
            "text/plain": [
              "<rich.jupyter.JupyterRenderable at 0x7fb2ba23c510>"
            ]
          },
          "metadata": {
            "tags": []
          }
        },
        {
          "output_type": "stream",
          "text": [
            "Condition: congruent \t Response = [array([0.82226846, 0.17773154])]\n"
          ],
          "name": "stdout"
        }
      ]
    },
    {
      "cell_type": "code",
      "metadata": {
        "colab": {
          "base_uri": "https://localhost:8080/",
          "height": 352
        },
        "id": "AOU7SsWcwX6N",
        "outputId": "5eeb0862-0c3a-4107-bf89-7baa29166dc7"
      },
      "source": [
        "# prep data for plotting\n",
        "colpal = sns.color_palette('colorblind', n_colors=cb_n_colors)[-2:]\n",
        "index = np.arange(n_conditions)\n",
        "bar_width = 0.3\n",
        "\n",
        "# plot\n",
        "f, ax = plt.subplots(1,1,figsize=(8,5))\n",
        "ax.bar(\n",
        "    index, responses[:,0], \n",
        "    bar_width, color=colpal[1], label='Red'\n",
        ") \n",
        "ax.bar(\n",
        "    index + bar_width, responses[:,1], \n",
        "    bar_width, color=colpal[0], label='Green'\n",
        ")\n",
        "ax.axhline(0, color='grey',linestyle='--')\n",
        "\n",
        "ax.set_xlabel('Condition')\n",
        "ax.set_ylabel('Activation')\n",
        "ax.set_title('Response layer pattern')\n",
        "ax.set_xticks(index + bar_width/2)\n",
        "ax.set_xticklabels(all_conditions)\n",
        "ax.legend(bbox_to_anchor=(1,1),frameon=False)\n",
        " \n",
        "plt.tight_layout()\n",
        "sns.despine()"
      ],
      "execution_count": null,
      "outputs": [
        {
          "output_type": "display_data",
          "data": {
            "image/png": "[encoded data removed]",
            "text/plain": [
              "<Figure size 576x360 with 1 Axes>"
            ]
          },
          "metadata": {
            "tags": []
          }
        }
      ]
    },
    {
      "cell_type": "code",
      "metadata": {
        "colab": {
          "base_uri": "https://localhost:8080/",
          "height": 301
        },
        "id": "iLrjHmGkwX6O",
        "outputId": "a48d0e73-c2c8-4fea-b218-56c2c9f45f54"
      },
      "source": [
        "f, ax = plt.subplots(1,1,figsize=(7,4))\n",
        "red_green_diff_color_naming = responses[:,0]-responses[:,1]\n",
        "ax.plot(red_green_diff_color_naming)\n",
        "ax.set_ylabel('Red - Green')\n",
        "ax.set_xlabel('Condition')\n",
        "ax.set_xticks(range(n_conditions))\n",
        "ax.set_xticklabels(all_conditions)\n",
        "sns.despine()"
      ],
      "execution_count": null,
      "outputs": [
        {
          "output_type": "display_data",
          "data": {
            "image/png": "[encoded data removed]",
            "text/plain": [
              "<Figure size 504x288 with 1 Axes>"
            ]
          },
          "metadata": {
            "tags": []
          }
        }
      ]
    },
    {
      "cell_type": "markdown",
      "metadata": {
        "id": "v4iC-XN5wX6O"
      },
      "source": [
        "### <a id='l2'>Lab exercise 2: Qualitatively replicate Figure 5 from Cohen et al. 1990</a> \n",
        "\n",
        "[Back to top](#table)\n",
        "\n",
        "Here's some step-by-step suggestions: \n",
        "\n",
        "- 1. Run the model on the word reading task, and analyze/plot the activity patterns. Like what I did above. \n",
        "- 2. Compare the results with the color naming results above. \n",
        "- 3. Describe: how might output unit activity (of red vs. green) map to reaction time? \n",
        "\n",
        "Useful references: \n",
        "- Cohen, J. D., Dunbar, K., & McClelland, J. L. (1990). On the control of automatic processes: a parallel distributed processing account of the Stroop effect. Psychological Review, 97(3), 332–361.  \n",
        "<a href=\"https://www.researchgate.net/profile/James-Mcclelland-4/publication/20956134_Cohen_JD_McClelland_JL_Dunbar_K_On_the_control_of_automatic_processes_a_parallel_distributed_processing_account_of_the_Stroop_effect_Psychol_Rev_97_332-361/links/02e7e525d7111d2cc8000000/Cohen-JD-McClelland-JL-Dunbar-K-On-the-control-of-automatic-processes-a-parallel-distributed-processing-account-of-the-Stroop-effect-Psychol-Rev-97-332-361.pdf\">Link to the paper</a>\n",
        "\n"
      ]
    },
    {
      "cell_type": "code",
      "metadata": {
        "id": "FRKKk5PuwX6P"
      },
      "source": [
        ""
      ],
      "execution_count": null,
      "outputs": []
    },
    {
      "cell_type": "markdown",
      "metadata": {
        "id": "43dfOQS0wX6P"
      },
      "source": [
        "## <a id='stroop3'>3. The full stroop model </a> \n",
        "\n",
        "[Back to top](#table)\n",
        "\n",
        "#### The model \n",
        "\n",
        "Here's a qualitative replication of the original stroop model. Compared to the previous simplification (the model without recurrence), this network has explicit mechanism (on top of the output layer) for integrating information (should I make red response or green response?) over time to make a response. This is achieved by the <a href=\"https://www.ncbi.nlm.nih.gov/pubmed/11488378\">leaky competing accumulator</a>. And here's <a href=\"https://github.com/qihongl/demo-lca\">a toy demo of LCA</a>. \n",
        "\n",
        "The important point here is that now the model has temporal dynamics, and it can be used to model reaction time very naturally. In comparison, for the previous model, we had to hypothesize the relation between output activity (of red vs. green) and reaction time. "
      ]
    },
    {
      "cell_type": "markdown",
      "metadata": {
        "id": "xRH62nOAwX6P"
      },
      "source": [
        "#### Stimuli\n",
        "ps: For this lab, a former TA wrote a python library to help with constructing stroop stimuli, which is imported below. \n",
        "- You don't need to understand what it does internally but if you want to see the internal, click <a href=\"https://github.com/qihongl/stroop-stimuli/blob/master/stroop/stimulus.py\">here</a>. "
      ]
    },
    {
      "cell_type": "code",
      "metadata": {
        "id": "HT2v1IEYwX6Q"
      },
      "source": [
        "\"\"\"import a helper function for constructing stroop stimuli\"\"\"\n",
        "import stroop\n",
        "from stroop.stimulus import get_stimulus, TASKS, COLORS, CONDITIONS"
      ],
      "execution_count": null,
      "outputs": []
    },
    {
      "cell_type": "code",
      "metadata": {
        "id": "lDAN1KrVwX6Q"
      },
      "source": [
        "\"\"\"define the stroop model\"\"\"\n",
        "N_UNITS = 2\n",
        "\n",
        "def get_stroop_model(\n",
        "    unit_noise_std = .01, dec_noise_std = .1, \n",
        "    integration_rate = .2, leak = 0, competition = 1\n",
        "):\n",
        "    # model params\n",
        "    hidden_func = pnl.Logistic(gain=1.0, x_0=4.0)\n",
        "    # input layer, color and word\n",
        "    inp_clr = pnl.TransferMechanism(\n",
        "        size=N_UNITS, function=pnl.Linear, name='COLOR INPUT'\n",
        "    )\n",
        "    inp_wrd = pnl.TransferMechanism(\n",
        "        size=N_UNITS, function=pnl.Linear, name='WORD INPUT'\n",
        "    )\n",
        "    # task layer, represent the task instruction; color naming / word reading\n",
        "    inp_task = pnl.TransferMechanism(\n",
        "        size=N_UNITS, function=pnl.Linear, name='TASK'\n",
        "    )\n",
        "    # hidden layer for color and word\n",
        "    hid_clr = pnl.TransferMechanism(\n",
        "        size=N_UNITS,\n",
        "        function=hidden_func,\n",
        "        integrator_mode=True,\n",
        "        integration_rate=integration_rate,\n",
        "        noise=pnl.NormalDist(standard_deviation=unit_noise_std).function,\n",
        "        name='COLORS HIDDEN'\n",
        "    )\n",
        "    hid_wrd = pnl.TransferMechanism(\n",
        "        size=N_UNITS,\n",
        "        function=hidden_func,\n",
        "        integrator_mode=True,\n",
        "        integration_rate=integration_rate,\n",
        "        noise=pnl.NormalDist(standard_deviation=unit_noise_std).function,\n",
        "        name='WORDS HIDDEN'\n",
        "    )\n",
        "    # output layer\n",
        "    output = pnl.TransferMechanism(\n",
        "        size=N_UNITS,\n",
        "        function=pnl.Logistic,\n",
        "        integrator_mode=True,\n",
        "        integration_rate=integration_rate,\n",
        "        noise=pnl.NormalDist(standard_deviation=unit_noise_std).function,\n",
        "        name='OUTPUT'\n",
        "    )\n",
        "    # decision layer, some accumulator\n",
        "    decision = pnl.LCAMechanism(\n",
        "        size=N_UNITS,\n",
        "        leak=leak,\n",
        "        competition=competition,\n",
        "        noise=pnl.UniformToNormalDist(\n",
        "            standard_deviation=dec_noise_std).function,\n",
        "        name='DECISION'\n",
        "    )\n",
        "    # PROJECTIONS, weights copied from cohen et al (1990)\n",
        "    wts_clr_ih = pnl.MappingProjection(\n",
        "        matrix=[[2.2, -2.2], [-2.2, 2.2]], name='COLOR INPUT TO HIDDEN')\n",
        "    wts_wrd_ih = pnl.MappingProjection(\n",
        "        matrix=[[2.6, -2.6], [-2.6, 2.6]], name='WORD INPUT TO HIDDEN')\n",
        "    wts_clr_ho = pnl.MappingProjection(\n",
        "        matrix=[[1.3, -1.3], [-1.3, 1.3]], name='COLOR HIDDEN TO OUTPUT')\n",
        "    wts_wrd_ho = pnl.MappingProjection(\n",
        "        matrix=[[2.5, -2.5], [-2.5, 2.5]], name='WORD HIDDEN TO OUTPUT')\n",
        "    wts_tc = pnl.MappingProjection(\n",
        "        matrix=[[4.0, 4.0], [0, 0]], name='COLOR NAMING')\n",
        "    wts_tw = pnl.MappingProjection(\n",
        "        matrix=[[0, 0], [4.0, 4.0]], name='WORD READING')\n",
        "    # build the model\n",
        "    model = pnl.Composition(name='STROOP model')\n",
        "    model.add_node(inp_clr)\n",
        "    model.add_node(inp_wrd)\n",
        "    model.add_node(hid_clr)\n",
        "    model.add_node(hid_wrd)\n",
        "    model.add_node(inp_task)\n",
        "    model.add_node(output)\n",
        "    model.add_node(decision)\n",
        "    model.add_linear_processing_pathway([inp_clr, wts_clr_ih, hid_clr])\n",
        "    model.add_linear_processing_pathway([inp_wrd, wts_wrd_ih, hid_wrd])\n",
        "    model.add_linear_processing_pathway([hid_clr, wts_clr_ho, output])\n",
        "    model.add_linear_processing_pathway([hid_wrd, wts_wrd_ho, output])\n",
        "    model.add_linear_processing_pathway([inp_task, wts_tc, hid_clr])\n",
        "    model.add_linear_processing_pathway([inp_task, wts_tw, hid_wrd])\n",
        "    model.add_linear_processing_pathway([output, pnl.IDENTITY_MATRIX, decision])\n",
        "    # LOGGING\n",
        "    hid_clr.set_log_conditions('value')\n",
        "    hid_wrd.set_log_conditions('value')\n",
        "    output.set_log_conditions('value')\n",
        "    # collect the node handles\n",
        "    nodes = [inp_clr, inp_wrd, inp_task, hid_clr, hid_wrd, output, decision]\n",
        "    metadata = [integration_rate, dec_noise_std, unit_noise_std]\n",
        "    return model, nodes, metadata\n"
      ],
      "execution_count": null,
      "outputs": []
    },
    {
      "cell_type": "markdown",
      "metadata": {
        "id": "fb11xStZwX6Q"
      },
      "source": [
        "Print out some information and useful constants  "
      ]
    },
    {
      "cell_type": "code",
      "metadata": {
        "colab": {
          "base_uri": "https://localhost:8080/"
        },
        "id": "aiFwkvr2wX6R",
        "outputId": "70f64ddf-7111-4005-b334-363c3dd8d10e"
      },
      "source": [
        "# calculate experiment metadata\n",
        "n_conditions = len(CONDITIONS)\n",
        "n_tasks = len(TASKS)\n",
        "n_colors = len(COLORS)\n",
        "\n",
        "# constants\n",
        "experiment_info = f\"\"\"\n",
        "stroop experiment info\n",
        "- {n_colors} colors:\\t {COLORS}\n",
        "- {n_colors} words:\\t {COLORS}\n",
        "- {n_tasks} tasks:\\t {TASKS}\n",
        "- {n_conditions} conditions:\\t {CONDITIONS}\n",
        "\"\"\"\n",
        "print(experiment_info)"
      ],
      "execution_count": null,
      "outputs": [
        {
          "output_type": "stream",
          "text": [
            "\n",
            "stroop experiment info\n",
            "- 2 colors:\t ['red', 'green']\n",
            "- 2 words:\t ['red', 'green']\n",
            "- 2 tasks:\t ['color naming', 'word reading']\n",
            "- 3 conditions:\t ['control', 'conflict', 'congruent']\n",
            "\n"
          ],
          "name": "stdout"
        }
      ]
    },
    {
      "cell_type": "code",
      "metadata": {
        "id": "TbQreXE1wX6R"
      },
      "source": [
        "\"\"\"\n",
        "get the stroop model\n",
        "\"\"\"\n",
        "model, nodes, model_metadata = get_stroop_model()\n",
        "[inp_color, inp_word, inp_task, hid_color, hid_word, output, decision] = nodes\n",
        "[integration_rate, dec_noise_std, unit_noise_std] = model_metadata"
      ],
      "execution_count": null,
      "outputs": []
    },
    {
      "cell_type": "code",
      "metadata": {
        "colab": {
          "base_uri": "https://localhost:8080/",
          "height": 484
        },
        "id": "l7B4jiCXwX6R",
        "outputId": "0a1cae31-ac4a-4c18-c498-9037f3ea1df6"
      },
      "source": [
        "model.show_graph(output_fmt = 'jupyter')"
      ],
      "execution_count": null,
      "outputs": [
        {
          "output_type": "execute_result",
          "data": {
            "text/plain": [
              "<graphviz.dot.Digraph at 0x7fb2b921ecd0>"
            ],
            "image/svg+xml": "<?xml version=\"1.0\" encoding=\"UTF-8\" standalone=\"no\"?>\n<!DOCTYPE svg PUBLIC \"-//W3C//DTD SVG 1.1//EN\"\n \"http://www.w3.org/Graphics/SVG/1.1/DTD/svg11.dtd\">\n<!-- Generated by graphviz version 2.40.1 (20161225.0304)\n -->\n<!-- Title: STROOP model&#45;1 Pages: 1 -->\n<svg width=\"341pt\" height=\"347pt\"\n viewBox=\"0.00 0.00 341.42 347.34\" xmlns=\"http://www.w3.org/2000/svg\" xmlns:xlink=\"http://www.w3.org/1999/xlink\">\n<g id=\"graph0\" class=\"graph\" transform=\"scale(1 1) rotate(0) translate(4 343.3381)\">\n<title>STROOP model&#45;1</title>\n<polygon fill=\"#ffffff\" stroke=\"transparent\" points=\"-4,4 -4,-343.3381 337.4239,-343.3381 337.4239,4 -4,4\"/>\n<text text-anchor=\"middle\" x=\"166.7119\" y=\"-7.8\" font-family=\"Times,serif\" font-size=\"14.00\" fill=\"#000000\">STROOP model&#45;1</text>\n<!-- TASK -->\n<g id=\"node1\" class=\"node\">\n<title>TASK</title>\n<ellipse fill=\"none\" stroke=\"#00ff00\" stroke-width=\"3\" cx=\"168.9431\" cy=\"-41\" rx=\"29.5964\" ry=\"18\"/>\n<text text-anchor=\"middle\" x=\"168.9431\" y=\"-37.9\" font-family=\"arial\" font-size=\"12.00\" fill=\"#000000\">TASK</text>\n</g>\n<!-- COLORS HIDDEN -->\n<g id=\"node4\" class=\"node\">\n<title>COLORS HIDDEN</title>\n<ellipse fill=\"none\" stroke=\"#000000\" cx=\"87.9431\" cy=\"-113\" rx=\"72.7788\" ry=\"18\"/>\n<text text-anchor=\"middle\" x=\"87.9431\" y=\"-109.9\" font-family=\"arial\" font-size=\"12.00\" fill=\"#000000\">COLORS HIDDEN</text>\n</g>\n<!-- TASK&#45;&gt;COLORS HIDDEN -->\n<g id=\"edge2\" class=\"edge\">\n<title>TASK&#45;&gt;COLORS HIDDEN</title>\n<path fill=\"none\" stroke=\"#000000\" d=\"M152.1599,-55.9184C141.5164,-65.3793 127.4989,-77.8393 115.2765,-88.7036\"/>\n<polygon fill=\"#000000\" stroke=\"#000000\" points=\"112.7062,-86.3055 107.5574,-95.5651 117.3568,-91.5373 112.7062,-86.3055\"/>\n</g>\n<!-- WORDS HIDDEN -->\n<g id=\"node5\" class=\"node\">\n<title>WORDS HIDDEN</title>\n<ellipse fill=\"none\" stroke=\"#000000\" cx=\"247.9431\" cy=\"-113\" rx=\"69.6227\" ry=\"18\"/>\n<text text-anchor=\"middle\" x=\"247.9431\" y=\"-109.9\" font-family=\"arial\" font-size=\"12.00\" fill=\"#000000\">WORDS HIDDEN</text>\n</g>\n<!-- TASK&#45;&gt;WORDS HIDDEN -->\n<g id=\"edge3\" class=\"edge\">\n<title>TASK&#45;&gt;WORDS HIDDEN</title>\n<path fill=\"none\" stroke=\"#000000\" d=\"M185.697,-56.2693C196.0258,-65.6829 209.5023,-77.9653 221.2734,-88.6934\"/>\n<polygon fill=\"#000000\" stroke=\"#000000\" points=\"218.9637,-91.3239 228.7123,-95.4731 223.6789,-86.1502 218.9637,-91.3239\"/>\n</g>\n<!-- WORD INPUT -->\n<g id=\"node2\" class=\"node\">\n<title>WORD INPUT</title>\n<ellipse fill=\"none\" stroke=\"#00ff00\" stroke-width=\"3\" cx=\"274.9431\" cy=\"-41\" rx=\"58.4615\" ry=\"18\"/>\n<text text-anchor=\"middle\" x=\"274.9431\" y=\"-37.9\" font-family=\"arial\" font-size=\"12.00\" fill=\"#000000\">WORD INPUT</text>\n</g>\n<!-- WORD INPUT&#45;&gt;WORDS HIDDEN -->\n<g id=\"edge4\" class=\"edge\">\n<title>WORD INPUT&#45;&gt;WORDS HIDDEN</title>\n<path fill=\"none\" stroke=\"#000000\" d=\"M268.1299,-59.1686C265.1788,-67.0383 261.6573,-76.4288 258.3881,-85.1467\"/>\n<polygon fill=\"#000000\" stroke=\"#000000\" points=\"255.0822,-83.9945 254.8481,-94.5867 261.6365,-86.4524 255.0822,-83.9945\"/>\n</g>\n<!-- COLOR INPUT -->\n<g id=\"node3\" class=\"node\">\n<title>COLOR INPUT</title>\n<ellipse fill=\"none\" stroke=\"#00ff00\" stroke-width=\"3\" cx=\"60.9431\" cy=\"-41\" rx=\"60.8863\" ry=\"18\"/>\n<text text-anchor=\"middle\" x=\"60.9431\" y=\"-37.9\" font-family=\"arial\" font-size=\"12.00\" fill=\"#000000\">COLOR INPUT</text>\n</g>\n<!-- COLOR INPUT&#45;&gt;COLORS HIDDEN -->\n<g id=\"edge1\" class=\"edge\">\n<title>COLOR INPUT&#45;&gt;COLORS HIDDEN</title>\n<path fill=\"none\" stroke=\"#000000\" d=\"M67.7564,-59.1686C70.7075,-67.0383 74.2289,-76.4288 77.4981,-85.1467\"/>\n<polygon fill=\"#000000\" stroke=\"#000000\" points=\"74.2497,-86.4524 81.0381,-94.5867 80.804,-83.9945 74.2497,-86.4524\"/>\n</g>\n<!-- OUTPUT -->\n<g id=\"node6\" class=\"node\">\n<title>OUTPUT</title>\n<ellipse fill=\"none\" stroke=\"#000000\" cx=\"167.9431\" cy=\"-185\" rx=\"41.4901\" ry=\"18\"/>\n<text text-anchor=\"middle\" x=\"167.9431\" y=\"-181.9\" font-family=\"arial\" font-size=\"12.00\" fill=\"#000000\">OUTPUT</text>\n</g>\n<!-- COLORS HIDDEN&#45;&gt;OUTPUT -->\n<g id=\"edge5\" class=\"edge\">\n<title>COLORS HIDDEN&#45;&gt;OUTPUT</title>\n<path fill=\"none\" stroke=\"#000000\" d=\"M107.3089,-130.4292C117.8291,-139.8974 130.9716,-151.7256 142.3289,-161.9472\"/>\n<polygon fill=\"#000000\" stroke=\"#000000\" points=\"140.078,-164.6302 149.8524,-168.7183 144.7608,-159.4271 140.078,-164.6302\"/>\n</g>\n<!-- WORDS HIDDEN&#45;&gt;OUTPUT -->\n<g id=\"edge6\" class=\"edge\">\n<title>WORDS HIDDEN&#45;&gt;OUTPUT</title>\n<path fill=\"none\" stroke=\"#000000\" d=\"M228.5773,-130.4292C218.0571,-139.8974 204.9147,-151.7256 193.5573,-161.9472\"/>\n<polygon fill=\"#000000\" stroke=\"#000000\" points=\"191.1255,-159.4271 186.0339,-168.7183 195.8082,-164.6302 191.1255,-159.4271\"/>\n</g>\n<!-- DECISION -->\n<g id=\"node7\" class=\"node\">\n<title>DECISION</title>\n<ellipse fill=\"none\" stroke=\"#ff0000\" stroke-width=\"3\" cx=\"167.9431\" cy=\"-289.169\" rx=\"46.3251\" ry=\"46.3251\"/>\n<ellipse fill=\"none\" stroke=\"#ff0000\" stroke-width=\"3\" cx=\"167.9431\" cy=\"-289.169\" rx=\"50.3386\" ry=\"50.3386\"/>\n<text text-anchor=\"middle\" x=\"167.9431\" y=\"-286.069\" font-family=\"arial\" font-size=\"12.00\" fill=\"#000000\">DECISION</text>\n</g>\n<!-- OUTPUT&#45;&gt;DECISION -->\n<g id=\"edge8\" class=\"edge\">\n<title>OUTPUT&#45;&gt;DECISION</title>\n<path fill=\"none\" stroke=\"#000000\" d=\"M167.9431,-203.1449C167.9431,-210.4222 167.9431,-219.2652 167.9431,-228.4776\"/>\n<polygon fill=\"#000000\" stroke=\"#000000\" points=\"164.4432,-228.5625 167.9431,-238.5626 171.4432,-228.5626 164.4432,-228.5625\"/>\n</g>\n<!-- DECISION&#45;&gt;DECISION -->\n<g id=\"edge7\" class=\"edge\">\n<title>DECISION&#45;&gt;DECISION</title>\n<path fill=\"none\" stroke=\"#000000\" d=\"M214.4611,-269.8404C226.7811,-270.9449 236.1121,-277.3878 236.1121,-289.169 236.1121,-297.4527 231.499,-303.0972 224.4774,-306.1025\"/>\n<polygon fill=\"#000000\" stroke=\"#000000\" points=\"223.3729,-302.7678 214.4611,-308.4976 225.0009,-309.5759 223.3729,-302.7678\"/>\n</g>\n</g>\n</svg>\n"
          },
          "metadata": {
            "tags": []
          },
          "execution_count": 19
        }
      ]
    },
    {
      "cell_type": "code",
      "metadata": {
        "id": "3VuuBUcWwX6R"
      },
      "source": [
        "\"\"\"define the inputs\n",
        "i.e. all CONDITIONS x TASKS for the experiment\n",
        "\"\"\"\n",
        "# the length of the stimulus sequence\n",
        "n_time_steps = 120\n",
        "\n",
        "# color naming - cong\n",
        "inputs_cn_con = get_stimulus(\n",
        "    inp_color, 'red', inp_word, 'red', inp_task, 'color naming', n_time_steps\n",
        ")\n",
        "# color naming - incong\n",
        "inputs_cn_cfl = get_stimulus(\n",
        "    inp_color, 'red', inp_word, 'green', inp_task, 'color naming', n_time_steps\n",
        ")\n",
        "# color naming - control\n",
        "inputs_cn_ctr = get_stimulus(\n",
        "    inp_color, 'red', inp_word, None, inp_task, 'color naming', n_time_steps\n",
        ")\n",
        "# word reading - cong\n",
        "inputs_wr_con = get_stimulus(\n",
        "    inp_color, 'red', inp_word, 'red', inp_task, 'word reading', n_time_steps\n",
        ")\n",
        "# word reading - incong\n",
        "inputs_wr_cfl = get_stimulus(\n",
        "    inp_color, 'green', inp_word, 'red', inp_task, 'word reading', n_time_steps\n",
        ")\n",
        "# word reading - control\n",
        "inputs_wr_ctr = get_stimulus(\n",
        "    inp_color, None, inp_word, 'red', inp_task, 'word reading', n_time_steps\n",
        ")"
      ],
      "execution_count": null,
      "outputs": []
    },
    {
      "cell_type": "code",
      "metadata": {
        "colab": {
          "base_uri": "https://localhost:8080/",
          "height": 568
        },
        "id": "2G8e6E8awX6R",
        "outputId": "0afff4f2-b9ba-4cce-a29c-88989588a870"
      },
      "source": [
        "\"\"\"visualize an input stimulus, note that the stimulus here is a sequence\"\"\"\n",
        "\n",
        "# choose the condition you want to visualize \n",
        "stimuli_list_plt = inputs_cn_cfl\n",
        "\n",
        "# set the title and the nodes to plot \n",
        "titles_plt = ['color input', 'word input', 'task instruction']\n",
        "input_nodes_plt = [inp_color, inp_word]\n",
        "\n",
        "# get some colors \n",
        "colpal = sns.color_palette('colorblind', n_colors=cb_n_colors)[-2:][::-1]\n",
        "\n",
        "# plot the data\n",
        "f, axes = plt.subplots(3,1, figsize=(9, 8),sharex=True)\n",
        "for i, node_i in enumerate(input_nodes_plt):\n",
        "    for j in range(n_colors):\n",
        "        axes[i].plot(stimuli_list_plt[node_i][:,j],color=colpal[j])\n",
        "    axes[i].legend(['red', 'green'], frameon=False)\n",
        "    \n",
        "axes[2].plot(stimuli_list_plt[inp_task])\n",
        "axes[2].legend(['color naming', 'word reading'], frameon=False)\n",
        "\n",
        "# mark the plot \n",
        "for i, ax in enumerate(axes): \n",
        "    ax.set_ylabel('Input')\n",
        "    ax.set_title(titles_plt[i])\n",
        "axes[2].set_xlabel('Time')\n",
        "axes[0].legend(['red', 'green'], frameon=False)\n",
        "    \n",
        "f.tight_layout()\n",
        "sns.despine()"
      ],
      "execution_count": null,
      "outputs": [
        {
          "output_type": "display_data",
          "data": {
            "image/png": "[encoded data removed]",
            "text/plain": [
              "<Figure size 648x576 with 3 Axes>"
            ]
          },
          "metadata": {
            "tags": []
          }
        }
      ]
    },
    {
      "cell_type": "markdown",
      "metadata": {
        "id": "Nv5eDh9GwX6S"
      },
      "source": [
        "**Thought question**: Create the stimuli plot *by hand* for some other task conditions. "
      ]
    },
    {
      "cell_type": "code",
      "metadata": {
        "id": "DP9h4lR3wX6S"
      },
      "source": [
        ""
      ],
      "execution_count": null,
      "outputs": []
    },
    {
      "cell_type": "markdown",
      "metadata": {
        "id": "9yM4co5GwX6S"
      },
      "source": [
        "Let's visualize the decision activity for one trial. I'm using a color naming - conflict trial. The word green painted in red is presented, and the model has to respond the color of this stimulus (which is red). We can see that the response to red is stronger than the alternative. "
      ]
    },
    {
      "cell_type": "code",
      "metadata": {
        "colab": {
          "base_uri": "https://localhost:8080/",
          "height": 17,
          "referenced_widgets": [
            "b0f64b2946724036a0361a5c2a9ba4e8",
            "853bb01773984e2dbe0106315ec35fff"
          ]
        },
        "id": "SQI3sjfIwX6S",
        "outputId": "37ba6abe-2c29-455a-cd78-1ea0ae994167"
      },
      "source": [
        "# run the model on one stimulus \n",
        "inputs = inputs_cn_cfl\n",
        "model.run(\n",
        "    context=999,\n",
        "    inputs=inputs,\n",
        "    num_trials=n_time_steps,\n",
        ")\n",
        "activation = model.results"
      ],
      "execution_count": null,
      "outputs": [
        {
          "output_type": "display_data",
          "data": {
            "application/vnd.jupyter.widget-view+json": {
              "model_id": "b0f64b2946724036a0361a5c2a9ba4e8",
              "version_minor": 0,
              "version_major": 2
            },
            "text/plain": [
              "Output()"
            ]
          },
          "metadata": {
            "tags": []
          }
        },
        {
          "output_type": "display_data",
          "data": {
            "text/html": [
              "<pre style=\"white-space:pre;overflow-x:auto;line-height:normal;font-family:Menlo,'DejaVu Sans Mono',consolas,'Courier New',monospace\">\n",
              "</pre>\n"
            ],
            "text/plain": [
              "<rich.jupyter.JupyterRenderable at 0x7fb2b91c0d90>"
            ]
          },
          "metadata": {
            "tags": []
          }
        }
      ]
    },
    {
      "cell_type": "code",
      "metadata": {
        "colab": {
          "base_uri": "https://localhost:8080/",
          "height": 352
        },
        "id": "HBLL83JJwX6S",
        "outputId": "aa051e4d-65d5-45c1-e463-e40f704c934c"
      },
      "source": [
        "colpal = sns.color_palette('colorblind', n_colors=cb_n_colors)[-2:][::-1]\n",
        "\n",
        "f, ax = plt.subplots(1,1, figsize=(9,5))\n",
        "for i in range(n_colors):\n",
        "    ax.plot(np.squeeze(activation)[:,i],color=colpal[i])\n",
        "    \n",
        "ax.set_title('Decision activity over time')\n",
        "ax.set_xlabel('Time')\n",
        "ax.set_ylabel('Activity')\n",
        "f.legend(['%s unit' % c for c in COLORS], frameon=False, bbox_to_anchor=(1.1,.7))\n",
        "f.tight_layout()\n",
        "sns.despine()"
      ],
      "execution_count": null,
      "outputs": [
        {
          "output_type": "display_data",
          "data": {
            "image/png": "[encoded data removed]",
            "text/plain": [
              "<Figure size 648x360 with 1 Axes>"
            ]
          },
          "metadata": {
            "tags": []
          }
        }
      ]
    },
    {
      "cell_type": "markdown",
      "metadata": {
        "id": "c99sCJ5sXPHK"
      },
      "source": [
        "**Thought question**: What would you predict (for the activity time course) if this is a congruent trial? Run the model and plot the activity to verify your hypothesis. "
      ]
    },
    {
      "cell_type": "code",
      "metadata": {
        "id": "l7HGnG9QXKad"
      },
      "source": [
        ""
      ],
      "execution_count": null,
      "outputs": []
    },
    {
      "cell_type": "markdown",
      "metadata": {
        "id": "z4IhcCmGwX6S"
      },
      "source": [
        "The next 2 blocks of code run the model for all tasks (color naming vs. word reading) x all conditions (control, conflict, congruent). "
      ]
    },
    {
      "cell_type": "code",
      "metadata": {
        "id": "p3oCvjCMwX6T"
      },
      "source": [
        "\"\"\"define how to run the model\"\"\"\n",
        "\n",
        "def run_model(execution_id, n_repeats, inputs, n_time_steps=100):\n",
        "\n",
        "    acts = np.zeros((n_repeats, n_time_steps, N_UNITS))\n",
        "    for i in range(n_repeats):\n",
        "        print(f'{execution_id}', end=' ')\n",
        "        model.run(\n",
        "            context=execution_id,\n",
        "            inputs=inputs,\n",
        "            num_trials=n_time_steps,\n",
        "        )\n",
        "        execution_id += 1\n",
        "        # log acts\n",
        "        acts[i, :, :] = np.squeeze(model.results)\n",
        "    return acts, execution_id"
      ],
      "execution_count": null,
      "outputs": []
    },
    {
      "cell_type": "code",
      "metadata": {
        "colab": {
          "base_uri": "https://localhost:8080/",
          "height": 1000,
          "referenced_widgets": [
            "d02f76881d0947c693f6f164b8bb14db",
            "a7f3f989785e4882b6c7fb8f749753be",
            "7b8ad043cea2421ba91348af6e860f9d",
            "cafd8614edec4e52b7adcfdba6f835eb",
            "acff519a16d94426a939ac3bf4172f98",
            "933153384d914c2daaa7c43d3f8673d1",
            "2c12838e39ce463e81f0eca282e939bb",
            "16fe447390cb40898d9c760adf3e57d4",
            "70e1d2e0c24d4baf9a61f5ae8e32c3eb",
            "d43304303e1e442ca1bfb3c7116f39be",
            "c1aa3c7f1acf42998b9139dea9977d07",
            "60d44671d79d47ebbc1e401fd01baad2",
            "8051b207fd0e41549f3c267f017ae0ea",
            "6720d40a905b489392ec121892045ab9",
            "977e34266aeb46caba88aa9b06708bf5",
            "fdab81225fba4fa398a3b8c78b779257",
            "f4f9b1e8c8a54e628ea49c91fafc7fa2",
            "b304b2664a8b4af391459fc922a9ff01",
            "35b19cf43a3743ba8b61fb3f27c76805",
            "068bce84bb3944b288a1889076979ef5",
            "759206fa3ae2466095a7122445ec53fe",
            "5a4230c4a7b14604abedf39186d53d1e",
            "bc82eb657910416bbdcd3bdf33587a3e",
            "feb640bb7aed4392bf8c0934c5d02aeb",
            "ecf83276de35434a8aa383435433fffa",
            "43d160f0c9ae44a0b949a8038f849730",
            "3f3b697c44b4485e85ffde75fe135d3d",
            "beab6fe11ca44fd98036013a3f6553a1",
            "906c1eb6bb4942519880c8d477b31d71",
            "8bb3ac2519c44454afb73c9094f11c0d",
            "8d1c5069ebb14bfc9df613b8a3249425",
            "5339e94dbbfc4a93af03c655d964a554",
            "042abe45c9ad4c8b9ab7a0a01e6e4fd9",
            "a58e92c4c7524b8fb64708b2c1d436b8",
            "b5f1c2f7a2a04633bdf5d8f6aec85958",
            "eb5c44280bee4728b132426217a3afad",
            "006c8a78d98341d39ddaa27437a9111f",
            "1613857a9e51437a84b1b4f8e00e4aa1",
            "04edf3969ebd4fb8919f0ec5b10748cf",
            "6978d73cdd1c4a3d845337da3778cf53",
            "00b2e24498574d0584e3f63d0a2d00fd",
            "ae0fdb3e8b16429db249b6d03e6274e0",
            "3356174716904a8fbaecd9b2df7bb157",
            "a484af8b0ea1484b95b035ecaa56b919",
            "451666f3f3914350aa522bf28b411a68",
            "9205112d168a4e0b8f1c235764911a06",
            "e6b14a5605db4d4f8f1cc85d533ce3fa",
            "4550144e448a4e1da14d5606552c7d41",
            "45ff58b3c45142f7b5615a229285b16c",
            "5c08602e27104303a23e038ba72d980a",
            "888f8761e1264a549c773fc4ec697e0e",
            "6ec05dcc67d94a8383f2e53bb57a25f6",
            "f1647fafa23f40e0a5fb8ded432a00e3",
            "090c9e5cc03b4ab8b956fc09cd5919f5",
            "9dacbaf6295d4060b835c768cfa622eb",
            "4baa75de1c634239ba51505c48cdb0a2",
            "f48d7b8fd2dd4cb79b3b62724acb8a47",
            "8be71ec83a364256afc0c141441d3dec",
            "5a5d8330bc0d432c9a4c3db2ae22dd2e",
            "3b629586f73b42f98495dc1c3126f11a",
            "e67927db165c4883af207703fe437548",
            "9ac0697798fd4beb9426ed25564441ab",
            "47bc2fbad1a74d77a8215b9d65f81a44",
            "3dbccb5dd87441ddb94798b63d76e2ab",
            "09e83953642b42538df074aeab4c371f",
            "7cf89069cd434fa7966f083151858a68",
            "0e495934070d4b4ca8647e1f2bf0be19",
            "df6a57840e6b4847847f338c32f3b68a",
            "95174aea541e431a8f623de7eaab7b3a",
            "fffba7f8f35642a8b037f41f68701cad",
            "b022be18e0cc4ff89adb058824e66d03",
            "752aeaf0ba274e569fd7684df1c0cff1",
            "df3c63692aa24e6bbe942029890b0a27",
            "e357814cafb341f2ac6bae1c1f34bd4d",
            "1f1ba126a7f84f0ba27103348cc9cc1e",
            "a8ed3625cceb4c4e86df01eba5801296",
            "aed97c782fe14ffda5c9b0f60e3c628d",
            "93bb60f546d44c35b09c610b3979af53",
            "54afc7206a5246b08d13883dffae41cd",
            "5929e94218ee4d25896dfdb9bcfe3fed",
            "32c3d06116cb4941a81e541ef3d36770",
            "05182173864b4e8b8ed4c39e5b0c5130",
            "556d790c2ca84462a8aa6b84c6c529c4",
            "e3eb034d97f64b79986bd6eb45ad467d",
            "93cd7fb61c40498bac51a27c7e38ab08",
            "bdd50e0202a445dc8c231d5d50555b38",
            "d3f7e30c6a7c4cb1944c96e5d7b2b718",
            "bdcc428181b14af59495c2c0043aebb7",
            "7699d93e1e554c4086cf54200188a202",
            "375f73d659c2435086695e232606f0de",
            "037c0a55037d40c3887c0567f8370e2b",
            "3ba61a72d21a411a8802b9dc9de10c78",
            "de43f4919482461ebe4aafd30d2a7ddc",
            "a7f96cf1bd014c1bb577a5e23936f6ff",
            "eaa66900e9ce4ab8a699696a024f7bc3",
            "fdb5aadbc9fd42b18f23eb9e7026b3bd",
            "b4c91620fcf542f1a25c35a23715ac56",
            "cae2d0b051c74d56a651850b84c14276",
            "3190c3601592490b86a6a3b544091fc7",
            "b0630a92dbb94fd49ff40cfe160838c4",
            "19765b7bcd664ce9aff299cace167e8a",
            "ad14991328fe4d8696e9d00af30cc68f",
            "5f0d921c7ec04d3fb9d4a324578f84e2",
            "38fdaf41283e4ccf9f2a072411112c6e",
            "9adadae1df2e4be8bcb067b8546520ae",
            "1dad6d8b3c7b48b8932f548a777857e7",
            "df56d8efe3f9439f939b5e9913eba431",
            "e485057f65ab4183810a0e7a6bccdea8",
            "0ea5a2213b124806b5314f06c73720a1",
            "2bc5e2507ea4480ab2853d1df907478c",
            "a5d401b58dc449bbb7ee2614de00db10",
            "e8b57afbd5a141e689279506dbf024b8",
            "f13e7addbb13447ea6ccf7a81d4d7eeb",
            "1c3ee544a2de4ba7b389ac10e778cbc6",
            "eb1da27465974214926a6d4fbfb4a514",
            "63f5e88989964e649a7cb208a3aeefda",
            "4bdacfb4e1694c439dd9a478cb05d576",
            "6ff97de63cd2455093dfbfe4b9e7e470",
            "263f9dd79b054c6ca294ba83d9e1dc63",
            "74371fe4e34c4efb93b12ba6aabeebdb"
          ]
        },
        "id": "oKGrAiRewX6T",
        "outputId": "900c6c4a-1fd7-4c55-ff24-b4f9fd24a466"
      },
      "source": [
        "\"\"\"\n",
        "run the model\n",
        "\"\"\"\n",
        "\n",
        "\n",
        "execution_id = 100\n",
        "n_repeats = 1\n",
        "\n",
        "# combine the task stimuli\n",
        "cn_input_list = [inputs_cn_ctr, inputs_cn_cfl, inputs_cn_con]\n",
        "wr_input_list = [inputs_wr_ctr, inputs_wr_cfl, inputs_wr_con]\n",
        "\n",
        "# preallocate variables to hold activity\n",
        "A_cn = {condition: None for condition in CONDITIONS}\n",
        "A_wr = {condition: None for condition in CONDITIONS}\n",
        "\n",
        "# run all conditions, color naming\n",
        "for i, condition in enumerate(CONDITIONS):\n",
        "    print(f'\\nRunning color naming, condition = {condition}')\n",
        "    A_cn[condition], execution_id = run_model(execution_id,\n",
        "        n_repeats, cn_input_list[i]\n",
        "    )\n",
        "# run all conditions, word reading\n",
        "for i, condition in enumerate(CONDITIONS):\n",
        "    print(f'\\nRunning word reading, condition = {condition}')\n",
        "    print(f'Execution ids:', end=' ')\n",
        "    A_wr[condition], execution_id = run_model(execution_id,\n",
        "        n_repeats, wr_input_list[i]\n",
        "    )\n",
        "print('Done!')"
      ],
      "execution_count": null,
      "outputs": [
        {
          "output_type": "stream",
          "text": [
            "\n",
            "Running color naming, condition = control\n",
            "100 "
          ],
          "name": "stdout"
        },
        {
          "output_type": "display_data",
          "data": {
            "application/vnd.jupyter.widget-view+json": {
              "model_id": "d02f76881d0947c693f6f164b8bb14db",
              "version_minor": 0,
              "version_major": 2
            },
            "text/plain": [
              "Output()"
            ]
          },
          "metadata": {
            "tags": []
          }
        },
        {
          "output_type": "display_data",
          "data": {
            "text/html": [
              "<pre style=\"white-space:pre;overflow-x:auto;line-height:normal;font-family:Menlo,'DejaVu Sans Mono',consolas,'Courier New',monospace\">\n",
              "</pre>\n"
            ],
            "text/plain": [
              "<rich.jupyter.JupyterRenderable at 0x7fb2b7fce810>"
            ]
          },
          "metadata": {
            "tags": []
          }
        },
        {
          "output_type": "stream",
          "text": [
            "101 "
          ],
          "name": "stdout"
        },
        {
          "output_type": "display_data",
          "data": {
            "application/vnd.jupyter.widget-view+json": {
              "model_id": "7b8ad043cea2421ba91348af6e860f9d",
              "version_minor": 0,
              "version_major": 2
            },
            "text/plain": [
              "Output()"
            ]
          },
          "metadata": {
            "tags": []
          }
        },
        {
          "output_type": "display_data",
          "data": {
            "text/html": [
              "<pre style=\"white-space:pre;overflow-x:auto;line-height:normal;font-family:Menlo,'DejaVu Sans Mono',consolas,'Courier New',monospace\">\n",
              "</pre>\n"
            ],
            "text/plain": [
              "<rich.jupyter.JupyterRenderable at 0x7fb2b7ff4ad0>"
            ]
          },
          "metadata": {
            "tags": []
          }
        },
        {
          "output_type": "stream",
          "text": [
            "102 "
          ],
          "name": "stdout"
        },
        {
          "output_type": "display_data",
          "data": {
            "application/vnd.jupyter.widget-view+json": {
              "model_id": "acff519a16d94426a939ac3bf4172f98",
              "version_minor": 0,
              "version_major": 2
            },
            "text/plain": [
              "Output()"
            ]
          },
          "metadata": {
            "tags": []
          }
        },
        {
          "output_type": "display_data",
          "data": {
            "text/html": [
              "<pre style=\"white-space:pre;overflow-x:auto;line-height:normal;font-family:Menlo,'DejaVu Sans Mono',consolas,'Courier New',monospace\">\n",
              "</pre>\n"
            ],
            "text/plain": [
              "<rich.jupyter.JupyterRenderable at 0x7fb2b8f7cd90>"
            ]
          },
          "metadata": {
            "tags": []
          }
        },
        {
          "output_type": "stream",
          "text": [
            "103 "
          ],
          "name": "stdout"
        },
        {
          "output_type": "display_data",
          "data": {
            "application/vnd.jupyter.widget-view+json": {
              "model_id": "2c12838e39ce463e81f0eca282e939bb",
              "version_minor": 0,
              "version_major": 2
            },
            "text/plain": [
              "Output()"
            ]
          },
          "metadata": {
            "tags": []
          }
        },
        {
          "output_type": "display_data",
          "data": {
            "text/html": [
              "<pre style=\"white-space:pre;overflow-x:auto;line-height:normal;font-family:Menlo,'DejaVu Sans Mono',consolas,'Courier New',monospace\">\n",
              "</pre>\n"
            ],
            "text/plain": [
              "<rich.jupyter.JupyterRenderable at 0x7fb2b8f7c9d0>"
            ]
          },
          "metadata": {
            "tags": []
          }
        },
        {
          "output_type": "stream",
          "text": [
            "104 "
          ],
          "name": "stdout"
        },
        {
          "output_type": "display_data",
          "data": {
            "application/vnd.jupyter.widget-view+json": {
              "model_id": "70e1d2e0c24d4baf9a61f5ae8e32c3eb",
              "version_minor": 0,
              "version_major": 2
            },
            "text/plain": [
              "Output()"
            ]
          },
          "metadata": {
            "tags": []
          }
        },
        {
          "output_type": "display_data",
          "data": {
            "text/html": [
              "<pre style=\"white-space:pre;overflow-x:auto;line-height:normal;font-family:Menlo,'DejaVu Sans Mono',consolas,'Courier New',monospace\">\n",
              "</pre>\n"
            ],
            "text/plain": [
              "<rich.jupyter.JupyterRenderable at 0x7fb2b8ff0a90>"
            ]
          },
          "metadata": {
            "tags": []
          }
        },
        {
          "output_type": "stream",
          "text": [
            "105 "
          ],
          "name": "stdout"
        },
        {
          "output_type": "display_data",
          "data": {
            "application/vnd.jupyter.widget-view+json": {
              "model_id": "c1aa3c7f1acf42998b9139dea9977d07",
              "version_minor": 0,
              "version_major": 2
            },
            "text/plain": [
              "Output()"
            ]
          },
          "metadata": {
            "tags": []
          }
        },
        {
          "output_type": "display_data",
          "data": {
            "text/html": [
              "<pre style=\"white-space:pre;overflow-x:auto;line-height:normal;font-family:Menlo,'DejaVu Sans Mono',consolas,'Courier New',monospace\">\n",
              "</pre>\n"
            ],
            "text/plain": [
              "<rich.jupyter.JupyterRenderable at 0x7fb2b90de0d0>"
            ]
          },
          "metadata": {
            "tags": []
          }
        },
        {
          "output_type": "stream",
          "text": [
            "106 "
          ],
          "name": "stdout"
        },
        {
          "output_type": "display_data",
          "data": {
            "application/vnd.jupyter.widget-view+json": {
              "model_id": "8051b207fd0e41549f3c267f017ae0ea",
              "version_minor": 0,
              "version_major": 2
            },
            "text/plain": [
              "Output()"
            ]
          },
          "metadata": {
            "tags": []
          }
        },
        {
          "output_type": "display_data",
          "data": {
            "text/html": [
              "<pre style=\"white-space:pre;overflow-x:auto;line-height:normal;font-family:Menlo,'DejaVu Sans Mono',consolas,'Courier New',monospace\">\n",
              "</pre>\n"
            ],
            "text/plain": [
              "<rich.jupyter.JupyterRenderable at 0x7fb2b90bef10>"
            ]
          },
          "metadata": {
            "tags": []
          }
        },
        {
          "output_type": "stream",
          "text": [
            "107 "
          ],
          "name": "stdout"
        },
        {
          "output_type": "display_data",
          "data": {
            "application/vnd.jupyter.widget-view+json": {
              "model_id": "977e34266aeb46caba88aa9b06708bf5",
              "version_minor": 0,
              "version_major": 2
            },
            "text/plain": [
              "Output()"
            ]
          },
          "metadata": {
            "tags": []
          }
        },
        {
          "output_type": "display_data",
          "data": {
            "text/html": [
              "<pre style=\"white-space:pre;overflow-x:auto;line-height:normal;font-family:Menlo,'DejaVu Sans Mono',consolas,'Courier New',monospace\">\n",
              "</pre>\n"
            ],
            "text/plain": [
              "<rich.jupyter.JupyterRenderable at 0x7fb2b80acf90>"
            ]
          },
          "metadata": {
            "tags": []
          }
        },
        {
          "output_type": "stream",
          "text": [
            "108 "
          ],
          "name": "stdout"
        },
        {
          "output_type": "display_data",
          "data": {
            "application/vnd.jupyter.widget-view+json": {
              "model_id": "f4f9b1e8c8a54e628ea49c91fafc7fa2",
              "version_minor": 0,
              "version_major": 2
            },
            "text/plain": [
              "Output()"
            ]
          },
          "metadata": {
            "tags": []
          }
        },
        {
          "output_type": "display_data",
          "data": {
            "text/html": [
              "<pre style=\"white-space:pre;overflow-x:auto;line-height:normal;font-family:Menlo,'DejaVu Sans Mono',consolas,'Courier New',monospace\">\n",
              "</pre>\n"
            ],
            "text/plain": [
              "<rich.jupyter.JupyterRenderable at 0x7fb2b6afa890>"
            ]
          },
          "metadata": {
            "tags": []
          }
        },
        {
          "output_type": "stream",
          "text": [
            "109 "
          ],
          "name": "stdout"
        },
        {
          "output_type": "display_data",
          "data": {
            "application/vnd.jupyter.widget-view+json": {
              "model_id": "35b19cf43a3743ba8b61fb3f27c76805",
              "version_minor": 0,
              "version_major": 2
            },
            "text/plain": [
              "Output()"
            ]
          },
          "metadata": {
            "tags": []
          }
        },
        {
          "output_type": "display_data",
          "data": {
            "text/html": [
              "<pre style=\"white-space:pre;overflow-x:auto;line-height:normal;font-family:Menlo,'DejaVu Sans Mono',consolas,'Courier New',monospace\">\n",
              "</pre>\n"
            ],
            "text/plain": [
              "<rich.jupyter.JupyterRenderable at 0x7fb2b6a67390>"
            ]
          },
          "metadata": {
            "tags": []
          }
        },
        {
          "output_type": "stream",
          "text": [
            "\n",
            "Running color naming, condition = conflict\n",
            "110 "
          ],
          "name": "stdout"
        },
        {
          "output_type": "display_data",
          "data": {
            "application/vnd.jupyter.widget-view+json": {
              "model_id": "759206fa3ae2466095a7122445ec53fe",
              "version_minor": 0,
              "version_major": 2
            },
            "text/plain": [
              "Output()"
            ]
          },
          "metadata": {
            "tags": []
          }
        },
        {
          "output_type": "display_data",
          "data": {
            "text/html": [
              "<pre style=\"white-space:pre;overflow-x:auto;line-height:normal;font-family:Menlo,'DejaVu Sans Mono',consolas,'Courier New',monospace\">\n",
              "</pre>\n"
            ],
            "text/plain": [
              "<rich.jupyter.JupyterRenderable at 0x7fb2b69737d0>"
            ]
          },
          "metadata": {
            "tags": []
          }
        },
        {
          "output_type": "stream",
          "text": [
            "111 "
          ],
          "name": "stdout"
        },
        {
          "output_type": "display_data",
          "data": {
            "application/vnd.jupyter.widget-view+json": {
              "model_id": "bc82eb657910416bbdcd3bdf33587a3e",
              "version_minor": 0,
              "version_major": 2
            },
            "text/plain": [
              "Output()"
            ]
          },
          "metadata": {
            "tags": []
          }
        },
        {
          "output_type": "display_data",
          "data": {
            "text/html": [
              "<pre style=\"white-space:pre;overflow-x:auto;line-height:normal;font-family:Menlo,'DejaVu Sans Mono',consolas,'Courier New',monospace\">\n",
              "</pre>\n"
            ],
            "text/plain": [
              "<rich.jupyter.JupyterRenderable at 0x7fb2b68fc610>"
            ]
          },
          "metadata": {
            "tags": []
          }
        },
        {
          "output_type": "stream",
          "text": [
            "112 "
          ],
          "name": "stdout"
        },
        {
          "output_type": "display_data",
          "data": {
            "application/vnd.jupyter.widget-view+json": {
              "model_id": "ecf83276de35434a8aa383435433fffa",
              "version_minor": 0,
              "version_major": 2
            },
            "text/plain": [
              "Output()"
            ]
          },
          "metadata": {
            "tags": []
          }
        },
        {
          "output_type": "display_data",
          "data": {
            "text/html": [
              "<pre style=\"white-space:pre;overflow-x:auto;line-height:normal;font-family:Menlo,'DejaVu Sans Mono',consolas,'Courier New',monospace\">\n",
              "</pre>\n"
            ],
            "text/plain": [
              "<rich.jupyter.JupyterRenderable at 0x7fb2b6886b90>"
            ]
          },
          "metadata": {
            "tags": []
          }
        },
        {
          "output_type": "stream",
          "text": [
            "113 "
          ],
          "name": "stdout"
        },
        {
          "output_type": "display_data",
          "data": {
            "application/vnd.jupyter.widget-view+json": {
              "model_id": "3f3b697c44b4485e85ffde75fe135d3d",
              "version_minor": 0,
              "version_major": 2
            },
            "text/plain": [
              "Output()"
            ]
          },
          "metadata": {
            "tags": []
          }
        },
        {
          "output_type": "display_data",
          "data": {
            "text/html": [
              "<pre style=\"white-space:pre;overflow-x:auto;line-height:normal;font-family:Menlo,'DejaVu Sans Mono',consolas,'Courier New',monospace\">\n",
              "</pre>\n"
            ],
            "text/plain": [
              "<rich.jupyter.JupyterRenderable at 0x7fb2b680bdd0>"
            ]
          },
          "metadata": {
            "tags": []
          }
        },
        {
          "output_type": "stream",
          "text": [
            "114 "
          ],
          "name": "stdout"
        },
        {
          "output_type": "display_data",
          "data": {
            "application/vnd.jupyter.widget-view+json": {
              "model_id": "906c1eb6bb4942519880c8d477b31d71",
              "version_minor": 0,
              "version_major": 2
            },
            "text/plain": [
              "Output()"
            ]
          },
          "metadata": {
            "tags": []
          }
        },
        {
          "output_type": "display_data",
          "data": {
            "text/html": [
              "<pre style=\"white-space:pre;overflow-x:auto;line-height:normal;font-family:Menlo,'DejaVu Sans Mono',consolas,'Courier New',monospace\">\n",
              "</pre>\n"
            ],
            "text/plain": [
              "<rich.jupyter.JupyterRenderable at 0x7fb2b67bd910>"
            ]
          },
          "metadata": {
            "tags": []
          }
        },
        {
          "output_type": "stream",
          "text": [
            "115 "
          ],
          "name": "stdout"
        },
        {
          "output_type": "display_data",
          "data": {
            "application/vnd.jupyter.widget-view+json": {
              "model_id": "8d1c5069ebb14bfc9df613b8a3249425",
              "version_minor": 0,
              "version_major": 2
            },
            "text/plain": [
              "Output()"
            ]
          },
          "metadata": {
            "tags": []
          }
        },
        {
          "output_type": "display_data",
          "data": {
            "text/html": [
              "<pre style=\"white-space:pre;overflow-x:auto;line-height:normal;font-family:Menlo,'DejaVu Sans Mono',consolas,'Courier New',monospace\">\n",
              "</pre>\n"
            ],
            "text/plain": [
              "<rich.jupyter.JupyterRenderable at 0x7fb2b67400d0>"
            ]
          },
          "metadata": {
            "tags": []
          }
        },
        {
          "output_type": "stream",
          "text": [
            "116 "
          ],
          "name": "stdout"
        },
        {
          "output_type": "display_data",
          "data": {
            "application/vnd.jupyter.widget-view+json": {
              "model_id": "042abe45c9ad4c8b9ab7a0a01e6e4fd9",
              "version_minor": 0,
              "version_major": 2
            },
            "text/plain": [
              "Output()"
            ]
          },
          "metadata": {
            "tags": []
          }
        },
        {
          "output_type": "display_data",
          "data": {
            "text/html": [
              "<pre style=\"white-space:pre;overflow-x:auto;line-height:normal;font-family:Menlo,'DejaVu Sans Mono',consolas,'Courier New',monospace\">\n",
              "</pre>\n"
            ],
            "text/plain": [
              "<rich.jupyter.JupyterRenderable at 0x7fb2b66c4ad0>"
            ]
          },
          "metadata": {
            "tags": []
          }
        },
        {
          "output_type": "stream",
          "text": [
            "117 "
          ],
          "name": "stdout"
        },
        {
          "output_type": "display_data",
          "data": {
            "application/vnd.jupyter.widget-view+json": {
              "model_id": "b5f1c2f7a2a04633bdf5d8f6aec85958",
              "version_minor": 0,
              "version_major": 2
            },
            "text/plain": [
              "Output()"
            ]
          },
          "metadata": {
            "tags": []
          }
        },
        {
          "output_type": "display_data",
          "data": {
            "text/html": [
              "<pre style=\"white-space:pre;overflow-x:auto;line-height:normal;font-family:Menlo,'DejaVu Sans Mono',consolas,'Courier New',monospace\">\n",
              "</pre>\n"
            ],
            "text/plain": [
              "<rich.jupyter.JupyterRenderable at 0x7fb2b664c2d0>"
            ]
          },
          "metadata": {
            "tags": []
          }
        },
        {
          "output_type": "stream",
          "text": [
            "118 "
          ],
          "name": "stdout"
        },
        {
          "output_type": "display_data",
          "data": {
            "application/vnd.jupyter.widget-view+json": {
              "model_id": "006c8a78d98341d39ddaa27437a9111f",
              "version_minor": 0,
              "version_major": 2
            },
            "text/plain": [
              "Output()"
            ]
          },
          "metadata": {
            "tags": []
          }
        },
        {
          "output_type": "display_data",
          "data": {
            "text/html": [
              "<pre style=\"white-space:pre;overflow-x:auto;line-height:normal;font-family:Menlo,'DejaVu Sans Mono',consolas,'Courier New',monospace\">\n",
              "</pre>\n"
            ],
            "text/plain": [
              "<rich.jupyter.JupyterRenderable at 0x7fb2b65c1690>"
            ]
          },
          "metadata": {
            "tags": []
          }
        },
        {
          "output_type": "stream",
          "text": [
            "119 "
          ],
          "name": "stdout"
        },
        {
          "output_type": "display_data",
          "data": {
            "application/vnd.jupyter.widget-view+json": {
              "model_id": "04edf3969ebd4fb8919f0ec5b10748cf",
              "version_minor": 0,
              "version_major": 2
            },
            "text/plain": [
              "Output()"
            ]
          },
          "metadata": {
            "tags": []
          }
        },
        {
          "output_type": "display_data",
          "data": {
            "text/html": [
              "<pre style=\"white-space:pre;overflow-x:auto;line-height:normal;font-family:Menlo,'DejaVu Sans Mono',consolas,'Courier New',monospace\">\n",
              "</pre>\n"
            ],
            "text/plain": [
              "<rich.jupyter.JupyterRenderable at 0x7fb2b64d3d10>"
            ]
          },
          "metadata": {
            "tags": []
          }
        },
        {
          "output_type": "stream",
          "text": [
            "\n",
            "Running color naming, condition = congruent\n",
            "120 "
          ],
          "name": "stdout"
        },
        {
          "output_type": "display_data",
          "data": {
            "application/vnd.jupyter.widget-view+json": {
              "model_id": "00b2e24498574d0584e3f63d0a2d00fd",
              "version_minor": 0,
              "version_major": 2
            },
            "text/plain": [
              "Output()"
            ]
          },
          "metadata": {
            "tags": []
          }
        },
        {
          "output_type": "display_data",
          "data": {
            "text/html": [
              "<pre style=\"white-space:pre;overflow-x:auto;line-height:normal;font-family:Menlo,'DejaVu Sans Mono',consolas,'Courier New',monospace\">\n",
              "</pre>\n"
            ],
            "text/plain": [
              "<rich.jupyter.JupyterRenderable at 0x7fb2b64ef2d0>"
            ]
          },
          "metadata": {
            "tags": []
          }
        },
        {
          "output_type": "stream",
          "text": [
            "121 "
          ],
          "name": "stdout"
        },
        {
          "output_type": "display_data",
          "data": {
            "application/vnd.jupyter.widget-view+json": {
              "model_id": "3356174716904a8fbaecd9b2df7bb157",
              "version_minor": 0,
              "version_major": 2
            },
            "text/plain": [
              "Output()"
            ]
          },
          "metadata": {
            "tags": []
          }
        },
        {
          "output_type": "display_data",
          "data": {
            "text/html": [
              "<pre style=\"white-space:pre;overflow-x:auto;line-height:normal;font-family:Menlo,'DejaVu Sans Mono',consolas,'Courier New',monospace\">\n",
              "</pre>\n"
            ],
            "text/plain": [
              "<rich.jupyter.JupyterRenderable at 0x7fb2b63fb150>"
            ]
          },
          "metadata": {
            "tags": []
          }
        },
        {
          "output_type": "stream",
          "text": [
            "122 "
          ],
          "name": "stdout"
        },
        {
          "output_type": "display_data",
          "data": {
            "application/vnd.jupyter.widget-view+json": {
              "model_id": "451666f3f3914350aa522bf28b411a68",
              "version_minor": 0,
              "version_major": 2
            },
            "text/plain": [
              "Output()"
            ]
          },
          "metadata": {
            "tags": []
          }
        },
        {
          "output_type": "display_data",
          "data": {
            "text/html": [
              "<pre style=\"white-space:pre;overflow-x:auto;line-height:normal;font-family:Menlo,'DejaVu Sans Mono',consolas,'Courier New',monospace\">\n",
              "</pre>\n"
            ],
            "text/plain": [
              "<rich.jupyter.JupyterRenderable at 0x7fb2b6385c50>"
            ]
          },
          "metadata": {
            "tags": []
          }
        },
        {
          "output_type": "stream",
          "text": [
            "123 "
          ],
          "name": "stdout"
        },
        {
          "output_type": "display_data",
          "data": {
            "application/vnd.jupyter.widget-view+json": {
              "model_id": "e6b14a5605db4d4f8f1cc85d533ce3fa",
              "version_minor": 0,
              "version_major": 2
            },
            "text/plain": [
              "Output()"
            ]
          },
          "metadata": {
            "tags": []
          }
        },
        {
          "output_type": "display_data",
          "data": {
            "text/html": [
              "<pre style=\"white-space:pre;overflow-x:auto;line-height:normal;font-family:Menlo,'DejaVu Sans Mono',consolas,'Courier New',monospace\">\n",
              "</pre>\n"
            ],
            "text/plain": [
              "<rich.jupyter.JupyterRenderable at 0x7fb2b6283690>"
            ]
          },
          "metadata": {
            "tags": []
          }
        },
        {
          "output_type": "stream",
          "text": [
            "124 "
          ],
          "name": "stdout"
        },
        {
          "output_type": "display_data",
          "data": {
            "application/vnd.jupyter.widget-view+json": {
              "model_id": "45ff58b3c45142f7b5615a229285b16c",
              "version_minor": 0,
              "version_major": 2
            },
            "text/plain": [
              "Output()"
            ]
          },
          "metadata": {
            "tags": []
          }
        },
        {
          "output_type": "display_data",
          "data": {
            "text/html": [
              "<pre style=\"white-space:pre;overflow-x:auto;line-height:normal;font-family:Menlo,'DejaVu Sans Mono',consolas,'Courier New',monospace\">\n",
              "</pre>\n"
            ],
            "text/plain": [
              "<rich.jupyter.JupyterRenderable at 0x7fb2b626a890>"
            ]
          },
          "metadata": {
            "tags": []
          }
        },
        {
          "output_type": "stream",
          "text": [
            "125 "
          ],
          "name": "stdout"
        },
        {
          "output_type": "display_data",
          "data": {
            "application/vnd.jupyter.widget-view+json": {
              "model_id": "888f8761e1264a549c773fc4ec697e0e",
              "version_minor": 0,
              "version_major": 2
            },
            "text/plain": [
              "Output()"
            ]
          },
          "metadata": {
            "tags": []
          }
        },
        {
          "output_type": "display_data",
          "data": {
            "text/html": [
              "<pre style=\"white-space:pre;overflow-x:auto;line-height:normal;font-family:Menlo,'DejaVu Sans Mono',consolas,'Courier New',monospace\">\n",
              "</pre>\n"
            ],
            "text/plain": [
              "<rich.jupyter.JupyterRenderable at 0x7fb2b6219910>"
            ]
          },
          "metadata": {
            "tags": []
          }
        },
        {
          "output_type": "stream",
          "text": [
            "126 "
          ],
          "name": "stdout"
        },
        {
          "output_type": "display_data",
          "data": {
            "application/vnd.jupyter.widget-view+json": {
              "model_id": "f1647fafa23f40e0a5fb8ded432a00e3",
              "version_minor": 0,
              "version_major": 2
            },
            "text/plain": [
              "Output()"
            ]
          },
          "metadata": {
            "tags": []
          }
        },
        {
          "output_type": "display_data",
          "data": {
            "text/html": [
              "<pre style=\"white-space:pre;overflow-x:auto;line-height:normal;font-family:Menlo,'DejaVu Sans Mono',consolas,'Courier New',monospace\">\n",
              "</pre>\n"
            ],
            "text/plain": [
              "<rich.jupyter.JupyterRenderable at 0x7fb2b6135f50>"
            ]
          },
          "metadata": {
            "tags": []
          }
        },
        {
          "output_type": "stream",
          "text": [
            "127 "
          ],
          "name": "stdout"
        },
        {
          "output_type": "display_data",
          "data": {
            "application/vnd.jupyter.widget-view+json": {
              "model_id": "9dacbaf6295d4060b835c768cfa622eb",
              "version_minor": 0,
              "version_major": 2
            },
            "text/plain": [
              "Output()"
            ]
          },
          "metadata": {
            "tags": []
          }
        },
        {
          "output_type": "display_data",
          "data": {
            "text/html": [
              "<pre style=\"white-space:pre;overflow-x:auto;line-height:normal;font-family:Menlo,'DejaVu Sans Mono',consolas,'Courier New',monospace\">\n",
              "</pre>\n"
            ],
            "text/plain": [
              "<rich.jupyter.JupyterRenderable at 0x7fb2b607e850>"
            ]
          },
          "metadata": {
            "tags": []
          }
        },
        {
          "output_type": "stream",
          "text": [
            "128 "
          ],
          "name": "stdout"
        },
        {
          "output_type": "display_data",
          "data": {
            "application/vnd.jupyter.widget-view+json": {
              "model_id": "f48d7b8fd2dd4cb79b3b62724acb8a47",
              "version_minor": 0,
              "version_major": 2
            },
            "text/plain": [
              "Output()"
            ]
          },
          "metadata": {
            "tags": []
          }
        },
        {
          "output_type": "display_data",
          "data": {
            "text/html": [
              "<pre style=\"white-space:pre;overflow-x:auto;line-height:normal;font-family:Menlo,'DejaVu Sans Mono',consolas,'Courier New',monospace\">\n",
              "</pre>\n"
            ],
            "text/plain": [
              "<rich.jupyter.JupyterRenderable at 0x7fb2b603f950>"
            ]
          },
          "metadata": {
            "tags": []
          }
        },
        {
          "output_type": "stream",
          "text": [
            "129 "
          ],
          "name": "stdout"
        },
        {
          "output_type": "display_data",
          "data": {
            "application/vnd.jupyter.widget-view+json": {
              "model_id": "5a5d8330bc0d432c9a4c3db2ae22dd2e",
              "version_minor": 0,
              "version_major": 2
            },
            "text/plain": [
              "Output()"
            ]
          },
          "metadata": {
            "tags": []
          }
        },
        {
          "output_type": "display_data",
          "data": {
            "text/html": [
              "<pre style=\"white-space:pre;overflow-x:auto;line-height:normal;font-family:Menlo,'DejaVu Sans Mono',consolas,'Courier New',monospace\">\n",
              "</pre>\n"
            ],
            "text/plain": [
              "<rich.jupyter.JupyterRenderable at 0x7fb2b5fd3cd0>"
            ]
          },
          "metadata": {
            "tags": []
          }
        },
        {
          "output_type": "stream",
          "text": [
            "\n",
            "Running word reading, condition = control\n",
            "Execution ids: 130 "
          ],
          "name": "stdout"
        },
        {
          "output_type": "display_data",
          "data": {
            "application/vnd.jupyter.widget-view+json": {
              "model_id": "e67927db165c4883af207703fe437548",
              "version_minor": 0,
              "version_major": 2
            },
            "text/plain": [
              "Output()"
            ]
          },
          "metadata": {
            "tags": []
          }
        },
        {
          "output_type": "display_data",
          "data": {
            "text/html": [
              "<pre style=\"white-space:pre;overflow-x:auto;line-height:normal;font-family:Menlo,'DejaVu Sans Mono',consolas,'Courier New',monospace\">\n",
              "</pre>\n"
            ],
            "text/plain": [
              "<rich.jupyter.JupyterRenderable at 0x7fb2b5efeb10>"
            ]
          },
          "metadata": {
            "tags": []
          }
        },
        {
          "output_type": "stream",
          "text": [
            "131 "
          ],
          "name": "stdout"
        },
        {
          "output_type": "display_data",
          "data": {
            "application/vnd.jupyter.widget-view+json": {
              "model_id": "47bc2fbad1a74d77a8215b9d65f81a44",
              "version_minor": 0,
              "version_major": 2
            },
            "text/plain": [
              "Output()"
            ]
          },
          "metadata": {
            "tags": []
          }
        },
        {
          "output_type": "display_data",
          "data": {
            "text/html": [
              "<pre style=\"white-space:pre;overflow-x:auto;line-height:normal;font-family:Menlo,'DejaVu Sans Mono',consolas,'Courier New',monospace\">\n",
              "</pre>\n"
            ],
            "text/plain": [
              "<rich.jupyter.JupyterRenderable at 0x7fb2b5e37310>"
            ]
          },
          "metadata": {
            "tags": []
          }
        },
        {
          "output_type": "stream",
          "text": [
            "132 "
          ],
          "name": "stdout"
        },
        {
          "output_type": "display_data",
          "data": {
            "application/vnd.jupyter.widget-view+json": {
              "model_id": "09e83953642b42538df074aeab4c371f",
              "version_minor": 0,
              "version_major": 2
            },
            "text/plain": [
              "Output()"
            ]
          },
          "metadata": {
            "tags": []
          }
        },
        {
          "output_type": "display_data",
          "data": {
            "text/html": [
              "<pre style=\"white-space:pre;overflow-x:auto;line-height:normal;font-family:Menlo,'DejaVu Sans Mono',consolas,'Courier New',monospace\">\n",
              "</pre>\n"
            ],
            "text/plain": [
              "<rich.jupyter.JupyterRenderable at 0x7fb2b5df25d0>"
            ]
          },
          "metadata": {
            "tags": []
          }
        },
        {
          "output_type": "stream",
          "text": [
            "133 "
          ],
          "name": "stdout"
        },
        {
          "output_type": "display_data",
          "data": {
            "application/vnd.jupyter.widget-view+json": {
              "model_id": "0e495934070d4b4ca8647e1f2bf0be19",
              "version_minor": 0,
              "version_major": 2
            },
            "text/plain": [
              "Output()"
            ]
          },
          "metadata": {
            "tags": []
          }
        },
        {
          "output_type": "display_data",
          "data": {
            "text/html": [
              "<pre style=\"white-space:pre;overflow-x:auto;line-height:normal;font-family:Menlo,'DejaVu Sans Mono',consolas,'Courier New',monospace\">\n",
              "</pre>\n"
            ],
            "text/plain": [
              "<rich.jupyter.JupyterRenderable at 0x7fb2b5ee7e90>"
            ]
          },
          "metadata": {
            "tags": []
          }
        },
        {
          "output_type": "stream",
          "text": [
            "134 "
          ],
          "name": "stdout"
        },
        {
          "output_type": "display_data",
          "data": {
            "application/vnd.jupyter.widget-view+json": {
              "model_id": "95174aea541e431a8f623de7eaab7b3a",
              "version_minor": 0,
              "version_major": 2
            },
            "text/plain": [
              "Output()"
            ]
          },
          "metadata": {
            "tags": []
          }
        },
        {
          "output_type": "display_data",
          "data": {
            "text/html": [
              "<pre style=\"white-space:pre;overflow-x:auto;line-height:normal;font-family:Menlo,'DejaVu Sans Mono',consolas,'Courier New',monospace\">\n",
              "</pre>\n"
            ],
            "text/plain": [
              "<rich.jupyter.JupyterRenderable at 0x7fb2b5fd4cd0>"
            ]
          },
          "metadata": {
            "tags": []
          }
        },
        {
          "output_type": "stream",
          "text": [
            "135 "
          ],
          "name": "stdout"
        },
        {
          "output_type": "display_data",
          "data": {
            "application/vnd.jupyter.widget-view+json": {
              "model_id": "b022be18e0cc4ff89adb058824e66d03",
              "version_minor": 0,
              "version_major": 2
            },
            "text/plain": [
              "Output()"
            ]
          },
          "metadata": {
            "tags": []
          }
        },
        {
          "output_type": "display_data",
          "data": {
            "text/html": [
              "<pre style=\"white-space:pre;overflow-x:auto;line-height:normal;font-family:Menlo,'DejaVu Sans Mono',consolas,'Courier New',monospace\">\n",
              "</pre>\n"
            ],
            "text/plain": [
              "<rich.jupyter.JupyterRenderable at 0x7fb2ba11bb50>"
            ]
          },
          "metadata": {
            "tags": []
          }
        },
        {
          "output_type": "stream",
          "text": [
            "136 "
          ],
          "name": "stdout"
        },
        {
          "output_type": "display_data",
          "data": {
            "application/vnd.jupyter.widget-view+json": {
              "model_id": "df3c63692aa24e6bbe942029890b0a27",
              "version_minor": 0,
              "version_major": 2
            },
            "text/plain": [
              "Output()"
            ]
          },
          "metadata": {
            "tags": []
          }
        },
        {
          "output_type": "display_data",
          "data": {
            "text/html": [
              "<pre style=\"white-space:pre;overflow-x:auto;line-height:normal;font-family:Menlo,'DejaVu Sans Mono',consolas,'Courier New',monospace\">\n",
              "</pre>\n"
            ],
            "text/plain": [
              "<rich.jupyter.JupyterRenderable at 0x7fb2b6d87690>"
            ]
          },
          "metadata": {
            "tags": []
          }
        },
        {
          "output_type": "stream",
          "text": [
            "137 "
          ],
          "name": "stdout"
        },
        {
          "output_type": "display_data",
          "data": {
            "application/vnd.jupyter.widget-view+json": {
              "model_id": "1f1ba126a7f84f0ba27103348cc9cc1e",
              "version_minor": 0,
              "version_major": 2
            },
            "text/plain": [
              "Output()"
            ]
          },
          "metadata": {
            "tags": []
          }
        },
        {
          "output_type": "display_data",
          "data": {
            "text/html": [
              "<pre style=\"white-space:pre;overflow-x:auto;line-height:normal;font-family:Menlo,'DejaVu Sans Mono',consolas,'Courier New',monospace\">\n",
              "</pre>\n"
            ],
            "text/plain": [
              "<rich.jupyter.JupyterRenderable at 0x7fb2b6e1f150>"
            ]
          },
          "metadata": {
            "tags": []
          }
        },
        {
          "output_type": "stream",
          "text": [
            "138 "
          ],
          "name": "stdout"
        },
        {
          "output_type": "display_data",
          "data": {
            "application/vnd.jupyter.widget-view+json": {
              "model_id": "aed97c782fe14ffda5c9b0f60e3c628d",
              "version_minor": 0,
              "version_major": 2
            },
            "text/plain": [
              "Output()"
            ]
          },
          "metadata": {
            "tags": []
          }
        },
        {
          "output_type": "display_data",
          "data": {
            "text/html": [
              "<pre style=\"white-space:pre;overflow-x:auto;line-height:normal;font-family:Menlo,'DejaVu Sans Mono',consolas,'Courier New',monospace\">\n",
              "</pre>\n"
            ],
            "text/plain": [
              "<rich.jupyter.JupyterRenderable at 0x7fb2b6ee5e10>"
            ]
          },
          "metadata": {
            "tags": []
          }
        },
        {
          "output_type": "stream",
          "text": [
            "139 "
          ],
          "name": "stdout"
        },
        {
          "output_type": "display_data",
          "data": {
            "application/vnd.jupyter.widget-view+json": {
              "model_id": "54afc7206a5246b08d13883dffae41cd",
              "version_minor": 0,
              "version_major": 2
            },
            "text/plain": [
              "Output()"
            ]
          },
          "metadata": {
            "tags": []
          }
        },
        {
          "output_type": "display_data",
          "data": {
            "text/html": [
              "<pre style=\"white-space:pre;overflow-x:auto;line-height:normal;font-family:Menlo,'DejaVu Sans Mono',consolas,'Courier New',monospace\">\n",
              "</pre>\n"
            ],
            "text/plain": [
              "<rich.jupyter.JupyterRenderable at 0x7fb2b6e0b810>"
            ]
          },
          "metadata": {
            "tags": []
          }
        },
        {
          "output_type": "stream",
          "text": [
            "\n",
            "Running word reading, condition = conflict\n",
            "Execution ids: 140 "
          ],
          "name": "stdout"
        },
        {
          "output_type": "display_data",
          "data": {
            "application/vnd.jupyter.widget-view+json": {
              "model_id": "32c3d06116cb4941a81e541ef3d36770",
              "version_minor": 0,
              "version_major": 2
            },
            "text/plain": [
              "Output()"
            ]
          },
          "metadata": {
            "tags": []
          }
        },
        {
          "output_type": "display_data",
          "data": {
            "text/html": [
              "<pre style=\"white-space:pre;overflow-x:auto;line-height:normal;font-family:Menlo,'DejaVu Sans Mono',consolas,'Courier New',monospace\">\n",
              "</pre>\n"
            ],
            "text/plain": [
              "<rich.jupyter.JupyterRenderable at 0x7fb2b6d3b610>"
            ]
          },
          "metadata": {
            "tags": []
          }
        },
        {
          "output_type": "stream",
          "text": [
            "141 "
          ],
          "name": "stdout"
        },
        {
          "output_type": "display_data",
          "data": {
            "application/vnd.jupyter.widget-view+json": {
              "model_id": "556d790c2ca84462a8aa6b84c6c529c4",
              "version_minor": 0,
              "version_major": 2
            },
            "text/plain": [
              "Output()"
            ]
          },
          "metadata": {
            "tags": []
          }
        },
        {
          "output_type": "display_data",
          "data": {
            "text/html": [
              "<pre style=\"white-space:pre;overflow-x:auto;line-height:normal;font-family:Menlo,'DejaVu Sans Mono',consolas,'Courier New',monospace\">\n",
              "</pre>\n"
            ],
            "text/plain": [
              "<rich.jupyter.JupyterRenderable at 0x7fb2b6dde290>"
            ]
          },
          "metadata": {
            "tags": []
          }
        },
        {
          "output_type": "stream",
          "text": [
            "142 "
          ],
          "name": "stdout"
        },
        {
          "output_type": "display_data",
          "data": {
            "application/vnd.jupyter.widget-view+json": {
              "model_id": "93cd7fb61c40498bac51a27c7e38ab08",
              "version_minor": 0,
              "version_major": 2
            },
            "text/plain": [
              "Output()"
            ]
          },
          "metadata": {
            "tags": []
          }
        },
        {
          "output_type": "display_data",
          "data": {
            "text/html": [
              "<pre style=\"white-space:pre;overflow-x:auto;line-height:normal;font-family:Menlo,'DejaVu Sans Mono',consolas,'Courier New',monospace\">\n",
              "</pre>\n"
            ],
            "text/plain": [
              "<rich.jupyter.JupyterRenderable at 0x7fb2b6d75cd0>"
            ]
          },
          "metadata": {
            "tags": []
          }
        },
        {
          "output_type": "stream",
          "text": [
            "143 "
          ],
          "name": "stdout"
        },
        {
          "output_type": "display_data",
          "data": {
            "application/vnd.jupyter.widget-view+json": {
              "model_id": "d3f7e30c6a7c4cb1944c96e5d7b2b718",
              "version_minor": 0,
              "version_major": 2
            },
            "text/plain": [
              "Output()"
            ]
          },
          "metadata": {
            "tags": []
          }
        },
        {
          "output_type": "display_data",
          "data": {
            "text/html": [
              "<pre style=\"white-space:pre;overflow-x:auto;line-height:normal;font-family:Menlo,'DejaVu Sans Mono',consolas,'Courier New',monospace\">\n",
              "</pre>\n"
            ],
            "text/plain": [
              "<rich.jupyter.JupyterRenderable at 0x7fb2b70a00d0>"
            ]
          },
          "metadata": {
            "tags": []
          }
        },
        {
          "output_type": "stream",
          "text": [
            "144 "
          ],
          "name": "stdout"
        },
        {
          "output_type": "display_data",
          "data": {
            "application/vnd.jupyter.widget-view+json": {
              "model_id": "7699d93e1e554c4086cf54200188a202",
              "version_minor": 0,
              "version_major": 2
            },
            "text/plain": [
              "Output()"
            ]
          },
          "metadata": {
            "tags": []
          }
        },
        {
          "output_type": "display_data",
          "data": {
            "text/html": [
              "<pre style=\"white-space:pre;overflow-x:auto;line-height:normal;font-family:Menlo,'DejaVu Sans Mono',consolas,'Courier New',monospace\">\n",
              "</pre>\n"
            ],
            "text/plain": [
              "<rich.jupyter.JupyterRenderable at 0x7fb2b6fc3850>"
            ]
          },
          "metadata": {
            "tags": []
          }
        },
        {
          "output_type": "stream",
          "text": [
            "145 "
          ],
          "name": "stdout"
        },
        {
          "output_type": "display_data",
          "data": {
            "application/vnd.jupyter.widget-view+json": {
              "model_id": "037c0a55037d40c3887c0567f8370e2b",
              "version_minor": 0,
              "version_major": 2
            },
            "text/plain": [
              "Output()"
            ]
          },
          "metadata": {
            "tags": []
          }
        },
        {
          "output_type": "display_data",
          "data": {
            "text/html": [
              "<pre style=\"white-space:pre;overflow-x:auto;line-height:normal;font-family:Menlo,'DejaVu Sans Mono',consolas,'Courier New',monospace\">\n",
              "</pre>\n"
            ],
            "text/plain": [
              "<rich.jupyter.JupyterRenderable at 0x7fb2b735e350>"
            ]
          },
          "metadata": {
            "tags": []
          }
        },
        {
          "output_type": "stream",
          "text": [
            "146 "
          ],
          "name": "stdout"
        },
        {
          "output_type": "display_data",
          "data": {
            "application/vnd.jupyter.widget-view+json": {
              "model_id": "de43f4919482461ebe4aafd30d2a7ddc",
              "version_minor": 0,
              "version_major": 2
            },
            "text/plain": [
              "Output()"
            ]
          },
          "metadata": {
            "tags": []
          }
        },
        {
          "output_type": "display_data",
          "data": {
            "text/html": [
              "<pre style=\"white-space:pre;overflow-x:auto;line-height:normal;font-family:Menlo,'DejaVu Sans Mono',consolas,'Courier New',monospace\">\n",
              "</pre>\n"
            ],
            "text/plain": [
              "<rich.jupyter.JupyterRenderable at 0x7fb2b7356a50>"
            ]
          },
          "metadata": {
            "tags": []
          }
        },
        {
          "output_type": "stream",
          "text": [
            "147 "
          ],
          "name": "stdout"
        },
        {
          "output_type": "display_data",
          "data": {
            "application/vnd.jupyter.widget-view+json": {
              "model_id": "eaa66900e9ce4ab8a699696a024f7bc3",
              "version_minor": 0,
              "version_major": 2
            },
            "text/plain": [
              "Output()"
            ]
          },
          "metadata": {
            "tags": []
          }
        },
        {
          "output_type": "display_data",
          "data": {
            "text/html": [
              "<pre style=\"white-space:pre;overflow-x:auto;line-height:normal;font-family:Menlo,'DejaVu Sans Mono',consolas,'Courier New',monospace\">\n",
              "</pre>\n"
            ],
            "text/plain": [
              "<rich.jupyter.JupyterRenderable at 0x7fb2b7356110>"
            ]
          },
          "metadata": {
            "tags": []
          }
        },
        {
          "output_type": "stream",
          "text": [
            "148 "
          ],
          "name": "stdout"
        },
        {
          "output_type": "display_data",
          "data": {
            "application/vnd.jupyter.widget-view+json": {
              "model_id": "b4c91620fcf542f1a25c35a23715ac56",
              "version_minor": 0,
              "version_major": 2
            },
            "text/plain": [
              "Output()"
            ]
          },
          "metadata": {
            "tags": []
          }
        },
        {
          "output_type": "display_data",
          "data": {
            "text/html": [
              "<pre style=\"white-space:pre;overflow-x:auto;line-height:normal;font-family:Menlo,'DejaVu Sans Mono',consolas,'Courier New',monospace\">\n",
              "</pre>\n"
            ],
            "text/plain": [
              "<rich.jupyter.JupyterRenderable at 0x7fb2b596abd0>"
            ]
          },
          "metadata": {
            "tags": []
          }
        },
        {
          "output_type": "stream",
          "text": [
            "149 "
          ],
          "name": "stdout"
        },
        {
          "output_type": "display_data",
          "data": {
            "application/vnd.jupyter.widget-view+json": {
              "model_id": "3190c3601592490b86a6a3b544091fc7",
              "version_minor": 0,
              "version_major": 2
            },
            "text/plain": [
              "Output()"
            ]
          },
          "metadata": {
            "tags": []
          }
        },
        {
          "output_type": "display_data",
          "data": {
            "text/html": [
              "<pre style=\"white-space:pre;overflow-x:auto;line-height:normal;font-family:Menlo,'DejaVu Sans Mono',consolas,'Courier New',monospace\">\n",
              "</pre>\n"
            ],
            "text/plain": [
              "<rich.jupyter.JupyterRenderable at 0x7fb2b5838b90>"
            ]
          },
          "metadata": {
            "tags": []
          }
        },
        {
          "output_type": "stream",
          "text": [
            "\n",
            "Running word reading, condition = congruent\n",
            "Execution ids: 150 "
          ],
          "name": "stdout"
        },
        {
          "output_type": "display_data",
          "data": {
            "application/vnd.jupyter.widget-view+json": {
              "model_id": "19765b7bcd664ce9aff299cace167e8a",
              "version_minor": 0,
              "version_major": 2
            },
            "text/plain": [
              "Output()"
            ]
          },
          "metadata": {
            "tags": []
          }
        },
        {
          "output_type": "display_data",
          "data": {
            "text/html": [
              "<pre style=\"white-space:pre;overflow-x:auto;line-height:normal;font-family:Menlo,'DejaVu Sans Mono',consolas,'Courier New',monospace\">\n",
              "</pre>\n"
            ],
            "text/plain": [
              "<rich.jupyter.JupyterRenderable at 0x7fb2b5850850>"
            ]
          },
          "metadata": {
            "tags": []
          }
        },
        {
          "output_type": "stream",
          "text": [
            "151 "
          ],
          "name": "stdout"
        },
        {
          "output_type": "display_data",
          "data": {
            "application/vnd.jupyter.widget-view+json": {
              "model_id": "5f0d921c7ec04d3fb9d4a324578f84e2",
              "version_minor": 0,
              "version_major": 2
            },
            "text/plain": [
              "Output()"
            ]
          },
          "metadata": {
            "tags": []
          }
        },
        {
          "output_type": "display_data",
          "data": {
            "text/html": [
              "<pre style=\"white-space:pre;overflow-x:auto;line-height:normal;font-family:Menlo,'DejaVu Sans Mono',consolas,'Courier New',monospace\">\n",
              "</pre>\n"
            ],
            "text/plain": [
              "<rich.jupyter.JupyterRenderable at 0x7fb2b57dedd0>"
            ]
          },
          "metadata": {
            "tags": []
          }
        },
        {
          "output_type": "stream",
          "text": [
            "152 "
          ],
          "name": "stdout"
        },
        {
          "output_type": "display_data",
          "data": {
            "application/vnd.jupyter.widget-view+json": {
              "model_id": "9adadae1df2e4be8bcb067b8546520ae",
              "version_minor": 0,
              "version_major": 2
            },
            "text/plain": [
              "Output()"
            ]
          },
          "metadata": {
            "tags": []
          }
        },
        {
          "output_type": "display_data",
          "data": {
            "text/html": [
              "<pre style=\"white-space:pre;overflow-x:auto;line-height:normal;font-family:Menlo,'DejaVu Sans Mono',consolas,'Courier New',monospace\">\n",
              "</pre>\n"
            ],
            "text/plain": [
              "<rich.jupyter.JupyterRenderable at 0x7fb2b56f30d0>"
            ]
          },
          "metadata": {
            "tags": []
          }
        },
        {
          "output_type": "stream",
          "text": [
            "153 "
          ],
          "name": "stdout"
        },
        {
          "output_type": "display_data",
          "data": {
            "application/vnd.jupyter.widget-view+json": {
              "model_id": "df56d8efe3f9439f939b5e9913eba431",
              "version_minor": 0,
              "version_major": 2
            },
            "text/plain": [
              "Output()"
            ]
          },
          "metadata": {
            "tags": []
          }
        },
        {
          "output_type": "display_data",
          "data": {
            "text/html": [
              "<pre style=\"white-space:pre;overflow-x:auto;line-height:normal;font-family:Menlo,'DejaVu Sans Mono',consolas,'Courier New',monospace\">\n",
              "</pre>\n"
            ],
            "text/plain": [
              "<rich.jupyter.JupyterRenderable at 0x7fb2b5667250>"
            ]
          },
          "metadata": {
            "tags": []
          }
        },
        {
          "output_type": "stream",
          "text": [
            "154 "
          ],
          "name": "stdout"
        },
        {
          "output_type": "display_data",
          "data": {
            "application/vnd.jupyter.widget-view+json": {
              "model_id": "0ea5a2213b124806b5314f06c73720a1",
              "version_minor": 0,
              "version_major": 2
            },
            "text/plain": [
              "Output()"
            ]
          },
          "metadata": {
            "tags": []
          }
        },
        {
          "output_type": "display_data",
          "data": {
            "text/html": [
              "<pre style=\"white-space:pre;overflow-x:auto;line-height:normal;font-family:Menlo,'DejaVu Sans Mono',consolas,'Courier New',monospace\">\n",
              "</pre>\n"
            ],
            "text/plain": [
              "<rich.jupyter.JupyterRenderable at 0x7fb2b55fbbd0>"
            ]
          },
          "metadata": {
            "tags": []
          }
        },
        {
          "output_type": "stream",
          "text": [
            "155 "
          ],
          "name": "stdout"
        },
        {
          "output_type": "display_data",
          "data": {
            "application/vnd.jupyter.widget-view+json": {
              "model_id": "a5d401b58dc449bbb7ee2614de00db10",
              "version_minor": 0,
              "version_major": 2
            },
            "text/plain": [
              "Output()"
            ]
          },
          "metadata": {
            "tags": []
          }
        },
        {
          "output_type": "display_data",
          "data": {
            "text/html": [
              "<pre style=\"white-space:pre;overflow-x:auto;line-height:normal;font-family:Menlo,'DejaVu Sans Mono',consolas,'Courier New',monospace\">\n",
              "</pre>\n"
            ],
            "text/plain": [
              "<rich.jupyter.JupyterRenderable at 0x7fb2b5553410>"
            ]
          },
          "metadata": {
            "tags": []
          }
        },
        {
          "output_type": "stream",
          "text": [
            "156 "
          ],
          "name": "stdout"
        },
        {
          "output_type": "display_data",
          "data": {
            "application/vnd.jupyter.widget-view+json": {
              "model_id": "f13e7addbb13447ea6ccf7a81d4d7eeb",
              "version_minor": 0,
              "version_major": 2
            },
            "text/plain": [
              "Output()"
            ]
          },
          "metadata": {
            "tags": []
          }
        },
        {
          "output_type": "display_data",
          "data": {
            "text/html": [
              "<pre style=\"white-space:pre;overflow-x:auto;line-height:normal;font-family:Menlo,'DejaVu Sans Mono',consolas,'Courier New',monospace\">\n",
              "</pre>\n"
            ],
            "text/plain": [
              "<rich.jupyter.JupyterRenderable at 0x7fb2b54dc250>"
            ]
          },
          "metadata": {
            "tags": []
          }
        },
        {
          "output_type": "stream",
          "text": [
            "157 "
          ],
          "name": "stdout"
        },
        {
          "output_type": "display_data",
          "data": {
            "application/vnd.jupyter.widget-view+json": {
              "model_id": "eb1da27465974214926a6d4fbfb4a514",
              "version_minor": 0,
              "version_major": 2
            },
            "text/plain": [
              "Output()"
            ]
          },
          "metadata": {
            "tags": []
          }
        },
        {
          "output_type": "display_data",
          "data": {
            "text/html": [
              "<pre style=\"white-space:pre;overflow-x:auto;line-height:normal;font-family:Menlo,'DejaVu Sans Mono',consolas,'Courier New',monospace\">\n",
              "</pre>\n"
            ],
            "text/plain": [
              "<rich.jupyter.JupyterRenderable at 0x7fb2b5467e50>"
            ]
          },
          "metadata": {
            "tags": []
          }
        },
        {
          "output_type": "stream",
          "text": [
            "158 "
          ],
          "name": "stdout"
        },
        {
          "output_type": "display_data",
          "data": {
            "application/vnd.jupyter.widget-view+json": {
              "model_id": "4bdacfb4e1694c439dd9a478cb05d576",
              "version_minor": 0,
              "version_major": 2
            },
            "text/plain": [
              "Output()"
            ]
          },
          "metadata": {
            "tags": []
          }
        },
        {
          "output_type": "display_data",
          "data": {
            "text/html": [
              "<pre style=\"white-space:pre;overflow-x:auto;line-height:normal;font-family:Menlo,'DejaVu Sans Mono',consolas,'Courier New',monospace\">\n",
              "</pre>\n"
            ],
            "text/plain": [
              "<rich.jupyter.JupyterRenderable at 0x7fb2b5427390>"
            ]
          },
          "metadata": {
            "tags": []
          }
        },
        {
          "output_type": "stream",
          "text": [
            "159 "
          ],
          "name": "stdout"
        },
        {
          "output_type": "display_data",
          "data": {
            "application/vnd.jupyter.widget-view+json": {
              "model_id": "263f9dd79b054c6ca294ba83d9e1dc63",
              "version_minor": 0,
              "version_major": 2
            },
            "text/plain": [
              "Output()"
            ]
          },
          "metadata": {
            "tags": []
          }
        },
        {
          "output_type": "display_data",
          "data": {
            "text/html": [
              "<pre style=\"white-space:pre;overflow-x:auto;line-height:normal;font-family:Menlo,'DejaVu Sans Mono',consolas,'Courier New',monospace\">\n",
              "</pre>\n"
            ],
            "text/plain": [
              "<rich.jupyter.JupyterRenderable at 0x7fb2b5337d90>"
            ]
          },
          "metadata": {
            "tags": []
          }
        },
        {
          "output_type": "stream",
          "text": [
            "Done!\n"
          ],
          "name": "stdout"
        }
      ]
    },
    {
      "cell_type": "markdown",
      "metadata": {
        "id": "VhXfZM2ZwX6T"
      },
      "source": [
        "Compute the reaction time. "
      ]
    },
    {
      "cell_type": "code",
      "metadata": {
        "id": "esYGuihUwX6T"
      },
      "source": [
        "def compute_rt(act, threshold=.9):\n",
        "    \"\"\"compute reaction time\n",
        "    take the activity of the decision layer...\n",
        "    check the earliest time point when activity > threshold...\n",
        "    call that RT\n",
        "    *RT=np.nan if timeout\n",
        "    \"\"\"\n",
        "    n_time_steps_, N_UNITS_ = np.shape(act)\n",
        "    rts = np.full(shape=(N_UNITS_,), fill_value=np.nan)\n",
        "    for i in range(N_UNITS_):\n",
        "        tps_pass_threshold = np.where(act[:, i] > threshold)[0]\n",
        "        if len(tps_pass_threshold) > 0:\n",
        "            rts[i] = tps_pass_threshold[0]\n",
        "    return np.nanmin(rts)"
      ],
      "execution_count": null,
      "outputs": []
    },
    {
      "cell_type": "code",
      "metadata": {
        "id": "FB5dYd3awX6T"
      },
      "source": [
        "# compute RTs for color naming and word reading\n",
        "threshold = .9\n",
        "RTs_cn = {condition: None for condition in CONDITIONS}\n",
        "RTs_wr = {condition: None for condition in CONDITIONS}\n",
        "for i, condition in enumerate(CONDITIONS):\n",
        "    RTs_cn[condition] = np.array(\n",
        "        [compute_rt(A_cn[condition][i, :, :], threshold) for i in range(n_repeats)]\n",
        "    )\n",
        "    RTs_wr[condition] = np.array(\n",
        "        [compute_rt(A_wr[condition][i, :, :], threshold) for i in range(n_repeats)]\n",
        "    )\n",
        "\n",
        "# organize data for plotting, color naming and word reading\n",
        "mean_rt_cn = [np.nanmean(RTs_cn[condition]) for condition in CONDITIONS]\n",
        "mean_rt_wr = [np.nanmean(RTs_wr[condition]) for condition in CONDITIONS]\n",
        "std_rt_cn = [np.nanstd(RTs_cn[condition]) for condition in CONDITIONS]\n",
        "std_rt_wr = [np.nanstd(RTs_wr[condition]) for condition in CONDITIONS]\n",
        "xtick_vals = range(len(CONDITIONS))"
      ],
      "execution_count": null,
      "outputs": []
    },
    {
      "cell_type": "code",
      "metadata": {
        "id": "PNI_7kjqwX6T",
        "colab": {
          "base_uri": "https://localhost:8080/",
          "height": 424
        },
        "outputId": "b15f4028-3984-4242-92b0-25d2f4e45eca"
      },
      "source": [
        "# plot RT\n",
        "f, ax = plt.subplots(1, 1, figsize=(6, 6))\n",
        "ax.errorbar(\n",
        "    x=xtick_vals, y=mean_rt_cn, yerr=std_rt_cn, \n",
        "    label='color naming', color='black'\n",
        ")\n",
        "ax.errorbar(\n",
        "    x=xtick_vals, y=mean_rt_wr, yerr=std_rt_wr, \n",
        "    label='word reading', color='black', linestyle='--',\n",
        ")\n",
        "ax.set_ylabel('Reaction time (n cycles)')\n",
        "ax.set_xticks(xtick_vals)\n",
        "ax.set_xticklabels(CONDITIONS)\n",
        "ax.set_xlabel('Condition')\n",
        "ax.set_title('RT under various conditions')\n",
        "f.legend(frameon=False, bbox_to_anchor=(1, .9))\n",
        "f.tight_layout()\n",
        "sns.despine()"
      ],
      "execution_count": null,
      "outputs": [
        {
          "output_type": "display_data",
          "data": {
            "image/png": "[encoded data removed]",
            "text/plain": [
              "<Figure size 432x432 with 1 Axes>"
            ]
          },
          "metadata": {
            "tags": []
          }
        }
      ]
    },
    {
      "cell_type": "code",
      "metadata": {
        "id": "U-Lioe4BwX6U"
      },
      "source": [
        ""
      ],
      "execution_count": null,
      "outputs": []
    },
    {
      "cell_type": "markdown",
      "metadata": {
        "id": "-UqINBxMwX6U"
      },
      "source": [
        "### <a id='l3'>Lab exercise 3. Create a Model of Flanker Task Performance</a> \n",
        "\n",
        "[Back to top](#table)\n",
        "\n",
        "There are many tasks that involve interference, and a well-studied follow up to the Stroop task is called a Flanker task.  Flanker tasks require responding to a central stimulus with task-irrelevant stimuli surrounding the central stimulus.  For example, you could be asked to respond to the central arrow on trials that contain congruent trials -> -> -> or <- <- <-,  along with incongruent trials -> <- -> or <- -> <-.  On average, most participants respond faster and more accurately on congruent trials compared to incongruent trials.  Assume these performance statistics.\n",
        "\n",
        "Congruent RT = 400 ms\n",
        "Incongruent RT = 430 ms\n",
        "\n",
        "Your assignment is to create a model that reproduces these performance metrics on the Flanker Arrow task, hard coding the weights, and to make figures that demonstrate the performance of your model.  Be sure your model has input, hidden, and response units (both for performance and to complete #2 below).  You can use the Stroop Models as inspiration, but we recommend trying out models that are much simpler.  \n"
      ]
    },
    {
      "cell_type": "markdown",
      "metadata": {
        "id": "hyHKTFQNwX6U"
      },
      "source": [
        "### <a id='l4'>Lab exercise 4. BUILD</a> \n",
        "\n",
        "[Back to top](#table)"
      ]
    },
    {
      "cell_type": "code",
      "metadata": {
        "id": "3WnFIYKswX6U"
      },
      "source": [
        ""
      ],
      "execution_count": null,
      "outputs": []
    }
  ]
}