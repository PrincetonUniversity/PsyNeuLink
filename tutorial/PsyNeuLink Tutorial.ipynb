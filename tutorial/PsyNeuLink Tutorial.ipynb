{
 "nbformat": 4,
 "nbformat_minor": 0,
 "metadata": {
  "colab": {
   "name": "PsyNeuLink_Tutorial.ipynb",
   "provenance": [],
   "collapsed_sections": []
  },
  "language_info": {
   "codemirror_mode": {
    "name": "ipython",
    "version": 3
   },
   "file_extension": ".py",
   "mimetype": "text/x-python",
   "name": "python",
   "nbconvert_exporter": "python",
   "pygments_lexer": "ipython3",
   "version": "3.6.1"
  },
  "kernelspec": {
   "display_name": "Python 3",
   "language": "python",
   "name": "python3"
  }
 },
 "cells": [
  {
   "cell_type": "markdown",
   "metadata": {
    "id": "H6ZYZf4adoW6",
    "colab_type": "text"
   },
   "source": [
    "# Welcome to PsyNeuLink\n",
    "\n",
    "PsyNeuLink is an integrated language and toolkit for creating cognitive models. It decreases the overhead required for cognitive modeling by providing standard building blocks (DDMS, Neural Nets, etc.) and the means to connect them together in a single environment. PsyNeuLink is designed to make the user think about computation in a \"mind/brain-like\" way while imposing minimal constraints on the type of models that can be implemented."
   ]
  },
  {
   "cell_type": "markdown",
   "metadata": {
    "id": "V7laEcFxdoW7",
    "colab_type": "text"
   },
   "source": [
    "## How to get PsyNeuLink\n",
    "\n",
    "PsyNeuLink is compatible with python versions >= 3.7 and is available through PyPI:\n",
    "\n",
    "```shell\n",
    "pip install psyneulink\n",
    "```\n",
    "Or you can clone the GitHub repo [here](https://github.com/PrincetonUniversity/PsyNeuLink). Download the package with the green \"Clone or download\" button on the right side of the page and \"Download ZIP.\" Open the version of this Tutorial in the cloned folder before continuing on.\n",
    "\n",
    "## Installation\n",
    "\n",
    "To install the package, navigate to the cloned directory in a terminal, switch to your preferred python3 environment, then run the command `pip install .` (make sure to include the period and to use the appropriate pip/pip3 command for python 3.7). All prerequisite packages will be automatically added to your environment.\n",
    "\n",
    "For the curious, these are:\n",
    "* numpy\n",
    "* matplotlib\n",
    "* toposort\n",
    "* mpi4py\n",
    "* typecheck-decorator"
   ]
  },
  {
   "cell_type": "markdown",
   "metadata": {
    "id": "vK3d3A4NdoW8",
    "colab_type": "text"
   },
   "source": [
    "\n",
    "## Tutorial Overview\n",
    "\n",
    "This tutorial is meant to get you accustomed to the structure of PsyNeuLink and be able to construct basic models. Starting with a simple 1-to-1 transformation, we will build up to making the Stroop model from [Cohen et al. (1990)](https://www.researchgate.net/publication/20956134_Cohen_JD_McClelland_JL_Dunbar_K_On_the_control_of_automatic_processes_a_parallel_distributed_processing_account_of_the_Stroop_effect_Psychol_Rev_97_332-361). Let's get started!"
   ]
  },
  {
   "cell_type": "markdown",
   "metadata": {
    "id": "6skRbr-sdoW9",
    "colab_type": "text"
   },
   "source": [
    "### Imports and file structure\n",
    "\n",
    "The following code block will import the necessary components for basic neural network models in PsyNeuLink. In particular, we need tools for handling *[Compositions](https://princetonuniversity.github.io/PsyNeuLink/Composition.html)*, the set of specific *[Mechanisms](https://princetonuniversity.github.io/PsyNeuLink/Mechanism.html)* that will make up our networks, and the *[Projections](https://princetonuniversity.github.io/PsyNeuLink/Projection.html)* to connect them. We also import basic prerequisites and set up the jupyter environment for visualization."
   ]
  },
  {
   "cell_type": "code",
   "metadata": {
    "id": "Knw8qifUdoW-",
    "colab_type": "code",
    "outputId": "0175f0f1-b4b9-4fd1-950e-7866e83006cb",
    "colab": {
     "base_uri": "https://localhost:8080/",
     "height": 136
    },
    "ExecuteTime": {
     "end_time": "2024-09-27T02:32:45.944047Z",
     "start_time": "2024-09-27T02:32:29.034605Z"
    }
   },
   "source": [
    "!pip install psyneulink #run this command if opening in Google CoLaboratory \n",
    "import psyneulink as pnl"
   ],
   "outputs": [
    {
     "name": "stdout",
     "output_type": "stream",
     "text": [
      "Requirement already satisfied: psyneulink in /Users/younesstrittmatter/Documents/GitHub/younesStrittmatter/princeton/PsyNeuLink (0.15.1.0+338.g923c227782.dirty)\r\n",
      "Requirement already satisfied: beartype<0.19.0 in /Users/younesstrittmatter/Documents/GitHub/younesStrittmatter/princeton/PsyNeuLink/.venv/lib/python3.11/site-packages (from psyneulink) (0.17.2)\r\n",
      "Requirement already satisfied: dill<0.3.9 in /Users/younesstrittmatter/Documents/GitHub/younesStrittmatter/princeton/PsyNeuLink/.venv/lib/python3.11/site-packages (from psyneulink) (0.3.8)\r\n",
      "Requirement already satisfied: fastkde<1.0.31,>=1.0.24 in /Users/younesstrittmatter/Documents/GitHub/younesStrittmatter/princeton/PsyNeuLink/.venv/lib/python3.11/site-packages (from psyneulink) (1.0.30)\r\n",
      "Requirement already satisfied: graph-scheduler<1.3.0,>=1.2.1 in /Users/younesstrittmatter/Documents/GitHub/younesStrittmatter/princeton/PsyNeuLink/.venv/lib/python3.11/site-packages (from psyneulink) (1.2.2)\r\n",
      "Requirement already satisfied: graphviz<0.21.0 in /Users/younesstrittmatter/Documents/GitHub/younesStrittmatter/princeton/PsyNeuLink/.venv/lib/python3.11/site-packages (from psyneulink) (0.20.3)\r\n",
      "Requirement already satisfied: grpcio<1.67.0 in /Users/younesstrittmatter/Documents/GitHub/younesStrittmatter/princeton/PsyNeuLink/.venv/lib/python3.11/site-packages (from psyneulink) (1.60.2)\r\n",
      "Requirement already satisfied: leabra-psyneulink<0.3.3 in /Users/younesstrittmatter/Documents/GitHub/younesStrittmatter/princeton/PsyNeuLink/.venv/lib/python3.11/site-packages (from psyneulink) (0.3.2)\r\n",
      "Requirement already satisfied: llvmlite<0.44 in /Users/younesstrittmatter/Documents/GitHub/younesStrittmatter/princeton/PsyNeuLink/.venv/lib/python3.11/site-packages (from psyneulink) (0.41.1)\r\n",
      "Requirement already satisfied: matplotlib<3.7.6 in /Users/younesstrittmatter/Documents/GitHub/younesStrittmatter/princeton/PsyNeuLink/.venv/lib/python3.11/site-packages (from psyneulink) (3.7.2)\r\n",
      "Requirement already satisfied: networkx<3.4 in /Users/younesstrittmatter/Documents/GitHub/younesStrittmatter/princeton/PsyNeuLink/.venv/lib/python3.11/site-packages (from psyneulink) (3.2.1)\r\n",
      "Requirement already satisfied: numpy<1.26.5,>=1.21.0 in /Users/younesstrittmatter/Documents/GitHub/younesStrittmatter/princeton/PsyNeuLink/.venv/lib/python3.11/site-packages (from psyneulink) (1.24.4)\r\n",
      "Requirement already satisfied: optuna<3.4.0 in /Users/younesstrittmatter/Documents/GitHub/younesStrittmatter/princeton/PsyNeuLink/.venv/lib/python3.11/site-packages (from psyneulink) (3.3.0)\r\n",
      "Requirement already satisfied: packaging<25.0 in /Users/younesstrittmatter/Documents/GitHub/younesStrittmatter/princeton/PsyNeuLink/.venv/lib/python3.11/site-packages (from psyneulink) (23.2)\r\n",
      "Requirement already satisfied: pandas<2.2.4 in /Users/younesstrittmatter/Documents/GitHub/younesStrittmatter/princeton/PsyNeuLink/.venv/lib/python3.11/site-packages (from psyneulink) (2.2.0)\r\n",
      "Requirement already satisfied: pillow<10.5.0 in /Users/younesstrittmatter/Documents/GitHub/younesStrittmatter/princeton/PsyNeuLink/.venv/lib/python3.11/site-packages (from psyneulink) (10.2.0)\r\n",
      "Requirement already satisfied: pint<0.22.0 in /Users/younesstrittmatter/Documents/GitHub/younesStrittmatter/princeton/PsyNeuLink/.venv/lib/python3.11/site-packages (from psyneulink) (0.21.1)\r\n",
      "Requirement already satisfied: protobuf<3.20.4 in /Users/younesstrittmatter/Documents/GitHub/younesStrittmatter/princeton/PsyNeuLink/.venv/lib/python3.11/site-packages (from psyneulink) (3.20.2)\r\n",
      "Requirement already satisfied: rich<10.13,>=10.1 in /Users/younesstrittmatter/Documents/GitHub/younesStrittmatter/princeton/PsyNeuLink/.venv/lib/python3.11/site-packages (from psyneulink) (10.12.0)\r\n",
      "Requirement already satisfied: scipy<1.15,>=1.7.3 in /Users/younesstrittmatter/Documents/GitHub/younesStrittmatter/princeton/PsyNeuLink/.venv/lib/python3.11/site-packages (from psyneulink) (1.11.4)\r\n",
      "Requirement already satisfied: toposort<1.11 in /Users/younesstrittmatter/Documents/GitHub/younesStrittmatter/princeton/PsyNeuLink/.venv/lib/python3.11/site-packages (from psyneulink) (1.10)\r\n",
      "Requirement already satisfied: modeci_mdf<0.5,>=0.4.3 in /Users/younesstrittmatter/Documents/GitHub/younesStrittmatter/princeton/PsyNeuLink/.venv/lib/python3.11/site-packages (from psyneulink) (0.4.10)\r\n",
      "Requirement already satisfied: torch<2.5.0,>=1.10.0 in /Users/younesstrittmatter/Documents/GitHub/younesStrittmatter/princeton/PsyNeuLink/.venv/lib/python3.11/site-packages (from psyneulink) (2.1.2)\r\n",
      "Requirement already satisfied: bokeh>=0.12.6 in /Users/younesstrittmatter/Documents/GitHub/younesStrittmatter/princeton/PsyNeuLink/.venv/lib/python3.11/site-packages (from leabra-psyneulink<0.3.3->psyneulink) (3.5.2)\r\n",
      "Requirement already satisfied: ipywidgets>=7.0 in /Users/younesstrittmatter/Documents/GitHub/younesStrittmatter/princeton/PsyNeuLink/.venv/lib/python3.11/site-packages (from leabra-psyneulink<0.3.3->psyneulink) (8.1.5)\r\n",
      "Requirement already satisfied: jupyter in /Users/younesstrittmatter/Documents/GitHub/younesStrittmatter/princeton/PsyNeuLink/.venv/lib/python3.11/site-packages (from leabra-psyneulink<0.3.3->psyneulink) (1.1.1)\r\n",
      "Requirement already satisfied: contourpy>=1.0.1 in /Users/younesstrittmatter/Documents/GitHub/younesStrittmatter/princeton/PsyNeuLink/.venv/lib/python3.11/site-packages (from matplotlib<3.7.6->psyneulink) (1.3.0)\r\n",
      "Requirement already satisfied: cycler>=0.10 in /Users/younesstrittmatter/Documents/GitHub/younesStrittmatter/princeton/PsyNeuLink/.venv/lib/python3.11/site-packages (from matplotlib<3.7.6->psyneulink) (0.12.1)\r\n",
      "Requirement already satisfied: fonttools>=4.22.0 in /Users/younesstrittmatter/Documents/GitHub/younesStrittmatter/princeton/PsyNeuLink/.venv/lib/python3.11/site-packages (from matplotlib<3.7.6->psyneulink) (4.53.1)\r\n",
      "Requirement already satisfied: kiwisolver>=1.0.1 in /Users/younesstrittmatter/Documents/GitHub/younesStrittmatter/princeton/PsyNeuLink/.venv/lib/python3.11/site-packages (from matplotlib<3.7.6->psyneulink) (1.4.7)\r\n",
      "Requirement already satisfied: pyparsing<3.1,>=2.3.1 in /Users/younesstrittmatter/Documents/GitHub/younesStrittmatter/princeton/PsyNeuLink/.venv/lib/python3.11/site-packages (from matplotlib<3.7.6->psyneulink) (3.0.9)\r\n",
      "Requirement already satisfied: python-dateutil>=2.7 in /Users/younesstrittmatter/Documents/GitHub/younesStrittmatter/princeton/PsyNeuLink/.venv/lib/python3.11/site-packages (from matplotlib<3.7.6->psyneulink) (2.9.0.post0)\r\n",
      "Requirement already satisfied: h5py in /Users/younesstrittmatter/Documents/GitHub/younesStrittmatter/princeton/PsyNeuLink/.venv/lib/python3.11/site-packages (from modeci_mdf<0.5,>=0.4.3->psyneulink) (3.11.0)\r\n",
      "Requirement already satisfied: onnxruntime in /Users/younesstrittmatter/Documents/GitHub/younesStrittmatter/princeton/PsyNeuLink/.venv/lib/python3.11/site-packages (from modeci_mdf<0.5,>=0.4.3->psyneulink) (1.19.2)\r\n",
      "Requirement already satisfied: onnx in /Users/younesstrittmatter/Documents/GitHub/younesStrittmatter/princeton/PsyNeuLink/.venv/lib/python3.11/site-packages (from modeci_mdf<0.5,>=0.4.3->psyneulink) (1.16.2)\r\n",
      "Requirement already satisfied: skl2onnx in /Users/younesstrittmatter/Documents/GitHub/younesStrittmatter/princeton/PsyNeuLink/.venv/lib/python3.11/site-packages (from modeci_mdf<0.5,>=0.4.3->psyneulink) (1.17.0)\r\n",
      "Requirement already satisfied: attrs>=21.1.0 in /Users/younesstrittmatter/Documents/GitHub/younesStrittmatter/princeton/PsyNeuLink/.venv/lib/python3.11/site-packages (from modeci_mdf<0.5,>=0.4.3->psyneulink) (24.2.0)\r\n",
      "Requirement already satisfied: cattrs in /Users/younesstrittmatter/Documents/GitHub/younesStrittmatter/princeton/PsyNeuLink/.venv/lib/python3.11/site-packages (from modeci_mdf<0.5,>=0.4.3->psyneulink) (24.1.0)\r\n",
      "Requirement already satisfied: modelspec<0.4,>=0.3.0 in /Users/younesstrittmatter/Documents/GitHub/younesStrittmatter/princeton/PsyNeuLink/.venv/lib/python3.11/site-packages (from modeci_mdf<0.5,>=0.4.3->psyneulink) (0.3.5)\r\n",
      "Requirement already satisfied: glom in /Users/younesstrittmatter/Documents/GitHub/younesStrittmatter/princeton/PsyNeuLink/.venv/lib/python3.11/site-packages (from modeci_mdf<0.5,>=0.4.3->psyneulink) (23.5.0)\r\n",
      "Requirement already satisfied: alembic>=1.5.0 in /Users/younesstrittmatter/Documents/GitHub/younesStrittmatter/princeton/PsyNeuLink/.venv/lib/python3.11/site-packages (from optuna<3.4.0->psyneulink) (1.13.2)\r\n",
      "Requirement already satisfied: cmaes>=0.10.0 in /Users/younesstrittmatter/Documents/GitHub/younesStrittmatter/princeton/PsyNeuLink/.venv/lib/python3.11/site-packages (from optuna<3.4.0->psyneulink) (0.11.1)\r\n",
      "Requirement already satisfied: colorlog in /Users/younesstrittmatter/Documents/GitHub/younesStrittmatter/princeton/PsyNeuLink/.venv/lib/python3.11/site-packages (from optuna<3.4.0->psyneulink) (6.8.2)\r\n",
      "Requirement already satisfied: sqlalchemy>=1.3.0 in /Users/younesstrittmatter/Documents/GitHub/younesStrittmatter/princeton/PsyNeuLink/.venv/lib/python3.11/site-packages (from optuna<3.4.0->psyneulink) (2.0.33)\r\n",
      "Requirement already satisfied: tqdm in /Users/younesstrittmatter/Documents/GitHub/younesStrittmatter/princeton/PsyNeuLink/.venv/lib/python3.11/site-packages (from optuna<3.4.0->psyneulink) (4.66.5)\r\n",
      "Requirement already satisfied: PyYAML in /Users/younesstrittmatter/Documents/GitHub/younesStrittmatter/princeton/PsyNeuLink/.venv/lib/python3.11/site-packages (from optuna<3.4.0->psyneulink) (6.0.2)\r\n",
      "Requirement already satisfied: pytz>=2020.1 in /Users/younesstrittmatter/Documents/GitHub/younesStrittmatter/princeton/PsyNeuLink/.venv/lib/python3.11/site-packages (from pandas<2.2.4->psyneulink) (2024.1)\r\n",
      "Requirement already satisfied: tzdata>=2022.7 in /Users/younesstrittmatter/Documents/GitHub/younesStrittmatter/princeton/PsyNeuLink/.venv/lib/python3.11/site-packages (from pandas<2.2.4->psyneulink) (2024.1)\r\n",
      "Requirement already satisfied: colorama<0.5.0,>=0.4.0 in /Users/younesstrittmatter/Documents/GitHub/younesStrittmatter/princeton/PsyNeuLink/.venv/lib/python3.11/site-packages (from rich<10.13,>=10.1->psyneulink) (0.4.6)\r\n",
      "Requirement already satisfied: commonmark<0.10.0,>=0.9.0 in /Users/younesstrittmatter/Documents/GitHub/younesStrittmatter/princeton/PsyNeuLink/.venv/lib/python3.11/site-packages (from rich<10.13,>=10.1->psyneulink) (0.9.1)\r\n",
      "Requirement already satisfied: pygments<3.0.0,>=2.6.0 in /Users/younesstrittmatter/Documents/GitHub/younesStrittmatter/princeton/PsyNeuLink/.venv/lib/python3.11/site-packages (from rich<10.13,>=10.1->psyneulink) (2.18.0)\r\n",
      "Requirement already satisfied: filelock in /Users/younesstrittmatter/Documents/GitHub/younesStrittmatter/princeton/PsyNeuLink/.venv/lib/python3.11/site-packages (from torch<2.5.0,>=1.10.0->psyneulink) (3.15.4)\r\n",
      "Requirement already satisfied: typing-extensions in /Users/younesstrittmatter/Documents/GitHub/younesStrittmatter/princeton/PsyNeuLink/.venv/lib/python3.11/site-packages (from torch<2.5.0,>=1.10.0->psyneulink) (4.12.2)\r\n",
      "Requirement already satisfied: sympy in /Users/younesstrittmatter/Documents/GitHub/younesStrittmatter/princeton/PsyNeuLink/.venv/lib/python3.11/site-packages (from torch<2.5.0,>=1.10.0->psyneulink) (1.13.2)\r\n",
      "Requirement already satisfied: jinja2 in /Users/younesstrittmatter/Documents/GitHub/younesStrittmatter/princeton/PsyNeuLink/.venv/lib/python3.11/site-packages (from torch<2.5.0,>=1.10.0->psyneulink) (3.1.4)\r\n",
      "Requirement already satisfied: fsspec in /Users/younesstrittmatter/Documents/GitHub/younesStrittmatter/princeton/PsyNeuLink/.venv/lib/python3.11/site-packages (from torch<2.5.0,>=1.10.0->psyneulink) (2024.6.1)\r\n",
      "Requirement already satisfied: Mako in /Users/younesstrittmatter/Documents/GitHub/younesStrittmatter/princeton/PsyNeuLink/.venv/lib/python3.11/site-packages (from alembic>=1.5.0->optuna<3.4.0->psyneulink) (1.3.5)\r\n",
      "Requirement already satisfied: tornado>=6.2 in /Users/younesstrittmatter/Documents/GitHub/younesStrittmatter/princeton/PsyNeuLink/.venv/lib/python3.11/site-packages (from bokeh>=0.12.6->leabra-psyneulink<0.3.3->psyneulink) (6.4.1)\r\n",
      "Requirement already satisfied: xyzservices>=2021.09.1 in /Users/younesstrittmatter/Documents/GitHub/younesStrittmatter/princeton/PsyNeuLink/.venv/lib/python3.11/site-packages (from bokeh>=0.12.6->leabra-psyneulink<0.3.3->psyneulink) (2024.9.0)\r\n",
      "Requirement already satisfied: comm>=0.1.3 in /Users/younesstrittmatter/Documents/GitHub/younesStrittmatter/princeton/PsyNeuLink/.venv/lib/python3.11/site-packages (from ipywidgets>=7.0->leabra-psyneulink<0.3.3->psyneulink) (0.2.2)\r\n",
      "Requirement already satisfied: ipython>=6.1.0 in /Users/younesstrittmatter/Documents/GitHub/younesStrittmatter/princeton/PsyNeuLink/.venv/lib/python3.11/site-packages (from ipywidgets>=7.0->leabra-psyneulink<0.3.3->psyneulink) (8.27.0)\r\n",
      "Requirement already satisfied: traitlets>=4.3.1 in /Users/younesstrittmatter/Documents/GitHub/younesStrittmatter/princeton/PsyNeuLink/.venv/lib/python3.11/site-packages (from ipywidgets>=7.0->leabra-psyneulink<0.3.3->psyneulink) (5.14.3)\r\n",
      "Requirement already satisfied: widgetsnbextension~=4.0.12 in /Users/younesstrittmatter/Documents/GitHub/younesStrittmatter/princeton/PsyNeuLink/.venv/lib/python3.11/site-packages (from ipywidgets>=7.0->leabra-psyneulink<0.3.3->psyneulink) (4.0.13)\r\n",
      "Requirement already satisfied: jupyterlab-widgets~=3.0.12 in /Users/younesstrittmatter/Documents/GitHub/younesStrittmatter/princeton/PsyNeuLink/.venv/lib/python3.11/site-packages (from ipywidgets>=7.0->leabra-psyneulink<0.3.3->psyneulink) (3.0.13)\r\n",
      "Requirement already satisfied: MarkupSafe>=2.0 in /Users/younesstrittmatter/Documents/GitHub/younesStrittmatter/princeton/PsyNeuLink/.venv/lib/python3.11/site-packages (from jinja2->torch<2.5.0,>=1.10.0->psyneulink) (2.1.5)\r\n",
      "Requirement already satisfied: pymongo in /Users/younesstrittmatter/Documents/GitHub/younesStrittmatter/princeton/PsyNeuLink/.venv/lib/python3.11/site-packages (from modelspec<0.4,>=0.3.0->modeci_mdf<0.5,>=0.4.3->psyneulink) (4.8.0)\r\n",
      "Requirement already satisfied: tabulate in /Users/younesstrittmatter/Documents/GitHub/younesStrittmatter/princeton/PsyNeuLink/.venv/lib/python3.11/site-packages (from modelspec<0.4,>=0.3.0->modeci_mdf<0.5,>=0.4.3->psyneulink) (0.9.0)\r\n",
      "Requirement already satisfied: docstring-parser in /Users/younesstrittmatter/Documents/GitHub/younesStrittmatter/princeton/PsyNeuLink/.venv/lib/python3.11/site-packages (from modelspec<0.4,>=0.3.0->modeci_mdf<0.5,>=0.4.3->psyneulink) (0.16)\r\n",
      "Requirement already satisfied: six>=1.5 in /Users/younesstrittmatter/Documents/GitHub/younesStrittmatter/princeton/PsyNeuLink/.venv/lib/python3.11/site-packages (from python-dateutil>=2.7->matplotlib<3.7.6->psyneulink) (1.16.0)\r\n",
      "Requirement already satisfied: boltons>=19.3.0 in /Users/younesstrittmatter/Documents/GitHub/younesStrittmatter/princeton/PsyNeuLink/.venv/lib/python3.11/site-packages (from glom->modeci_mdf<0.5,>=0.4.3->psyneulink) (24.0.0)\r\n",
      "Requirement already satisfied: face==20.1.1 in /Users/younesstrittmatter/Documents/GitHub/younesStrittmatter/princeton/PsyNeuLink/.venv/lib/python3.11/site-packages (from glom->modeci_mdf<0.5,>=0.4.3->psyneulink) (20.1.1)\r\n",
      "Requirement already satisfied: notebook in /Users/younesstrittmatter/Documents/GitHub/younesStrittmatter/princeton/PsyNeuLink/.venv/lib/python3.11/site-packages (from jupyter->leabra-psyneulink<0.3.3->psyneulink) (7.2.2)\r\n",
      "Requirement already satisfied: jupyter-console in /Users/younesstrittmatter/Documents/GitHub/younesStrittmatter/princeton/PsyNeuLink/.venv/lib/python3.11/site-packages (from jupyter->leabra-psyneulink<0.3.3->psyneulink) (6.6.3)\r\n",
      "Requirement already satisfied: nbconvert in /Users/younesstrittmatter/Documents/GitHub/younesStrittmatter/princeton/PsyNeuLink/.venv/lib/python3.11/site-packages (from jupyter->leabra-psyneulink<0.3.3->psyneulink) (7.16.4)\r\n",
      "Requirement already satisfied: ipykernel in /Users/younesstrittmatter/Documents/GitHub/younesStrittmatter/princeton/PsyNeuLink/.venv/lib/python3.11/site-packages (from jupyter->leabra-psyneulink<0.3.3->psyneulink) (6.29.5)\r\n",
      "Requirement already satisfied: jupyterlab in /Users/younesstrittmatter/Documents/GitHub/younesStrittmatter/princeton/PsyNeuLink/.venv/lib/python3.11/site-packages (from jupyter->leabra-psyneulink<0.3.3->psyneulink) (4.2.5)\r\n",
      "Requirement already satisfied: coloredlogs in /Users/younesstrittmatter/Documents/GitHub/younesStrittmatter/princeton/PsyNeuLink/.venv/lib/python3.11/site-packages (from onnxruntime->modeci_mdf<0.5,>=0.4.3->psyneulink) (15.0.1)\r\n",
      "Requirement already satisfied: flatbuffers in /Users/younesstrittmatter/Documents/GitHub/younesStrittmatter/princeton/PsyNeuLink/.venv/lib/python3.11/site-packages (from onnxruntime->modeci_mdf<0.5,>=0.4.3->psyneulink) (24.3.25)\r\n",
      "Requirement already satisfied: scikit-learn>=1.1 in /Users/younesstrittmatter/Documents/GitHub/younesStrittmatter/princeton/PsyNeuLink/.venv/lib/python3.11/site-packages (from skl2onnx->modeci_mdf<0.5,>=0.4.3->psyneulink) (1.5.1)\r\n",
      "Requirement already satisfied: onnxconverter-common>=1.7.0 in /Users/younesstrittmatter/Documents/GitHub/younesStrittmatter/princeton/PsyNeuLink/.venv/lib/python3.11/site-packages (from skl2onnx->modeci_mdf<0.5,>=0.4.3->psyneulink) (1.14.0)\r\n",
      "Requirement already satisfied: mpmath<1.4,>=1.1.0 in /Users/younesstrittmatter/Documents/GitHub/younesStrittmatter/princeton/PsyNeuLink/.venv/lib/python3.11/site-packages (from sympy->torch<2.5.0,>=1.10.0->psyneulink) (1.3.0)\r\n",
      "Requirement already satisfied: decorator in /Users/younesstrittmatter/Documents/GitHub/younesStrittmatter/princeton/PsyNeuLink/.venv/lib/python3.11/site-packages (from ipython>=6.1.0->ipywidgets>=7.0->leabra-psyneulink<0.3.3->psyneulink) (5.1.1)\r\n",
      "Requirement already satisfied: jedi>=0.16 in /Users/younesstrittmatter/Documents/GitHub/younesStrittmatter/princeton/PsyNeuLink/.venv/lib/python3.11/site-packages (from ipython>=6.1.0->ipywidgets>=7.0->leabra-psyneulink<0.3.3->psyneulink) (0.19.1)\r\n",
      "Requirement already satisfied: matplotlib-inline in /Users/younesstrittmatter/Documents/GitHub/younesStrittmatter/princeton/PsyNeuLink/.venv/lib/python3.11/site-packages (from ipython>=6.1.0->ipywidgets>=7.0->leabra-psyneulink<0.3.3->psyneulink) (0.1.7)\r\n",
      "Requirement already satisfied: prompt-toolkit<3.1.0,>=3.0.41 in /Users/younesstrittmatter/Documents/GitHub/younesStrittmatter/princeton/PsyNeuLink/.venv/lib/python3.11/site-packages (from ipython>=6.1.0->ipywidgets>=7.0->leabra-psyneulink<0.3.3->psyneulink) (3.0.47)\r\n",
      "Requirement already satisfied: stack-data in /Users/younesstrittmatter/Documents/GitHub/younesStrittmatter/princeton/PsyNeuLink/.venv/lib/python3.11/site-packages (from ipython>=6.1.0->ipywidgets>=7.0->leabra-psyneulink<0.3.3->psyneulink) (0.6.3)\r\n",
      "Requirement already satisfied: pexpect>4.3 in /Users/younesstrittmatter/Documents/GitHub/younesStrittmatter/princeton/PsyNeuLink/.venv/lib/python3.11/site-packages (from ipython>=6.1.0->ipywidgets>=7.0->leabra-psyneulink<0.3.3->psyneulink) (4.9.0)\r\n",
      "Requirement already satisfied: joblib>=1.2.0 in /Users/younesstrittmatter/Documents/GitHub/younesStrittmatter/princeton/PsyNeuLink/.venv/lib/python3.11/site-packages (from scikit-learn>=1.1->skl2onnx->modeci_mdf<0.5,>=0.4.3->psyneulink) (1.4.2)\r\n",
      "Requirement already satisfied: threadpoolctl>=3.1.0 in /Users/younesstrittmatter/Documents/GitHub/younesStrittmatter/princeton/PsyNeuLink/.venv/lib/python3.11/site-packages (from scikit-learn>=1.1->skl2onnx->modeci_mdf<0.5,>=0.4.3->psyneulink) (3.5.0)\r\n",
      "Requirement already satisfied: humanfriendly>=9.1 in /Users/younesstrittmatter/Documents/GitHub/younesStrittmatter/princeton/PsyNeuLink/.venv/lib/python3.11/site-packages (from coloredlogs->onnxruntime->modeci_mdf<0.5,>=0.4.3->psyneulink) (10.0)\r\n",
      "Requirement already satisfied: appnope in /Users/younesstrittmatter/Documents/GitHub/younesStrittmatter/princeton/PsyNeuLink/.venv/lib/python3.11/site-packages (from ipykernel->jupyter->leabra-psyneulink<0.3.3->psyneulink) (0.1.4)\r\n",
      "Requirement already satisfied: debugpy>=1.6.5 in /Users/younesstrittmatter/Documents/GitHub/younesStrittmatter/princeton/PsyNeuLink/.venv/lib/python3.11/site-packages (from ipykernel->jupyter->leabra-psyneulink<0.3.3->psyneulink) (1.8.5)\r\n",
      "Requirement already satisfied: jupyter-client>=6.1.12 in /Users/younesstrittmatter/Documents/GitHub/younesStrittmatter/princeton/PsyNeuLink/.venv/lib/python3.11/site-packages (from ipykernel->jupyter->leabra-psyneulink<0.3.3->psyneulink) (8.6.2)\r\n",
      "Requirement already satisfied: jupyter-core!=5.0.*,>=4.12 in /Users/younesstrittmatter/Documents/GitHub/younesStrittmatter/princeton/PsyNeuLink/.venv/lib/python3.11/site-packages (from ipykernel->jupyter->leabra-psyneulink<0.3.3->psyneulink) (5.7.2)\r\n",
      "Requirement already satisfied: nest-asyncio in /Users/younesstrittmatter/Documents/GitHub/younesStrittmatter/princeton/PsyNeuLink/.venv/lib/python3.11/site-packages (from ipykernel->jupyter->leabra-psyneulink<0.3.3->psyneulink) (1.6.0)\r\n",
      "Requirement already satisfied: psutil in /Users/younesstrittmatter/Documents/GitHub/younesStrittmatter/princeton/PsyNeuLink/.venv/lib/python3.11/site-packages (from ipykernel->jupyter->leabra-psyneulink<0.3.3->psyneulink) (6.0.0)\r\n",
      "Requirement already satisfied: pyzmq>=24 in /Users/younesstrittmatter/Documents/GitHub/younesStrittmatter/princeton/PsyNeuLink/.venv/lib/python3.11/site-packages (from ipykernel->jupyter->leabra-psyneulink<0.3.3->psyneulink) (26.2.0)\r\n",
      "Requirement already satisfied: async-lru>=1.0.0 in /Users/younesstrittmatter/Documents/GitHub/younesStrittmatter/princeton/PsyNeuLink/.venv/lib/python3.11/site-packages (from jupyterlab->jupyter->leabra-psyneulink<0.3.3->psyneulink) (2.0.4)\r\n",
      "Requirement already satisfied: httpx>=0.25.0 in /Users/younesstrittmatter/Documents/GitHub/younesStrittmatter/princeton/PsyNeuLink/.venv/lib/python3.11/site-packages (from jupyterlab->jupyter->leabra-psyneulink<0.3.3->psyneulink) (0.27.2)\r\n",
      "Requirement already satisfied: jupyter-lsp>=2.0.0 in /Users/younesstrittmatter/Documents/GitHub/younesStrittmatter/princeton/PsyNeuLink/.venv/lib/python3.11/site-packages (from jupyterlab->jupyter->leabra-psyneulink<0.3.3->psyneulink) (2.2.5)\r\n",
      "Requirement already satisfied: jupyter-server<3,>=2.4.0 in /Users/younesstrittmatter/Documents/GitHub/younesStrittmatter/princeton/PsyNeuLink/.venv/lib/python3.11/site-packages (from jupyterlab->jupyter->leabra-psyneulink<0.3.3->psyneulink) (2.14.2)\r\n",
      "Requirement already satisfied: jupyterlab-server<3,>=2.27.1 in /Users/younesstrittmatter/Documents/GitHub/younesStrittmatter/princeton/PsyNeuLink/.venv/lib/python3.11/site-packages (from jupyterlab->jupyter->leabra-psyneulink<0.3.3->psyneulink) (2.27.3)\r\n",
      "Requirement already satisfied: notebook-shim>=0.2 in /Users/younesstrittmatter/Documents/GitHub/younesStrittmatter/princeton/PsyNeuLink/.venv/lib/python3.11/site-packages (from jupyterlab->jupyter->leabra-psyneulink<0.3.3->psyneulink) (0.2.4)\r\n",
      "Requirement already satisfied: setuptools>=40.1.0 in /Users/younesstrittmatter/Documents/GitHub/younesStrittmatter/princeton/PsyNeuLink/.venv/lib/python3.11/site-packages (from jupyterlab->jupyter->leabra-psyneulink<0.3.3->psyneulink) (68.0.0)\r\n",
      "Requirement already satisfied: beautifulsoup4 in /Users/younesstrittmatter/Documents/GitHub/younesStrittmatter/princeton/PsyNeuLink/.venv/lib/python3.11/site-packages (from nbconvert->jupyter->leabra-psyneulink<0.3.3->psyneulink) (4.12.3)\r\n",
      "Requirement already satisfied: bleach!=5.0.0 in /Users/younesstrittmatter/Documents/GitHub/younesStrittmatter/princeton/PsyNeuLink/.venv/lib/python3.11/site-packages (from nbconvert->jupyter->leabra-psyneulink<0.3.3->psyneulink) (6.1.0)\r\n",
      "Requirement already satisfied: defusedxml in /Users/younesstrittmatter/Documents/GitHub/younesStrittmatter/princeton/PsyNeuLink/.venv/lib/python3.11/site-packages (from nbconvert->jupyter->leabra-psyneulink<0.3.3->psyneulink) (0.7.1)\r\n",
      "Requirement already satisfied: jupyterlab-pygments in /Users/younesstrittmatter/Documents/GitHub/younesStrittmatter/princeton/PsyNeuLink/.venv/lib/python3.11/site-packages (from nbconvert->jupyter->leabra-psyneulink<0.3.3->psyneulink) (0.3.0)\r\n",
      "Requirement already satisfied: mistune<4,>=2.0.3 in /Users/younesstrittmatter/Documents/GitHub/younesStrittmatter/princeton/PsyNeuLink/.venv/lib/python3.11/site-packages (from nbconvert->jupyter->leabra-psyneulink<0.3.3->psyneulink) (3.0.2)\r\n",
      "Requirement already satisfied: nbclient>=0.5.0 in /Users/younesstrittmatter/Documents/GitHub/younesStrittmatter/princeton/PsyNeuLink/.venv/lib/python3.11/site-packages (from nbconvert->jupyter->leabra-psyneulink<0.3.3->psyneulink) (0.10.0)\r\n",
      "Requirement already satisfied: nbformat>=5.7 in /Users/younesstrittmatter/Documents/GitHub/younesStrittmatter/princeton/PsyNeuLink/.venv/lib/python3.11/site-packages (from nbconvert->jupyter->leabra-psyneulink<0.3.3->psyneulink) (5.10.4)\r\n",
      "Requirement already satisfied: pandocfilters>=1.4.1 in /Users/younesstrittmatter/Documents/GitHub/younesStrittmatter/princeton/PsyNeuLink/.venv/lib/python3.11/site-packages (from nbconvert->jupyter->leabra-psyneulink<0.3.3->psyneulink) (1.5.1)\r\n",
      "Requirement already satisfied: tinycss2 in /Users/younesstrittmatter/Documents/GitHub/younesStrittmatter/princeton/PsyNeuLink/.venv/lib/python3.11/site-packages (from nbconvert->jupyter->leabra-psyneulink<0.3.3->psyneulink) (1.3.0)\r\n",
      "Requirement already satisfied: dnspython<3.0.0,>=1.16.0 in /Users/younesstrittmatter/Documents/GitHub/younesStrittmatter/princeton/PsyNeuLink/.venv/lib/python3.11/site-packages (from pymongo->modelspec<0.4,>=0.3.0->modeci_mdf<0.5,>=0.4.3->psyneulink) (2.6.1)\r\n",
      "Requirement already satisfied: webencodings in /Users/younesstrittmatter/Documents/GitHub/younesStrittmatter/princeton/PsyNeuLink/.venv/lib/python3.11/site-packages (from bleach!=5.0.0->nbconvert->jupyter->leabra-psyneulink<0.3.3->psyneulink) (0.5.1)\r\n",
      "Requirement already satisfied: anyio in /Users/younesstrittmatter/Documents/GitHub/younesStrittmatter/princeton/PsyNeuLink/.venv/lib/python3.11/site-packages (from httpx>=0.25.0->jupyterlab->jupyter->leabra-psyneulink<0.3.3->psyneulink) (4.4.0)\r\n",
      "Requirement already satisfied: certifi in /Users/younesstrittmatter/Documents/GitHub/younesStrittmatter/princeton/PsyNeuLink/.venv/lib/python3.11/site-packages (from httpx>=0.25.0->jupyterlab->jupyter->leabra-psyneulink<0.3.3->psyneulink) (2024.8.30)\r\n",
      "Requirement already satisfied: httpcore==1.* in /Users/younesstrittmatter/Documents/GitHub/younesStrittmatter/princeton/PsyNeuLink/.venv/lib/python3.11/site-packages (from httpx>=0.25.0->jupyterlab->jupyter->leabra-psyneulink<0.3.3->psyneulink) (1.0.5)\r\n",
      "Requirement already satisfied: idna in /Users/younesstrittmatter/Documents/GitHub/younesStrittmatter/princeton/PsyNeuLink/.venv/lib/python3.11/site-packages (from httpx>=0.25.0->jupyterlab->jupyter->leabra-psyneulink<0.3.3->psyneulink) (3.8)\r\n",
      "Requirement already satisfied: sniffio in /Users/younesstrittmatter/Documents/GitHub/younesStrittmatter/princeton/PsyNeuLink/.venv/lib/python3.11/site-packages (from httpx>=0.25.0->jupyterlab->jupyter->leabra-psyneulink<0.3.3->psyneulink) (1.3.1)\r\n",
      "Requirement already satisfied: h11<0.15,>=0.13 in /Users/younesstrittmatter/Documents/GitHub/younesStrittmatter/princeton/PsyNeuLink/.venv/lib/python3.11/site-packages (from httpcore==1.*->httpx>=0.25.0->jupyterlab->jupyter->leabra-psyneulink<0.3.3->psyneulink) (0.14.0)\r\n",
      "Requirement already satisfied: parso<0.9.0,>=0.8.3 in /Users/younesstrittmatter/Documents/GitHub/younesStrittmatter/princeton/PsyNeuLink/.venv/lib/python3.11/site-packages (from jedi>=0.16->ipython>=6.1.0->ipywidgets>=7.0->leabra-psyneulink<0.3.3->psyneulink) (0.8.4)\r\n",
      "Requirement already satisfied: platformdirs>=2.5 in /Users/younesstrittmatter/Documents/GitHub/younesStrittmatter/princeton/PsyNeuLink/.venv/lib/python3.11/site-packages (from jupyter-core!=5.0.*,>=4.12->ipykernel->jupyter->leabra-psyneulink<0.3.3->psyneulink) (4.2.2)\r\n",
      "Requirement already satisfied: argon2-cffi>=21.1 in /Users/younesstrittmatter/Documents/GitHub/younesStrittmatter/princeton/PsyNeuLink/.venv/lib/python3.11/site-packages (from jupyter-server<3,>=2.4.0->jupyterlab->jupyter->leabra-psyneulink<0.3.3->psyneulink) (23.1.0)\r\n",
      "Requirement already satisfied: jupyter-events>=0.9.0 in /Users/younesstrittmatter/Documents/GitHub/younesStrittmatter/princeton/PsyNeuLink/.venv/lib/python3.11/site-packages (from jupyter-server<3,>=2.4.0->jupyterlab->jupyter->leabra-psyneulink<0.3.3->psyneulink) (0.10.0)\r\n",
      "Requirement already satisfied: jupyter-server-terminals>=0.4.4 in /Users/younesstrittmatter/Documents/GitHub/younesStrittmatter/princeton/PsyNeuLink/.venv/lib/python3.11/site-packages (from jupyter-server<3,>=2.4.0->jupyterlab->jupyter->leabra-psyneulink<0.3.3->psyneulink) (0.5.3)\r\n",
      "Requirement already satisfied: overrides>=5.0 in /Users/younesstrittmatter/Documents/GitHub/younesStrittmatter/princeton/PsyNeuLink/.venv/lib/python3.11/site-packages (from jupyter-server<3,>=2.4.0->jupyterlab->jupyter->leabra-psyneulink<0.3.3->psyneulink) (7.7.0)\r\n",
      "Requirement already satisfied: prometheus-client>=0.9 in /Users/younesstrittmatter/Documents/GitHub/younesStrittmatter/princeton/PsyNeuLink/.venv/lib/python3.11/site-packages (from jupyter-server<3,>=2.4.0->jupyterlab->jupyter->leabra-psyneulink<0.3.3->psyneulink) (0.20.0)\r\n",
      "Requirement already satisfied: send2trash>=1.8.2 in /Users/younesstrittmatter/Documents/GitHub/younesStrittmatter/princeton/PsyNeuLink/.venv/lib/python3.11/site-packages (from jupyter-server<3,>=2.4.0->jupyterlab->jupyter->leabra-psyneulink<0.3.3->psyneulink) (1.8.3)\r\n",
      "Requirement already satisfied: terminado>=0.8.3 in /Users/younesstrittmatter/Documents/GitHub/younesStrittmatter/princeton/PsyNeuLink/.venv/lib/python3.11/site-packages (from jupyter-server<3,>=2.4.0->jupyterlab->jupyter->leabra-psyneulink<0.3.3->psyneulink) (0.18.1)\r\n",
      "Requirement already satisfied: websocket-client>=1.7 in /Users/younesstrittmatter/Documents/GitHub/younesStrittmatter/princeton/PsyNeuLink/.venv/lib/python3.11/site-packages (from jupyter-server<3,>=2.4.0->jupyterlab->jupyter->leabra-psyneulink<0.3.3->psyneulink) (1.8.0)\r\n",
      "Requirement already satisfied: babel>=2.10 in /Users/younesstrittmatter/Documents/GitHub/younesStrittmatter/princeton/PsyNeuLink/.venv/lib/python3.11/site-packages (from jupyterlab-server<3,>=2.27.1->jupyterlab->jupyter->leabra-psyneulink<0.3.3->psyneulink) (2.16.0)\r\n",
      "Requirement already satisfied: json5>=0.9.0 in /Users/younesstrittmatter/Documents/GitHub/younesStrittmatter/princeton/PsyNeuLink/.venv/lib/python3.11/site-packages (from jupyterlab-server<3,>=2.27.1->jupyterlab->jupyter->leabra-psyneulink<0.3.3->psyneulink) (0.9.25)\r\n",
      "Requirement already satisfied: jsonschema>=4.18.0 in /Users/younesstrittmatter/Documents/GitHub/younesStrittmatter/princeton/PsyNeuLink/.venv/lib/python3.11/site-packages (from jupyterlab-server<3,>=2.27.1->jupyterlab->jupyter->leabra-psyneulink<0.3.3->psyneulink) (4.23.0)\r\n",
      "Requirement already satisfied: requests>=2.31 in /Users/younesstrittmatter/Documents/GitHub/younesStrittmatter/princeton/PsyNeuLink/.venv/lib/python3.11/site-packages (from jupyterlab-server<3,>=2.27.1->jupyterlab->jupyter->leabra-psyneulink<0.3.3->psyneulink) (2.32.3)\r\n",
      "Requirement already satisfied: fastjsonschema>=2.15 in /Users/younesstrittmatter/Documents/GitHub/younesStrittmatter/princeton/PsyNeuLink/.venv/lib/python3.11/site-packages (from nbformat>=5.7->nbconvert->jupyter->leabra-psyneulink<0.3.3->psyneulink) (2.20.0)\r\n",
      "Requirement already satisfied: ptyprocess>=0.5 in /Users/younesstrittmatter/Documents/GitHub/younesStrittmatter/princeton/PsyNeuLink/.venv/lib/python3.11/site-packages (from pexpect>4.3->ipython>=6.1.0->ipywidgets>=7.0->leabra-psyneulink<0.3.3->psyneulink) (0.7.0)\r\n",
      "Requirement already satisfied: wcwidth in /Users/younesstrittmatter/Documents/GitHub/younesStrittmatter/princeton/PsyNeuLink/.venv/lib/python3.11/site-packages (from prompt-toolkit<3.1.0,>=3.0.41->ipython>=6.1.0->ipywidgets>=7.0->leabra-psyneulink<0.3.3->psyneulink) (0.2.13)\r\n",
      "Requirement already satisfied: soupsieve>1.2 in /Users/younesstrittmatter/Documents/GitHub/younesStrittmatter/princeton/PsyNeuLink/.venv/lib/python3.11/site-packages (from beautifulsoup4->nbconvert->jupyter->leabra-psyneulink<0.3.3->psyneulink) (2.6)\r\n",
      "Requirement already satisfied: executing>=1.2.0 in /Users/younesstrittmatter/Documents/GitHub/younesStrittmatter/princeton/PsyNeuLink/.venv/lib/python3.11/site-packages (from stack-data->ipython>=6.1.0->ipywidgets>=7.0->leabra-psyneulink<0.3.3->psyneulink) (2.1.0)\r\n",
      "Requirement already satisfied: asttokens>=2.1.0 in /Users/younesstrittmatter/Documents/GitHub/younesStrittmatter/princeton/PsyNeuLink/.venv/lib/python3.11/site-packages (from stack-data->ipython>=6.1.0->ipywidgets>=7.0->leabra-psyneulink<0.3.3->psyneulink) (2.4.1)\r\n",
      "Requirement already satisfied: pure-eval in /Users/younesstrittmatter/Documents/GitHub/younesStrittmatter/princeton/PsyNeuLink/.venv/lib/python3.11/site-packages (from stack-data->ipython>=6.1.0->ipywidgets>=7.0->leabra-psyneulink<0.3.3->psyneulink) (0.2.3)\r\n",
      "Requirement already satisfied: argon2-cffi-bindings in /Users/younesstrittmatter/Documents/GitHub/younesStrittmatter/princeton/PsyNeuLink/.venv/lib/python3.11/site-packages (from argon2-cffi>=21.1->jupyter-server<3,>=2.4.0->jupyterlab->jupyter->leabra-psyneulink<0.3.3->psyneulink) (21.2.0)\r\n",
      "Requirement already satisfied: jsonschema-specifications>=2023.03.6 in /Users/younesstrittmatter/Documents/GitHub/younesStrittmatter/princeton/PsyNeuLink/.venv/lib/python3.11/site-packages (from jsonschema>=4.18.0->jupyterlab-server<3,>=2.27.1->jupyterlab->jupyter->leabra-psyneulink<0.3.3->psyneulink) (2023.12.1)\r\n",
      "Requirement already satisfied: referencing>=0.28.4 in /Users/younesstrittmatter/Documents/GitHub/younesStrittmatter/princeton/PsyNeuLink/.venv/lib/python3.11/site-packages (from jsonschema>=4.18.0->jupyterlab-server<3,>=2.27.1->jupyterlab->jupyter->leabra-psyneulink<0.3.3->psyneulink) (0.35.1)\r\n",
      "Requirement already satisfied: rpds-py>=0.7.1 in /Users/younesstrittmatter/Documents/GitHub/younesStrittmatter/princeton/PsyNeuLink/.venv/lib/python3.11/site-packages (from jsonschema>=4.18.0->jupyterlab-server<3,>=2.27.1->jupyterlab->jupyter->leabra-psyneulink<0.3.3->psyneulink) (0.20.0)\r\n",
      "Requirement already satisfied: python-json-logger>=2.0.4 in /Users/younesstrittmatter/Documents/GitHub/younesStrittmatter/princeton/PsyNeuLink/.venv/lib/python3.11/site-packages (from jupyter-events>=0.9.0->jupyter-server<3,>=2.4.0->jupyterlab->jupyter->leabra-psyneulink<0.3.3->psyneulink) (2.0.7)\r\n",
      "Requirement already satisfied: rfc3339-validator in /Users/younesstrittmatter/Documents/GitHub/younesStrittmatter/princeton/PsyNeuLink/.venv/lib/python3.11/site-packages (from jupyter-events>=0.9.0->jupyter-server<3,>=2.4.0->jupyterlab->jupyter->leabra-psyneulink<0.3.3->psyneulink) (0.1.4)\r\n",
      "Requirement already satisfied: rfc3986-validator>=0.1.1 in /Users/younesstrittmatter/Documents/GitHub/younesStrittmatter/princeton/PsyNeuLink/.venv/lib/python3.11/site-packages (from jupyter-events>=0.9.0->jupyter-server<3,>=2.4.0->jupyterlab->jupyter->leabra-psyneulink<0.3.3->psyneulink) (0.1.1)\r\n",
      "Requirement already satisfied: charset-normalizer<4,>=2 in /Users/younesstrittmatter/Documents/GitHub/younesStrittmatter/princeton/PsyNeuLink/.venv/lib/python3.11/site-packages (from requests>=2.31->jupyterlab-server<3,>=2.27.1->jupyterlab->jupyter->leabra-psyneulink<0.3.3->psyneulink) (3.3.2)\r\n",
      "Requirement already satisfied: urllib3<3,>=1.21.1 in /Users/younesstrittmatter/Documents/GitHub/younesStrittmatter/princeton/PsyNeuLink/.venv/lib/python3.11/site-packages (from requests>=2.31->jupyterlab-server<3,>=2.27.1->jupyterlab->jupyter->leabra-psyneulink<0.3.3->psyneulink) (2.2.2)\r\n",
      "Requirement already satisfied: fqdn in /Users/younesstrittmatter/Documents/GitHub/younesStrittmatter/princeton/PsyNeuLink/.venv/lib/python3.11/site-packages (from jsonschema>=4.18.0->jupyterlab-server<3,>=2.27.1->jupyterlab->jupyter->leabra-psyneulink<0.3.3->psyneulink) (1.5.1)\r\n",
      "Requirement already satisfied: isoduration in /Users/younesstrittmatter/Documents/GitHub/younesStrittmatter/princeton/PsyNeuLink/.venv/lib/python3.11/site-packages (from jsonschema>=4.18.0->jupyterlab-server<3,>=2.27.1->jupyterlab->jupyter->leabra-psyneulink<0.3.3->psyneulink) (20.11.0)\r\n",
      "Requirement already satisfied: jsonpointer>1.13 in /Users/younesstrittmatter/Documents/GitHub/younesStrittmatter/princeton/PsyNeuLink/.venv/lib/python3.11/site-packages (from jsonschema>=4.18.0->jupyterlab-server<3,>=2.27.1->jupyterlab->jupyter->leabra-psyneulink<0.3.3->psyneulink) (3.0.0)\r\n",
      "Requirement already satisfied: uri-template in /Users/younesstrittmatter/Documents/GitHub/younesStrittmatter/princeton/PsyNeuLink/.venv/lib/python3.11/site-packages (from jsonschema>=4.18.0->jupyterlab-server<3,>=2.27.1->jupyterlab->jupyter->leabra-psyneulink<0.3.3->psyneulink) (1.3.0)\r\n",
      "Requirement already satisfied: webcolors>=24.6.0 in /Users/younesstrittmatter/Documents/GitHub/younesStrittmatter/princeton/PsyNeuLink/.venv/lib/python3.11/site-packages (from jsonschema>=4.18.0->jupyterlab-server<3,>=2.27.1->jupyterlab->jupyter->leabra-psyneulink<0.3.3->psyneulink) (24.8.0)\r\n",
      "Requirement already satisfied: cffi>=1.0.1 in /Users/younesstrittmatter/Documents/GitHub/younesStrittmatter/princeton/PsyNeuLink/.venv/lib/python3.11/site-packages (from argon2-cffi-bindings->argon2-cffi>=21.1->jupyter-server<3,>=2.4.0->jupyterlab->jupyter->leabra-psyneulink<0.3.3->psyneulink) (1.17.0)\r\n",
      "Requirement already satisfied: pycparser in /Users/younesstrittmatter/Documents/GitHub/younesStrittmatter/princeton/PsyNeuLink/.venv/lib/python3.11/site-packages (from cffi>=1.0.1->argon2-cffi-bindings->argon2-cffi>=21.1->jupyter-server<3,>=2.4.0->jupyterlab->jupyter->leabra-psyneulink<0.3.3->psyneulink) (2.22)\r\n",
      "Requirement already satisfied: arrow>=0.15.0 in /Users/younesstrittmatter/Documents/GitHub/younesStrittmatter/princeton/PsyNeuLink/.venv/lib/python3.11/site-packages (from isoduration->jsonschema>=4.18.0->jupyterlab-server<3,>=2.27.1->jupyterlab->jupyter->leabra-psyneulink<0.3.3->psyneulink) (1.3.0)\r\n",
      "Requirement already satisfied: types-python-dateutil>=2.8.10 in /Users/younesstrittmatter/Documents/GitHub/younesStrittmatter/princeton/PsyNeuLink/.venv/lib/python3.11/site-packages (from arrow>=0.15.0->isoduration->jsonschema>=4.18.0->jupyterlab-server<3,>=2.27.1->jupyterlab->jupyter->leabra-psyneulink<0.3.3->psyneulink) (2.9.0.20240821)\r\n",
      "\r\n",
      "\u001B[1m[\u001B[0m\u001B[34;49mnotice\u001B[0m\u001B[1;39;49m]\u001B[0m\u001B[39;49m A new release of pip is available: \u001B[0m\u001B[31;49m23.1.2\u001B[0m\u001B[39;49m -> \u001B[0m\u001B[32;49m24.2\u001B[0m\r\n",
      "\u001B[1m[\u001B[0m\u001B[34;49mnotice\u001B[0m\u001B[1;39;49m]\u001B[0m\u001B[39;49m To update, run: \u001B[0m\u001B[32;49mpip install --upgrade pip\u001B[0m\r\n"
     ]
    }
   ],
   "execution_count": 20
  },
  {
   "cell_type": "code",
   "metadata": {
    "id": "Cw_2dcCfdoXB",
    "colab_type": "code",
    "colab": {},
    "ExecuteTime": {
     "end_time": "2024-09-27T02:32:45.951120Z",
     "start_time": "2024-09-27T02:32:45.946607Z"
    }
   },
   "source": [
    "import numpy as np\n",
    "import matplotlib.pyplot as plt\n",
    "%matplotlib inline"
   ],
   "outputs": [],
   "execution_count": 21
  },
  {
   "cell_type": "markdown",
   "metadata": {
    "id": "IMknYIZ0doXE",
    "colab_type": "text"
   },
   "source": [
    "### Creating a Mechanism\n",
    "\n",
    "*[Mechanisms](https://princetonuniversity.github.io/PsyNeuLink/Mechanism.html)* are the basic units of computation in PsyNeuLink. At their core is a parameterized *function* but they also contain the machinery to interact with input, output, control, and learning signals. Our first Mechanism will perform a linear transformation on a scalar input. For now, we will initialize it by just specifying the *function* of the Mechanism."
   ]
  },
  {
   "cell_type": "code",
   "metadata": {
    "id": "hbBADbLrdoXF",
    "colab_type": "code",
    "colab": {},
    "ExecuteTime": {
     "end_time": "2024-09-27T02:32:46.031769Z",
     "start_time": "2024-09-27T02:32:45.951940Z"
    }
   },
   "source": [
    "linear_transfer_mechanism = pnl.TransferMechanism(\n",
    "    function=pnl.Linear(slope=1, intercept=0))"
   ],
   "outputs": [],
   "execution_count": 22
  },
  {
   "cell_type": "markdown",
   "metadata": {
    "id": "gt0gGfYYdoXN",
    "colab_type": "text"
   },
   "source": [
    "In this case, we didn't actually need to specify the slope and intercept as the function will default to reasonable values (if we didn't specify, it would have defaulted to a slope of 1 and intercept of 0).  The function above has two parameters: slope and intercept.  If we wrote the equation as $y = ax + b$, $a$ is the slope, $b$ is the intercept, $x$ is the input, and $y$ is the output.  As a function, we write this $f(x) = ax + b$.  Note that you can change these parameter values of $a=1$ and $b=0$ to other numbers -- because parameters are variables within a function.  \n",
    "\n",
    "Some transfer functions other than Linear that you could use are `pnl.Exponential`, `pnl.Logistic`, or `pnl.SoftMax`. The exponential function raises a constant base to a variable exponent. The output of a logistic function is bounded between 0 and 1, and we'll learn a bit more about it later in this tutorial.  SoftMax is a more complex function that is often used in neural networks, and you don't need to understand how it works yet.     \n",
    "\n",
    "Next, let's try inputting the number 2 into our linear transfer Mechanism..."
   ]
  },
  {
   "cell_type": "code",
   "metadata": {
    "id": "EYzobUQjdoXI",
    "colab_type": "code",
    "outputId": "cdf049b2-2adf-4b36-a3a7-904a561f25c1",
    "colab": {
     "base_uri": "https://localhost:8080/",
     "height": 34
    },
    "ExecuteTime": {
     "end_time": "2024-09-27T02:32:46.042893Z",
     "start_time": "2024-09-27T02:32:46.034201Z"
    }
   },
   "source": [
    "linear_transfer_mechanism.execute([2])"
   ],
   "outputs": [
    {
     "data": {
      "text/plain": [
       "array([[2.]])"
      ]
     },
     "execution_count": 23,
     "metadata": {},
     "output_type": "execute_result"
    }
   ],
   "execution_count": 23
  },
  {
   "cell_type": "markdown",
   "metadata": {
    "id": "3Y68tW8WfY6E",
    "colab_type": "text"
   },
   "source": [
    "Try reparamaterizing the Mechanism (change the slope and/or intercept) and executing again before moving on...  \n",
    "\n",
    "If you change the slope to 3, run the code by pressing play, then change the input value to 4, what output do you get?  Why?  Can you predict what will happen if you change the slope to 4 and the intercept to 5 and run both cells again with an input of 3? \n",
    "\n",
    "Another way of expressing this function is $(slope x input) + intercept$. \n",
    "\n",
    "### Logistic Function\n",
    "\n",
    "The standard logistic function is defined as $f(x) = \\frac{1}{1 + e^{-x}}$\n",
    "\n",
    "Psyneulink allows us to adjust this function with the parameters scale, gain, bias, and offset:\n",
    "\n",
    "$scale * \\frac{1}{1 + e^{-gain * (variable + bias)} + offset}$\n",
    "\n",
    "The following cell plots a logistic function with the default parameters: $scale = 1$, $gain = 1$, $bias = 0$, and $offset = 0$.   "
   ]
  },
  {
   "cell_type": "code",
   "metadata": {
    "id": "2pSgoHcHfkoS",
    "colab_type": "code",
    "outputId": "ec35c2f8-0afa-4f0d-cf3f-afeb1ac356e6",
    "colab": {
     "base_uri": "https://localhost:8080/",
     "height": 269
    },
    "ExecuteTime": {
     "end_time": "2024-09-27T02:32:46.216210Z",
     "start_time": "2024-09-27T02:32:46.043603Z"
    }
   },
   "source": [
    "logistic_transfer_demo = pnl.TransferMechanism(function=pnl.Logistic(scale=1, gain=1, bias=0, offset=0))\n",
    "logistic_transfer_demo.plot()"
   ],
   "outputs": [
    {
     "data": {
      "text/plain": [
       "<Figure size 640x480 with 1 Axes>"
      ],
      "image/png": "[encoded data removed]"
     },
     "metadata": {},
     "output_type": "display_data"
    }
   ],
   "execution_count": 24
  },
  {
   "cell_type": "markdown",
   "metadata": {
    "id": "E8Y4AwEefsxw",
    "colab_type": "text"
   },
   "source": [
    "In the cell below you can plug a single number into this function and get an output value.  Your input corresponds to a point on the x axis, and the output is the corresponding y value (height of the point on the curve above the x you specified).   "
   ]
  },
  {
   "cell_type": "code",
   "metadata": {
    "id": "q6C_KmkEft-k",
    "colab_type": "code",
    "outputId": "4928c3b7-d58a-4648-fb6b-2e7609898882",
    "colab": {
     "base_uri": "https://localhost:8080/",
     "height": 34
    },
    "ExecuteTime": {
     "end_time": "2024-09-27T02:32:46.229140Z",
     "start_time": "2024-09-27T02:32:46.219538Z"
    }
   },
   "source": [
    "logistic_transfer_demo.execute([-2])"
   ],
   "outputs": [
    {
     "data": {
      "text/plain": [
       "array([[0.11920292]])"
      ]
     },
     "execution_count": 25,
     "metadata": {},
     "output_type": "execute_result"
    }
   ],
   "execution_count": 25
  },
  {
   "cell_type": "markdown",
   "metadata": {
    "id": "lBBsnUvaf2qk",
    "colab_type": "text"
   },
   "source": "The logistic function is useful because it is bounded between 0 and 1.  Gain determines how steep the central portion of the S-curve is, with higher values being steeper.  Bias shifts the curve left or right. You can turn the logistic function effectively into a step function that works as a threshold by increasing gain. The step in the step function (where it crosses through 0.5 on the y-axis) is located on the x-axis at $\\frac{offset}{gain} + bias$."
  },
  {
   "cell_type": "code",
   "metadata": {
    "id": "76xpYsiMf7Bw",
    "colab_type": "code",
    "outputId": "252c08d2-e098-45a9-8ec3-bee5f1d7cf89",
    "colab": {
     "base_uri": "https://localhost:8080/",
     "height": 269
    },
    "ExecuteTime": {
     "end_time": "2024-09-27T02:32:46.429709Z",
     "start_time": "2024-09-27T02:32:46.234722Z"
    }
   },
   "source": [
    "logistic_transfer_offgain = pnl.TransferMechanism(function=pnl.Logistic(gain=5,offset=10, bias=0))\n",
    "logistic_transfer_offgain.plot()"
   ],
   "outputs": [
    {
     "data": {
      "text/plain": [
       "<Figure size 640x480 with 1 Axes>"
      ],
      "image/png": "[encoded data removed]"
     },
     "metadata": {},
     "output_type": "display_data"
    }
   ],
   "execution_count": 26
  },
  {
   "cell_type": "markdown",
   "metadata": {
    "id": "Q1NbpKYef_zX",
    "colab_type": "text"
   },
   "source": "Negative values of gain mirror reverse the S-curve accross the vertical axis, centered at the x-value of $\\frac{offset}{gain} + bias$.  Below notice that $\\frac{offset}{gain}$ is -2 (10/-5), and at an x-value of -2 the y-value is 0.5 $(f(-2) = 0.5)$.  "
  },
  {
   "cell_type": "code",
   "metadata": {
    "id": "ouY4W0-VgAoy",
    "colab_type": "code",
    "outputId": "7e71b829-2035-4623-efa5-29b738ae4525",
    "colab": {
     "base_uri": "https://localhost:8080/",
     "height": 269
    },
    "ExecuteTime": {
     "end_time": "2024-09-27T02:32:46.557364Z",
     "start_time": "2024-09-27T02:32:46.430338Z"
    }
   },
   "source": [
    "logistic_transfer_invert = pnl.TransferMechanism(function=pnl.Logistic(gain=-5, bias=0, offset=10))\n",
    "logistic_transfer_invert.plot()"
   ],
   "outputs": [
    {
     "data": {
      "text/plain": [
       "<Figure size 640x480 with 1 Axes>"
      ],
      "image/png": "[encoded data removed]"
     },
     "metadata": {},
     "output_type": "display_data"
    }
   ],
   "execution_count": 27
  },
  {
   "cell_type": "markdown",
   "metadata": {
    "id": "pJYwFCtFgLL_",
    "colab_type": "text"
   },
   "source": [
    "### From Nodes to Graphs: Compositions\n",
    "\n",
    "Generally with PsyNeuLink, you won't be executing Mechanisms as stand-alone entities. Rather, Mechanisms will be nodes in a graph, with *Projections* as edges of the graph, connecting nodes.  We call the graph a *Composition*.    \n",
    "\n",
    "The simplest kind of Composition is one-dimensional: a linear progression from one node to the next. Information flowing through this graph will be entered as input, processed in the first Mechanism, transferred via Projection to the next Mechanism, and so on. You can think of this with an analogy to digestion. Chew the food first, then swallow it, and it is \"projected\" to the stomach. Then, the stomach soaks food in digestive acid to further break it down. Then, the output is projected to the small intestine, where nutrients are absorbed.  Note that the order matters -- the small intestine wouldn't be effective if the food hadn't been chewed and then broken down in the stomach. \n",
    "\n",
    "A Mechanism takes some input, performs a function, and delivers an output. The same is typically true for Compositions -- they take some input, perform multiple functions using multiple Mechanisms, and deliver some output. A powerful feature of this input-output architecture is that an entire composition today can become a Mechanism tomorrow as part of a more complex Composition, and that Composition can become a Mechanism in yet a more complex Composition all the way up. [Note: This is true in principle, but PsyNeuLink is actively under development, and such scaled-up functionality is not fully implemented.]\n",
    "\n",
    "The main parameter when initializing a Composition is its pathway, which is an ordered list of Mechanisms and Projections. Of course, with only one Mechanism in our current Composition, the list has just one element.\n",
    "\n",
    "To better see how the Composition runs, we can also turn on output reporting. Reporting can happen at every level in PsyNeuLink, and here we set the preference for the Mechanism."
   ]
  },
  {
   "cell_type": "code",
   "metadata": {
    "id": "Wy8RpatmdoXO",
    "colab_type": "code",
    "outputId": "d3e1287c-bae7-4340-e91c-5c51ba6c68d3",
    "colab": {
     "base_uri": "https://localhost:8080/",
     "height": 80
    },
    "ExecuteTime": {
     "end_time": "2024-09-27T02:32:46.811934Z",
     "start_time": "2024-09-27T02:32:46.558Z"
    }
   },
   "source": [
    "comp_simplest = pnl.Composition()\n",
    "comp_simplest.add_linear_processing_pathway(pathway = [linear_transfer_mechanism])\n",
    "                                          \n",
    "linear_transfer_mechanism.reportOutputPref = True\n",
    "comp_simplest.show_graph(output_fmt = 'jupyter')"
   ],
   "outputs": [
    {
     "data": {
      "image/svg+xml": "<?xml version=\"1.0\" encoding=\"UTF-8\" standalone=\"no\"?>\n<!DOCTYPE svg PUBLIC \"-//W3C//DTD SVG 1.1//EN\"\n \"http://www.w3.org/Graphics/SVG/1.1/DTD/svg11.dtd\">\n<!-- Generated by graphviz version 12.1.0 (20240811.2233)\n -->\n<!-- Title: Composition&#45;1 Pages: 1 -->\n<svg width=\"184pt\" height=\"69pt\"\n viewBox=\"0.00 0.00 183.86 68.50\" xmlns=\"http://www.w3.org/2000/svg\" xmlns:xlink=\"http://www.w3.org/1999/xlink\">\n<g id=\"graph0\" class=\"graph\" transform=\"scale(1 1) rotate(0) translate(4 64.5)\">\n<title>Composition&#45;1</title>\n<polygon fill=\"white\" stroke=\"none\" points=\"-4,4 -4,-64.5 179.86,-64.5 179.86,4 -4,4\"/>\n<text text-anchor=\"middle\" x=\"87.93\" y=\"-7.2\" font-family=\"Times,serif\" font-size=\"14.00\">Composition&#45;1</text>\n<!-- TransferMechanism&#45;14 -->\n<g id=\"node1\" class=\"node\">\n<title>TransferMechanism&#45;14</title>\n<ellipse fill=\"none\" stroke=\"brown\" stroke-width=\"3\" cx=\"87.93\" cy=\"-42.5\" rx=\"87.93\" ry=\"18\"/>\n<text text-anchor=\"middle\" x=\"87.93\" y=\"-38.23\" font-family=\"arial\" font-size=\"12.00\">TransferMechanism&#45;14</text>\n</g>\n</g>\n</svg>\n",
      "text/plain": [
       "<graphviz.graphs.Digraph at 0x158140890>"
      ]
     },
     "execution_count": 28,
     "metadata": {},
     "output_type": "execute_result"
    }
   ],
   "execution_count": 28
  },
  {
   "cell_type": "code",
   "metadata": {
    "id": "aUAu67OfdoXU",
    "colab_type": "code",
    "outputId": "b737679e-74dd-4d7b-e590-4ef3648514f3",
    "colab": {
     "base_uri": "https://localhost:8080/",
     "height": 323
    },
    "ExecuteTime": {
     "end_time": "2024-09-27T02:32:46.832580Z",
     "start_time": "2024-09-27T02:32:46.814299Z"
    }
   },
   "source": [
    "comp_simplest.run([4])"
   ],
   "outputs": [
    {
     "data": {
      "text/plain": [
       "array([[4.]])"
      ]
     },
     "execution_count": 29,
     "metadata": {},
     "output_type": "execute_result"
    }
   ],
   "execution_count": 29
  },
  {
   "cell_type": "markdown",
   "metadata": {
    "id": "Gn9BTx3AhKe1",
    "colab_type": "text"
   },
   "source": [
    "Let's turn off the reporting and look at our process' output over a wider range of values."
   ]
  },
  {
   "cell_type": "code",
   "metadata": {
    "id": "6s3wlnUPdoXX",
    "colab_type": "code",
    "outputId": "e33caf50-e257-4ee4-938e-cf4777f20a00",
    "colab": {
     "base_uri": "https://localhost:8080/",
     "height": 286
    },
    "ExecuteTime": {
     "end_time": "2024-09-27T02:32:54.670105Z",
     "start_time": "2024-09-27T02:32:54.257893Z"
    }
   },
   "source": [
    "linear_transfer_mechanism.reportOutputPref = False\n",
    "\n",
    "xVals = np.linspace(-3, 3, num=51) # create 51 points between -3 and +3\n",
    "yVals = np.zeros((51,))\n",
    "for i in range(xVals.shape[0]):\n",
    "    yVals[i] = comp_simplest.run([xVals[i]])[0]\n",
    "    # Progress bar\n",
    "    print(\"-\", end=\"\")\n",
    "plt.plot(xVals, yVals)\n",
    "plt.show()"
   ],
   "outputs": [
    {
     "name": "stdout",
     "output_type": "stream",
     "text": [
      "---------------------------------------------------"
     ]
    },
    {
     "data": {
      "text/plain": [
       "<Figure size 640x480 with 1 Axes>"
      ],
      "image/png": "[encoded data removed]"
     },
     "metadata": {},
     "output_type": "display_data"
    }
   ],
   "execution_count": 30
  },
  {
   "cell_type": "markdown",
   "metadata": {
    "id": "0FZlTGTJhkqq",
    "colab_type": "text"
   },
   "source": "Now let's put it all together and make a new transfer process, this time with a logistic activation function. We will also extend our Mechanism by giving it two units (operating on a 1x2 matrix) rather than the default one (operating on a scalar)."
  },
  {
   "cell_type": "code",
   "metadata": {
    "id": "k3h7k2wIdoXb",
    "colab_type": "code",
    "outputId": "502edb72-a2b2-49c5-cef0-6ea30f1d3dd0",
    "colab": {
     "base_uri": "https://localhost:8080/",
     "height": 286
    }
   },
   "source": [
    "# Create Composition\n",
    "comp_1x2 = pnl.Composition()\n",
    "\n",
    "# Create the Mechanism\n",
    "logistic_transfer_mechanism = pnl.TransferMechanism(default_variable=[0, 0],\n",
    "                                                function=pnl.Logistic(gain=1,\n",
    "                                                                  bias=0))\n",
    "# Place Mechanism in Composition\n",
    "comp_1x2.add_linear_processing_pathway(pathway = [logistic_transfer_mechanism])\n",
    "\n",
    "\n",
    "# Iterate and plot\n",
    "xVals = np.linspace(-3, 3, num=51)\n",
    "y1Vals = np.zeros((51,))\n",
    "y2Vals = np.zeros((51,))\n",
    "for i in range(xVals.shape[0]):\n",
    "    # clarify why multiplying times 2\n",
    "    output = comp_1x2.run([xVals[i], xVals[i] * 3])\n",
    "    y1Vals[i] = output[0][0]\n",
    "    y2Vals[i] = output[0][1]\n",
    "    # Progress bar\n",
    "    print(\"-\", end=\"\")\n",
    "plt.plot(xVals, y1Vals)\n",
    "plt.plot(xVals, y2Vals)\n",
    "plt.show()"
   ],
   "execution_count": 0,
   "outputs": [
    {
     "output_type": "stream",
     "text": [
      "---------------------------------------------------"
     ],
     "name": "stdout"
    },
    {
     "output_type": "display_data",
     "data": {
      "image/png": "[encoded data removed]",
      "text/plain": [
       "<Figure size 432x288 with 1 Axes>"
      ]
     },
     "metadata": {
      "tags": []
     }
    }
   ]
  },
  {
   "cell_type": "markdown",
   "metadata": {
    "id": "j4BXYFbLh8Zn",
    "colab_type": "text"
   },
   "source": "The `default_variable` parameter serves a dual function. It specifies the dimensionality of the Mechanism as well as providing the inputs that will be given in the absence of explicit input at runtime.  You can also specify the dimensionality using \"size\", e.g. size=2 will also create default_variable=[0,0]."
  },
  {
   "cell_type": "code",
   "metadata": {
    "id": "FtN0VYCsiJwa",
    "colab_type": "code",
    "colab": {}
   },
   "source": [
    "logistic_transfer_step = pnl.TransferMechanism(default_variable=[0, 0],\n",
    "                                                function=pnl.Logistic(gain=100,\n",
    "                                                                  offset=100))"
   ],
   "execution_count": 0,
   "outputs": []
  },
  {
   "cell_type": "code",
   "metadata": {
    "id": "ddg9BFXfiLNB",
    "colab_type": "code",
    "outputId": "45be1414-3b25-404c-a0a1-08c5474fa3a9",
    "colab": {
     "base_uri": "https://localhost:8080/",
     "height": 34
    }
   },
   "source": [
    "logistic_transfer_step.execute([.9,1.1])"
   ],
   "execution_count": 0,
   "outputs": [
    {
     "output_type": "execute_result",
     "data": {
      "text/plain": [
       "array([[4.53978687e-05, 9.99954602e-01]])"
      ]
     },
     "metadata": {
      "tags": []
     },
     "execution_count": 69
    }
   ]
  },
  {
   "cell_type": "markdown",
   "metadata": {
    "id": "dPaX0syYiShl",
    "colab_type": "text"
   },
   "source": [
    "### Adding Projections\n",
    "\n",
    "To connect Mechanisms together in a Composition, we need a way to link Mechanisms together. This is done through [Projections](https://princetonuniversity.github.io/PsyNeuLink/Projection.html). A projection takes a Mechanism output, multiplies it by the Projection's mapping matrix, and delivers the transformed value to the next Mechanism in the Composition. "
   ]
  },
  {
   "cell_type": "code",
   "metadata": {
    "id": "VEUVwefgiXPn",
    "colab_type": "code",
    "outputId": "a9344b09-ca1c-4c51-a53e-bcd31331a065",
    "colab": {
     "base_uri": "https://localhost:8080/",
     "height": 286
    }
   },
   "source": [
    "# Create Composition\n",
    "comp_linlog = pnl.Composition()\n",
    "\n",
    "# Create Mechanisms\n",
    "linear_input_unit = pnl.TransferMechanism(function=pnl.Linear(slope=2, intercept=2))\n",
    "logistic_output_unit = pnl.TransferMechanism(function=pnl.Logistic())\n",
    "\n",
    "# Place Mechanism in Composition\n",
    "comp_linlog.add_linear_processing_pathway(pathway = [linear_input_unit, pnl.IDENTITY_MATRIX, logistic_output_unit])\n",
    "\n",
    "\n",
    "# Iterate and plot\n",
    "xVals = np.linspace(-3, 3, num=51)\n",
    "yVals = np.zeros((51,))\n",
    "for i in range(xVals.shape[0]):\n",
    "    yVals[i] = comp_linlog.run([xVals[i]])[0]\n",
    "    # Progress bar\n",
    "    print(\"-\", end=\"\")\n",
    "plt.plot(xVals, yVals)\n",
    "plt.show()"
   ],
   "execution_count": 0,
   "outputs": [
    {
     "output_type": "stream",
     "text": [
      "---------------------------------------------------"
     ],
     "name": "stdout"
    },
    {
     "output_type": "display_data",
     "data": {
      "image/png": "[encoded data removed]",
      "text/plain": [
       "<Figure size 432x288 with 1 Axes>"
      ]
     },
     "metadata": {
      "tags": []
     }
    }
   ]
  },
  {
   "cell_type": "markdown",
   "metadata": {
    "id": "gQP6ZFH-ifO2",
    "colab_type": "text"
   },
   "source": [
    "`IDENTITY_MATRIX` is a keyword that provides a Projection from the unit preceding it to the unit following, creating a one-to-one output-to-input Projection between the two. \n",
    "\n",
    "Now, let's make our Projection definition a bit more explicit."
   ]
  },
  {
   "cell_type": "code",
   "metadata": {
    "id": "9QF9E0TainCy",
    "colab_type": "code",
    "outputId": "9f5915c7-02af-462b-8a9e-5af00d7d434d",
    "colab": {
     "base_uri": "https://localhost:8080/",
     "height": 286
    }
   },
   "source": [
    "# Create Composition\n",
    "comp_explicit = pnl.Composition()\n",
    "\n",
    "# Create Mechanisms\n",
    "linear_input_unit = pnl.TransferMechanism(function=pnl.Linear(slope=2, intercept=2), name=\"linear\")\n",
    "logistic_output_unit = pnl.TransferMechanism(function=pnl.Logistic(), name=\"logistic\")\n",
    "\n",
    "# Create Projection\n",
    "mapping_matrix = np.asarray([[1]])\n",
    "unit_mapping_projection = pnl.MappingProjection(sender=linear_input_unit,\n",
    "                                            receiver=logistic_output_unit,\n",
    "                                            matrix=mapping_matrix)\n",
    "\n",
    "# Place Mechanisms and Projections in Composition\n",
    "comp_explicit.add_linear_processing_pathway(pathway = [linear_input_unit, unit_mapping_projection, logistic_output_unit])\n",
    "\n",
    "\n",
    "# Iterate and plot\n",
    "xVals = np.linspace(-3, 3, num=51)\n",
    "yVals = np.zeros((51,))\n",
    "for i in range(xVals.shape[0]):\n",
    "    yVals[i] = comp_explicit.run([xVals[i]])[0]\n",
    "    # Progress bar\n",
    "    print(\"-\", end=\"\")\n",
    "plt.plot(xVals, yVals)\n",
    "plt.show()"
   ],
   "execution_count": 0,
   "outputs": [
    {
     "output_type": "stream",
     "text": [
      "---------------------------------------------------"
     ],
     "name": "stdout"
    },
    {
     "output_type": "display_data",
     "data": {
      "image/png": "[encoded data removed]",
      "text/plain": [
       "<Figure size 432x288 with 1 Axes>"
      ]
     },
     "metadata": {
      "tags": []
     }
    }
   ]
  },
  {
   "cell_type": "code",
   "metadata": {
    "id": "wiKec76Riuop",
    "colab_type": "code",
    "outputId": "2017afbd-f503-4084-ec39-6c228181dca6",
    "colab": {
     "base_uri": "https://localhost:8080/",
     "height": 176
    }
   },
   "source": [
    "comp_explicit.show_graph(output_fmt = 'jupyter')"
   ],
   "execution_count": 0,
   "outputs": [
    {
     "output_type": "execute_result",
     "data": {
      "text/plain": [
       "<graphviz.dot.Digraph at 0x7f3537a09f60>"
      ],
      "image/svg+xml": "<?xml version=\"1.0\" encoding=\"UTF-8\" standalone=\"no\"?>\n<!DOCTYPE svg PUBLIC \"-//W3C//DTD SVG 1.1//EN\"\n \"http://www.w3.org/Graphics/SVG/1.1/DTD/svg11.dtd\">\n<!-- Generated by graphviz version 2.40.1 (20161225.0304)\n -->\n<!-- Title: Composition&#45;34 Pages: 1 -->\n<svg width=\"74pt\" height=\"116pt\"\n viewBox=\"0.00 0.00 74.48 116.00\" xmlns=\"http://www.w3.org/2000/svg\" xmlns:xlink=\"http://www.w3.org/1999/xlink\">\n<g id=\"graph0\" class=\"graph\" transform=\"scale(1 1) rotate(0) translate(4 112)\">\n<title>Composition&#45;34</title>\n<polygon fill=\"#ffffff\" stroke=\"transparent\" points=\"-4,4 -4,-112 70.4834,-112 70.4834,4 -4,4\"/>\n<!-- linear -->\n<g id=\"node1\" class=\"node\">\n<title>linear</title>\n<ellipse fill=\"none\" stroke=\"#00ff00\" stroke-width=\"3\" cx=\"33.2417\" cy=\"-18\" rx=\"28.8653\" ry=\"18\"/>\n<text text-anchor=\"middle\" x=\"33.2417\" y=\"-14.9\" font-family=\"arial\" font-size=\"12.00\" fill=\"#000000\">linear</text>\n</g>\n<!-- logistic -->\n<g id=\"node2\" class=\"node\">\n<title>logistic</title>\n<ellipse fill=\"none\" stroke=\"#ff0000\" stroke-width=\"3\" cx=\"33.2417\" cy=\"-90\" rx=\"33.4852\" ry=\"18\"/>\n<text text-anchor=\"middle\" x=\"33.2417\" y=\"-86.9\" font-family=\"arial\" font-size=\"12.00\" fill=\"#000000\">logistic</text>\n</g>\n<!-- linear&#45;&gt;logistic -->\n<g id=\"edge1\" class=\"edge\">\n<title>linear&#45;&gt;logistic</title>\n<path fill=\"none\" stroke=\"#000000\" d=\"M33.2417,-36.1686C33.2417,-43.869 33.2417,-53.0257 33.2417,-61.5834\"/>\n<polygon fill=\"#000000\" stroke=\"#000000\" points=\"29.7418,-61.5867 33.2417,-71.5867 36.7418,-61.5868 29.7418,-61.5867\"/>\n</g>\n</g>\n</svg>\n"
     },
     "metadata": {
      "tags": []
     },
     "execution_count": 73
    }
   ]
  },
  {
   "cell_type": "markdown",
   "metadata": {
    "id": "vmqMmXDrizMf",
    "colab_type": "text"
   },
   "source": "This time, we specified our mapping matrix (which is a 2-D numpy array) and then explicitly initialized a *[MappingProjection](https://princetonuniversity.github.io/PsyNeuLink/MappingProjection.html)* with that matrix as well as its input and output Mechanisms. Note: Because we specified the input and output Mechanisms in the Projection itself, we didn't need to include them in the Composition pathway as the Composition would have inferred its position from those parameters. Ultimately, however, this does the exact same thing as our keyword method above, which is far less verbose for this common use case."
  },
  {
   "cell_type": "markdown",
   "metadata": {
    "id": "XV91dEJ2i_rP",
    "colab_type": "text"
   },
   "source": [
    "### Compositions\n",
    "\n",
    "The highest level at which models are considered in PsyNeuLink is that of the *[Composition](https://princetonuniversity.github.io/PsyNeuLink/Composition.html)*. A Composition is built out of one or more Mechanisms connected by Projections. This allows Composition graphs to be more complex than the strictly linear ones covered so far. Our first Composition will consist of two input nodes that converge on a single output Mechanism. We will be modeling competition between color naming and word reading in the Stroop task.  [Recall that the Stroop task involves naming the ink color of words: when the word itself mismatches with the ink color it is written in (e.g., the word RED written in blue ink), that produces conflict and slower response times to name the ink color.]\n",
    "\n",
    "### Mini-Stroop Model"
   ]
  },
  {
   "cell_type": "code",
   "metadata": {
    "id": "rAymk7bujTCG",
    "colab_type": "code",
    "outputId": "9d6ef8e9-f323-4b7e-ae20-72fd151e6a77",
    "colab": {
     "base_uri": "https://localhost:8080/",
     "height": 176
    }
   },
   "source": [
    "mini_stroop = pnl.Composition()\n",
    "\n",
    "colors = pnl.TransferMechanism(default_variable=[0, 0], function=pnl.Linear,\n",
    "                           name=\"Colors\")\n",
    "words = pnl.TransferMechanism(default_variable=[0, 0],\n",
    "                          function=pnl.Linear(slope=1.5), name=\"Words\")\n",
    "response = pnl.TransferMechanism(default_variable=[0, 0], function=pnl.Logistic,\n",
    "                             name=\"Response\")\n",
    "\n",
    "\n",
    "# Place Mechanisms and Projections in Composition\n",
    "mini_stroop.add_linear_processing_pathway(pathway = [colors, response])\n",
    "mini_stroop.add_linear_processing_pathway(pathway = [words, response])\n",
    "\n",
    "\n",
    "mini_stroop.show_graph(output_fmt = 'jupyter')"
   ],
   "execution_count": 0,
   "outputs": [
    {
     "output_type": "execute_result",
     "data": {
      "text/plain": [
       "<graphviz.dot.Digraph at 0x7f35377d0c50>"
      ],
      "image/svg+xml": "<?xml version=\"1.0\" encoding=\"UTF-8\" standalone=\"no\"?>\n<!DOCTYPE svg PUBLIC \"-//W3C//DTD SVG 1.1//EN\"\n \"http://www.w3.org/Graphics/SVG/1.1/DTD/svg11.dtd\">\n<!-- Generated by graphviz version 2.40.1 (20161225.0304)\n -->\n<!-- Title: Composition&#45;24 Pages: 1 -->\n<svg width=\"178pt\" height=\"116pt\"\n viewBox=\"0.00 0.00 178.33 116.00\" xmlns=\"http://www.w3.org/2000/svg\" xmlns:xlink=\"http://www.w3.org/1999/xlink\">\n<g id=\"graph0\" class=\"graph\" transform=\"scale(1 1) rotate(0) translate(4 112)\">\n<title>Composition&#45;24</title>\n<polygon fill=\"#ffffff\" stroke=\"transparent\" points=\"-4,4 -4,-112 174.3328,-112 174.3328,4 -4,4\"/>\n<!-- Words&#45;2 -->\n<g id=\"node1\" class=\"node\">\n<title>Words&#45;2</title>\n<ellipse fill=\"none\" stroke=\"#00ff00\" stroke-width=\"3\" cx=\"38.1664\" cy=\"-18\" rx=\"38.3335\" ry=\"18\"/>\n<text text-anchor=\"middle\" x=\"38.1664\" y=\"-14.9\" font-family=\"arial\" font-size=\"12.00\" fill=\"#000000\">Words&#45;2</text>\n</g>\n<!-- Response&#45;1 -->\n<g id=\"node3\" class=\"node\">\n<title>Response&#45;1</title>\n<ellipse fill=\"none\" stroke=\"#ff0000\" stroke-width=\"3\" cx=\"85.1664\" cy=\"-90\" rx=\"50.4563\" ry=\"18\"/>\n<text text-anchor=\"middle\" x=\"85.1664\" y=\"-86.9\" font-family=\"arial\" font-size=\"12.00\" fill=\"#000000\">Response&#45;1</text>\n</g>\n<!-- Words&#45;2&#45;&gt;Response&#45;1 -->\n<g id=\"edge2\" class=\"edge\">\n<title>Words&#45;2&#45;&gt;Response&#45;1</title>\n<path fill=\"none\" stroke=\"#000000\" d=\"M49.5438,-35.4292C55.0613,-43.8816 61.8067,-54.2149 67.9376,-63.6069\"/>\n<polygon fill=\"#000000\" stroke=\"#000000\" points=\"65.1702,-65.7705 73.5673,-72.2311 71.0318,-61.9441 65.1702,-65.7705\"/>\n</g>\n<!-- Colors&#45;2 -->\n<g id=\"node2\" class=\"node\">\n<title>Colors&#45;2</title>\n<ellipse fill=\"none\" stroke=\"#00ff00\" stroke-width=\"3\" cx=\"132.1664\" cy=\"-18\" rx=\"38.3335\" ry=\"18\"/>\n<text text-anchor=\"middle\" x=\"132.1664\" y=\"-14.9\" font-family=\"arial\" font-size=\"12.00\" fill=\"#000000\">Colors&#45;2</text>\n</g>\n<!-- Colors&#45;2&#45;&gt;Response&#45;1 -->\n<g id=\"edge1\" class=\"edge\">\n<title>Colors&#45;2&#45;&gt;Response&#45;1</title>\n<path fill=\"none\" stroke=\"#000000\" d=\"M120.789,-35.4292C115.2714,-43.8816 108.5261,-54.2149 102.3952,-63.6069\"/>\n<polygon fill=\"#000000\" stroke=\"#000000\" points=\"99.301,-61.9441 96.7655,-72.2311 105.1626,-65.7705 99.301,-61.9441\"/>\n</g>\n</g>\n</svg>\n"
     },
     "metadata": {
      "tags": []
     },
     "execution_count": 54
    }
   ]
  },
  {
   "cell_type": "markdown",
   "metadata": {
    "id": "BOWowlx6kC4g",
    "colab_type": "text"
   },
   "source": [
    "An input of [1, 0] to ink is red ink, and [0, 1] is blue ink.  \n",
    "An input of [1, 0] to word is \"red\" and [0, 1] is \"blue\".  \n",
    "If the input values to ink and word are the same, that is a congruent trial.  If the input values to the ink and word are different that is an incongruent trial.  \n",
    "\n",
    "In the output of the Composition, the first output value is the strength to respond red, and the second value is the strength to respond blue.  \n",
    "\n",
    "In the following two cells, we will first specify a congruent trial (blue ink, word \"blue\") to see the output, and then specify an incongruent trial (red ink, word \"blue\")."
   ]
  },
  {
   "cell_type": "code",
   "metadata": {
    "id": "qgEakz_4kQLL",
    "colab_type": "code",
    "outputId": "d65ac391-5f02-4daa-ba67-0ddca93fc18b",
    "colab": {
     "base_uri": "https://localhost:8080/",
     "height": 34
    }
   },
   "source": [
    "input_allblue = {colors: [0, 1],\n",
    "              words: [0, 1]}\n",
    "mini_stroop.run(input_allblue)"
   ],
   "execution_count": 0,
   "outputs": [
    {
     "output_type": "execute_result",
     "data": {
      "text/plain": [
       "[array([0.5       , 0.92414182])]"
      ]
     },
     "metadata": {
      "tags": []
     },
     "execution_count": 55
    }
   ]
  },
  {
   "cell_type": "code",
   "metadata": {
    "id": "xyHPjYkWj0gK",
    "colab_type": "code",
    "outputId": "d92538bb-889f-4e7a-d70b-697c451b8258",
    "colab": {
     "base_uri": "https://localhost:8080/",
     "height": 34
    }
   },
   "source": [
    "input_redblue = {colors: [1, 0], \n",
    "         words: [0, 1]}\n",
    "mini_stroop.run(input_redblue)"
   ],
   "execution_count": 0,
   "outputs": [
    {
     "output_type": "execute_result",
     "data": {
      "text/plain": [
       "[array([0.73105858, 0.81757448])]"
      ]
     },
     "metadata": {
      "tags": []
     },
     "execution_count": 56
    }
   ]
  },
  {
   "cell_type": "markdown",
   "metadata": {
    "id": "OubMjYMkdoYQ",
    "colab_type": "text"
   },
   "source": [
    "### Pre-trained Complete Stroop Model\n",
    "\n",
    "Let's practice using Compositions by recreating the more complex Stroop model from Cohen et al. (1990). Later, we will train the network ourselves, but for now, we will explicitly model the learned weights."
   ]
  },
  {
   "cell_type": "code",
   "metadata": {
    "id": "XFNp0zgtdoYR",
    "colab_type": "code",
    "outputId": "d86f5d6d-8e79-4b39-87fa-0559d5bf3c61",
    "colab": {
     "base_uri": "https://localhost:8080/",
     "height": 272
    }
   },
   "source": [
    "stroop_model = pnl.Composition()\n",
    "\n",
    "ink_color = pnl.TransferMechanism(default_variable=[0, 0], function=pnl.Linear(),name=\"Ink_Color\")\n",
    "word = pnl.TransferMechanism(default_variable=[0, 0], function=pnl.Linear(),name=\"Word\")\n",
    "task_demand = pnl.TransferMechanism(default_variable=[0, 0], function=pnl.Linear(),name=\"Task\")\n",
    "\n",
    "hidden_layer = pnl.TransferMechanism(default_variable=[0, 0, 0, 0],\n",
    "                                 function=pnl.Logistic(bias=-4), name=\"Hidden\")\n",
    "\n",
    "output_layer = pnl.TransferMechanism(default_variable=[[0, 0]], function=pnl.Linear(), name=\"Output\")\n",
    "\n",
    "\n",
    "color_mapping_matrix = np.asarray([[2.2, -2.2, 0, 0], [-2.2, 2.2, 0, 0]])\n",
    "color_projection = pnl.MappingProjection(sender=ink_color, receiver=hidden_layer,\n",
    "                                     matrix=color_mapping_matrix)\n",
    "word_mapping_matrix = np.asarray([[0, 0, 2.6, -2.6], [0, 0, -2.6, 2.6]])\n",
    "word_projection = pnl.MappingProjection(sender=word, receiver=hidden_layer,\n",
    "                                    matrix=word_mapping_matrix)\n",
    "task_mapping_matrix = np.asarray([[4, 4, 0, 0], [0, 0, 4, 4]])\n",
    "task_projection = pnl.MappingProjection(sender=task_demand, receiver=hidden_layer,\n",
    "                                    matrix=task_mapping_matrix)\n",
    "output_mapping_matrix = np.asarray(\n",
    "    [[1.3, -1.3], [-1.3, 1.3], [2.5, -2.5], [-2.5, 2.5]])\n",
    "output_projection = pnl.MappingProjection(sender=hidden_layer, receiver=output_layer,\n",
    "                  matrix=output_mapping_matrix)\n",
    "\n",
    "\n",
    "stroop_model.add_linear_processing_pathway(pathway = [ink_color, color_projection, hidden_layer, output_projection, output_layer])\n",
    "stroop_model.add_linear_processing_pathway(pathway = [word, word_projection, hidden_layer, output_projection, output_layer])\n",
    "stroop_model.add_linear_processing_pathway(pathway = [task_demand, task_projection, hidden_layer, output_projection, output_layer])\n",
    "\n",
    "\n",
    "ink_color.reportOutputPref = True\n",
    "word.reportOutputPref = True\n",
    "task_demand.reportOutputPref = True\n",
    "hidden_layer.reportOutputPref = True\n",
    "\n",
    "stroop_model.show_graph(output_fmt = 'jupyter')"
   ],
   "execution_count": 0,
   "outputs": [
    {
     "output_type": "execute_result",
     "data": {
      "text/plain": [
       "<graphviz.dot.Digraph at 0x7f353747a048>"
      ],
      "image/svg+xml": "<?xml version=\"1.0\" encoding=\"UTF-8\" standalone=\"no\"?>\n<!DOCTYPE svg PUBLIC \"-//W3C//DTD SVG 1.1//EN\"\n \"http://www.w3.org/Graphics/SVG/1.1/DTD/svg11.dtd\">\n<!-- Generated by graphviz version 2.40.1 (20161225.0304)\n -->\n<!-- Title: Composition&#45;25 Pages: 1 -->\n<svg width=\"260pt\" height=\"188pt\"\n viewBox=\"0.00 0.00 259.87 188.00\" xmlns=\"http://www.w3.org/2000/svg\" xmlns:xlink=\"http://www.w3.org/1999/xlink\">\n<g id=\"graph0\" class=\"graph\" transform=\"scale(1 1) rotate(0) translate(4 184)\">\n<title>Composition&#45;25</title>\n<polygon fill=\"#ffffff\" stroke=\"transparent\" points=\"-4,4 -4,-184 255.8704,-184 255.8704,4 -4,4\"/>\n<!-- Task&#45;2 -->\n<g id=\"node1\" class=\"node\">\n<title>Task&#45;2</title>\n<ellipse fill=\"none\" stroke=\"#00ff00\" stroke-width=\"3\" cx=\"32.0105\" cy=\"-18\" rx=\"32.0211\" ry=\"18\"/>\n<text text-anchor=\"middle\" x=\"32.0105\" y=\"-14.9\" font-family=\"arial\" font-size=\"12.00\" fill=\"#000000\">Task&#45;2</text>\n</g>\n<!-- Hidden&#45;1 -->\n<g id=\"node4\" class=\"node\">\n<title>Hidden&#45;1</title>\n<ellipse fill=\"none\" stroke=\"#000000\" cx=\"116.0105\" cy=\"-90\" rx=\"40.7579\" ry=\"18\"/>\n<text text-anchor=\"middle\" x=\"116.0105\" y=\"-86.9\" font-family=\"arial\" font-size=\"12.00\" fill=\"#000000\">Hidden&#45;1</text>\n</g>\n<!-- Task&#45;2&#45;&gt;Hidden&#45;1 -->\n<g id=\"edge3\" class=\"edge\">\n<title>Task&#45;2&#45;&gt;Hidden&#45;1</title>\n<path fill=\"none\" stroke=\"#000000\" d=\"M49.8248,-33.2693C61.3905,-43.1828 76.668,-56.2778 89.6306,-67.3886\"/>\n<polygon fill=\"#000000\" stroke=\"#000000\" points=\"87.4783,-70.1536 97.3486,-74.0041 92.0338,-64.8388 87.4783,-70.1536\"/>\n</g>\n<!-- Word&#45;1 -->\n<g id=\"node2\" class=\"node\">\n<title>Word&#45;1</title>\n<ellipse fill=\"none\" stroke=\"#00ff00\" stroke-width=\"3\" cx=\"116.0105\" cy=\"-18\" rx=\"34.4458\" ry=\"18\"/>\n<text text-anchor=\"middle\" x=\"116.0105\" y=\"-14.9\" font-family=\"arial\" font-size=\"12.00\" fill=\"#000000\">Word&#45;1</text>\n</g>\n<!-- Word&#45;1&#45;&gt;Hidden&#45;1 -->\n<g id=\"edge2\" class=\"edge\">\n<title>Word&#45;1&#45;&gt;Hidden&#45;1</title>\n<path fill=\"none\" stroke=\"#000000\" d=\"M116.0105,-36.1686C116.0105,-43.869 116.0105,-53.0257 116.0105,-61.5834\"/>\n<polygon fill=\"#000000\" stroke=\"#000000\" points=\"112.5106,-61.5867 116.0105,-71.5867 119.5106,-61.5868 112.5106,-61.5867\"/>\n</g>\n<!-- Ink_Color -->\n<g id=\"node3\" class=\"node\">\n<title>Ink_Color</title>\n<ellipse fill=\"none\" stroke=\"#00ff00\" stroke-width=\"3\" cx=\"210.0105\" cy=\"-18\" rx=\"41.7203\" ry=\"18\"/>\n<text text-anchor=\"middle\" x=\"210.0105\" y=\"-14.9\" font-family=\"arial\" font-size=\"12.00\" fill=\"#000000\">Ink_Color</text>\n</g>\n<!-- Ink_Color&#45;&gt;Hidden&#45;1 -->\n<g id=\"edge1\" class=\"edge\">\n<title>Ink_Color&#45;&gt;Hidden&#45;1</title>\n<path fill=\"none\" stroke=\"#000000\" d=\"M189.1489,-33.9791C176.0367,-44.0225 158.9448,-57.1141 144.5814,-68.1159\"/>\n<polygon fill=\"#000000\" stroke=\"#000000\" points=\"142.301,-65.4539 136.4904,-74.3133 146.5575,-71.011 142.301,-65.4539\"/>\n</g>\n<!-- Output&#45;1 -->\n<g id=\"node5\" class=\"node\">\n<title>Output&#45;1</title>\n<ellipse fill=\"none\" stroke=\"#ff0000\" stroke-width=\"3\" cx=\"116.0105\" cy=\"-162\" rx=\"38.3335\" ry=\"18\"/>\n<text text-anchor=\"middle\" x=\"116.0105\" y=\"-158.9\" font-family=\"arial\" font-size=\"12.00\" fill=\"#000000\">Output&#45;1</text>\n</g>\n<!-- Hidden&#45;1&#45;&gt;Output&#45;1 -->\n<g id=\"edge4\" class=\"edge\">\n<title>Hidden&#45;1&#45;&gt;Output&#45;1</title>\n<path fill=\"none\" stroke=\"#000000\" d=\"M116.0105,-108.1686C116.0105,-115.869 116.0105,-125.0257 116.0105,-133.5834\"/>\n<polygon fill=\"#000000\" stroke=\"#000000\" points=\"112.5106,-133.5867 116.0105,-143.5867 119.5106,-133.5868 112.5106,-133.5867\"/>\n</g>\n</g>\n</svg>\n"
     },
     "metadata": {
      "tags": []
     },
     "execution_count": 57
    }
   ]
  },
  {
   "cell_type": "markdown",
   "metadata": {
    "id": "cQ5qk7UadoYU",
    "colab_type": "text"
   },
   "source": "In the next cell, we will run the model with inputs.  The \"ink_color\" and \"word\" are the same as the previous model, and the addition of task demand allows us to specify whether the task is to name the color of ink [0, 1], or to read the word [1, 0].  The output can be thought of as activation strengths of two possible responses [red, blue].  "
  },
  {
   "cell_type": "code",
   "metadata": {
    "id": "_3h3HUQ2doYV",
    "colab_type": "code",
    "outputId": "9eac7bdb-a7c3-40cb-98cd-2fe620a4e935",
    "colab": {
     "base_uri": "https://localhost:8080/",
     "height": 1292
    }
   },
   "source": [
    "input_dict = {ink_color: [1, 0],\n",
    "              word: [0, 1],\n",
    "              task_demand: [1, 0]}\n",
    "stroop_model.run(input_dict)"
   ],
   "execution_count": 0,
   "outputs": [
    {
     "output_type": "stream",
     "text": [
      "\n",
      "'Ink_Color' mechanism executed:\n",
      "- input:  [array([1., 0.])]\n",
      "- params:\n",
      "\tconvergence_criterion: 0.01\n",
      "\tconvergence_function: Distance Function-1\n",
      "\t\tintercept: 0.0\n",
      "\t\tslope: 1.0\n",
      "\tfunction: Linear Function-1038\n",
      "\t\tintercept: 0.0\n",
      "\t\tslope: 1.0\n",
      "\tinitial_value: None\n",
      "\tintegration_rate: 0.5\n",
      "\tintegrator_mode: False\n",
      "\tmax_passes: 1000\n",
      "\tnoise: 0.\n",
      "- output: 0.0 0.0\n",
      "\n",
      "'Word-1' mechanism executed:\n",
      "- input:  [array([0., 1.])]\n",
      "- params:\n",
      "\tconvergence_criterion: 0.01\n",
      "\tconvergence_function: Distance Function-1\n",
      "\t\tintercept: 0.0\n",
      "\t\tslope: 1.0\n",
      "\tfunction: Linear Function-1048\n",
      "\t\tintercept: 0.0\n",
      "\t\tslope: 1.0\n",
      "\tinitial_value: None\n",
      "\tintegration_rate: 0.5\n",
      "\tintegrator_mode: False\n",
      "\tmax_passes: 1000\n",
      "\tnoise: 0.\n",
      "- output: 0.0 0.0\n",
      "\n",
      "'Task-2' mechanism executed:\n",
      "- input:  [array([1., 0.])]\n",
      "- params:\n",
      "\tconvergence_criterion: 0.01\n",
      "\tconvergence_function: Distance Function-1\n",
      "\t\tintercept: 0.0\n",
      "\t\tslope: 1.0\n",
      "\tfunction: Linear Function-1058\n",
      "\t\tintercept: 0.0\n",
      "\t\tslope: 1.0\n",
      "\tinitial_value: None\n",
      "\tintegration_rate: 0.5\n",
      "\tintegrator_mode: False\n",
      "\tmax_passes: 1000\n",
      "\tnoise: 0.\n",
      "- output: 0.0 0.0\n",
      "\n",
      "'Hidden-1' mechanism executed:\n",
      "- input:  [array([ 6.2,  1.8, -2.6,  2.6])]\n",
      "- params:\n",
      "\tconvergence_criterion: 0.01\n",
      "\tconvergence_function: Distance Function-1\n",
      "\t\tbias: -4\n",
      "\t\tgain: 1.0\n",
      "\t\toffset: 0.0\n",
      "\t\tscale: 1.0\n",
      "\t\tx_0: 0.0\n",
      "\tfunction: Logistic Function-19\n",
      "\t\tbias: -4\n",
      "\t\tgain: 1.0\n",
      "\t\toffset: 0.0\n",
      "\t\tscale: 1.0\n",
      "\t\tx_0: 0.0\n",
      "\tinitial_value: None\n",
      "\tintegration_rate: 0.5\n",
      "\tintegrator_mode: False\n",
      "\tmax_passes: 1000\n",
      "\tnoise: 0.\n",
      "- output: 0.018 0.018 0.018 0.018\n"
     ],
     "name": "stdout"
    },
    {
     "output_type": "execute_result",
     "data": {
      "text/plain": [
       "[array([ 0.54950475, -0.54950475])]"
      ]
     },
     "metadata": {
      "tags": []
     },
     "execution_count": 58
    }
   ]
  },
  {
   "cell_type": "markdown",
   "metadata": {
    "id": "a2g6AQLBdoYZ",
    "colab_type": "text"
   },
   "source": [
    "To get a better sense of how the model works, try reverse engineering by changing each of the inputs (remember the options are only [1,0] or [0,1]) one at a time and running the model. Given 3 input states (Task, Word, Ink) with 2 options each, there will be 8 possibilities (2^3).  \n",
    "\n"
   ]
  },
  {
   "cell_type": "markdown",
   "metadata": {
    "id": "YPcQIM7odoYg",
    "colab_type": "text"
   },
   "source": [
    "# Constructing Compositions\n",
    "\n",
    "As shown in the Stroop models above, Mechanisms are the building blocks in PsyNeuLink, and Projections are how these building blocks get connected.  The configuration of Mechanisms connected by Projections determines how information will flow and be processed within each model.  Next, we'll explore how to build models with different configurations of Mechanisms and Projections, along with generating diagrams that visualize these configurations.   "
   ]
  },
  {
   "cell_type": "code",
   "metadata": {
    "id": "HeNSMjrNdoYh",
    "colab_type": "code",
    "outputId": "94d9d639-f2d2-4dcb-e09a-694db78f8ee0",
    "colab": {
     "base_uri": "https://localhost:8080/",
     "height": 176
    }
   },
   "source": [
    "# Create Composition\n",
    "comp_line2 = pnl.Composition()\n",
    "\n",
    "input_layer_cL2 = pnl.TransferMechanism(\n",
    "    name='input_layer_cL2',\n",
    "    function=pnl.Linear,\n",
    "    default_variable=np.ones((4,)),\n",
    ")\n",
    "\n",
    "output_layer_cL2 = pnl.TransferMechanism(\n",
    "    name='output_layer_cL2',\n",
    "    function=pnl.Linear,\n",
    "    default_variable=np.ones((4,)),\n",
    ")\n",
    "\n",
    "# Place Mechanisms in Composition\n",
    "comp_line2.add_linear_processing_pathway(pathway = [input_layer_cL2, output_layer_cL2])\n",
    "\n",
    "\n",
    "input_layer_cL2.reportOutputPref = True\n",
    "output_layer_cL2.reportOutputPref = True\n",
    "\n",
    "comp_line2.show_graph(output_fmt = 'jupyter')"
   ],
   "execution_count": 0,
   "outputs": [
    {
     "output_type": "execute_result",
     "data": {
      "text/plain": [
       "<graphviz.dot.Digraph at 0x7f35372297f0>"
      ],
      "image/svg+xml": "<?xml version=\"1.0\" encoding=\"UTF-8\" standalone=\"no\"?>\n<!DOCTYPE svg PUBLIC \"-//W3C//DTD SVG 1.1//EN\"\n \"http://www.w3.org/Graphics/SVG/1.1/DTD/svg11.dtd\">\n<!-- Generated by graphviz version 2.40.1 (20161225.0304)\n -->\n<!-- Title: Composition&#45;26 Pages: 1 -->\n<svg width=\"155pt\" height=\"116pt\"\n viewBox=\"0.00 0.00 154.51 116.00\" xmlns=\"http://www.w3.org/2000/svg\" xmlns:xlink=\"http://www.w3.org/1999/xlink\">\n<g id=\"graph0\" class=\"graph\" transform=\"scale(1 1) rotate(0) translate(4 112)\">\n<title>Composition&#45;26</title>\n<polygon fill=\"#ffffff\" stroke=\"transparent\" points=\"-4,4 -4,-112 150.5097,-112 150.5097,4 -4,4\"/>\n<!-- input_layer_cL2&#45;2 -->\n<g id=\"node1\" class=\"node\">\n<title>input_layer_cL2&#45;2</title>\n<ellipse fill=\"none\" stroke=\"#00ff00\" stroke-width=\"3\" cx=\"73.2549\" cy=\"-18\" rx=\"69.6227\" ry=\"18\"/>\n<text text-anchor=\"middle\" x=\"73.2549\" y=\"-14.9\" font-family=\"arial\" font-size=\"12.00\" fill=\"#000000\">input_layer_cL2&#45;2</text>\n</g>\n<!-- output_layer_cL2&#45;1 -->\n<g id=\"node2\" class=\"node\">\n<title>output_layer_cL2&#45;1</title>\n<ellipse fill=\"none\" stroke=\"#ff0000\" stroke-width=\"3\" cx=\"73.2549\" cy=\"-90\" rx=\"73.0105\" ry=\"18\"/>\n<text text-anchor=\"middle\" x=\"73.2549\" y=\"-86.9\" font-family=\"arial\" font-size=\"12.00\" fill=\"#000000\">output_layer_cL2&#45;1</text>\n</g>\n<!-- input_layer_cL2&#45;2&#45;&gt;output_layer_cL2&#45;1 -->\n<g id=\"edge1\" class=\"edge\">\n<title>input_layer_cL2&#45;2&#45;&gt;output_layer_cL2&#45;1</title>\n<path fill=\"none\" stroke=\"#000000\" d=\"M73.2549,-36.1686C73.2549,-43.869 73.2549,-53.0257 73.2549,-61.5834\"/>\n<polygon fill=\"#000000\" stroke=\"#000000\" points=\"69.755,-61.5867 73.2549,-71.5867 76.755,-61.5868 69.755,-61.5867\"/>\n</g>\n</g>\n</svg>\n"
     },
     "metadata": {
      "tags": []
     },
     "execution_count": 59
    }
   ]
  },
  {
   "cell_type": "code",
   "metadata": {
    "id": "yyYi8cMqdoYj",
    "colab_type": "code",
    "outputId": "0ab453d8-7705-4264-d0e5-ba96bcd07979",
    "colab": {
     "base_uri": "https://localhost:8080/",
     "height": 272
    }
   },
   "source": [
    "# Create Composition\n",
    "comp_line3 = pnl.Composition()\n",
    "\n",
    "# Create Mechanisms\n",
    "input_layer_cL3 = pnl.TransferMechanism(\n",
    "    name='input_layer_cL3',\n",
    "    function=pnl.Linear,\n",
    "    default_variable=np.ones((4,)),\n",
    ")\n",
    "\n",
    "\n",
    "hidden_layer_cL3 = pnl.TransferMechanism(\n",
    "    name='hidden_layer_cL3',\n",
    "    function=pnl.Linear,\n",
    "    default_variable=np.ones((4,)),\n",
    ")\n",
    "\n",
    "output_layer_cL3 = pnl.TransferMechanism(\n",
    "    name='output_layer_cL3',\n",
    "    function=pnl.Linear,\n",
    "    default_variable=np.ones((4,)),\n",
    ")\n",
    "\n",
    "\n",
    "\n",
    "# Place Mechanisms in Composition\n",
    "comp_line3.add_linear_processing_pathway(pathway = [input_layer_cL3, hidden_layer_cL3, output_layer_cL3])\n",
    "\n",
    "input_layer_cL3.reportOutputPref = True\n",
    "hidden_layer_cL3.reportOutputPref = True\n",
    "output_layer_cL3.reportOutputPref = True\n",
    "\n",
    "comp_line3.show_graph(output_fmt = 'jupyter')"
   ],
   "execution_count": 0,
   "outputs": [
    {
     "output_type": "execute_result",
     "data": {
      "text/plain": [
       "<graphviz.dot.Digraph at 0x7f353704d710>"
      ],
      "image/svg+xml": "<?xml version=\"1.0\" encoding=\"UTF-8\" standalone=\"no\"?>\n<!DOCTYPE svg PUBLIC \"-//W3C//DTD SVG 1.1//EN\"\n \"http://www.w3.org/Graphics/SVG/1.1/DTD/svg11.dtd\">\n<!-- Generated by graphviz version 2.40.1 (20161225.0304)\n -->\n<!-- Title: Composition&#45;27 Pages: 1 -->\n<svg width=\"159pt\" height=\"188pt\"\n viewBox=\"0.00 0.00 159.43 188.00\" xmlns=\"http://www.w3.org/2000/svg\" xmlns:xlink=\"http://www.w3.org/1999/xlink\">\n<g id=\"graph0\" class=\"graph\" transform=\"scale(1 1) rotate(0) translate(4 184)\">\n<title>Composition&#45;27</title>\n<polygon fill=\"#ffffff\" stroke=\"transparent\" points=\"-4,4 -4,-184 155.4344,-184 155.4344,4 -4,4\"/>\n<!-- input_layer_cL3&#45;3 -->\n<g id=\"node1\" class=\"node\">\n<title>input_layer_cL3&#45;3</title>\n<ellipse fill=\"none\" stroke=\"#00ff00\" stroke-width=\"3\" cx=\"75.7172\" cy=\"-18\" rx=\"69.6227\" ry=\"18\"/>\n<text text-anchor=\"middle\" x=\"75.7172\" y=\"-14.9\" font-family=\"arial\" font-size=\"12.00\" fill=\"#000000\">input_layer_cL3&#45;3</text>\n</g>\n<!-- hidden_layer_cL3&#45;3 -->\n<g id=\"node2\" class=\"node\">\n<title>hidden_layer_cL3&#45;3</title>\n<ellipse fill=\"none\" stroke=\"#000000\" cx=\"75.7172\" cy=\"-90\" rx=\"75.935\" ry=\"18\"/>\n<text text-anchor=\"middle\" x=\"75.7172\" y=\"-86.9\" font-family=\"arial\" font-size=\"12.00\" fill=\"#000000\">hidden_layer_cL3&#45;3</text>\n</g>\n<!-- input_layer_cL3&#45;3&#45;&gt;hidden_layer_cL3&#45;3 -->\n<g id=\"edge1\" class=\"edge\">\n<title>input_layer_cL3&#45;3&#45;&gt;hidden_layer_cL3&#45;3</title>\n<path fill=\"none\" stroke=\"#000000\" d=\"M75.7172,-36.1686C75.7172,-43.869 75.7172,-53.0257 75.7172,-61.5834\"/>\n<polygon fill=\"#000000\" stroke=\"#000000\" points=\"72.2173,-61.5867 75.7172,-71.5867 79.2173,-61.5868 72.2173,-61.5867\"/>\n</g>\n<!-- output_layer_cL3&#45;3 -->\n<g id=\"node3\" class=\"node\">\n<title>output_layer_cL3&#45;3</title>\n<ellipse fill=\"none\" stroke=\"#ff0000\" stroke-width=\"3\" cx=\"75.7172\" cy=\"-162\" rx=\"73.0105\" ry=\"18\"/>\n<text text-anchor=\"middle\" x=\"75.7172\" y=\"-158.9\" font-family=\"arial\" font-size=\"12.00\" fill=\"#000000\">output_layer_cL3&#45;3</text>\n</g>\n<!-- hidden_layer_cL3&#45;3&#45;&gt;output_layer_cL3&#45;3 -->\n<g id=\"edge2\" class=\"edge\">\n<title>hidden_layer_cL3&#45;3&#45;&gt;output_layer_cL3&#45;3</title>\n<path fill=\"none\" stroke=\"#000000\" d=\"M75.7172,-108.1686C75.7172,-115.869 75.7172,-125.0257 75.7172,-133.5834\"/>\n<polygon fill=\"#000000\" stroke=\"#000000\" points=\"72.2173,-133.5867 75.7172,-143.5867 79.2173,-133.5868 72.2173,-133.5867\"/>\n</g>\n</g>\n</svg>\n"
     },
     "metadata": {
      "tags": []
     },
     "execution_count": 60
    }
   ]
  },
  {
   "cell_type": "code",
   "metadata": {
    "id": "v0KoxHnFdoYm",
    "colab_type": "code",
    "outputId": "418b710f-ba44-41ff-921c-698a99fb9ccb",
    "colab": {
     "base_uri": "https://localhost:8080/",
     "height": 368
    }
   },
   "source": [
    "# Create Composition\n",
    "comp_recur1 = pnl.Composition()\n",
    "\n",
    "input_r1 = pnl.TransferMechanism(\n",
    "    name='input_r1',\n",
    "    function=pnl.Linear,\n",
    "    default_variable=np.ones((4,)),\n",
    ")\n",
    "\n",
    "\n",
    "hidden_r1a = pnl.TransferMechanism(\n",
    "    name='hidden_r1a',\n",
    "    function=pnl.Linear,\n",
    "    default_variable=np.ones((4,)),\n",
    ")\n",
    "\n",
    "hidden_r1b = pnl.TransferMechanism(\n",
    "    name='hidden_r1b',\n",
    "    function=pnl.Linear,\n",
    "    default_variable=np.ones((4,)),\n",
    ")\n",
    "\n",
    "output_r1 = pnl.TransferMechanism(\n",
    "    name='output_r1',\n",
    "    function=pnl.Linear,\n",
    "    default_variable=np.ones((4,)),\n",
    ")\n",
    "\n",
    "\n",
    "# Place Mechanisms in Composition\n",
    "comp_recur1.add_linear_processing_pathway(pathway = [input_r1, hidden_r1a, hidden_r1b, output_r1])\n",
    "comp_recur1.add_linear_processing_pathway(pathway = [hidden_r1b, hidden_r1a])\n",
    "\n",
    "\n",
    "input_r1.reportOutputPref = True\n",
    "hidden_r1a.reportOutputPref = True\n",
    "hidden_r1b.reportOutputPref = True\n",
    "output_r1.reportOutputPref = True\n",
    "\n",
    "comp_recur1.show_graph(output_fmt = 'jupyter')"
   ],
   "execution_count": 0,
   "outputs": [
    {
     "output_type": "execute_result",
     "data": {
      "text/plain": [
       "<graphviz.dot.Digraph at 0x7f3536d89c50>"
      ],
      "image/svg+xml": "<?xml version=\"1.0\" encoding=\"UTF-8\" standalone=\"no\"?>\n<!DOCTYPE svg PUBLIC \"-//W3C//DTD SVG 1.1//EN\"\n \"http://www.w3.org/Graphics/SVG/1.1/DTD/svg11.dtd\">\n<!-- Generated by graphviz version 2.40.1 (20161225.0304)\n -->\n<!-- Title: Composition&#45;28 Pages: 1 -->\n<svg width=\"116pt\" height=\"260pt\"\n viewBox=\"0.00 0.00 116.34 260.00\" xmlns=\"http://www.w3.org/2000/svg\" xmlns:xlink=\"http://www.w3.org/1999/xlink\">\n<g id=\"graph0\" class=\"graph\" transform=\"scale(1 1) rotate(0) translate(4 256)\">\n<title>Composition&#45;28</title>\n<polygon fill=\"#ffffff\" stroke=\"transparent\" points=\"-4,4 -4,-256 112.3433,-256 112.3433,4 -4,4\"/>\n<!-- input_r1&#45;1 -->\n<g id=\"node1\" class=\"node\">\n<title>input_r1&#45;1</title>\n<ellipse fill=\"none\" stroke=\"#00ff00\" stroke-width=\"3\" cx=\"54.1717\" cy=\"-18\" rx=\"43.9143\" ry=\"18\"/>\n<text text-anchor=\"middle\" x=\"54.1717\" y=\"-14.9\" font-family=\"arial\" font-size=\"12.00\" fill=\"#000000\">input_r1&#45;1</text>\n</g>\n<!-- hidden_r1a&#45;1 -->\n<g id=\"node2\" class=\"node\">\n<title>hidden_r1a&#45;1</title>\n<ellipse fill=\"none\" stroke=\"#000000\" cx=\"54.1717\" cy=\"-90\" rx=\"54.3439\" ry=\"18\"/>\n<text text-anchor=\"middle\" x=\"54.1717\" y=\"-86.9\" font-family=\"arial\" font-size=\"12.00\" fill=\"#000000\">hidden_r1a&#45;1</text>\n</g>\n<!-- input_r1&#45;1&#45;&gt;hidden_r1a&#45;1 -->\n<g id=\"edge2\" class=\"edge\">\n<title>input_r1&#45;1&#45;&gt;hidden_r1a&#45;1</title>\n<path fill=\"none\" stroke=\"#000000\" d=\"M54.1717,-36.1686C54.1717,-43.869 54.1717,-53.0257 54.1717,-61.5834\"/>\n<polygon fill=\"#000000\" stroke=\"#000000\" points=\"50.6718,-61.5867 54.1717,-71.5867 57.6718,-61.5868 50.6718,-61.5867\"/>\n</g>\n<!-- hidden_r1b&#45;1 -->\n<g id=\"node3\" class=\"node\">\n<title>hidden_r1b&#45;1</title>\n<ellipse fill=\"none\" stroke=\"#000000\" cx=\"54.1717\" cy=\"-162\" rx=\"54.3439\" ry=\"18\"/>\n<text text-anchor=\"middle\" x=\"54.1717\" y=\"-158.9\" font-family=\"arial\" font-size=\"12.00\" fill=\"#000000\">hidden_r1b&#45;1</text>\n</g>\n<!-- hidden_r1a&#45;1&#45;&gt;hidden_r1b&#45;1 -->\n<g id=\"edge3\" class=\"edge\">\n<title>hidden_r1a&#45;1&#45;&gt;hidden_r1b&#45;1</title>\n<path fill=\"none\" stroke=\"#000000\" d=\"M48.2193,-108.1686C47.4573,-115.9875 47.2413,-125.3077 47.5712,-133.9779\"/>\n<polygon fill=\"#000000\" stroke=\"#000000\" points=\"44.0875,-134.3413 48.2444,-144.0866 51.0721,-133.8761 44.0875,-134.3413\"/>\n</g>\n<!-- hidden_r1b&#45;1&#45;&gt;hidden_r1a&#45;1 -->\n<g id=\"edge1\" class=\"edge\">\n<title>hidden_r1b&#45;1&#45;&gt;hidden_r1a&#45;1</title>\n<path fill=\"none\" stroke=\"#000000\" d=\"M60.0989,-144.0866C60.8728,-136.3007 61.1007,-126.99 60.7827,-118.3059\"/>\n<polygon fill=\"#000000\" stroke=\"#000000\" points=\"64.2652,-117.9206 60.124,-108.1686 57.2799,-118.3746 64.2652,-117.9206\"/>\n</g>\n<!-- output_r1&#45;1 -->\n<g id=\"node4\" class=\"node\">\n<title>output_r1&#45;1</title>\n<ellipse fill=\"none\" stroke=\"#ff0000\" stroke-width=\"3\" cx=\"54.1717\" cy=\"-234\" rx=\"47.3006\" ry=\"18\"/>\n<text text-anchor=\"middle\" x=\"54.1717\" y=\"-230.9\" font-family=\"arial\" font-size=\"12.00\" fill=\"#000000\">output_r1&#45;1</text>\n</g>\n<!-- hidden_r1b&#45;1&#45;&gt;output_r1&#45;1 -->\n<g id=\"edge4\" class=\"edge\">\n<title>hidden_r1b&#45;1&#45;&gt;output_r1&#45;1</title>\n<path fill=\"none\" stroke=\"#000000\" d=\"M54.1717,-180.1686C54.1717,-187.869 54.1717,-197.0257 54.1717,-205.5834\"/>\n<polygon fill=\"#000000\" stroke=\"#000000\" points=\"50.6718,-205.5867 54.1717,-215.5867 57.6718,-205.5868 50.6718,-205.5867\"/>\n</g>\n</g>\n</svg>\n"
     },
     "metadata": {
      "tags": []
     },
     "execution_count": 61
    }
   ]
  },
  {
   "cell_type": "code",
   "metadata": {
    "id": "xx0P8GajdoYt",
    "colab_type": "code",
    "outputId": "62ef161c-abdb-44a1-bf13-871a7370ad05",
    "colab": {
     "base_uri": "https://localhost:8080/",
     "height": 272
    }
   },
   "source": [
    "# Create Composition\n",
    "comp_multihidden = pnl.Composition()\n",
    "\n",
    "input_mh = pnl.TransferMechanism(\n",
    "    name='input_mh',\n",
    "    function=pnl.Linear,\n",
    "    default_variable=np.ones((4,)),\n",
    ")\n",
    "\n",
    "hidden_mh_a = pnl.TransferMechanism(\n",
    "    name='hidden_mh_a',\n",
    "    function=pnl.Linear,\n",
    "    default_variable=np.ones((4,)),\n",
    ")\n",
    "\n",
    "hidden_mh_b = pnl.TransferMechanism(\n",
    "    name='hidden_mh_b',\n",
    "    function=pnl.Linear,\n",
    "    default_variable=np.ones((4,)),\n",
    ")\n",
    "\n",
    "hidden_mh_c = pnl.TransferMechanism(\n",
    "    name='hidden_mh_c',\n",
    "    function=pnl.Linear,\n",
    "    default_variable=np.ones((4,)),\n",
    ")\n",
    "\n",
    "output_mh = pnl.TransferMechanism(\n",
    "    name='output_mh',\n",
    "    function=pnl.Linear,\n",
    "    default_variable=np.ones((4,)),\n",
    ")\n",
    "\n",
    "\n",
    "# Place Mechanisms in Composition\n",
    "comp_multihidden.add_linear_processing_pathway(pathway = [input_mh, hidden_mh_a, output_mh])\n",
    "comp_multihidden.add_linear_processing_pathway(pathway = [input_mh, hidden_mh_b, output_mh])\n",
    "comp_multihidden.add_linear_processing_pathway(pathway = [input_mh, hidden_mh_c, output_mh])\n",
    "\n",
    "\n",
    "\n",
    "input_mh.reportOutputPref = True\n",
    "hidden_mh_a.reportOutputPref = True\n",
    "hidden_mh_b.reportOutputPref = True\n",
    "hidden_mh_c.reportOutputPref = True\n",
    "output_mh.reportOutputPref = True\n",
    "\n",
    "comp_multihidden.show_graph(output_fmt = 'jupyter')"
   ],
   "execution_count": 0,
   "outputs": [
    {
     "output_type": "execute_result",
     "data": {
      "text/plain": [
       "<graphviz.dot.Digraph at 0x7f35378ee710>"
      ],
      "image/svg+xml": "<?xml version=\"1.0\" encoding=\"UTF-8\" standalone=\"no\"?>\n<!DOCTYPE svg PUBLIC \"-//W3C//DTD SVG 1.1//EN\"\n \"http://www.w3.org/Graphics/SVG/1.1/DTD/svg11.dtd\">\n<!-- Generated by graphviz version 2.40.1 (20161225.0304)\n -->\n<!-- Title: Composition&#45;29 Pages: 1 -->\n<svg width=\"416pt\" height=\"188pt\"\n viewBox=\"0.00 0.00 415.73 188.00\" xmlns=\"http://www.w3.org/2000/svg\" xmlns:xlink=\"http://www.w3.org/1999/xlink\">\n<g id=\"graph0\" class=\"graph\" transform=\"scale(1 1) rotate(0) translate(4 184)\">\n<title>Composition&#45;29</title>\n<polygon fill=\"#ffffff\" stroke=\"transparent\" points=\"-4,4 -4,-184 411.733,-184 411.733,4 -4,4\"/>\n<!-- input_mh&#45;1 -->\n<g id=\"node1\" class=\"node\">\n<title>input_mh&#45;1</title>\n<ellipse fill=\"none\" stroke=\"#00ff00\" stroke-width=\"3\" cx=\"204.1743\" cy=\"-18\" rx=\"47.3006\" ry=\"18\"/>\n<text text-anchor=\"middle\" x=\"204.1743\" y=\"-14.9\" font-family=\"arial\" font-size=\"12.00\" fill=\"#000000\">input_mh&#45;1</text>\n</g>\n<!-- hidden_mh_a&#45;1 -->\n<g id=\"node2\" class=\"node\">\n<title>hidden_mh_a&#45;1</title>\n<ellipse fill=\"none\" stroke=\"#000000\" cx=\"62.1743\" cy=\"-90\" rx=\"62.3491\" ry=\"18\"/>\n<text text-anchor=\"middle\" x=\"62.1743\" y=\"-86.9\" font-family=\"arial\" font-size=\"12.00\" fill=\"#000000\">hidden_mh_a&#45;1</text>\n</g>\n<!-- input_mh&#45;1&#45;&gt;hidden_mh_a&#45;1 -->\n<g id=\"edge1\" class=\"edge\">\n<title>input_mh&#45;1&#45;&gt;hidden_mh_a&#45;1</title>\n<path fill=\"none\" stroke=\"#000000\" d=\"M175.4385,-32.5703C154.3331,-43.2716 125.3938,-57.945 102.0506,-69.781\"/>\n<polygon fill=\"#000000\" stroke=\"#000000\" points=\"100.4181,-66.6845 93.0819,-74.3285 103.5838,-72.9278 100.4181,-66.6845\"/>\n</g>\n<!-- hidden_mh_b&#45;1 -->\n<g id=\"node3\" class=\"node\">\n<title>hidden_mh_b&#45;1</title>\n<ellipse fill=\"none\" stroke=\"#000000\" cx=\"204.1743\" cy=\"-90\" rx=\"62.3491\" ry=\"18\"/>\n<text text-anchor=\"middle\" x=\"204.1743\" y=\"-86.9\" font-family=\"arial\" font-size=\"12.00\" fill=\"#000000\">hidden_mh_b&#45;1</text>\n</g>\n<!-- input_mh&#45;1&#45;&gt;hidden_mh_b&#45;1 -->\n<g id=\"edge2\" class=\"edge\">\n<title>input_mh&#45;1&#45;&gt;hidden_mh_b&#45;1</title>\n<path fill=\"none\" stroke=\"#000000\" d=\"M204.1743,-36.1686C204.1743,-43.869 204.1743,-53.0257 204.1743,-61.5834\"/>\n<polygon fill=\"#000000\" stroke=\"#000000\" points=\"200.6744,-61.5867 204.1743,-71.5867 207.6744,-61.5868 200.6744,-61.5867\"/>\n</g>\n<!-- hidden_mh_c&#45;1 -->\n<g id=\"node4\" class=\"node\">\n<title>hidden_mh_c&#45;1</title>\n<ellipse fill=\"none\" stroke=\"#000000\" cx=\"346.1743\" cy=\"-90\" rx=\"61.6175\" ry=\"18\"/>\n<text text-anchor=\"middle\" x=\"346.1743\" y=\"-86.9\" font-family=\"arial\" font-size=\"12.00\" fill=\"#000000\">hidden_mh_c&#45;1</text>\n</g>\n<!-- input_mh&#45;1&#45;&gt;hidden_mh_c&#45;1 -->\n<g id=\"edge3\" class=\"edge\">\n<title>input_mh&#45;1&#45;&gt;hidden_mh_c&#45;1</title>\n<path fill=\"none\" stroke=\"#000000\" d=\"M232.9101,-32.5703C254.0155,-43.2716 282.9548,-57.945 306.2979,-69.781\"/>\n<polygon fill=\"#000000\" stroke=\"#000000\" points=\"304.7648,-72.9278 315.2667,-74.3285 307.9305,-66.6845 304.7648,-72.9278\"/>\n</g>\n<!-- output_mh&#45;1 -->\n<g id=\"node5\" class=\"node\">\n<title>output_mh&#45;1</title>\n<ellipse fill=\"none\" stroke=\"#ff0000\" stroke-width=\"3\" cx=\"204.1743\" cy=\"-162\" rx=\"51.1876\" ry=\"18\"/>\n<text text-anchor=\"middle\" x=\"204.1743\" y=\"-158.9\" font-family=\"arial\" font-size=\"12.00\" fill=\"#000000\">output_mh&#45;1</text>\n</g>\n<!-- hidden_mh_a&#45;1&#45;&gt;output_mh&#45;1 -->\n<g id=\"edge5\" class=\"edge\">\n<title>hidden_mh_a&#45;1&#45;&gt;output_mh&#45;1</title>\n<path fill=\"none\" stroke=\"#000000\" d=\"M93.3368,-105.8007C114.5761,-116.5699 142.8477,-130.9048 165.5215,-142.4014\"/>\n<polygon fill=\"#000000\" stroke=\"#000000\" points=\"164.0397,-145.5742 174.5415,-146.9749 167.2053,-139.3309 164.0397,-145.5742\"/>\n</g>\n<!-- hidden_mh_b&#45;1&#45;&gt;output_mh&#45;1 -->\n<g id=\"edge6\" class=\"edge\">\n<title>hidden_mh_b&#45;1&#45;&gt;output_mh&#45;1</title>\n<path fill=\"none\" stroke=\"#000000\" d=\"M204.1743,-108.1686C204.1743,-115.869 204.1743,-125.0257 204.1743,-133.5834\"/>\n<polygon fill=\"#000000\" stroke=\"#000000\" points=\"200.6744,-133.5867 204.1743,-143.5867 207.6744,-133.5868 200.6744,-133.5867\"/>\n</g>\n<!-- hidden_mh_c&#45;1&#45;&gt;output_mh&#45;1 -->\n<g id=\"edge4\" class=\"edge\">\n<title>hidden_mh_c&#45;1&#45;&gt;output_mh&#45;1</title>\n<path fill=\"none\" stroke=\"#000000\" d=\"M315.3624,-105.6229C293.9983,-116.4554 265.3957,-130.9582 242.5509,-142.5414\"/>\n<polygon fill=\"#000000\" stroke=\"#000000\" points=\"240.8065,-139.5017 233.4703,-147.1457 243.9722,-145.745 240.8065,-139.5017\"/>\n</g>\n</g>\n</svg>\n"
     },
     "metadata": {
      "tags": []
     },
     "execution_count": 62
    }
   ]
  },
  {
   "cell_type": "markdown",
   "metadata": {
    "id": "eSHeXhofdoY2",
    "colab_type": "text"
   },
   "source": "This is currently the end of the tutorial, but more content is being added weekly. For further examples, look to the Scripts folder inside your PsyNeuLink directory for a variety of functioning models."
  }
 ]
}
