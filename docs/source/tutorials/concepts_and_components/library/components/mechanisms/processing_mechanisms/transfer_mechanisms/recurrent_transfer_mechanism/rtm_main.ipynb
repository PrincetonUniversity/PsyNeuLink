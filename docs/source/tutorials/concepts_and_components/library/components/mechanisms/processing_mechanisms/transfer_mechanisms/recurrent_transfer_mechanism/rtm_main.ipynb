{
 "cells": [
  {
   "metadata": {},
   "cell_type": "markdown",
   "source": [
    "# Recurrent Transfer Mechanism - Simple Demo\n",
    "\n",
    "A recurrent transfer mechanism is a type of transfer mechanism that extends the functionality of a standard transfer mechanism by allowing to specify the recurrent connections via a matrix.\n",
    "\n",
    "To make this clear, we will implement a transfer mechanism and a *recurrent* transfer mechanism and compare them.\n",
    "\n",
    "*Setup and Installation:*"
   ],
   "id": "5460b22f773d6be4"
  },
  {
   "metadata": {},
   "cell_type": "code",
   "source": [
    "%%capture\n",
    "%pip install psyneulink"
   ],
   "id": "706c69742413ad09",
   "outputs": [],
   "execution_count": null
  },
  {
   "metadata": {
    "ExecuteTime": {
     "end_time": "2025-07-13T18:01:33.891139Z",
     "start_time": "2025-07-13T18:01:30.835989Z"
    }
   },
   "cell_type": "code",
   "source": "import psyneulink as pnl",
   "id": "f183fc6c11f63414",
   "outputs": [],
   "execution_count": 4
  },
  {
   "metadata": {},
   "cell_type": "markdown",
   "source": "Let's create mechanisms that takes a 3-dimensional input:",
   "id": "9e6c251c1202032a"
  },
  {
   "metadata": {
    "ExecuteTime": {
     "end_time": "2025-07-13T18:01:35.326667Z",
     "start_time": "2025-07-13T18:01:35.015196Z"
    }
   },
   "cell_type": "code",
   "source": [
    "transfer = pnl.TransferMechanism(\n",
    "    input_shapes=3,\n",
    ")\n",
    "\n",
    "recurrent_transfer = pnl.RecurrentTransferMechanism(\n",
    "    input_shapes=3,\n",
    ")"
   ],
   "id": "d514e0c9e3abfec4",
   "outputs": [],
   "execution_count": 5
  },
  {
   "metadata": {},
   "cell_type": "markdown",
   "source": "Let's see how they behave with the same input. For convenience, we define a helper function to execute the mechanisms on multiple inputs and print the result:",
   "id": "bbbb864892fdfea4"
  },
  {
   "metadata": {
    "ExecuteTime": {
     "end_time": "2025-07-13T18:01:37.395051Z",
     "start_time": "2025-07-13T18:01:37.391745Z"
    }
   },
   "cell_type": "code",
   "source": [
    "def execute_and_print(\n",
    "        transfer_mech: pnl.TransferMechanism,\n",
    "        recurrent_mech: pnl.RecurrentTransferMechanism,\n",
    "        input_sequence: list\n",
    "):\n",
    "    \"\"\"\n",
    "    Executes a transfer mechanism and a recurrent transfer mechanism on a sequence of inputs.\n",
    "\n",
    "    This is to demonstrate how the two mechanisms behave with the same inputs. We use sequences\n",
    "    since the mechanisms are designed to integrate over time through recurrence.\n",
    "    \"\"\"\n",
    "    for idx, input_el in enumerate(input_sequence):\n",
    "        print('*'* 5 + f' Element {idx} ' + '*'* 5)\n",
    "        print(f\"Input      : {input_el}\")\n",
    "        print(f\"Transfer   : {transfer_mech.execute(input_el)}\")\n",
    "        print(f\"Transfer(R): {recurrent_mech.execute(input_el)}\")\n",
    "        print()"
   ],
   "id": "1adeee0e8fb2b554",
   "outputs": [],
   "execution_count": 6
  },
  {
   "metadata": {},
   "cell_type": "markdown",
   "source": "Let's run the mechanism on a sequence of inputs:",
   "id": "87899f3a346bc8e"
  },
  {
   "metadata": {
    "ExecuteTime": {
     "end_time": "2025-07-13T18:01:39.016800Z",
     "start_time": "2025-07-13T18:01:39.002707Z"
    }
   },
   "cell_type": "code",
   "source": [
    "input_sequence = [[1, 0, 0], [0, 1, 0], [0, 0, 1]]\n",
    "\n",
    "execute_and_print(transfer, recurrent_transfer, input_sequence)"
   ],
   "id": "56394ec7df695a19",
   "outputs": [
    {
     "name": "stdout",
     "output_type": "stream",
     "text": [
      "***** Element 0 *****\n",
      "Input      : [1, 0, 0]\n",
      "Transfer   : [[1. 0. 0.]]\n",
      "Transfer(R): [[1. 0. 0.]]\n",
      "\n",
      "***** Element 1 *****\n",
      "Input      : [0, 1, 0]\n",
      "Transfer   : [[0. 1. 0.]]\n",
      "Transfer(R): [[0. 1. 0.]]\n",
      "\n",
      "***** Element 2 *****\n",
      "Input      : [0, 0, 1]\n",
      "Transfer   : [[0. 0. 1.]]\n",
      "Transfer(R): [[0. 0. 1.]]\n",
      "\n"
     ]
    }
   ],
   "execution_count": 7
  },
  {
   "metadata": {},
   "cell_type": "markdown",
   "source": "We see, that the input is equal to the output. This is because both of the mechanisms by default use no integration and use the identity funtion to transform the output. Let's change the function to see how the mechanisms behave:",
   "id": "fbb3caea282914d8"
  },
  {
   "metadata": {
    "ExecuteTime": {
     "end_time": "2025-07-13T18:01:43.726291Z",
     "start_time": "2025-07-13T18:01:43.509901Z"
    }
   },
   "cell_type": "code",
   "source": [
    "transfer = pnl.TransferMechanism(\n",
    "    input_shapes=3,\n",
    "    function=pnl.Linear(slope=2, offset=1),\n",
    ")\n",
    "\n",
    "recurrent_transfer = pnl.RecurrentTransferMechanism(\n",
    "    input_shapes=3,\n",
    "    function=pnl.Linear(slope=2, offset=1)\n",
    ")\n",
    "\n",
    "execute_and_print(transfer, recurrent_transfer, input_sequence)"
   ],
   "id": "7cdcca31835dab72",
   "outputs": [
    {
     "name": "stdout",
     "output_type": "stream",
     "text": [
      "***** Element 0 *****\n",
      "Input      : [1, 0, 0]\n",
      "Transfer   : [[3. 1. 1.]]\n",
      "Transfer(R): [[3. 1. 1.]]\n",
      "\n",
      "***** Element 1 *****\n",
      "Input      : [0, 1, 0]\n",
      "Transfer   : [[1. 3. 1.]]\n",
      "Transfer(R): [[1. 3. 1.]]\n",
      "\n",
      "***** Element 2 *****\n",
      "Input      : [0, 0, 1]\n",
      "Transfer   : [[1. 1. 3.]]\n",
      "Transfer(R): [[1. 1. 3.]]\n",
      "\n"
     ]
    }
   ],
   "execution_count": 8
  },
  {
   "metadata": {},
   "cell_type": "markdown",
   "source": "We see the output is now transformed by the linear function. However, we still don't see any integration happening. We can either set integration mode to true (to isolate the integration, we set the function back to indentity):",
   "id": "e8adf5e281d3f56c"
  },
  {
   "metadata": {
    "ExecuteTime": {
     "end_time": "2025-07-13T18:01:44.898821Z",
     "start_time": "2025-07-13T18:01:44.693827Z"
    }
   },
   "cell_type": "code",
   "source": [
    "transfer = pnl.TransferMechanism(\n",
    "    input_shapes=3,\n",
    "    integrator_mode=True\n",
    "\n",
    ")\n",
    "\n",
    "recurrent_transfer = pnl.RecurrentTransferMechanism(\n",
    "    input_shapes=3,\n",
    "    integrator_mode=True\n",
    ")\n",
    "\n",
    "execute_and_print(transfer, recurrent_transfer, input_sequence)"
   ],
   "id": "48f77491d438422c",
   "outputs": [
    {
     "name": "stdout",
     "output_type": "stream",
     "text": [
      "***** Element 0 *****\n",
      "Input      : [1, 0, 0]\n",
      "Transfer   : [[0.5 0.  0. ]]\n",
      "Transfer(R): [[0.5 0.  0. ]]\n",
      "\n",
      "***** Element 1 *****\n",
      "Input      : [0, 1, 0]\n",
      "Transfer   : [[0.25 0.5  0.  ]]\n",
      "Transfer(R): [[0.25 0.5  0.  ]]\n",
      "\n",
      "***** Element 2 *****\n",
      "Input      : [0, 0, 1]\n",
      "Transfer   : [[0.125 0.25  0.5  ]]\n",
      "Transfer(R): [[0.125 0.25  0.5  ]]\n",
      "\n"
     ]
    }
   ],
   "execution_count": 9
  },
  {
   "metadata": {},
   "cell_type": "markdown",
   "source": [
    "Now, both mechanisms integrate their previous (hidden) state with the current input. The default integration function is an AdaptiveIntegrator with a integration $rate = 0.5$ and implementing this function:\n",
    "\n",
    "$$\n",
    "((1-rate) * previous\\_value) + (rate * variable)  + noise + offset\n",
    "$$\n",
    "\n",
    "with:\n",
    "- $rate = 0.5$\n",
    "- $noise = 0$\n",
    "- $offset = 0$"
   ],
   "id": "6d57134eca354300"
  },
  {
   "metadata": {},
   "cell_type": "markdown",
   "source": "As for the TransferMechanism, we can either specify the rate, noise and offset in the initialization or define the integrator_function directly:",
   "id": "e38499f6f9b7113f"
  },
  {
   "metadata": {
    "ExecuteTime": {
     "end_time": "2025-07-13T17:44:21.195729Z",
     "start_time": "2025-07-13T17:44:20.763211Z"
    }
   },
   "cell_type": "code",
   "source": [
    "transfer = pnl.TransferMechanism(\n",
    "    input_shapes=3,\n",
    "    integrator_mode=True,\n",
    "    integration_rate=.25,\n",
    ")\n",
    "\n",
    "recurrent_transfer = pnl.RecurrentTransferMechanism(\n",
    "    input_shapes=3,\n",
    "    integrator_mode=True,\n",
    "    integrator_function=pnl.AdaptiveIntegrator(rate=.25)\n",
    ")\n",
    "\n",
    "execute_and_print(transfer, recurrent_transfer, input_sequence)"
   ],
   "id": "32b936a01b5e7114",
   "outputs": [
    {
     "name": "stdout",
     "output_type": "stream",
     "text": [
      "***** Element 0 *****\n",
      "Input      : [1, 0, 0]\n",
      "Transfer   : [[0.25 0.   0.  ]]\n",
      "Transfer(R): [[0.25 0.   0.  ]]\n",
      "\n",
      "***** Element 1 *****\n",
      "Input      : [0, 1, 0]\n",
      "Transfer   : [[0.1875 0.25   0.    ]]\n",
      "Transfer(R): [[0.1875 0.25   0.    ]]\n",
      "\n",
      "***** Element 2 *****\n",
      "Input      : [0, 0, 1]\n",
      "Transfer   : [[0.140625 0.1875   0.25    ]]\n",
      "Transfer(R): [[0.140625 0.1875   0.25    ]]\n",
      "\n"
     ]
    }
   ],
   "execution_count": 32
  },
  {
   "metadata": {},
   "cell_type": "markdown",
   "source": "For the RecurrentTransferMechanism, we can also specify the recurrent connection matrix. By default, it is set to the identity matrix (i.e. each node is connected to itself) which is also equivalent to the TransferMechanism. However, we can connect the noes to other nodes by specifying off-diagonal elements in the matrix:",
   "id": "98fed9ad555c9c53"
  },
  {
   "metadata": {
    "ExecuteTime": {
     "end_time": "2025-07-13T18:09:38.816370Z",
     "start_time": "2025-07-13T18:09:38.288608Z"
    }
   },
   "cell_type": "code",
   "source": [
    "transfer = pnl.TransferMechanism(\n",
    "    input_shapes=3,\n",
    "    integrator_mode=True,\n",
    ")\n",
    "\n",
    "recurrent_transfer_2 = pnl.RecurrentTransferMechanism(\n",
    "    input_shapes=3,\n",
    "    integrator_mode=True,\n",
    "    matrix=[              # <-- this is ignored\n",
    "        [0, 1, 0],\n",
    "        [0, 0, 1],\n",
    "        [1, 0, 0]],\n",
    ")\n",
    "\n",
    "recurrent_mech_3 = pnl.RecurrentTransferMechanism(default_variable=[[0.0, 0.0, 0.0]],\n",
    "                                                  auto=1.0,\n",
    "                                                  hetero=2.0)\n",
    "\n",
    "comp = pnl.Composition()\n",
    "comp.add_node(recurrent_transfer_2)\n",
    "\n",
    "comp.run(inputs={recurrent_transfer_2: input_sequence})\n",
    "\n",
    "print(comp.results)\n",
    "\n",
    "#execute_and_print(transfer, recurrent_mech_3, input_sequence)"
   ],
   "id": "ec74ebcc6eece5a",
   "outputs": [
    {
     "name": "stdout",
     "output_type": "stream",
     "text": [
      "[[[0.5   0.    0.   ]]\n",
      "\n",
      " [[0.25  0.75  0.   ]]\n",
      "\n",
      " [[0.125 0.5   0.875]]]\n"
     ]
    }
   ],
   "execution_count": 18
  },
  {
   "metadata": {
    "ExecuteTime": {
     "end_time": "2025-07-13T17:44:27.684607Z",
     "start_time": "2025-07-13T17:44:27.683020Z"
    }
   },
   "cell_type": "code",
   "source": "# /TODO: Finish up when the RecurrentTransferMechanism is \"fixed\" or misunderstanding is resolved.",
   "id": "b50ff6289a3423f8",
   "outputs": [],
   "execution_count": null
  },
  {
   "metadata": {},
   "cell_type": "code",
   "outputs": [],
   "execution_count": null,
   "source": "",
   "id": "de25093a9f35835c"
  }
 ],
 "metadata": {
  "kernelspec": {
   "display_name": "Python 3",
   "language": "python",
   "name": "python3"
  },
  "language_info": {
   "codemirror_mode": {
    "name": "ipython",
    "version": 2
   },
   "file_extension": ".py",
   "mimetype": "text/x-python",
   "name": "python",
   "nbconvert_exporter": "python",
   "pygments_lexer": "ipython2",
   "version": "2.7.6"
  }
 },
 "nbformat": 4,
 "nbformat_minor": 5
}
