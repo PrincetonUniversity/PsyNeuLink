{
 "cells": [
  {
   "metadata": {},
   "cell_type": "markdown",
   "source": "# 1.1 Processing Mechanisms",
   "id": "ba704bfcf024991d"
  },
  {
   "metadata": {},
   "cell_type": "markdown",
   "source": "*Installation and Setup*",
   "id": "e0af391b0a8731a4"
  },
  {
   "metadata": {
    "ExecuteTime": {
     "end_time": "2025-06-21T03:57:02.428507Z",
     "start_time": "2025-06-21T03:57:01.285472Z"
    }
   },
   "cell_type": "code",
   "source": [
    "%%capture\n",
    "!pip install psyneulink"
   ],
   "id": "f7355df09dce7165",
   "outputs": [],
   "execution_count": 1
  },
  {
   "metadata": {
    "ExecuteTime": {
     "end_time": "2025-06-23T18:42:33.538174Z",
     "start_time": "2025-06-23T18:42:29.446703Z"
    }
   },
   "cell_type": "code",
   "source": "import psyneulink as pnl",
   "id": "31dde21b81406d4d",
   "outputs": [],
   "execution_count": 2
  },
  {
   "metadata": {},
   "cell_type": "markdown",
   "source": [
    "*[Processing Mechanisms](https://princetonuniversity.github.io/PsyNeuLink/ProcessingMechanism.html#module-psyneulink.core.components.mechanisms.processing.processingmechanism)* are the basic units of computation in PsyNeuLink. At their core is a parameterized *function,* but they also contain the machinery to interact with input, output, control, and learning signals. Here, we will introduce the basic concept of two commonly used `ProcessingMechanisms`:\n",
    "\n",
    "- [Transfer Mechanisms](https://princetonuniversity.github.io/PsyNeuLink/TransferMechanism.html), which perform a transformation on their input.\n",
    "- [Integrator Mechanisms](https://princetonuniversity.github.io/PsyNeuLink/IntegratorMechanism.html), which maintain a hidden state that is integrated over time."
   ],
   "id": "2fbf387f60047fb4"
  },
  {
   "metadata": {},
   "cell_type": "markdown",
   "source": [
    "## Transfer Mechanisms\n",
    "\n",
    "Here, we introduce [Transfer Mechanisms](https://princetonuniversity.github.io/PsyNeuLink/TransferMechanism.html). There are other types of mechanisms as well, such as [Integrator Mechanisms](https://princetonuniversity.github.io/PsyNeuLink/IntegratorMechanism.html), which maintain a hidden state that is integrated over time. We will cover those later.\n",
    "\n",
    "To begin, we’ll define a simple `TransferMechanism` that performs a linear transformation on a scalar input. By default, this uses the identity function, meaning the input is passed through unchanged:"
   ],
   "id": "45173b16c3fd510f"
  },
  {
   "metadata": {
    "ExecuteTime": {
     "end_time": "2025-06-21T03:59:30.578911Z",
     "start_time": "2025-06-21T03:59:30.348807Z"
    }
   },
   "cell_type": "code",
   "source": "identity_mechanism = pnl.TransferMechanism()",
   "id": "94aea03351d5d35e",
   "outputs": [],
   "execution_count": 4
  },
  {
   "metadata": {},
   "cell_type": "markdown",
   "source": "We can execute mechanisms with the `execute` method. It takes an input and returns the output of the mechanism:",
   "id": "94be0de8e56b5103"
  },
  {
   "metadata": {
    "ExecuteTime": {
     "end_time": "2025-06-21T04:00:19.822028Z",
     "start_time": "2025-06-21T04:00:19.808736Z"
    }
   },
   "cell_type": "code",
   "source": "identity_mechanism.execute(5)",
   "id": "17a31091d8883385",
   "outputs": [
    {
     "data": {
      "text/plain": [
       "array([[5.]])"
      ]
     },
     "execution_count": 5,
     "metadata": {},
     "output_type": "execute_result"
    }
   ],
   "execution_count": 5
  },
  {
   "metadata": {},
   "cell_type": "markdown",
   "source": [
    "### Functions\n",
    "\n",
    "We can change the function of the mechanism by setting its `function` attribute. For example, we can set it to a linear function with a different slope and intercept:"
   ],
   "id": "6f96ade2a2f638df"
  },
  {
   "metadata": {
    "ExecuteTime": {
     "end_time": "2025-06-21T04:06:06.131028Z",
     "start_time": "2025-06-21T04:06:06.026462Z"
    }
   },
   "cell_type": "code",
   "source": [
    "linear_mechanism = pnl.TransferMechanism(function=pnl.Linear(slope=2, intercept=1))\n",
    "linear_mechanism.execute(5)"
   ],
   "id": "6114e95ed15e9b91",
   "outputs": [
    {
     "data": {
      "text/plain": [
       "array([[11.]])"
      ]
     },
     "execution_count": 13,
     "metadata": {},
     "output_type": "execute_result"
    }
   ],
   "execution_count": 13
  },
  {
   "metadata": {},
   "cell_type": "markdown",
   "source": "PsyNeuLink provides a variety of often-used functions, such as `Logistic`, `Exponential`, and `SoftMax` (see, [Transfer Functions](https://princetonuniversity.github.io/PsyNeuLink/TransferFunctions.html#overview)). For example, we can set the function to be a logistic function:",
   "id": "9420687d14465fd8"
  },
  {
   "metadata": {
    "ExecuteTime": {
     "end_time": "2025-06-21T04:19:01.885366Z",
     "start_time": "2025-06-21T04:19:01.795226Z"
    }
   },
   "cell_type": "code",
   "source": [
    "logistic_mechanism = pnl.TransferMechanism(function=pnl.Logistic(gain=2, offset=1))\n",
    "logistic_mechanism.execute(5)"
   ],
   "id": "47684a756c1ea054",
   "outputs": [
    {
     "data": {
      "text/plain": [
       "array([[1.9999546]])"
      ]
     },
     "execution_count": 17,
     "metadata": {},
     "output_type": "execute_result"
    }
   ],
   "execution_count": 17
  },
  {
   "metadata": {},
   "cell_type": "markdown",
   "source": [
    "#### Custom Functions\n",
    "\n",
    "We can also use custom functions. For example, we can define a function and then wrap it in a `UserDefinedFunction` to use it as a mechanism's function:"
   ],
   "id": "e5b8d531b382feae"
  },
  {
   "metadata": {
    "ExecuteTime": {
     "end_time": "2025-06-21T05:17:10.441458Z",
     "start_time": "2025-06-21T05:17:10.303137Z"
    }
   },
   "cell_type": "code",
   "source": [
    "def threshold_square(x):\n",
    "    _x = x ** 4\n",
    "    if _x < 5:\n",
    "        return _x\n",
    "    else:\n",
    "        return 4\n",
    "\n",
    "threshold_square_wrapped = pnl.UserDefinedFunction(threshold_square)\n",
    "custom_mechanism = pnl.TransferMechanism(function=threshold_square_wrapped)\n",
    "print(custom_mechanism.execute(1))\n",
    "print(custom_mechanism.execute(2))\n",
    "print(custom_mechanism.execute(3))"
   ],
   "id": "6e6a145ccede7e75",
   "outputs": [
    {
     "name": "stdout",
     "output_type": "stream",
     "text": [
      "[[1.]]\n",
      "[[4]]\n",
      "[[4]]\n"
     ]
    }
   ],
   "execution_count": 43
  },
  {
   "metadata": {},
   "cell_type": "markdown",
   "source": [
    "### Input Shapes\n",
    "\n",
    "In addition to the function, a `TransferMechanism` can be configured with an `input_shapes` argument, which specifies the shape of the input it expects. This is useful for mechanisms that need to handle multi-dimensional data. In this case the function will be applied to each element of the input independently."
   ],
   "id": "9cdb0da886c1bcc"
  },
  {
   "metadata": {
    "ExecuteTime": {
     "end_time": "2025-06-21T05:26:46.147742Z",
     "start_time": "2025-06-21T05:26:46.054515Z"
    }
   },
   "cell_type": "code",
   "source": [
    "linear_mechanism_2d = pnl.TransferMechanism(input_shapes=2)\n",
    "linear_mechanism_2d.execute([1, 2])"
   ],
   "id": "53790b39823da726",
   "outputs": [
    {
     "data": {
      "text/plain": [
       "array([[1., 2.]])"
      ]
     },
     "execution_count": 44,
     "metadata": {},
     "output_type": "execute_result"
    }
   ],
   "execution_count": 44
  },
  {
   "metadata": {},
   "cell_type": "markdown",
   "source": "In addition to multidimensional inputs, a `TransferMechanism` can also handle multiple input ports. Each of the port will have its own shape. For example, in the following example, the mechanism has two input ports, one with shape `(2,)` and the other with shape `(1,)`. The function will be applied to each port independently:",
   "id": "151d67b94d14c58a"
  },
  {
   "metadata": {
    "ExecuteTime": {
     "end_time": "2025-06-21T05:38:48.090275Z",
     "start_time": "2025-06-21T05:38:47.987696Z"
    }
   },
   "cell_type": "code",
   "source": [
    "linear_mechanism_2x3d = pnl.TransferMechanism(input_shapes=(2, 1), function=pnl.Linear(slope=2))\n",
    "linear_mechanism_2x3d.execute([[1, 2], [3]])"
   ],
   "id": "9f3e042bf9dc79b4",
   "outputs": [
    {
     "data": {
      "text/plain": [
       "array([array([2., 4.]), array([6.])], dtype=object)"
      ]
     },
     "execution_count": 85,
     "metadata": {},
     "output_type": "execute_result"
    }
   ],
   "execution_count": 85
  },
  {
   "metadata": {},
   "cell_type": "markdown",
   "source": [
    "## Integrator Mechanisms\n",
    "\n",
    "An [Integrator Mechanisms](https://princetonuniversity.github.io/PsyNeuLink/IntegratorMechanism.html) integrates its input, possibly based on its prior values (hidden state). Instead of `TransferFunctions`, it uses [IntegratorFunctions](https://princetonuniversity.github.io/PsyNeuLink/IntegratorFunctions.html#psyneulink.core.components.functions.stateful.integratorfunctions.IntegratorFunction). Most of these functions use the hidden state of the mechanism and 'integrate' the input with the current state.\n",
    "\n",
    "For example the `SimpleIntegrator` function adds the input to the hidden state:\n",
    "\n"
   ],
   "id": "5f1de670945bdbbe"
  },
  {
   "metadata": {
    "ExecuteTime": {
     "end_time": "2025-06-23T19:03:39.685528Z",
     "start_time": "2025-06-23T19:03:39.600705Z"
    }
   },
   "cell_type": "code",
   "source": [
    "integrator_mechanism = pnl.IntegratorMechanism(\n",
    "    function=pnl.SimpleIntegrator()\n",
    ")\n",
    "# The initial value of the mechanism is 0, which is the default hidden state.\n",
    "integrator_mechanism.value"
   ],
   "id": "c9be928fd27b58fe",
   "outputs": [
    {
     "data": {
      "text/plain": [
       "array([[0.]])"
      ]
     },
     "execution_count": 6,
     "metadata": {},
     "output_type": "execute_result"
    }
   ],
   "execution_count": 6
  },
  {
   "metadata": {
    "ExecuteTime": {
     "end_time": "2025-06-23T19:11:52.855817Z",
     "start_time": "2025-06-23T19:11:52.849507Z"
    }
   },
   "cell_type": "code",
   "source": [
    "# if we run it once with the input 1, the result (and the hidden state) is 1:\n",
    "print(integrator_mechanism.execute(1)) # <-- this is 1"
   ],
   "id": "ae8733ee256236d",
   "outputs": [
    {
     "name": "stdout",
     "output_type": "stream",
     "text": [
      "[[7.]]\n"
     ]
    }
   ],
   "execution_count": 14
  },
  {
   "metadata": {
    "ExecuteTime": {
     "end_time": "2025-06-23T19:11:51.128053Z",
     "start_time": "2025-06-23T19:11:51.103461Z"
    }
   },
   "cell_type": "code",
   "source": [
    "# if we run it another time, the value and result \"accumulates\":\n",
    "print(integrator_mechanism.execute(1)) # <-- this is 2 = 1 (hidden) + 1 (input)"
   ],
   "id": "14a97d580df65adc",
   "outputs": [
    {
     "name": "stdout",
     "output_type": "stream",
     "text": [
      "[[6.]]\n"
     ]
    }
   ],
   "execution_count": 13
  },
  {
   "metadata": {
    "ExecuteTime": {
     "end_time": "2025-06-23T19:06:46.324264Z",
     "start_time": "2025-06-23T19:06:46.319011Z"
    }
   },
   "cell_type": "code",
   "source": [
    "# and another time:\n",
    "print(integrator_mechanism.execute(1)) # <-- this is 3 = 2 (hidden) + 1 (input)"
   ],
   "id": "bdb2451e00b39bed",
   "outputs": [
    {
     "name": "stdout",
     "output_type": "stream",
     "text": [
      "res: [[5.]]\n",
      "value: [[5.]]\n"
     ]
    }
   ],
   "execution_count": 12
  },
  {
   "metadata": {},
   "cell_type": "raw",
   "source": "Another common `IntegratorFunction` is the `AdaptiveIntegrator`, which integrates a weighted sum of the input and the hidden state:",
   "id": "f2e80d0d18c748a2"
  },
  {
   "metadata": {
    "ExecuteTime": {
     "end_time": "2025-06-23T19:13:56.138835Z",
     "start_time": "2025-06-23T19:13:56.066974Z"
    }
   },
   "cell_type": "code",
   "source": [
    "integrator_mechanism_adaptive = pnl.IntegratorMechanism(\n",
    "    function=pnl.AdaptiveIntegrator(\n",
    "        rate=.3\n",
    "    )\n",
    ")\n",
    "# The initial value of the mechanism is 0, which is the default hidden state.\n",
    "integrator_mechanism_adaptive.value"
   ],
   "id": "792d4fe6cfca70a3",
   "outputs": [
    {
     "data": {
      "text/plain": [
       "array([[0.]])"
      ]
     },
     "execution_count": 20,
     "metadata": {},
     "output_type": "execute_result"
    }
   ],
   "execution_count": 20
  },
  {
   "metadata": {
    "ExecuteTime": {
     "end_time": "2025-06-23T19:13:56.460168Z",
     "start_time": "2025-06-23T19:13:56.455761Z"
    }
   },
   "cell_type": "code",
   "source": "print(integrator_mechanism_adaptive.execute(1)) # <-- 0.3 = (1-.7) * 0 (hidden state) + .3 * 1 (input)",
   "id": "db704708e53643d6",
   "outputs": [
    {
     "name": "stdout",
     "output_type": "stream",
     "text": [
      "[[0.3]]\n"
     ]
    }
   ],
   "execution_count": 21
  },
  {
   "metadata": {
    "ExecuteTime": {
     "end_time": "2025-06-23T19:13:56.997645Z",
     "start_time": "2025-06-23T19:13:56.992584Z"
    }
   },
   "cell_type": "code",
   "source": "print(integrator_mechanism_adaptive.execute(1)) # <-- 0.51 = (1-.7) * 0.3 (hidden state) + .3 * 1 (input)",
   "id": "373d722996b36fa6",
   "outputs": [
    {
     "name": "stdout",
     "output_type": "stream",
     "text": [
      "[[0.51]]\n"
     ]
    }
   ],
   "execution_count": 22
  },
  {
   "metadata": {
    "ExecuteTime": {
     "end_time": "2025-06-23T19:13:57.891049Z",
     "start_time": "2025-06-23T19:13:57.886669Z"
    }
   },
   "cell_type": "code",
   "source": "print(integrator_mechanism_adaptive.execute(1)) # <-- 0.657 = (1-.7) * 0.3 (hidden state) + .3 * 1 (input)\n",
   "id": "c1dde79cb1add339",
   "outputs": [
    {
     "name": "stdout",
     "output_type": "stream",
     "text": [
      "[[0.657]]\n"
     ]
    }
   ],
   "execution_count": 23
  },
  {
   "metadata": {},
   "cell_type": "markdown",
   "source": "In this tutorial we only discussed [Processing Mechanisms](https://princetonuniversity.github.io/PsyNeuLink/ProcessingMechanism.html), which are a subclass of the broader class of [Mechanisms](https://princetonuniversity.github.io/PsyNeuLink/Mechanism.html). PsyNeuLink also includes another type of mechanisms, specifically [Modulatory Mechanisms](https://princetonuniversity.github.io/PsyNeuLink/ModulatoryMechanism.html) such as [Control Mechanisms](https://princetonuniversity.github.io/PsyNeuLink/ControlMechanism.html) and [Learning Mechanisms](https://princetonuniversity.github.io/PsyNeuLink/LearningMechanism.html). While `ProcessingMechanisms` are used to *process* inputs and pass them to outputs, `ModulatoryMechanisms` are used to *modulate* this processing. For example, instead of being fixed, the `rate` parameter of the `AdaptiveIntegrator` could be modulated by a `ControlMechanism` to change the integration rate based on the current state of the system. We will cover these `ModulatoryMechanisms` in later tutorials.",
   "id": "5aa0dd74821254d"
  }
 ],
 "metadata": {
  "kernelspec": {
   "display_name": "Python 3",
   "language": "python",
   "name": "python3"
  },
  "language_info": {
   "codemirror_mode": {
    "name": "ipython",
    "version": 2
   },
   "file_extension": ".py",
   "mimetype": "text/x-python",
   "name": "python",
   "nbconvert_exporter": "python",
   "pygments_lexer": "ipython2",
   "version": "2.7.6"
  }
 },
 "nbformat": 4,
 "nbformat_minor": 5
}
