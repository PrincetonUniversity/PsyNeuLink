{
 "cells": [
  {
   "cell_type": "markdown",
   "id": "0a9f3b49-d54f-41f2-a9c6-7ea9c1b13ff0",
   "metadata": {
    "editable": true,
    "slideshow": {
     "slide_type": ""
    },
    "tags": []
   },
   "source": [
    "# 1.1 Hebbian Learning\n",
    "\n",
    "## Introduction\n",
    "\n",
    "### The Ubiquity of Associations\n",
    "\n",
    "How do you learn to associate things that occur together?\n",
    "\n",
    "- Peaches and ____________?\n",
    "- Cause and ____________?\n",
    "- Law and ____________?\n",
    "- Sooner or ____________?\n",
    "- Jack and ____________ went up ______ ____________ ?\n",
    "\n",
    "\n",
    "\n"
   ]
  },
  {
   "metadata": {},
   "cell_type": "markdown",
   "source": [
    "Solution{solution}\n",
    "\n",
    "- Peaches and cream\n",
    "- Cause and effect\n",
    "- Law and order\n",
    "- Sooner or later\n",
    "- Jack and Jill went up the hill\n"
   ],
   "id": "2c2ffa3f584a739f"
  },
  {
   "metadata": {},
   "cell_type": "markdown",
   "source": [
    "You can automatically fill in most or all of the blanks using associations you have learned in the past. Associations are everywhere in cognition. You learn to associate all the different properties of individual objects, all the objects that make up familiar scenes, and generally any groups of people, properties, and/or things that tend to co-occur.\n",
    "\n",
    "When you simply look at your laptop, you know about its weight, texture, range of likely temperatures, approximately how long the battery will operate before dying, and lots of other associated details. When you see only the top of a chair on the other side of a solid table, you automatically infer details about the rest of the chair that is out of sight - the top part of the chair that you see is strongly associated with the rest of a representation of a chair. \n",
    "\n",
    "What do you expect to see in the waiting room of a doctor's office? As each detail comes to mind, it triggers associations with other details: chairs to sit in while you wait -> coffee table -> magazines -> Oprah magazine, Sports Illustrated, The Economist -> cheap art on walls -> laminate flooring -> hand sanitizer -> clipboards with forms ->, etc. \n",
    "When you see lightning, what do you expect to hear? Associations can build up in *temporal proximity* (events occurring together in time, like lightning and thunder) and *spatial proximity* (objects that co-occur in space, like a chair and a table). Your stream of consciousness is partly built out of strong and weak associations. \n",
    "\n",
    "How does the brain learn associations in the first place?\n",
    "\n",
    "\n",
    "### A Theory of Learning\n",
    "\n",
    "Perhaps the most influential early theory in neuroscience is about learning associations, summarized as: \"Neurons that fire together, wire together.\" The theory was advanced in great detail by Donald Hebb in 1949, who stated, \"The general idea is an old one, that any two cells or systems of cells that are repeatedly active at the same time will tend to become 'associated,' so that activity in one facilitates activity in the other,\" and it is now called Hebbian Learning. It is an elegant theory because it is simple and can potentially explain many psychological and neuroscientific data. And it is also a mechanistic theory that we can explore by building models.\n",
    "\n",
    "### Unsupervised Learning\n",
    "\n",
    "Hebbian learning is a type of *unsupervised learning* because it can extract structure from data without using feedback. There are no answers provided in unsupervised learning, only an acquired representation of structure present in the data. In contrast, *supervised learning* usually involves a decision that can be correct or incorrect (e.g., Is this a picture of a dog or a cat?) and uses training and feedback to improve accuracy."
   ],
   "id": "9ccbc50cef5b0ce7"
  },
  {
   "cell_type": "markdown",
   "id": "a94a60f9442af6a9",
   "metadata": {},
   "source": "**Installation and Setup**"
  },
  {
   "cell_type": "code",
   "id": "444b57edd9312026",
   "metadata": {},
   "source": [
    "%%capture\n",
    "%pip install psyneulink\n",
    "\n",
    "import numpy as np\n",
    "import matplotlib.pyplot as plt\n",
    "import psyneulink as pnl"
   ],
   "outputs": [],
   "execution_count": null
  },
  {
   "cell_type": "markdown",
   "id": "5b493322e9144bc2",
   "metadata": {},
   "source": [
    "## Learning to group Properties of Objects\n",
    "\n",
    "Objects typically have multiple properties, such as size, shape, color, texture, density, temperature, etc. It is useful to learn to group the different properties of an object together.\n",
    "\n",
    "In the following cell, we define a set of features to represent objects. The features include size (small, medium, large), color (red, blue, green), and shape (circle, rectangle, triangle). A feature is coded as `1` when it is present and `0` when it is absent.\n",
    "\n",
    "Next, we specify some objects, such as a small red circle. Each object is represented as a stimulus in the model using a feature-coded vector. For example:\n",
    "\n",
    "A small red circle is coded as `[1, 0, 0, 1, 0, 0, 1, 0, 0]` and abbreviated as `src`.\n"
   ]
  },
  {
   "cell_type": "code",
   "id": "ecaa77741e533940",
   "metadata": {},
   "source": [
    "# Define the set of features\n",
    "feature_names = [\n",
    "    'small', 'medium', 'large',\n",
    "    'red', 'yellow', 'blue',\n",
    "    'circle', 'rectangle', 'triangle'\n",
    "]\n",
    "\n",
    "# Calculate the size of the feature space\n",
    "size_f = len(feature_names)\n",
    "\n",
    "# Define stimuli representing objects composed of features\n",
    "small_red_circle =        [1, 0, 0, 1, 0, 0, 1, 0, 0]\n",
    "medium_yellow_rectangle = [0, 1, 0, 0, 1, 0, 0, 1, 0]\n",
    "large_blue_triangle =     [0, 0, 1, 0, 0, 1, 0, 0, 1]\n",
    "\n",
    "# Note: Feature coding can be more elaborate, e.g., combining basic features.\n",
    "# Represent green as the activation of blue + yellow, and use rectangle + triangle for a house\n",
    "small_green_house = [1, 0, 0, 0, 1, 1, 0, 1, 1]\n",
    "\n",
    "# Assign abbreviated aliases\n",
    "src = small_red_circle\n",
    "myr = medium_yellow_rectangle\n",
    "lbt = large_blue_triangle\n",
    "sgh = small_green_house"
   ],
   "outputs": [],
   "execution_count": null
  },
  {
   "cell_type": "markdown",
   "id": "4990e91ae11a5e7",
   "metadata": {},
   "source": [
    "With our features defined, we can specify a collection of stimuli (`sm_3_uniform`) to present to the model. This collection is organized as a matrix where each row corresponds to a single stimulus, and each column represents a feature (as defined in `feature_names`). Here, the `sm_3_uniform matrix` contains three repetitions of each stimulus."
   ]
  },
  {
   "cell_type": "code",
   "id": "7f855e732ab30899",
   "metadata": {},
   "source": [
    "sm_3_uniform = np.matrix([src,src,src,myr,myr,myr,lbt,lbt,lbt])\n",
    "sm_3_uniform"
   ],
   "outputs": [],
   "execution_count": null
  },
  {
   "cell_type": "markdown",
   "id": "ddf3180df05d2880",
   "metadata": {},
   "source": [
    "You can also think about every feature as being represented by one artificial neuron in a system of neurons. For example, one neuron fires in response to objects with a \"small\" size, another fires for a \"medium\" size, and so on. Similarly, other neurons respond to colors like \"red,\" \"yellow,\" or \"blue,\" or shapes like \"circles\" or \"triangles.\" In our case, this amounts to a total of 9 feature neurons.  \n",
    "\n",
    "When we present a multi-feature stimulus to the system, the corresponding neurons in the system are expected to fire simultaneously. As these neurons fire together, their connections should strengthen, mirroring how associations are formed in the brain. For example, if the system frequently encounters \"red,\" \"small,\" and \"circle\" together, these neurons will become linked. As a result, activating just one feature (e.g., \"red\") can trigger the activation of its associated features (\"small\" and \"circle\"). This process reflects the principle that neurons that fire together wire together.\n",
    "\n",
    "### Hebbian Model #1\n",
    "\n",
    "To model this, we will examine the activations for all stimuli. In this example, the stimuli are conveniently represented in the same way as their corresponding activation patterns, using 0s and 1s. As an example, consider the \"red\" neuron. When this neuron is active, we can examine which other neurons also tend to activate simultaneously. To quantify the relationships between neurons, we use a statistic called correlation. Correlation coefficients range from -1 to 1 and have two key characteristics:\n",
    "\n",
    "1. Sign(+/-)\n",
    "   - Positive(+): Two variables increase or decrease together (e.g., temperature and the volume of mercury).\n",
    "   - Negative(-): As one variable increases, the other decreases (e.g., temperature and layers of clothing worn).\n",
    "2. Strength\n",
    "   - Values close to 1 or -1 indicate a strong relationship.\n",
    "   - Values close to 0 indicate no relationship.\n",
    "         \n",
    "In the next cell, we compute a correlation matrix for the features of all our stimuli. The rows and columns represent the same set of feature neurons. Each value in the matrix indicates the correlation between two neurons. For example, the value at the intersection of the first row (\"small\" neuron) and the fifth column (\"yellow\" neuron) shows how often \"small\" and \"yellow\" fired together. (In Python, this value can be accessed using `cor_mat[0, 4]` since Python indexing starts at 0.)"
   ]
  },
  {
   "cell_type": "code",
   "id": "26d34d837b5c6f4f",
   "metadata": {},
   "source": [
    "# Compute the correlation matrix\n",
    "cor_mat_command = np.corrcoef(sm_3_uniform,\n",
    "                              rowvar=False)  # rowvar=False indicates that the columns represent the features\n",
    "ub = np.abs(cor_mat_command).max()  # Maximum absolute correlation value\n",
    "lb = -ub  # Lower bound for the color scale\n",
    "\n",
    "\n",
    "# Define a function to plot the correlation matrix\n",
    "def plot_correlation_matrix(matrix, mask=None, title=\"Correlation Matrix\", lb=lb, ub=ub):\n",
    "    \"\"\"\n",
    "    Function to plot a correlation matrix with optional masking\n",
    "    \"\"\"\n",
    "    plt.figure()\n",
    "    plt.title(title)\n",
    "    plt.xticks(np.arange(len(feature_names)), feature_names, rotation=35)  # Rotate labels for better visibility\n",
    "    plt.yticks(np.arange(len(feature_names)), feature_names, rotation=35)\n",
    "    if mask is not None:\n",
    "        matrix = np.ma.array(matrix, mask=mask)\n",
    "    plt.imshow(matrix, cmap='RdBu_r', vmin=lb, vmax=ub)\n",
    "    plt.colorbar()\n",
    "    plt.show()\n",
    "\n",
    "\n",
    "# Visualize lower half, upper half, and full correlation matrices\n",
    "# Note: The correlation matrix is symmetric across the diagonal\n",
    "plot_correlation_matrix(cor_mat_command, mask=np.triu(cor_mat_command), title=\"Lower Half of Correlation Matrix\")\n",
    "plot_correlation_matrix(cor_mat_command, mask=np.tril(cor_mat_command), title=\"Upper Half of Correlation Matrix\")\n",
    "plot_correlation_matrix(cor_mat_command, title=\"Full Correlation Matrix\")\n"
   ],
   "outputs": [],
   "execution_count": null
  },
  {
   "cell_type": "markdown",
   "id": "ee991af9b4ae3d95",
   "metadata": {},
   "source": [
    "The correlation matrix, `cor_mat_command`, represents all connections between all neurons. The principal diagonal (top left to bottom right) is the self-correlation; a neuron is perfectly correlated with itself, so it should be all 1's. Except on the diagonal, every connection is depicted twice in this matrix. For example, [1,2] is the same value as [2,1].  \n",
    "\n",
    "The correlation matrix can be thought of as the probability that the firing of two neurons will coincide, based on the frequency that their firing coincided in the past. The rows and columns of the matrix represent the features, ordered as they are in our feature list. Each entry represents the connection between a pair of neurons. One can think of the entries in the correlation matrix as directional probability, where the magnitude gives the strength of association, while the sign gives positive or negative association. \n",
    "\n",
    "Positive values mean that the neurons tend to both 1) fire together and 2) be inactive at the same time. Negative values mean that when one of the neurons is firing, the other one tends to be inactive (and vice a versa). Values close to 0 mean that the neurons do not exhibit a linear relationship in their patterns of activity. Note, the correlations only detect linear relationships. For example, if the activity of two neurons had a perfectly U shaped relationship that would produce a correlation of 0.)      \n",
    "\n",
    "Once the connections between all the feature neurons have been established from learning, these connections can be useful for performing pattern completion. For example, if the model is given an object that is a \"triangle\", it can use the connections to infer that this object is probably also \"large\" and \"blue\".\n",
    "\n",
    "#### Stimulus Driven Activation\n",
    "\n",
    "To demonstrate how the trained model (the correlation matrix, `cor_mat_command`) responds to stimuli, we present it an incomplete stimulus. The model should complete the stimulus based on the learned associations. \n",
    "\n",
    "Consider the following incomplete stimulus: `[0, 0, 0, 0, 0, 0, 0, 0, 1]`. This stimulus represents only a \"triangle.\" We can use the learned associations to predict the other features of the object by multiplying the incomplete stimulus by the correlation matrix. The resulting vector will contain the predicted activations for all features.\n"
   ]
  },
  {
   "cell_type": "code",
   "id": "fa8c2e809f5534c4",
   "metadata": {},
   "source": [
    "# Define the incomplete stimulus\n",
    "triangle = [0, 0, 0, 0, 0, 0, 0, 0, 1]\n",
    "\n",
    "# Step 1: Construct a diagonal matrix from the stimulus vector\n",
    "# This represents activating only the \"triangle\" neuron\n",
    "diag_triangle = np.diag(triangle)\n",
    "\n",
    "# Step 2: Multiply the diagonal matrix with the correlation matrix\n",
    "# This selects and scales rows of the correlation matrix based on the stimulus\n",
    "# It represents how activating the \"triangle\" neuron propagates activation to other neurons\n",
    "active_mat = np.dot(diag_triangle, cor_mat_command)\n",
    "\n",
    "# Step 3: Sum the rows to compute the total activation for each feature\n",
    "# This consolidates the contributions from the activated neurons\n",
    "active_mat = active_mat.sum(axis=0)\n",
    "\n",
    "\n",
    "# This plot visualizes the activations from a triangular stimulus. The output is an array,\n",
    "# and its values are mapped to the principal diagonal of this image. All off-diagonal elements are zero.\n",
    "def plot_activation(vec, title, lb=lb, ub=ub):\n",
    "    plt.figure()\n",
    "    plt.title(title)\n",
    "    plt.imshow(np.diag(vec), cmap='RdBu_r', vmin=lb, vmax=ub)\n",
    "    plt.xticks(np.arange(len(feature_names)), feature_names, rotation=35)\n",
    "    plt.yticks(np.arange(len(feature_names)), feature_names, rotation=35)\n",
    "    plt.colorbar(label=\"Activation Value\")\n",
    "    plt.show()\n",
    "\n",
    "\n",
    "plot_activation(active_mat, \"Activations of a Triangular Stimulus with Cor_mat_command\")\n",
    "\n",
    "\n",
    "# This plot shows the same values but as a line plot.\n",
    "def plot_activation_line(vec, title):\n",
    "    plt.figure()\n",
    "    plt.stem(vec)\n",
    "    plt.title(title)\n",
    "    plt.xticks(np.arange(len(feature_names)), feature_names, rotation=35)\n",
    "    plt.xlabel(\"Feature\")\n",
    "    plt.ylabel(\"Activation Strength\")\n",
    "    plt.show()\n",
    "\n",
    "\n",
    "plot_activation_line(active_mat, \"Activations of a Triangular Stimulus with Cor_mat_command\")"
   ],
   "outputs": [],
   "execution_count": null
  },
  {
   "cell_type": "markdown",
   "id": "734d17e0e488e404",
   "metadata": {},
   "source": [
    "## Accumulating Evidence \n",
    "\n",
    "In the previous example we made an over-simplifying assumption that the stimuli were all present at the same time. But most learning doesn't happen at a single moment in time, it builds up over experience. We also computed correlations that include negative values, but the most basic implementation of \"fire together wire together\" should only detect simultaneous firing, not simultaneous absences of firing. So next we can build a model that accumulates evidence over time and only detects neurons firing together.  \n",
    "\n",
    "### Hebbian Model #2\n",
    "\n",
    "We start with an empty connectivity matrix, full of 0's to indicate that no neurons are wired together yet.  When two neurons fire at the same time we'll add a weight of 0.1 to the matrix."
   ]
  },
  {
   "cell_type": "code",
   "id": "7489ac2b6f27fafc",
   "metadata": {},
   "source": [
    "# Create a new, all zeros correlation matrix\n",
    "cor_mat_manual = np.zeros((size_f, size_f))\n",
    "\n",
    "# Get the number of stimuli (number of rows in sm_3_uniform)  \n",
    "size_s = sm_3_uniform.shape[0]\n",
    "\n",
    "# Define the learning rate as a parameter - this is how much the weights will change each stimulus\n",
    "learning_rate = .1\n",
    "\n",
    "for i, stim in enumerate(sm_3_uniform):  # progress through all stimuli\n",
    "    for x in range(size_f):\n",
    "        for y in range(size_f):\n",
    "            cor_mat_manual[x, y] = cor_mat_manual[x, y] + (stim[0, x] * stim[0, y] * learning_rate)\n",
    "    # Plot the correlation matrix after each stimulus\n",
    "    plot_correlation_matrix(cor_mat_manual, title=f'Correlation Matrix after {i} stimuli')"
   ],
   "outputs": [],
   "execution_count": null
  },
  {
   "cell_type": "markdown",
   "id": "452a6f7030844ca4",
   "metadata": {},
   "source": []
  },
  {
   "cell_type": "markdown",
   "id": "44d0a239e5fdc495",
   "metadata": {},
   "source": [
    "#### Exercise 1{exercise}\n",
    "\n",
    "Suppose you want to know what a Hebbian Model #1 learner would associate and infer it had seen 10 small red circles, 7 medium yellow rectangles, and 4 large blue triangles if instead of the stimuli described earlier. Then, what does it infer if we present it the color purple? \n",
    " \n",
    "Create a set of stimuli and then a correlation matrix that fit this situation. How do you code purple as a stimulus? What output do you get from testing the trained model on an input of purple?  Explain how you interpret this output."
   ]
  },
  {
   "cell_type": "code",
   "id": "94c63da7e7a8781",
   "metadata": {
    "editable": true,
    "slideshow": {
     "slide_type": ""
    },
    "tags": [
     "remove-output"
    ]
   },
   "source": [
    "# Create a set of stimuli\n",
    "stimulus_matrix =  # TODO: Your code here\n",
    "\n",
    "# Compute the correlation matrix with numpy\n",
    "correlation_matrix =  # TODO: Your code here\n",
    "\n",
    "# Define the purple stimulus\n",
    "purple =  # TODO: Your code here\n",
    "\n",
    "# Compute the activations for the purple stimulus\n",
    "# TODO: Your code here\n",
    "active_mat_purple =  # TODO: Your code here\n",
    "\n",
    "# Plot the activations for the purple stimulus\n",
    "plot_activation_line(active_mat_purple, \"Activations of a Purple Stimulus\")"
   ],
   "outputs": [],
   "execution_count": null
  },
  {
   "cell_type": "markdown",
   "id": "bf70bc2b93872762",
   "metadata": {},
   "source": [
    "Solution 1{solution}\n",
    " \n",
    "```python\n",
    "# Create a set of stimuli\n",
    "stimulus_matrix = np.matrix([src] * 10 + [myr] * 7 + [lbt] * 4)\n",
    "\n",
    "# Compute the correlation matrix with numpy\n",
    "correlation_matrix = np.corrcoef(stimulus_matrix, rowvar=False)\n",
    "\n",
    "# Define the purple stimulus\n",
    "purple = [0, 0, 0, .5, 0, .5, 0, 0, 0]\n",
    "\n",
    "# Compute the activations for the purple stimulus\n",
    "diag_purple = np.diag(purple)\n",
    "active_mat_purple = np.dot(diag_purple, correlation_matrix)\n",
    "active_mat_purple = active_mat_purple.sum(axis=0)\n",
    "\n",
    "# Plot the activations for the purple stimulus\n",
    "plot_activation_line(active_mat_purple, \"Activations of a Purple Stimulus\")\n",
    "```"
   ]
  },
  {
   "cell_type": "markdown",
   "id": "d16c8de592c87e6a",
   "metadata": {},
   "source": [
    "#### Exercise 2{exercise}\n",
    "\n",
    "In the example of [Hebbian Model #2](#hebbian-model-2) above, we used 3 loops to update all the values in cor_mat. You should reason through how and why this works by considering a few specific examples. When i = 0, what are the values of stim?  When x and y equal 0, what number will be updated in cor_mat?"
   ]
  },
  {
   "metadata": {},
   "cell_type": "markdown",
   "source": [
    "**Exercise 2a**\n",
    "\n",
    "There is a more compact way to accomplish the same result as the 3 loops above, using the transpose function and a single loop.    \n",
    "\n",
    "You can transpose an array (turn rows into columns, and columns into rows) by adding .T to the array:\n",
    "\n",
    "```python\n",
    "stim_mat[0,:].T\n",
    "```\n",
    "\n",
    "And you can do matrix multiplication of two arrays with the appropriate dimensionality using @:\n",
    "\n",
    "```python\n",
    "stim_mat[0,:].T@stim_mat[0,:] \n",
    "```\n",
    "\n",
    "Now create a single loop that progresses through the stimuli in stim_mat and creates the same resulting cor_mat2 values as above.  \n"
   ],
   "id": "2999365bf0d3cf8e"
  },
  {
   "cell_type": "code",
   "id": "3ec3e0fab1007325",
   "metadata": {
    "editable": true,
    "slideshow": {
     "slide_type": ""
    },
    "tags": [
     "remove-output"
    ]
   },
   "source": [
    "# Create a new, all zeros correlation matrix\n",
    "cor_mat_compact = np.zeros((size_f, size_f))\n",
    "\n",
    "# Get the number of stimuli (number of rows in sm_3_uniform)  \n",
    "size_s = sm_3_uniform.shape[0]\n",
    "\n",
    "# Define the learning rate as a parameter - this is how much the weights will change each stimulus\n",
    "learning_rate = .1\n",
    "\n",
    "for stim in enumerate(sm_3_uniform):  # progress through all stimuli\n",
    "    cor_mat_compact =  # TODO: Your code here\n",
    "\n",
    "# Verify that we got the same answer as before\n",
    "\n",
    "# allclose returns True if each entry of the first array is equal to the corresponding entry in the second, and False otherwise \n",
    "same_ans = np.allclose(cor_mat_compact, cor_mat_manual)\n",
    "if same_ans:\n",
    "    print('cor_mat_compact and cor_mat_manual matrices are equal')"
   ],
   "outputs": [],
   "execution_count": null
  },
  {
   "cell_type": "markdown",
   "id": "4b8f677b4db3476b",
   "metadata": {},
   "source": [
    "Solution 2a{solution}\n",
    " \n",
    "```python\n",
    "# Create a new, all zeros correlation matrix\n",
    "cor_mat_compact = np.zeros((size_f, size_f))\n",
    "\n",
    "# Get the number of stimuli (number of rows in sm_3_uniform)  \n",
    "size_s = sm_3_uniform.shape[0]\n",
    "\n",
    "# Define the learning rate as a parameter - this is how much the weights will change each stimulus\n",
    "learning_rate = .1\n",
    "\n",
    "for stim in sm_3_uniform:  # progress through all stimuli\n",
    "  cor_mat_compact = cor_mat_compact +  learning_rate * stim.T @ stim\n",
    "\n",
    "# Verify that we got the same answer as before\n",
    "\n",
    "# allclose returns True if each entry of the first array is equal to the corresponding entry in the second, and False otherwise \n",
    "same_ans=np.allclose(cor_mat_compact, cor_mat_manual) \n",
    "if same_ans:\n",
    "  print('cor_mat_compact and cor_mat_manual matrices are equal')\n",
    "```"
   ]
  },
  {
   "cell_type": "markdown",
   "id": "dd1460268a477f1a",
   "metadata": {},
   "source": [
    "**Exercise 2b**\n",
    "\n",
    "Matrix multiplication can simplify the code even more, eliminating the need for any loops.  Use the transpose function .T and matrix multiplication function @ to matrix multiply stim_mat by itself transposed.  As a final step, multiply this entire function by a value that will reproduce the same matrix values in cor_mat above."
   ]
  },
  {
   "cell_type": "code",
   "id": "d0e0ee518bce53ac",
   "metadata": {
    "editable": true,
    "slideshow": {
     "slide_type": ""
    },
    "tags": [
     "remove-output"
    ]
   },
   "source": [
    "cor_mat_compactest =  # TODO: Your code here\n",
    "\n",
    "# Verify correctness\n",
    "same_ans = np.allclose(cor_mat_compactest, cor_mat_manual)\n",
    "if same_ans:\n",
    "    print('cor_mat_compactest and cor_mat_manual matrices are equal')"
   ],
   "outputs": [],
   "execution_count": null
  },
  {
   "cell_type": "markdown",
   "id": "b58775a840571a99",
   "metadata": {},
   "source": [
    "Solution 2b{solution}\n",
    " \n",
    "```python\n",
    "cor_mat_compactest = sm_3_uniform.T @ sm_3_uniform * learning_rate\n",
    "\n",
    "# Verify correctness\n",
    "same_ans = np.allclose(cor_mat_compactest,cor_mat_manual) \n",
    "if same_ans:\n",
    "  print('cor_mat_compactest and cor_mat_manual matrices are equal')\n",
    "```"
   ]
  },
  {
   "cell_type": "markdown",
   "id": "934092befd8c7fd8",
   "metadata": {},
   "source": [
    "## Hebbian Learning Processing\n",
    "\n",
    "In the following section, we will explore how Hebbian learning correlation matrices can be processed to achieve \"normalization\" and to remove \"self-correlation\". Similar to Exercise 1, in the next cell ,we create a matrix `sm_nonuniform` of stimuli that includes 100 small red circles, 70 medium yellow rectangles, and 40 large blue triangles. Then, we will use transpose and matrix multiplication to build a matrix of connection strengths `cor_mat_nonuniform`.    "
   ]
  },
  {
   "cell_type": "code",
   "id": "f46f5879157f1e47",
   "metadata": {
    "editable": true,
    "slideshow": {
     "slide_type": ""
    },
    "tags": []
   },
   "source": [
    "learning_rate = .1\n",
    "\n",
    "sm_nonuniform = np.array([100 * np.array(src), 70 * np.array(myr), 40 * np.array(lbt)])\n",
    "cor_mat_nonuniform = sm_nonuniform.T @ sm_nonuniform * learning_rate\n",
    "\n",
    "ub = np.amax(np.amax(np.abs(cor_mat_nonuniform)))\n",
    "lb = -ub\n",
    "\n",
    "plot_correlation_matrix(\n",
    "    cor_mat_nonuniform,\n",
    "    title=\"Correlation Matrix Created by Matrix Multiplication for Nonuniform Stimuli\",\n",
    "    lb=lb,\n",
    "    ub=ub\n",
    ")"
   ],
   "outputs": [],
   "execution_count": null
  },
  {
   "cell_type": "markdown",
   "id": "788ac4b2d613afd7",
   "metadata": {},
   "source": [
    "Then, we present a purple stimulus to this model. \n"
   ]
  },
  {
   "cell_type": "code",
   "id": "58483234728c1814",
   "metadata": {},
   "source": [
    "purple = np.array([0, 0, 0, .5, 0, .5, 0, 0, 0])\n",
    "\n",
    "active_mat_purple = purple @ cor_mat_nonuniform"
   ],
   "outputs": [],
   "execution_count": null
  },
  {
   "cell_type": "markdown",
   "id": "4808a1a8a3eda274",
   "metadata": {},
   "source": [
    "#### Exercise 3{exercise}\n",
    "\n",
    "To calculate the activation, we use the following shorter version:\n",
    "\n",
    "```python\n",
    "active_mat_purple = purple @ cor_mat_nonuniform\n",
    "```\n",
    "\n",
    "Instead of the calculations used above:\n",
    "\n",
    "```python\n",
    "diag_purple = np.diag(purple)\n",
    "scaled_mat = np.dot(diag_purple, cor_mat_nonuniform)\n",
    "active_mat_purple = scaled_matrix.sum(axis=0)\n",
    "```\n",
    "\n",
    "Please convince yourself, that these are equivalent\n",
    "\n"
   ]
  },
  {
   "metadata": {},
   "cell_type": "markdown",
   "source": [
    "Solution 3{solution}\n",
    "\n",
    "**Method 1**\n",
    "\n",
    "In the first method, `purple @ cor_mat_nonuniform` performs matrix multiplication. This computes the dot product of the purple vector with each column of cor_mat_nonuniform and is mathematically equivalent to:\n",
    "\n",
    "$$\n",
    "activation_j = \\sum_{i} purple_i \\cdot cor\\_mat\\_nonuniform_{i, j}\n",
    "$$\n",
    "\n",
    "The second method constructs a diagonal matrix `diag_purple`, multiplies it with the correlation matrix `cor_mat_nonuniform` and then sums along rows:\n",
    "\n",
    "**Method 2**\n",
    "\n",
    "*Step 1:* `diag_purple = np.diag(purple)`\n",
    "\n",
    "$$ \n",
    "diag\\_purple_{i,j} =\n",
    "\\begin{cases} \n",
    "\\text{purple}_i & \\text{if } i = j, \\\\\n",
    "0 & \\text{otherwise.}\n",
    "\\end{cases}\n",
    "$$\n",
    "\n",
    "*Step 2:* `scaled_mat = np.dot(diag_purple, cor_mat_nonuniform)`\n",
    "\n",
    "$$\n",
    "scaled\\_mat_{i, j} = diag\\_purple_{i, j} \\cdot cor\\_mat\\_nonuniform_{i, j}\n",
    "$$ \n",
    "\n",
    "*Step 3:* `active_mat_purple = scaled_mat.sum(axis=0)`\n",
    "\n",
    "$$\n",
    "activation_j &= \\sum_{i} scaled\\_mat_{i, j} \\\\\n",
    "&= \\sum_{i} diag\\_purple_{i, j} \\cdot cor\\_mat\\_nonuniform_{i, j}\n",
    "$$"
   ],
   "id": "d27462261849f335"
  },
  {
   "cell_type": "code",
   "id": "ff2daf3811528494",
   "metadata": {},
   "source": [
    "plot_activation_line(active_mat_purple, \"Activation from Purple Stimulus with Cor_mat_nonuniform\")"
   ],
   "outputs": [],
   "execution_count": null
  },
  {
   "cell_type": "markdown",
   "id": "202523fd61320349",
   "metadata": {},
   "source": [
    "The model associated the color purple mostly with the small red circle, slightly with the large blue triangle, and not at all with the medium yellow rectangle. This makes sense because the model was trained with more exposure to small red circles. Purple activated red, so it strongly associates with small and circle. Purple also activated blue and its associates, large and triangle.\n",
    "\n",
    "### Bounding Output\n",
    "\n",
    "It is often a good idea to set boundaries on the values of neuron activity in a model. Most neurons can only physically fire a maximum of a few hundred times per second, and tend to fire closer to the order of around 10 times per second. Even when we take the liberty of ignoring physical constraints on individual neurons (or even if we assume the unit we are modeling is composed of thousands of neurons and could, in principle, cumulatively send hundreds of thousands of action potentials per second), unbounded values that tend toward +/- infinity cause practical problems for many functions. In the following cells we will explore some ways to regularize our model outputs.\n",
    "\n",
    "#### Normalize The Activation Matrix\n",
    "\n",
    "We can normalize the activation matrix"
   ]
  },
  {
   "cell_type": "code",
   "id": "7c70c4d8b11dae",
   "metadata": {},
   "source": [
    "# Normalize the output by dividing with the max:\n",
    "active_mat_purple_normalized = active_mat_purple/max(active_mat_purple)\n",
    "\n",
    "plot_activation_line(active_mat_purple, 'Activation from Purple Stimulus')\n",
    "plot_activation_line(active_mat_purple_normalized, 'Normalized Activation from Purple Stimulus')"
   ],
   "outputs": [],
   "execution_count": null
  },
  {
   "cell_type": "markdown",
   "id": "8b52037a9c3a4a7e",
   "metadata": {},
   "source": [
    "#### Normalize The Correlation Matrix\n",
    "\n",
    "Instead, we can also normalize the correlation matrix:"
   ]
  },
  {
   "cell_type": "code",
   "id": "a54912550001378a",
   "metadata": {},
   "source": [
    "# Calculate the absolute of the maximum of the correlation matrix\n",
    "max_cor_mat = np.max(cor_mat_nonuniform)\n",
    "max_cor_mat_absolute = np.abs(max_cor_mat)\n",
    "\n",
    "# Set the lower and upper bound for the original matrix\n",
    "ub_cor_mat = max_cor_mat_absolute\n",
    "lb_cor_mat = -ub\n",
    "\n",
    "# Calculate the normalized correlation matrix\n",
    "cor_mat_nonuniform_normalized = cor_mat_nonuniform / max_cor_mat_absolute\n",
    "\n",
    "# The normalized upper and lower bounds are 1. and -1. respectivly\n",
    "ub_cor_mat_normalized = 1.\n",
    "lb_cor_mat_normalized = -1.\n",
    "\n",
    "# Visualize the matrices\n",
    "plot_correlation_matrix(\n",
    "    cor_mat_nonuniform, \n",
    "    title='Correlation Matrix', \n",
    "    lb=lb_cor_mat, \n",
    "    ub=ub_cor_mat)\n",
    "plot_correlation_matrix(\n",
    "    cor_mat_nonuniform_normalized,\n",
    "    title='Normalized Correlation Matrix',\n",
    "    lb=lb_cor_mat_normalized,\n",
    "    ub=ub_cor_mat_normalized\n",
    ")\n",
    "\n",
    "# Calculate the activation for the purple stimulus with both matrices:\n",
    "active_mat_purple = purple @ cor_mat_nonuniform\n",
    "active_mat_purple_cmn = purple @ cor_mat_nonuniform_normalized\n",
    "\n",
    "# Visualize the Activations\n",
    "plot_activation_line(active_mat_purple, 'Activation with Original Correlation Matrix')\n",
    "plot_activation_line(active_mat_purple_cmn, 'Activation with Normalized Correlation Matrix')\n",
    "plot_activation_line(active_mat_purple_normalized, 'Normalized Activation with Original Correlation Matrix')"
   ],
   "outputs": [],
   "execution_count": null
  },
  {
   "cell_type": "markdown",
   "id": "a742241e08311eec",
   "metadata": {},
   "source": [
    "### Self-correlation\n",
    "\n",
    "Up until this point, we have been creating correlation matrices that include self-correlation. That is, a stimulus is positively correlated with itself. This makes sense, because all stimuli correlate with themselves. That is, if we are shown something red, we know we have seen something red. However, if we consider what an output of a Hebbian system should be: the stimuli the learner *associates* with an input (I see red, I think stop sign), this doesn't seem quite right.  After all, if one were prompted to respond to the word \"red\" with the first word that comes to mind, one would not typically respond, \"red\".  \n",
    "\n",
    "From another perspective, a neuron with positive excitatory connections to itself would behave a bit like a microphone placed next to a speaker that is amplifying the input to the microphone -- a runaway positive feedback loop.  In most cases we don't want our models to have seizures.   \n",
    "  \n",
    "It follows, that when constructing correlation matrices, it could be useful to remove self-correlation. "
   ]
  },
  {
   "metadata": {},
   "cell_type": "markdown",
   "source": [
    "#### Exercise 4{exercise}\n",
    "\n",
    "Create a correlation matrix that does not include self-correlation."
   ],
   "id": "2405c3a89d39c268"
  },
  {
   "cell_type": "code",
   "id": "64c1875feee4a26f",
   "metadata": {
    "editable": true,
    "slideshow": {
     "slide_type": ""
    },
    "tags": [
     "remove-output"
    ]
   },
   "source": [
    "# Calculate the Correlation Matrix\n",
    "learning_rate = .1\n",
    "cor_mat_no_self = sm_nonuniform.T @ sm_nonuniform * learning_rate\n",
    "\n",
    "# TODO: Your code here\n",
    "\n",
    "# Visualize the Correlation Matrix\n",
    "ub = np.abs(np.max(cor_mat_no_self))\n",
    "lb = -ub\n",
    "\n",
    "plot_correlation_matrix(cor_mat_no_self, title= 'Correlation Matrix without Self Correlation', lb=lb, ub=ub)"
   ],
   "outputs": [],
   "execution_count": null
  },
  {
   "cell_type": "markdown",
   "id": "adc106c849486a72",
   "metadata": {},
   "source": [
    "Solution 4{solution}\n",
    "\n",
    "```python\n",
    "# Calculate the Correlation Matrix\n",
    "learning_rate = .1\n",
    "cor_mat_no_self = sm_nonuniform.T @ sm_nonuniform * learning_rate\n",
    "\n",
    "for i in range(cor_mat_no_self.shape[0]):\n",
    "    cor_mat_no_self[i,i]=0\n",
    "\n",
    "# Visualize the Correlation Matrix\n",
    "ub = np.abs(np.max(cor_mat_no_self))\n",
    "lb = -ub\n",
    "\n",
    "plot_correlation_matrix(cor_mat_no_self, title= 'Correlation Matrix without Self Correlation', lb=lb, ub=ub)\n",
    "```\n",
    "\n",
    "Shorter:\n",
    "```python\n",
    "# Calculate the Correlation Matrix\n",
    "learning_rate = .1\n",
    "cor_mat_no_self = sm_nonuniform.T @ sm_nonuniform * learning_rate\n",
    "\n",
    "np.fill_diagonal(cor_mat_no_self, 0)\n",
    "\n",
    "# Visualize the Correlation Matrix\n",
    "ub = np.abs(np.max(cor_mat_no_self))\n",
    "lb = -ub\n",
    "\n",
    "plot_correlation_matrix(cor_mat_no_self, title= 'Correlation Matrix without Self Correlation', lb=lb, ub=ub)\n",
    "```"
   ]
  },
  {
   "cell_type": "markdown",
   "id": "96c701b942e0d028",
   "metadata": {},
   "source": [
    "## Implementation In PsyNeuLink\n",
    "\n",
    "Hebbian learning is achieved in PsyNeuLink by creating an appropriately sized recurrent transfer mechanism, and enabling learning. To do this we simply set the argument `enable_learning` to `True` when defining your transfer mechanism.\n",
    "\n",
    "To initialize your matrix to zero, as we have been doing, set the arguments \"auto\" to 0 and \"hetero\" to 0.\n"
   ]
  },
  {
   "metadata": {},
   "cell_type": "markdown",
   "source": "### Hebbian Model #3",
   "id": "93152b46cf2374f"
  },
  {
   "cell_type": "code",
   "id": "bdfa9490cc2506c3",
   "metadata": {},
   "source": [
    "# Create a Composition\n",
    "Hebb_comp = pnl.Composition()\n",
    "\n",
    "# Create the mechanism ensuring `enable_learning` is set to `True`\n",
    "Hebb_mech=pnl.RecurrentTransferMechanism(\n",
    "    input_shapes=size_f,\n",
    "    function=pnl.Linear,\n",
    "    enable_learning = True,\n",
    "    name='Hebb_mech',\n",
    "    auto=0,\n",
    "    hetero=0,\n",
    "    )\n",
    "\n",
    "# Add the mechanism to the composition\n",
    "Hebb_comp.add_node(Hebb_mech)"
   ],
   "outputs": [],
   "execution_count": null
  },
  {
   "cell_type": "markdown",
   "id": "d10597b51c3c927a",
   "metadata": {},
   "source": [
    "Let's try training our new system on a single stimulus from the set we've been working with; small red circle. \n",
    "\n",
    "We can run our system as many times as we like, using only one stimulus as input. In the following cell, we run the system 5 times (num_trials = 5).   \n",
    "\n",
    "Does the system behave the way you expected it to? In what ways does it behave similar and different to the previous two Hebbian Models #1 & #2?"
   ]
  },
  {
   "cell_type": "code",
   "id": "a70f5a7f5017a912",
   "metadata": {},
   "source": [
    "# Set an execution id\n",
    "Hebb_comp.execution_id = 1\n",
    "\n",
    "# Define a function that plots the correlation matrix and the stimulus activation to use in the callback function after each strep of the PNL composition learn method\n",
    "def vis_info():\n",
    "    hebb_matrix = Hebb_mech.matrix.base\n",
    "    active_mat = Hebb_mech.value[0]\n",
    "    ub = np.amax(np.abs(hebb_matrix))\n",
    "    lb = -ub\n",
    "    plot_correlation_matrix(hebb_matrix, title=\"PNL Hebbian Matrix\", lb=lb, ub=ub)\n",
    "    plot_activation_line(active_mat, 'Activation from Stimulus with PNL Hebbian Matrix')\n",
    "\n",
    "\n",
    "inputs_dict = {Hebb_mech: src}\n",
    "out = Hebb_comp.learn(num_trials=5,\n",
    "                      call_after_trial=vis_info,\n",
    "                      inputs=inputs_dict)"
   ],
   "outputs": [],
   "execution_count": null
  },
  {
   "cell_type": "markdown",
   "id": "84c2f6ff9b7541d8",
   "metadata": {},
   "source": "To better understand what is happening, try running your system with various inputs. To do this you will need to re-initialize the system by rerunning the cell that created Hebbian Model #3, or by copying that code into the top of the next cell. Models that learn get modified by running, and so we need to re-initialize to see how the model evolves with different kinds of input."
  },
  {
   "cell_type": "code",
   "id": "6599ad211dfa4c8d",
   "metadata": {
    "editable": true,
    "slideshow": {
     "slide_type": ""
    },
    "tags": [
     "remove-output"
    ]
   },
   "source": [
    "# Create a Composition\n",
    "Hebb_comp = pnl.Composition()\n",
    "\n",
    "# Create the mechanism ensuring `enable_learning` is set to `True`\n",
    "Hebb_mech=pnl.RecurrentTransferMechanism(\n",
    "    input_shapes=size_f,\n",
    "    function=pnl.Linear,\n",
    "    enable_learning = True,\n",
    "    name='Hebb_mech',\n",
    "    auto=0,\n",
    "    hetero=0,\n",
    "    )\n",
    "\n",
    "# Add the mechanism to the composition\n",
    "Hebb_comp.add_node(Hebb_mech)\n",
    "\n",
    "# Set an execution id\n",
    "Hebb_comp.execution_id = 1\n",
    "\n",
    "# Define a function that plots the correlation matrix and the stimulus activation to use in the callback function after each strep of the PNL composition learn method\n",
    "def vis_info():\n",
    "    hebb_matrix = Hebb_mech.matrix.base\n",
    "    active_mat = Hebb_mech.value[0]\n",
    "    ub = np.amax(np.abs(hebb_matrix))\n",
    "    lb = -ub\n",
    "    plot_correlation_matrix(hebb_matrix, title=\"PNL Hebbian Matrix\", lb=lb, ub=ub)\n",
    "    plot_activation_line(active_mat, 'Activation from Stimulus with PNL Hebbian Matrix')\n",
    "\n",
    "\n",
    "# Set your input here:\n",
    "zero_stim = [0] * size_f\n",
    "stimulus_list = []  # e.g., [src, lbt]; [src, zero_stim, lbt]; [src, src, lbt]; [src, src, zero_stim, lbt]; ...\n",
    "inputs_dict = {Hebb_mech: stimulus_list}\n",
    "out = Hebb_comp.learn(num_trials=len(stimulus_list),\n",
    "                      call_after_trial=vis_info,\n",
    "                      inputs=inputs_dict)"
   ],
   "outputs": [],
   "execution_count": null
  },
  {
   "metadata": {},
   "cell_type": "markdown",
   "source": [
    "During the first trials, the algorithms behaves very similarly to the Hebbian Model #2 we defined above (except with the diagonal entries being set to zero). However, after introducing a second stimulus, the model appears to learn several extra associations that were not learned by our previous model. It appears that the model is learning associations *between* different stimulus patterns, rather than just *within* a single pattern, as the previous models did. For example, it learns associations \"small-medium\", \"small-yellow\" and \"small-rectangle\", representing a mixture of the features from the small red circle with those of the medium yellow rectangle. \n",
    "\n",
    "This behavior arises because PsyNeuLink implements a learning mechanism that is designed to be neurologically plausible. Instead of simply updating the weight matrix based on the current input alone (as in the Hebbian learning algorithm described above), it incorporates feedback and recurrent connections. For a deeper explanation of this mechanism, including its use of cycles and feedback, refer to [PsyNeuLink Composition Cycles and Feedback](https://princetonuniversity.github.io/PsyNeuLink/Composition.html#cycles-and-feedback).\n",
    "\n",
    "To simulate the behavior of Hebbian Model #2, we can introduce zero-input intervals between the stimuli. These intervals reset the previous activation to zero, ensuring that only the current input contributes to the learning process. This mimics the behavior of the original Hebbian model by isolating each stimulus from the influence of prior activations."
   ],
   "id": "eaa0507612b556b7"
  },
  {
   "metadata": {},
   "cell_type": "code",
   "source": [
    "Hebb_comp = pnl.Composition()\n",
    "\n",
    "Hebb_mech = pnl.RecurrentTransferMechanism(\n",
    "    input_shapes=size_f,\n",
    "    function=pnl.Linear,\n",
    "    enable_learning=True,\n",
    "    name='Hebb_mech',\n",
    "    auto=0,\n",
    "    hetero=0\n",
    ")\n",
    "\n",
    "Hebb_comp.add_node(Hebb_mech)\n",
    "\n",
    "inputs_dict = {Hebb_mech: [src, zero_stim, myr]}\n",
    "out = Hebb_comp.learn(num_trials=3,\n",
    "                      call_after_trial=vis_info,\n",
    "                      inputs=inputs_dict)"
   ],
   "id": "3a8568f985dff5ec",
   "outputs": [],
   "execution_count": null
  },
  {
   "metadata": {},
   "cell_type": "markdown",
   "source": "A less \"hacky\" way to accomplish the same thing is to define a function that clears the output of the network after each trial. This can be done by defining a suitable function to clear the value, and to call it after every trial in a similar fashion to how we called the vis_info function after each trial.",
   "id": "832d5daca7baad45"
  },
  {
   "metadata": {},
   "cell_type": "code",
   "source": [
    "Hebb_mech = pnl.RecurrentTransferMechanism(\n",
    "    input_shapes=size_f,\n",
    "    function=pnl.Linear,\n",
    "    integrator_mode=True,\n",
    "    integration_rate=1.,\n",
    "    enable_learning=True,\n",
    "    name='Hebb_mech',\n",
    "    auto=0,\n",
    "    hetero=0\n",
    ")\n",
    "\n",
    "\n",
    "def clear_value():\n",
    "    Hebb_mech.reset()\n",
    "\n",
    "\n",
    "def callback():\n",
    "    vis_info()\n",
    "    clear_value()\n",
    "\n",
    "\n",
    "Hebb_comp = pnl.Composition()\n",
    "\n",
    "Hebb_comp.add_node(Hebb_mech)\n",
    "\n",
    "inputs_dict = {Hebb_mech: [src] * 5 + [myr] * 5}\n",
    "out = Hebb_comp.learn(num_trials=10,\n",
    "                      call_after_trial=callback,\n",
    "                      inputs=inputs_dict)\n",
    "\n",
    "ub = np.max(np.abs(Hebb_mech.matrix.base))\n",
    "lb = -ub\n",
    "plt.imshow(Hebb_mech.matrix.base, cmap='RdBu_r', vmin=lb, vmax=ub)"
   ],
   "id": "fd578535db6e04fc",
   "outputs": [],
   "execution_count": null
  },
  {
   "metadata": {},
   "cell_type": "markdown",
   "source": [
    "#### Exercise 5{exercise}\n",
    "\n",
    "A colleague has a dataset were the behavior after exposing participants to different colors lead to different behaviors. They have analysed the behaviors and found that certain behaviors correlated. Now they want to model the behavior and propose one hot encoding the colors and using a Hebbian learning algorithm to learn the associations. What to you think of this plan? Why?"
   ],
   "id": "3e63da80da554db0"
  },
  {
   "metadata": {},
   "cell_type": "markdown",
   "source": [
    "Solution 5{solution}\n",
    "\n",
    "One hot encoded vectors form an orthogonal basis. This means all vectors are orthogonal and therefore uncorrelated. A hebbian learning algorithm, however, is designed to learn correlations between features. This means that the hebbian learning algorithm would not be able to learn anything from the data.\n",
    "\n",
    "Tip: This is true for every orthogonal basis, not just one hot encoded vectors. However, one could try to first transform the data into a different basis that is not orthogonal, and then apply the hebbian learning algorithm."
   ],
   "id": "6694edd97caee277"
  },
  {
   "metadata": {},
   "cell_type": "markdown",
   "source": [
    "#### Exercise 6{exercise}\n",
    "\n",
    "**Stump the Hebbian Learning Algorithm**\n",
    "\n",
    "Create a set of at least 9 unique stimuli using the same 9 features as above with properties that are impossible for the Hebbian Model #1 to learn and use for accurate inferences.  Even after exposure to the stimuli, the correlation matrix should be full of 0s. Explain why these results are produced. Try to come up with an interesting example that might map on to a real world situation (rather than just a mathematical gimic).  "
   ],
   "id": "7bc568dc2fea0cff"
  },
  {
   "metadata": {},
   "cell_type": "markdown",
   "source": [
    "Hint 1{hint}\n",
    "\n",
    "Since the hebbian learning algorithm learns correlations between features, we can create an \"unlearnable\" set by ensuring that the features are not correlated. For example, we could create a set of \"all possible\" combinations (here for 3 features): \n",
    "\n",
    "```python\n",
    "all_combinations_3x3 = np.array([\n",
    "    [0, 0, 0],\n",
    "    [1, 0, 0], [0, 1, 0], [0, 0, 1], \n",
    "    [1, 1, 0], [1, 0, 1], [0, 1, 1], \n",
    "    [1, 1, 1]])\n",
    "\n",
    "all_combination_corr = np.corrcoef(all_combinations_3x3.T)\n",
    "\n",
    "# Set the diagonal to 0 (self-correlation is unavoidable)\n",
    "np.fill_diagonal(all_combination_corr, 0)\n",
    "\n",
    "\n",
    "plt.title(\"Correlation Matrix for all Combinations of 3 Features\")\n",
    "plt.yticks(np.arange(3))\n",
    "plt.xticks(np.arange(3))\n",
    "plt.imshow(all_combination_corr, cmap='RdBu_r', vmin=-1, vmax=1)\n",
    "plt.colorbar()\n",
    "plt.show()\n",
    "```\n",
    "\n",
    "But a full set is not reasonable for the full set of 9 with the above described features (Why?)."
   ],
   "id": "7282bd5cce8a536"
  },
  {
   "metadata": {},
   "cell_type": "markdown",
   "source": [
    "Hint 2{hint}\n",
    "\n",
    "Here are the two additional issues when using the above approach for 9 features:\n",
    "\n",
    "1.   We had to use all combinations of features. For 3 features this was only $2^3=8$, but for 9 features we will need $2^9=512$.\n",
    "2.   Some of the features that we have been using are mutually exclusive. For example, it does not make sense to have an object that is both large and small. So even if we could write out all of the combinations, not all of them will be meaningful. \n",
    "\n"
   ],
   "id": "f00da5667a15a30d"
  },
  {
   "metadata": {},
   "cell_type": "markdown",
   "source": [
    "Solution 6{solution}\n",
    "\n",
    "We get circumvent these issues by using random sampling. This way we won't have to explicitly write out all of the combinations, but because of the Law of Large Numbers, we'll end up with a result that is very close to what it would be if we had written them all out. Also, when we do the sampling, we can make sure that we never sample inconsistent combinations like \"small\" and \"big\". This will lead to some correlations but with a large number of samples, the correlations will be very close to 0.\n",
    "\n",
    "```python\n",
    "# Set a seed for reproducibility\n",
    "np.random.seed(42)\n",
    "\n",
    "sampled_features=[]\n",
    "for _ in range(100):\n",
    "  feats=np.zeros(9)\n",
    "  #first we sample a size (small,medium,large)\n",
    "  size_feat=np.random.choice(3)\n",
    "  feats[size_feat]=1\n",
    "  #unlike sizes and shapes, colors are not mutually exclusive, so we can sample them independently\n",
    "  for c in range(3):\n",
    "    feats[3+c]=np.random.choice(2)\n",
    "\n",
    "  #sample a shape\n",
    "  shape_feat=np.random.choice(3)\n",
    "  feats[6+shape_feat]=1\n",
    "  sampled_features.append(feats)\n",
    "sampled_features=np.array(sampled_features)\n",
    "sampled_features_cor=np.corrcoef(sampled_features.T)\n",
    "for i in range(9):\n",
    "  sampled_features_cor[i,i]=0\n",
    "plt.title(\"Correlation Matrix using random samples\")\n",
    "plt.yticks(np.arange(3))\n",
    "plt.xticks(np.arange(3))\n",
    "plt.imshow(sampled_features_cor, cmap='RdBu_r', vmin=-1, vmax=1)\n",
    "plt.colorbar()\n",
    "plt.show()\n",
    "```\n",
    "\n",
    "We can see from the correlation matrix that the most of the entries are very close to 0. The exception is when either both features are a size, or both are a shape. For example, the (small,large) entry is a large negative value, but this is unavoidable because these features are mutually exclusive, meaning that the presence of one of these will always predict the absence of the other. If we showed the Hebbian network a small network, it would not be able to predict any other features of the object (except that it is not medium-sized and not large). \n",
    "\n",
    "A real world analogue of this example would be a deck of playing cards. We can represent a playing card using 17 binary features, with the first 13 corresponding to the value of the card and the last 4 corresponding to the suit.  If draw a card and tell you that it is an Ace, then that gives you no information about its suit. However, it does let you deduce that it is not a King.  "
   ],
   "id": "187615e1b48ab32e"
  },
  {
   "metadata": {},
   "cell_type": "markdown",
   "source": [
    "Bonus Exercise{exercise}\n",
    "\n",
    "To get yourself familiar, instead of calculating the correlation matrix directly, try using the PsyNeuLink model to learn the weights instead."
   ],
   "id": "17ae3e7951461e0"
  },
  {
   "metadata": {},
   "cell_type": "markdown",
   "source": [
    "#### Exercise 7{exercise}\n",
    " \n",
    "**Pruning Instead of Connecting**\n",
    "\n",
    "A prominent feature of brain development from infancy to adulthood is the reduction of neurons and increase in glial cells (Burek & Openheim, 1996; Low & Cheng, 2006).  For example, one study inspecting a brain area for comparison between newborns and adults found that the adult brains had about 40% fewer neurons and 340% more glials cells (Abitz et al, 2007).  Weakening and elimination of connections is often called pruning, and might be more common than growing entirely new connections.  Imagine that a neuron somewhere near your forehead is firing correlated with a neuron somewhere near the back of your head -- it would be difficult to grow an entirely new axon that connects the two.  Instead, during early development when the brain begins by occupying a tiny volume, it is easy to start with many neurons connected and preserve these connections as the brain grows larger. Later, neurons that are connected and fire together can strengthen their connections, while neurons that fire independently can weaken their connections or let the connections be pruned away entirely. "
   ],
   "id": "2e8ec1165c2d6e96"
  },
  {
   "metadata": {},
   "cell_type": "markdown",
   "source": [
    "**Exercise 7a**\n",
    "\n",
    "Build a new model based on Hebbian Model #2 that starts with every unit connected to every other neuron, all with equal positive weights (all 1s).  As this model receives stimuli it should preserve the connections between neurons that fire together, and gradually weaken the connections between neurons that do not fire together.  \n",
    "\n",
    "Train this model 3 training trials of each stimulus (`src`, `myr`, `lbt`) and test it to make inferences on at least three different single-feature stimuli, such as triangle = [0,0,0,0,0,0,0,0,1].  How does it perform?  \n",
    "\n",
    "Discuss the various choices that you made when creating this model.  For example, do you allow the connection weights between neurons to ever go below 0?  Why or why not?  What rate of pruning did you decide to implement, and why did you choose this number?"
   ],
   "id": "6329197646f1323c"
  },
  {
   "metadata": {},
   "cell_type": "markdown",
   "source": [
    "Solution 7a{solution}\n",
    "\n",
    "To do the pruning, we will weaken the connection between two neurons whenever they don't fire together. More precisely, given two features $x_i,x_j$, we will do nothing to the weight $w_{ij}$ if $x_ix_j>0$. But if $x_ix_j=0$ then we will change the weight according to the learning rule\n",
    "\n",
    "$$\\Delta w_{ij}=(1-\\gamma) w_{ij}$$\n",
    "\n",
    "Here $\\gamma$ is a number between 0 and 1 that controls the speed of the pruning. \n",
    "\n",
    "Because we initialize the weights to be equal to 1, our definition of the pruning learning rule implies that they will never go below zero. This makes sense biologically, because a neuron cannot have a negative firing rate. \n",
    "\n",
    "After experimenting with several pruning factors, I ultimately chose a value of .5 because it seemed to give good results. In general, when increasing the number of stimuli, it would make sense to increase the pruning rate as well. Otherwise some of the weights may get extremely small before the model has had a chance to see all of the associations in the dataset, thus blocking the model from learning those associations later. \n",
    "\n",
    "```python\n",
    "stim_mat = np.matrix([src] * 3 + [myr] * 3 + [lbt] * 3)\n",
    "\n",
    "pruning_model_weights = np.ones((9, 9))\n",
    "\n",
    "pruning_factor = .1  #gamma above\n",
    "\n",
    "for stim in stim_mat:\n",
    "    for i in range(9):\n",
    "        for j in range(9):\n",
    "            if stim[0, i] * stim[0, j] < 10 ** -8:\n",
    "                pruning_model_weights[i, j] *= 1 - pruning_factor\n",
    "ub = np.max(np.abs(pruning_model_weights))\n",
    "lb = -ub\n",
    "plt.imshow(pruning_model_weights, cmap='RdBu_r', vmin=lb, vmax=ub)\n",
    "plt.xticks(np.arange(9), feature_names, rotation=90)\n",
    "plt.yticks(np.arange(9), feature_names)\n",
    "plt.colorbar()\n",
    "plt.title('weight matrix learned by pruning model')\n",
    "```"
   ],
   "id": "86fa00091721d153"
  },
  {
   "metadata": {},
   "cell_type": "markdown",
   "source": [
    "**Exercise 7b**\n",
    "\n",
    "The above example show that weights can get small when pruning. Now, consider a training set of 1000 trials of each stimulus. How might you reasonably adjust the pruning rate to depend on the total number of expected stimuli (would you use the same rate for 3 stimuli and 3000 stimuli)?   "
   ],
   "id": "8865cd9cada7bd63"
  },
  {
   "metadata": {},
   "cell_type": "markdown",
   "source": [
    "Solution 7b{solution}\n",
    "\n",
    "\n",
    "In order to understand how to change $\\gamma$ when we have more stimuli, let us assume that we will present the model with $3$ small red circles, followed by some medium yellow rectangles. Suppose that we have found some value $\\gamma_3$ to be appropriate for this dataset. After seeing the first three stimuli, the value of the (medium,yellow) weight will be $(1-\\gamma_3)^3$, because this weight will have been pruned three times.\n",
    "\n",
    "Now let us consider another dataset where we first show the model 3000 small red circles, followed by some medium yellow rectangles. In order to allow the model to properly learn the later associations, we want to use a value $\\gamma_{3000}$ that ensures that the value of the $(medium,yellow)$ weight will be the same as what it was when we had only 3 small red circles. This means we should have $(1-\\gamma_{3000})^{3000}=(1-\\gamma_3)^{3}$, which we can solve for $\\gamma_{3000}$ to obtain \n",
    "\n",
    "$$\\gamma_{3000}=1-(1-\\gamma_3)^{1/1000}$$\n",
    "\n",
    "```python\n",
    "stim_mat = np.matrix([src] * 1000 + [myr] * 1000 + [lbt] * 1000)\n",
    "\n",
    "pruning_model_weights = np.ones((9, 9))\n",
    "\n",
    "pruning_factor = .1  #gamma above\n",
    "\n",
    "for stim in stim_mat:\n",
    "    for i in range(9):\n",
    "        for j in range(9):\n",
    "            if stim[0, i] * stim[0, j] < 10 ** -8:\n",
    "                pruning_model_weights[i, j] *= (1 - pruning_factor)**(3/len(stim_mat))\n",
    "ub = np.max(np.abs(pruning_model_weights))\n",
    "lb = -ub\n",
    "plt.imshow(pruning_model_weights, cmap='RdBu_r', vmin=lb, vmax=ub)\n",
    "plt.xticks(np.arange(9), feature_names, rotation=90)\n",
    "plt.yticks(np.arange(9), feature_names)\n",
    "plt.colorbar()\n",
    "plt.title('weight matrix learned by pruning model')\n",
    "```"
   ],
   "id": "ec78f6b07de4bcbb"
  },
  {
   "metadata": {},
   "cell_type": "markdown",
   "source": [
    "#### Exercise 8{exercise}\n",
    "\n",
    "**Connecting & Pruning**\n",
    "\n",
    "Combined Model\n",
    "\n",
    "Combine Hebbian Model #2 with your model created above to create a more sophisticated model that both strengthens connections between neurons that fire together and prunes away connections between neurons that fire independently. Use 3 trials of each stimulus to train your model. You will need to find a good balance between the rate of growing (strengthening) connections and the rate of pruning (weakening) connections to ensure that the model learns effectively. Explain how these rates interact and discuss the growing & pruning rates that appear to optimize learning over the current set of stimuli.      \n",
    "\n",
    " "
   ],
   "id": "b7b0f20dfcfe3a04"
  },
  {
   "metadata": {},
   "cell_type": "markdown",
   "source": [
    "Solution 8{solution}\n",
    "\n",
    "We will combine the Hebbian learning rule that we used in Hebbian Model #2 with the Pruning learning rule used above. If some pair of features $x_i,x_j$ occur together, then we will update $w_{ij}$ using Hebb's rule. But if they do not occur together, then we will prune $w_{ij}$ using the Pruning learning rule. \n",
    "\n",
    "Mathematically speaking, if $x_ix_j=0$, then the weight update is defined as\n",
    "$$\\Delta w_{ij}=(1-\\gamma) w_{ij}$$\n",
    "\n",
    "But if $x_ix_j>0$, then the weight update is instead\n",
    "$$\\Delta w_{ij}=\\alpha x_ix_j$$\n",
    "\n",
    "\n",
    "If the pruning rate is too large, then the model can \"forget\" some associations that it has previously learned. However, if the Hebbian learning rate is too large, then weights can grow so large that the pruning dynamics get drowned out. By trying out several values, we found that a pruning rate of .1 and a Hebbian learning rate of .05 appeared to strike a reasonable balance between the two processes.\n",
    "\n",
    "```python\n",
    "stim_mat = np.matrix([src] * 3 + [myr] * 3 + [lbt] * 3)\n",
    "\n",
    "combined_connecting_model_weights=np.ones((9,9))\n",
    "\n",
    "pruning_factor=.1\n",
    "hebbian_lr=.05\n",
    "\n",
    "for stim in stim_mat:\n",
    "  for i in range(9):\n",
    "    for j in range(9):\n",
    "      if stim[0,i]*stim[0,j]<10**-8:\n",
    "        combined_connecting_model_weights[i,j]*=1-pruning_factor\n",
    "      else:\n",
    "        combined_connecting_model_weights[i,j]+=hebbian_lr*stim[0,i]*stim[0,j]\n",
    "ub = np.max(np.abs(combined_connecting_model_weights))\n",
    "lb = -ub\n",
    "plt.imshow(combined_connecting_model_weights, cmap='RdBu_r', vmin=lb, vmax=ub)\n",
    "plt.xticks(np.arange(9),feature_names,rotation=90)\n",
    "plt.yticks(np.arange(9),feature_names)\n",
    "plt.colorbar()\n",
    "plt.title('weight matrix learned by pruning+connecting model')\n",
    "```  "
   ],
   "id": "13a22c4065226b9a"
  }
 ],
 "metadata": {
  "kernelspec": {
   "display_name": "Python 3 (ipykernel)",
   "language": "python",
   "name": "python3"
  },
  "language_info": {
   "codemirror_mode": {
    "name": "ipython",
    "version": 3
   },
   "file_extension": ".py",
   "mimetype": "text/x-python",
   "name": "python",
   "nbconvert_exporter": "python",
   "pygments_lexer": "ipython3",
   "version": "3.11.7"
  }
 },
 "nbformat": 4,
 "nbformat_minor": 5
}
