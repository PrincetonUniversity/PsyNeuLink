{
 "cells": [
  {
   "metadata": {},
   "cell_type": "markdown",
   "source": [
    "# 5.1 Episodic Memory\n",
    "\n",
    "In the previous chapters, learning was based on gradually adjusting weights in a neural network. However, humans have the ability to learn from a single experience without the need for repetition. One could argue that this \"one-shot\" learning can be achieved by a high learning rate. However, a high learning rate can lead to *catastrophic forgetting*, where the network forgets previously learned associations.\n",
    "\n",
    "Consider for example, the [Rumelhart Semantic Network](https://princetonuniversity.github.io/NEU-PSY-502/content/502B/Computation/Statistical%20Learning%20and%20Backpropagation/notebooks/1%20Rumelhart%20Semantic%20Network.html) from the previous chapter. If we first train the network to associate various birds with flying, and then train the network with a single example of a penguin with a very high learning rate, the network will forget the previous association with birds and flying. In general, we can mitigate this problem by using interleaved training, where we mix examples from the bird-category with the penguin example. However, this doesn't reflect human learning, where we can learn from a single example without forgetting previous associations.\n",
    "\n",
    "[McClelland et al, 1995](https://princetonuniversity.github.io/NEU-PSY-502/_static/pdf/Class%2013/McClellandEtAl1995.pdf) proposed two complemantary learning systems: A slow learning system that learns gradually from repetition (in form of weight adjustments in the Neocortex) and a fast learning system that learns from single experiences (in form of episodic memory in the hippocampus). Here, we will explore how such a episodic memory system can be modeled in PsyNeuLink.\n",
    "\n",
    "**Installation and Setup**\n",
    "> If the following code fails, you might have to restart the kernel/session and run it again. This is a known issue when installing PsyNeulink in google colab."
   ],
   "id": "b3fc8f86d1ad139a"
  },
  {
   "metadata": {
    "ExecuteTime": {
     "end_time": "2025-03-19T16:16:09.896863Z",
     "start_time": "2025-03-19T16:16:05.927368Z"
    }
   },
   "cell_type": "code",
   "source": [
    "%%capture\n",
    "%pip install psyneulink\n",
    "\n",
    "\n",
    "import psyneulink as pnl\n",
    "import numpy as np\n",
    "# from torch import nn\n",
    "# import torch\n",
    "import matplotlib.pyplot as plt"
   ],
   "id": "cca9b3741105146f",
   "outputs": [],
   "execution_count": 1
  },
  {
   "metadata": {},
   "cell_type": "markdown",
   "source": [
    "## Episodic Memory - Python Implementation\n",
    "\n",
    "We start with implementing a epispdic memory as python dictionary. The memory stores key-value pairs, that can be retrieved by querying the memory with a key:"
   ],
   "id": "e840d3af01e623a9"
  },
  {
   "metadata": {
    "ExecuteTime": {
     "end_time": "2025-03-19T16:16:09.902033Z",
     "start_time": "2025-03-19T16:16:09.900377Z"
    }
   },
   "cell_type": "code",
   "source": [
    "em_dict = {\n",
    "    'morning': 'breakfast',\n",
    "    'afternoon': 'lunch',\n",
    "    'evening': 'dinner'\n",
    "}"
   ],
   "id": "80cf6f7cb57de606",
   "outputs": [],
   "execution_count": 2
  },
  {
   "metadata": {},
   "cell_type": "markdown",
   "source": "We can retrieve memory by accessing the dictionary with a key:",
   "id": "58fdfa1adc8841c1"
  },
  {
   "metadata": {
    "ExecuteTime": {
     "end_time": "2025-03-19T16:16:09.985694Z",
     "start_time": "2025-03-19T16:16:09.983842Z"
    }
   },
   "cell_type": "code",
   "source": [
    "food = em_dict['morning']\n",
    "print(food)"
   ],
   "id": "fa5d77bce94c6e74",
   "outputs": [
    {
     "name": "stdout",
     "output_type": "stream",
     "text": [
      "breakfast\n"
     ]
    }
   ],
   "execution_count": 3
  },
  {
   "metadata": {},
   "cell_type": "markdown",
   "source": "However, this implementation is limited in that the key has to be an exact match. For example, we can not just access \"late afternoon\" and get \"brunch\":",
   "id": "82f94c6c164f4201"
  },
  {
   "metadata": {
    "ExecuteTime": {
     "end_time": "2025-03-19T16:16:10.133660Z",
     "start_time": "2025-03-19T16:16:09.999496Z"
    }
   },
   "cell_type": "code",
   "source": "food = em_dict['late afternoon']",
   "id": "3c2e639d7efb7546",
   "outputs": [
    {
     "ename": "KeyError",
     "evalue": "'late afternoon'",
     "output_type": "error",
     "traceback": [
      "\u001B[0;31m---------------------------------------------------------------------------\u001B[0m",
      "\u001B[0;31mKeyError\u001B[0m                                  Traceback (most recent call last)",
      "Cell \u001B[0;32mIn[4], line 1\u001B[0m\n\u001B[0;32m----> 1\u001B[0m food \u001B[38;5;241m=\u001B[39m \u001B[43mem_dict\u001B[49m\u001B[43m[\u001B[49m\u001B[38;5;124;43m'\u001B[39;49m\u001B[38;5;124;43mlate afternoon\u001B[39;49m\u001B[38;5;124;43m'\u001B[39;49m\u001B[43m]\u001B[49m\n",
      "\u001B[0;31mKeyError\u001B[0m: 'late afternoon'"
     ]
    }
   ],
   "execution_count": 4
  },
  {
   "metadata": {},
   "cell_type": "markdown",
   "source": "Also, to make this more general, instead of strings, we can use (one-hot encoded) vectors as keys and values. Let's build our own episodic memory that stores key-value pairs as list:",
   "id": "d60f3ecaa49d4507"
  },
  {
   "metadata": {
    "ExecuteTime": {
     "end_time": "2025-03-19T16:29:45.373238Z",
     "start_time": "2025-03-19T16:29:45.369188Z"
    }
   },
   "cell_type": "code",
   "source": [
    "morning_key = np.array([1, 0, 0])  # morning\n",
    "morning_value = np.array([0, 0, 1])  # breakfast\n",
    "\n",
    "afternoon_key = np.array([0, 1, 0])  # afternoon\n",
    "afternoon_value = np.array([1, 0, 0])  # lunch\n",
    "\n",
    "evening_key = np.array([0, 0, 1])  # evening\n",
    "evening_value = np.array([0, 0, 1])  # dinner\n",
    "\n",
    "em = np.array([(morning_key, morning_value), (afternoon_key, afternoon_value), (evening_key, evening_value)])\n",
    "print(em)"
   ],
   "id": "59212c40da0e46cb",
   "outputs": [
    {
     "name": "stdout",
     "output_type": "stream",
     "text": [
      "[[[1 0 0]\n",
      "  [0 0 1]]\n",
      "\n",
      " [[0 1 0]\n",
      "  [1 0 0]]\n",
      "\n",
      " [[0 0 1]\n",
      "  [0 0 1]]]\n"
     ]
    }
   ],
   "execution_count": 33
  },
  {
   "metadata": {},
   "cell_type": "markdown",
   "source": "",
   "id": "1d70d0aaeffeb6cc"
  },
  {
   "metadata": {
    "ExecuteTime": {
     "end_time": "2025-03-19T16:29:46.509859Z",
     "start_time": "2025-03-19T16:29:46.438037Z"
    }
   },
   "cell_type": "code",
   "source": [
    "def plot(memory):\n",
    "    \"\"\"\n",
    "    Plot the episodic memory as a matrix\n",
    "    \"\"\"\n",
    "    def flatten(el):\n",
    "        x = el[0]\n",
    "        for i in el[1]:\n",
    "            x = np.append(x, i)\n",
    "        return x\n",
    "\n",
    "    # Create a 6-row matrix (3 keys and 8 values) by padding the rows appropriately\n",
    "    episodic_memory_matrix = [flatten(el) for el in memory]\n",
    "\n",
    "    plt.imshow(episodic_memory_matrix, cmap='Reds', aspect='auto')\n",
    "\n",
    "    labels = [f\"Key {i}\" for i in range(len(episodic_memory_matrix[0])//2)] + [f\"Value {i}\" for i in range(len(episodic_memory_matrix[0])//2)]\n",
    "    plt.xticks(ticks=range(len(episodic_memory_matrix[0])),\n",
    "               labels=labels, rotation=45)\n",
    "    plt.yticks(ticks=range(len(episodic_memory_matrix)),\n",
    "               labels=[f\"Memory Entry {i}\" for i in range(len(episodic_memory_matrix))])\n",
    "    # Add vertical dashed line to separate groups\n",
    "\n",
    "    plt.axvline(x=(len(labels)-1)/2, color='black', linestyle='--', linewidth=1)\n",
    "    plt.grid(visible=True)\n",
    "    plt.title('Episodic Memory')\n",
    "    plt.xlabel('Columns')\n",
    "    plt.ylabel('Rows')\n",
    "    plt.show()\n",
    "\n",
    "\n",
    "#\n",
    "plot(em)\n",
    "\n"
   ],
   "id": "c549b55f5e7ce7fe",
   "outputs": [
    {
     "data": {
      "text/plain": [
       "<Figure size 640x480 with 1 Axes>"
      ],
      "image/png": "[encoded data removed]"
     },
     "metadata": {},
     "output_type": "display_data"
    }
   ],
   "execution_count": 34
  },
  {
   "metadata": {},
   "cell_type": "markdown",
   "source": "To retrieve a value, we can first search for the key that is most similar to the query key and return the corresponding value. A good measure for similarity between two vectors is the dot product.",
   "id": "bf2faf19a3e24476"
  },
  {
   "metadata": {
    "ExecuteTime": {
     "end_time": "2025-03-19T16:57:39.129936Z",
     "start_time": "2025-03-19T16:57:39.124671Z"
    }
   },
   "cell_type": "code",
   "source": [
    "# We use a query key that the model has never seen before (for exampl a interpolation between the morning and afternoon key)\n",
    "query_key = np.array([.9, .1, 0])  # between morning and afternoon\n",
    "\n",
    "matches = [np.dot(query_key, key) for key, _ in em]\n",
    "\n",
    "# our matches are:\n",
    "print('Matches: ',matches)\n",
    "\n",
    "# and the index with the highest match is:\n",
    "max_match_index = matches.index(max(matches))\n",
    "print('Index where key matches the most:', max_match_index)\n",
    "\n",
    "# matched key:\n",
    "key = em[max_match_index][0]\n",
    "print('Matched key:', key)\n",
    "\n",
    "# so the value is:\n",
    "value = em[max_match_index][1]\n",
    "print('Matched value:', value)"
   ],
   "id": "9b0f8196b4b991fd",
   "outputs": [
    {
     "name": "stdout",
     "output_type": "stream",
     "text": [
      "Matches:  [0.9, 0.1, 0.0]\n",
      "Index where key matches the most: 0\n",
      "Matched key: [1 0 0]\n",
      "Matched value: [0 0 1]\n"
     ]
    }
   ],
   "execution_count": 37
  },
  {
   "metadata": {},
   "cell_type": "markdown",
   "source": "As expected, the most close match to \"between morning and afternoon\" is \"morning\" and we get the value \"breakfast\"",
   "id": "9d362363b3377613"
  },
  {
   "metadata": {},
   "cell_type": "markdown",
   "source": "We can go a step further, instead of using the argmax of the matches, we can also weigh the values by their respective match. But to do that, we first need to normalize the matches (in this case we use the softmax function):",
   "id": "1924f4b6bc38ae19"
  },
  {
   "metadata": {
    "ExecuteTime": {
     "end_time": "2025-03-19T16:58:47.943439Z",
     "start_time": "2025-03-19T16:58:47.937878Z"
    }
   },
   "cell_type": "code",
   "source": [
    "import math\n",
    "import numpy as np\n",
    "\n",
    "def softmax(x):\n",
    "    # calculate the sum\n",
    "    _sum = 0\n",
    "    for el in x:\n",
    "        _sum += math.exp(el)\n",
    "    res = []\n",
    "    for el in x:\n",
    "        res.append(math.exp(el) / _sum)\n",
    "    return res\n",
    "\n",
    "query_key = [1., 1., 0.]  # half way between morning and afternoon\n",
    "\n",
    "matches = [np.dot(query_key, key) for key, _ in em]\n",
    "print('Matches:', matches)\n",
    "\n",
    "soft_maxed_matches = softmax(matches)\n",
    "print('Soft maxed Matches:', soft_maxed_matches)\n",
    "\n",
    "weighted_values = np.sum(np.array([soft_maxed_matches[i] * np.array(value) for i, (_, value) in enumerate(em)]), axis=0)\n",
    "print('Weighted Values:', weighted_values)\n"
   ],
   "id": "264dcb10e28d3694",
   "outputs": [
    {
     "name": "stdout",
     "output_type": "stream",
     "text": [
      "Matches: [1.0, 1.0, 0.0]\n",
      "Soft maxed Matches: [0.4223187982515182, 0.4223187982515182, 0.15536240349696362]\n",
      "Weighted Values: [0.4223188 0.        0.5776812]\n"
     ]
    }
   ],
   "execution_count": 39
  },
  {
   "metadata": {},
   "cell_type": "markdown",
   "source": "Here, instead of choosing the best key (that is in memory), we calculate a weighted between the values stored in memory. The weights, in this case are similarity scores between the query key and the stored key in memory.",
   "id": "f5d8e043df7d155f"
  },
  {
   "metadata": {},
   "cell_type": "markdown",
   "source": [
    "Exercise 1{exercise}\n",
    "\n",
    "Instead of the above implementation of the softmax, in use cases, we use a softmax that masks values below a certain threshold. Why is this necessary? What would happen if we didn't mask values?"
   ],
   "id": "3e4225438b2fac27"
  },
  {
   "metadata": {},
   "cell_type": "markdown",
   "source": [
    "Hint {hint}\n",
    "\n",
    "In our toy example we have only a few memory slots. However, in a most scenarios, we want to model a large number of episodic memory slots. In this case, the `match_weight` vector will have a large number of entries with a lot of zeros (or near zeros). Think about why that is problematic."
   ],
   "id": "ca653b0045408db9"
  },
  {
   "metadata": {},
   "cell_type": "markdown",
   "source": [
    "Solution 1{solution}\n",
    "\n",
    "The \"flattening\" effect of the softmax function is dependent on the length of the vector. For example, try running the following code:\n",
    "\n",
    "```python\n",
    "res = softmax(torch.tensor([1] + [0.01] * 10))\n",
    "res_2 = softmax(torch.tensor([1] + [0.01] * 100))\n",
    "print(res[0])\n",
    "print(res_2[0])\n",
    "```\n"
   ],
   "id": "c860d42fcc7ef527"
  },
  {
   "metadata": {},
   "cell_type": "markdown",
   "source": [
    "Exercise 2{exercise}\n",
    "\n",
    "Try implementing a larger memory with more key value pairs. How does the memory retrieval hold up without masking?"
   ],
   "id": "115d188eda754537"
  },
  {
   "metadata": {},
   "cell_type": "markdown",
   "source": [
    " ## PsyNeuLink - EMComposition\n",
    "\n",
    "`PsyNeuLink` provides build-in support for episodic memory through the `EMComposition`. Here, we explain the most important parameters of the `EMComposition`. It can be used to easily build more complex memory structures, and we will use it in the [next tutorial](https://princetonuniversity.github.io/NEU-PSY-502/content/502B/Computation/Episodic%20Memory/notebooks/2%20Episodic%20Generalization%20Optimization%20-%20EGO.html) in the EGO model."
   ],
   "id": "b2a0d820aeb83bc5"
  },
  {
   "metadata": {
    "ExecuteTime": {
     "end_time": "2025-03-19T04:39:19.404058Z",
     "start_time": "2025-03-19T04:38:57.982168Z"
    }
   },
   "cell_type": "code",
   "source": [
    "em = pnl.EMComposition(name='EM',  # name\n",
    "                       memory_capacity=1000,  # number of key-value pairs\n",
    "                       memory_template=[[0, 0], [0, 0, 0, 0], [0, 0, 0]],\n",
    "                       # template for the memory. Note: Here we use 3 memory slots (instead of just a key value pair, we can store as many keys and pairs as we want.)\n",
    "                       fields={'1':\n",
    "                                   {pnl.FIELD_WEIGHT: .33,\n",
    "                                    # weight of the key. This determines how much this \"slot\" influences the retrieval\n",
    "                                    pnl.LEARN_FIELD_WEIGHT: False,  # The weight can be learned via backpropagation\n",
    "                                    pnl.TARGET_FIELD: False\n",
    "                                    # If this is a target field, the error is calculated here, and backpropagated\n",
    "                                    },\n",
    "                               '2': {pnl.FIELD_WEIGHT: .33,\n",
    "                                     pnl.LEARN_FIELD_WEIGHT: False,\n",
    "                                     pnl.TARGET_FIELD: False},\n",
    "                               '3': {pnl.FIELD_WEIGHT: .33,\n",
    "                                     pnl.LEARN_FIELD_WEIGHT: False,\n",
    "                                     pnl.TARGET_FIELD: False},\n",
    "\n",
    "                               },\n",
    "                       memory_fill=.001,  # fill the memory with this value\n",
    "                       normalize_memories=True,  # normalize the memories\n",
    "                       softmax_gain=1.,  # gain of the softmax function\n",
    "                       softmax_threshold=0.1,  # threshold of the softmax function\n",
    "                       memory_decay=0,  # memory can be decayed over time\n",
    "                       )\n",
    "em.show_graph(output_fmt='jupyter')"
   ],
   "id": "33cfe2b53582ec93",
   "outputs": [
    {
     "data": {
      "image/svg+xml": "<?xml version=\"1.0\" encoding=\"UTF-8\" standalone=\"no\"?>\n<!DOCTYPE svg PUBLIC \"-//W3C//DTD SVG 1.1//EN\"\n \"http://www.w3.org/Graphics/SVG/1.1/DTD/svg11.dtd\">\n<!-- Generated by graphviz version 12.1.0 (20240811.2233)\n -->\n<!-- Title: EM Pages: 1 -->\n<svg width=\"961pt\" height=\"429pt\"\n viewBox=\"0.00 0.00 961.45 428.50\" xmlns=\"http://www.w3.org/2000/svg\" xmlns:xlink=\"http://www.w3.org/1999/xlink\">\n<g id=\"graph0\" class=\"graph\" transform=\"scale(1 1) rotate(0) translate(4 424.5)\">\n<title>EM</title>\n<polygon fill=\"white\" stroke=\"none\" points=\"-4,4 -4,-424.5 957.45,-424.5 957.45,4 -4,4\"/>\n<text text-anchor=\"middle\" x=\"476.72\" y=\"-7.2\" font-family=\"Times,serif\" font-size=\"14.00\">EM</text>\n<!-- 3 [QUERY] -->\n<g id=\"node1\" class=\"node\">\n<title>3 [QUERY]</title>\n<ellipse fill=\"none\" stroke=\"green\" stroke-width=\"3\" cx=\"659.72\" cy=\"-42.5\" rx=\"47.38\" ry=\"18\"/>\n<text text-anchor=\"middle\" x=\"659.72\" y=\"-38.23\" font-family=\"arial\" font-size=\"12.00\">3 [QUERY]</text>\n</g>\n<!-- 3 [MATCH to KEYS] -->\n<g id=\"node12\" class=\"node\">\n<title>3 [MATCH to KEYS]</title>\n<ellipse fill=\"none\" stroke=\"black\" cx=\"755.72\" cy=\"-114.5\" rx=\"77.91\" ry=\"18\"/>\n<text text-anchor=\"middle\" x=\"755.72\" y=\"-110.22\" font-family=\"arial\" font-size=\"12.00\">3 [MATCH to KEYS]</text>\n</g>\n<!-- 3 [QUERY]&#45;&gt;3 [MATCH to KEYS] -->\n<g id=\"edge10\" class=\"edge\">\n<title>3 [QUERY]&#45;&gt;3 [MATCH to KEYS]</title>\n<path fill=\"none\" stroke=\"black\" d=\"M681.99,-59.74C694.41,-68.79 710.09,-80.23 723.8,-90.22\"/>\n<polygon fill=\"black\" stroke=\"black\" points=\"721.55,-92.91 731.69,-95.97 725.67,-87.26 721.55,-92.91\"/>\n</g>\n<!-- STORE -->\n<g id=\"node18\" class=\"node\">\n<title>STORE</title>\n<ellipse fill=\"none\" stroke=\"black\" cx=\"329.72\" cy=\"-114.5\" rx=\"36.41\" ry=\"18\"/>\n<text text-anchor=\"middle\" x=\"329.72\" y=\"-110.22\" font-family=\"arial\" font-size=\"12.00\">STORE</text>\n</g>\n<!-- 3 [QUERY]&#45;&gt;STORE -->\n<g id=\"edge19\" class=\"edge\">\n<title>3 [QUERY]&#45;&gt;STORE</title>\n<path fill=\"none\" stroke=\"black\" d=\"M614.24,-49.42C557.51,-57.38 457.85,-73.27 374.72,-96.5 372.46,-97.13 370.15,-97.83 367.84,-98.57\"/>\n<polygon fill=\"black\" stroke=\"black\" points=\"366.81,-95.22 358.5,-101.79 369.1,-101.84 366.81,-95.22\"/>\n</g>\n<!-- 2 [QUERY] -->\n<g id=\"node2\" class=\"node\">\n<title>2 [QUERY]</title>\n<ellipse fill=\"none\" stroke=\"green\" stroke-width=\"3\" cx=\"390.72\" cy=\"-42.5\" rx=\"47.38\" ry=\"18\"/>\n<text text-anchor=\"middle\" x=\"390.72\" y=\"-38.23\" font-family=\"arial\" font-size=\"12.00\">2 [QUERY]</text>\n</g>\n<!-- 2 [MATCH to KEYS] -->\n<g id=\"node10\" class=\"node\">\n<title>2 [MATCH to KEYS]</title>\n<ellipse fill=\"none\" stroke=\"black\" cx=\"581.72\" cy=\"-114.5\" rx=\"77.91\" ry=\"18\"/>\n<text text-anchor=\"middle\" x=\"581.72\" y=\"-110.22\" font-family=\"arial\" font-size=\"12.00\">2 [MATCH to KEYS]</text>\n</g>\n<!-- 2 [QUERY]&#45;&gt;2 [MATCH to KEYS] -->\n<g id=\"edge7\" class=\"edge\">\n<title>2 [QUERY]&#45;&gt;2 [MATCH to KEYS]</title>\n<path fill=\"none\" stroke=\"black\" d=\"M425.31,-56.18C454.8,-66.98 497.59,-82.67 530.96,-94.9\"/>\n<polygon fill=\"black\" stroke=\"black\" points=\"529.42,-98.06 540.01,-98.21 531.83,-91.49 529.42,-98.06\"/>\n</g>\n<!-- 2 [QUERY]&#45;&gt;STORE -->\n<g id=\"edge18\" class=\"edge\">\n<title>2 [QUERY]&#45;&gt;STORE</title>\n<path fill=\"none\" stroke=\"black\" d=\"M375.64,-60.8C368.16,-69.39 358.99,-79.92 350.82,-89.29\"/>\n<polygon fill=\"black\" stroke=\"black\" points=\"348.3,-86.85 344.37,-96.69 353.58,-91.45 348.3,-86.85\"/>\n</g>\n<!-- 1 [QUERY] -->\n<g id=\"node3\" class=\"node\">\n<title>1 [QUERY]</title>\n<ellipse fill=\"none\" stroke=\"green\" stroke-width=\"3\" cx=\"268.72\" cy=\"-42.5\" rx=\"47.38\" ry=\"18\"/>\n<text text-anchor=\"middle\" x=\"268.72\" y=\"-38.23\" font-family=\"arial\" font-size=\"12.00\">1 [QUERY]</text>\n</g>\n<!-- 1 [MATCH to KEYS] -->\n<g id=\"node4\" class=\"node\">\n<title>1 [MATCH to KEYS]</title>\n<ellipse fill=\"none\" stroke=\"black\" cx=\"197.72\" cy=\"-114.5\" rx=\"77.91\" ry=\"18\"/>\n<text text-anchor=\"middle\" x=\"197.72\" y=\"-110.22\" font-family=\"arial\" font-size=\"12.00\">1 [MATCH to KEYS]</text>\n</g>\n<!-- 1 [QUERY]&#45;&gt;1 [MATCH to KEYS] -->\n<g id=\"edge1\" class=\"edge\">\n<title>1 [QUERY]&#45;&gt;1 [MATCH to KEYS]</title>\n<path fill=\"none\" stroke=\"black\" d=\"M251.54,-60.45C242.9,-68.96 232.28,-79.43 222.76,-88.82\"/>\n<polygon fill=\"black\" stroke=\"black\" points=\"220.49,-86.14 215.83,-95.65 225.41,-91.12 220.49,-86.14\"/>\n</g>\n<!-- 1 [QUERY]&#45;&gt;STORE -->\n<g id=\"edge17\" class=\"edge\">\n<title>1 [QUERY]&#45;&gt;STORE</title>\n<path fill=\"none\" stroke=\"black\" d=\"M283.8,-60.8C291.29,-69.39 300.46,-79.92 308.63,-89.29\"/>\n<polygon fill=\"black\" stroke=\"black\" points=\"305.86,-91.45 315.07,-96.69 311.14,-86.85 305.86,-91.45\"/>\n</g>\n<!-- 1 [WEIGHTED MATCH] -->\n<g id=\"node5\" class=\"node\">\n<title>1 [WEIGHTED MATCH]</title>\n<ellipse fill=\"none\" stroke=\"black\" cx=\"197.72\" cy=\"-186.5\" rx=\"90.32\" ry=\"18\"/>\n<text text-anchor=\"middle\" x=\"197.72\" y=\"-182.22\" font-family=\"arial\" font-size=\"12.00\">1 [WEIGHTED MATCH]</text>\n</g>\n<!-- 1 [MATCH to KEYS]&#45;&gt;1 [WEIGHTED MATCH] -->\n<g id=\"edge2\" class=\"edge\">\n<title>1 [MATCH to KEYS]&#45;&gt;1 [WEIGHTED MATCH]</title>\n<path fill=\"none\" stroke=\"black\" d=\"M197.72,-132.8C197.72,-140.09 197.72,-148.77 197.72,-156.96\"/>\n<polygon fill=\"black\" stroke=\"black\" points=\"194.22,-156.88 197.72,-166.88 201.22,-156.88 194.22,-156.88\"/>\n</g>\n<!-- COMBINE MATCHES -->\n<g id=\"node7\" class=\"node\">\n<title>COMBINE MATCHES</title>\n<ellipse fill=\"none\" stroke=\"black\" cx=\"495.72\" cy=\"-258.5\" rx=\"85.07\" ry=\"18\"/>\n<text text-anchor=\"middle\" x=\"495.72\" y=\"-254.22\" font-family=\"arial\" font-size=\"12.00\">COMBINE MATCHES</text>\n</g>\n<!-- 1 [WEIGHTED MATCH]&#45;&gt;COMBINE MATCHES -->\n<g id=\"edge4\" class=\"edge\">\n<title>1 [WEIGHTED MATCH]&#45;&gt;COMBINE MATCHES</title>\n<path fill=\"none\" stroke=\"black\" d=\"M254.48,-200.83C304.3,-212.53 376.8,-229.56 429.3,-241.9\"/>\n<polygon fill=\"black\" stroke=\"black\" points=\"428.18,-245.23 438.72,-244.11 429.78,-238.42 428.18,-245.23\"/>\n</g>\n<!-- 1 [WEIGHT] -->\n<g id=\"node6\" class=\"node\">\n<title>1 [WEIGHT]</title>\n<ellipse fill=\"none\" stroke=\"black\" cx=\"50.72\" cy=\"-114.5\" rx=\"50.72\" ry=\"18\"/>\n<text text-anchor=\"middle\" x=\"50.72\" y=\"-110.22\" font-family=\"arial\" font-size=\"12.00\">1 [WEIGHT]</text>\n</g>\n<!-- 1 [WEIGHT]&#45;&gt;1 [WEIGHTED MATCH] -->\n<g id=\"edge3\" class=\"edge\">\n<title>1 [WEIGHT]&#45;&gt;1 [WEIGHTED MATCH]</title>\n<path fill=\"none\" stroke=\"black\" d=\"M80.12,-129.5C101.21,-139.54 129.99,-153.25 153.8,-164.59\"/>\n<polygon fill=\"black\" stroke=\"black\" points=\"152.11,-167.65 162.64,-168.79 155.12,-161.33 152.11,-167.65\"/>\n</g>\n<!-- RETRIEVE -->\n<g id=\"node14\" class=\"node\">\n<title>RETRIEVE</title>\n<ellipse fill=\"none\" stroke=\"black\" cx=\"495.72\" cy=\"-330.5\" rx=\"49.29\" ry=\"18\"/>\n<text text-anchor=\"middle\" x=\"495.72\" y=\"-326.23\" font-family=\"arial\" font-size=\"12.00\">RETRIEVE</text>\n</g>\n<!-- COMBINE MATCHES&#45;&gt;RETRIEVE -->\n<g id=\"edge13\" class=\"edge\">\n<title>COMBINE MATCHES&#45;&gt;RETRIEVE</title>\n<path fill=\"none\" stroke=\"black\" d=\"M495.72,-276.8C495.72,-284.09 495.72,-292.77 495.72,-300.96\"/>\n<polygon fill=\"black\" stroke=\"black\" points=\"492.22,-300.88 495.72,-310.88 499.22,-300.88 492.22,-300.88\"/>\n</g>\n<!-- 2 [WEIGHTED MATCH] -->\n<g id=\"node8\" class=\"node\">\n<title>2 [WEIGHTED MATCH]</title>\n<ellipse fill=\"none\" stroke=\"black\" cx=\"495.72\" cy=\"-186.5\" rx=\"90.32\" ry=\"18\"/>\n<text text-anchor=\"middle\" x=\"495.72\" y=\"-182.22\" font-family=\"arial\" font-size=\"12.00\">2 [WEIGHTED MATCH]</text>\n</g>\n<!-- 2 [WEIGHTED MATCH]&#45;&gt;COMBINE MATCHES -->\n<g id=\"edge5\" class=\"edge\">\n<title>2 [WEIGHTED MATCH]&#45;&gt;COMBINE MATCHES</title>\n<path fill=\"none\" stroke=\"black\" d=\"M495.72,-204.8C495.72,-212.09 495.72,-220.77 495.72,-228.96\"/>\n<polygon fill=\"black\" stroke=\"black\" points=\"492.22,-228.88 495.72,-238.88 499.22,-228.88 492.22,-228.88\"/>\n</g>\n<!-- 3 [WEIGHTED MATCH] -->\n<g id=\"node9\" class=\"node\">\n<title>3 [WEIGHTED MATCH]</title>\n<ellipse fill=\"none\" stroke=\"black\" cx=\"755.72\" cy=\"-186.5\" rx=\"90.32\" ry=\"18\"/>\n<text text-anchor=\"middle\" x=\"755.72\" y=\"-182.22\" font-family=\"arial\" font-size=\"12.00\">3 [WEIGHTED MATCH]</text>\n</g>\n<!-- 3 [WEIGHTED MATCH]&#45;&gt;COMBINE MATCHES -->\n<g id=\"edge6\" class=\"edge\">\n<title>3 [WEIGHTED MATCH]&#45;&gt;COMBINE MATCHES</title>\n<path fill=\"none\" stroke=\"black\" d=\"M703.42,-201.58C661.32,-212.92 602.03,-228.88 557.58,-240.85\"/>\n<polygon fill=\"black\" stroke=\"black\" points=\"556.82,-237.43 548.07,-243.41 558.64,-244.19 556.82,-237.43\"/>\n</g>\n<!-- 2 [MATCH to KEYS]&#45;&gt;2 [WEIGHTED MATCH] -->\n<g id=\"edge8\" class=\"edge\">\n<title>2 [MATCH to KEYS]&#45;&gt;2 [WEIGHTED MATCH]</title>\n<path fill=\"none\" stroke=\"black\" d=\"M561.34,-132.09C550.58,-140.85 537.17,-151.77 525.28,-161.44\"/>\n<polygon fill=\"black\" stroke=\"black\" points=\"523.27,-158.56 517.73,-167.59 527.69,-163.99 523.27,-158.56\"/>\n</g>\n<!-- 2 [WEIGHT] -->\n<g id=\"node11\" class=\"node\">\n<title>2 [WEIGHT]</title>\n<ellipse fill=\"none\" stroke=\"black\" cx=\"434.72\" cy=\"-114.5\" rx=\"50.72\" ry=\"18\"/>\n<text text-anchor=\"middle\" x=\"434.72\" y=\"-110.22\" font-family=\"arial\" font-size=\"12.00\">2 [WEIGHT]</text>\n</g>\n<!-- 2 [WEIGHT]&#45;&gt;2 [WEIGHTED MATCH] -->\n<g id=\"edge9\" class=\"edge\">\n<title>2 [WEIGHT]&#45;&gt;2 [WEIGHTED MATCH]</title>\n<path fill=\"none\" stroke=\"black\" d=\"M449.18,-132.09C456.44,-140.42 465.4,-150.7 473.51,-160.01\"/>\n<polygon fill=\"black\" stroke=\"black\" points=\"470.74,-162.16 479.95,-167.4 476.02,-157.56 470.74,-162.16\"/>\n</g>\n<!-- 3 [MATCH to KEYS]&#45;&gt;3 [WEIGHTED MATCH] -->\n<g id=\"edge11\" class=\"edge\">\n<title>3 [MATCH to KEYS]&#45;&gt;3 [WEIGHTED MATCH]</title>\n<path fill=\"none\" stroke=\"black\" d=\"M755.72,-132.8C755.72,-140.09 755.72,-148.77 755.72,-156.96\"/>\n<polygon fill=\"black\" stroke=\"black\" points=\"752.22,-156.88 755.72,-166.88 759.22,-156.88 752.22,-156.88\"/>\n</g>\n<!-- 3 [WEIGHT] -->\n<g id=\"node13\" class=\"node\">\n<title>3 [WEIGHT]</title>\n<ellipse fill=\"none\" stroke=\"black\" cx=\"902.72\" cy=\"-114.5\" rx=\"50.72\" ry=\"18\"/>\n<text text-anchor=\"middle\" x=\"902.72\" y=\"-110.22\" font-family=\"arial\" font-size=\"12.00\">3 [WEIGHT]</text>\n</g>\n<!-- 3 [WEIGHT]&#45;&gt;3 [WEIGHTED MATCH] -->\n<g id=\"edge12\" class=\"edge\">\n<title>3 [WEIGHT]&#45;&gt;3 [WEIGHTED MATCH]</title>\n<path fill=\"none\" stroke=\"black\" d=\"M873.33,-129.5C852.24,-139.54 823.45,-153.25 799.64,-164.59\"/>\n<polygon fill=\"black\" stroke=\"black\" points=\"798.33,-161.33 790.8,-168.79 801.34,-167.65 798.33,-161.33\"/>\n</g>\n<!-- 1 [RETRIEVED] -->\n<g id=\"node15\" class=\"node\">\n<title>1 [RETRIEVED]</title>\n<ellipse fill=\"none\" stroke=\"red\" stroke-width=\"3\" cx=\"347.72\" cy=\"-402.5\" rx=\"65.03\" ry=\"18\"/>\n<text text-anchor=\"middle\" x=\"347.72\" y=\"-398.23\" font-family=\"arial\" font-size=\"12.00\">1 [RETRIEVED]</text>\n</g>\n<!-- RETRIEVE&#45;&gt;1 [RETRIEVED] -->\n<g id=\"edge14\" class=\"edge\">\n<title>RETRIEVE&#45;&gt;1 [RETRIEVED]</title>\n<path fill=\"none\" stroke=\"black\" d=\"M466.48,-345.33C445.06,-355.46 415.61,-369.39 391.4,-380.84\"/>\n<polygon fill=\"black\" stroke=\"black\" points=\"389.95,-377.66 382.4,-385.1 392.94,-383.99 389.95,-377.66\"/>\n</g>\n<!-- 2 [RETRIEVED] -->\n<g id=\"node16\" class=\"node\">\n<title>2 [RETRIEVED]</title>\n<ellipse fill=\"none\" stroke=\"red\" stroke-width=\"3\" cx=\"495.72\" cy=\"-402.5\" rx=\"65.03\" ry=\"18\"/>\n<text text-anchor=\"middle\" x=\"495.72\" y=\"-398.23\" font-family=\"arial\" font-size=\"12.00\">2 [RETRIEVED]</text>\n</g>\n<!-- RETRIEVE&#45;&gt;2 [RETRIEVED] -->\n<g id=\"edge15\" class=\"edge\">\n<title>RETRIEVE&#45;&gt;2 [RETRIEVED]</title>\n<path fill=\"none\" stroke=\"black\" d=\"M495.72,-348.8C495.72,-355.79 495.72,-364.06 495.72,-371.95\"/>\n<polygon fill=\"black\" stroke=\"black\" points=\"492.22,-371.91 495.72,-381.91 499.22,-371.91 492.22,-371.91\"/>\n</g>\n<!-- 3 [RETRIEVED] -->\n<g id=\"node17\" class=\"node\">\n<title>3 [RETRIEVED]</title>\n<ellipse fill=\"none\" stroke=\"red\" stroke-width=\"3\" cx=\"643.72\" cy=\"-402.5\" rx=\"65.03\" ry=\"18\"/>\n<text text-anchor=\"middle\" x=\"643.72\" y=\"-398.23\" font-family=\"arial\" font-size=\"12.00\">3 [RETRIEVED]</text>\n</g>\n<!-- RETRIEVE&#45;&gt;3 [RETRIEVED] -->\n<g id=\"edge16\" class=\"edge\">\n<title>RETRIEVE&#45;&gt;3 [RETRIEVED]</title>\n<path fill=\"none\" stroke=\"black\" d=\"M524.96,-345.33C546.39,-355.46 575.84,-369.39 600.05,-380.84\"/>\n<polygon fill=\"black\" stroke=\"black\" points=\"598.51,-383.99 609.04,-385.1 601.5,-377.66 598.51,-383.99\"/>\n</g>\n</g>\n</svg>\n",
      "text/plain": [
       "<graphviz.graphs.Digraph at 0x158b33050>"
      ]
     },
     "execution_count": 137,
     "metadata": {},
     "output_type": "execute_result"
    }
   ],
   "execution_count": 137
  },
  {
   "metadata": {},
   "cell_type": "markdown",
   "source": [
    "The above figure seems complicated at first, but it follows the same principle as the torch implementation:\n",
    "We look it from the bottom to the top:\n",
    "- The arrows from the 1, 2, and 3 query to the \"STORE\" node, represent that these values are stored in memory\n",
    "- All of them ara also passed through a \"MATCH\" node, wich calculates the similarity between the query and the stored values (just as desibed above for the keys)\n",
    "- The \"MATCH\" nodes are then weighted and combined. (Here they are also softmaxed)\n",
    "- Then the result is used to retrieve the memory by multiplying the \"combined matchse\" with the stored values."
   ],
   "id": "a331a3c67dc00a8d"
  },
  {
   "metadata": {},
   "cell_type": "markdown",
   "source": [
    "Exercise 4{exercise}\n",
    "\n",
    "In our implementation, we specified input node 1 as having 2 entries (1x2 vector), the input node 2 with 4 entries (1x4 vector), and the input node 3 with 3 entries (1x3 vector). Yet, In the explanation above, I talked about adding weighted vectors together. How can that be?"
   ],
   "id": "103926e5d2088a06"
  },
  {
   "metadata": {},
   "cell_type": "markdown",
   "source": [
    "Hint {hint}\n",
    "We are not adding the query vectors together but the matched weights. What is the shape of these weights?"
   ],
   "id": "9b3b31af7eedfb12"
  },
  {
   "metadata": {},
   "cell_type": "markdown",
   "source": [
    "Solution 4{solution}\n",
    "\n",
    "The matched weights have the shape of the number of memory slots. Their entries don't represent the query vectors themselves, the `i`-th entry signifies how similar the memory in slot `i` is to the query vector.\n",
    "\n",
    "This is why a weighted sum makes sense, we are literally weighing how similar 1, 2, and 3 is and then combining them. This way the retrieavel searches for the most combined (weighted) similarity"
   ],
   "id": "662015ba058820ef"
  },
  {
   "metadata": {},
   "cell_type": "markdown",
   "source": [
    "### Marking a Field as Value (non-query)\n",
    "\n",
    "If we don't want specific fields to be taken into account on retrieval (for example if they are the \"target\" fields that the model is supposed to predict), we can set their retrieval weight to \"None\":"
   ],
   "id": "1f8873376153e576"
  },
  {
   "metadata": {},
   "cell_type": "markdown",
   "source": "em.memory",
   "id": "a57993c155c8f0e7"
  },
  {
   "metadata": {
    "ExecuteTime": {
     "end_time": "2025-03-19T04:52:38.104777Z",
     "start_time": "2025-03-19T04:52:21.731252Z"
    }
   },
   "cell_type": "code",
   "source": [
    "em = pnl.EMComposition(name='EM with Target',  # name\n",
    "                       memory_capacity=1000,  # number of key-value pairs\n",
    "                       memory_template=[[0, 0], [0, 0, 0, 0], [0, 0, 0]],\n",
    "                       # template for the memory. Note: Here we use 3 memory slots (instead of just a key value pair, we can store as many keys and pairs as we want.)\n",
    "                       fields={'1':\n",
    "                                   {pnl.FIELD_WEIGHT: .5,\n",
    "                                    # weight of the key. This determines how much this \"slot\" influences the retrieval\n",
    "                                    pnl.LEARN_FIELD_WEIGHT: False,  # The weight can be learned via backpropagation\n",
    "                                    pnl.TARGET_FIELD: False\n",
    "                                    # If this is a target field, the error is calculated here, and backpropagated\n",
    "                                    },\n",
    "                               '2': {pnl.FIELD_WEIGHT: .5,\n",
    "                                     pnl.LEARN_FIELD_WEIGHT: False,\n",
    "                                     pnl.TARGET_FIELD: False},\n",
    "                               '3': {pnl.FIELD_WEIGHT: None,\n",
    "                                     pnl.LEARN_FIELD_WEIGHT: False,\n",
    "                                     pnl.TARGET_FIELD: True},\n",
    "\n",
    "                               },\n",
    "                       memory_fill=.001,  # fill the memory with this value\n",
    "                       normalize_memories=True,  # normalize the memories\n",
    "                       softmax_gain=1.,  # gain of the softmax function\n",
    "                       softmax_threshold=0.1,  # threshold of the softmax function\n",
    "                       memory_decay=0,  # memory can be decayed over time\n",
    "                       )\n",
    "em.show_graph(output_fmt='jupyter')"
   ],
   "id": "4737d68c5d8b32a3",
   "outputs": [
    {
     "data": {
      "image/svg+xml": "<?xml version=\"1.0\" encoding=\"UTF-8\" standalone=\"no\"?>\n<!DOCTYPE svg PUBLIC \"-//W3C//DTD SVG 1.1//EN\"\n \"http://www.w3.org/Graphics/SVG/1.1/DTD/svg11.dtd\">\n<!-- Generated by graphviz version 12.1.0 (20240811.2233)\n -->\n<!-- Title: EM with Target Pages: 1 -->\n<svg width=\"734pt\" height=\"429pt\"\n viewBox=\"0.00 0.00 733.99 428.50\" xmlns=\"http://www.w3.org/2000/svg\" xmlns:xlink=\"http://www.w3.org/1999/xlink\">\n<g id=\"graph0\" class=\"graph\" transform=\"scale(1 1) rotate(0) translate(4 424.5)\">\n<title>EM with Target</title>\n<polygon fill=\"white\" stroke=\"none\" points=\"-4,4 -4,-424.5 729.99,-424.5 729.99,4 -4,4\"/>\n<text text-anchor=\"middle\" x=\"363\" y=\"-7.2\" font-family=\"Times,serif\" font-size=\"14.00\">EM with Target</text>\n<!-- 3 [VALUE] -->\n<g id=\"node1\" class=\"node\">\n<title>3 [VALUE]</title>\n<ellipse fill=\"none\" stroke=\"green\" stroke-width=\"3\" cx=\"230.59\" cy=\"-42.5\" rx=\"45\" ry=\"18\"/>\n<text text-anchor=\"middle\" x=\"230.59\" y=\"-38.23\" font-family=\"arial\" font-size=\"12.00\">3 [VALUE]</text>\n</g>\n<!-- STORE&#45;1 -->\n<g id=\"node15\" class=\"node\">\n<title>STORE&#45;1</title>\n<ellipse fill=\"none\" stroke=\"black\" cx=\"230.59\" cy=\"-114.5\" rx=\"43.09\" ry=\"18\"/>\n<text text-anchor=\"middle\" x=\"230.59\" y=\"-110.22\" font-family=\"arial\" font-size=\"12.00\">STORE&#45;1</text>\n</g>\n<!-- 3 [VALUE]&#45;&gt;STORE&#45;1 -->\n<g id=\"edge15\" class=\"edge\">\n<title>3 [VALUE]&#45;&gt;STORE&#45;1</title>\n<path fill=\"none\" stroke=\"black\" d=\"M230.59,-61.89C230.59,-68.99 230.59,-77.28 230.59,-85.11\"/>\n<polygon fill=\"black\" stroke=\"black\" points=\"227.09,-84.92 230.59,-94.92 234.09,-84.92 227.09,-84.92\"/>\n</g>\n<!-- 2 [QUERY]&#45;1 -->\n<g id=\"node2\" class=\"node\">\n<title>2 [QUERY]&#45;1</title>\n<ellipse fill=\"none\" stroke=\"green\" stroke-width=\"3\" cx=\"99.59\" cy=\"-42.5\" rx=\"54.06\" ry=\"18\"/>\n<text text-anchor=\"middle\" x=\"99.59\" y=\"-38.23\" font-family=\"arial\" font-size=\"12.00\">2 [QUERY]&#45;1</text>\n</g>\n<!-- 2 [MATCH to KEYS]&#45;1 -->\n<g id=\"node9\" class=\"node\">\n<title>2 [MATCH to KEYS]&#45;1</title>\n<ellipse fill=\"none\" stroke=\"black\" cx=\"84.59\" cy=\"-114.5\" rx=\"84.59\" ry=\"18\"/>\n<text text-anchor=\"middle\" x=\"84.59\" y=\"-110.22\" font-family=\"arial\" font-size=\"12.00\">2 [MATCH to KEYS]&#45;1</text>\n</g>\n<!-- 2 [QUERY]&#45;1&#45;&gt;2 [MATCH to KEYS]&#45;1 -->\n<g id=\"edge6\" class=\"edge\">\n<title>2 [QUERY]&#45;1&#45;&gt;2 [MATCH to KEYS]&#45;1</title>\n<path fill=\"none\" stroke=\"black\" d=\"M95.65,-61.89C94.11,-69.08 92.31,-77.48 90.61,-85.39\"/>\n<polygon fill=\"black\" stroke=\"black\" points=\"87.24,-84.44 88.57,-94.95 94.08,-85.91 87.24,-84.44\"/>\n</g>\n<!-- 2 [QUERY]&#45;1&#45;&gt;STORE&#45;1 -->\n<g id=\"edge14\" class=\"edge\">\n<title>2 [QUERY]&#45;1&#45;&gt;STORE&#45;1</title>\n<path fill=\"none\" stroke=\"black\" d=\"M128.66,-59.04C148.14,-69.44 173.91,-83.21 194.67,-94.3\"/>\n<polygon fill=\"black\" stroke=\"black\" points=\"192.9,-97.33 203.37,-98.95 196.2,-91.15 192.9,-97.33\"/>\n</g>\n<!-- 1 [QUERY]&#45;1 -->\n<g id=\"node3\" class=\"node\">\n<title>1 [QUERY]&#45;1</title>\n<ellipse fill=\"none\" stroke=\"green\" stroke-width=\"3\" cx=\"427.59\" cy=\"-42.5\" rx=\"54.06\" ry=\"18\"/>\n<text text-anchor=\"middle\" x=\"427.59\" y=\"-38.23\" font-family=\"arial\" font-size=\"12.00\">1 [QUERY]&#45;1</text>\n</g>\n<!-- 1 [MATCH to KEYS]&#45;1 -->\n<g id=\"node4\" class=\"node\">\n<title>1 [MATCH to KEYS]&#45;1</title>\n<ellipse fill=\"none\" stroke=\"black\" cx=\"508.59\" cy=\"-114.5\" rx=\"84.59\" ry=\"18\"/>\n<text text-anchor=\"middle\" x=\"508.59\" y=\"-110.22\" font-family=\"arial\" font-size=\"12.00\">1 [MATCH to KEYS]&#45;1</text>\n</g>\n<!-- 1 [QUERY]&#45;1&#45;&gt;1 [MATCH to KEYS]&#45;1 -->\n<g id=\"edge1\" class=\"edge\">\n<title>1 [QUERY]&#45;1&#45;&gt;1 [MATCH to KEYS]&#45;1</title>\n<path fill=\"none\" stroke=\"black\" d=\"M447.2,-60.45C457.25,-69.13 469.66,-79.86 480.69,-89.39\"/>\n<polygon fill=\"black\" stroke=\"black\" points=\"478.16,-91.83 488.02,-95.72 482.74,-86.53 478.16,-91.83\"/>\n</g>\n<!-- 1 [QUERY]&#45;1&#45;&gt;STORE&#45;1 -->\n<g id=\"edge13\" class=\"edge\">\n<title>1 [QUERY]&#45;1&#45;&gt;STORE&#45;1</title>\n<path fill=\"none\" stroke=\"black\" d=\"M390.07,-56.83C356.83,-68.64 308.31,-85.88 273.53,-98.24\"/>\n<polygon fill=\"black\" stroke=\"black\" points=\"272.43,-94.92 264.18,-101.56 274.78,-101.51 272.43,-94.92\"/>\n</g>\n<!-- 1 [WEIGHTED MATCH]&#45;1 -->\n<g id=\"node5\" class=\"node\">\n<title>1 [WEIGHTED MATCH]&#45;1</title>\n<ellipse fill=\"none\" stroke=\"black\" cx=\"534.59\" cy=\"-186.5\" rx=\"96.99\" ry=\"18\"/>\n<text text-anchor=\"middle\" x=\"534.59\" y=\"-182.22\" font-family=\"arial\" font-size=\"12.00\">1 [WEIGHTED MATCH]&#45;1</text>\n</g>\n<!-- 1 [MATCH to KEYS]&#45;1&#45;&gt;1 [WEIGHTED MATCH]&#45;1 -->\n<g id=\"edge2\" class=\"edge\">\n<title>1 [MATCH to KEYS]&#45;1&#45;&gt;1 [WEIGHTED MATCH]&#45;1</title>\n<path fill=\"none\" stroke=\"black\" d=\"M515.02,-132.8C517.82,-140.35 521.18,-149.38 524.31,-157.82\"/>\n<polygon fill=\"black\" stroke=\"black\" points=\"520.95,-158.82 527.71,-166.98 527.51,-156.38 520.95,-158.82\"/>\n</g>\n<!-- COMBINE MATCHES&#45;1 -->\n<g id=\"node7\" class=\"node\">\n<title>COMBINE MATCHES&#45;1</title>\n<ellipse fill=\"none\" stroke=\"black\" cx=\"428.59\" cy=\"-258.5\" rx=\"91.75\" ry=\"18\"/>\n<text text-anchor=\"middle\" x=\"428.59\" y=\"-254.22\" font-family=\"arial\" font-size=\"12.00\">COMBINE MATCHES&#45;1</text>\n</g>\n<!-- 1 [WEIGHTED MATCH]&#45;1&#45;&gt;COMBINE MATCHES&#45;1 -->\n<g id=\"edge4\" class=\"edge\">\n<title>1 [WEIGHTED MATCH]&#45;1&#45;&gt;COMBINE MATCHES&#45;1</title>\n<path fill=\"none\" stroke=\"black\" d=\"M509.2,-204.27C495.43,-213.36 478.22,-224.73 463.24,-234.62\"/>\n<polygon fill=\"black\" stroke=\"black\" points=\"461.45,-231.6 455.04,-240.04 465.31,-237.45 461.45,-231.6\"/>\n</g>\n<!-- 1 [WEIGHT]&#45;1 -->\n<g id=\"node6\" class=\"node\">\n<title>1 [WEIGHT]&#45;1</title>\n<ellipse fill=\"none\" stroke=\"black\" cx=\"668.59\" cy=\"-114.5\" rx=\"57.4\" ry=\"18\"/>\n<text text-anchor=\"middle\" x=\"668.59\" y=\"-110.22\" font-family=\"arial\" font-size=\"12.00\">1 [WEIGHT]&#45;1</text>\n</g>\n<!-- 1 [WEIGHT]&#45;1&#45;&gt;1 [WEIGHTED MATCH]&#45;1 -->\n<g id=\"edge3\" class=\"edge\">\n<title>1 [WEIGHT]&#45;1&#45;&gt;1 [WEIGHTED MATCH]&#45;1</title>\n<path fill=\"none\" stroke=\"black\" d=\"M639.84,-130.52C621.29,-140.21 596.86,-152.97 576.2,-163.76\"/>\n<polygon fill=\"black\" stroke=\"black\" points=\"574.68,-160.61 567.44,-168.34 577.93,-166.81 574.68,-160.61\"/>\n</g>\n<!-- RETRIEVE&#45;1 -->\n<g id=\"node11\" class=\"node\">\n<title>RETRIEVE&#45;1</title>\n<ellipse fill=\"none\" stroke=\"black\" cx=\"428.59\" cy=\"-330.5\" rx=\"55.97\" ry=\"18\"/>\n<text text-anchor=\"middle\" x=\"428.59\" y=\"-326.23\" font-family=\"arial\" font-size=\"12.00\">RETRIEVE&#45;1</text>\n</g>\n<!-- COMBINE MATCHES&#45;1&#45;&gt;RETRIEVE&#45;1 -->\n<g id=\"edge9\" class=\"edge\">\n<title>COMBINE MATCHES&#45;1&#45;&gt;RETRIEVE&#45;1</title>\n<path fill=\"none\" stroke=\"black\" d=\"M428.59,-276.8C428.59,-284.09 428.59,-292.77 428.59,-300.96\"/>\n<polygon fill=\"black\" stroke=\"black\" points=\"425.09,-300.88 428.59,-310.88 432.09,-300.88 425.09,-300.88\"/>\n</g>\n<!-- 2 [WEIGHTED MATCH]&#45;1 -->\n<g id=\"node8\" class=\"node\">\n<title>2 [WEIGHTED MATCH]&#45;1</title>\n<ellipse fill=\"none\" stroke=\"black\" cx=\"322.59\" cy=\"-186.5\" rx=\"96.99\" ry=\"18\"/>\n<text text-anchor=\"middle\" x=\"322.59\" y=\"-182.22\" font-family=\"arial\" font-size=\"12.00\">2 [WEIGHTED MATCH]&#45;1</text>\n</g>\n<!-- 2 [WEIGHTED MATCH]&#45;1&#45;&gt;COMBINE MATCHES&#45;1 -->\n<g id=\"edge5\" class=\"edge\">\n<title>2 [WEIGHTED MATCH]&#45;1&#45;&gt;COMBINE MATCHES&#45;1</title>\n<path fill=\"none\" stroke=\"black\" d=\"M347.98,-204.27C361.75,-213.36 378.96,-224.73 393.94,-234.62\"/>\n<polygon fill=\"black\" stroke=\"black\" points=\"391.87,-237.45 402.15,-240.04 395.73,-231.6 391.87,-237.45\"/>\n</g>\n<!-- 2 [MATCH to KEYS]&#45;1&#45;&gt;2 [WEIGHTED MATCH]&#45;1 -->\n<g id=\"edge7\" class=\"edge\">\n<title>2 [MATCH to KEYS]&#45;1&#45;&gt;2 [WEIGHTED MATCH]&#45;1</title>\n<path fill=\"none\" stroke=\"black\" d=\"M132.75,-129.67C169.88,-140.58 221.46,-155.76 261.49,-167.53\"/>\n<polygon fill=\"black\" stroke=\"black\" points=\"260.42,-170.86 271,-170.33 262.39,-164.15 260.42,-170.86\"/>\n</g>\n<!-- 2 [WEIGHT]&#45;1 -->\n<g id=\"node10\" class=\"node\">\n<title>2 [WEIGHT]&#45;1</title>\n<ellipse fill=\"none\" stroke=\"black\" cx=\"348.59\" cy=\"-114.5\" rx=\"57.4\" ry=\"18\"/>\n<text text-anchor=\"middle\" x=\"348.59\" y=\"-110.22\" font-family=\"arial\" font-size=\"12.00\">2 [WEIGHT]&#45;1</text>\n</g>\n<!-- 2 [WEIGHT]&#45;1&#45;&gt;2 [WEIGHTED MATCH]&#45;1 -->\n<g id=\"edge8\" class=\"edge\">\n<title>2 [WEIGHT]&#45;1&#45;&gt;2 [WEIGHTED MATCH]&#45;1</title>\n<path fill=\"none\" stroke=\"black\" d=\"M342.16,-132.8C339.36,-140.35 336.01,-149.38 332.87,-157.82\"/>\n<polygon fill=\"black\" stroke=\"black\" points=\"329.67,-156.38 329.47,-166.98 336.23,-158.82 329.67,-156.38\"/>\n</g>\n<!-- 1 [RETRIEVED]&#45;1 -->\n<g id=\"node12\" class=\"node\">\n<title>1 [RETRIEVED]&#45;1</title>\n<ellipse fill=\"none\" stroke=\"red\" stroke-width=\"3\" cx=\"267.59\" cy=\"-402.5\" rx=\"71.71\" ry=\"18\"/>\n<text text-anchor=\"middle\" x=\"267.59\" y=\"-398.23\" font-family=\"arial\" font-size=\"12.00\">1 [RETRIEVED]&#45;1</text>\n</g>\n<!-- RETRIEVE&#45;1&#45;&gt;1 [RETRIEVED]&#45;1 -->\n<g id=\"edge10\" class=\"edge\">\n<title>RETRIEVE&#45;1&#45;&gt;1 [RETRIEVED]&#45;1</title>\n<path fill=\"none\" stroke=\"black\" d=\"M396.4,-345.5C372.93,-355.7 340.76,-369.69 314.45,-381.13\"/>\n<polygon fill=\"black\" stroke=\"black\" points=\"313.11,-377.89 305.33,-385.09 315.9,-384.31 313.11,-377.89\"/>\n</g>\n<!-- 2 [RETRIEVED]&#45;1 -->\n<g id=\"node13\" class=\"node\">\n<title>2 [RETRIEVED]&#45;1</title>\n<ellipse fill=\"none\" stroke=\"red\" stroke-width=\"3\" cx=\"428.59\" cy=\"-402.5\" rx=\"71.71\" ry=\"18\"/>\n<text text-anchor=\"middle\" x=\"428.59\" y=\"-398.23\" font-family=\"arial\" font-size=\"12.00\">2 [RETRIEVED]&#45;1</text>\n</g>\n<!-- RETRIEVE&#45;1&#45;&gt;2 [RETRIEVED]&#45;1 -->\n<g id=\"edge11\" class=\"edge\">\n<title>RETRIEVE&#45;1&#45;&gt;2 [RETRIEVED]&#45;1</title>\n<path fill=\"none\" stroke=\"black\" d=\"M428.59,-348.8C428.59,-355.79 428.59,-364.06 428.59,-371.95\"/>\n<polygon fill=\"black\" stroke=\"black\" points=\"425.09,-371.91 428.59,-381.91 432.09,-371.91 425.09,-371.91\"/>\n</g>\n<!-- 3 [RETRIEVED]&#45;1 -->\n<g id=\"node14\" class=\"node\">\n<title>3 [RETRIEVED]&#45;1</title>\n<ellipse fill=\"none\" stroke=\"red\" stroke-width=\"3\" cx=\"589.59\" cy=\"-402.5\" rx=\"71.71\" ry=\"18\"/>\n<text text-anchor=\"middle\" x=\"589.59\" y=\"-398.23\" font-family=\"arial\" font-size=\"12.00\">3 [RETRIEVED]&#45;1</text>\n</g>\n<!-- RETRIEVE&#45;1&#45;&gt;3 [RETRIEVED]&#45;1 -->\n<g id=\"edge12\" class=\"edge\">\n<title>RETRIEVE&#45;1&#45;&gt;3 [RETRIEVED]&#45;1</title>\n<path fill=\"none\" stroke=\"black\" d=\"M460.78,-345.5C484.26,-355.7 516.42,-369.69 542.73,-381.13\"/>\n<polygon fill=\"black\" stroke=\"black\" points=\"541.28,-384.31 551.85,-385.09 544.08,-377.89 541.28,-384.31\"/>\n</g>\n</g>\n</svg>\n",
      "text/plain": [
       "<graphviz.graphs.Digraph at 0x1589285d0>"
      ]
     },
     "execution_count": 138,
     "metadata": {},
     "output_type": "execute_result"
    }
   ],
   "execution_count": 138
  },
  {
   "metadata": {},
   "cell_type": "markdown",
   "source": "As you see, this way 3 is stored (and retrieved) but is not taken into account when calculating the matched similarity (it is not \"used\" to retrieve from memory).",
   "id": "625371970d464704"
  }
 ],
 "metadata": {
  "kernelspec": {
   "display_name": "Python 3",
   "language": "python",
   "name": "python3"
  },
  "language_info": {
   "codemirror_mode": {
    "name": "ipython",
    "version": 2
   },
   "file_extension": ".py",
   "mimetype": "text/x-python",
   "name": "python",
   "nbconvert_exporter": "python",
   "pygments_lexer": "ipython2",
   "version": "2.7.6"
  }
 },
 "nbformat": 4,
 "nbformat_minor": 5
}
