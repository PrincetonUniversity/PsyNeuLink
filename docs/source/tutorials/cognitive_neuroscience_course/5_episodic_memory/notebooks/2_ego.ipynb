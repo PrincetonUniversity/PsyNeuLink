{
 "cells": [
  {
   "metadata": {},
   "cell_type": "markdown",
   "source": [
    "# 5.2 Episodic Generalization Optimization - EGO\n",
    "\n",
    "## Introduction\n",
    "\n",
    "Human cognition is unique in its ability to perform a wide range of tasks and to learn new tasks quickly. Both abilities have long been associated with the acquisition of knowledge that can generalize across tasks and the flexible use of that knowledge to execute goal-directed behavior. In this tutorial, we introduce how this can emerge in a neural network by implementing the Episodic Generalization and Optimization (EGO) framework. The framework consists of an episodic memory module, which rapidly learns relationships between stimuli; a semantic pathway, which more slowly learns how stimuli map to responses; and a recurrent context module, which maintains a representation of task-relevant context information, integrates this over time, and uses it to recall context-relevant memories.\n",
    "\n",
    "![EGO](ego_model.png)\n",
    "\n",
    "The EGO framework consists of a control mechanism (context module; upper middle) and an episodic memory mechanism (bottom left). Episodic memory records conjunctions of stimuli (blue boxes), contexts (pink boxes), and observed responses (green boxes) at each time point (rows). Bidirectional arrows connect episodic memory to the stimulus, context, and output, indicating that these values can be stored in or used to query episodic memory, or retrieved from it when another field is queried. You can think of this as a more flexible dictionary that stores triplets instead of distinct key-value pairs, and allows any field (or any combinations of fields) to act as a key. The context module integrates previous context (recurrent connection) along with information about the stimulus and the context retrieved from memory.\n",
    "\n",
    "\n",
    "Here we show that the EGO framework can emulate human behavior in a specific learning environment where participants are trained on two sets of sequences involving identical states presented in different orders for different contexts. Empirical findings show that participants perform better when trained in blocks of each context than when trained interleaved:\n",
    "\n",
    "### Task: Coffe Shop World (CSW)\n",
    "\n",
    "<p align=\"center\">\n",
    "    <img src=\"https://princetonuniversity.github.io/NEU-PSY-502/_static/images/502B/computation/em/suspicious.png\" alt=\"suspicious barrista\" style=\"width:45%; margin-right:10px;\">\n",
    "    <img src=\"https://princetonuniversity.github.io/NEU-PSY-502/_static/images/502B/computation/em/gratitude.png\" alt=\"caffe graditude\" style=\"width:45%;\">\n",
    "</p>\n",
    "\n",
    "\n",
    "Imagine, you are in a city with two coffee shops, each with a different layout and different ways of ordering. In one coffee shop—called *The Suspicious Barista*—you order first, pay for the coffee, and then sit down to wait until the waiter brings your order. In the other coffee shop—called *Café Gratitude*—you sit down first, wait until the waiter comes and takes your order. You pay after finishing the coffee.\n",
    "\n",
    "This example demonstrates that many situations share similar stimuli but have different transition structures. Simple integration will help the system learn the transition structure, but it will only provide a weak cue about the difference between them due to the similarity between the situations. In other words the states --ordering, paying, and sitting down-- are very similar between the two situations and are therefore hard to distinguish. This can be overcome by differentiating the context representations associated with each setting (e.g., learning different context representations for coffee shops with paranoid vs. gullible baristas). Recent empirical work suggests that people can learn how to do this very effectively, but that this depends on the temporal structure of the environment: people do better when trained in blocks of each situation than when trained interleaved ([Beukers et al., 2023](https://www.nature.com/articles/s44271-024-00079-4)).\n",
    "\n",
    "We start with creating a dataset for the CSW task.\n",
    "\n",
    "**Installation and Setup**\n",
    "> If the following cell fails to execute, please restart the kernel (or session) and run the cell again. This is a known issue when running in google colab.\n"
   ],
   "id": "6936d71e860dbac3"
  },
  {
   "metadata": {},
   "cell_type": "code",
   "outputs": [],
   "execution_count": null,
   "source": [
    "%%capture\n",
    "%pip install psyneulink\n",
    "\n",
    "import psyneulink as pnl\n",
    "import random"
   ],
   "id": "1e6cc8b2fba9020c"
  },
  {
   "metadata": {},
   "cell_type": "markdown",
   "source": [
    "## Generating data for the CSW task\n",
    "\n",
    "We start by generating a dataset for the CSW task. The dataset consists of sequences of states. The task is to predict the next state given the current state and the context. The transition between states is determined by the context which in turn is determined by the \"first\" state in the sequence. The following figure illustrates the task structure:\n",
    "\n",
    "![EGO](csw.png)\n",
    "\n",
    "On the ***left*** side of the figure, you can see the task structure:\n",
    "\n",
    "The two colors represent different contexts: blue and orange.\n",
    "\n",
    "- If the first observed state in a sequence is 0, the participant is in the blue context.\n",
    "    - The next state can be either 1 or 2.\n",
    "    - From then on, transitions are deterministic:\n",
    "        - 1 → 3 → 5 → 7\n",
    "        - 2 → 4 → 6 → 8\n",
    "\n",
    "\n",
    "- If the first observed state is 9, the participant is in the orange context.\n",
    "    - The sequence starts with either 1 or 2, but follows a different transition pattern:\n",
    "        - 1 → 4 → 5 → 8\n",
    "        - 2 → 3 → 6 → 7\n",
    "\n"
   ],
   "id": "983fdfb6ee2c0be"
  },
  {
   "metadata": {},
   "cell_type": "markdown",
   "source": [
    "The ***right*** side of the figure shows the different learning paradigms:\n",
    "\n",
    "In the **blocked** paradigm, participants are trained on blocks of the same context. In the **interleaved** paradigm, participants are trained on a mix of contexts. In the **test** paradigm, participants are tested on a sequence of random contexts."
   ],
   "id": "353751e2afd755a6"
  },
  {
   "metadata": {},
   "cell_type": "markdown",
   "source": "We start with defining a function that generates a context-specific sequence:",
   "id": "ff4bf09ca72baf3a"
  },
  {
   "metadata": {},
   "cell_type": "code",
   "outputs": [],
   "execution_count": null,
   "source": [
    "def gen_context(\n",
    "    context: int,\n",
    "    start_state: int,\n",
    "):\n",
    "    \"\"\"\n",
    "    Generate a context-specific sequence.\n",
    "    Args:\n",
    "        context (int): The context to generate the sequence for. (0 or 9)\n",
    "        start_state (int): The first state in the sequence. (1 or 2)\n",
    "    \"\"\"\n",
    "    seq = [context, start_state]\n",
    "    if context == 0:\n",
    "        for _ in range(3):\n",
    "            seq.append(seq[-1] + 2)\n",
    "    elif context == 9:\n",
    "        for _ in range(3):\n",
    "            seq.append(seq[-1] + 1 if seq[-1] % 2 == 0 else seq[-1] + 3)\n",
    "    return seq\n",
    "\n",
    "\"\"\"Test the function\"\"\"\n",
    "assert gen_context(0, 1) == [0, 1, 3, 5, 7]\n",
    "assert gen_context(9, 2) == [9, 2, 3, 6, 7]"
   ],
   "id": "52ce9e5a6024b229"
  },
  {
   "metadata": {},
   "cell_type": "markdown",
   "source": "Generate a full dataset for the CSW task. Now, let's create a function that returns the full trial sequence for a given paradigm and number of samples.",
   "id": "971302fa60347caf"
  },
  {
   "metadata": {},
   "cell_type": "code",
   "outputs": [],
   "execution_count": null,
   "source": [
    "# Define the paradigms\n",
    "BLOCKED = 'blocked'\n",
    "INTERLEAVED = 'interleaved'\n",
    "\n",
    "\n",
    "def gen_context_sequences(\n",
    "        paradigm: str,\n",
    "        train_contexts: int,\n",
    "        test_contexts: int,\n",
    "        block_size: int = 4,\n",
    "):\n",
    "    \"\"\"\n",
    "    Generate a dataset for the CSW task.\n",
    "    Args:\n",
    "        paradigm (str): The paradigm to generate the dataset for. (blocked or interleaved)\n",
    "        train_contexts (int): The number of training contexts.\n",
    "        test_contexts (int): The number of test contexts.\n",
    "        block_size (int): The size of each block in the blocked paradigm.\n",
    "    \"\"\"\n",
    "    assert train_contexts % block_size == 0, \"The number of training samples must be a multiple of block_size.\"\n",
    "    x = []\n",
    "    if paradigm == INTERLEAVED:\n",
    "        for idx in range(train_contexts):\n",
    "            if idx % 2: # odd contexts -> context 0\n",
    "                x += [gen_context(0, random.randint(1, 2))]\n",
    "            else: # even contexts -> context 9\n",
    "                x += [gen_context(9, random.randint(1, 2))]\n",
    "\n",
    "    if paradigm == BLOCKED:\n",
    "        for i in range(block_size): # block_size number of blocks\n",
    "            if i % 2: # odd blocks -> context 0\n",
    "                for _ in range(train_contexts // block_size):\n",
    "                    x += [gen_context(0, random.randint(1, 2))]\n",
    "            else: # even blocks -> context 9\n",
    "                for _ in range(train_contexts // block_size):\n",
    "                    x += [gen_context(9, random.randint(1, 2))]\n",
    "\n",
    "    for _ in range(test_contexts):\n",
    "        x += [gen_context(random.choice([0, 9]), random.randint(1, 2))]\n",
    "    return x\n",
    "\n",
    "\n",
    "context_sequences = gen_context_sequences(BLOCKED, 8, 4)\n",
    "context_sequences"
   ],
   "id": "434b42462256cc42"
  },
  {
   "metadata": {},
   "cell_type": "markdown",
   "source": "The structure of the generated sequence is not \"realistic\" yet. The participant doesn't *see* distinct contexts but rather states. We need to \"flatten\" the sequence. Also, we instead of using integers to represent the states, we will use one-hot encoding:",
   "id": "2f9b8cae4dc52185"
  },
  {
   "metadata": {},
   "cell_type": "code",
   "outputs": [],
   "execution_count": null,
   "source": [
    "def one_hot_encode(\n",
    "        label: int,\n",
    "        num_classes: int):\n",
    "    \"\"\"\n",
    "    One hot encode a label (integer)\n",
    "    Args:\n",
    "        label (int): The label to encode (between 0 and num_classes-1)\n",
    "        num_classes (int): The number of classes\n",
    "    \"\"\"\n",
    "    return [1 if i == label else 0 for i in range(num_classes)]\n",
    "\n",
    "\n",
    "def state_sequence(\n",
    "        paradigm: str,\n",
    "        train_trials: int,\n",
    "        test_trials: int,\n",
    "        context_length: int = 5,\n",
    "        block_size: int = 4,\n",
    "):\n",
    "    \"\"\"\n",
    "    Generate a dataset for the CSW task.\n",
    "    Args:\n",
    "        paradigm (str): The paradigm to generate the dataset for. (blocked or interleaved)\n",
    "        train_trials (int): The number of training trials.\n",
    "        test_trials (int): The number of test trials.\n",
    "        context_length (int): The length of the context.\n",
    "        block_size (int): The size of each block in the blocked paradigm.\n",
    "    \"\"\"\n",
    "\n",
    "\n",
    "    assert train_trials % context_length == 0, \"The number of training samples must be a multiple of context_length.\"\n",
    "    assert test_trials % context_length == 0, \"The number of test samples must be a multiple of context_length.\"\n",
    "\n",
    "    train_contexts = train_trials // context_length\n",
    "    test_contexts = test_trials // context_length\n",
    "\n",
    "    train_context_sequences = gen_context_sequences(\n",
    "        paradigm, train_contexts, test_contexts, block_size\n",
    "    )\n",
    "\n",
    "    states = []\n",
    "    for context_sequence in train_context_sequences:\n",
    "        for state_int in context_sequence:\n",
    "            states.append(one_hot_encode(state_int, 11))\n",
    "    return states\n",
    "\n",
    "\n",
    "state_sequences = state_sequence(BLOCKED, 20, 5)\n",
    "state_sequences"
   ],
   "id": "42539999edb90463"
  },
  {
   "metadata": {},
   "cell_type": "markdown",
   "source": [
    "Exercise 1{exercise}\n",
    "\n",
    "Why do we encode the states using one-hot encoding?"
   ],
   "id": "417e9f2a204218a"
  },
  {
   "metadata": {},
   "cell_type": "markdown",
   "source": [
    "Solution 1{solution}\n",
    "\n",
    "One-hot encoding is used for categorical variables. This means states have no inherit \"order\" or can be compared using arithmetic operations in a meaningful way. One-hot encoding allows this representation as states are \"orthogonal\" to each other."
   ],
   "id": "f18e220a7aa66a10"
  },
  {
   "metadata": {},
   "cell_type": "markdown",
   "source": [
    "Exercise 2{exercise}\n",
    "\n",
    "We want to train the EGO model in a supervised manner but the generated dataset doesn't allow us to do so. Why is this the case and what do we need to do be able to train the model?"
   ],
   "id": "396e513c36a5950"
  },
  {
   "metadata": {},
   "cell_type": "markdown",
   "source": [
    "Hint 1{hint}\n",
    "\n",
    "For supervised training, we need to provide a target for each input. Think about what the target should be in this case."
   ],
   "id": "adc0fdc0df52b795"
  },
  {
   "metadata": {},
   "cell_type": "markdown",
   "source": [
    "Hint 2{hint}\n",
    "\n",
    "The task in this case, is to predict the next state given the current state.\n"
   ],
   "id": "9bc94a045abd0be1"
  },
  {
   "metadata": {},
   "cell_type": "markdown",
   "source": [
    "Solution 2{solution}\n",
    "\n",
    "The target in this case is just the next state in the sequence:\n",
    "\n",
    "```python\n",
    "x = state_sequence(BLOCKED, 20, 5)\n",
    "y = x[1:] + [one_hot_encode(0, 11)] # the last state has no next state and is arbitrary in this case either 0 or 9\n",
    "```"
   ],
   "id": "25b5ad43e546228"
  },
  {
   "metadata": {},
   "cell_type": "markdown",
   "source": [
    "## The EGO model\n",
    "\n",
    "As mentioned earlier, the EGO model consists of three main components: an episodic memory module, a semantic pathway, and a recurrent context module. `PsyNeulink` provides a EMComposition class that allows us to create the episodic memory module. The EMcomposition class is a subclass of the Composition class. A strength of the `PsyNeuLink` framework is that it allows fo the creation of complex composition that can be used as mechanism in other compositions. Here, we first look at the EMComposition class in isolation and then integrate it into the EGO model."
   ],
   "id": "68aa869f1c2977da"
  },
  {
   "metadata": {},
   "cell_type": "markdown",
   "source": [
    "### Episodic Memory Module - EMComposition\n",
    "\n",
    "![EM](em.png)\n",
    "\n",
    "Here, we initialize the EMComposition for the episodic memory shown above. The EMComposition allows for specifying the structure of the episodic memory. Remember, the task here is to predict the state from the previous state and the context. Therefore, in our case each entry in the memory consists of a triplet of states:\n",
    "\n",
    "- The current state (green box)\n",
    "- The previous state (blue box)\n",
    "- The context (pink box)\n",
    "\n",
    "Each state is represented as a vector with 11 elements (one hot encoding).\n",
    "\n",
    "Here, we also specify the specific fields. Fields have three main parameters that have to be specified as a dictionary:\n",
    "\n",
    "- `FIELD_WEIGHT`: The weight of the field when retrieving from memory\n",
    "- `LEARN_FIELD_WEIGHT`: Whether the retrieval field weight should be learned (Here, we won't learn these weights but set them)\n",
    "- `TARGET_FIELD`: Whether the field is a target field (Meaning it's \"error\" is calculated during learning)"
   ],
   "id": "7511bbd057a0d58b"
  },
  {
   "metadata": {},
   "cell_type": "markdown",
   "source": [
    "Exercise 3{exercise}\n",
    "\n",
    "Before looking at the code below, think about what to set for the FIELD_WEIGHT and the TARGET_FIELD for the three different fields (current state, previous state, and context)."
   ],
   "id": "5f93292a144bc54e"
  },
  {
   "metadata": {},
   "cell_type": "markdown",
   "source": [
    "Hint{hint}\n",
    "\n",
    "The `FIELD_WEIGHT` specifies weather a field should be used during retrieval (and how much it should be used during retrieval). It is a scalar value between 0 and 1. The `TARGET_FIELD` specifies weather a field is a target field."
   ],
   "id": "953c93ef58bc82da"
  },
  {
   "metadata": {},
   "cell_type": "markdown",
   "source": [
    "Solution{solution}\n",
    "\n",
    "The `FIELD_WEIGHT` for the current state should be `None` since it is the target field and shouldn't be used in retrieval. The `FIELD_WEIGHT` for both the previous and the context should be set to an equal value (here we set them both to 1). The `TARGET_FIELD` should be set to True for the current state and False for the previous state and the context."
   ],
   "id": "6d5b5bc04cfb79cc"
  },
  {
   "metadata": {},
   "cell_type": "code",
   "outputs": [],
   "execution_count": null,
   "source": [
    "name = 'EM'  # a name for the EMComposition\n",
    "\n",
    "# Memory parameters\n",
    "state_size = 11  # the size of the state vector\n",
    "memory_capacity = 1000  # here we set the maximum number of entries in the memory (we want to be able to store all 1000 trials)\n",
    "\n",
    "# Fields\n",
    "\n",
    "# State field\n",
    "state_name = 'STATE'\n",
    "state_retrieval_weight = None  # This entry is not used when retrieving from memory (remember, we want to predict the state)\n",
    "state_is_target = True\n",
    "\n",
    "# Previous state field\n",
    "previous_state_name = 'PREVIOUS STATE'\n",
    "previous_state_retrieval_weight = .5  # This entry is used when retrieving from memory\n",
    "previous_state_is_target = False\n",
    "\n",
    "# Context field\n",
    "context_name = 'CONTEXT'\n",
    "context_retrieval_weight = .5  # This entry is used when retrieving from memory\n",
    "context_is_target = False\n",
    "\n",
    "em = pnl.EMComposition(name=name,\n",
    "                       memory_template=[[0] * state_size,  # state\n",
    "                                        [0] * state_size,  # previous state\n",
    "                                        [0] * state_size],  # context\n",
    "                       memory_fill=.001,\n",
    "                       memory_capacity=memory_capacity,\n",
    "                       normalize_memories=False,\n",
    "                       memory_decay_rate=0,  # no decay of memory\n",
    "                       softmax_gain=10.,\n",
    "                       softmax_threshold=.001,\n",
    "                       fields={state_name: {pnl.FIELD_WEIGHT: state_retrieval_weight,\n",
    "                                            pnl.LEARN_FIELD_WEIGHT: False,\n",
    "                                            pnl.TARGET_FIELD: True},\n",
    "                               previous_state_name: {pnl.FIELD_WEIGHT: previous_state_retrieval_weight,\n",
    "                                                     pnl.LEARN_FIELD_WEIGHT: False,\n",
    "                                                     pnl.TARGET_FIELD: False},\n",
    "                               context_name: {pnl.FIELD_WEIGHT: context_retrieval_weight,\n",
    "                                              pnl.LEARN_FIELD_WEIGHT: False,\n",
    "                                              pnl.TARGET_FIELD: False}},\n",
    "\n",
    "                       normalize_field_weights=True,\n",
    "\n",
    "                       concatenate_queries=False,\n",
    "                       enable_learning=True,\n",
    "                       learning_rate=.5,\n",
    "                       device=pnl.CPU\n",
    "                       )"
   ],
   "id": "80bdfa6b05587efe"
  },
  {
   "metadata": {},
   "cell_type": "markdown",
   "source": "Let's see how the EMComposition looks like:",
   "id": "ed624d60bea5c254"
  },
  {
   "metadata": {},
   "cell_type": "code",
   "outputs": [],
   "execution_count": null,
   "source": "em.show_graph(output_fmt='jupyter')",
   "id": "f39a6f2677ec43dc"
  },
  {
   "metadata": {},
   "cell_type": "markdown",
   "source": [
    "### Input, Context, and Output Layers\n",
    "\n",
    "Next, we \"hook\" up the EMComposition to the input, output and context layer.\n",
    "\n",
    "![EGO](ego_model.png)\n",
    "\n",
    "We start with defining the layers"
   ],
   "id": "ffd700cc03a5e4d9"
  },
  {
   "metadata": {},
   "cell_type": "markdown",
   "source": [
    "Exercise 4{exercise}\n",
    "\n",
    "Before defining the layers, make sure you understand the in and output of the model:\n",
    "- Although the episodic memory composition has three \"memory slot\", our training set only consists of a stream of a single state. How can we use this single state"
   ],
   "id": "4e45b09edee93c5b"
  },
  {
   "metadata": {},
   "cell_type": "code",
   "outputs": [],
   "execution_count": null,
   "source": [
    "state_input_layer = pnl.ProcessingMechanism(name=state_name, input_shapes=state_size)\n",
    "\n",
    "previous_state_layer = pnl.ProcessingMechanism(name=previous_state_name, input_shapes=state_size)\n",
    "\n",
    "context_layer = pnl.TransferMechanism(name=context_name,\n",
    "                                  input_shapes=state_size,\n",
    "                                  function=pnl.Tanh,\n",
    "                                  integrator_mode=True,\n",
    "                                  integration_rate=.69)\n",
    "\n",
    "# The output layer:\n",
    "prediction_layer = pnl.ProcessingMechanism(name='PREDICTION', input_shapes=state_size)"
   ],
   "id": "c25f9c30298700e1"
  },
  {
   "metadata": {},
   "cell_type": "markdown",
   "source": "After defining the layers, we need to specify the pathways between the layers. Before looking at the code below, think about which pathways (if any) are learned and which ones are fixed.",
   "id": "908fb0f7b8a35b6c"
  },
  {
   "metadata": {},
   "cell_type": "code",
   "outputs": [],
   "execution_count": null,
   "source": [
    "# Names for the input nodes of the EMComposition have the form: <node_name> + ' [QUERY]' or <node_name> + ' [VALUE]' or <node_name> + ' [RETRIEVED]' (see above)\n",
    "\n",
    "QUERY = ' [QUERY]'\n",
    "VALUE = ' [VALUE]'\n",
    "RETRIEVED = ' [RETRIEVED]'\n",
    "\n",
    "# Pathways\n",
    "state_to_previous_state_pathway = [state_input_layer,\n",
    "                                   pnl.MappingProjection(matrix=pnl.IDENTITY_MATRIX,\n",
    "                                                         learnable=False),\n",
    "                                   previous_state_layer]\n",
    "state_to_context_pathway = [state_input_layer,\n",
    "                            pnl.MappingProjection(matrix=pnl.IDENTITY_MATRIX,\n",
    "                                                  learnable=False),\n",
    "                            context_layer]\n",
    "state_to_em_pathway = [state_input_layer,\n",
    "                       pnl.MappingProjection(sender=state_input_layer,\n",
    "                                             receiver=em.nodes[state_name + VALUE],\n",
    "                                             matrix=pnl.IDENTITY_MATRIX,\n",
    "                                             learnable=False),\n",
    "                       em]\n",
    "previous_state_to_em_pathway = [previous_state_layer,\n",
    "                                pnl.MappingProjection(sender=previous_state_layer,\n",
    "                                                      receiver=em.nodes[previous_state_name + QUERY],\n",
    "                                                      matrix=pnl.IDENTITY_MATRIX,\n",
    "                                                      learnable=False),\n",
    "                                em]\n",
    "context_learning_pathway = [context_layer,\n",
    "                            pnl.MappingProjection(sender=context_layer,\n",
    "                                                  matrix=pnl.IDENTITY_MATRIX,\n",
    "                                                  receiver=em.nodes[context_name + QUERY],\n",
    "                                                  learnable=True),\n",
    "                            em,\n",
    "                            pnl.MappingProjection(sender=em.nodes[state_name + RETRIEVED],\n",
    "                                                  receiver=prediction_layer,\n",
    "                                                  matrix=pnl.IDENTITY_MATRIX,\n",
    "                                                  learnable=False),\n",
    "                            prediction_layer]\n"
   ],
   "id": "a9b9d58172a789bb"
  },
  {
   "metadata": {},
   "cell_type": "markdown",
   "source": "Now, we can create the composition",
   "id": "d8118d30825fe695"
  },
  {
   "metadata": {},
   "cell_type": "code",
   "outputs": [],
   "execution_count": null,
   "source": [
    "learning_rate = .5\n",
    "loss_spec = pnl.Loss.BINARY_CROSS_ENTROPY\n",
    "model_name = 'EGO'\n",
    "device = pnl.CPU\n",
    "\n",
    "ego_model = pnl.AutodiffComposition([state_to_previous_state_pathway,\n",
    "                                    state_to_context_pathway,\n",
    "                                    state_to_em_pathway,\n",
    "                                    previous_state_to_em_pathway,\n",
    "                                    context_learning_pathway],\n",
    "                                   learning_rate=.5,\n",
    "                                   loss_spec=pnl.Loss.BINARY_CROSS_ENTROPY,\n",
    "                                   name='EGO',\n",
    "                                   device=pnl.CPU)\n",
    "\n",
    "\n",
    "ego_model.show_graph(output_fmt='jupyter')"
   ],
   "id": "f74f6389021f237c"
  },
  {
   "metadata": {},
   "cell_type": "markdown",
   "source": "We also need to specify the learning pathway, which can be inferred from the paramaters we have set (setting the target in EMComposition and setting the context to em pathway as learnable):",
   "id": "228f7d93ad077102"
  },
  {
   "metadata": {},
   "cell_type": "code",
   "outputs": [],
   "execution_count": null,
   "source": [
    "learning_components = ego_model.infer_backpropagation_learning_pathways(pnl.ExecutionMode.PyTorch)\n",
    "\n",
    "ego_model.add_projection(pnl.MappingProjection(sender=state_input_layer,\n",
    "                                              receiver=learning_components[0],\n",
    "                                              learnable=False))"
   ],
   "id": "f55f69f67b07617e"
  },
  {
   "metadata": {},
   "cell_type": "markdown",
   "source": "We also have to make sure the em is executed before the previous state and the context layer:",
   "id": "f78ef43ada017a35"
  },
  {
   "metadata": {},
   "cell_type": "code",
   "outputs": [],
   "execution_count": null,
   "source": "ego_model.scheduler.add_condition(em, pnl.BeforeNodes(previous_state_layer, context_layer))",
   "id": "ae0fca835cd08cc0"
  },
  {
   "metadata": {},
   "cell_type": "markdown",
   "source": "Now, we are set to run the model:",
   "id": "fbb0204bdf1ce3d6"
  },
  {
   "metadata": {},
   "cell_type": "code",
   "outputs": [],
   "execution_count": null,
   "source": [
    "trials = state_sequence(BLOCKED, 800, 200)\n",
    "\n",
    "ego_model.learn(inputs={state_name: trials},\n",
    "                    learning_rate=.5,\n",
    "                    execution_mode= pnl.ExecutionMode.PyTorch,\n",
    "                  )"
   ],
   "id": "d3b23ffaa43ee72f"
  },
  {
   "metadata": {},
   "cell_type": "code",
   "outputs": [],
   "execution_count": null,
   "source": [
    "import matplotlib.pyplot as plt\n",
    "import numpy as np\n",
    "\n",
    "TOTAL_NUM_STIMS = len(trials)\n",
    "TARGETS = np.array(trials[1:] + [one_hot_encode(0, 11)])\n",
    "curriculum_type = BLOCKED\n",
    "\n",
    "fig, axes = plt.subplots(1, 1, figsize=(12, 5))\n",
    "# L1 of loss\n",
    "axes.plot((np.abs(ego_model.results[1:TOTAL_NUM_STIMS, 2] - TARGETS[:TOTAL_NUM_STIMS - 1])).sum(-1))\n",
    "axes.set_xlabel('Stimuli')\n",
    "axes.set_ylabel('Loss')\n",
    "\n",
    "plt.suptitle(f\"{curriculum_type} Training\")\n",
    "plt.show()"
   ],
   "id": "71b1aebdc3e1cbf7"
  },
  {
   "metadata": {},
   "cell_type": "markdown",
   "source": [
    "Exercise 4{exercise}\n",
    "\n",
    "Run the model for the interleaved paradigm. What do you expect? Compare the two results and explain the differences."
   ],
   "id": "941ad9b36cd6ac30"
  }
 ],
 "metadata": {
  "kernelspec": {
   "display_name": "Python 3",
   "language": "python",
   "name": "python3"
  },
  "language_info": {
   "codemirror_mode": {
    "name": "ipython",
    "version": 2
   },
   "file_extension": ".py",
   "mimetype": "text/x-python",
   "name": "python",
   "nbconvert_exporter": "python",
   "pygments_lexer": "ipython2",
   "version": "2.7.6"
  }
 },
 "nbformat": 4,
 "nbformat_minor": 5
}
